{
 "cells": [
  {
   "cell_type": "markdown",
   "metadata": {
    "collapsed": true,
    "pycharm": {
     "name": "#%% md\n"
    }
   },
   "source": [
    "# *ORF7a*\n",
    "\n",
    "## 1 - Obtenção da Sequência\n",
    "Foi utilizado o *site* do [Ensembl](https://covid-19.ensembl.org/Sars_cov_2/Transcript/Summary?db=core;g=ENSSASG00005000009;r=MN908947.3:21563-25384;t=ENSSAST00005000009), para obter a hiperligação para o UniProt, [P0DTC7](https://covid-19.uniprot.org/uniprotkb/P0DTC7).\n",
    "Foi feito o download em formato FASTA da isoforma P0DTC7, que é a sequência canónica.\n",
    "\n",
    "## 2 - Estruturas Secundárias\n",
    "Foi selecionado o organismo Severe acute respiratory syndrome coronavirus 2 (SARS-CoV-2) e como foram obtidos bastantes resultados possíveis, escolhemos a proteína com o identificador [6W37](http://www.rcsb.org/structure/6W37), pois era a única que cumpria com os requisitos de pertencer ao organismo pretendido.\n",
    "Ao observar a representação 3D da proteína concluímos que a estrutura secundária desta é composta por folhas-beta.\n",
    "\n",
    "## 3 - Domínios da Proteína\n",
    "Foi utilizada a ferramenta Phobius para prever os domínios que esta proteína possui. Verificámos, na previsão, a existência de um domínio pétido sinal, um domínio não citoplasmático, um domínio transmembranar e um domínio citoplasmático.\n",
    "\n",
    "\n",
    "![Figura 1 - Previsão dos diferentes domínios da proteína ORF7a](phobius_ORF7a.png)"
   ]
  },
  {
   "cell_type": "code",
   "execution_count": null,
   "outputs": [],
   "source": [
    "ID   sp|P0DTC7|NS7A_SARS2\n",
    "FT   SIGNAL        1     15\n",
    "FT   DOMAIN        1      2       N-REGION.\n",
    "FT   DOMAIN        3     10       H-REGION.\n",
    "FT   DOMAIN       11     15       C-REGION.\n",
    "FT   DOMAIN       16     95       NON CYTOPLASMIC.\n",
    "FT   TRANSMEM     96    116\n",
    "FT   DOMAIN      117    121       CYTOPLASMIC.\n",
    "//"
   ],
   "metadata": {
    "collapsed": false,
    "pycharm": {
     "name": "#%%\n"
    }
   }
  },
  {
   "cell_type": "markdown",
   "source": [
    "## 4 - Localização da Proteína\n",
    "Utilizando a ferramenta Virus-mPLoc foi previsto que a localização desta proteína seja no retículo endoplasmático do hospedeiro.\n",
    "\n",
    "## 5 - Locais de Glicosilação\n",
    "Não encontrámos ferramentas que fizessem a previsão dos locais de glicosilação de uma forma fiável. A única ferramenta encontrada foi [HCV sequence database](https://hcv.lanl.gov/content/sequence/GLYCOSITE/glycosite.html) e visto que a ferramenta NetNGlyc 1.0 Server só pode ser utilizada em proteínas humanas, não é possível aplicar no gene ORF7a.\n",
    "\n",
    "## 6 - Locais de Fosforilação\n",
    "Não encontrámos ferramentas que fizessem a previsão dos locais de fosforilação e visto que a ferramenta NetPhos só dá para utilizar em organismos eucariontes ou em bactérias, não é possível aplicar no gene ORF7a."
   ],
   "metadata": {
    "collapsed": false
   }
  }
 ],
 "metadata": {
  "kernelspec": {
   "display_name": "Python 3",
   "language": "python",
   "name": "python3"
  },
  "language_info": {
   "codemirror_mode": {
    "name": "ipython",
    "version": 2
   },
   "file_extension": ".py",
   "mimetype": "text/x-python",
   "name": "python",
   "nbconvert_exporter": "python",
   "pygments_lexer": "ipython2",
   "version": "2.7.6"
  }
 },
 "nbformat": 4,
 "nbformat_minor": 0
}