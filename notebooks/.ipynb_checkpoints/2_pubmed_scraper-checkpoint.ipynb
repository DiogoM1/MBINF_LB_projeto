{
 "cells": [
  {
   "cell_type": "markdown",
   "metadata": {
    "collapsed": true,
    "pycharm": {
     "name": "#%% md\n"
    }
   },
   "source": [
    "# 1 - Pesquisa automatizada do Pubmed\n",
    "\n",
    "No âmbito do trabalho surgiu a necessidade de obter de forma sistémica um resumo da literatura disponível sobre os diferentes genes/proteínas em estudo.\n",
    "\n",
    "Esta ferramenta foi então desenvolvida de forma a permitir fazer variações de cada pesquisa, por ex: funções de um gene, ou associações a uma patologia.\n",
    "\n",
    "## Definição de critérios de pesquisa\n",
    "\n",
    "Definimos os termos a pesquisar como os 3 diferentes genes escolhidos pelo grupo, e para cada um procurar artigos que foquem em aspetos genéricos, função e associação à patologia *Sars-Cov_2*."
   ]
  },
  {
   "cell_type": "code",
   "execution_count": 19,
   "metadata": {
    "pycharm": {
     "name": "#%%\n"
    }
   },
   "outputs": [],
   "source": [
    "search_keywords = [\"generic\", \"function\", \"sars-cov-2\"]\n",
    "genes = [\"ORF7a\", \"BST2\", \"ITGAL\"]"
   ]
  },
  {
   "cell_type": "markdown",
   "metadata": {
    "pycharm": {
     "name": "#%% md\n"
    }
   },
   "source": [
    "## Modulo *'pubmed.py'*\n",
    "\n",
    "### *search_articles()* - Pesquisa de artigos\n",
    "\n",
    "Este método vai itenerar sobre a lista de *search_keywords* adicionando-as ao termo mãe, que no nosso caso são os genes, à exceção de *generic* que pesquisa unicamente o termo mãe.\n",
    "\n",
    "Em termos de critérios de filtragem a função permite mudar por exemplo em que materiais a pesquisa é feita (titulos, nomes de autores, etc) sendo o nosso default 'WORD' e 'TIAB', além de 'LANG' para a lingua inglesa.\n",
    "Filtra também o contéudo aos ultimos cinco anos e organiza por \"Best Match\"\n",
    "\n",
    "Internamente cada pesquisa devolve uma lista dos 20 primeiros resultados, sendo que as pesquisas no fim agregadas pelo seu código PMID, marcadas as *search_keywords* em que a pesquisa devolveu este artigo. agregando assim os duplicados."
   ]
  },
  {
   "cell_type": "code",
   "execution_count": 20,
   "metadata": {
    "pycharm": {
     "name": "#%%\n"
    }
   },
   "outputs": [
    {
     "name": "stdout",
     "output_type": "stream",
     "text": [
      "33305306 :  {'search_keywords': ['generic']}\n",
      "33227343 :  {'search_keywords': ['generic', 'sars-cov-2']}\n",
      "33195401 :  {'search_keywords': ['generic', 'sars-cov-2']}\n",
      "33163695 :  {'search_keywords': ['generic', 'sars-cov-2']}\n",
      "33161087 :  {'search_keywords': ['generic', 'sars-cov-2']}\n",
      "33024967 :  {'search_keywords': ['generic', 'function', 'sars-cov-2']}\n",
      "32971122 :  {'search_keywords': ['generic', 'sars-cov-2']}\n",
      "32935103 :  {'search_keywords': ['generic', 'sars-cov-2']}\n",
      "32929412 :  {'search_keywords': ['generic', 'sars-cov-2']}\n",
      "32869027 :  {'search_keywords': ['generic', 'sars-cov-2']}\n",
      "32814791 :  {'search_keywords': ['generic', 'sars-cov-2']}\n",
      "32773420 :  {'search_keywords': ['generic', 'sars-cov-2']}\n",
      "32754056 :  {'search_keywords': ['generic', 'sars-cov-2']}\n",
      "32713862 :  {'search_keywords': ['generic', 'sars-cov-2']}\n",
      "32691005 :  {'search_keywords': ['generic', 'sars-cov-2']}\n",
      "32623351 :  {'search_keywords': ['generic', 'sars-cov-2']}\n",
      "32615316 :  {'search_keywords': ['generic', 'sars-cov-2']}\n",
      "32547891 :  {'search_keywords': ['generic', 'function', 'sars-cov-2']}\n",
      "32511591 :  {'search_keywords': ['generic', 'sars-cov-2']}\n",
      "32511297 :  {'search_keywords': ['generic', 'sars-cov-2']}\n",
      "26378163 :  {'search_keywords': ['function']}\n",
      "23054027 :  {'search_keywords': ['function']}\n",
      "16328780 :  {'search_keywords': ['function']}\n",
      "15740663 :  {'search_keywords': ['function']}\n",
      "15642263 :  {'search_keywords': ['function']}\n",
      "32357959 :  {'search_keywords': ['sars-cov-2']}\n"
     ]
    }
   ],
   "source": [
    "from scripts.pubmed import search_articles\n",
    "\n",
    "result = search_articles(\"ORF7a\", search_keywords)\n",
    "\n",
    "for PMID in result.keys():\n",
    "    print(PMID, \": \", result[PMID])"
   ]
  },
  {
   "cell_type": "markdown",
   "metadata": {
    "pycharm": {
     "name": "#%% md\n"
    }
   },
   "source": [
    "### *fetch_article()* - Recolha de artigos\n",
    "\n",
    "Depois de identificados os PMID dos diferentes artigos foi necessário criar um método que devolvesse o contéudo necessário destes.\n",
    "\n",
    "Este devolve um dicionário com o título, endereço web do artigo e abstract."
   ]
  },
  {
   "cell_type": "code",
   "execution_count": 21,
   "metadata": {
    "pycharm": {
     "name": "#%%\n"
    }
   },
   "outputs": [
    {
     "name": "stdout",
     "output_type": "stream",
     "text": [
      "title :  Structural assessment of SARS-CoV2 accessory protein ORF7a predicts LFA-1 and Mac-1 binding potential.\n",
      "web_address :  https://pubmed.ncbi.nlm.nih.gov/33305306/\n",
      "abstract :  ORF7a is an accessory protein common to SARS-CoV1 and the recently discovered SARS-CoV2, which is causing the COVID19 pandemic. The ORF7a protein has a structural homology with ICAM-1 which binds to the T lymphocyte integrin receptor LFA-1. As COVID19 has a strong immune component as part of the disease, we sought to determine whether SARS-CoV2 would have a similar structural interaction with LFA-1. Using molecular docking simulations, we found that SARS-CoV2 ORF7a has the key structural determinants required to bind LFA-1 but also the related leukocyte integrin Mac-1, which is also known to be expressed by macrophages. Our study shows that SARS-CoV2 ORF7a protein has a conserved Ig immunoglobulin-like fold containing an integrin binding site that provides a mechanistic hypothesis for SARS-CoV2's interaction with the human immune system. This suggests that experimental investigation of ORF7a mediated effects on immune cells such as T lymphocytes and macrophages (leukocytes) could help understand the disease further and develop effective treatments.\n"
     ]
    }
   ],
   "source": [
    "from scripts.pubmed import fetch_article\n",
    "\n",
    "result = fetch_article(33305306)\n",
    "\n",
    "for key in result.keys():\n",
    "    print(key, \": \", result[key])"
   ]
  },
  {
   "cell_type": "markdown",
   "metadata": {
    "pycharm": {
     "name": "#%% md\n"
    }
   },
   "source": [
    "### *search_fetch_articles()* - Agregação de informações dos artigos para uma pesquisa\n",
    "\n",
    "Com base nos dois métodos anteriormente desenvolvidos, foi então possível criar um único que permitisse tanto pesquisar como recolher os dados.\n",
    "\n",
    "Esta percorre a estrutura de dados devolvida pela *search_articles()* e adiciona para cada *PMID* os restantes dados obtidos pela *fetch_article()*."
   ]
  },
  {
   "cell_type": "code",
   "execution_count": 22,
   "metadata": {
    "pycharm": {
     "name": "#%%\n"
    }
   },
   "outputs": [
    {
     "name": "stdout",
     "output_type": "stream",
     "text": [
      "search_keywords :  ['generic']\n",
      "title :  Structural assessment of SARS-CoV2 accessory protein ORF7a predicts LFA-1 and Mac-1 binding potential.\n",
      "web_address :  https://pubmed.ncbi.nlm.nih.gov/33305306/\n",
      "abstract :  ORF7a is an accessory protein common to SARS-CoV1 and the recently discovered SARS-CoV2, which is causing the COVID19 pandemic. The ORF7a protein has a structural homology with ICAM-1 which binds to the T lymphocyte integrin receptor LFA-1. As COVID19 has a strong immune component as part of the disease, we sought to determine whether SARS-CoV2 would have a similar structural interaction with LFA-1. Using molecular docking simulations, we found that SARS-CoV2 ORF7a has the key structural determinants required to bind LFA-1 but also the related leukocyte integrin Mac-1, which is also known to be expressed by macrophages. Our study shows that SARS-CoV2 ORF7a protein has a conserved Ig immunoglobulin-like fold containing an integrin binding site that provides a mechanistic hypothesis for SARS-CoV2's interaction with the human immune system. This suggests that experimental investigation of ORF7a mediated effects on immune cells such as T lymphocytes and macrophages (leukocytes) could help understand the disease further and develop effective treatments.\n",
      "26\n"
     ]
    }
   ],
   "source": [
    "from scripts.pubmed import search_fetch_articles\n",
    "\n",
    "result = search_fetch_articles(\"ORF7a\", search_keywords)\n",
    "\n",
    "# Primeiro Artigo\n",
    "for key in result['33305306'].keys():\n",
    "    print(key, \": \", result['33305306'][key])\n",
    "\n",
    "# Nº de artigos\n",
    "print(len(result))\n"
   ]
  },
  {
   "cell_type": "markdown",
   "metadata": {
    "pycharm": {
     "name": "#%% md\n"
    }
   },
   "source": [
    "### *search_print_articles()* - Agregação e Arquivo de informações dos artigos para uma pesquisa\n",
    "\n",
    "Este método corre o *search_fetch_articles()* e faz output de um ficheiros de *markdown* na diretoria escolhida. Isto permite um arquivo para uma certa data dos resultados. Por esta razão a fução cria também uma *time stamp* no nome do ficheiro."
   ]
  },
  {
   "cell_type": "code",
   "execution_count": 23,
   "metadata": {
    "pycharm": {
     "name": "#%%\n"
    }
   },
   "outputs": [
    {
     "name": "stdout",
     "output_type": "stream",
     "text": [
      "../scripts/tests_data/ORF7a_search_results_2020-12-21.md\n"
     ]
    }
   ],
   "source": [
    "from scripts.pubmed import search_print_articles\n",
    "\n",
    "result = search_print_articles(\"ORF7a\", search_keywords, file=\"../scripts/tests_data/{0}_search_results.md\".format(\"ORF7a\"))"
   ]
  },
  {
   "cell_type": "markdown",
   "metadata": {
    "pycharm": {
     "name": "#%% md\n"
    }
   },
   "source": [
    "## Resultados\n",
    "\n",
    "O método *search_print_articles()* pode ser então itenerado para todos os nossos genes de interesse, produzindo um conjunto de ficheiros com o output das diferentes pesquisas feitas para cada gene.\n",
    "\n",
    "Estes podem ser consultados em [Resultados](https://github.com/DiogoM1/MBINF_LB_projeto/tree/main/data)."
   ]
  },
  {
   "cell_type": "code",
   "execution_count": 25,
   "metadata": {
    "pycharm": {
     "name": "#%%\n"
    }
   },
   "outputs": [
    {
     "name": "stdout",
     "output_type": "stream",
     "text": [
      "../data/ORF7a_search_results_2020-12-21.md\n",
      "../data/BST2_search_results_2020-12-21.md\n",
      "../data/ITGAL_search_results_2020-12-21.md\n"
     ]
    }
   ],
   "source": [
    "for gene in genes:\n",
    "    search_print_articles(search_term=gene, search_keywords=search_keywords, file=\"../data/{0}_search_results.md\".format(gene))\n",
    "\n",
    "\n"
   ]
  }
 ],
 "metadata": {
  "kernelspec": {
   "display_name": "Python 3",
   "language": "python",
   "name": "python3"
  },
  "language_info": {
   "codemirror_mode": {
    "name": "ipython",
    "version": 3
   },
   "file_extension": ".py",
   "mimetype": "text/x-python",
   "name": "python",
   "nbconvert_exporter": "python",
   "pygments_lexer": "ipython3",
   "version": "3.7.6"
  },
  "pycharm": {
   "stem_cell": {
    "cell_type": "raw",
    "metadata": {
     "collapsed": false
    },
    "source": [
     "---\n",
     "title: 2 - Pesquisa automatizada do Pubmed\n",
     "date: \"2020-07-27T07:26:03.284Z\"\n",
     "description: \"Processo de pesquisa automatizado de artigos no Pubmed de interesse para o projeto\"\n",
     "categories: [Scripts], [Revisão Bibliogŕafica]\n",
     "---"
    ]
   }
  }
 },
 "nbformat": 4,
 "nbformat_minor": 1
}
