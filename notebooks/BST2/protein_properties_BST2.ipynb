{
 "cells": [
  {
   "cell_type": "markdown",
   "metadata": {
    "collapsed": true,
    "pycharm": {
     "name": "#%% md\n"
    }
   },
   "source": [
    "# *BST2*\n",
    "\n",
    "## 1 - Obtenção da Sequência\n",
    "Foi utilizado o *site* do [Ensembl](https://www.ensembl.org/Homo_sapiens/Gene/Summary?db=core;g=ENSG00000130303;r=19:17402939-17405648), para obter a hiperligação para o UniProt, [Q10589-1](https://www.uniprot.org/uniprot/Q10589-1).\n",
    "Foi feito o download em formato FASTA da isoforma Q10589-1, que é considerada a sequência canónica.\n",
    "\n",
    "## 2 - Estruturas Secundárias\n",
    "Foi selecionado o organismo *Homo sapiens* e como foram obtidos bastantes resultados possíveis, escolhemos a proteína com o identificador [3NWH](http://www.rcsb.org/structure/3NWH), pois era a única que cumpria com os requisitos de pertencer ao organismo pretendido. Também existiam sequências parecidas, mas estas eram de ectodomínios.\n",
    "Ao observar a representação 3D da proteína concluímos que a estrutura secundária desta é composta por alfa-hélices.\n",
    "\n",
    "## 3 - Domínios da Proteína\n",
    "Foi utilizada a ferramenta Phobius para prever os domínios que esta proteína possui. Verificámos, na previsão, a existência de um domínio citoplasmático, um domínio transmembranar e um domínio não citoplasmático.\n",
    "\n",
    "![Figura 1 - Previsão dos diferentes domínios da proteína BST2.](phobius_BST2.png)"
   ]
  },
  {
   "cell_type": "code",
   "execution_count": null,
   "outputs": [],
   "source": [
    "ID   sp|Q10589|BST2_HUMAN\n",
    "FT   DOMAIN        1     21       CYTOPLASMIC.\n",
    "FT   TRANSMEM     22     44\n",
    "FT   DOMAIN       45    180       NON CYTOPLASMIC.\n",
    "//\n"
   ],
   "metadata": {
    "collapsed": false,
    "pycharm": {
     "name": "#%%\n"
    }
   }
  },
  {
   "cell_type": "markdown",
   "source": [
    "## 4 - Localização da Proteína\n",
    "Utilizando a ferramenta Hum-mPLoc 2.0 foi previsto que a localização desta proteína é no núcleo.\n",
    "\n",
    "## 5 - Locais de Glicosilação\n",
    "Os locais de glicosilação foram previstos usando a ferramenta NetNGlyc 1.0 Server."
   ],
   "metadata": {
    "collapsed": false
   }
  },
  {
   "cell_type": "code",
   "execution_count": null,
   "outputs": [],
   "source": [
    "Name:  sp_Q10589_BST2_HUMAN \tLength:  180\n",
    "MASTSYDYCRVPMEDGDKRCKLLLGIGILVLLIIVILGVPLIIFTIKANSEACRDGLRAVMECRNVTHLLQQELTEAQKG      80\n",
    "FQDVEAQAATCNHTVMALMASLDAEKAQGQKKVEELEGEITTLNHKLQDASAEVERLRRENQVLSVRIADKKYYPSSQDS     160\n",
    "SSAAAPQLLIVLLGLSALLQ\n",
    "................................................................N...............      80\n",
    "...........N....................................................................     160\n",
    "....................                                                                 240\n",
    "\n",
    "(Threshold=0.5)\n",
    "----------------------------------------------------------------------\n",
    "SeqName      Position  Potential   Jury    N-Glyc\n",
    "\t\t\t\t agreement result\n",
    "----------------------------------------------------------------------\n",
    "sp_Q10589_BST2_HUMAN   65 NVTH   0.6629     (9/9)   ++\n",
    "sp_Q10589_BST2_HUMAN   92 NHTV   0.5464     (7/9)   +\n",
    "----------------------------------------------------------------------"
   ],
   "metadata": {
    "collapsed": false,
    "pycharm": {
     "name": "#%%\n"
    }
   }
  },
  {
   "cell_type": "markdown",
   "source": [
    "![Figura 2 - Previsão dos locais de glicosilação da proteína BST2.](NetGlyc_BST2.gif)\n",
    "\n",
    "## 6 - Locais de Fosforilação\n",
    "\n",
    "utilizamos a ferramenta NetPhos 3.1 para prever o local fosforilação da serina, treonina ou tirosina em proteínas de organismos eucariotas."
   ],
   "metadata": {
    "collapsed": false
   }
  },
  {
   "cell_type": "code",
   "execution_count": null,
   "outputs": [],
   "source": [
    "    SPQXSTHXMANXXNEMARRXWSTRXMALANTIGENXSHXMXSAPIENSXX   #     50\n",
    "    GNXSTPESVMASTSYDYCRVPMEDGDKRCKLLLGIGILVLLIIVILGVPL   #    100\n",
    "    IIFTIKANSEACRDGLRAVMECRNVTHLLQQELTEAQKGFQDVEAQAATC   #    150\n",
    "    NHTVMALMASLDAEKAQGQKKVEELEGEITTLNHKLQDASAEVERLRREN   #    200\n",
    "    QVLSVRIADKKYYPSSQDSSSAAAPQLLIVLLGLSALLQ              #    250\n",
    "%1  S....................ST...........................   #     50\n",
    "%1  ...ST..S....T...Y.................................   #    100\n",
    "%1  ...T....S........................T................   #    150\n",
    "%1  .......................................S..........   #    200\n",
    "%1  ...S........Y.SS..SSS.............S...."
   ],
   "metadata": {
    "collapsed": false,
    "pycharm": {
     "name": "#%%\n"
    }
   }
  },
  {
   "cell_type": "markdown",
   "source": [
    "![Figura 3 - Previsão dos locais de fosforilação da proteína BST2.](netphos_BST2.gif)\n"
   ],
   "metadata": {
    "collapsed": false
   }
  }
 ],
 "metadata": {
  "kernelspec": {
   "display_name": "Python 3",
   "language": "python",
   "name": "python3"
  },
  "language_info": {
   "codemirror_mode": {
    "name": "ipython",
    "version": 2
   },
   "file_extension": ".py",
   "mimetype": "text/x-python",
   "name": "python",
   "nbconvert_exporter": "python",
   "pygments_lexer": "ipython2",
   "version": "2.7.6"
  }
 },
 "nbformat": 4,
 "nbformat_minor": 0
}