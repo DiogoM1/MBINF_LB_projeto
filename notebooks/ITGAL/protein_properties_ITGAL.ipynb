{
 "cells": [
  {
   "cell_type": "markdown",
   "metadata": {
    "collapsed": true,
    "pycharm": {
     "name": "#%% md\n"
    }
   },
   "source": [
    "# *ITGAL*\n",
    "\n",
    "## 1 - Obtenção da Sequência\n",
    "Foi utilizado o *site* do [Ensembl](https://www.ensembl.org/Homo_sapiens/Gene/Summary?db=core;g=ENSG00000005844;r=16:30472658-30523185), para obter a hiperligação para o UniProt, [P20701-1](https://www.uniprot.org/uniprot/P20701-1).\n",
    "Foi feito o download em formato FASTA da isoforma P20701-1, que é considerada a sequência canónica.\n",
    "\n",
    "## 2 - Estruturas Secundárias\n",
    "Foi selecionado o organismo *Homo sapiens* e como foram obtidos bastantes resultados possíveis, escolhemos a proteína com o identificador [5E6U](http://www.rcsb.org/structure/5E6U), pois cumpria os requisitos de pertencer ao organismo pretendido, uma das macromoléculas corresponde à integrina alfa-L (ITAL) e porque apresenta o maior número de ligandos o que se traduz numa maior informação sobre a proteína. Ao observar a representação 3D da proteína concluímos que a estrutura secundária desta é composta por folhas-beta e alfa-hélices.\n",
    "\n",
    "## 3 - Domínios da Proteína\n",
    "Foi utilizada a ferramenta Phobius para prever os domínios que esta proteína possui. Verificámos, na previsão, a existência de um domínio péptido sinal, um domínio não citoplasmático, um domínio transmembranar e um domínio citoplasmático.\n",
    "\n",
    "![Figura 1 - Previsão dos diferentes domínios da proteína ITAL.](phobius_ITGAL.png)"
   ]
  },
  {
   "cell_type": "code",
   "execution_count": null,
   "outputs": [],
   "source": [
    "ID   sp|P20701|ITAL_HUMAN\n",
    "FT   SIGNAL        1     25\n",
    "FT   DOMAIN        1      9       N-REGION.\n",
    "FT   DOMAIN       10     20       H-REGION.\n",
    "FT   DOMAIN       21     25       C-REGION.\n",
    "FT   DOMAIN       26   1089       NON CYTOPLASMIC.\n",
    "FT   TRANSMEM   1090   1112\n",
    "FT   DOMAIN     1113   1170       CYTOPLASMIC.\n",
    "//"
   ],
   "metadata": {
    "collapsed": false,
    "pycharm": {
     "name": "#%%\n"
    }
   }
  },
  {
   "cell_type": "markdown",
   "source": [
    "## 4 - Localização da Proteína\n",
    "Utilizando a ferramenta Hum-mPLoc 2.0 foi previsto que a localização desta proteína é extracelular.\n",
    "\n",
    "## 5 - Locais de Glicosilação\n",
    "Os locais de glicosilação foram previstos usando a ferramenta NetNGlyc 1.0 Server."
   ],
   "metadata": {
    "collapsed": false
   }
  },
  {
   "cell_type": "code",
   "execution_count": null,
   "outputs": [],
   "source": [
    "Name:  sp_P20701_ITAL_HUMAN \tLength:  1170\n",
    "MKDSCITVMAMALLSGFFFFAPASSYNLDVRGARSFSPPRAGRHFGYRVLQVGNGVIVGAPGEGNSTGSLYQCQSGTGHC      80\n",
    "LPVTLRGSNYTSKYLGMTLATDPTDGSILACDPGLSRTCDQNTYLSGLCYLFRQNLQGPMLQGRPGFQECIKGNVDLVFL     160\n",
    "FDGSMSLQPDEFQKILDFMKDVMKKLSNTSYQFAAVQFSTSYKTEFDFSDYVKRKDPDALLKHVKHMLLLTNTFGAINYV     240\n",
    "ATEVFREELGARPDATKVLIIITDGEATDSGNIDAAKDIIRYIIGIGKHFQTKESQETLHKFASKPASEFVKILDTFEKL     320\n",
    "KDLFTELQKKIYVIEGTSKQDLTSFNMELSSSGISADLSRGHAVVGAVGAKDWAGGFLDLKADLQDDTFIGNEPLTPEVR     400\n",
    "AGYLGYTVTWLPSRQKTSLLASGAPRYQHMGRVLLFQEPQGGGHWSQVQTIHGTQIGSYFGGELCGVDVDQDGETELLLI     480\n",
    "GAPLFYGEQRGGRVFIYQRRQLGFEEVSELQGDPGYPLGRFGEAITALTDINGDGLVDVAVGAPLEEQGAVYIFNGRHGG     560\n",
    "LSPQPSQRIEGTQVLSGIQWFGRSIHGVKDLEGDGLADVAVGAESQMIVLSSRPVVDMVTLMSFSPAEIPVHEVECSYST     640\n",
    "SNKMKEGVNITICFQIKSLIPQFQGRLVANLTYTLQLDGHRTRRRGLFPGGRHELRRNIAVTTSMSCTDFSFHFPVCVQD     720\n",
    "LISPINVSLNFSLWEEEGTPRDQRAQGKDIPPILRPSLHSETWEIPFEKNCGEDKKCEANLRVSFSPARSRALRLTAFAS     800\n",
    "LSVELSLSNLEEDAYWVQLDLHFPPGLSFRKVEMLKPHSQIPVSCEELPEESRLLSRALSCNVSSPIFKAGHSVALQMMF     880\n",
    "NTLVNSSWGDSVELHANVTCNNEDSDLLEDNSATTIIPILYPINILIQDQEDSTLYVSFTPKGPKIHQVKHMYQVRIQPS     960\n",
    "IHDHNIPTLEAVVGVPQPPSEGPITHQWSVQMEPPVPCHYEDLERLPDAAEPCLPGALFRCPVVFRQEILVQVIGTLELV    1040\n",
    "GEIEASSMFSLCSSLSISFNSSKHFHLYGSNASLAQVVMKVDVVYEKQMLYLYVLSGIGGLLLLLLIFIVLYKVGFFKRN    1120\n",
    "LKEKMEAGRGVPNGIPAEDSEQLASGQEAGDPGCLKPLHEKDSESGGGKD\n",
    "................................................................N...............      80\n",
    "........N.......................................................................     160\n",
    "...........................N....................................................     240\n",
    "................................................................................     320\n",
    "................................................................................     400\n",
    "................................................................................     480\n",
    "................................................................................     560\n",
    "................................................................................     640\n",
    "........N....................N..................................................     720\n",
    ".....N...N......................................................................     800\n",
    ".............................................................N..................     880\n",
    "................N...............................................................     960\n",
    "................................................................................    1040\n",
    "................................................................................    1120\n",
    "..................................................                                  1200\n",
    "\n",
    "(Threshold=0.5)\n",
    "----------------------------------------------------------------------\n",
    "SeqName      Position  Potential   Jury    N-Glyc\n",
    "\t\t\t\t agreement result\n",
    "----------------------------------------------------------------------\n",
    "sp_P20701_ITAL_HUMAN   65 NSTG   0.7303     (9/9)   ++\n",
    "sp_P20701_ITAL_HUMAN   89 NYTS   0.7199     (9/9)   ++\n",
    "sp_P20701_ITAL_HUMAN  188 NTSY   0.7023     (9/9)   ++\n",
    "sp_P20701_ITAL_HUMAN  649 NITI   0.6562     (8/9)   +\n",
    "sp_P20701_ITAL_HUMAN  670 NLTY   0.6267     (8/9)   +\n",
    "sp_P20701_ITAL_HUMAN  726 NVSL   0.6187     (8/9)   +\n",
    "sp_P20701_ITAL_HUMAN  730 NFSL   0.5626     (7/9)   +\n",
    "sp_P20701_ITAL_HUMAN  862 NVSS   0.6993     (9/9)   ++\n",
    "sp_P20701_ITAL_HUMAN  885 NSSW   0.4548     (6/9)   -\n",
    "sp_P20701_ITAL_HUMAN  897 NVTC   0.7060     (9/9)   ++\n",
    "sp_P20701_ITAL_HUMAN 1060 NSSK   0.4373     (7/9)   -\n",
    "sp_P20701_ITAL_HUMAN 1071 NASL   0.4373     (6/9)   -\n",
    "----------------------------------------------------------------------"
   ],
   "metadata": {
    "collapsed": false,
    "pycharm": {
     "name": "#%%\n"
    }
   }
  },
  {
   "cell_type": "markdown",
   "source": [
    "![Figura 2 - Previsão dos locais de glicosilação da proteína ITAL.](NetNGlyc_ITGAL.gif)\n",
    "\n",
    "## 6 - Locais de Fosforilação\n",
    "utilizamos a ferramenta NetPhos 3.1 para prever o local fosforilação da serina, treonina ou tirosina em proteínas de organismos eucariotas."
   ],
   "metadata": {
    "collapsed": false
   }
  },
  {
   "cell_type": "code",
   "execution_count": null,
   "outputs": [],
   "source": [
    "    SPPITALHXMANINTEGRINALPHALXSHXMXSAPIENSXXGNITGALPE   #     50\n",
    "    SVMKDSCITVMAMALLSGFFFFAPASSYNLDVRGARSFSPPRAGRHFGYR   #    100\n",
    "    VLQVGNGVIVGAPGEGNSTGSLYQCQSGTGHCLPVTLRGSNYTSKYLGMT   #    150\n",
    "    LATDPTDGSILACDPGLSRTCDQNTYLSGLCYLFRQNLQGPMLQGRPGFQ   #    200\n",
    "    ECIKGNVDLVFLFDGSMSLQPDEFQKILDFMKDVMKKLSNTSYQFAAVQF   #    250\n",
    "    STSYKTEFDFSDYVKRKDPDALLKHVKHMLLLTNTFGAINYVATEVFREE   #    300\n",
    "    LGARPDATKVLIIITDGEATDSGNIDAAKDIIRYIIGIGKHFQTKESQET   #    350\n",
    "    LHKFASKPASEFVKILDTFEKLKDLFTELQKKIYVIEGTSKQDLTSFNME   #    400\n",
    "    LSSSGISADLSRGHAVVGAVGAKDWAGGFLDLKADLQDDTFIGNEPLTPE   #    450\n",
    "    VRAGYLGYTVTWLPSRQKTSLLASGAPRYQHMGRVLLFQEPQGGGHWSQV   #    500\n",
    "    QTIHGTQIGSYFGGELCGVDVDQDGETELLLIGAPLFYGEQRGGRVFIYQ   #    550\n",
    "    RRQLGFEEVSELQGDPGYPLGRFGEAITALTDINGDGLVDVAVGAPLEEQ   #    600\n",
    "    GAVYIFNGRHGGLSPQPSQRIEGTQVLSGIQWFGRSIHGVKDLEGDGLAD   #    650\n",
    "    VAVGAESQMIVLSSRPVVDMVTLMSFSPAEIPVHEVECSYSTSNKMKEGV   #    700\n",
    "    NITICFQIKSLIPQFQGRLVANLTYTLQLDGHRTRRRGLFPGGRHELRRN   #    750\n",
    "    IAVTTSMSCTDFSFHFPVCVQDLISPINVSLNFSLWEEEGTPRDQRAQGK   #    800\n",
    "    DIPPILRPSLHSETWEIPFEKNCGEDKKCEANLRVSFSPARSRALRLTAF   #    850\n",
    "    ASLSVELSLSNLEEDAYWVQLDLHFPPGLSFRKVEMLKPHSQIPVSCEEL   #    900\n",
    "    PEESRLLSRALSCNVSSPIFKAGHSVALQMMFNTLVNSSWGDSVELHANV   #    950\n",
    "    TCNNEDSDLLEDNSATTIIPILYPINILIQDQEDSTLYVSFTPKGPKIHQ   #   1000\n",
    "    VKHMYQVRIQPSIHDHNIPTLEAVVGVPQPPSEGPITHQWSVQMEPPVPC   #   1050\n",
    "    HYEDLERLPDAAEPCLPGALFRCPVVFRQEILVQVIGTLELVGEIEASSM   #   1100\n",
    "    FSLCSSLSISFNSSKHFHLYGSNASLAQVVMKVDVVYEKQMLYLYVLSGI   #   1150\n",
    "    GGLLLLLLIFIVLYKVGFFKRNLKEKMEAGRGVPNGIPAEDSEQLASGQE   #   1200\n",
    "    AGDPGCLKPLHEKDSESGGGKD                               #   1250\n",
    "%1  ...........................S..........S...........   #     50\n",
    "%1  S....S..........S........S..........S.S.........Y.   #    100\n",
    "%1  .................S..S.....S........T...S.YT..Y....   #    150\n",
    "%1  ........................TY........................   #    200\n",
    "%1  ...............S.S....................S..SY.......   #    250\n",
    "%1  STS.......S.Y..............................T......   #    300\n",
    "%1  ..............T....T.S...........Y............S..T   #    350\n",
    "%1  .....S...........T........T......Y....TS.....S....   #    400\n",
    "%1  .SSS..S...S....................................T..   #    450\n",
    "%1  ..................TS........Y..................S..   #    500\n",
    "%1  .T........................T.......................   #    550\n",
    "%1  .........S........................................   #    600\n",
    "%1  ...Y.........S...S.....T...S......................   #    650\n",
    "%1  ......S.....SS.......T..S.S............Y.TS.......   #    700\n",
    "%1  .........S.......................T................   #    750\n",
    "%1  ...TTS.S.T.......................S......T.........   #    800\n",
    "%1  ........S..S.......................S.S...S........   #    850\n",
    "%1  ...S...S.S......Y............S..........S....S....   #    900\n",
    "%1  .......S...S............S.............S...S.......   #    950\n",
    "%1  ......S............................T.Y...T........   #   1000\n",
    "%1  ...........S......................................   #   1050\n",
    "%1  .....................................T.........SS.   #   1100\n",
    "%1  .S..SS...S..SS.....Y....S.........................   #   1150\n",
    "%1  ..............................................S...   #   1200\n",
    "%1  ..............S.S.....\n"
   ],
   "metadata": {
    "collapsed": false,
    "pycharm": {
     "name": "#%%\n"
    }
   }
  },
  {
   "cell_type": "markdown",
   "source": [
    "![Figura 3 - Previsão dos locais de fosforilação da proteína ITAL.](netphos_ITGAL.gif)\n"
   ],
   "metadata": {
    "collapsed": false
   }
  }
 ],
 "metadata": {
  "kernelspec": {
   "display_name": "Python 3",
   "language": "python",
   "name": "python3"
  },
  "language_info": {
   "codemirror_mode": {
    "name": "ipython",
    "version": 2
   },
   "file_extension": ".py",
   "mimetype": "text/x-python",
   "name": "python",
   "nbconvert_exporter": "python",
   "pygments_lexer": "ipython2",
   "version": "2.7.6"
  }
 },
 "nbformat": 4,
 "nbformat_minor": 0
}