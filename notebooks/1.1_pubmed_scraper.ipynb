{
 "cells": [
  {
   "cell_type": "markdown",
   "metadata": {
    "collapsed": true,
    "pycharm": {
     "name": "#%% md\n"
    }
   },
   "source": [
    "# 1 - Pesquisa automatizada do Pubmed\n",
    "\n",
    "No âmbito do trabalho surgiu a necessidade de obter de forma sistémica um resumo da literatura disponível sobre os diferentes genes/proteínas em estudo.\n",
    "\n",
    "Esta ferramenta foi então desenvolvida de forma a permitir fazer variações de cada pesquisa, por ex: funções de um gene, ou associações a uma patologia.\n",
    "\n",
    "## Definição de critérios de pesquisa\n",
    "\n",
    "Definimos os termos a pesquisar como os 3 diferentes genes escolhidos pelo grupo, e para cada um procurar artigos que foquem em aspetos genéricos, função e associação à patologia *Sars-Cov_2*."
   ]
  },
  {
   "cell_type": "code",
   "execution_count": 42,
   "outputs": [],
   "source": [
    "search_keywords = [\"generic\", \"function\", \"sars-cov-2\"]\n",
    "genes = [\"ORF7a\", \"BST2\", \"ITGAL\"]"
   ],
   "metadata": {
    "collapsed": false,
    "pycharm": {
     "name": "#%%\n"
    }
   }
  },
  {
   "cell_type": "markdown",
   "source": [
    "## Modulo *'pubmed.py'*\n",
    "\n",
    "### *search_articles()* - Pesquisa de artigos\n",
    "\n",
    "Este método vai itenerar sobre a lista de *search_keywords* adicionando-as ao termo mãe, que no nosso caso são os genes, à exceção de *generic* que pesquisa unicamente o termo mãe.\n",
    "\n",
    "Em termos de critérios de filtragem a função permite mudar por exemplo em que materiais a pesquisa é feita (titulos, nomes de autores, etc) sendo o nosso default 'WORD' e 'TIAB', além de 'LANG' para a lingua inglesa.\n",
    "Filtra também o contéudo aos ultimos cinco anos e organiza por \"Best Match\"\n",
    "\n",
    "Internamente cada pesquisa devolve uma lista dos 20 primeiros resultados, sendo que as pesquisas no fim agregadas pelo seu código PMID, marcadas as *search_keywords* em que a pesquisa devolveu este artigo. agregando assim os duplicados."
   ],
   "metadata": {
    "collapsed": false,
    "pycharm": {
     "name": "#%% md\n"
    }
   }
  },
  {
   "cell_type": "code",
   "execution_count": 43,
   "outputs": [
    {
     "name": "stdout",
     "output_type": "stream",
     "text": [
      "33305306 :  {'search_keywords': ['generic']}\n",
      "33227343 :  {'search_keywords': ['generic', 'sars-cov-2']}\n",
      "33195401 :  {'search_keywords': ['generic', 'sars-cov-2']}\n",
      "33163695 :  {'search_keywords': ['generic', 'sars-cov-2']}\n",
      "33161087 :  {'search_keywords': ['generic', 'sars-cov-2']}\n",
      "33024967 :  {'search_keywords': ['generic', 'function', 'sars-cov-2']}\n",
      "32971122 :  {'search_keywords': ['generic', 'sars-cov-2']}\n",
      "32935103 :  {'search_keywords': ['generic', 'sars-cov-2']}\n",
      "32929412 :  {'search_keywords': ['generic', 'sars-cov-2']}\n",
      "32869027 :  {'search_keywords': ['generic', 'sars-cov-2']}\n",
      "32814791 :  {'search_keywords': ['generic', 'sars-cov-2']}\n",
      "32773420 :  {'search_keywords': ['generic', 'sars-cov-2']}\n",
      "32754056 :  {'search_keywords': ['generic', 'sars-cov-2']}\n",
      "32713862 :  {'search_keywords': ['generic', 'sars-cov-2']}\n",
      "32691005 :  {'search_keywords': ['generic', 'sars-cov-2']}\n",
      "32623351 :  {'search_keywords': ['generic', 'sars-cov-2']}\n",
      "32615316 :  {'search_keywords': ['generic', 'sars-cov-2']}\n",
      "32547891 :  {'search_keywords': ['generic', 'function', 'sars-cov-2']}\n",
      "32511591 :  {'search_keywords': ['generic', 'sars-cov-2']}\n",
      "32511297 :  {'search_keywords': ['generic', 'sars-cov-2']}\n",
      "26378163 :  {'search_keywords': ['function']}\n",
      "23054027 :  {'search_keywords': ['function']}\n",
      "16328780 :  {'search_keywords': ['function']}\n",
      "15740663 :  {'search_keywords': ['function']}\n",
      "15642263 :  {'search_keywords': ['function']}\n",
      "32357959 :  {'search_keywords': ['sars-cov-2']}\n"
     ]
    }
   ],
   "source": [
    "from scripts.pubmed import search_articles\n",
    "\n",
    "result = search_articles(\"ORF7a\", search_keywords)\n",
    "\n",
    "for PMID in result.keys():\n",
    "    print(PMID, \": \", result[PMID])"
   ],
   "metadata": {
    "collapsed": false,
    "pycharm": {
     "name": "#%%\n"
    }
   }
  },
  {
   "cell_type": "markdown",
   "source": [
    "### *fetch_article()* - Recolha de artigos\n",
    "\n",
    "Depois de identificados os PMID dos diferentes artigos foi necessário criar um método que devolvesse o contéudo necessário destes.\n",
    "\n",
    "Este devolve um dicionário com o título, endereço web do artigo e abstract."
   ],
   "metadata": {
    "collapsed": false,
    "pycharm": {
     "name": "#%% md\n"
    }
   }
  },
  {
   "cell_type": "code",
   "source": [
    "from scripts.pubmed import fetch_article\n",
    "\n",
    "result = fetch_article(33305306)\n",
    "\n",
    "for key in result.keys():\n",
    "    print(key, \": \", result[key])"
   ],
   "metadata": {
    "collapsed": false,
    "pycharm": {
     "name": "#%%\n"
    }
   },
   "execution_count": 44,
   "outputs": [
    {
     "name": "stdout",
     "output_type": "stream",
     "text": [
      "33305306\n",
      "DictElement({'ELocationID': [StringElement('BSR20203837', attributes={'EIdType': 'pii', 'ValidYN': 'Y'}), StringElement('10.1042/BSR20203837', attributes={'EIdType': 'doi', 'ValidYN': 'Y'})], 'Language': ['eng'], 'ArticleDate': [DictElement({'Year': '2020', 'Month': '12', 'Day': '11'}, attributes={'DateType': 'Electronic'})], 'Journal': {'ISSN': StringElement('1573-4935', attributes={'IssnType': 'Electronic'}), 'JournalIssue': DictElement({'PubDate': {'Year': '2020', 'Month': 'Dec', 'Day': '11'}}, attributes={'CitedMedium': 'Internet'}), 'Title': 'Bioscience reports', 'ISOAbbreviation': 'Biosci Rep'}, 'ArticleTitle': 'Structural assessment of SARS-CoV2 accessory protein ORF7a predicts LFA-1 and Mac-1 binding potential.', 'Abstract': {'AbstractText': [\"ORF7a is an accessory protein common to SARS-CoV1 and the recently discovered SARS-CoV2, which is causing the COVID19 pandemic. The ORF7a protein has a structural homology with ICAM-1 which binds to the T lymphocyte integrin receptor LFA-1. As COVID19 has a strong immune component as part of the disease, we sought to determine whether SARS-CoV2 would have a similar structural interaction with LFA-1. Using molecular docking simulations, we found that SARS-CoV2 ORF7a has the key structural determinants required to bind LFA-1 but also the related leukocyte integrin Mac-1, which is also known to be expressed by macrophages. Our study shows that SARS-CoV2 ORF7a protein has a conserved Ig immunoglobulin-like fold containing an integrin binding site that provides a mechanistic hypothesis for SARS-CoV2's interaction with the human immune system. This suggests that experimental investigation of ORF7a mediated effects on immune cells such as T lymphocytes and macrophages (leukocytes) could help understand the disease further and develop effective treatments.\"], 'CopyrightInformation': 'Copyright 2020 The Author(s).'}, 'AuthorList': ListElement([DictElement({'AffiliationInfo': [{'Identifier': [], 'Affiliation': 'School of Medicine University of Nottingham, Nottingham, United Kingdom.'}], 'Identifier': [], 'LastName': 'Nizamudeen', 'ForeName': 'Zubair A', 'Initials': 'ZA'}, attributes={'ValidYN': 'Y'}), DictElement({'AffiliationInfo': [{'Identifier': [], 'Affiliation': 'None, Nottingham, United Kingdom.'}], 'Identifier': [], 'LastName': 'Xu', 'ForeName': 'Emma-Ruoqi', 'Initials': 'ER'}, attributes={'ValidYN': 'Y'}), DictElement({'AffiliationInfo': [{'Identifier': [], 'Affiliation': 'University of Maine, Orono, Maine, United States.'}], 'Identifier': [], 'LastName': 'Karthik', 'ForeName': 'Vivin', 'Initials': 'V'}, attributes={'ValidYN': 'Y'}), DictElement({'AffiliationInfo': [{'Identifier': [], 'Affiliation': 'School of Pharmacy, Nottingham, United Kingdom.'}], 'Identifier': [], 'LastName': 'Halawa', 'ForeName': 'Mohamed', 'Initials': 'M'}, attributes={'ValidYN': 'Y'}), DictElement({'AffiliationInfo': [{'Identifier': [], 'Affiliation': 'School of Medicine University of Nottingham, Nottingham, United Kingdom.'}], 'Identifier': [], 'LastName': 'Arkill', 'ForeName': 'Kenton P', 'Initials': 'KP'}, attributes={'ValidYN': 'Y'}), DictElement({'AffiliationInfo': [{'Identifier': [], 'Affiliation': 'School of Medicine University of Nottingham, Nottingham, United Kingdom.'}], 'Identifier': [], 'LastName': 'Jackson', 'ForeName': 'Andrew', 'Initials': 'A'}, attributes={'ValidYN': 'Y'}), DictElement({'AffiliationInfo': [{'Identifier': [], 'Affiliation': 'School of Medicine University of Nottingham, Nottingham, United Kingdom.'}], 'Identifier': [], 'LastName': 'Bates', 'ForeName': 'David O', 'Initials': 'DO'}, attributes={'ValidYN': 'Y'}), DictElement({'AffiliationInfo': [{'Identifier': [], 'Affiliation': 'School of Pharmacy, Nottingham, United Kingdom.'}], 'Identifier': [], 'LastName': 'Elmsley', 'ForeName': 'Jonas', 'Initials': 'J'}, attributes={'ValidYN': 'Y'})], attributes={'CompleteYN': 'Y'}), 'PublicationTypeList': [StringElement('Journal Article', attributes={'UI': 'D016428'})]}, attributes={'PubModel': 'Print-Electronic'})\n",
      "title :  Structural assessment of SARS-CoV2 accessory protein ORF7a predicts LFA-1 and Mac-1 binding potential.\n",
      "web_address :  https://pubmed.ncbi.nlm.nih.gov/33305306/\n",
      "doi :  10.1042/BSR20203837\n",
      "abstract :  ORF7a is an accessory protein common to SARS-CoV1 and the recently discovered SARS-CoV2, which is causing the COVID19 pandemic. The ORF7a protein has a structural homology with ICAM-1 which binds to the T lymphocyte integrin receptor LFA-1. As COVID19 has a strong immune component as part of the disease, we sought to determine whether SARS-CoV2 would have a similar structural interaction with LFA-1. Using molecular docking simulations, we found that SARS-CoV2 ORF7a has the key structural determinants required to bind LFA-1 but also the related leukocyte integrin Mac-1, which is also known to be expressed by macrophages. Our study shows that SARS-CoV2 ORF7a protein has a conserved Ig immunoglobulin-like fold containing an integrin binding site that provides a mechanistic hypothesis for SARS-CoV2's interaction with the human immune system. This suggests that experimental investigation of ORF7a mediated effects on immune cells such as T lymphocytes and macrophages (leukocytes) could help understand the disease further and develop effective treatments.\n"
     ]
    }
   ]
  },
  {
   "cell_type": "markdown",
   "source": [
    "### *search_fetch_articles()* - Agregação de informações dos artigos para uma pesquisa\n",
    "\n",
    "Com base nos dois métodos anteriormente desenvolvidos, foi então possível criar um único que permitisse tanto pesquisar como recolher os dados.\n",
    "\n",
    "Esta percorre a estrutura de dados devolvida pela *search_articles()* e adiciona para cada *PMID* os restantes dados obtidos pela *fetch_article()*."
   ],
   "metadata": {
    "collapsed": false,
    "pycharm": {
     "name": "#%% md\n"
    }
   }
  },
  {
   "cell_type": "code",
   "execution_count": 46,
   "outputs": [
    {
     "ename": "TypeError",
     "evalue": "search_articles() takes from 1 to 4 positional arguments but 5 were given",
     "output_type": "error",
     "traceback": [
      "\u001B[0;31m---------------------------------------------------------------------------\u001B[0m",
      "\u001B[0;31mTypeError\u001B[0m                                 Traceback (most recent call last)",
      "\u001B[0;32m<ipython-input-46-c1f9f91fa7a6>\u001B[0m in \u001B[0;36m<module>\u001B[0;34m\u001B[0m\n\u001B[1;32m      1\u001B[0m \u001B[0;32mfrom\u001B[0m \u001B[0mscripts\u001B[0m\u001B[0;34m.\u001B[0m\u001B[0mpubmed\u001B[0m \u001B[0;32mimport\u001B[0m \u001B[0msearch_fetch_articles\u001B[0m\u001B[0;34m\u001B[0m\u001B[0;34m\u001B[0m\u001B[0m\n\u001B[1;32m      2\u001B[0m \u001B[0;34m\u001B[0m\u001B[0m\n\u001B[0;32m----> 3\u001B[0;31m \u001B[0mresult\u001B[0m \u001B[0;34m=\u001B[0m \u001B[0msearch_fetch_articles\u001B[0m\u001B[0;34m(\u001B[0m\u001B[0;34m\"ORF7a\"\u001B[0m\u001B[0;34m,\u001B[0m \u001B[0msearch_keywords\u001B[0m\u001B[0;34m)\u001B[0m\u001B[0;34m\u001B[0m\u001B[0;34m\u001B[0m\u001B[0m\n\u001B[0m\u001B[1;32m      4\u001B[0m \u001B[0;34m\u001B[0m\u001B[0m\n\u001B[1;32m      5\u001B[0m \u001B[0;31m# Primeiro Artigo\u001B[0m\u001B[0;34m\u001B[0m\u001B[0;34m\u001B[0m\u001B[0;34m\u001B[0m\u001B[0m\n",
      "\u001B[0;32m~/PycharmProjects/MBINF_LB_projeto/scripts/pubmed.py\u001B[0m in \u001B[0;36msearch_fetch_articles\u001B[0;34m(db, search_term, search_keywords, search_fields, time_period)\u001B[0m\n\u001B[1;32m    108\u001B[0m         \u001B[0msearch_results\u001B[0m\u001B[0;34m[\u001B[0m\u001B[0marticle_id\u001B[0m\u001B[0;34m]\u001B[0m\u001B[0;34m[\u001B[0m\u001B[0;34m\"title\"\u001B[0m\u001B[0;34m]\u001B[0m \u001B[0;34m=\u001B[0m \u001B[0marticle_fetched\u001B[0m\u001B[0;34m[\u001B[0m\u001B[0;34m\"title\"\u001B[0m\u001B[0;34m]\u001B[0m\u001B[0;34m\u001B[0m\u001B[0;34m\u001B[0m\u001B[0m\n\u001B[1;32m    109\u001B[0m         \u001B[0msearch_results\u001B[0m\u001B[0;34m[\u001B[0m\u001B[0marticle_id\u001B[0m\u001B[0;34m]\u001B[0m\u001B[0;34m[\u001B[0m\u001B[0;34m\"web_address\"\u001B[0m\u001B[0;34m]\u001B[0m \u001B[0;34m=\u001B[0m \u001B[0marticle_fetched\u001B[0m\u001B[0;34m[\u001B[0m\u001B[0;34m\"web_address\"\u001B[0m\u001B[0;34m]\u001B[0m\u001B[0;34m\u001B[0m\u001B[0;34m\u001B[0m\u001B[0m\n\u001B[0;32m--> 110\u001B[0;31m         \u001B[0;31m# search_results[article_id][\"doi\"] = article_fetched[\"doi\"]\u001B[0m\u001B[0;34m\u001B[0m\u001B[0;34m\u001B[0m\u001B[0;34m\u001B[0m\u001B[0m\n\u001B[0m\u001B[1;32m    111\u001B[0m         \u001B[0msearch_results\u001B[0m\u001B[0;34m[\u001B[0m\u001B[0marticle_id\u001B[0m\u001B[0;34m]\u001B[0m\u001B[0;34m[\u001B[0m\u001B[0;34m\"abstract\"\u001B[0m\u001B[0;34m]\u001B[0m \u001B[0;34m=\u001B[0m \u001B[0marticle_fetched\u001B[0m\u001B[0;34m[\u001B[0m\u001B[0;34m\"abstract\"\u001B[0m\u001B[0;34m]\u001B[0m\u001B[0;34m\u001B[0m\u001B[0;34m\u001B[0m\u001B[0m\n\u001B[1;32m    112\u001B[0m     \u001B[0;32mreturn\u001B[0m \u001B[0msearch_results\u001B[0m\u001B[0;34m\u001B[0m\u001B[0;34m\u001B[0m\u001B[0m\n",
      "\u001B[0;31mTypeError\u001B[0m: search_articles() takes from 1 to 4 positional arguments but 5 were given"
     ]
    }
   ],
   "source": [
    "from scripts.pubmed import search_fetch_articles\n",
    "\n",
    "result = search_fetch_articles(\"ORF7a\", search_keywords)\n",
    "\n",
    "# Primeiro Artigo\n",
    "for key in result[33305306].keys():\n",
    "    print(key, \": \", result[key])\n",
    "\n",
    "# Nº de artigos\n",
    "print(len(result))\n"
   ],
   "metadata": {
    "collapsed": false,
    "pycharm": {
     "name": "#%%\n"
    }
   }
  },
  {
   "cell_type": "markdown",
   "source": [],
   "metadata": {
    "collapsed": false,
    "pycharm": {
     "name": "#%% md\n"
    }
   }
  },
  {
   "cell_type": "code",
   "source": [
    "for gene in genes:\n",
    "    search_print_articles(search_term=gene, search_keywords=search_keywords, file=\"../data/{0}_search_results.md\".format(gene))\n",
    "\n",
    "\n"
   ],
   "metadata": {
    "collapsed": false,
    "pycharm": {
     "name": "#%% \n"
    }
   },
   "execution_count": null,
   "outputs": []
  }
 ],
 "metadata": {
  "kernelspec": {
   "display_name": "Python 3",
   "language": "python",
   "name": "python3"
  },
  "language_info": {
   "codemirror_mode": {
    "name": "ipython",
    "version": 2
   },
   "file_extension": ".py",
   "mimetype": "text/x-python",
   "name": "python",
   "nbconvert_exporter": "python",
   "pygments_lexer": "ipython2",
   "version": "2.7.6"
  },
  "pycharm": {
   "stem_cell": {
    "cell_type": "raw",
    "source": [
     "---\n",
     "title: 1 - Pesquisa automatizada do Pubmed\n",
     "date: \"2020-07-27T07:26:03.284Z\"\n",
     "description: \"Processo de pesquisa automatizado de artigos no Pubmed de interesse para o projeto\"\n",
     "categories: [Scripts], [Revisão Bibliogŕafica]\n",
     "---"
    ],
    "metadata": {
     "collapsed": false
    }
   }
  }
 },
 "nbformat": 4,
 "nbformat_minor": 0
}