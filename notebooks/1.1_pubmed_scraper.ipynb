{
 "cells": [
  {
   "cell_type": "code",
   "execution_count": 3,
   "metadata": {
    "collapsed": true
   },
   "outputs": [],
   "source": [
    "from scripts.pubmed import search_print_articles, search_fetch_articles, fetch_article, search_articles\n",
    "\n",
    "search_keywords = [\"generic\", \"function\", \"Sars-CoV2\"]\n",
    "genes = [\"ORF7a\", \"BST2\", \"ITGAL\"]"
   ]
  },
  {
   "cell_type": "code",
   "execution_count": 2,
   "outputs": [
    {
     "data": {
      "text/plain": "{'33305306': {'search_keywords': ['generic']},\n '33227343': {'search_keywords': ['generic']},\n '33195401': {'search_keywords': ['generic']},\n '33163695': {'search_keywords': ['generic']},\n '33161087': {'search_keywords': ['generic']},\n '33024967': {'search_keywords': ['generic']},\n '32971122': {'search_keywords': ['generic']},\n '32935103': {'search_keywords': ['generic']},\n '32929412': {'search_keywords': ['generic']},\n '32869027': {'search_keywords': ['generic']},\n '32814791': {'search_keywords': ['generic']},\n '32773420': {'search_keywords': ['generic']},\n '32754056': {'search_keywords': ['generic']},\n '32713862': {'search_keywords': ['generic']},\n '32691005': {'search_keywords': ['generic']},\n '32623351': {'search_keywords': ['generic']},\n '32615316': {'search_keywords': ['generic']},\n '32547891': {'search_keywords': ['generic']},\n '32511591': {'search_keywords': ['generic']},\n '32511297': {'search_keywords': ['generic']}}"
     },
     "execution_count": 2,
     "metadata": {},
     "output_type": "execute_result"
    }
   ],
   "source": [
    "search_articles(\"ORF7a\")"
   ],
   "metadata": {
    "collapsed": false,
    "pycharm": {
     "name": "#%%\n"
    }
   }
  },
  {
   "cell_type": "code",
   "execution_count": null,
   "outputs": [],
   "source": [
    "for gene in genes:\n",
    "    print(search_fetch_articles(db=\"pubmed\", search_term=gene, search_keywords=search_keywords))\n",
    "\n",
    "for gene in genes:\n",
    "    search_print_articles(search_term=gene, search_keywords=search_keywords, file=\"../data/{0}_search_results.md\".format(gene))"
   ],
   "metadata": {
    "collapsed": false,
    "pycharm": {
     "name": "#%%\n"
    }
   }
  },
  {
   "cell_type": "markdown",
   "source": [
    "\n",
    "- 'WORD': 'Text Word, Free text associated with publication',\n",
    "- 'LANG': 'Language, Language of publication',\n",
    "- 'TIAB': 'Title/Abstract, Free text associated with Abstract/Title',"
   ],
   "metadata": {
    "collapsed": false,
    "pycharm": {
     "name": "#%% md\n"
    }
   }
  }
 ],
 "metadata": {
  "kernelspec": {
   "display_name": "Python 3",
   "language": "python",
   "name": "python3"
  },
  "language_info": {
   "codemirror_mode": {
    "name": "ipython",
    "version": 2
   },
   "file_extension": ".py",
   "mimetype": "text/x-python",
   "name": "python",
   "nbconvert_exporter": "python",
   "pygments_lexer": "ipython2",
   "version": "2.7.6"
  }
 },
 "nbformat": 4,
 "nbformat_minor": 0
}