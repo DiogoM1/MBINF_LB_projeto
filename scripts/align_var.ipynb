{
 "cells": [
  {
   "cell_type": "markdown",
   "source": [
    "# TBL\n",
    "\n",
    "## 1) Verifique se existem variantes do vírus que sejam comuns entre as amostras de Portugal e de Espanha.\n",
    "\n",
    "Alguma leitura:\n",
    "https://justinbagley.rbind.io/2018/07/25/how-to-find-common-variants-in-multiple-vcf-files/\n",
    "https://www.researchgate.net/post/NGS-Analysis-How-can-I-detect-the-common-variants-in-two-VCF-files\n",
    "https://samtools.github.io/bcftools/bcftools.html#isec\n",
    "\n",
    "conclusão: usamos a posição como ID porque ele é dado pelo alinhamento à sequencia de referência"
   ],
   "metadata": {
    "collapsed": false
   }
  },
  {
   "cell_type": "code",
   "execution_count": null,
   "outputs": [],
   "source": [
    "import vcf\n",
    "\n",
    "def vcf2dict(loc):\n",
    "    \"\"\"\n",
    "    For a vcf file returns dict with all its records.\n",
    "\n",
    "    The Key:Value pair is structured as {'position':'full vcf record object'}\n",
    "    :param loc:string\n",
    "    :return:dict{int:obj}\n",
    "    \"\"\"\n",
    "    reader = vcf.Reader(open(loc, 'r'))\n",
    "    records = {}\n",
    "    for record in reader:\n",
    "        records[record.POS] = record\n",
    "    return records\n",
    "\n",
    "def vcf_isec(vcf1, vcf2):\n",
    "    \"\"\"\n",
    "    For 2 vcf dicts structured as {'position':'full vcf record object'}, returns the intersection of variants in a similarly structured dict.\n",
    "    :param vcf1: dict{int:obj}\n",
    "    :param vcf2: dict{int:obj}\n",
    "    :return: dict{int:obj}\n",
    "    \"\"\"\n",
    "    isec_records = {}\n",
    "    for record in vcf1.keys():\n",
    "        #https://stackoverflow.com/questions/3733992/determine-whether-a-key-is-present-in-a-dictionary\n",
    "        if record in vcf2:\n",
    "            isec_records[record]=vcf2[record]\n",
    "    # Logic could be added to check if dict is empty or not as in:\n",
    "    # https://stackoverflow.com/questions/23177439/python-checking-if-a-dictionary-is-empty-doesnt-seem-to-work\n",
    "    # But for modularity this list will just return and empty dict\n",
    "    return isec_records\n",
    "\n",
    "# Import the Portuguese (ERR4157959) and Spanish (ERR4395294) sample\n",
    "pt_records = vcf2dict('/home/dm/PycharmProjects/MBINF-LB/data_67/dados/ERR4157959.sars_cov.raw.vcf')\n",
    "es_records = vcf2dict('/home/dm/PycharmProjects/MBINF-LB/data_67/dados/ERR4395294.sars_cov.raw.vcf')\n",
    "\n",
    "# Find intersection\n",
    "pt_es_isec = vcf_isec(pt_records,es_records)\n",
    "\n",
    "# Produce human readable answer (checks if there is an isec or not)\n",
    "if pt_es_isec:\n",
    "    print(\"Existem variantes presentes nas duas amostras, estes estão localizados em {0}\".format(pt_es_isec.keys()))\n",
    "else:\n",
    "    print(\"Não existem variantes repetidos nas duas amostras.\")"
   ],
   "metadata": {
    "collapsed": false,
    "pycharm": {
     "name": "#%%\n"
    }
   }
  },
  {
   "cell_type": "markdown",
   "source": [
    "## 2) Identifique os genes com variantes nas amostras que possam ter sido alvo de estudo em artigos científicos para inferir a sua funcionalidade biológica e/ou possível alvo para a descoberta de tratamentos."
   ],
   "metadata": {
    "collapsed": false
   }
  },
  {
   "cell_type": "code",
   "execution_count": null,
   "outputs": [],
   "source": [
    "\n",
    "from BCBio import GFF\n",
    "from Bio import SeqIO\n",
    "from Bio.Seq import Seq\n",
    "from Bio.SeqRecord import SeqRecord\n",
    "from Bio import SeqFeature\n",
    "from collections import defaultdict\n",
    "\n",
    "\n",
    "def gff2rec(in_file):\n",
    "    \"\"\"\n",
    "    For a gff or gtf file returns list with all its genes.\n",
    "    :param in_file:string\n",
    "    :return:list[object]\n",
    "    \"\"\"\n",
    "    in_handle = open(in_file)\n",
    "    # https://biopython.org/wiki/GFF_Parsing\n",
    "    # This method is not good for massive gff files, read the doc\n",
    "    records = []\n",
    "    for record in GFF.parse(in_handle):\n",
    "        # This is dirty Python\n",
    "        records.append(record)\n",
    "    in_handle.close()\n",
    "    return records\n",
    "\n",
    "def seq_rec_sgenes(record):\n",
    "    \"\"\"\n",
    "    For SeqRecord returns list with all its genes that might have been studied for function.\n",
    "    :param record:string\n",
    "    :return:list[object]\n",
    "    \"\"\"\n",
    "    studied_genes = []\n",
    "    for feature in record.features:\n",
    "        if feature.type == \"gene\" and feature.qualifiers['gene_name'] and feature.qualifiers['gene_biotype']:\n",
    "            studied_genes.append(feature)\n",
    "    return studied_genes\n",
    "\n",
    "def lookup_var2genes(variations, record):\n",
    "    \"\"\"\n",
    "    For a list of SeqFeature objects, it performs a lookup of variations provided in a dict structured as {'position':'pyvcf record object'}.\n",
    "\n",
    "    This operation returns a dict where for gene there is a list of variation positions.\n",
    "    :param variations: dict{int:obj}\n",
    "    :param record: list[object]\n",
    "    :return: dict{string:list[int]}\n",
    "    \"\"\"\n",
    "    #TODO: Perguntar ao stor os critérios de comparação\n",
    "    genes_var = defaultdict(list)\n",
    "    for gene in seq_rec_sgenes(record):\n",
    "        # The \"gene_id\" qualifier is a list of len 1 so I have to call the index 0 otherwise in futher opperations I will try to add a list as a dict key.\n",
    "        # This raises an error as list are not hashable\n",
    "        gene_id = gene.qualifiers['gene_id'][0]\n",
    "        genes_var[gene_id] = []\n",
    "        for var in variations.keys():\n",
    "            # Variant position\n",
    "            # Gene location using the logic in:\n",
    "            # https://biopython.readthedocs.io/en/latest/api/Bio.SeqFeature.html#Bio.SeqFeature.FeatureLocation\n",
    "            if gene.location.start <= variations[var].POS <= gene.location.end:\n",
    "                # If the var is within the start and end of the gene, it means it belongs to it\n",
    "                # how to add to lists inside dict:\n",
    "                # https://stackoverflow.com/questions/26367812/appending-to-list-in-python-dictionary\n",
    "                genes_var[gene_id].append(var)\n",
    "    return genes_var\n",
    "\n",
    "# Import SarsCov2 ref seq genes\n",
    "SarsCov2_file = \"/home/dm/PycharmProjects/MBINF-LB/data_67/dados/Sars_cov_2.ASM985889v3.101.gtf\"\n",
    "sars_cov_rec = gff2rec(SarsCov2_file)[0]\n",
    "\n",
    "genes_with_var_es = lookup_var2genes(es_records, sars_cov_rec)\n",
    "genes_with_var_pt = lookup_var2genes(pt_records, sars_cov_rec)\n",
    "\n",
    "\n",
    "# Print the gene variations per gene\n",
    "# I know this function is not modular, judge me\n",
    "\n",
    "for gene in genes_with_var_es:\n",
    "    if genes_with_var_es[gene]:\n",
    "        # Dont print gene with no\n",
    "        print(\"The spanish sample has detected variations in the positions:{0} for the following studied gene {1}\".format(genes_with_var_es[gene], gene))\n",
    "for gene in genes_with_var_pt:\n",
    "    if genes_with_var_pt[gene]:\n",
    "        # Dont print gene with no\n",
    "        print(\"The portuguese sample has detected variations in the positions:{0} for the following studied gene {1}\".format(genes_with_var_pt[gene], gene))"
   ],
   "metadata": {
    "collapsed": false,
    "pycharm": {
     "name": "#%%\n"
    }
   }
  },
  {
   "cell_type": "markdown",
   "source": [
    "Existem dois genes de id ENSSASG00005000002 e ENSSASG00005000002 que se sobrepoem de nome ORF1ab.\n",
    "\n",
    "Critérios de seleção do genes foram ter um *gene_name* atribuido, por exemplo *ORF10* e ter um *gene_biotype* como por exemplo *protein_coding*.\n"
   ],
   "metadata": {
    "collapsed": false
   }
  }
 ],
 "metadata": {
  "kernelspec": {
   "display_name": "Python 3",
   "language": "python",
   "name": "python3"
  },
  "language_info": {
   "codemirror_mode": {
    "name": "ipython",
    "version": 2
   },
   "file_extension": ".py",
   "mimetype": "text/x-python",
   "name": "python",
   "nbconvert_exporter": "python",
   "pygments_lexer": "ipython2",
   "version": "2.7.6"
  }
 },
 "nbformat": 4,
 "nbformat_minor": 0
}