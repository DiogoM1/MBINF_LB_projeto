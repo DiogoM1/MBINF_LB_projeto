{
 "cells": [
  {
   "cell_type": "markdown",
   "metadata": {
    "collapsed": true,
    "pycharm": {
     "name": "#%% md\n"
    }
   },
   "source": [
    "# ORF7a\n",
    "\n",
    "- Proteina Viral;\n",
    "- A proteína ORF7a localiza-se principalmente no RE de células infetadas;\n",
    "- Tem com função facilitar o processo de libertação dos viriões ao antagonizar a proteína BST-2;\n",
    "- Bloqueia a ação da proteína BST-2, ao impedir que ocorra a glicosilação em dois sítios-chave."
   ]
  }
 ],
 "metadata": {
  "kernelspec": {
   "display_name": "Python 3",
   "language": "python",
   "name": "python3"
  },
  "language_info": {
   "codemirror_mode": {
    "name": "ipython",
    "version": 2
   },
   "file_extension": ".py",
   "mimetype": "text/x-python",
   "name": "python",
   "nbconvert_exporter": "python",
   "pygments_lexer": "ipython2",
   "version": "2.7.6"
  }
 },
 "nbformat": 4,
 "nbformat_minor": 0
}