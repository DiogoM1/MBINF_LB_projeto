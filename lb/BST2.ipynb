{
 "cells": [
  {
   "cell_type": "markdown",
   "metadata": {
    "collapsed": true,
    "pycharm": {
     "name": "#%% md\n"
    }
   },
   "source": [
    "# BST2\n",
    "\n",
    "- Proteina Humana;\n",
    "- Tem com função impedir a libertação dos viriões, criando ligações entre a teterina e o virião agarrando-se à célula hospedeira;\n",
    "- Fica ativa após a ocorrência de glicosilação em dois sítios-chave;\n",
    "- É uma proteína com um alvo não específico que inibe a libertação de virões de várias famílias de vírus.\n"
   ]
  }
 ],
 "metadata": {
  "kernelspec": {
   "display_name": "Python 3",
   "language": "python",
   "name": "python3"
  },
  "language_info": {
   "codemirror_mode": {
    "name": "ipython",
    "version": 2
   },
   "file_extension": ".py",
   "mimetype": "text/x-python",
   "name": "python",
   "nbconvert_exporter": "python",
   "pygments_lexer": "ipython2",
   "version": "2.7.6"
  }
 },
 "nbformat": 4,
 "nbformat_minor": 0
}