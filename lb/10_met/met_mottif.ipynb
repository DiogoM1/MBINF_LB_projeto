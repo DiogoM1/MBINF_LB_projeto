{
 "cells": [
  {
   "cell_type": "markdown",
   "metadata": {
    "collapsed": true,
    "pycharm": {
     "name": "#%% md\n"
    }
   },
   "source": [
    "# Determinação de motifs\n",
    "\n",
    "## Descrição do Procedimento\n",
    "Este procedimento está integrado com a seleção de homolgos obtidos por BLAST para cada gene.\n",
    "\n",
    "Como descrito anteriormente, depois de estes serem determinados, as suas sequências são colocadas num ficheiro fasta.\n",
    "\n",
    "Este será então processado utilizando a ferramente MEME, com as mesmas configurações, que aquelas que podem ser encontradas na interface grafica.\n",
    "\n",
    "Este processo irá então determinar a existencia de mottifs entre as diferentes sequências.\n",
    "\n",
    "De seguida é corrida a ferramenta FIMA de forma a anotar estes, na sequência de referência\n",
    "\n",
    "# Considerações Práticas\n",
    "\n",
    "Tanto a Ferramenta MEME como FIMO são usadas na sua versão local"
   ]
  }
 ],
 "metadata": {
  "kernelspec": {
   "display_name": "Python 3",
   "language": "python",
   "name": "python3"
  },
  "language_info": {
   "codemirror_mode": {
    "name": "ipython",
    "version": 2
   },
   "file_extension": ".py",
   "mimetype": "text/x-python",
   "name": "python",
   "nbconvert_exporter": "python",
   "pygments_lexer": "ipython2",
   "version": "2.7.6"
  }
 },
 "nbformat": 4,
 "nbformat_minor": 0
}