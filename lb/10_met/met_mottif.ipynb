{
 "cells": [
  {
   "cell_type": "markdown",
   "metadata": {
    "collapsed": true,
    "pycharm": {
     "name": "#%% md\n"
    }
   },
   "source": [
    "# Determinação de motifs\n",
    "\n",
    "## Descrição do Procedimento\n",
    "Este procedimento está integrado com a seleção de homolgos obtidos por BLAST para cada gene.\n",
    "\n",
    "Como descrito anteriormente, depois de estes serem determinados, as suas sequências são colocadas num ficheiro fasta.\n",
    "\n",
    "Este será então processado utilizando a ferramente MEME, com as mesmas configurações, que aquelas que podem ser encontradas na interface grafica.\n",
    "\n",
    "Este processo irá então determinar a existencia de mottifs entre as diferentes sequências.\n",
    "\n",
    "De seguida é corrida a ferramenta FIMA de forma a anotar estes, na sequência de referência\n",
    "\n",
    "# Considerações Práticas\n",
    "\n",
    "Tanto a Ferramenta MEME como FIMO são usadas na sua versão local\n",
    "\n",
    "Na metodologia MEME foi escolhidoe metodo classic para evitar ter que forncecer 2 sets de sequências\n",
    "\n",
    "Foi escolhido o o metodo ZOOPS, dado que estamos a processar sequencias que admitimos como homolgas e como tal diferenças entre especies pode levar a nao aparecimento de certos MOTTIFS\n",
    "\n",
    "NOTA -> Poderá ser visto se a seq de referencia tem algum mottif que se repita e com base nisto executar para o resto.\n",
    "\n",
    "http://tlbailey.bitbucket.io/papers/ismb94.pdf\n",
    "https://academic.oup.com/bioinformatics/article/27/7/1017/232614\n",
    "http://bioinformatics.oxfordjournals.org/content/14/1/48"
   ]
  }
 ],
 "metadata": {
  "kernelspec": {
   "display_name": "Python 3",
   "language": "python",
   "name": "python3"
  },
  "language_info": {
   "codemirror_mode": {
    "name": "ipython",
    "version": 2
   },
   "file_extension": ".py",
   "mimetype": "text/x-python",
   "name": "python",
   "nbconvert_exporter": "python",
   "pygments_lexer": "ipython2",
   "version": "2.7.6"
  }
 },
 "nbformat": 4,
 "nbformat_minor": 0
}