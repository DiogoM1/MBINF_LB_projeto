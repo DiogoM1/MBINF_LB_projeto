{
 "cells": [
  {
   "cell_type": "markdown",
   "metadata": {
    "collapsed": true,
    "pycharm": {
     "name": "#%% md\n"
    }
   },
   "source": [
    "# Procura de Homolgos por BLAST"
   ]
  },
  {
   "cell_type": "code",
   "execution_count": null,
   "outputs": [],
   "source": [
    "\"\"\"escrever_genbank_nucleotide('1949110198', '/data/demo_genebank/')\"\"\"\n",
    "\n",
    "homolg_id(\"1949110243\")\n",
    "\n",
    "\"\"\"\n",
    "#nome_ficheiro.append(\"{0}_{1}.gb\".format(chave, valor))\n",
    "print('ficheiros.gb')\n",
    "os.chdir('..')\n",
    "os.chdir('data/resultados_GeneBank')\n",
    "for nome in dict_nomes.keys():\n",
    "    lista_genes = dict_nomes.get(nome)\n",
    "    for id in lista_genes:\n",
    "        print(nome, id)\n",
    "        escrever_genbank_nucleotide(id, \"{0}_{1}.gb\".format(nome, id))\n",
    "\"\"\""
   ],
   "metadata": {
    "collapsed": false,
    "pycharm": {
     "name": "#%%\n"
    }
   }
  }
 ],
 "metadata": {
  "kernelspec": {
   "display_name": "Python 3",
   "language": "python",
   "name": "python3"
  },
  "language_info": {
   "codemirror_mode": {
    "name": "ipython",
    "version": 2
   },
   "file_extension": ".py",
   "mimetype": "text/x-python",
   "name": "python",
   "nbconvert_exporter": "python",
   "pygments_lexer": "ipython2",
   "version": "2.7.6"
  }
 },
 "nbformat": 4,
 "nbformat_minor": 0
}