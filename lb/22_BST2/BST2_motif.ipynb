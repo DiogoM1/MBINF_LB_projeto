{
 "cells": [
  {
   "cell_type": "markdown",
   "metadata": {
    "collapsed": true,
    "pycharm": {
     "name": "#%% md\n"
    }
   },
   "source": [
    "# Identificação de *Motifs*"
   ]
  },
  {
   "cell_type": "code",
   "execution_count": null,
   "outputs": [],
   "source": [
    "import docker, os\n",
    "\n",
    "a = %pwd\n",
    "wd = (a.rsplit('/',2))[0]\n",
    "\n",
    "GENE = \"BST2\"\n",
    "BLAST_Results_ncbi=os.path.join(\"homologue\", GENE, \"NM_004335_BST2.fasta\")\n",
    "BLAST_Results_uniprot=os.path.join(\"homologue\", GENE, \"B20210131216DA2B77BFBD2E6699CA9B6D1C41EB200F810O.fasta\")\n",
    "REF=os.path.join(\"reference\", GENE, \"BST2_prot.fasta\")\n",
    "D_MEME='quay.io/biocontainers/meme:5.3.0--py37pl526h072abfd_0'\n",
    "\n",
    "WORK_HOST_DIRECTORY=wd\n",
    "WORK_CONT_DIRECTORY='/opt/project'"
   ],
   "metadata": {
    "collapsed": false,
    "pycharm": {
     "name": "#%%\n"
    }
   }
  },
  {
   "cell_type": "code",
   "execution_count": 2,
   "metadata": {
    "pycharm": {
     "name": "#%%\n"
    }
   },
   "outputs": [],
   "source": [
    "client = docker.from_env()\n",
    "bwa_docker_cont = client.containers.run(\n",
    "    image=D_MEME,\n",
    "    volumes={WORK_HOST_DIRECTORY: {'bind': WORK_CONT_DIRECTORY,'mode': 'rw'}},\n",
    "    working_dir= WORK_CONT_DIRECTORY+'/data/motif/',\n",
    "    entrypoint=\"bash\",\n",
    "    command='{0}/scripts_bash/meme.sh {1} {2} {3} {4}'.format(WORK_CONT_DIRECTORY, BLAST_Results_ncbi, BLAST_Results_uniprot, REF, GENE))"
   ]
  },
  {
   "cell_type": "code",
   "execution_count": 3,
   "metadata": {
    "pycharm": {
     "name": "#%%\n"
    }
   },
   "outputs": [],
   "source": [
    "from Bio import motifs\n",
    "\n",
    "with open(os.path.join(wd, \"data/motif\", GENE, \"meme/meme.xml\")) as file:\n",
    "    meme_record = motifs.parse(file, \"MEME\")"
   ]
  },
  {
   "cell_type": "code",
   "execution_count": 4,
   "metadata": {
    "pycharm": {
     "name": "#%%\n"
    }
   },
   "outputs": [
    {
     "name": "stdout",
     "output_type": "stream",
     "text": [
      "type: sequence_motif\n",
      "location: [42:92](+)\n",
      "id: YFAVKANSEACRDGLRAQEECRNTTHLLQRQLTRAQDSLLQAEAQANSCN-MEME-1-1-NP_004326.1\n",
      "qualifiers:\n",
      "    Key: Alias, Value: ['MEME-1']\n",
      "    Key: ID, Value: ['YFAVKANSEACRDGLRAQEECRNTTHLLQRQLTRAQDSLLQAEAQANSCN-MEME-1-1-NP_004326.1']\n",
      "    Key: Name, Value: ['YFAVKANSEACRDGLRAQEECRNTTHLLQRQLTRAQDSLLQAEAQANSCN_NP_004326.1+']\n",
      "    Key: pvalue, Value: ['4.79e-51']\n",
      "    Key: qvalue, Value: ['6.17e-49']\n",
      "    Key: score, Value: ['503']\n",
      "    Key: sequence, Value: ['IFTIKANSEACRDGLRAVMECRNVTHLLQQELTEAQKGFQDVEAQAATCN']\n",
      "    Key: source, Value: ['fimo']\n",
      "\n",
      "type: sequence_motif\n",
      "location: [0:14](+)\n",
      "id: MAPSFYHYLPVPMD-MEME-2-1-NP_004326.1\n",
      "qualifiers:\n",
      "    Key: Alias, Value: ['MEME-2']\n",
      "    Key: ID, Value: ['MAPSFYHYLPVPMD-MEME-2-1-NP_004326.1']\n",
      "    Key: Name, Value: ['MAPSFYHYLPVPMD_NP_004326.1+']\n",
      "    Key: pvalue, Value: ['8.48e-18']\n",
      "    Key: qvalue, Value: ['1.34e-15']\n",
      "    Key: score, Value: ['171']\n",
      "    Key: sequence, Value: ['MASTSYDYCRVPME']\n",
      "    Key: source, Value: ['fimo']\n",
      "\n",
      "type: sequence_motif\n",
      "location: [131:180](+)\n",
      "id: LENEVEKLNQELENLRTQKEASTTVQVNSGGSMVVSSLLVLVVPLFLLF-MEME-3-1-NP_004326.1\n",
      "qualifiers:\n",
      "    Key: Alias, Value: ['MEME-3']\n",
      "    Key: ID, Value: ['LENEVEKLNQELENLRTQKEASTTVQVNSGGSMVVSSLLVLVVPLFLLF-MEME-3-1-NP_004326.1']\n",
      "    Key: Name, Value: ['LENEVEKLNQELENLRTQKEASTTVQVNSGGSMVVSSLLVLVVPLFLLF_NP_004326.1+']\n",
      "    Key: pvalue, Value: ['1.35e-05']\n",
      "    Key: qvalue, Value: ['0.0016']\n",
      "    Key: score, Value: ['48.7']\n",
      "    Key: sequence, Value: ['AEVERLRRENQVLSVRIADKKYYPSSQDSSSAAAPQLLIVLLGLSALLQ']\n",
      "    Key: source, Value: ['fimo']\n",
      "\n",
      "type: sequence_motif\n",
      "location: [150:156](+)\n",
      "id: KFYYFS-MEME-5-1-NP_004326.1\n",
      "qualifiers:\n",
      "    Key: Alias, Value: ['MEME-5']\n",
      "    Key: ID, Value: ['KFYYFS-MEME-5-1-NP_004326.1']\n",
      "    Key: Name, Value: ['KFYYFS_NP_004326.1+']\n",
      "    Key: pvalue, Value: ['1.43e-09']\n",
      "    Key: qvalue, Value: ['2.49e-07']\n",
      "    Key: score, Value: ['88.4']\n",
      "    Key: sequence, Value: ['KKYYPS']\n",
      "    Key: source, Value: ['fimo']\n",
      "\n"
     ]
    }
   ],
   "source": [
    "from scripts_python.vcf_gff import gff2rec\n",
    "\n",
    "motif_in_ref = gff2rec(os.path.join(wd,\"data/motif\", GENE, \"fimo/fimo.gff\"))\n",
    "for seq in motif_in_ref:\n",
    "    for feature in seq.features:\n",
    "        print(feature)"
   ]
  },
  {
   "cell_type": "code",
   "execution_count": 5,
   "metadata": {
    "pycharm": {
     "name": "#%%\n"
    }
   },
   "outputs": [
    {
     "name": "stdout",
     "output_type": "stream",
     "text": [
      "0\n",
      "0\n",
      "0\n",
      "0\n",
      "0\n"
     ]
    }
   ],
   "source": [
    "from Bio import motifs\n",
    "\n",
    "with open(os.path.join(wd, \"data/motif\", GENE, \"mast/mast.xml\")) as f:\n",
    "    mast_records = motifs.parse(f, \"MAST\")\n",
    "\n",
    "for motif in mast_records:\n",
    "    print(motif.num_occurrences)"
   ]
  }
 ],
 "metadata": {
  "kernelspec": {
   "display_name": "Python 3",
   "language": "python",
   "name": "python3"
  },
  "language_info": {
   "codemirror_mode": {
    "name": "ipython",
    "version": 3
   },
   "file_extension": ".py",
   "mimetype": "text/x-python",
   "name": "python",
   "nbconvert_exporter": "python",
   "pygments_lexer": "ipython3",
   "version": "3.8.5"
  }
 },
 "nbformat": 4,
 "nbformat_minor": 1
}