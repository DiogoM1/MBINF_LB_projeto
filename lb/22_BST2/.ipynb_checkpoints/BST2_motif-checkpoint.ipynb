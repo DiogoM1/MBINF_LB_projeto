{
 "cells": [
  {
   "cell_type": "markdown",
   "metadata": {
    "collapsed": true,
    "pycharm": {
     "name": "#%% md\n"
    }
   },
   "source": [
    "# Identificação de *Motifs*"
   ]
  },
  {
   "cell_type": "code",
   "execution_count": 6,
   "metadata": {
    "pycharm": {
     "name": "#%%\n"
    }
   },
   "outputs": [],
   "source": [
    "import docker, os\n",
    "\n",
    "a = %pwd\n",
    "wd = (a.rsplit('/',2))[0]\n",
    "\n",
    "GENE = \"BST2\"\n",
    "BLAST_Results_ncbi=os.path.join(\"homologue\", GENE, \"NM_004335_BST2.fasta\")\n",
    "BLAST_Results_uniprot=os.path.join(\"homologue\", GENE, \"B20210131216DA2B77BFBD2E6699CA9B6D1C41EB200F810O.fasta\")\n",
    "REF=os.path.join(\"reference\", GENE, \"BST2_prot.fasta\")\n",
    "D_MEME='quay.io/biocontainers/meme:5.3.0--py37pl526h072abfd_0'\n",
    "\n",
    "WORK_HOST_DIRECTORY=wd\n",
    "WORK_CONT_DIRECTORY='/opt/project'"
   ]
  },
  {
   "cell_type": "code",
   "execution_count": 2,
   "metadata": {
    "pycharm": {
     "name": "#%%\n"
    }
   },
   "outputs": [],
   "source": [
    "client = docker.from_env()\n",
    "bwa_docker_cont = client.containers.run(\n",
    "    image=D_MEME,\n",
    "    volumes={WORK_HOST_DIRECTORY: {'bind': WORK_CONT_DIRECTORY,'mode': 'rw'}},\n",
    "    working_dir= WORK_CONT_DIRECTORY+'/data/motif/',\n",
    "    entrypoint=\"bash\",\n",
    "    command='{0}/scripts_bash/meme.sh {1} {2} {3} {4}'.format(WORK_CONT_DIRECTORY, BLAST_Results_ncbi, BLAST_Results_uniprot, REF, GENE))"
   ]
  },
  {
   "cell_type": "code",
   "execution_count": 7,
   "metadata": {
    "pycharm": {
     "name": "#%%\n"
    }
   },
   "outputs": [
    {
     "name": "stdout",
     "output_type": "stream",
     "text": [
      "motif_1 : YFAVKANSEACRDGLRAQEECRNTTHLLQRQLTRAQDSLLQAEAQANSCN 4\n",
      "motif_2 : MAPSFYHYLPVPMD 4\n",
      "motif_3 : LENEVEKLNQELENLRTQKEASTTVQVNSGGSMVVSSLLVLVVPLFLLF 3\n",
      "motif_4 : MWGPQGWGTRRQW 3\n",
      "motif_5 : KFYYFS 2\n"
     ]
    }
   ],
   "source": [
    "from Bio import motifs\n",
    "\n",
    "with open(os.path.join(wd, \"data/motif\", GENE, \"meme/meme.xml\")) as file:\n",
    "    meme_record = motifs.parse(file, \"MEME\")\n",
    "\n",
    "for motif in meme_record:\n",
    "    print(motif.id, \":\" ,motif.name, motif.num_occurrences)"
   ]
  },
  {
   "cell_type": "markdown",
   "metadata": {
    "pycharm": {
     "name": "#%% md\n"
    }
   },
   "source": [
    "A utilização do MEME para anotação *de novo* resultou em 5 potências motif, apesar disto elas não são constantes \n",
    "\n",
    ":::{figure,myclass}\n",
    "![Figura 1 - NJ BST2](img/weblogo_BST2.png)\n",
    "\n",
    "Weblogos dos motifs anotados *de novo*\n",
    ":::\n",
    "\n",
    ":::{figure,myclass}\n",
    "![Figura 1 - NJ BST2](img/meme_loc_BST2.png)\n",
    "\n",
    "Localização dos motifs anotados *de novo*\n",
    ":::\n",
    "\n",
    "Com estes motifs mais uma vez coincidem locais identificados anteriormente, por exemplo o dominio [16:81], que sendo uma estrutura tridimensional, pode ser composta por ambos estes motifs de estrutura secundária."
   ]
  },
  {
   "cell_type": "code",
   "execution_count": 8,
   "metadata": {
    "pycharm": {
     "name": "#%%\n"
    }
   },
   "outputs": [
    {
     "name": "stdout",
     "output_type": "stream",
     "text": [
      "type: sequence_motif\n",
      "location: [42:92](+)\n",
      "id: YFAVKANSEACRDGLRAQEECRNTTHLLQRQLTRAQDSLLQAEAQANSCN-MEME-1-1-NP_004326.1\n",
      "qualifiers:\n",
      "    Key: Alias, Value: ['MEME-1']\n",
      "    Key: ID, Value: ['YFAVKANSEACRDGLRAQEECRNTTHLLQRQLTRAQDSLLQAEAQANSCN-MEME-1-1-NP_004326.1']\n",
      "    Key: Name, Value: ['YFAVKANSEACRDGLRAQEECRNTTHLLQRQLTRAQDSLLQAEAQANSCN_NP_004326.1+']\n",
      "    Key: pvalue, Value: ['4.79e-51']\n",
      "    Key: qvalue, Value: ['6.17e-49']\n",
      "    Key: score, Value: ['503']\n",
      "    Key: sequence, Value: ['IFTIKANSEACRDGLRAVMECRNVTHLLQQELTEAQKGFQDVEAQAATCN']\n",
      "    Key: source, Value: ['fimo']\n",
      "\n",
      "type: sequence_motif\n",
      "location: [0:14](+)\n",
      "id: MAPSFYHYLPVPMD-MEME-2-1-NP_004326.1\n",
      "qualifiers:\n",
      "    Key: Alias, Value: ['MEME-2']\n",
      "    Key: ID, Value: ['MAPSFYHYLPVPMD-MEME-2-1-NP_004326.1']\n",
      "    Key: Name, Value: ['MAPSFYHYLPVPMD_NP_004326.1+']\n",
      "    Key: pvalue, Value: ['8.48e-18']\n",
      "    Key: qvalue, Value: ['1.34e-15']\n",
      "    Key: score, Value: ['171']\n",
      "    Key: sequence, Value: ['MASTSYDYCRVPME']\n",
      "    Key: source, Value: ['fimo']\n",
      "\n",
      "type: sequence_motif\n",
      "location: [131:180](+)\n",
      "id: LENEVEKLNQELENLRTQKEASTTVQVNSGGSMVVSSLLVLVVPLFLLF-MEME-3-1-NP_004326.1\n",
      "qualifiers:\n",
      "    Key: Alias, Value: ['MEME-3']\n",
      "    Key: ID, Value: ['LENEVEKLNQELENLRTQKEASTTVQVNSGGSMVVSSLLVLVVPLFLLF-MEME-3-1-NP_004326.1']\n",
      "    Key: Name, Value: ['LENEVEKLNQELENLRTQKEASTTVQVNSGGSMVVSSLLVLVVPLFLLF_NP_004326.1+']\n",
      "    Key: pvalue, Value: ['1.35e-05']\n",
      "    Key: qvalue, Value: ['0.0016']\n",
      "    Key: score, Value: ['48.7']\n",
      "    Key: sequence, Value: ['AEVERLRRENQVLSVRIADKKYYPSSQDSSSAAAPQLLIVLLGLSALLQ']\n",
      "    Key: source, Value: ['fimo']\n",
      "\n",
      "type: sequence_motif\n",
      "location: [150:156](+)\n",
      "id: KFYYFS-MEME-5-1-NP_004326.1\n",
      "qualifiers:\n",
      "    Key: Alias, Value: ['MEME-5']\n",
      "    Key: ID, Value: ['KFYYFS-MEME-5-1-NP_004326.1']\n",
      "    Key: Name, Value: ['KFYYFS_NP_004326.1+']\n",
      "    Key: pvalue, Value: ['1.43e-09']\n",
      "    Key: qvalue, Value: ['2.49e-07']\n",
      "    Key: score, Value: ['88.4']\n",
      "    Key: sequence, Value: ['KKYYPS']\n",
      "    Key: source, Value: ['fimo']\n",
      "\n"
     ]
    }
   ],
   "source": [
    "from scripts_python.vcf_gff import gff2rec\n",
    "\n",
    "motif_in_ref = gff2rec(os.path.join(wd,\"data/motif\", GENE, \"fimo/fimo.gff\"))\n",
    "for seq in motif_in_ref:\n",
    "    for feature in seq.features:\n",
    "        print(feature)"
   ]
  },
  {
   "cell_type": "markdown",
   "metadata": {},
   "source": [
    "Correndo o FIMO sobre a sequência de referência, podemos observar então ver em detalhe a localização e as propriedades destes motifs.\n",
    "\n",
    "Finalmente corremos o MAST contra as sequências resultantes do BLAST do NCBI (nr/nt). Isto permitiu verificar a conservação deste motifs nas diversas sequências.\n",
    "\n",
    "\n",
    ":::{figure,myclass}\n",
    "![Figura 1 - NJ BST2](img/mast_loc_BST2.png)\n",
    "\n",
    "Exemplo das localização dos motifs anotados num segundo subset de sequências homólogas.\n",
    ":::"
   ]
  }
 ],
 "metadata": {
  "kernelspec": {
   "display_name": "Python 3",
   "language": "python",
   "name": "python3"
  },
  "language_info": {
   "codemirror_mode": {
    "name": "ipython",
    "version": 3
   },
   "file_extension": ".py",
   "mimetype": "text/x-python",
   "name": "python",
   "nbconvert_exporter": "python",
   "pygments_lexer": "ipython3",
   "version": "3.8.5"
  }
 },
 "nbformat": 4,
 "nbformat_minor": 1
}
