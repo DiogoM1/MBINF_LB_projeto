{
 "cells": [
  {
   "cell_type": "markdown",
   "source": [
    "# Filogenia"
   ],
   "metadata": {
    "collapsed": false
   }
  },
  {
   "cell_type": "code",
   "execution_count": 6,
   "metadata": {
    "collapsed": true
   },
   "outputs": [],
   "source": [
    "import docker, os\n",
    "\n",
    "a = %pwd\n",
    "wd = (a.rsplit('/',2))[0]\n",
    "\n",
    "GENE = \"BST2\"\n",
    "BLAST_Results=os.path.join(\"homologue\", GENE, \"B20210131216DA2B77BFBD2E6699CA9B6D1C41EB200F810O.fasta\")\n",
    "\n",
    "\n",
    "D_CLUSTAL_O='quay.io/biocontainers/clustalo:1.2.4--1'\n",
    "\n",
    "WORK_HOST_DIRECTORY=wd\n",
    "WORK_CONT_DIRECTORY='/opt/project'\n"
   ]
  },
  {
   "cell_type": "code",
   "execution_count": 7,
   "outputs": [],
   "source": [
    "client = docker.from_env()\n",
    "bwa_docker_cont = client.containers.run(\n",
    "    image=D_CLUSTAL_O,\n",
    "    volumes={WORK_HOST_DIRECTORY: {'bind': WORK_CONT_DIRECTORY,'mode': 'rw'}},\n",
    "    working_dir= WORK_CONT_DIRECTORY+'/data/multi_align/',\n",
    "    entrypoint=\"bash\",\n",
    "    command='{0}/scripts_bash/clustalo.sh {1} {2}'.format(WORK_CONT_DIRECTORY, BLAST_Results, GENE))\n"
   ],
   "metadata": {
    "collapsed": false,
    "pycharm": {
     "name": "#%%\n"
    }
   }
  },
  {
   "cell_type": "code",
   "execution_count": 8,
   "outputs": [
    {
     "name": "stdout",
     "output_type": "stream",
     "text": [
      "Alignment with 6 rows and 589 columns\n",
      "-----MASTSYDY-----------------CRVPMEDGDKR--C...--- sp|Q10589|BST2_HUMAN\n",
      "-----MAPTFYHY-----------------HPLPMDQKEPG--C...--- sp|Q6WRU0|BST2_CRIGR\n",
      "-----MAPSFYHY-----------------LPVPMDEMGGKQGW...--- sp|Q8R2Q8|BST2_MOUSE\n",
      "-----MAPSFYHY-----------------LPVAMDERWEPKGW...--- sp|Q811A2|BST2_RAT\n",
      "--------------------------------------------...--- sp|P22311|PU91_BRACO\n",
      "MKEAELNRDVAKFCTDNQCVILQPQGLGPKSAAPMAPRTLRHV-...DQS sp|P10716|CLC4F_RAT\n"
     ]
    }
   ],
   "source": [
    "from Bio import AlignIO\n",
    "\n",
    "alin_fa = AlignIO.read(os.path.join(wd,\"data/multi_align\", GENE, f\"{GENE}_clustalo.fasta\"), \"fasta\")\n",
    "\n",
    "print(alin_fa)"
   ],
   "metadata": {
    "collapsed": false,
    "pycharm": {
     "name": "#%%\n"
    }
   }
  },
  {
   "cell_type": "markdown",
   "source": [
    ":::{figure,myclass}\n",
    "![Figura 1 - NJ ORF7a](img/BST2_NJ.png)\n",
    "\n",
    "Árvore filogenética para o alinhamento múltiplo de P0DTC7 (ORF7a)\n",
    ":::\n",
    "\n",
    "A proteína BST2 humana, encontra-se próxima de proteínas homólogas de outros táxons, nomeadamente de espécies de roedores. Ramificando-se ao descer (existem proteínas diferentes no nó de baixo)."
   ],
   "metadata": {
    "collapsed": false,
    "pycharm": {
     "name": "#%% md\n"
    }
   }
  }
 ],
 "metadata": {
  "kernelspec": {
   "display_name": "Python 3",
   "language": "python",
   "name": "python3"
  },
  "language_info": {
   "codemirror_mode": {
    "name": "ipython",
    "version": 2
   },
   "file_extension": ".py",
   "mimetype": "text/x-python",
   "name": "python",
   "nbconvert_exporter": "python",
   "pygments_lexer": "ipython2",
   "version": "2.7.6"
  }
 },
 "nbformat": 4,
 "nbformat_minor": 0
}