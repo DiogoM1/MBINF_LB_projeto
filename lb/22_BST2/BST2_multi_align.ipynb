{
 "cells": [
  {
   "cell_type": "code",
   "execution_count": 1,
   "metadata": {
    "collapsed": true
   },
   "outputs": [],
   "source": [
    "import docker, os\n",
    "\n",
    "a = %pwd\n",
    "wd = (a.rsplit('/',2))[0]\n",
    "\n",
    "GENE = \"BST2\"\n",
    "BLAST_Results=os.path.join(\"homologue\", GENE, \"NM_004335_BST2.fasta\")\n",
    "\n",
    "\n",
    "D_CLUSTAL_O='quay.io/biocontainers/clustalo:1.2.4--1'\n",
    "\n",
    "WORK_HOST_DIRECTORY=wd\n",
    "WORK_CONT_DIRECTORY='/opt/project'"
   ]
  },
  {
   "cell_type": "code",
   "execution_count": 7,
   "outputs": [],
   "source": [
    "client = docker.from_env()\n",
    "bwa_docker_cont = client.containers.run(\n",
    "    image=D_CLUSTAL_O,\n",
    "    volumes={WORK_HOST_DIRECTORY: {'bind': WORK_CONT_DIRECTORY,'mode': 'rw'}},\n",
    "    working_dir= WORK_CONT_DIRECTORY+'/data/multi_align/',\n",
    "    entrypoint=\"bash\",\n",
    "    command='{0}/scripts_bash/clustalo.sh {1} {2}'.format(WORK_CONT_DIRECTORY, BLAST_Results, GENE))\n"
   ],
   "metadata": {
    "collapsed": false,
    "pycharm": {
     "name": "#%%\n"
    }
   }
  },
  {
   "cell_type": "code",
   "execution_count": 12,
   "outputs": [
    {
     "name": "stdout",
     "output_type": "stream",
     "text": [
      "Alignment with 20 rows and 185 columns\n",
      "MASTSYDYCRVPME-----DGDKRCKLLLGIGILVLLIIVILGV...LLQ ref|NP_004326.1|\n",
      "MASTSYDYCRVPME-----DGDKRCKLLLGIGILVLLIIVILGV...LLQ dbj|BAD96844.1|\n",
      "MASTLYDYCRVPMDDIWKKDGDKRCKLLLGIGILVLLIIVILGV...LLQ ref|NP_001266147.1|\n",
      "MASTLYDYCRVPMDAILKKDGDKRCKLLLGIGILVLLIIVILGV...LLQ ref|XP_018869871.1|\n",
      "MASTLYDYCRVPMDAILKKDGDKRCKLLLGIGILVLLIIVILGV...LPQ ref|NP_001266560.1|\n",
      "MASTLYDYCRVPMDDIWKKDGDKRCKLLLGIGILMLLIIVILGV...LLQ ref|NP_001177409.1|\n",
      "MASTLYDYCRVPMGDICKKDGDKRCKLLLGIGILVLLITVILGV...LL- gb|ADI58596.1|\n",
      "MAPTLYDYCRGPMDDIWKKDGDKRCKLLLGIGILVLLIIVSLGV...--- ref|NP_001295602.1|\n",
      "MASTSYDYCRVPME-----DGDKRCKLLLGIGILVLLIIVILGV...--- dbj|BAG64608.1|\n",
      "MASTLYDYCRVPMGDICKKDGDKRCKLLLGIGILVLLITVILGV...--- ref|NP_001166058.1|\n",
      "MAPTLYDYCRVPMDGIWKKDGDKRCKLLLGIGILVLLIIVSLGV...--- gb|ADI58598.1|\n",
      "MAPTLYDYCRVPMDDIWKKDGDKRCKLLLGIGILVLLIIVSLGV...--- ref|XP_030675274.1|\n",
      "--------------------------------------------...--- pdb|3MQB|A\n",
      "--------------------------------------------...--- pdb|3MQC|A\n",
      "--------------------------------------------...--- pdb|3MQ7|A\n",
      "--------------------------------------------...--- pdb|3NWH|A\n",
      "--------------------------------------------...--- pdb|2XG7|A\n",
      "MASTLYDYCRVPMDDIWKKDGDKRCKLLLGIGILMLLIIVILGV...--- ref|XP_024206821.1|\n",
      "--------------------------------------------...--- pdb|3MQ9|A\n",
      "--------------------------------------------...--- pdb|2X7A|A\n"
     ]
    }
   ],
   "source": [
    "from Bio import SeqIO, AlignIO, Phylo\n",
    "\n",
    "alin_fa = AlignIO.read(os.path.join(wd,\"data/multi_align\", GENE, f\"{GENE}_clustalo.fasta\"), \"fasta\")\n",
    "\n",
    "print(alin_fa)"
   ],
   "metadata": {
    "collapsed": false,
    "pycharm": {
     "name": "#%%\n"
    }
   }
  },
  {
   "cell_type": "code",
   "execution_count": 16,
   "outputs": [
    {
     "name": "stdout",
     "output_type": "stream",
     "text": [
      "Tree(rooted=False, weight=1.0)\n",
      "    Clade()\n",
      "        Clade(branch_length=0.000399202)\n",
      "            Clade(branch_length=0.0449094)\n",
      "                Clade(branch_length=0.0, name='pdb|3MQ7|A')\n",
      "                Clade(branch_length=0.0, name='pdb|3MQ9|A')\n",
      "            Clade(branch_length=-0.0111654)\n",
      "                Clade(branch_length=0.0491941)\n",
      "                    Clade(branch_length=0.00688073, name='pdb|3NWH|A')\n",
      "                    Clade(branch_length=0.00688073)\n",
      "                        Clade(branch_length=0.0, name='pdb|3MQC|A')\n",
      "                        Clade(branch_length=0.0, name='pdb|2X7A|A')\n",
      "                Clade(branch_length=0.0341161)\n",
      "                    Clade(branch_length=0.0192561)\n",
      "                        Clade(branch_length=0.0027027, name='ref|XP_018869871.1|')\n",
      "                        Clade(branch_length=0.0027027, name='ref|NP_001266560.1|')\n",
      "                    Clade(branch_length=-0.0242197)\n",
      "                        Clade(branch_length=0.0461784)\n",
      "                            Clade(branch_length=0.0, name='ref|NP_001177409.1|')\n",
      "                            Clade(branch_length=0.0, name='ref|XP_024206821.1|')\n",
      "                        Clade(branch_length=0.0191238)\n",
      "                            Clade(branch_length=0.0270547, name='dbj|BAG64608.1|')\n",
      "                            Clade(branch_length=0.013468)\n",
      "                                Clade(branch_length=0.0135867, name='ref|NP_001266147.1|')\n",
      "                                Clade(branch_length=0.00933001)\n",
      "                                    Clade(branch_length=0.00425665, name='dbj|BAD96844.1|')\n",
      "                                    Clade(branch_length=0.00425665)\n",
      "                                        Clade(branch_length=0.0)\n",
      "                                            Clade(branch_length=0.0, name='ref|NP_004326.1|')\n",
      "                                            Clade(branch_length=0.0, name='pdb|3MQB|A')\n",
      "                                        Clade(branch_length=0.0, name='pdb|2XG7|A')\n",
      "        Clade(branch_length=0.0127039)\n",
      "            Clade(branch_length=0.0326048)\n",
      "                Clade(branch_length=0.0, name='gb|ADI58596.1|')\n",
      "                Clade(branch_length=0.0, name='ref|NP_001166058.1|')\n",
      "            Clade(branch_length=0.0224892)\n",
      "                Clade(branch_length=0.0101156, name='ref|NP_001295602.1|')\n",
      "                Clade(branch_length=0.00722543)\n",
      "                    Clade(branch_length=0.00289017, name='gb|ADI58598.1|')\n",
      "                    Clade(branch_length=0.00289017, name='ref|XP_030675274.1|')\n",
      "                                                       , pdb|3MQ7|A\n",
      "  _____________________________________________________|\n",
      " |                                                     | pdb|3MQ9|A\n",
      " |\n",
      " |                                              _______ pdb|3NWH|A\n",
      "_______________________________________________| ___________\n",
      " |                                             ||      , pdb|3MQC|A\n",
      " |                                             |_______|\n",
      " |                                              |      | pdb|2X7A|A\n",
      " |                                              |\n",
      " |                                              |    ___ ref|XP_018869871.1|\n",
      " |                            ______________________|\n",
      " |                           |                  |   |___ ref|NP_001266560.1|\n",
      " |                           |                  |\n",
      "_____________________________|                  |______,____ ref|NP_001177409.1|\n",
      " ______________________________________________________|\n",
      "||                           |                         | ref|XP_024206821.1|\n",
      "||                           |\n",
      "||                      ________________________________ dbj|BAG64608.1|\n",
      "||                     |\n",
      "|______________________|                _______________ ref|NP_001266147.1|\n",
      " |                     |               |\n",
      " |                     |_______________|           ____ dbj|BAD96844.1|\n",
      " |                                     |          |\n",
      " |                                     |__________|    , ref|NP_004326.1|\n",
      " |                                                |    |\n",
      " |                                                |____| pdb|3MQB|A\n",
      " |                                                     |\n",
      " |                                                     | pdb|2XG7|A\n",
      " |\n",
      " |                                                     , gb|ADI58596.1|\n",
      " |               ______________________________________|\n",
      " |              |                                      | ref|NP_001166058.1|\n",
      " |______________|\n",
      "                |                           ___________ ref|NP_001295602.1|\n",
      "                |__________________________|\n",
      "                                           |         __ gb|ADI58598.1|\n",
      "                                           |________|\n",
      "                                                    |__ ref|XP_030675274.1|\n",
      "\n"
     ]
    }
   ],
   "source": [
    "from Bio import Phylo\n",
    "tree = Phylo.read(os.path.join(wd,\"data/multi_align\", GENE, f\"{GENE}_clustalo.dnd\"), \"newick\")\n",
    "print (tree)\n",
    "Phylo.draw_ascii(tree)"
   ],
   "metadata": {
    "collapsed": false,
    "pycharm": {
     "name": "#%%\n"
    }
   }
  }
 ],
 "metadata": {
  "kernelspec": {
   "display_name": "Python 3",
   "language": "python",
   "name": "python3"
  },
  "language_info": {
   "codemirror_mode": {
    "name": "ipython",
    "version": 2
   },
   "file_extension": ".py",
   "mimetype": "text/x-python",
   "name": "python",
   "nbconvert_exporter": "python",
   "pygments_lexer": "ipython2",
   "version": "2.7.6"
  }
 },
 "nbformat": 4,
 "nbformat_minor": 0
}