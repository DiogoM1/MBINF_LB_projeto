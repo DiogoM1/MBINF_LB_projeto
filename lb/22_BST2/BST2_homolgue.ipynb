{
 "cells": [
  {
   "cell_type": "markdown",
   "source": [
    "# Identificação de Homólogos"
   ],
   "metadata": {
    "collapsed": false
   }
  },
  {
   "cell_type": "code",
   "execution_count": 1,
   "outputs": [],
   "source": [
    "import os\n",
    "from Bio import SeqIO\n",
    "from Bio.Blast import NCBIWWW, NCBIXML\n",
    "from scripts_python import BLASTer\n",
    "\n",
    "a = %pwd\n",
    "wd = (a.rsplit('/',2))[0]\n",
    "seq_id = \"NM_004335\"\n",
    "prot_seq_id = \"Q10589\"\n",
    "gene = \"BST2\"\n",
    "file_blast_ncbi = \"00D0DT8J016-Alignment.xml\"\n",
    "file_blast_uniprot = \"B20210131216DA2B77BFBD2E6699CA9B6D1C41EB200F810O.fasta\"\n"
   ],
   "metadata": {
    "collapsed": false,
    "pycharm": {
     "name": "#%%\n"
    }
   }
  },
  {
   "cell_type": "markdown",
   "source": [
    "## Resultados do BLAST no NCBI¶"
   ],
   "metadata": {
    "collapsed": false,
    "pycharm": {
     "name": "#%% md\n"
    }
   }
  },
  {
   "cell_type": "code",
   "execution_count": 2,
   "outputs": [
    {
     "name": "stdout",
     "output_type": "stream",
     "text": [
      "Foram carregadas 100 seq.\n"
     ]
    }
   ],
   "source": [
    "result_handle= open(os.path.join( wd,\"data/homologue\", gene, file_blast_ncbi))\n",
    "blast_ncbi = NCBIXML.read(result_handle)\n",
    "result_handle.close()\n",
    "\n",
    "print('Foram carregadas {0} seq.'.format(len(blast_ncbi.alignments)))"
   ],
   "metadata": {
    "collapsed": false,
    "pycharm": {
     "name": "#%%#%%\n"
    }
   }
  },
  {
   "cell_type": "markdown",
   "source": [
    "Apesar da diversidade de organismos, a maioria das sequências identificadas foram humanas, isto verifica mais uma vez a redundancia de sequências desta Base de Dados.\n",
    "Por outro lado mesmo existindo filtragem baseada em scores, existiram matches não especificos como bactérias.\n",
    "\n",
    "### Resumo"
   ],
   "metadata": {
    "collapsed": false,
    "pycharm": {
     "name": "#%% md\n"
    }
   }
  },
  {
   "cell_type": "code",
   "execution_count": 3,
   "outputs": [
    {
     "name": "stdout",
     "output_type": "stream",
     "text": [
      "Accession Identity%\n",
      "NP_004326 1.0\n",
      "BAD96844 0.9944444444444445\n",
      "NP_001266147 0.9567567567567568\n",
      "XP_018869871 0.9513513513513514\n",
      "NP_001266560 0.9459459459459459\n",
      "NP_001177409 0.9459459459459459\n",
      "ADI58596 0.907608695652174\n",
      "NP_001295602 0.9017341040462428\n",
      "BAG64608 0.9629629629629629\n",
      "NP_001166058 0.9127906976744186\n",
      "ADI58598 0.9190751445086706\n",
      "XP_030675274 0.9190751445086706\n",
      "3MQB_A 1.0\n",
      "3MQC_A 0.9739130434782609\n",
      "3MQ7_A 0.9478260869565217\n",
      "3NWH_A 0.963302752293578\n",
      "2XG7_A 1.0\n",
      "XP_024206821 0.92\n",
      "3MQ9_A 0.9318181818181818\n",
      "2X7A_A 0.9672131147540983\n",
      "Total: 20\n"
     ]
    }
   ],
   "source": [
    "from Bio.Seq import Seq\n",
    "from Bio.SeqRecord import SeqRecord\n",
    "from Bio import SeqIO\n",
    "import re\n",
    "\n",
    "query_len = blast_ncbi.query_length\n",
    "homologue = []\n",
    "sources = {}\n",
    "\n",
    "print(\"Accession\", \"Identity%\")\n",
    "for aln in blast_ncbi.alignments:\n",
    "    for HSP in aln.hsps:\n",
    "        if HSP.score > 80 and HSP.expect < 1.0e-10 and HSP.identities/HSP.align_length > 0.80:\n",
    "            print(aln.accession,HSP.identities/HSP.align_length)\n",
    "            species = re.findall('\\[[^\\]]*\\]', aln.hit_def)[0].replace(\"[\",\"\").replace(\"]\",\"\")\n",
    "            if species not in sources:\n",
    "                sources[species] = 1\n",
    "            else:\n",
    "                sources[species] +=1\n",
    "            homologue.append(SeqRecord(Seq(HSP.sbjct), aln.title.split( \">\", 1)[0], \"\", \"\"))\n",
    "\n",
    "\n",
    "print(\"Total:\",len(homologue))"
   ],
   "metadata": {
    "collapsed": false,
    "pycharm": {
     "name": "#%%\n"
    }
   }
  },
  {
   "cell_type": "code",
   "execution_count": 4,
   "outputs": [
    {
     "name": "stdout",
     "output_type": "stream",
     "text": [
      "Homo sapiens : 9\n",
      "Pan paniscus : 1\n",
      "Gorilla gorilla gorilla : 1\n",
      "Gorilla gorilla : 1\n",
      "Pan troglodytes : 2\n",
      "Pongo pygmaeus : 1\n",
      "Nomascus leucogenys : 2\n",
      "Pongo abelii : 1\n",
      "Hylobates agilis : 1\n",
      "Escherichia coli K-12 : 1\n"
     ]
    },
    {
     "data": {
      "text/plain": "20"
     },
     "execution_count": 4,
     "metadata": {},
     "output_type": "execute_result"
    }
   ],
   "source": [
    "for source in sources.keys():\n",
    "    print(source, \":\", sources[source])\n",
    "\n",
    "SeqIO.write(homologue, os.path.join(wd,\"data/homologue\", gene, f\"{seq_id}_{gene}.fasta\"), \"fasta\")"
   ],
   "metadata": {
    "collapsed": false,
    "pycharm": {
     "name": "#%%\n"
    }
   }
  },
  {
   "cell_type": "markdown",
   "source": [
    "### Resultados UNIPROT\n",
    "\n",
    "#### Comentários"
   ],
   "metadata": {
    "collapsed": false,
    "pycharm": {
     "name": "#%% md\n"
    }
   }
  },
  {
   "cell_type": "code",
   "execution_count": 5,
   "outputs": [],
   "source": [
    "path = os.path.join(wd, \"data/homologue\", gene, file_blast_uniprot)\n",
    "blast_uniprot_raw = SeqIO.parse(path, format=\"fasta\")\n",
    "blast_uniprot = []\n",
    "blast_uniprot_id = []\n",
    "\n",
    "for protein in blast_uniprot_raw:\n",
    "    blast_uniprot.append(protein)\n",
    "    seq_id = re.findall('\\|[^|]*\\|', protein.id)[0].replace(\"|\",\"\")\n",
    "    blast_uniprot_id.append(seq_id)"
   ],
   "metadata": {
    "collapsed": false,
    "pycharm": {
     "name": "#%%\n"
    }
   }
  },
  {
   "cell_type": "code",
   "execution_count": 6,
   "outputs": [],
   "source": [
    "from wget import download\n",
    "\n",
    "for accession in blast_uniprot_id:\n",
    "    url = \"https://www.uniprot.org/uniprot/{0}.xml\".format(accession)\n",
    "    path = os.path.join(wd, \"data/homologue\", gene, \"uniprot\",\"{0}.xml\".format(accession))\n",
    "    download(url, path)"
   ],
   "metadata": {
    "collapsed": false,
    "pycharm": {
     "name": "#%%\n"
    }
   }
  },
  {
   "cell_type": "code",
   "execution_count": 7,
   "outputs": [
    {
     "name": "stdout",
     "output_type": "stream",
     "text": [
      "function\n",
      "IFN-induced antiviral host restriction factor which efficiently blocks the release of diverse mammalian enveloped viruses by directly tethering nascent virions to the membranes of infected cells. Acts as a direct physical tether, holding virions to the cell membrane and linking virions to each other. The tethered virions can be internalized by endocytosis and subsequently degraded or they can remain on the cell surface. In either case, their spread as cell-free virions is restricted (PubMed:22520941, PubMed:21529378, PubMed:20940320, PubMed:20419159, PubMed:20399176, PubMed:19879838, PubMed:19036818, PubMed:18342597, PubMed:18200009). Its target viruses belong to diverse families, including retroviridae: human immunodeficiency virus type 1 (HIV-1), human immunodeficiency virus type 2 (HIV-2), simian immunodeficiency viruses (SIVs), equine infectious anemia virus (EIAV), feline immunodeficiency virus (FIV), prototype foamy virus (PFV), Mason-Pfizer monkey virus (MPMV), human T-cell leukemia virus type 1 (HTLV-1), Rous sarcoma virus (RSV) and murine leukemia virus (MLV), flavivirideae: hepatitis C virus (HCV), filoviridae: ebola virus (EBOV) and marburg virus (MARV), arenaviridae: lassa virus (LASV) and machupo virus (MACV), herpesviridae: kaposis sarcoma-associated herpesvirus (KSHV), rhabdoviridae: vesicular stomatitis virus (VSV), orthomyxoviridae: influenza A virus, paramyxoviridae: nipah virus, and coronaviridae: SARS-CoV (PubMed:22520941, PubMed:21621240, PubMed:21529378, PubMed:20943977, PubMed:20686043, PubMed:20419159, PubMed:20399176, PubMed:19879838, PubMed:19179289, PubMed:18342597, PubMed:18200009, PubMed:26378163, PubMed:31199522). Can inhibit cell surface proteolytic activity of MMP14 causing decreased activation of MMP15 which results in inhibition of cell growth and migration (PubMed:22065321). Can stimulate signaling by LILRA4/ILT7 and consequently provide negative feedback to the production of IFN by plasmacytoid dendritic cells in response to viral infection (PubMed:19564354, PubMed:26172439). Plays a role in the organization of the subapical actin cytoskeleton in polarized epithelial cells. Isoform 1 and isoform 2 are both effective viral restriction factors but have differing antiviral and signaling activities (PubMed:23028328, PubMed:26172439). Isoform 2 is resistant to HIV-1 Vpu-mediated degradation and restricts HIV-1 viral budding in the presence of Vpu (PubMed:23028328, PubMed:26172439). Isoform 1 acts as an activator of NF-kappa-B and this activity is inhibited by isoform 2 (PubMed:23028328). : Q10589\n",
      "IFN-induced antiviral host restriction factor which efficiently blocks the release of diverse mammalian enveloped viruses by directly tethering nascent virions to the membranes of infected cells. Acts as a direct physical tether, holding virions to the cell membrane and linking virions to each other. The tethered virions can be internalized by endocytosis and subsequently degraded or they can remain on the cell surface. In either case, their spread as cell-free virions is restricted. Its target viruses belong to diverse families, including retroviridae: human immunodeficiency virus type 1 (HIV-1), mouse mammary tumor virus (MMTV) and murine leukemia virus (MLV), filoviridae: ebola virus (EBOV), arenaviridae: lassa virus (LASV), and rhabdoviridae: vesicular stomatitis virus (VSV). Can inhibit cell surface proteolytic activity of MMP14 causing decreased activation of MMP15 which results in inhibition of cell growth and migration. Can stimulate signaling by LILRA4/ILT7 and consequently provide negative feedback to the production of IFN by plasmacytoid dendritic cells in response to viral infection. Plays a role in the organization of the subapical actin cytoskeleton in polarized epithelial cells (By similarity). : Q6WRU0\n",
      "IFN-induced antiviral host restriction factor which efficiently blocks the release of diverse mammalian enveloped viruses by directly tethering nascent virions to the membranes of infected cells. Acts as a direct physical tether, holding virions to the cell membrane and linking virions to each other. The tethered virions can be internalized by endocytosis and subsequently degraded or they can remain on the cell surface. In either case, their spread as cell-free virions is restricted. Its target viruses belong to diverse families, including retroviridae: human immunodeficiency virus type 1 (HIV-1), mouse mammary tumor virus (MMTV) and murine leukemia virus (MLV), filoviridae: ebola virus (EBOV), arenaviridae: lassa virus (LASV), and rhabdoviridae: vesicular stomatitis virus (VSV). Can inhibit cell surface proteolytic activity of MMP14 causing decreased activation of MMP15 which results in inhibition of cell growth and migration. Can stimulate signaling by LILRA4/ILT7 and consequently provide negative feedback to the production of IFN by plasmacytoid dendritic cells in response to viral infection. Plays a role in the organization of the subapical actin cytoskeleton in polarized epithelial cells. : Q8R2Q8\n",
      "IFN-induced antiviral host restriction factor which efficiently blocks the release of diverse mammalian enveloped viruses by directly tethering nascent virions to the membranes of infected cells. Acts as a direct physical tether, holding virions to the cell membrane and linking virions to each other. The tethered virions can be internalized by endocytosis and subsequently degraded or they can remain on the cell surface. In either case, their spread as cell-free virions is restricted. Its target viruses belong to diverse families, including retroviridae: human immunodeficiency virus type 1 (HIV-1), mouse mammary tumor virus (MMTV) and murine leukemia virus (MLV), filoviridae: ebola virus (EBOV), arenaviridae: lassa virus (LASV), and rhabdoviridae: vesicular stomatitis virus (VSV). Can inhibit cell surface proteolytic activity of MMP14 causing decreased activation of MMP15 which results in inhibition of cell growth and migration. Can stimulate signaling by LILRA4/ILT7 and consequently provide negative feedback to the production of IFN by plasmacytoid dendritic cells in response to viral infection (By similarity). Plays a role in the organization of the subapical actin cytoskeleton in polarized epithelial cells. : Q811A2\n",
      "Receptor with an affinity for galactose and fucose. Could be involved in endocytosis. : P10716\n",
      "\n",
      "\n",
      "subunit\n",
      "Parallel homodimer; disulfide-linked. May form homotetramers under reducing conditions. Isoform 1 and isoform 2 form homodimers and also heterodimers with each other. Dimerization is essential for its antiviral activity (PubMed:26378163, PubMed:10329429, PubMed:19737401, PubMed:19879838, PubMed:23028328, PubMed:20399176, PubMed:20880831, PubMed:20940320, PubMed:31199522). Interacts (via cytoplasmic domain) with ARHGAP44 (By similarity). Interacts with MMP14 (via C-terminal cytoplasmic tail) (PubMed:22065321). Interacts with LILRA4/ILT7 (PubMed:19564354). : Q10589\n",
      "Interacts (via cytoplasmic domain) with ARHGAP44 (By similarity). Interacts with MMP14 (via C-terminal cytoplasmic tail) (By similarity). Interacts with LILRA4/ILT7 (By similarity). Parallel homodimer; disulfide-linked. May form homotetramers under reducing conditions. Dimerization is essential for its antiviral activity. : Q6WRU0\n",
      "Parallel homodimer; disulfide-linked. May form homotetramers under reducing conditions. Dimerization is essential for its antiviral activity. Interacts (via cytoplasmic domain) with ARHGAP44 (By similarity). Interacts with MMP14 (via C-terminal cytoplasmic tail) (By similarity). Interacts with LILRA4/ILT7 (By similarity). : Q8R2Q8\n",
      "Parallel homodimer; disulfide-linked. May form homotetramers under reducing conditions. Dimerization is essential for its antiviral activity. Interacts with MMP14 (via C-terminal cytoplasmic tail) (By similarity). Interacts with LILRA4/ILT7 (By similarity). Interacts (via cytoplasmic domain) with ARHGAP44. : Q811A2\n",
      "\n",
      "\n",
      "interaction_intactId\n",
      "EBI-2476339 : Q10589\n",
      "\n",
      "\n",
      "subcellularlocation_location\n",
      "Golgi apparatus : Q10589, Q6WRU0, Q8R2Q8, Q811A2\n",
      "Membrane : P10716\n",
      "\n",
      "\n",
      "subcellularlocation_topology\n",
      "Single-pass type II membrane protein : Q10589, Q6WRU0, Q8R2Q8, Q811A2, P10716\n",
      "\n",
      "\n",
      "alternativeproducts_isoform\n",
      "Q10589-1 : Q10589\n",
      "\n",
      "\n",
      "tissuespecificity\n",
      "Predominantly expressed in liver, lung, heart and placenta. Lower levels in pancreas, kidney, skeletal muscle and brain. Overexpressed in multiple myeloma cells. Highly expressed during B-cell development, from pro-B precursors to plasma cells. Highly expressed on T-cells, monocytes, NK cells and dendritic cells (at protein level). : Q10589\n",
      "In naive mice, specifically expressed on type I interferon-producing cells (at protein level). : Q8R2Q8\n",
      "Ubiquitously expressed, with highest levels in brain and liver. Present in liver (at protein level). : Q811A2\n",
      "Kupffer cells. : P10716\n",
      "\n",
      "\n",
      "induction\n",
      "By type I interferons. : Q10589\n",
      "By viral or other interferon-inducing stimulation in most cell types (at protein level). Down-regulated by ebola virus GP protein. : Q8R2Q8\n",
      "\n",
      "\n",
      "domain\n",
      "The extracellular coiled coil domain forms an extended 170 A long semi-flexible rod-like structure important for virion retention at the cell surface and prevention of virus spreading. : Q10589, Q6WRU0, Q8R2Q8, Q811A2\n",
      "\n",
      "\n",
      "PTM\n",
      "Monoubiquitinated by KSHV E3 ubiquitin-protein ligase K5, leading to its targeting to late endosomes and degradation. : Q10589\n",
      "The GPI anchor is essential for its antiviral activity. : Q6WRU0\n",
      "N-glycosylated. : Q811A2\n",
      "\n",
      "\n",
      "miscellaneous\n",
      "Tetherin shows evidence of positive (adaptive) selection, presumably as a result of evolutionary pressure applied by antagonistic viral proteins that counteract its inhibitiory activity and this has led to the species-specific tetherin sensitivity to viral countermeasures. For example, Tantalus monkey tetherin cannot be abrogated by HIV-1 VPU due to variation in the tetherin transmembrane region. Similarly, SIV Nefs are able to overcome simian tetherins, but not human tetherin, due to a unique 5-amino-acid deletion in the cytoplasmic tail domain of human tetherin (PubMed:19917491). : Q10589\n",
      "The DNA puff II/9 proteins have a proposed intermolecular coiled coil structure with possibly intermolecular disulfide bridges formed by numerous cysteine residues in position D of the heptad repeat. : P22311\n",
      "\n",
      "\n",
      "similarity\n",
      "Belongs to the tetherin family. : Q10589\n",
      "\n",
      "\n",
      "onlineinformation\n",
      "Functional Glycomics Gateway - Glycan Binding@http://www.functionalglycomics.org/glycomics/GBPServlet?&operationType=view&cbpId=cbp_rat_Ctlect_367 : P10716\n",
      "\n",
      "\n",
      "Keywords\n",
      "3D-structure : Q10589, Q8R2Q8\n",
      "Alternative initiation : Q10589\n",
      "Antiviral defense : Q10589\n",
      "B-cell activation : Q10589\n",
      "Cell membrane : Q10589, Q6WRU0, Q8R2Q8, Q811A2\n",
      "Coiled coil : Q10589, Q6WRU0, Q8R2Q8, Q811A2, P22311\n",
      "Cytoplasm : Q10589, Q6WRU0, Q8R2Q8, Q811A2\n",
      "Disulfide bond : Q10589, Q6WRU0, Q8R2Q8, Q811A2, P10716\n",
      "Endosome : Q10589, Q6WRU0, Q8R2Q8, Q811A2\n",
      "Glycoprotein : Q10589, Q6WRU0, Q8R2Q8, Q811A2, P22311, P10716\n",
      "Golgi apparatus : Q10589, Q6WRU0, Q8R2Q8, Q811A2\n",
      "GPI-anchor : Q10589, Q6WRU0, Q8R2Q8, Q811A2\n",
      "Immunity : Q10589, Q6WRU0, Q8R2Q8, Q811A2\n",
      "Innate immunity : Q10589, Q6WRU0, Q8R2Q8, Q811A2\n",
      "Isopeptide bond : Q10589, Q811A2\n",
      "Lipoprotein : Q10589, Q6WRU0, Q8R2Q8, Q811A2\n",
      "Membrane : Q10589, Q6WRU0, Q8R2Q8, Q811A2, P10716\n",
      "Polymorphism : Q10589\n",
      "Reference proteome : Q10589, Q8R2Q8, Q811A2, P10716\n",
      "Signal-anchor : Q10589, Q6WRU0, Q8R2Q8, Q811A2, P10716\n",
      "Transmembrane : Q10589, Q6WRU0, Q8R2Q8, Q811A2, P10716\n",
      "Transmembrane helix : Q10589, Q6WRU0, Q8R2Q8, Q811A2, P10716\n",
      "Ubl conjugation : Q10589, Q811A2\n",
      "Signal : P22311\n",
      "Direct protein sequencing : P10716\n",
      "Endocytosis : P10716\n",
      "Lectin : P10716\n",
      "Receptor : P10716\n",
      "\n",
      "\n"
     ]
    }
   ],
   "source": [
    "import re\n",
    "\n",
    "blast_matches = []\n",
    "\n",
    "for accession in blast_uniprot_id:\n",
    "    path = os.path.join(wd, \"data/homologue\", gene,\"uniprot\",\"{0}.xml\".format(accession))\n",
    "    blast_matches.append(SeqIO.read(path, format=\"uniprot-xml\"))\n",
    "\n",
    "comments = {}\n",
    "an_domains = {}\n",
    "keywords = {}\n",
    "for match in blast_matches:\n",
    "    if \"keywords\" in match.annotations.keys():\n",
    "        for keyword in match.annotations[\"keywords\"]:\n",
    "            if keyword in keywords:\n",
    "                keywords[keyword] = \", \".join([keywords[keyword],match.id])\n",
    "            else:\n",
    "                keywords[keyword] = match.id\n",
    "    for annotation in match.annotations.keys():\n",
    "        if re.match(\"(comment_)[a-z]*\", annotation):\n",
    "            comment_type = annotation.split(\"_\",1)[1]\n",
    "            if comment_type not in comments.keys():\n",
    "                comments[comment_type] = {}\n",
    "            comment = match.annotations[annotation][0]\n",
    "            if comment in comments[comment_type].keys():\n",
    "                comments[comment_type][comment] = \", \".join([comments[comment_type][comment], match.id])\n",
    "            else:\n",
    "                 comments[comment_type][comment] = match.id\n",
    "\n",
    "for comment_type in comments.keys():\n",
    "    print(comment_type)\n",
    "    for comment in comments[comment_type].keys():\n",
    "        print(comment, \":\", comments[comment_type][comment])\n",
    "    print(\"\\n\")\n",
    "\n",
    "print(\"Keywords\")\n",
    "for keyword in keywords.keys():\n",
    "    print(keyword, \":\", keywords[keyword])\n",
    "print(\"\\n\")"
   ],
   "metadata": {
    "collapsed": false,
    "pycharm": {
     "name": "#%%\n"
    }
   }
  },
  {
   "cell_type": "markdown",
   "source": [
    "As anotações confirmam a relação das proteinas homólogas e o suporte ao sistema imunitário, indicando que esta função é conservada entre as especies do mamiferos, portadores deste gene.\n",
    "\n",
    "### Features"
   ],
   "metadata": {
    "collapsed": false
   }
  },
  {
   "cell_type": "code",
   "execution_count": 8,
   "outputs": [
    {
     "name": "stdout",
     "output_type": "stream",
     "text": [
      "topological domain\n",
      "[0:20] Cytoplasmic : Q10589\n",
      "[48:161] Extracellular : Q10589\n",
      "[0:26] Cytoplasmic : Q6WRU0, Q811A2\n",
      "[47:183] Extracellular : Q6WRU0\n",
      "[0:30] Cytoplasmic : Q8R2Q8\n",
      "[51:152] Extracellular : Q8R2Q8\n",
      "[47:152] Extracellular : Q811A2\n",
      "[0:42] Cytoplasmic : P10716\n",
      "[69:550] Extracellular : P10716\n",
      "\n",
      "\n",
      "transmembrane region\n",
      "[20:48] Helical; Signal-anchor for type II membrane protein : Q10589\n",
      "[26:47] Helical; Signal-anchor for type II membrane protein : Q6WRU0, Q811A2\n",
      "[30:51] Helical; Signal-anchor for type II membrane protein : Q8R2Q8\n",
      "[42:69] Helical; Signal-anchor for type II membrane protein : P10716\n",
      "\n",
      "\n",
      "coiled-coil region\n",
      "[67:152] : Q10589\n",
      "[65:178] : Q6WRU0\n",
      "[73:147] : Q8R2Q8\n",
      "[102:149] : Q811A2\n",
      "\n",
      "\n",
      "lipid moiety-binding region\n",
      "[160:161] GPI-anchor amidated serine : Q10589\n",
      "[182:183] GPI-anchor amidated serine : Q6WRU0\n",
      "[151:152] GPI-anchor amidated serine : Q8R2Q8, Q811A2\n",
      "\n",
      "\n",
      "disulfide bond\n",
      "[52:53] Interchain : Q10589\n",
      "[62:63] Interchain : Q10589\n",
      "[90:91] Interchain : Q10589\n",
      "[53:54] Interchain : Q6WRU0\n",
      "[63:64] Interchain : Q6WRU0\n",
      "[91:92] Interchain : Q6WRU0\n",
      "[57:58] Interchain : Q8R2Q8, Q811A2\n",
      "[67:68] Interchain : Q8R2Q8, Q811A2\n",
      "[95:96] Interchain : Q8R2Q8, Q811A2\n",
      "[439:536] : P10716\n",
      "[515:528] : P10716\n",
      "\n",
      "\n",
      "region of interest\n",
      "[60:235] Helical : P22311\n",
      "\n",
      "\n",
      "domain\n",
      "[437:538] C-type lectin : P10716\n",
      "\n",
      "\n"
     ]
    }
   ],
   "source": [
    "features = {}\n",
    "for match in blast_matches:\n",
    "    for feature in match.features:\n",
    "        if re.search(\"(domain|motif|bond|region)\", feature.type):\n",
    "            feature_type = feature.type\n",
    "            if feature_type not in features.keys():\n",
    "                features[feature_type] = {}\n",
    "\n",
    "            feature_desc = str(feature.location)\n",
    "            if \"description\" in feature.qualifiers.keys():\n",
    "                feature_desc = \" \".join([feature_desc,feature.qualifiers[\"description\"]])\n",
    "\n",
    "            if feature_desc in features[feature_type].keys():\n",
    "                features[feature_type][feature_desc] = \", \".join([features[feature_type][feature_desc], match.id])\n",
    "            else:\n",
    "                 features[feature_type][feature_desc] = match.id\n",
    "\n",
    "for feature_type in features.keys():\n",
    "    print(feature_type)\n",
    "    for feature in features[feature_type].keys():\n",
    "        print(feature, \":\", features[feature_type][feature])\n",
    "    print(\"\\n\")"
   ],
   "metadata": {
    "collapsed": false,
    "pycharm": {
     "name": "#%%\n"
    }
   }
  },
  {
   "cell_type": "markdown",
   "source": [
    "Apesar da varialibilidade da localização das features, normal dado que estas não se encontram alinhadas, podemos perceber que estas são comuns entre os homolgos, identificando locais e interesse para estudo."
   ],
   "metadata": {
    "collapsed": false
   }
  }
 ],
 "metadata": {
  "kernelspec": {
   "display_name": "Python 3",
   "language": "python",
   "name": "python3"
  },
  "language_info": {
   "codemirror_mode": {
    "name": "ipython",
    "version": 2
   },
   "file_extension": ".py",
   "mimetype": "text/x-python",
   "name": "python",
   "nbconvert_exporter": "python",
   "pygments_lexer": "ipython2",
   "version": "2.7.6"
  }
 },
 "nbformat": 4,
 "nbformat_minor": 0
}