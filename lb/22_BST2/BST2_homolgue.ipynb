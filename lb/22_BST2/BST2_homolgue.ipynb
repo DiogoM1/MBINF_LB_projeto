{
 "cells": [
  {
   "cell_type": "markdown",
   "source": [
    "# Identificação de Homólogos"
   ],
   "metadata": {
    "collapsed": false
   }
  },
  {
   "cell_type": "code",
   "execution_count": 12,
   "outputs": [],
   "source": [
    "import os\n",
    "from Bio import SeqIO\n",
    "from Bio.Blast import NCBIWWW, NCBIXML\n",
    "from scripts_python import BLASTer\n",
    "\n",
    "a = %pwd\n",
    "wd = (a.rsplit('/',2))[0]\n",
    "seq_id = \"NM_004335\"\n"
   ],
   "metadata": {
    "collapsed": false,
    "pycharm": {
     "name": "#%%\n"
    }
   }
  },
  {
   "cell_type": "code",
   "execution_count": 13,
   "outputs": [
    {
     "data": {
      "text/plain": "'record = SeqIO.read(os.path.join( wd,\"data/homologue\", f\"{seq_id}_ORF7a.fasta\"), \"fasta\")\\n\\nresult_handle = NCBIWWW.qblast(\"blastn\", \"nr\", record.format(\"fasta\"), short_query=True, expect=0.10, word_size=7, entrez_query=\\'all[filter] NOT \"Severe acute respiratory syndrome coronavirus 2\"[Organism]\\', )\\n\\nsave_file = open(os.path.join( wd,\"data/reference\", f\"{seq_id}_ORF7a_blast.xml\", \"w\"))\\nsave_file.write(result_handle.read())\\nsave_file.close()\\nresult_handle.close()'"
     },
     "execution_count": 13,
     "metadata": {},
     "output_type": "execute_result"
    }
   ],
   "source": [
    "\n",
    "\"\"\"record = SeqIO.read(os.path.join( wd,\"data/homologue\", f\"{seq_id}_ORF7a.fasta\"), \"fasta\")\n",
    "\n",
    "result_handle = NCBIWWW.qblast(\"blastn\", \"nr\", record.format(\"fasta\"), short_query=True, expect=0.10, word_size=7, entrez_query='all[filter] NOT \"Severe acute respiratory syndrome coronavirus 2\"[Organism]', )\n",
    "\n",
    "save_file = open(os.path.join( wd,\"data/reference\", f\"{seq_id}_ORF7a_blast.xml\", \"w\"))\n",
    "save_file.write(result_handle.read())\n",
    "save_file.close()\n",
    "result_handle.close()\"\"\""
   ],
   "metadata": {
    "collapsed": false,
    "pycharm": {
     "name": "#%%\n"
    }
   }
  },
  {
   "cell_type": "markdown",
   "source": [
    "## Carregar ficheiro XML da pesquisa"
   ],
   "metadata": {
    "collapsed": false,
    "pycharm": {
     "name": "#%% md\n"
    }
   }
  },
  {
   "cell_type": "code",
   "execution_count": 14,
   "outputs": [
    {
     "name": "stdout",
     "output_type": "stream",
     "text": [
      "Foram carregadas 100 seq: 100\n"
     ]
    }
   ],
   "source": [
    "\"\"\"result_handle= open(os.path.join( wd,\"data/homologue/BST2\", \"0069KN2K01R-Alignment.xml\"))\n",
    "blast_record_n = NCBIXML.read(result_handle)\n",
    "result_handle.close()\n",
    "\n",
    "print('Foram carregadas 100 seq:', len(blast_record_n.alignments))\"\"\"\n",
    "\n",
    "result_handle= open(os.path.join( wd,\"data/homologue/BST2/00D0DT8J016-Alignment.xml\"))\n",
    "blast_record_p = NCBIXML.read(result_handle)\n",
    "result_handle.close()\n",
    "\n",
    "print('Foram carregadas 100 seq:', len(blast_record_p.alignments))"
   ],
   "metadata": {
    "collapsed": false,
    "pycharm": {
     "name": "#%%\n"
    }
   }
  },
  {
   "cell_type": "markdown",
   "source": [
    "## Identificar Homologos"
   ],
   "metadata": {
    "collapsed": false,
    "pycharm": {
     "name": "#%% md\n"
    }
   }
  },
  {
   "cell_type": "code",
   "execution_count": 15,
   "outputs": [
    {
     "name": "stdout",
     "output_type": "stream",
     "text": [
      "Accession Identity%\n",
      "NP_004326 1.0\n",
      "BAD96844 0.9944444444444445\n",
      "NP_001266147 0.9567567567567568\n",
      "XP_018869871 0.9513513513513514\n",
      "NP_001266560 0.9459459459459459\n",
      "NP_001177409 0.9459459459459459\n",
      "ADI58596 0.907608695652174\n",
      "NP_001295602 0.9017341040462428\n",
      "BAG64608 0.9629629629629629\n",
      "NP_001166058 0.9127906976744186\n",
      "ADI58598 0.9190751445086706\n",
      "XP_030675274 0.9190751445086706\n",
      "3MQB_A 1.0\n",
      "3MQC_A 0.9739130434782609\n",
      "3MQ7_A 0.9478260869565217\n",
      "3NWH_A 0.963302752293578\n",
      "2XG7_A 1.0\n",
      "XP_024206821 0.92\n",
      "3MQ9_A 0.9318181818181818\n",
      "2X7A_A 0.9672131147540983\n",
      "Total: 20\n"
     ]
    },
    {
     "data": {
      "text/plain": "20"
     },
     "execution_count": 15,
     "metadata": {},
     "output_type": "execute_result"
    }
   ],
   "source": [
    "from Bio.Seq import Seq\n",
    "from Bio.SeqRecord import SeqRecord\n",
    "from Bio import SeqIO\n",
    "\n",
    "query_len = blast_record_p.query_length\n",
    "\n",
    "homologue = []\n",
    "\n",
    "print(\"Accession\", \"Identity%\")\n",
    "for aln in blast_record_p.alignments:\n",
    "    for HSP in aln.hsps:\n",
    "        if HSP.score > 80 and HSP.expect < 1.0e-10 and HSP.identities/HSP.align_length > 0.80:\n",
    "            print(aln.accession,HSP.identities/HSP.align_length)\n",
    "            homologue.append(SeqRecord(Seq(HSP.sbjct), aln.title.split( \">\", 1)[0], \"\", \"\"))\n",
    "\n",
    "\n",
    "print(\"Total:\",len(homologue))\n",
    "\n",
    "\n",
    "SeqIO.write(homologue, os.path.join(wd,\"data/homologue/BST2\", f\"{seq_id}_BST2.fasta\"), \"fasta\")"
   ],
   "metadata": {
    "collapsed": false,
    "pycharm": {
     "name": "#%%\n"
    }
   }
  }
 ],
 "metadata": {
  "kernelspec": {
   "display_name": "Python 3",
   "language": "python",
   "name": "python3"
  },
  "language_info": {
   "codemirror_mode": {
    "name": "ipython",
    "version": 2
   },
   "file_extension": ".py",
   "mimetype": "text/x-python",
   "name": "python",
   "nbconvert_exporter": "python",
   "pygments_lexer": "ipython2",
   "version": "2.7.6"
  }
 },
 "nbformat": 4,
 "nbformat_minor": 0
}