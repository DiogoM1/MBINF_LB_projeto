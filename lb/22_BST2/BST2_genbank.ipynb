{
 "cells": [
  {
   "cell_type": "markdown",
   "metadata": {
    "collapsed": true,
    "pycharm": {
     "name": "#%% md\n"
    }
   },
   "source": [
    "# Registo no GenBank\n",
    "\n",
    "## Verificar as anotações correspondentes aos genes de interesse;"
   ]
  },
  {
   "cell_type": "code",
   "execution_count": 15,
   "outputs": [],
   "source": [
    "from scripts_python import gbSearch\n",
    "import os\n",
    "from Bio import SeqIO, Entrez\n",
    "\n",
    "a = %pwd\n",
    "wd = (a.rsplit('/',2))[0]\n",
    "\n",
    "seq_id = \"NM_004335\"\n",
    "protein = \"Q10589\"\n",
    "gene = \"BST2\""
   ],
   "metadata": {
    "collapsed": false,
    "pycharm": {
     "name": "#%%\n"
    }
   }
  },
  {
   "cell_type": "code",
   "execution_count": 16,
   "outputs": [],
   "source": [
    "handle = Entrez.efetch(db=\"nucleotide\",\n",
    "                       id=seq_id,\n",
    "                       rettype=\"gb\",\n",
    "                       retmode=\"text\")\n",
    "\n",
    "file_path = os.path.join(wd,\"data/reference/\", gene, f\"{gene}.gb\")\n",
    "with open(file_path, 'w') as file:\n",
    "    file.write(handle.read())"
   ],
   "metadata": {
    "collapsed": false,
    "pycharm": {
     "name": "#%%\n"
    }
   }
  },
  {
   "cell_type": "code",
   "execution_count": 17,
   "outputs": [
    {
     "name": "stdout",
     "output_type": "stream",
     "text": [
      "molecule_type :  mRNA\n",
      "topology :  linear\n",
      "data_file_division :  PRI\n",
      "date :  11-DEC-2020\n",
      "accessions :  ['NM_004335']\n",
      "sequence_version :  4\n",
      "keywords :  ['RefSeq', 'MANE Select']\n",
      "source :  Homo sapiens (human)\n",
      "organism :  Homo sapiens\n",
      "taxonomy :  ['Eukaryota', 'Metazoa', 'Chordata', 'Craniata', 'Vertebrata', 'Euteleostomi', 'Mammalia', 'Eutheria', 'Euarchontoglires', 'Primates', 'Haplorrhini', 'Catarrhini', 'Hominidae', 'Homo']\n",
      "references :  [Reference(title='Differential Vpu-Mediated CD4 and Tetherin Downregulation Functions among Major HIV-1 Group M Subtypes', ...), Reference(title='Human BST-2/tetherin inhibits Junin virus release from host cells and its inhibition is partially counteracted by viral nucleoprotein', ...), Reference(title='BST2 Promotes Tumor Growth via Multiple Pathways in Hepatocellular Carcinoma', ...), Reference(title='A reference map of the human binary protein interactome', ...), Reference(title='Vpu of a Simian Immunodeficiency Virus Isolated from Greater Spot-Nosed Monkey Antagonizes Human BST-2 via Two AxxxxxxxW Motifs', ...), Reference(title='Characterization of antibodies submitted to the B cell section of the 8th Human Leukocyte Differentiation Antigens Workshop by flow cytometry and immunohistochemistry', ...), Reference(title='Large-scale identification and characterization of human genes that activate NF-kappaB and MAPK signaling pathways', ...), Reference(title='Molecular cloning and characterization of a surface antigen preferentially overexpressed on multiple myeloma cells', ...), Reference(title='Cloning of a cDNA encoding rat bone marrow stromal cell antigen 1 (BST-1) from the islets of Langerhans', ...), Reference(title='Molecular cloning and chromosomal mapping of a bone marrow stromal cell surface gene, BST2, that may be involved in pre-B-cell growth', ...)]\n",
      "comment :  REVIEWED REFSEQ: This record has been curated by NCBI staff. The\n",
      "reference sequence was derived from AC010319.10.\n",
      "On Nov 23, 2018 this sequence version replaced NM_004335.3.\n",
      "Summary: Bone marrow stromal cells are involved in the growth and\n",
      "development of B-cells. The specific function of the protein\n",
      "encoded by the bone marrow stromal cell antigen 2 is undetermined;\n",
      "however, this protein may play a role in pre-B-cell growth and in\n",
      "rheumatoid arthritis. [provided by RefSeq, Jul 2008].\n",
      "Publication Note:  This RefSeq record includes a subset of the\n",
      "publications that are available for this gene. Please see the Gene\n",
      "record to access additional publications.\n",
      "COMPLETENESS: full length.\n",
      "structured_comment :  OrderedDict([('Evidence-Data', OrderedDict([('Transcript exon combination', 'SRR1163655.37787.1, SRR1163655.21422.1 [ECO:0000332]'), ('RNAseq introns', 'single sample supports all introns SAMEA1968540, SAMEA1968968 [ECO:0000348]')])), ('RefSeq-Attributes', OrderedDict([('MANE Ensembl match', 'ENST00000252593.7/ ENSP00000252593.6'), ('RefSeq Select criteria', 'based on single protein-coding transcript')]))])\n"
     ]
    }
   ],
   "source": [
    "path = os.path.join(wd, \"data/reference\",gene,f\"{gene}.gb\")\n",
    "seq_r = SeqIO.read(path, format=\"genbank\")\n",
    "for Key, Value in seq_r.annotations.items():\n",
    "    print(Key,\": \", Value)\n"
   ],
   "metadata": {
    "collapsed": false,
    "pycharm": {
     "name": "#%%\n"
    }
   }
  },
  {
   "cell_type": "markdown",
   "source": [
    "O ficheiro .gb contêm varias, entre as quais podemos confirmar o organismo, a taxonomia do mesmo e referências bibliográficas associadas a esta sequência. Porém a existência de *features* vai permitir conhecer melhor a sequência e determinar a localização do nosso gene de interesse.\n",
    "\n",
    "## Features"
   ],
   "metadata": {
    "collapsed": false
   }
  },
  {
   "cell_type": "code",
   "execution_count": 18,
   "outputs": [
    {
     "name": "stdout",
     "output_type": "stream",
     "text": [
      "gene\n",
      "[0:1001](+)\n",
      "None\n",
      "gene :  ['BST2']\n",
      "gene_synonym :  ['CD317; TETHERIN']\n",
      "note :  ['bone marrow stromal cell antigen 2']\n",
      "db_xref :  ['GeneID:684', 'HGNC:HGNC:1119', 'MIM:600534']\n",
      " \n",
      "CDS\n",
      "[55:598](+)\n",
      "None\n",
      "gene :  ['BST2']\n",
      "gene_synonym :  ['CD317; TETHERIN']\n",
      "note :  ['NPC-A-7; BST-2; HM1.24 antigen; bone marrow stromal antigen 2']\n",
      "codon_start :  ['1']\n",
      "product :  ['bone marrow stromal antigen 2 precursor']\n",
      "protein_id :  ['NP_004326.1']\n",
      "db_xref :  ['CCDS:CCDS12358.1', 'GeneID:684', 'HGNC:HGNC:1119', 'MIM:600534']\n",
      "translation :  ['MASTSYDYCRVPMEDGDKRCKLLLGIGILVLLIIVILGVPLIIFTIKANSEACRDGLRAVMECRNVTHLLQQELTEAQKGFQDVEAQAATCNHTVMALMASLDAEKAQGQKKVEELEGEITTLNHKLQDASAEVERLRRENQVLSVRIADKKYYPSSQDSSSAAAPQLLIVLLGLSALLQ']\n",
      " \n"
     ]
    }
   ],
   "source": [
    "interest_features = []\n",
    "\n",
    "for feature in seq_r.features:\n",
    "    if feature.type in [\"gene\", \"CDS\"]:\n",
    "        if feature.qualifiers[\"gene\"][0] == gene:\n",
    "            interest_features.append(feature)\n",
    "            print(feature.type)\n",
    "            print(feature.location)\n",
    "            print(feature.ref_db)\n",
    "            for Key,Value in feature.qualifiers.items():\n",
    "                print(Key,\": \", Value)\n",
    "            print(\" \")"
   ],
   "metadata": {
    "collapsed": false,
    "pycharm": {
     "name": "#%%\n"
    }
   }
  },
  {
   "cell_type": "markdown",
   "source": [
    "Realizando a filtração destes features foi possivel encontrar tanto uma anotação para o gene como a CDS que este representa, ambas indicam um localização coincidente, que poderá ser usada para *slicing* deste gene.\n",
    "\n",
    "\n",
    "## Slicing do gene de interesse."
   ],
   "metadata": {
    "collapsed": false,
    "pycharm": {
     "name": "#%% md\n"
    }
   }
  },
  {
   "cell_type": "code",
   "execution_count": 19,
   "outputs": [
    {
     "data": {
      "text/plain": "1"
     },
     "execution_count": 19,
     "metadata": {},
     "output_type": "execute_result"
    }
   ],
   "source": [
    "from Bio.SeqRecord import SeqRecord\n",
    "\n",
    "\n",
    "gene_seq = seq_r.seq[interest_features[0].location.nofuzzy_start:interest_features[0].location.nofuzzy_end]\n",
    "gene_OBJ = SeqRecord(gene_seq, f\"{seq_id} | Reference sequence {gene} gene\", \"\", \"\")\n",
    "SeqIO.write(gene_OBJ, os.path.join(wd,\"data/reference\", gene, f\"{gene}_nu.fasta\"), \"fasta\")"
   ],
   "metadata": {
    "collapsed": false,
    "pycharm": {
     "name": "#%%\n"
    }
   }
  },
  {
   "cell_type": "markdown",
   "source": [
    "### Extração de informação relativa à proteina\n",
    "\n",
    "Podemos ficar a conhecer melhor a proteina, seja a identificação da ORF que permite obter a sua tradução, como a sequência desta e mais importante um ID, que poderá ser usado para pesquisar noutras base de dados como o Uniprot."
   ],
   "metadata": {
    "collapsed": false,
    "pycharm": {
     "name": "#%% md\n"
    }
   }
  },
  {
   "cell_type": "code",
   "execution_count": 20,
   "outputs": [
    {
     "data": {
      "text/plain": "1"
     },
     "execution_count": 20,
     "metadata": {},
     "output_type": "execute_result"
    }
   ],
   "source": [
    "from Bio.Seq import Seq\n",
    "\n",
    "prot_seq = Seq(interest_features[1].qualifiers['translation'][0])\n",
    "prot_OBJ = SeqRecord(prot_seq, interest_features[1].qualifiers['protein_id'][0] ,interest_features[1].qualifiers['product'][0], interest_features[1].qualifiers['product'][0])\n",
    "SeqIO.write(prot_OBJ, os.path.join(wd,\"data/reference\", gene, f\"{gene}_prot.fasta\"), \"fasta\")"
   ],
   "metadata": {
    "collapsed": false,
    "pycharm": {
     "name": "#%%\n"
    }
   }
  },
  {
   "cell_type": "markdown",
   "source": [
    "## Extração de conhecimento do Uniprot\n",
    "\n",
    "Como referido anterirormente, com base no identificador para a proteina, foi possivel encontrar na *Uniprot* o id neste base de dados a qual esta proteina corresponde, nomeadamente P0DTC7.\n",
    "\n",
    "Descarregando o ficheiro XML e abrindo com o SeqIO podemos então analisar a função desta proteina e algumas das suas anotações e features."
   ],
   "metadata": {
    "collapsed": false
   }
  },
  {
   "cell_type": "code",
   "execution_count": 21,
   "outputs": [],
   "source": [
    "from wget import download\n",
    "\n",
    "url = \"https://www.uniprot.org/uniprot/{0}.xml\".format(protein)\n",
    "path = os.path.join(wd, \"data/reference\", gene,f\"{protein}.xml\")\n",
    "\n",
    "download(url, path)\n",
    "prot_ref = SeqIO.read(path, format=\"uniprot-xml\")"
   ],
   "metadata": {
    "collapsed": false,
    "pycharm": {
     "name": "#%%\n"
    }
   }
  },
  {
   "cell_type": "markdown",
   "source": [
    "Alguns dos elementos mais importantes nestas bases de dados são os comentários, estes incluem informações como função, interações, localização subcelular e dominios que estejam presente"
   ],
   "metadata": {
    "collapsed": false
   }
  },
  {
   "cell_type": "code",
   "execution_count": 22,
   "outputs": [
    {
     "name": "stdout",
     "output_type": "stream",
     "text": [
      "function :\n",
      "IFN-induced antiviral host restriction factor which efficiently blocks the release of diverse mammalian enveloped viruses by directly tethering nascent virions to the membranes of infected cells. Acts as a direct physical tether, holding virions to the cell membrane and linking virions to each other. The tethered virions can be internalized by endocytosis and subsequently degraded or they can remain on the cell surface. In either case, their spread as cell-free virions is restricted (PubMed:22520941, PubMed:21529378, PubMed:20940320, PubMed:20419159, PubMed:20399176, PubMed:19879838, PubMed:19036818, PubMed:18342597, PubMed:18200009). Its target viruses belong to diverse families, including retroviridae: human immunodeficiency virus type 1 (HIV-1), human immunodeficiency virus type 2 (HIV-2), simian immunodeficiency viruses (SIVs), equine infectious anemia virus (EIAV), feline immunodeficiency virus (FIV), prototype foamy virus (PFV), Mason-Pfizer monkey virus (MPMV), human T-cell leukemia virus type 1 (HTLV-1), Rous sarcoma virus (RSV) and murine leukemia virus (MLV), flavivirideae: hepatitis C virus (HCV), filoviridae: ebola virus (EBOV) and marburg virus (MARV), arenaviridae: lassa virus (LASV) and machupo virus (MACV), herpesviridae: kaposis sarcoma-associated herpesvirus (KSHV), rhabdoviridae: vesicular stomatitis virus (VSV), orthomyxoviridae: influenza A virus, paramyxoviridae: nipah virus, and coronaviridae: SARS-CoV (PubMed:22520941, PubMed:21621240, PubMed:21529378, PubMed:20943977, PubMed:20686043, PubMed:20419159, PubMed:20399176, PubMed:19879838, PubMed:19179289, PubMed:18342597, PubMed:18200009, PubMed:26378163, PubMed:31199522). Can inhibit cell surface proteolytic activity of MMP14 causing decreased activation of MMP15 which results in inhibition of cell growth and migration (PubMed:22065321). Can stimulate signaling by LILRA4/ILT7 and consequently provide negative feedback to the production of IFN by plasmacytoid dendritic cells in response to viral infection (PubMed:19564354, PubMed:26172439). Plays a role in the organization of the subapical actin cytoskeleton in polarized epithelial cells. Isoform 1 and isoform 2 are both effective viral restriction factors but have differing antiviral and signaling activities (PubMed:23028328, PubMed:26172439). Isoform 2 is resistant to HIV-1 Vpu-mediated degradation and restricts HIV-1 viral budding in the presence of Vpu (PubMed:23028328, PubMed:26172439). Isoform 1 acts as an activator of NF-kappa-B and this activity is inhibited by isoform 2 (PubMed:23028328). \n",
      "\n",
      "subunit :\n",
      "Parallel homodimer; disulfide-linked. May form homotetramers under reducing conditions. Isoform 1 and isoform 2 form homodimers and also heterodimers with each other. Dimerization is essential for its antiviral activity (PubMed:26378163, PubMed:10329429, PubMed:19737401, PubMed:19879838, PubMed:23028328, PubMed:20399176, PubMed:20880831, PubMed:20940320, PubMed:31199522). Interacts (via cytoplasmic domain) with ARHGAP44 (By similarity). Interacts with MMP14 (via C-terminal cytoplasmic tail) (PubMed:22065321). Interacts with LILRA4/ILT7 (PubMed:19564354). \n",
      "\n",
      "interaction_intactId :\n",
      "EBI-2476339 \n",
      "\n",
      "subcellularlocation_location :\n",
      "Golgi apparatus \n",
      "\n",
      "subcellularlocation_topology :\n",
      "Single-pass type II membrane protein \n",
      "\n",
      "alternativeproducts_isoform :\n",
      "Q10589-1 \n",
      "\n",
      "tissuespecificity :\n",
      "Predominantly expressed in liver, lung, heart and placenta. Lower levels in pancreas, kidney, skeletal muscle and brain. Overexpressed in multiple myeloma cells. Highly expressed during B-cell development, from pro-B precursors to plasma cells. Highly expressed on T-cells, monocytes, NK cells and dendritic cells (at protein level). \n",
      "\n",
      "induction :\n",
      "By type I interferons. \n",
      "\n",
      "domain :\n",
      "The extracellular coiled coil domain forms an extended 170 A long semi-flexible rod-like structure important for virion retention at the cell surface and prevention of virus spreading. \n",
      "\n",
      "PTM :\n",
      "Monoubiquitinated by KSHV E3 ubiquitin-protein ligase K5, leading to its targeting to late endosomes and degradation. \n",
      "\n",
      "miscellaneous :\n",
      "Tetherin shows evidence of positive (adaptive) selection, presumably as a result of evolutionary pressure applied by antagonistic viral proteins that counteract its inhibitiory activity and this has led to the species-specific tetherin sensitivity to viral countermeasures. For example, Tantalus monkey tetherin cannot be abrogated by HIV-1 VPU due to variation in the tetherin transmembrane region. Similarly, SIV Nefs are able to overcome simian tetherins, but not human tetherin, due to a unique 5-amino-acid deletion in the cytoplasmic tail domain of human tetherin (PubMed:19917491). \n",
      "\n",
      "similarity :\n",
      "Belongs to the tetherin family. \n",
      "\n"
     ]
    }
   ],
   "source": [
    "import re\n",
    "\n",
    "for annotation in prot_ref.annotations.keys():\n",
    "    if re.match(\"(comment_)[a-z]*\", annotation):\n",
    "        print(annotation.split(\"_\",1)[1],\":\")\n",
    "        print(prot_ref.annotations[annotation][0], \"\\n\")"
   ],
   "metadata": {
    "collapsed": false,
    "pycharm": {
     "name": "#%%\n"
    }
   }
  },
  {
   "cell_type": "markdown",
   "source": [
    "Muitas vezes estas informações alertam-nos para a presença de features no sequencia, como é o caso da informação relativa ao domain, encontrado no passo anterior.\n",
    "Estas features têm diferentes niveis de evidencia, que podem ser filtrados, neste caso nos escolhemos o nivel 2.\n",
    "\n",
    "Nota: Todas as localizações têm um inicio adiantado uma posição."
   ],
   "metadata": {
    "collapsed": false
   }
  },
  {
   "cell_type": "code",
   "execution_count": 23,
   "outputs": [
    {
     "name": "stdout",
     "output_type": "stream",
     "text": [
      "feature:  propeptide\n",
      "location:  [161:180]\n",
      "seq:  SAAAPQLLIVLLGLSALLQ\n",
      "description :  Removed in mature form\n",
      "id :  PRO_0000253552\n",
      "evidence :  6\n",
      "\n",
      "\n",
      "feature:  topological domain\n",
      "location:  [0:20]\n",
      "seq:  MASTSYDYCRVPMEDGDKRC\n",
      "description :  Cytoplasmic\n",
      "evidence :  6\n",
      "\n",
      "\n",
      "feature:  transmembrane region\n",
      "location:  [20:48]\n",
      "seq:  KLLLGIGILVLLIIVILGVPLIIFTIKA\n",
      "description :  Helical; Signal-anchor for type II membrane protein\n",
      "evidence :  6\n",
      "\n",
      "\n",
      "feature:  topological domain\n",
      "location:  [48:161]\n",
      "seq:  NSEACRDGLRAVMECRNVTHLLQQELTEAQKGFQDVEAQAATCNHTVMALMASLDAEKAQGQKKVEELEGEITTLNHKLQDASAEVERLRRENQVLSVRIADKKYYPSSQDSS\n",
      "description :  Extracellular\n",
      "evidence :  6\n",
      "\n",
      "\n",
      "feature:  lipid moiety-binding region\n",
      "location:  [160:161]\n",
      "seq:  S\n",
      "description :  GPI-anchor amidated serine\n",
      "evidence :  6\n",
      "\n",
      "\n",
      "feature:  glycosylation site\n",
      "location:  [64:65]\n",
      "seq:  N\n",
      "description :  N-linked (GlcNAc...) asparagine\n",
      "evidence :  12 14 16 19\n",
      "\n",
      "\n",
      "feature:  glycosylation site\n",
      "location:  [91:92]\n",
      "seq:  N\n",
      "description :  N-linked (GlcNAc...) asparagine\n",
      "evidence :  16 19\n",
      "\n",
      "\n",
      "feature:  cross-link\n",
      "location:  [17:18]\n",
      "seq:  K\n",
      "description :  Glycyl lysine isopeptide (Lys-Gly) (interchain with G-Cter in ubiquitin)\n",
      "evidence :  21\n",
      "\n",
      "\n",
      "feature:  splice variant\n",
      "location:  [0:12]\n",
      "seq:  MASTSYDYCRVP\n",
      "description :  In isoform 2.\n",
      "id :  VSP_053250\n",
      "evidence :  34\n",
      "\n",
      "\n",
      "feature:  mutagenesis site\n",
      "location:  [2:5]\n",
      "seq:  STS\n",
      "description :  Partial resistance to Vpu.\n",
      "evidence :  30\n",
      "original :  STS\n",
      "variation :  AAA\n",
      "\n",
      "\n",
      "feature:  mutagenesis site\n",
      "location:  [5:6]\n",
      "seq:  Y\n",
      "description :  Partial resistance to Vpu and significantly reduced activation of NF-kB; when associated with A-8.\n",
      "evidence :  30\n",
      "original :  Y\n",
      "variation :  A\n",
      "\n",
      "\n",
      "feature:  mutagenesis site\n",
      "location:  [7:8]\n",
      "seq:  Y\n",
      "description :  Partial resistance to Vpu and significantly reduced activation of NF-kB; when associated with A-6.\n",
      "evidence :  30\n",
      "original :  Y\n",
      "variation :  A\n",
      "\n",
      "\n",
      "feature:  mutagenesis site\n",
      "location:  [17:18]\n",
      "seq:  K\n",
      "description :  Abolishes redistribution to late endosomes in cells expressing KSH virus E3 ubiquitin-protein ligase K5.\n",
      "evidence :  21\n",
      "original :  K\n",
      "variation :  R\n",
      "\n",
      "\n",
      "feature:  mutagenesis site\n",
      "location:  [20:21]\n",
      "seq:  K\n",
      "description :  No effect on redistribution to late endosomes in cells expressing KSH virus E3 ubiquitin-protein ligase K5.\n",
      "evidence :  21\n",
      "original :  K\n",
      "variation :  R\n",
      "\n",
      "\n",
      "feature:  mutagenesis site\n",
      "location:  [52:53]\n",
      "seq:  C\n",
      "description :  Prevents homodimerization and inhibition of SARS-CoV, HCoV-229E, and HIV-1 viral particles production ex vivo; when associated with A-63 and A-91.\n",
      "evidence :  33\n",
      "original :  C\n",
      "variation :  A\n",
      "\n",
      "\n",
      "feature:  mutagenesis site\n",
      "location:  [62:63]\n",
      "seq:  C\n",
      "description :  Prevents homodimerization and inhibition of SARS-CoV, HCoV-229E, and HIV-1 viral particles production ex vivo; when associated with A-53 and A-91.\n",
      "evidence :  33\n",
      "original :  C\n",
      "variation :  A\n",
      "\n",
      "\n",
      "feature:  mutagenesis site\n",
      "location:  [64:65]\n",
      "seq:  N\n",
      "description :  Loss of glycosylation site.\n",
      "evidence :  19\n",
      "original :  N\n",
      "variation :  A\n",
      "\n",
      "\n",
      "feature:  mutagenesis site\n",
      "location:  [90:91]\n",
      "seq:  C\n",
      "description :  Prevents homodimerization and inhibition of SARS-CoV, HCoV-229E, and HIV-1 viral particles production ex vivo; when associated with A-53 and A-63.\n",
      "evidence :  33\n",
      "original :  C\n",
      "variation :  A\n",
      "\n",
      "\n",
      "feature:  mutagenesis site\n",
      "location:  [91:92]\n",
      "seq:  N\n",
      "description :  Loss of glycosylation site. Impairs anti-viral activity.\n",
      "evidence :  19\n",
      "original :  N\n",
      "variation :  A\n",
      "\n",
      "\n",
      "feature:  sequence conflict\n",
      "location:  [140:141]\n",
      "seq:  N\n",
      "description :  In Ref. 4; BAD96844.\n",
      "ref :  4\n",
      "evidence :  34\n",
      "original :  N\n",
      "variation :  D\n",
      "\n",
      "\n",
      "feature:  helix\n",
      "location:  [51:148]\n",
      "seq:  ACRDGLRAVMECRNVTHLLQQELTEAQKGFQDVEAQAATCNHTVMALMASLDAEKAQGQKKVEELEGEITTLNHKLQDASAEVERLRRENQVLSVRI\n",
      "evidence :  2\n",
      "\n",
      "\n",
      "feature:  strand\n",
      "location:  [151:154]\n",
      "seq:  KYY\n",
      "evidence :  3\n",
      "\n",
      "\n"
     ]
    }
   ],
   "source": [
    "for feature in prot_ref.features:\n",
    "    if \"evidence\" in feature.qualifiers:\n",
    "        if int(feature.qualifiers[\"evidence\"].split(\" \",1)[0]) >= 2:\n",
    "            print(\"feature: \", feature.type)\n",
    "            print(\"location: \", feature.location)\n",
    "            print(\"seq: \", prot_ref.seq[feature.location.nofuzzy_start:feature.location.nofuzzy_end])\n",
    "            for qual in feature.qualifiers.keys():\n",
    "                if qual != \"type\":\n",
    "                    print(qual,\": \", feature.qualifiers[qual])\n",
    "            print(\"\\n\")"
   ],
   "metadata": {
    "collapsed": false,
    "pycharm": {
     "name": "#%%\n"
    }
   }
  }
 ],
 "metadata": {
  "kernelspec": {
   "display_name": "Python 3",
   "language": "python",
   "name": "python3"
  },
  "language_info": {
   "codemirror_mode": {
    "name": "ipython",
    "version": 2
   },
   "file_extension": ".py",
   "mimetype": "text/x-python",
   "name": "python",
   "nbconvert_exporter": "python",
   "pygments_lexer": "ipython2",
   "version": "2.7.6"
  }
 },
 "nbformat": 4,
 "nbformat_minor": 0
}