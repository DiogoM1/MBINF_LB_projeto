{
 "cells": [
  {
   "cell_type": "markdown",
   "metadata": {
    "collapsed": true,
    "pycharm": {
     "name": "#%% md\n"
    }
   },
   "source": [
    "# Registo no GenBank\n",
    "\n",
    "## Verificar as anotações correspondentes aos genes de interesse;"
   ]
  },
  {
   "cell_type": "code",
   "execution_count": 2,
   "outputs": [],
   "source": [
    "from scripts_python import gbSearch\n",
    "import os\n",
    "from Bio import SeqIO, Entrez\n",
    "\n",
    "a = %pwd\n",
    "wd = (a.rsplit('/',1))[0]\n",
    "\n",
    "seq_id = \"NM_004335\"\n",
    "prot_seq_id = \"P0DTC7\""
   ],
   "metadata": {
    "collapsed": false,
    "pycharm": {
     "name": "#%%\n"
    }
   }
  },
  {
   "cell_type": "code",
   "execution_count": 3,
   "outputs": [],
   "source": [
    "handle = Entrez.efetch(db=\"nucleotide\",\n",
    "                       id=seq_id,\n",
    "                       rettype=\"gb\",\n",
    "                       retmode=\"text\")\n",
    "\n",
    "file_path = os.path.join(wd,\"data/reference/BST2\", \"BST2_gb.gb\")\n",
    "with open(file_path, 'w') as file:\n",
    "    file.write(handle.read())"
   ],
   "metadata": {
    "collapsed": false,
    "pycharm": {
     "name": "#%%\n"
    }
   }
  },
  {
   "cell_type": "code",
   "execution_count": 6,
   "outputs": [
    {
     "name": "stdout",
     "output_type": "stream",
     "text": [
      "molecule_type :  mRNA\n",
      "topology :  linear\n",
      "data_file_division :  PRI\n",
      "date :  11-DEC-2020\n",
      "accessions :  ['NM_004335']\n",
      "sequence_version :  4\n",
      "keywords :  ['RefSeq', 'MANE Select']\n",
      "source :  Homo sapiens (human)\n",
      "organism :  Homo sapiens\n",
      "taxonomy :  ['Eukaryota', 'Metazoa', 'Chordata', 'Craniata', 'Vertebrata', 'Euteleostomi', 'Mammalia', 'Eutheria', 'Euarchontoglires', 'Primates', 'Haplorrhini', 'Catarrhini', 'Hominidae', 'Homo']\n",
      "references :  [Reference(title='Differential Vpu-Mediated CD4 and Tetherin Downregulation Functions among Major HIV-1 Group M Subtypes', ...), Reference(title='Human BST-2/tetherin inhibits Junin virus release from host cells and its inhibition is partially counteracted by viral nucleoprotein', ...), Reference(title='BST2 Promotes Tumor Growth via Multiple Pathways in Hepatocellular Carcinoma', ...), Reference(title='A reference map of the human binary protein interactome', ...), Reference(title='Vpu of a Simian Immunodeficiency Virus Isolated from Greater Spot-Nosed Monkey Antagonizes Human BST-2 via Two AxxxxxxxW Motifs', ...), Reference(title='Characterization of antibodies submitted to the B cell section of the 8th Human Leukocyte Differentiation Antigens Workshop by flow cytometry and immunohistochemistry', ...), Reference(title='Large-scale identification and characterization of human genes that activate NF-kappaB and MAPK signaling pathways', ...), Reference(title='Molecular cloning and characterization of a surface antigen preferentially overexpressed on multiple myeloma cells', ...), Reference(title='Cloning of a cDNA encoding rat bone marrow stromal cell antigen 1 (BST-1) from the islets of Langerhans', ...), Reference(title='Molecular cloning and chromosomal mapping of a bone marrow stromal cell surface gene, BST2, that may be involved in pre-B-cell growth', ...)]\n",
      "comment :  REVIEWED REFSEQ: This record has been curated by NCBI staff. The\n",
      "reference sequence was derived from AC010319.10.\n",
      "On Nov 23, 2018 this sequence version replaced NM_004335.3.\n",
      "Summary: Bone marrow stromal cells are involved in the growth and\n",
      "development of B-cells. The specific function of the protein\n",
      "encoded by the bone marrow stromal cell antigen 2 is undetermined;\n",
      "however, this protein may play a role in pre-B-cell growth and in\n",
      "rheumatoid arthritis. [provided by RefSeq, Jul 2008].\n",
      "Publication Note:  This RefSeq record includes a subset of the\n",
      "publications that are available for this gene. Please see the Gene\n",
      "record to access additional publications.\n",
      "COMPLETENESS: full length.\n",
      "structured_comment :  OrderedDict([('Evidence-Data', OrderedDict([('Transcript exon combination', 'SRR1163655.37787.1, SRR1163655.21422.1 [ECO:0000332]'), ('RNAseq introns', 'single sample supports all introns SAMEA1968540, SAMEA1968968 [ECO:0000348]')])), ('RefSeq-Attributes', OrderedDict([('MANE Ensembl match', 'ENST00000252593.7/ ENSP00000252593.6'), ('RefSeq Select criteria', 'based on single protein-coding transcript')]))])\n"
     ]
    }
   ],
   "source": [
    "path = os.path.join(wd, \"data/reference/BST2\", \"BST2_gb.gb\")\n",
    "seq_r = SeqIO.read(path, format=\"genbank\")\n",
    "for Key, Value in seq_r.annotations.items():\n",
    "    print(Key,\": \", Value)\n"
   ],
   "metadata": {
    "collapsed": false,
    "pycharm": {
     "name": "#%%\n"
    }
   }
  },
  {
   "cell_type": "markdown",
   "source": [
    "## Verificar e analisar a informação complementar fornecida pela lista de features e seus qualifiers"
   ],
   "metadata": {
    "collapsed": false
   }
  },
  {
   "cell_type": "code",
   "execution_count": 7,
   "outputs": [
    {
     "name": "stdout",
     "output_type": "stream",
     "text": [
      "gene\n",
      "[0:1001](+)\n",
      "None\n",
      "gene :  ['BST2']\n",
      "gene_synonym :  ['CD317; TETHERIN']\n",
      "note :  ['bone marrow stromal cell antigen 2']\n",
      "db_xref :  ['GeneID:684', 'HGNC:HGNC:1119', 'MIM:600534']\n",
      " \n",
      "CDS\n",
      "[55:598](+)\n",
      "None\n",
      "gene :  ['BST2']\n",
      "gene_synonym :  ['CD317; TETHERIN']\n",
      "note :  ['NPC-A-7; BST-2; HM1.24 antigen; bone marrow stromal antigen 2']\n",
      "codon_start :  ['1']\n",
      "product :  ['bone marrow stromal antigen 2 precursor']\n",
      "protein_id :  ['NP_004326.1']\n",
      "db_xref :  ['CCDS:CCDS12358.1', 'GeneID:684', 'HGNC:HGNC:1119', 'MIM:600534']\n",
      "translation :  ['MASTSYDYCRVPMEDGDKRCKLLLGIGILVLLIIVILGVPLIIFTIKANSEACRDGLRAVMECRNVTHLLQQELTEAQKGFQDVEAQAATCNHTVMALMASLDAEKAQGQKKVEELEGEITTLNHKLQDASAEVERLRRENQVLSVRIADKKYYPSSQDSSSAAAPQLLIVLLGLSALLQ']\n",
      " \n"
     ]
    }
   ],
   "source": [
    "for feature in seq_r.features:\n",
    "    if feature.type in [\"gene\", \"CDS\"]:\n",
    "        if feature.qualifiers[\"gene\"][0] == \"BST2\":\n",
    "            interest_gene = feature\n",
    "            print(feature.type)\n",
    "            print(feature.location)\n",
    "            print(feature.ref_db)\n",
    "            for Key,Value in feature.qualifiers.items():\n",
    "                print(Key,\": \", Value)\n",
    "            print(\" \")"
   ],
   "metadata": {
    "collapsed": false,
    "pycharm": {
     "name": "#%%\n"
    }
   }
  },
  {
   "cell_type": "markdown",
   "source": [
    "## Referências em outras bases de dados"
   ],
   "metadata": {
    "collapsed": false,
    "pycharm": {
     "name": "#%% md\n"
    }
   }
  },
  {
   "cell_type": "code",
   "execution_count": 11,
   "outputs": [
    {
     "name": "stdout",
     "output_type": "stream",
     "text": [
      "taxon:9606\n",
      "GeneID:684\n",
      "HGNC:HGNC:1119\n",
      "MIM:600534\n",
      "CCDS:CCDS12358.1\n",
      "GeneID:684\n",
      "HGNC:HGNC:1119\n",
      "MIM:600534\n"
     ]
    }
   ],
   "source": [
    "refs = []\n",
    "\n",
    "for feature in seq_r.features:\n",
    "    if \"db_xref\" in feature.qualifiers:\n",
    "        refs.extend(feature.qualifiers[\"db_xref\"])\n",
    "\n",
    "for ref in refs:\n",
    "    print(ref)"
   ],
   "metadata": {
    "collapsed": false,
    "pycharm": {
     "name": "#%%\n"
    }
   }
  }
 ],
 "metadata": {
  "kernelspec": {
   "display_name": "Python 3",
   "language": "python",
   "name": "python3"
  },
  "language_info": {
   "codemirror_mode": {
    "name": "ipython",
    "version": 2
   },
   "file_extension": ".py",
   "mimetype": "text/x-python",
   "name": "python",
   "nbconvert_exporter": "python",
   "pygments_lexer": "ipython2",
   "version": "2.7.6"
  }
 },
 "nbformat": 4,
 "nbformat_minor": 0
}