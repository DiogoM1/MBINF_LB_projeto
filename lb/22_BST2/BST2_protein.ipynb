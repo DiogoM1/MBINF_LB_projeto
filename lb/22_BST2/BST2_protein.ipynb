{
 "cells": [
  {
   "cell_type": "markdown",
   "metadata": {
    "collapsed": true,
    "pycharm": {
     "name": "#%% md\n"
    }
   },
   "source": [
    "# Propriedades da Proteína\n",
    "\n",
    "## Obtenção da Sequência\n",
    "Foi utilizado o *site* do [Ensembl](https://www.ensembl.org/Homo_sapiens/Gene/Summary?db=core;g=ENSG00000130303;r=19:17402939-17405648), para obter a hiperligação para o UniProt, [Q10589-1](https://www.uniprot.org/uniprot/Q10589-1).\n",
    "Foi feito o download em formato FASTA da isoforma Q10589-1, que é considerada a sequência canónica.\n",
    "\n",
    "## Estruturas Secundárias\n",
    "Foi selecionado o organismo *Homo sapiens* e como foram obtidos bastantes resultados possíveis, escolhemos a proteína com o identificador [3NWH](http://www.rcsb.org/structure/3NWH), pois era a única que cumpria com os requisitos de pertencer ao organismo pretendido. Também existiam sequências parecidas, mas estas eram de ectodomínios.\n",
    "Ao observar a representação 3D da proteína concluímos que a estrutura secundária desta é composta por alfa-hélices."
   ]
  },
  {
   "cell_type": "code",
   "execution_count": 1,
   "metadata": {
    "pycharm": {
     "name": "#%%\n"
    }
   },
   "outputs": [
    {
     "data": {
      "application/vnd.jupyter.widget-view+json": {
       "model_id": "b2e5c78a3e174ba9b51c0ca8e5f4487c",
       "version_major": 2,
       "version_minor": 0
      },
      "text/plain": []
     },
     "metadata": {},
     "output_type": "display_data"
    }
   ],
   "source": [
    "from Bio.PDB import PDBList, PDBParser, MMCIFParser\n",
    "import os\n",
    "import nglview as nv\n",
    "\n",
    "# reference vars\n",
    "a = %pwd\n",
    "wd = (a.rsplit('/',2))[0]\n",
    "gene = \"BST2\"\n",
    "seq_id = \"NM_004335\"\n",
    "prot_seq_id = \"Q10589\"\n",
    "prot_pdb_id = \"3MQ7\"\n",
    "prot_strucuture_file = os.path.join(wd,\"data/structures\", gene,prot_pdb_id.lower()+\".cif\")"
   ]
  },
  {
   "cell_type": "code",
   "execution_count": 2,
   "metadata": {
    "pycharm": {
     "name": "#%%\n"
    }
   },
   "outputs": [
    {
     "name": "stderr",
     "output_type": "stream",
     "text": [
      "WARNING: The default download format has changed from PDB to PDBx/mmCif\n"
     ]
    },
    {
     "name": "stdout",
     "output_type": "stream",
     "text": [
      "Downloading PDB structure '3MQ7'...\n"
     ]
    },
    {
     "data": {
      "text/plain": [
       "'/home/dm/PycharmProjects/MBINF_LB_projeto/data/structures/BST2/3mq7.cif'"
      ]
     },
     "execution_count": 2,
     "metadata": {},
     "output_type": "execute_result"
    }
   ],
   "source": [
    "# retrive PDB file\n",
    "pdbl = PDBList()\n",
    "pdbl.retrieve_pdb_file(prot_pdb_id, pdir= prot_strucuture_file.rsplit(\"/\",1)[0], overwrite=True)"
   ]
  },
  {
   "cell_type": "code",
   "execution_count": 3,
   "metadata": {
    "pycharm": {
     "name": "#%%\n"
    }
   },
   "outputs": [
    {
     "name": "stderr",
     "output_type": "stream",
     "text": [
      "/home/dm/anaconda3/envs/lb_project/lib/python3.8/site-packages/Bio/PDB/StructureBuilder.py:89: PDBConstructionWarning: WARNING: Chain E is discontinuous at line 9180.\n",
      "  warnings.warn(\n",
      "/home/dm/anaconda3/envs/lb_project/lib/python3.8/site-packages/Bio/PDB/StructureBuilder.py:89: PDBConstructionWarning: WARNING: Chain K is discontinuous at line 9181.\n",
      "  warnings.warn(\n",
      "/home/dm/anaconda3/envs/lb_project/lib/python3.8/site-packages/Bio/PDB/StructureBuilder.py:89: PDBConstructionWarning: WARNING: Chain A is discontinuous at line 9182.\n",
      "  warnings.warn(\n",
      "/home/dm/anaconda3/envs/lb_project/lib/python3.8/site-packages/Bio/PDB/StructureBuilder.py:89: PDBConstructionWarning: WARNING: Chain B is discontinuous at line 9189.\n",
      "  warnings.warn(\n",
      "/home/dm/anaconda3/envs/lb_project/lib/python3.8/site-packages/Bio/PDB/StructureBuilder.py:89: PDBConstructionWarning: WARNING: Chain C is discontinuous at line 9194.\n",
      "  warnings.warn(\n",
      "/home/dm/anaconda3/envs/lb_project/lib/python3.8/site-packages/Bio/PDB/StructureBuilder.py:89: PDBConstructionWarning: WARNING: Chain D is discontinuous at line 9202.\n",
      "  warnings.warn(\n",
      "/home/dm/anaconda3/envs/lb_project/lib/python3.8/site-packages/Bio/PDB/StructureBuilder.py:89: PDBConstructionWarning: WARNING: Chain E is discontinuous at line 9211.\n",
      "  warnings.warn(\n",
      "/home/dm/anaconda3/envs/lb_project/lib/python3.8/site-packages/Bio/PDB/StructureBuilder.py:89: PDBConstructionWarning: WARNING: Chain F is discontinuous at line 9232.\n",
      "  warnings.warn(\n",
      "/home/dm/anaconda3/envs/lb_project/lib/python3.8/site-packages/Bio/PDB/StructureBuilder.py:89: PDBConstructionWarning: WARNING: Chain G is discontinuous at line 9249.\n",
      "  warnings.warn(\n",
      "/home/dm/anaconda3/envs/lb_project/lib/python3.8/site-packages/Bio/PDB/StructureBuilder.py:89: PDBConstructionWarning: WARNING: Chain H is discontinuous at line 9256.\n",
      "  warnings.warn(\n",
      "/home/dm/anaconda3/envs/lb_project/lib/python3.8/site-packages/Bio/PDB/StructureBuilder.py:89: PDBConstructionWarning: WARNING: Chain I is discontinuous at line 9263.\n",
      "  warnings.warn(\n",
      "/home/dm/anaconda3/envs/lb_project/lib/python3.8/site-packages/Bio/PDB/StructureBuilder.py:89: PDBConstructionWarning: WARNING: Chain J is discontinuous at line 9273.\n",
      "  warnings.warn(\n",
      "/home/dm/anaconda3/envs/lb_project/lib/python3.8/site-packages/Bio/PDB/StructureBuilder.py:89: PDBConstructionWarning: WARNING: Chain K is discontinuous at line 9282.\n",
      "  warnings.warn(\n",
      "/home/dm/anaconda3/envs/lb_project/lib/python3.8/site-packages/Bio/PDB/StructureBuilder.py:89: PDBConstructionWarning: WARNING: Chain L is discontinuous at line 9306.\n",
      "  warnings.warn(\n"
     ]
    },
    {
     "data": {
      "application/vnd.jupyter.widget-view+json": {
       "model_id": "7101a970d92743d2bce5cfe096ac4c57",
       "version_major": 2,
       "version_minor": 0
      },
      "text/plain": [
       "NGLWidget()"
      ]
     },
     "metadata": {},
     "output_type": "display_data"
    }
   ],
   "source": [
    "# Parse File\n",
    "parser = MMCIFParser()\n",
    "structure = parser.get_structure(prot_pdb_id, prot_strucuture_file)\n",
    "\n",
    "# 3d view the protein structure\n",
    "view = nv.show_biopython(structure)\n",
    "view"
   ]
  },
  {
   "cell_type": "code",
   "execution_count": 4,
   "metadata": {
    "pycharm": {
     "name": "#%%\n"
    }
   },
   "outputs": [
    {
     "name": "stdout",
     "output_type": "stream",
     "text": [
      "_struct_ref\n",
      "id : ['1']\n",
      "db_name : ['UNP']\n",
      "db_code : ['BST2_HUMAN']\n",
      "pdbx_db_accession : ['Q10589']\n",
      "entity_id : ['1']\n",
      "pdbx_seq_one_letter_code : ['KANSEACRDGLRAVMECRNVTHLLQQELTEAQKGFQDVEAQAATCNHTVMALMASLDAEKAQGQKKVEELEGEITTLNHK\\nLQDASAEVERLRRENQVLSVRIADKKYYPSSQDSS']\n",
      "pdbx_align_begin : ['47']\n",
      "pdbx_db_isoform : ['?']\n",
      "\n",
      "\n",
      "_struct_ref_seq\n",
      "align_id : ['1', '2', '3', '4', '5', '6', '7', '8', '9', '10', '11', '12']\n",
      "ref_id : ['1', '1', '1', '1', '1', '1', '1', '1', '1', '1', '1', '1']\n",
      "pdbx_PDB_id_code : ['3MQ7', '3MQ7', '3MQ7', '3MQ7', '3MQ7', '3MQ7', '3MQ7', '3MQ7', '3MQ7', '3MQ7', '3MQ7', '3MQ7']\n",
      "pdbx_strand_id : ['A', 'B', 'C', 'D', 'E', 'F', 'G', 'H', 'I', 'J', 'K', 'L']\n",
      "seq_align_beg : ['7', '7', '7', '7', '7', '7', '7', '7', '7', '7', '7', '7']\n",
      "pdbx_seq_align_beg_ins_code : ['?', '?', '?', '?', '?', '?', '?', '?', '?', '?', '?', '?']\n",
      "seq_align_end : ['121', '121', '121', '121', '121', '121', '121', '121', '121', '121', '121', '121']\n",
      "pdbx_seq_align_end_ins_code : ['?', '?', '?', '?', '?', '?', '?', '?', '?', '?', '?', '?']\n",
      "pdbx_db_accession : ['Q10589', 'Q10589', 'Q10589', 'Q10589', 'Q10589', 'Q10589', 'Q10589', 'Q10589', 'Q10589', 'Q10589', 'Q10589', 'Q10589']\n",
      "db_align_beg : ['47', '47', '47', '47', '47', '47', '47', '47', '47', '47', '47', '47']\n",
      "pdbx_db_align_beg_ins_code : ['?', '?', '?', '?', '?', '?', '?', '?', '?', '?', '?', '?']\n",
      "db_align_end : ['161', '161', '161', '161', '161', '161', '161', '161', '161', '161', '161', '161']\n",
      "pdbx_db_align_end_ins_code : ['?', '?', '?', '?', '?', '?', '?', '?', '?', '?', '?', '?']\n",
      "pdbx_auth_seq_align_beg : ['47', '47', '47', '47', '47', '47', '47', '47', '47', '47', '47', '47']\n",
      "pdbx_auth_seq_align_end : ['161', '161', '161', '161', '161', '161', '161', '161', '161', '161', '161', '161']\n",
      "\n",
      "\n",
      "_struct_ref_seq_dif\n",
      "align_id : ['1', '1', '1', '1', '1', '1', '1', '1', '1', '2', '2', '2', '2', '2', '2', '2', '2', '2', '3', '3', '3', '3', '3', '3', '3', '3', '3', '4', '4', '4', '4', '4', '4', '4', '4', '4', '5', '5', '5', '5', '5', '5', '5', '5', '5', '6', '6', '6', '6', '6', '6', '6', '6', '6', '7', '7', '7', '7', '7', '7', '7', '7', '7', '8', '8', '8', '8', '8', '8', '8', '8', '8', '9', '9', '9', '9', '9', '9', '9', '9', '9', '10', '10', '10', '10', '10', '10', '10', '10', '10', '11', '11', '11', '11', '11', '11', '11', '11', '11', '12', '12', '12', '12', '12', '12', '12', '12', '12']\n",
      "pdbx_pdb_id_code : ['3MQ7', '3MQ7', '3MQ7', '3MQ7', '3MQ7', '3MQ7', '3MQ7', '3MQ7', '3MQ7', '3MQ7', '3MQ7', '3MQ7', '3MQ7', '3MQ7', '3MQ7', '3MQ7', '3MQ7', '3MQ7', '3MQ7', '3MQ7', '3MQ7', '3MQ7', '3MQ7', '3MQ7', '3MQ7', '3MQ7', '3MQ7', '3MQ7', '3MQ7', '3MQ7', '3MQ7', '3MQ7', '3MQ7', '3MQ7', '3MQ7', '3MQ7', '3MQ7', '3MQ7', '3MQ7', '3MQ7', '3MQ7', '3MQ7', '3MQ7', '3MQ7', '3MQ7', '3MQ7', '3MQ7', '3MQ7', '3MQ7', '3MQ7', '3MQ7', '3MQ7', '3MQ7', '3MQ7', '3MQ7', '3MQ7', '3MQ7', '3MQ7', '3MQ7', '3MQ7', '3MQ7', '3MQ7', '3MQ7', '3MQ7', '3MQ7', '3MQ7', '3MQ7', '3MQ7', '3MQ7', '3MQ7', '3MQ7', '3MQ7', '3MQ7', '3MQ7', '3MQ7', '3MQ7', '3MQ7', '3MQ7', '3MQ7', '3MQ7', '3MQ7', '3MQ7', '3MQ7', '3MQ7', '3MQ7', '3MQ7', '3MQ7', '3MQ7', '3MQ7', '3MQ7', '3MQ7', '3MQ7', '3MQ7', '3MQ7', '3MQ7', '3MQ7', '3MQ7', '3MQ7', '3MQ7', '3MQ7', '3MQ7', '3MQ7', '3MQ7', '3MQ7', '3MQ7', '3MQ7', '3MQ7', '3MQ7']\n",
      "mon_id : ['ALA', 'GLY', 'PHE', 'SER', 'MSE', 'ASP', 'ALA', 'ALA', 'ALA', 'ALA', 'GLY', 'PHE', 'SER', 'MSE', 'ASP', 'ALA', 'ALA', 'ALA', 'ALA', 'GLY', 'PHE', 'SER', 'MSE', 'ASP', 'ALA', 'ALA', 'ALA', 'ALA', 'GLY', 'PHE', 'SER', 'MSE', 'ASP', 'ALA', 'ALA', 'ALA', 'ALA', 'GLY', 'PHE', 'SER', 'MSE', 'ASP', 'ALA', 'ALA', 'ALA', 'ALA', 'GLY', 'PHE', 'SER', 'MSE', 'ASP', 'ALA', 'ALA', 'ALA', 'ALA', 'GLY', 'PHE', 'SER', 'MSE', 'ASP', 'ALA', 'ALA', 'ALA', 'ALA', 'GLY', 'PHE', 'SER', 'MSE', 'ASP', 'ALA', 'ALA', 'ALA', 'ALA', 'GLY', 'PHE', 'SER', 'MSE', 'ASP', 'ALA', 'ALA', 'ALA', 'ALA', 'GLY', 'PHE', 'SER', 'MSE', 'ASP', 'ALA', 'ALA', 'ALA', 'ALA', 'GLY', 'PHE', 'SER', 'MSE', 'ASP', 'ALA', 'ALA', 'ALA', 'ALA', 'GLY', 'PHE', 'SER', 'MSE', 'ASP', 'ALA', 'ALA', 'ALA']\n",
      "pdbx_pdb_strand_id : ['A', 'A', 'A', 'A', 'A', 'A', 'A', 'A', 'A', 'B', 'B', 'B', 'B', 'B', 'B', 'B', 'B', 'B', 'C', 'C', 'C', 'C', 'C', 'C', 'C', 'C', 'C', 'D', 'D', 'D', 'D', 'D', 'D', 'D', 'D', 'D', 'E', 'E', 'E', 'E', 'E', 'E', 'E', 'E', 'E', 'F', 'F', 'F', 'F', 'F', 'F', 'F', 'F', 'F', 'G', 'G', 'G', 'G', 'G', 'G', 'G', 'G', 'G', 'H', 'H', 'H', 'H', 'H', 'H', 'H', 'H', 'H', 'I', 'I', 'I', 'I', 'I', 'I', 'I', 'I', 'I', 'J', 'J', 'J', 'J', 'J', 'J', 'J', 'J', 'J', 'K', 'K', 'K', 'K', 'K', 'K', 'K', 'K', 'K', 'L', 'L', 'L', 'L', 'L', 'L', 'L', 'L', 'L']\n",
      "seq_num : ['1', '2', '3', '4', '5', '6', '13', '23', '51', '1', '2', '3', '4', '5', '6', '13', '23', '51', '1', '2', '3', '4', '5', '6', '13', '23', '51', '1', '2', '3', '4', '5', '6', '13', '23', '51', '1', '2', '3', '4', '5', '6', '13', '23', '51', '1', '2', '3', '4', '5', '6', '13', '23', '51', '1', '2', '3', '4', '5', '6', '13', '23', '51', '1', '2', '3', '4', '5', '6', '13', '23', '51', '1', '2', '3', '4', '5', '6', '13', '23', '51', '1', '2', '3', '4', '5', '6', '13', '23', '51', '1', '2', '3', '4', '5', '6', '13', '23', '51', '1', '2', '3', '4', '5', '6', '13', '23', '51']\n",
      "pdbx_pdb_ins_code : ['?', '?', '?', '?', '?', '?', '?', '?', '?', '?', '?', '?', '?', '?', '?', '?', '?', '?', '?', '?', '?', '?', '?', '?', '?', '?', '?', '?', '?', '?', '?', '?', '?', '?', '?', '?', '?', '?', '?', '?', '?', '?', '?', '?', '?', '?', '?', '?', '?', '?', '?', '?', '?', '?', '?', '?', '?', '?', '?', '?', '?', '?', '?', '?', '?', '?', '?', '?', '?', '?', '?', '?', '?', '?', '?', '?', '?', '?', '?', '?', '?', '?', '?', '?', '?', '?', '?', '?', '?', '?', '?', '?', '?', '?', '?', '?', '?', '?', '?', '?', '?', '?', '?', '?', '?', '?', '?', '?']\n",
      "pdbx_seq_db_name : ['UNP', 'UNP', 'UNP', 'UNP', 'UNP', 'UNP', 'UNP', 'UNP', 'UNP', 'UNP', 'UNP', 'UNP', 'UNP', 'UNP', 'UNP', 'UNP', 'UNP', 'UNP', 'UNP', 'UNP', 'UNP', 'UNP', 'UNP', 'UNP', 'UNP', 'UNP', 'UNP', 'UNP', 'UNP', 'UNP', 'UNP', 'UNP', 'UNP', 'UNP', 'UNP', 'UNP', 'UNP', 'UNP', 'UNP', 'UNP', 'UNP', 'UNP', 'UNP', 'UNP', 'UNP', 'UNP', 'UNP', 'UNP', 'UNP', 'UNP', 'UNP', 'UNP', 'UNP', 'UNP', 'UNP', 'UNP', 'UNP', 'UNP', 'UNP', 'UNP', 'UNP', 'UNP', 'UNP', 'UNP', 'UNP', 'UNP', 'UNP', 'UNP', 'UNP', 'UNP', 'UNP', 'UNP', 'UNP', 'UNP', 'UNP', 'UNP', 'UNP', 'UNP', 'UNP', 'UNP', 'UNP', 'UNP', 'UNP', 'UNP', 'UNP', 'UNP', 'UNP', 'UNP', 'UNP', 'UNP', 'UNP', 'UNP', 'UNP', 'UNP', 'UNP', 'UNP', 'UNP', 'UNP', 'UNP', 'UNP', 'UNP', 'UNP', 'UNP', 'UNP', 'UNP', 'UNP', 'UNP', 'UNP']\n",
      "pdbx_seq_db_accession_code : ['Q10589', 'Q10589', 'Q10589', 'Q10589', 'Q10589', 'Q10589', 'Q10589', 'Q10589', 'Q10589', 'Q10589', 'Q10589', 'Q10589', 'Q10589', 'Q10589', 'Q10589', 'Q10589', 'Q10589', 'Q10589', 'Q10589', 'Q10589', 'Q10589', 'Q10589', 'Q10589', 'Q10589', 'Q10589', 'Q10589', 'Q10589', 'Q10589', 'Q10589', 'Q10589', 'Q10589', 'Q10589', 'Q10589', 'Q10589', 'Q10589', 'Q10589', 'Q10589', 'Q10589', 'Q10589', 'Q10589', 'Q10589', 'Q10589', 'Q10589', 'Q10589', 'Q10589', 'Q10589', 'Q10589', 'Q10589', 'Q10589', 'Q10589', 'Q10589', 'Q10589', 'Q10589', 'Q10589', 'Q10589', 'Q10589', 'Q10589', 'Q10589', 'Q10589', 'Q10589', 'Q10589', 'Q10589', 'Q10589', 'Q10589', 'Q10589', 'Q10589', 'Q10589', 'Q10589', 'Q10589', 'Q10589', 'Q10589', 'Q10589', 'Q10589', 'Q10589', 'Q10589', 'Q10589', 'Q10589', 'Q10589', 'Q10589', 'Q10589', 'Q10589', 'Q10589', 'Q10589', 'Q10589', 'Q10589', 'Q10589', 'Q10589', 'Q10589', 'Q10589', 'Q10589', 'Q10589', 'Q10589', 'Q10589', 'Q10589', 'Q10589', 'Q10589', 'Q10589', 'Q10589', 'Q10589', 'Q10589', 'Q10589', 'Q10589', 'Q10589', 'Q10589', 'Q10589', 'Q10589', 'Q10589', 'Q10589']\n",
      "db_mon_id : ['?', '?', '?', '?', '?', '?', 'CYS', 'CYS', 'CYS', '?', '?', '?', '?', '?', '?', 'CYS', 'CYS', 'CYS', '?', '?', '?', '?', '?', '?', 'CYS', 'CYS', 'CYS', '?', '?', '?', '?', '?', '?', 'CYS', 'CYS', 'CYS', '?', '?', '?', '?', '?', '?', 'CYS', 'CYS', 'CYS', '?', '?', '?', '?', '?', '?', 'CYS', 'CYS', 'CYS', '?', '?', '?', '?', '?', '?', 'CYS', 'CYS', 'CYS', '?', '?', '?', '?', '?', '?', 'CYS', 'CYS', 'CYS', '?', '?', '?', '?', '?', '?', 'CYS', 'CYS', 'CYS', '?', '?', '?', '?', '?', '?', 'CYS', 'CYS', 'CYS', '?', '?', '?', '?', '?', '?', 'CYS', 'CYS', 'CYS', '?', '?', '?', '?', '?', '?', 'CYS', 'CYS', 'CYS']\n",
      "pdbx_seq_db_seq_num : ['?', '?', '?', '?', '?', '?', '53', '63', '91', '?', '?', '?', '?', '?', '?', '53', '63', '91', '?', '?', '?', '?', '?', '?', '53', '63', '91', '?', '?', '?', '?', '?', '?', '53', '63', '91', '?', '?', '?', '?', '?', '?', '53', '63', '91', '?', '?', '?', '?', '?', '?', '53', '63', '91', '?', '?', '?', '?', '?', '?', '53', '63', '91', '?', '?', '?', '?', '?', '?', '53', '63', '91', '?', '?', '?', '?', '?', '?', '53', '63', '91', '?', '?', '?', '?', '?', '?', '53', '63', '91', '?', '?', '?', '?', '?', '?', '53', '63', '91', '?', '?', '?', '?', '?', '?', '53', '63', '91']\n",
      "details : ['EXPRESSION TAG', 'EXPRESSION TAG', 'EXPRESSION TAG', 'EXPRESSION TAG', 'EXPRESSION TAG', 'EXPRESSION TAG', 'ENGINEERED MUTATION', 'ENGINEERED MUTATION', 'ENGINEERED MUTATION', 'EXPRESSION TAG', 'EXPRESSION TAG', 'EXPRESSION TAG', 'EXPRESSION TAG', 'EXPRESSION TAG', 'EXPRESSION TAG', 'ENGINEERED MUTATION', 'ENGINEERED MUTATION', 'ENGINEERED MUTATION', 'EXPRESSION TAG', 'EXPRESSION TAG', 'EXPRESSION TAG', 'EXPRESSION TAG', 'EXPRESSION TAG', 'EXPRESSION TAG', 'ENGINEERED MUTATION', 'ENGINEERED MUTATION', 'ENGINEERED MUTATION', 'EXPRESSION TAG', 'EXPRESSION TAG', 'EXPRESSION TAG', 'EXPRESSION TAG', 'EXPRESSION TAG', 'EXPRESSION TAG', 'ENGINEERED MUTATION', 'ENGINEERED MUTATION', 'ENGINEERED MUTATION', 'EXPRESSION TAG', 'EXPRESSION TAG', 'EXPRESSION TAG', 'EXPRESSION TAG', 'EXPRESSION TAG', 'EXPRESSION TAG', 'ENGINEERED MUTATION', 'ENGINEERED MUTATION', 'ENGINEERED MUTATION', 'EXPRESSION TAG', 'EXPRESSION TAG', 'EXPRESSION TAG', 'EXPRESSION TAG', 'EXPRESSION TAG', 'EXPRESSION TAG', 'ENGINEERED MUTATION', 'ENGINEERED MUTATION', 'ENGINEERED MUTATION', 'EXPRESSION TAG', 'EXPRESSION TAG', 'EXPRESSION TAG', 'EXPRESSION TAG', 'EXPRESSION TAG', 'EXPRESSION TAG', 'ENGINEERED MUTATION', 'ENGINEERED MUTATION', 'ENGINEERED MUTATION', 'EXPRESSION TAG', 'EXPRESSION TAG', 'EXPRESSION TAG', 'EXPRESSION TAG', 'EXPRESSION TAG', 'EXPRESSION TAG', 'ENGINEERED MUTATION', 'ENGINEERED MUTATION', 'ENGINEERED MUTATION', 'EXPRESSION TAG', 'EXPRESSION TAG', 'EXPRESSION TAG', 'EXPRESSION TAG', 'EXPRESSION TAG', 'EXPRESSION TAG', 'ENGINEERED MUTATION', 'ENGINEERED MUTATION', 'ENGINEERED MUTATION', 'EXPRESSION TAG', 'EXPRESSION TAG', 'EXPRESSION TAG', 'EXPRESSION TAG', 'EXPRESSION TAG', 'EXPRESSION TAG', 'ENGINEERED MUTATION', 'ENGINEERED MUTATION', 'ENGINEERED MUTATION', 'EXPRESSION TAG', 'EXPRESSION TAG', 'EXPRESSION TAG', 'EXPRESSION TAG', 'EXPRESSION TAG', 'EXPRESSION TAG', 'ENGINEERED MUTATION', 'ENGINEERED MUTATION', 'ENGINEERED MUTATION', 'EXPRESSION TAG', 'EXPRESSION TAG', 'EXPRESSION TAG', 'EXPRESSION TAG', 'EXPRESSION TAG', 'EXPRESSION TAG', 'ENGINEERED MUTATION', 'ENGINEERED MUTATION', 'ENGINEERED MUTATION']\n",
      "pdbx_auth_seq_num : ['41', '42', '43', '44', '45', '46', '53', '63', '91', '41', '42', '43', '44', '45', '46', '53', '63', '91', '41', '42', '43', '44', '45', '46', '53', '63', '91', '41', '42', '43', '44', '45', '46', '53', '63', '91', '41', '42', '43', '44', '45', '46', '53', '63', '91', '41', '42', '43', '44', '45', '46', '53', '63', '91', '41', '42', '43', '44', '45', '46', '53', '63', '91', '41', '42', '43', '44', '45', '46', '53', '63', '91', '41', '42', '43', '44', '45', '46', '53', '63', '91', '41', '42', '43', '44', '45', '46', '53', '63', '91', '41', '42', '43', '44', '45', '46', '53', '63', '91', '41', '42', '43', '44', '45', '46', '53', '63', '91']\n",
      "pdbx_ordinal : ['1', '2', '3', '4', '5', '6', '7', '8', '9', '10', '11', '12', '13', '14', '15', '16', '17', '18', '19', '20', '21', '22', '23', '24', '25', '26', '27', '28', '29', '30', '31', '32', '33', '34', '35', '36', '37', '38', '39', '40', '41', '42', '43', '44', '45', '46', '47', '48', '49', '50', '51', '52', '53', '54', '55', '56', '57', '58', '59', '60', '61', '62', '63', '64', '65', '66', '67', '68', '69', '70', '71', '72', '73', '74', '75', '76', '77', '78', '79', '80', '81', '82', '83', '84', '85', '86', '87', '88', '89', '90', '91', '92', '93', '94', '95', '96', '97', '98', '99', '100', '101', '102', '103', '104', '105', '106', '107', '108']\n",
      "\n",
      "\n"
     ]
    }
   ],
   "source": [
    "from Bio.PDB.MMCIF2Dict import MMCIF2Dict\n",
    "import re\n",
    "\n",
    "mmcif_dict = MMCIF2Dict(prot_strucuture_file)\n",
    "\n",
    "structures = {}\n",
    "for value in mmcif_dict.keys():\n",
    "  if re.match('_struct_ref', value):\n",
    "    value_type = value.split(\".\",1)[0]\n",
    "    if value_type not in structures.keys():\n",
    "        structures[value_type] = {}\n",
    "    information = value.split(\".\",1)[1]\n",
    "    if information in structures[value_type].keys():\n",
    "        structures[value_type][information] = \", \".join([value[value_type][information], mmcif_dict[value]])\n",
    "    else:\n",
    "        structures[value_type][information] = mmcif_dict[value]\n",
    "\n",
    "for value_type in structures.keys():\n",
    "    print(value_type)\n",
    "    for information in structures[value_type].keys():\n",
    "        print(information, \":\", structures[value_type][information])\n",
    "    print(\"\\n\")"
   ]
  },
  {
   "cell_type": "markdown",
   "metadata": {},
   "source": [
    "Podemos observar que o ficheiro PDB com maior número de subunidades modeladas, têm as mesmas de forma disjunta. Este defeito, leva à complicação da análise das funções ou atividades das mesmas.\n",
    "\n",
    "Dentro da localização destas subunidades, que são todas iguais, encontra-se também o que é uma anotação do ficheiro uniprot para existência de um estrutura em helix [51:148], enquanto no PDB esta começa e acaba ligeiramente mais cedo e mais tarde [47:161]."
   ]
  },
  {
   "cell_type": "markdown",
   "metadata": {
    "pycharm": {
     "name": "#%% md\n"
    }
   },
   "source": [
    "\n",
    "## Domínios da Proteína\n",
    "Foi utilizada a ferramenta Phobius para prever os domínios que esta proteína possui. Verificámos, na previsão, a existência de um domínio citoplasmático, um domínio transmembranar e um domínio não citoplasmático.\n",
    "\n",
    ":::{figure,myclass}\n",
    "![Figura 1 - Previsão dos diferentes domínios da proteína BST2.](img/phobius_BST2.png)\n",
    "\n",
    "Previsão dos diferentes domínios da proteína BST2.\n",
    ":::\n",
    "\n",
    "~~~\n",
    "ID   sp|Q10589|BST2_HUMAN\n",
    "FT   DOMAIN        1     21       CYTOPLASMIC.\n",
    "FT   TRANSMEM     22     44\n",
    "FT   DOMAIN       45    180       NON CYTOPLASMIC.\n",
    "//\n",
    "\n",
    "~~~\n",
    "\n",
    "## Localização da Proteína\n",
    "Utilizando a ferramenta Hum-mPLoc 2.0 foi previsto que a localização desta proteína é no núcleo.\n",
    "\n",
    "## Locais de Glicosilação\n",
    "Os locais de glicosilação foram previstos usando a ferramenta NetNGlyc 1.0 Server.\n",
    "\n",
    "~~~\n",
    "Name:  sp_Q10589_BST2_HUMAN \tLength:  180\n",
    "MASTSYDYCRVPMEDGDKRCKLLLGIGILVLLIIVILGVPLIIFTIKANSEACRDGLRAVMECRNVTHLLQQELTEAQKG      80\n",
    "FQDVEAQAATCNHTVMALMASLDAEKAQGQKKVEELEGEITTLNHKLQDASAEVERLRRENQVLSVRIADKKYYPSSQDS     160\n",
    "SSAAAPQLLIVLLGLSALLQ\n",
    "................................................................N...............      80\n",
    "...........N....................................................................     160\n",
    "....................                                                                 240\n",
    "\n",
    "(Threshold=0.5)\n",
    "----------------------------------------------------------------------\n",
    "SeqName      Position  Potential   Jury    N-Glyc\n",
    "\t\t\t\t agreement result\n",
    "----------------------------------------------------------------------\n",
    "sp_Q10589_BST2_HUMAN   65 NVTH   0.6629     (9/9)   ++\n",
    "sp_Q10589_BST2_HUMAN   92 NHTV   0.5464     (7/9)   +\n",
    "----------------------------------------------------------------------\n",
    "\n",
    "~~~\n",
    ":::{figure,myclass}\n",
    "![Figura 2 - Previsão dos locais de glicosilação da proteína BST2.](img/NetGlyc_BST2.gif)\n",
    "\n",
    "Previsão dos locais de glicosilação da proteína BST2.\n",
    ":::\n",
    "\n",
    "## Locais de Fosforilação\n",
    "\n",
    "Utilizamos a ferramenta NetPhos 3.1 para prever o local fosforilação da serina, treonina ou tirosina em proteínas de organismos eucariotas.\n",
    "\n",
    "~~~\n",
    "    SPQXSTHXMANXXNEMARRXWSTRXMALANTIGENXSHXMXSAPIENSXX   #     50\n",
    "    GNXSTPESVMASTSYDYCRVPMEDGDKRCKLLLGIGILVLLIIVILGVPL   #    100\n",
    "    IIFTIKANSEACRDGLRAVMECRNVTHLLQQELTEAQKGFQDVEAQAATC   #    150\n",
    "    NHTVMALMASLDAEKAQGQKKVEELEGEITTLNHKLQDASAEVERLRREN   #    200\n",
    "    QVLSVRIADKKYYPSSQDSSSAAAPQLLIVLLGLSALLQ              #    250\n",
    "%1  S....................ST...........................   #     50\n",
    "%1  ...ST..S....T...Y.................................   #    100\n",
    "%1  ...T....S........................T................   #    150\n",
    "%1  .......................................S..........   #    200\n",
    "%1  ...S........Y.SS..SSS.............S....\n",
    "\n",
    "~~~\n",
    "\n",
    ":::{figure,myclass}\n",
    "![Figura 3 - Previsão dos locais de fosforilação da proteína BST2.](img/netphos_BST2.gif)\n",
    "\n",
    "Previsão dos locais de fosforilação da proteína BST2.\n",
    ":::"
   ]
  },
  {
   "cell_type": "markdown",
   "metadata": {
    "pycharm": {
     "name": "#%% md\n"
    }
   },
   "source": [
    "## Locais Conservados¶\n",
    "\n",
    "CDC - source: pfam\n",
    "NO CDD não foram encontrados domínios conservados.\n"
   ]
  },
  {
   "cell_type": "code",
   "execution_count": null,
   "metadata": {},
   "outputs": [],
   "source": []
  }
 ],
 "metadata": {
  "kernelspec": {
   "display_name": "Python 3",
   "language": "python",
   "name": "python3"
  },
  "language_info": {
   "codemirror_mode": {
    "name": "ipython",
    "version": 3
   },
   "file_extension": ".py",
   "mimetype": "text/x-python",
   "name": "python",
   "nbconvert_exporter": "python",
   "pygments_lexer": "ipython3",
   "version": "3.8.5"
  }
 },
 "nbformat": 4,
 "nbformat_minor": 1
}