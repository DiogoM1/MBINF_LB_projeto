{
 "cells": [
  {
   "cell_type": "markdown",
   "metadata": {
    "collapsed": true,
    "pycharm": {
     "name": "#%% md\n"
    }
   },
   "source": [
    "# BST2\n",
    "\n",
    "## Resumo\n",
    "\n",
    "- Proteina Humana;\n",
    "- Tem com função impedir a libertação dos viriões, criando ligações entre a teterina e o virião agarrando-se à célula hospedeira;\n",
    "- Fica ativa após a ocorrência de glicosilação em dois sítios-chave;\n",
    "- É uma proteína com um alvo não específico que inibe a libertação de virões de várias famílias de vírus.\n",
    "\n",
    "\n",
    "## Relação com ORF7a e características\n",
    "Bone marrow stromal antigen 2 (BST-2, também conhecido como “tetherin”), inicialmente identificado como sendo um promotor de crescimento de pré-células-B, inibe a libertação de viriões de vários vírus. Isto ocorre porque é estabelecida uma ligação entre as teterinas e os viriões, que ficando presos às membranas celulares do hospedeiro. Os genomas de muitos destes vírus codificam antagonistas ao BST-2 para ultrapassar as restrições impostas por este (Taylor et al., 2015).\n",
    "\n",
    "Possui um domínio transmembranar N-terminal, uma âncora glicosilfosfatidilinositol no C-terminal e dois sítios de glicolisação N-ligados no seu domínio extracelular (Kupzig et al., 2003; Ohtomo et al., 1999).\n",
    "\n",
    "O BST-2 movimenta-se através do retículo endoplasmático (RE) e do complexo de Golgi, eventualmente localizando-se na superfície e na rede trans-Golgi (Kupzig et al., 2003; Swiecki et al., 2011).\n",
    "\n",
    "O efeito antiviral de BST-2 foi identificado quando foi demonstrado que este inibe a libertação de viriões do HIV-1 ao agarrá-los, em gemulação, diretamente à célula do hospedeiro (Jones et al., 2013; Radoshitzky et al., 2010).\n",
    "\n",
    "Não foi demonstrada uma interação com nenhuma proteína viral de superfície específica, mas sim que funciona como uma interação física intermembranar. Assim, pensa-se que BST-2 é capaz de restringir qualquer vírus envolvido numa membrana resultante da gemulação (Fitzpatrick et al., 2010; Perez-Caballero et al., 2009; Wang et al., 2014).\n",
    "\n",
    "Dada a falta de especificidade viral na restrição da BST-2, os genomas de numerosos vírus codificam antagonistas para BST-2, para permitir a libertação de viriões (Taylor et al., 2015).\n",
    "\n",
    "Ao contrário de muitos vírus encapsulados, que gemulam através da membrana plasmática, os coronavírus gemulam entre o RE e o compartimento intermédio do complexo de Golgi e são transportados para a membrana plasmática dentro de vesículas (Stertz et al., 2007).\n",
    "\n",
    "\n",
    "### Bibliografia por ordem de aparência\n",
    "- Taylor KJ, Coleman CM, Postel S, Sisk MJ, Bernbaum JG, Venkataraman T, Sundberg JE, Frieman MB. Severe Acute Respiratory Syndrome Coronavirus ORF7a Inhibits Bone Marrow Stromal Antigen 2 Virion Tethering through a Novel Mechanism of Glycosylation Interference. 2015 Sep 16. doi: 10.1128/JVI.02274-15.\n",
    "- Kupzig S, Korolchuk V, Rollason R, Sugden A, Wilde A, Banting G. Bst-2/HM1.24 is a raft-associated apical membrane protein with an unusual topology. Traffic. 2003 Oct; 4(10):694-709.\n",
    "- Ohtomo T, Sugamata Y, Ozaki Y, Ono K, Yoshimura Y, Kawai S, Koishihara Y, Ozaki S, Kosaka M, Hirano T, Tsuchiya M. Molecular cloning and characterization of a surface antigen preferentially overexpressed on multiple myeloma cells. Biochem Biophys Res Commun. 1999 May 19; 258(3):583-91.\n",
    "- Swiecki M, Scheaffer SM, Allaire M, Fremont DH, Colonna M, Brett TJ. Structural and biophysical analysis of BST-2/tetherin ectodomains reveals an evolutionary conserved design to inhibit virus release. J Biol Chem. 2011 Jan 28; 286(4):2987-97.\n",
    "- Jones PH, Maric M, Madison MN, Maury W, Roller RJ, Okeoma CM. BST-2/tetherin-mediated restriction of chikungunya (CHIKV) VLP budding is counteracted by CHIKV non-structural protein 1 (nsP1). Virology. 2013 Mar 30; 438(1):37-49.\n",
    "- Radoshitzky SR, Dong L, Chi X, Clester JC, Retterer C, Spurgers K, Kuhn JH, Sandwick S, Ruthel G, Kota K, Boltz D, Warren T, Kranzusch PJ, Whelan SP, Bavari S. Infectious Lassa virus, but not filoviruses, is restricted by BST-2/tetherin. J Virol. 2010 Oct; 84(20):10569-80.\n",
    "- Fitzpatrick K, Skasko M, Deerinck TJ, Crum J, Ellisman MH, Guatelli J. Direct restriction of virus release and incorporation of the interferon-induced protein BST-2 into HIV-1 particles. PLoS Pathog. 2010 Mar 5; 6(3):e1000701.\n",
    "- Perez-Caballero D, Zang T, Ebrahimi A, McNatt MW, Gregory DA, Johnson MC, Bieniasz PD. Tetherin inhibits HIV-1 release by directly tethering virions to cells. Cell. 2009 Oct 30; 139(3):499-511.\n",
    "- Stertz S, Reichelt M, Spiegel M, Kuri T, Martínez-Sobrido L, García-Sastre A, Weber F, Kochs G. The intracellular sites of early replication and budding of SARS-coronavirus. Virology. 2007 May 10; 361(2):304-15."
   ]
  }
 ],
 "metadata": {
  "kernelspec": {
   "display_name": "Python 3",
   "language": "python",
   "name": "python3"
  },
  "language_info": {
   "codemirror_mode": {
    "name": "ipython",
    "version": 2
   },
   "file_extension": ".py",
   "mimetype": "text/x-python",
   "name": "python",
   "nbconvert_exporter": "python",
   "pygments_lexer": "ipython2",
   "version": "2.7.6"
  }
 },
 "nbformat": 4,
 "nbformat_minor": 0
}