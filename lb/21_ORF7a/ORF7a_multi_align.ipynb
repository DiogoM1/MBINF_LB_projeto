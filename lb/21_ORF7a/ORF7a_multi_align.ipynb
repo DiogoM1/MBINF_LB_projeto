{
 "cells": [
  {
   "cell_type": "code",
   "execution_count": 1,
   "metadata": {
    "collapsed": true
   },
   "outputs": [],
   "source": [
    "import docker, os\n",
    "\n",
    "a = %pwd\n",
    "wd = (a.rsplit('/',2))[0]\n",
    "\n",
    "GENE = \"ORF7a\"\n",
    "BLAST_Results=os.path.join(\"homologue\", GENE, \"B20210130A94466D2655679D1FD8953E075198DA8030B5FR.fasta\")\n",
    "\n",
    "\n",
    "D_CLUSTAL_O='quay.io/biocontainers/clustalo:1.2.4--1'\n",
    "\n",
    "WORK_HOST_DIRECTORY=wd\n",
    "WORK_CONT_DIRECTORY='/opt/project'"
   ]
  },
  {
   "cell_type": "code",
   "execution_count": 2,
   "outputs": [],
   "source": [
    "client = docker.from_env()\n",
    "bwa_docker_cont = client.containers.run(\n",
    "    image=D_CLUSTAL_O,\n",
    "    volumes={WORK_HOST_DIRECTORY: {'bind': WORK_CONT_DIRECTORY,'mode': 'rw'}},\n",
    "    working_dir= WORK_CONT_DIRECTORY+'/data/multi_align/',\n",
    "    entrypoint=\"bash\",\n",
    "    command='{0}/scripts_bash/clustalo.sh {1} {2}'.format(WORK_CONT_DIRECTORY, BLAST_Results, GENE))\n"
   ],
   "metadata": {
    "collapsed": false,
    "pycharm": {
     "name": "#%%\n"
    }
   }
  },
  {
   "cell_type": "code",
   "execution_count": 5,
   "outputs": [
    {
     "name": "stdout",
     "output_type": "stream",
     "text": [
      "Alignment with 13 rows and 536 columns\n",
      "--------------------------MKII------------LF...--- sp|P0DTC7|NS7A_SARS2\n",
      "--------------------------MKII------------LF...--- sp|Q3I5J0|NS7A_BCRP3\n",
      "--------------------------MKII------------LF...--- sp|Q3LZX7|NS7A_BCHK3\n",
      "--------------------------MKII------------LF...--- tr|A0A0U1UZF3|A0A0U1UZF3_SARS\n",
      "--------------------------MKII------------LF...--- tr|A0A0K1Z075|A0A0K1Z075_SARS\n",
      "--------------------------MKII------------LF...--- sp|P59635|NS7A_SARS\n",
      "--------------------------MKII------------LF...--- tr|D2E271|D2E271_SARS\n",
      "--------------------------MKII------------LF...--- sp|Q0Q470|NS7A_BC279\n",
      "--------------------------MKII------------LL...--- tr|A0A0U1WHG5|A0A0U1WHG5_SARS\n",
      "--------------------------MKFL------------LL...--- tr|E0XIZ8|E0XIZ8_9BETC\n",
      "--------------------------------------------...NKK tr|A0A1R2AKP7|A0A1R2AKP7_9CILI\n",
      "MVDFHLLLSRLWEKLVLTGPVTLCVGLQLLTTFRSFRQSEGDLL...--- tr|M1V4E0|M1V4E0_CYAM1\n",
      "--------------------------MKFFIQTVLFAVLATVIA...--- tr|A0A4S8MSA5|A0A4S8MSA5_DENBC\n"
     ]
    }
   ],
   "source": [
    "from Bio import SeqIO, AlignIO, Phylo\n",
    "\n",
    "alin_fa = AlignIO.read(os.path.join(wd,\"data/multi_align\", GENE, f\"{GENE}_clustalo.fasta\"), \"fasta\")\n",
    "\n",
    "print(alin_fa)"
   ],
   "metadata": {
    "collapsed": false,
    "pycharm": {
     "name": "#%%\n"
    }
   }
  },
  {
   "cell_type": "code",
   "execution_count": 6,
   "outputs": [
    {
     "name": "stdout",
     "output_type": "stream",
     "text": [
      "Tree(rooted=False, weight=1.0)\n",
      "    Clade()\n",
      "        Clade(branch_length=0.432529, name='tr|A0A1R2AKP7|A0A1R2AKP7_9CILI')\n",
      "        Clade(branch_length=0.0203394)\n",
      "            Clade(branch_length=0.412189, name='tr|M1V4E0|M1V4E0_CYAM1')\n",
      "            Clade(branch_length=0.0373059)\n",
      "                Clade(branch_length=0.374883, name='tr|A0A4S8MSA5|A0A4S8MSA5_DENBC')\n",
      "                Clade(branch_length=0.146268)\n",
      "                    Clade(branch_length=0.228615, name='tr|E0XIZ8|E0XIZ8_9BETC')\n",
      "                    Clade(branch_length=0.14752)\n",
      "                        Clade(branch_length=0.081095, name='sp|P0DTC7|NS7A_SARS2')\n",
      "                        Clade(branch_length=0.0413922)\n",
      "                            Clade(branch_length=0.0397029, name='tr|A0A0U1WHG5|A0A0U1WHG5_SARS')\n",
      "                            Clade(branch_length=0.0105021)\n",
      "                                Clade(branch_length=0.0128074)\n",
      "                                    Clade(branch_length=0.0163934, name='tr|A0A0K1Z075|A0A0K1Z075_SARS')\n",
      "                                    Clade(branch_length=0.0163934)\n",
      "                                        Clade(branch_length=0.0, name='sp|P59635|NS7A_SARS')\n",
      "                                        Clade(branch_length=0.0, name='tr|D2E271|D2E271_SARS')\n",
      "                                Clade(branch_length=0.00973361)\n",
      "                                    Clade(branch_length=0.0194672, name='sp|Q0Q470|NS7A_BC279')\n",
      "                                    Clade(branch_length=0.00102459)\n",
      "                                        Clade(branch_length=0.0184426, name='sp|Q3LZX7|NS7A_BCHK3')\n",
      "                                        Clade(branch_length=0.00614754)\n",
      "                                            Clade(branch_length=0.0122951, name='sp|Q3I5J0|NS7A_BCRP3')\n",
      "                                            Clade(branch_length=0.0122951, name='tr|A0A0U1UZF3|A0A0U1UZF3_SARS')\n",
      "  ____________________________________________ tr|A0A1R2AKP7|A0A1R2AKP7_9CILI\n",
      " |\n",
      "_|  _________________________________________ tr|M1V4E0|M1V4E0_CYAM1\n",
      " | |\n",
      " |_|   ______________________________________ tr|A0A4S8MSA5|A0A4S8MSA5_DENBC\n",
      "   |  |\n",
      "   |__|                ______________________ tr|E0XIZ8|E0XIZ8_9BETC\n",
      "      |               |\n",
      "      |_______________|               _______ sp|P0DTC7|NS7A_SARS2\n",
      "                      |              |\n",
      "                      |______________|    ___ tr|A0A0U1WHG5|A0A0U1WHG5_SARS\n",
      "                                     |   |\n",
      "                                     |   |  , tr|A0A0K1Z075|A0A0K1Z075_SARS\n",
      "                                     |___| _|\n",
      "                                         || |, sp|P59635|NS7A_SARS\n",
      "                                         || ||\n",
      "                                         ||  | tr|D2E271|D2E271_SARS\n",
      "                                          |\n",
      "                                          | _ sp|Q0Q470|NS7A_BC279\n",
      "                                          ||\n",
      "                                           |, sp|Q3LZX7|NS7A_BCHK3\n",
      "                                           ||\n",
      "                                            , sp|Q3I5J0|NS7A_BCRP3\n",
      "                                            |\n",
      "                                            | tr|A0A0U1UZF3|A0A0U1UZF3_SARS\n",
      "\n"
     ]
    }
   ],
   "source": [
    "from Bio import Phylo\n",
    "tree = Phylo.read(os.path.join(wd,\"data/multi_align\", GENE, f\"{GENE}_clustalo.dnd\"), \"newick\")\n",
    "print (tree)\n",
    "Phylo.draw_ascii(tree)"
   ],
   "metadata": {
    "collapsed": false,
    "pycharm": {
     "name": "#%%\n"
    }
   }
  }
 ],
 "metadata": {
  "kernelspec": {
   "display_name": "Python 3",
   "language": "python",
   "name": "python3"
  },
  "language_info": {
   "codemirror_mode": {
    "name": "ipython",
    "version": 2
   },
   "file_extension": ".py",
   "mimetype": "text/x-python",
   "name": "python",
   "nbconvert_exporter": "python",
   "pygments_lexer": "ipython2",
   "version": "2.7.6"
  }
 },
 "nbformat": 4,
 "nbformat_minor": 0
}