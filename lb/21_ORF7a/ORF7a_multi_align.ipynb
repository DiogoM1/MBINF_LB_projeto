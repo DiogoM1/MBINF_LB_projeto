{
 "cells": [
  {
   "cell_type": "markdown",
   "metadata": {
    "collapsed": true,
    "pycharm": {
     "name": "#%% md\n"
    }
   },
   "source": [
    "# Filogenia\n",
    "\n",
    "Como referido anteriormente, para o estudo da filogenia, foi realizado um BLAST com a base de dados Swiss-Prot, de forma encontrar sequências homólogas do nosso gene, que tenham sido curadas.\n",
    "\n",
    "As sequências obtidas foram alinhadas então usando a ferramenta de linha de comandos do CLUSTAL-Omega, o que nos forneceu os ficheiros necessários (dnd e fasta) para produzir uma árvore filogenética."
   ]
  },
  {
   "cell_type": "code",
   "execution_count": null,
   "metadata": {
    "pycharm": {
     "name": "#%%\n"
    }
   },
   "outputs": [],
   "source": [
    "import docker, os\n",
    "\n",
    "a = %pwd\n",
    "wd = (a.rsplit('/',2))[0]\n",
    "\n",
    "GENE = \"ORF7a\"\n",
    "BLAST_Results=os.path.join(\"homologue\", GENE, \"B20210130A94466D2655679D1FD8953E075198DA8030B5FR.fasta\")\n",
    "\n",
    "\n",
    "D_CLUSTAL_O='quay.io/biocontainers/clustalo:1.2.4--1'\n",
    "\n",
    "WORK_HOST_DIRECTORY=wd\n",
    "WORK_CONT_DIRECTORY='/opt/project'"
   ]
  },
  {
   "cell_type": "code",
   "execution_count": 2,
   "metadata": {
    "pycharm": {
     "name": "#%%\n"
    }
   },
   "outputs": [],
   "source": [
    "client = docker.from_env()\n",
    "bwa_docker_cont = client.containers.run(\n",
    "    image=D_CLUSTAL_O,\n",
    "    volumes={WORK_HOST_DIRECTORY: {'bind': WORK_CONT_DIRECTORY,'mode': 'rw'}},\n",
    "    working_dir= WORK_CONT_DIRECTORY+'/data/multi_align/',\n",
    "    entrypoint=\"bash\",\n",
    "    command='{0}/scripts_bash/clustalo.sh {1} {2}'.format(WORK_CONT_DIRECTORY, BLAST_Results, GENE))\n"
   ]
  },
  {
   "cell_type": "code",
   "execution_count": 11,
   "metadata": {
    "pycharm": {
     "name": "#%%\n"
    }
   },
   "outputs": [
    {
     "name": "stdout",
     "output_type": "stream",
     "text": [
      "Alignment with 5 rows and 122 columns\n",
      "MKIILFLALITLATCELYHYQECVRGTTVLLKEPCSSGTYEGNS...KTE sp|P0DTC7|NS7A_SARS2\n",
      "MKIILFLTLIALASCELYHYQECVRGTTVLLKEPCPSGTYEGNS...KTE sp|Q3I5J0|NS7A_BCRP3\n",
      "MKIILFLTLIALATCELYHYQECVRGTTVLLKEPCPSGTYEGNS...KTE sp|Q3LZX7|NS7A_BCHK3\n",
      "MKIILFLTLIVFTSCELYHYQECVRGTTVLLKEPCPSGTYEGNS...KTE sp|P59635|NS7A_SARS\n",
      "MKIILFLTLIALASSELYHYQECVRGTTVLLKEPCPSGTYEGNS...KTE sp|Q0Q470|NS7A_BC279\n"
     ]
    }
   ],
   "source": [
    "from Bio import AlignIO\n",
    "\n",
    "alin_fa = AlignIO.read(os.path.join(wd,\"data/multi_align\", GENE, f\"{GENE}_clustalo.fasta\"), \"fasta\")\n",
    "\n",
    "print(alin_fa)"
   ]
  },
  {
   "cell_type": "markdown",
   "source": [
    "O método selecionado para a produção das árvores foi o Neighbor-Joining, um método baseado na distância, nº de diferenças em posições alinhadas, e que não assume taxas de mutação constante. Ele também é confiável em situações em que temos espécies pouco relacionadas. Isto é algo que não esperamos encontrar com os vírus mas sim com as proteínas humanas.\n",
    "\n",
    ":::{figure,myclass}\n",
    "![Figura 1 - NJ ORF7a](img/mega_ORF7a.png)\n",
    "\n",
    "Árvore filogenética para o alinhamento múltiplo de P0DTC7 (ORF7a)\n",
    ":::\n",
    "\n",
    "Como já verificado em análises anteriores, a proteína ORF7a do SarsCov2, encontra-se próxima de proteínas homólogas de outros táxons. Porém as outras sequências, cujo alvo é o morcego,   encontram-se mais próximas do SarsCov original do que a nova variante. Como evidenciado pelos valores das distâncias e a organização da árvore."
   ],
   "metadata": {
    "collapsed": false,
    "pycharm": {
     "name": "#%% md\n"
    }
   }
  }
 ],
 "metadata": {
  "kernelspec": {
   "display_name": "Python 3",
   "language": "python",
   "name": "python3"
  },
  "language_info": {
   "codemirror_mode": {
    "name": "ipython",
    "version": 3
   },
   "file_extension": ".py",
   "mimetype": "text/x-python",
   "name": "python",
   "nbconvert_exporter": "python",
   "pygments_lexer": "ipython3",
   "version": "3.8.5"
  }
 },
 "nbformat": 4,
 "nbformat_minor": 1
}