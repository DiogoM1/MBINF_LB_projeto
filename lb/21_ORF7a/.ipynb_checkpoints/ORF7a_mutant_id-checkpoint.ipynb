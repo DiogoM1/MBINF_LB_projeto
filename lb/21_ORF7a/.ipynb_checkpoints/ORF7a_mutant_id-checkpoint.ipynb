{
 "cells": [
  {
   "cell_type": "markdown",
   "metadata": {},
   "source": [
    "# Identificação de Mutantes\n",
    "\n",
    "## Processamento de sequências\n",
    "\n",
    "O processo foi baseado numa pipeline de NGS em que várias sequências foram processadas para a obtenção de ficheiros GFF.\n",
    "Estes ficheiros em teoria terão a anotação da localizações das mutações identificadas no processo de alinhamento."
   ]
  },
  {
   "cell_type": "code",
   "execution_count": 1,
   "metadata": {
    "pycharm": {
     "name": "#%%\n"
    }
   },
   "outputs": [],
   "source": [
    "import docker\n",
    "\n",
    "a = %pwd\n",
    "wd = (a.rsplit('/',2))[0]\n",
    "\n",
    "REF_SEQ='Sars_cov_2.ASM985889v3.dna.toplevel.fa'\n",
    "SEQ_IDS={'ERR4157959': 'portuguese', 'ERR4395294': 'spanish'}\n",
    "SEQ = \" \".join(SEQ_IDS.keys())\n",
    "\n",
    "D_BWA='biocontainers/bwa:v0.7.17-3-deb_cv1'\n",
    "D_SAMTOOLS='biocontainers/samtools:v1.7.0_cv4'\n",
    "D_BCFTOOLS='quay.io/biocontainers/bcftools:1.9--h68d8f2e_7'\n",
    "\n",
    "WORK_HOST_DIRECTORY=wd\n",
    "WORK_CONT_DIRECTORY='/opt/project'"
   ]
  },
  {
   "cell_type": "code",
   "execution_count": null,
   "metadata": {
    "pycharm": {
     "name": "#%%\n"
    }
   },
   "outputs": [],
   "source": [
    "client = docker.from_env()\n",
    "bwa_docker_cont = client.containers.run(\n",
    "    image=D_BWA,\n",
    "    volumes={WORK_HOST_DIRECTORY: {'bind': WORK_CONT_DIRECTORY,'mode': 'rw'}},\n",
    "    working_dir= WORK_CONT_DIRECTORY+'/data/mutants',\n",
    "    command='{0}/scripts_bash/bwa.sh {1} \"{2}\"'.format(WORK_CONT_DIRECTORY, REF_SEQ, SEQ))\n"
   ]
  },
  {
   "cell_type": "code",
   "execution_count": null,
   "metadata": {
    "pycharm": {
     "name": "#%%\n"
    }
   },
   "outputs": [],
   "source": [
    "sam_docker_cont =client.containers.run(\n",
    "    image=D_SAMTOOLS,\n",
    "    volumes={WORK_HOST_DIRECTORY: {'bind': WORK_CONT_DIRECTORY,'mode': 'rw'}},\n",
    "    working_dir= WORK_CONT_DIRECTORY+'/data/mutants',\n",
    "    command='{0}/scripts_bash/sam.sh {1} \"{2}\"'.format(WORK_CONT_DIRECTORY, REF_SEQ, SEQ))"
   ]
  },
  {
   "cell_type": "code",
   "execution_count": null,
   "metadata": {
    "pycharm": {
     "name": "#%%\n"
    }
   },
   "outputs": [],
   "source": [
    "sam_docker_cont =client.containers.run(\n",
    "    image=D_BCFTOOLS,\n",
    "    volumes={WORK_HOST_DIRECTORY: {'bind': WORK_CONT_DIRECTORY,'mode': 'rw'}},\n",
    "    working_dir= WORK_CONT_DIRECTORY+'/data/mutants',\n",
    "    command='{0}/scripts_bash/bcf.sh {1} \"{2}\"'.format(WORK_CONT_DIRECTORY, REF_SEQ, SEQ))"
   ]
  },
  {
   "cell_type": "markdown",
   "metadata": {
    "pycharm": {
     "name": "#%% md\n"
    }
   },
   "source": [
    "## Identificar a localização do gene na sequência de referência\n",
    "\n",
    "Depois de obtidos os ficheiros GFF, portadores informação relativa às variações, é necessário identificar se alguma destas se encontra na localização do gene ORF7a."
   ]
  },
  {
   "cell_type": "code",
   "execution_count": 2,
   "metadata": {
    "pycharm": {
     "name": "#%%\n"
    }
   },
   "outputs": [
    {
     "ename": "FileNotFoundError",
     "evalue": "[Errno 2] No such file or directory: '../data/mutants/Sars_cov_2.ASM985889v3.101.gtf'",
     "output_type": "error",
     "traceback": [
      "\u001b[0;31m---------------------------------------------------------------------------\u001b[0m",
      "\u001b[0;31mFileNotFoundError\u001b[0m                         Traceback (most recent call last)",
      "\u001b[0;32m<ipython-input-2-be05198b4c73>\u001b[0m in \u001b[0;36m<module>\u001b[0;34m\u001b[0m\n\u001b[1;32m      5\u001b[0m \u001b[0;34m\u001b[0m\u001b[0m\n\u001b[1;32m      6\u001b[0m \u001b[0mexaminer\u001b[0m \u001b[0;34m=\u001b[0m \u001b[0mGFF\u001b[0m\u001b[0;34m.\u001b[0m\u001b[0mGFFExaminer\u001b[0m\u001b[0;34m(\u001b[0m\u001b[0;34m)\u001b[0m\u001b[0;34m\u001b[0m\u001b[0;34m\u001b[0m\u001b[0m\n\u001b[0;32m----> 7\u001b[0;31m \u001b[0min_handle\u001b[0m \u001b[0;34m=\u001b[0m \u001b[0mopen\u001b[0m\u001b[0;34m(\u001b[0m\u001b[0min_file\u001b[0m\u001b[0;34m)\u001b[0m\u001b[0;34m\u001b[0m\u001b[0;34m\u001b[0m\u001b[0m\n\u001b[0m\u001b[1;32m      8\u001b[0m \u001b[0mpprint\u001b[0m\u001b[0;34m.\u001b[0m\u001b[0mpprint\u001b[0m\u001b[0;34m(\u001b[0m\u001b[0mexaminer\u001b[0m\u001b[0;34m.\u001b[0m\u001b[0mavailable_limits\u001b[0m\u001b[0;34m(\u001b[0m\u001b[0min_handle\u001b[0m\u001b[0;34m)\u001b[0m\u001b[0;34m)\u001b[0m\u001b[0;34m\u001b[0m\u001b[0;34m\u001b[0m\u001b[0m\n\u001b[1;32m      9\u001b[0m \u001b[0min_handle\u001b[0m\u001b[0;34m.\u001b[0m\u001b[0mclose\u001b[0m\u001b[0;34m(\u001b[0m\u001b[0;34m)\u001b[0m\u001b[0;34m\u001b[0m\u001b[0;34m\u001b[0m\u001b[0m\n",
      "\u001b[0;31mFileNotFoundError\u001b[0m: [Errno 2] No such file or directory: '../data/mutants/Sars_cov_2.ASM985889v3.101.gtf'"
     ]
    }
   ],
   "source": [
    "import pprint\n",
    "import os\n",
    "from BCBio import GFF\n",
    "\n",
    "in_file = os.path.join(wd, \"data/mutants/Sars_cov_2.ASM985889v3.101.gtf\")\n",
    "\n",
    "examiner = GFF.GFFExaminer()\n",
    "in_handle = open(in_file)\n",
    "pprint.pprint(examiner.available_limits(in_handle))\n",
    "in_handle.close()"
   ]
  },
  {
   "cell_type": "code",
   "execution_count": null,
   "metadata": {
    "pycharm": {
     "name": "#%%\n"
    }
   },
   "outputs": [],
   "source": [
    "in_handle = open(in_file)\n",
    "limit_info = dict(gff_id=[\"MN908947.3\"], gff_type=[\"gene\"])\n",
    "for rec in GFF.parse(in_handle, limit_info=limit_info):\n",
    "    for gene in rec.features:\n",
    "        if 'ENSSASG00005000009' in gene.qualifiers['gene_id']:\n",
    "            ORF7a_ref = gene\n",
    "in_handle.close()"
   ]
  },
  {
   "cell_type": "markdown",
   "metadata": {
    "pycharm": {
     "name": "#%% md\n"
    }
   },
   "source": [
    "## Identificar mutações no gene nas amostraras"
   ]
  },
  {
   "cell_type": "code",
   "execution_count": null,
   "metadata": {
    "pycharm": {
     "name": "#%%\n"
    }
   },
   "outputs": [],
   "source": [
    "from scripts_python.vcf_gff import vcf2dict, lookup_var2genes\n",
    "\n",
    "samples_vars = {}\n",
    "samples_vars_ORF7a = {}\n",
    "\n",
    "for sample in SEQ_IDS.keys():\n",
    "    sample_variations = vcf2dict(\"{0}/data/mutants/{1}/{1}.sars_cov.raw.vcf\".format(wd,sample))\n",
    "    samples_vars[sample] = sample_variations\n",
    "    # filter to var in location\n",
    "    for var in sample_variations.keys():\n",
    "        samples_vars_ORF7a[sample] = lookup_var2genes(sample_variations, ORF7a_ref)\n",
    "\n",
    "if samples_vars:\n",
    "    print(\"Não foram identificadas mutações\")\n",
    "else:\n",
    "    for key, value in samples_vars.items():\n",
    "        print(f\"Na amostra {key} foram identificadas alterações em {value}\")\n"
   ]
  },
  {
   "cell_type": "markdown",
   "metadata": {
    "pycharm": {
     "name": "#%% md\n"
    }
   },
   "source": []
  }
 ],
 "metadata": {
  "kernelspec": {
   "display_name": "Python 3",
   "language": "python",
   "name": "python3"
  },
  "language_info": {
   "codemirror_mode": {
    "name": "ipython",
    "version": 3
   },
   "file_extension": ".py",
   "mimetype": "text/x-python",
   "name": "python",
   "nbconvert_exporter": "python",
   "pygments_lexer": "ipython3",
   "version": "3.8.5"
  }
 },
 "nbformat": 4,
 "nbformat_minor": 1
}
