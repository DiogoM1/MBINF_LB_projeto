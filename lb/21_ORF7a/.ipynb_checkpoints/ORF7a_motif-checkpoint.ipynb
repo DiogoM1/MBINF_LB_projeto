{
 "cells": [
  {
   "cell_type": "code",
   "execution_count": 17,
   "metadata": {
    "collapsed": true
   },
   "outputs": [],
   "source": [
    "import docker, os\n",
    "\n",
    "a = %pwd\n",
    "wd = (a.rsplit('/',2))[0]\n",
    "\n",
    "GENE = \"ORF7a\"\n",
    "BLAST_Results=os.path.join(\"homologue\", GENE, \"MN908947.3_ORF7a.fasta\")\n",
    "\n",
    "\n",
    "D_MEME='quay.io/biocontainers/meme:5.3.0--py37pl526h072abfd_0'\n",
    "\n",
    "WORK_HOST_DIRECTORY=wd\n",
    "WORK_CONT_DIRECTORY='/opt/project'"
   ]
  },
  {
   "cell_type": "code",
   "execution_count": 18,
   "metadata": {
    "pycharm": {
     "name": "#%%\n"
    }
   },
   "outputs": [],
   "source": [
    "client = docker.from_env()\n",
    "bwa_docker_cont = client.containers.run(\n",
    "    image=D_MEME,\n",
    "    volumes={WORK_HOST_DIRECTORY: {'bind': WORK_CONT_DIRECTORY,'mode': 'rw'}},\n",
    "    working_dir= WORK_CONT_DIRECTORY+'/data/motif/',\n",
    "    entrypoint=\"bash\",\n",
    "    command='{0}/scripts_bash/meme.sh {1} {2}'.format(WORK_CONT_DIRECTORY, BLAST_Results, GENE))\n"
   ]
  },
  {
   "cell_type": "code",
   "execution_count": null,
   "metadata": {
    "pycharm": {
     "name": "#%%\n"
    }
   },
   "outputs": [],
   "source": [
    "from Bio.motifs import meme\n",
    "\n",
    "with open(os.path.join(wd,\"/data/motif\", GENE, \"meme/meme.xml\")) as f:\n",
    "    meme_record = meme.read(f)\n",
    "\n",
    "for motif in meme_record:\n",
    "    for instance in motif.instances:\n",
    "        print(instance.motif_name, instance.sequence_name, instance.sequence_id, instance.strand, instance.pvalue)"
   ]
  },
  {
   "cell_type": "code",
   "execution_count": null,
   "metadata": {
    "pycharm": {
     "name": "#%%\n"
    }
   },
   "outputs": [],
   "source": [
    "from scripts_python.vcf_gff import gff2rec\n",
    "\n",
    "motif_in_ref = gff2rec(os.path.join(wd,\"/data/motif\", GENE, \"fimo/fimo.xml\"))"
   ]
  },
  {
   "cell_type": "code",
   "execution_count": null,
   "metadata": {
    "pycharm": {
     "name": "#%%\n"
    }
   },
   "outputs": [],
   "source": [
    "with open(os.path.join(wd,\"/data/motif\", GENE, \"mast/mast.xml\")) as f:\n",
    "    mast_record = meme.read(f)\n",
    "\n",
    "for motif in meme_record:\n",
    "    for instance in motif.instances:\n",
    "        print(instance.motif_name, instance.sequence_name, instance.sequence_id, instance.strand, instance.pvalue)"
   ]
  }
 ],
 "metadata": {
  "kernelspec": {
   "display_name": "Python 3",
   "language": "python",
   "name": "python3"
  },
  "language_info": {
   "codemirror_mode": {
    "name": "ipython",
    "version": 3
   },
   "file_extension": ".py",
   "mimetype": "text/x-python",
   "name": "python",
   "nbconvert_exporter": "python",
   "pygments_lexer": "ipython3",
   "version": "3.8.5"
  }
 },
 "nbformat": 4,
 "nbformat_minor": 1
}
