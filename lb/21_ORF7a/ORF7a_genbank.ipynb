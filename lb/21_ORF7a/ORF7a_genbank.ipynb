{
 "cells": [
  {
   "cell_type": "markdown",
   "metadata": {
    "collapsed": true,
    "pycharm": {
     "name": "#%% md\n"
    }
   },
   "source": [
    "# Recolha e análise de sequência de referência.\n",
    "\n",
    "A sequência foi recolhida na base de dados *Nucleotide* e foi guardada num ficheiro de formato GeneBank. Porém nesta base de dados não foi possível encontrar um sequência referente ao gene de interesse, sendo como tal necessário recolher desta a partir da sequência inteira do vírus, sendo a sequência escolhida a \"MN908947.3\"."
   ]
  },
  {
   "cell_type": "code",
   "execution_count": 5,
   "outputs": [],
   "source": [
    "import os\n",
    "from Bio import SeqIO, Entrez\n",
    "\n",
    "a = %pwd\n",
    "wd = (a.rsplit('/',2))[0]\n",
    "\n",
    "seq_id = \"MN908947.3\"\n",
    "gene = \"ORF7a\"\n",
    "protein = \"P0DTC7\""
   ],
   "metadata": {
    "collapsed": false,
    "pycharm": {
     "name": "#%%\n"
    }
   }
  },
  {
   "cell_type": "code",
   "execution_count": 6,
   "outputs": [],
   "source": [
    "Entrez.email = \"pedroalex123@gmail.com\"\n",
    "handle = Entrez.efetch(db=\"nucleotide\",\n",
    "                       id=seq_id,\n",
    "                       rettype=\"gb\",\n",
    "                       retmode=\"text\")\n",
    "\n",
    "file_path = os.path.join(wd,\"data/reference/\", gene, f\"{seq_id}.gb\")\n",
    "with open(file_path, 'w') as file:\n",
    "    file.write(handle.read())"
   ],
   "metadata": {
    "collapsed": false,
    "pycharm": {
     "name": "#%%\n"
    }
   }
  },
  {
   "cell_type": "code",
   "execution_count": 7,
   "outputs": [
    {
     "name": "stdout",
     "output_type": "stream",
     "text": [
      "molecule_type :  ss-RNA\n",
      "topology :  linear\n",
      "data_file_division :  VRL\n",
      "date :  18-MAR-2020\n",
      "accessions :  ['MN908947']\n",
      "sequence_version :  3\n",
      "keywords :  ['']\n",
      "source :  Severe acute respiratory syndrome coronavirus 2 (SARS-CoV-2)\n",
      "organism :  Severe acute respiratory syndrome coronavirus 2\n",
      "taxonomy :  ['Viruses', 'Riboviria', 'Orthornavirae', 'Pisuviricota', 'Pisoniviricetes', 'Nidovirales', 'Cornidovirineae', 'Coronaviridae', 'Orthocoronavirinae', 'Betacoronavirus', 'Sarbecovirus']\n",
      "references :  [Reference(title='A new coronavirus associated with human respiratory disease in China', ...), Reference(title='Direct Submission', ...)]\n",
      "comment :  On Jan 17, 2020 this sequence version replaced MN908947.2.\n",
      "structured_comment :  OrderedDict([('Assembly-Data', OrderedDict([('Assembly Method', 'Megahit v. V1.1.3'), ('Sequencing Technology', 'Illumina')]))])\n"
     ]
    }
   ],
   "source": [
    "path = os.path.join(wd, \"data/reference\",gene,f\"{seq_id}.gb\")\n",
    "seq_r = SeqIO.read(path, format=\"genbank\")\n",
    "for Key, Value in seq_r.annotations.items():\n",
    "    print(Key,\": \", Value)\n"
   ],
   "metadata": {
    "collapsed": false,
    "pycharm": {
     "name": "#%%\n"
    }
   }
  },
  {
   "cell_type": "markdown",
   "source": [
    "## Extração de conhecimento do GenBank\n",
    "\n",
    "O ficheiro .gb contém várias, entre as quais podemos confirmar o organismo, a taxonomia do mesmo e referências bibliográficas associadas a esta sequência. Porém a existência de *features* vai permitir conhecer melhor a sequência e determinar a localização do nosso gene de interesse.\n",
    "\n",
    "### Features"
   ],
   "metadata": {
    "collapsed": false
   }
  },
  {
   "cell_type": "code",
   "execution_count": 8,
   "outputs": [
    {
     "name": "stdout",
     "output_type": "stream",
     "text": [
      "gene\n",
      "[27393:27759](+)\n",
      "None\n",
      "gene :  ['ORF7a']\n",
      " \n",
      "CDS\n",
      "[27393:27759](+)\n",
      "None\n",
      "gene :  ['ORF7a']\n",
      "codon_start :  ['1']\n",
      "product :  ['ORF7a protein']\n",
      "protein_id :  ['QHD43421.1']\n",
      "translation :  ['MKIILFLALITLATCELYHYQECVRGTTVLLKEPCSSGTYEGNSPFHPLADNKFALTCFSTQFAFACPDGVKHVYQLRARSVSPKLFIRQEEVQELYSPIFLIVAAIVFITLCFTLKRKTE']\n",
      " \n"
     ]
    }
   ],
   "source": [
    "interest_features = []\n",
    "\n",
    "for feature in seq_r.features:\n",
    "    if feature.type in [\"gene\", \"CDS\"]:\n",
    "        if feature.qualifiers[\"gene\"][0] == gene:\n",
    "            interest_features.append(feature)\n",
    "            print(feature.type)\n",
    "            print(feature.location)\n",
    "            print(feature.ref_db)\n",
    "            for Key,Value in feature.qualifiers.items():\n",
    "                print(Key,\": \", Value)\n",
    "            print(\" \")"
   ],
   "metadata": {
    "collapsed": false,
    "pycharm": {
     "name": "#%%\n"
    }
   }
  },
  {
   "cell_type": "markdown",
   "source": [
    "Realizando a filtração destes features foi possível encontrar tanto uma anotação para o gene como a CDS que este representa, ambas indicam uma localização coincidente, que poderá ser usada para *splicing* deste gene.\n",
    "\n",
    "\n",
    "### Splicing do gene de interesse."
   ],
   "metadata": {
    "collapsed": false,
    "pycharm": {
     "name": "#%% md\n"
    }
   }
  },
  {
   "cell_type": "code",
   "execution_count": 10,
   "outputs": [
    {
     "name": "stdout",
     "output_type": "stream",
     "text": [
      "ATGAAAATTATTCTTTTCTTGGCACTGATAACACTCGCTACTTGTGAGCTTTATCACTACCAAGAGTGTGTTAGAGGTACAACAGTACTTTTAAAAGAACCTTGCTCTTCTGGAACATACGAGGGCAATTCACCATTTCATCCTCTAGCTGATAACAAATTTGCACTGACTTGCTTTAGCACTCAATTTGCTTTTGCTTGTCCTGACGGCGTAAAACACGTCTATCAGTTACGTGCCAGATCAGTTTCACCTAAACTGTTCATCAGACAAGAGGAAGTTCAAGAACTTTACTCTCCAATTTTTCTTATTGTTGCGGCAATAGTGTTTATAACACTTTGCTTCACACTCAAAAGAAAGACAGAATGA\n"
     ]
    }
   ],
   "source": [
    "from Bio.SeqRecord import SeqRecord\n",
    "\n",
    "\n",
    "gene_seq = seq_r.seq[interest_features[0].location.nofuzzy_start:interest_features[0].location.nofuzzy_end]\n",
    "gene_OBJ = SeqRecord(gene_seq, f\"{seq_id} | Reference sequence {gene} gene\", \"\", \"\")\n",
    "SeqIO.write(gene_OBJ, os.path.join(wd,\"data/reference\", gene, f\"{gene}_nu.fasta\"), \"fasta\")\n",
    "\n",
    "print(gene_seq)"
   ],
   "metadata": {
    "collapsed": false,
    "pycharm": {
     "name": "#%%\n"
    }
   }
  },
  {
   "cell_type": "markdown",
   "source": [
    "### Extração de informação relativa à proteina\n",
    "\n",
    "Podemos ficar a conhecer melhor a proteína, seja a identificação da ORF que permite obter a sua tradução, como a sequência desta e mais importante um ID, que poderá ser usado para pesquisar noutras bases de dados como o Uniprot."
   ],
   "metadata": {
    "collapsed": false,
    "pycharm": {
     "name": "#%% md\n"
    }
   }
  },
  {
   "cell_type": "code",
   "execution_count": 11,
   "outputs": [
    {
     "name": "stdout",
     "output_type": "stream",
     "text": [
      "MKIILFLALITLATCELYHYQECVRGTTVLLKEPCSSGTYEGNSPFHPLADNKFALTCFSTQFAFACPDGVKHVYQLRARSVSPKLFIRQEEVQELYSPIFLIVAAIVFITLCFTLKRKTE\n"
     ]
    }
   ],
   "source": [
    "from Bio.Seq import Seq\n",
    "\n",
    "prot_seq = Seq(interest_features[1].qualifiers['translation'][0])\n",
    "prot_OBJ = SeqRecord(prot_seq, interest_features[1].qualifiers['protein_id'][0] ,interest_features[1].qualifiers['product'][0], interest_features[1].qualifiers['product'][0])\n",
    "SeqIO.write(prot_OBJ, os.path.join(wd,\"data/reference\", gene, f\"{gene}_prot.fasta\"), \"fasta\")\n",
    "\n",
    "print(prot_seq)"
   ],
   "metadata": {
    "collapsed": false,
    "pycharm": {
     "name": "#%%\n"
    }
   }
  },
  {
   "cell_type": "markdown",
   "source": [
    "## Extração de conhecimento do Uniprot\n",
    "\n",
    "### Anotações\n",
    "\n",
    "Como referido anteriormente, com base no identificador para a proteína, foi possível encontrar na *Uniprot* o id nesse base de dados a qual esta proteína corresponde, nomeadamente P0DTC7.\n",
    "\n",
    "Descarregando o ficheiro XML e abrindo com o SeqIO podemos então analisar a função desta proteína e algumas das suas anotações e features."
   ],
   "metadata": {
    "collapsed": false,
    "pycharm": {
     "name": "#%% md\n"
    }
   }
  },
  {
   "cell_type": "code",
   "execution_count": 13,
   "outputs": [],
   "source": [
    "from wget import download\n",
    "\n",
    "url = \"https://www.uniprot.org/uniprot/{0}.xml\".format(protein)\n",
    "path = os.path.join(wd, \"data/reference\", gene,f\"{protein}.xml\")\n",
    "\n",
    "download(url, path)\n",
    "prot_ref = SeqIO.read(path, format=\"uniprot-xml\")"
   ],
   "metadata": {
    "collapsed": false,
    "pycharm": {
     "name": "#%%\n"
    }
   }
  },
  {
   "cell_type": "markdown",
   "source": [
    "Alguns dos elementos mais importantes nestas bases de dados são os comentários, estes incluem informações como função, interações, localização subcelular e domínios que estejam presente:"
   ],
   "metadata": {
    "collapsed": false,
    "pycharm": {
     "name": "#%% md\n"
    }
   }
  },
  {
   "cell_type": "code",
   "execution_count": 14,
   "outputs": [
    {
     "name": "stdout",
     "output_type": "stream",
     "text": [
      "function :\n",
      "Plays a role as antagonist of host tetherin (BST2), disrupting its antiviral effect. Acts by binding to BST2 thereby interfering with its glycosylation. May suppress small interfering RNA (siRNA). May bind to host ITGAL, thereby playing a role in attachment or modulation of leukocytes. \n",
      "\n",
      "subunit :\n",
      "Interacts with the spike glycoprotein. Interacts with M protein. Interacts with E protein. Interacts with the ORF3a protein. Interacts with human SGT. Interacts with host ITGAL. Interacts with host BST2. \n",
      "\n",
      "subcellularlocation_location :\n",
      "Virion \n",
      "\n",
      "subcellularlocation_topology :\n",
      "Single-pass membrane protein \n",
      "\n",
      "domain :\n",
      "The di-lysine motif confers endoplasmic reticulum localization for type I membrane proteins. \n",
      "\n"
     ]
    }
   ],
   "source": [
    "import re\n",
    "\n",
    "for annotation in prot_ref.annotations.keys():\n",
    "    if re.match(\"(comment_)[a-z]*\", annotation):\n",
    "        print(annotation.split(\"_\",1)[1],\":\")\n",
    "        print(prot_ref.annotations[annotation][0], \"\\n\")"
   ],
   "metadata": {
    "collapsed": false,
    "pycharm": {
     "name": "#%%\n"
    }
   }
  },
  {
   "cell_type": "markdown",
   "source": [
    "### Features\n",
    "\n",
    "Muitas vezes estas informações alertam-nos para a presença de features no sequência, como é o caso da informação relativa ao domínio, encontrado no passo anterior.\n",
    "Estas features têm diferentes níveis de evidência, que podem ser filtrados, neste caso nós escolhemos o nível 2.\n",
    "\n",
    "Nota: Todas as localizações têm um início adiantado uma posição, devido ao processamento de dados usando o python."
   ],
   "metadata": {
    "collapsed": false,
    "pycharm": {
     "name": "#%% md\n"
    }
   }
  },
  {
   "cell_type": "code",
   "execution_count": 15,
   "outputs": [
    {
     "name": "stdout",
     "output_type": "stream",
     "text": [
      "feature:  signal peptide\n",
      "location:  [0:15]\n",
      "seq:  MKIILFLALITLATC\n",
      "evidence :  3\n",
      "\n",
      "\n",
      "feature:  chain\n",
      "location:  [15:121]\n",
      "seq:  ELYHYQECVRGTTVLLKEPCSSGTYEGNSPFHPLADNKFALTCFSTQFAFACPDGVKHVYQLRARSVSPKLFIRQEEVQELYSPIFLIVAAIVFITLCFTLKRKTE\n",
      "description :  ORF7a protein\n",
      "id :  PRO_0000449654\n",
      "evidence :  3\n",
      "\n",
      "\n",
      "feature:  transmembrane region\n",
      "location:  [95:116]\n",
      "seq:  LYSPIFLIVAAIVFITLCFTL\n",
      "description :  Helical\n",
      "evidence :  3\n",
      "\n",
      "\n",
      "feature:  domain\n",
      "location:  [15:81]\n",
      "seq:  ELYHYQECVRGTTVLLKEPCSSGTYEGNSPFHPLADNKFALTCFSTQFAFACPDGVKHVYQLRARS\n",
      "description :  X4e\n",
      "evidence :  4\n",
      "\n",
      "\n",
      "feature:  short sequence motif\n",
      "location:  [116:121]\n",
      "seq:  KRKTE\n",
      "description :  Di-lysine motif\n",
      "evidence :  2\n",
      "\n",
      "\n",
      "feature:  disulfide bond\n",
      "location:  [22:58]\n",
      "seq:  CVRGTTVLLKEPCSSGTYEGNSPFHPLADNKFALTC\n",
      "evidence :  4\n",
      "\n",
      "\n",
      "feature:  disulfide bond\n",
      "location:  [34:67]\n",
      "seq:  CSSGTYEGNSPFHPLADNKFALTCFSTQFAFAC\n",
      "evidence :  4\n",
      "\n",
      "\n"
     ]
    }
   ],
   "source": [
    "for feature in prot_ref.features:\n",
    "    if int(feature.qualifiers[\"evidence\"]) >= 2:\n",
    "        print(\"feature: \", feature.type)\n",
    "        print(\"location: \", feature.location)\n",
    "        print(\"seq: \", prot_ref.seq[feature.location.nofuzzy_start:feature.location.nofuzzy_end])\n",
    "        for qual in feature.qualifiers.keys():\n",
    "            if qual != \"type\":\n",
    "                print(qual,\": \", feature.qualifiers[qual])\n",
    "        print(\"\\n\")"
   ],
   "metadata": {
    "collapsed": false,
    "pycharm": {
     "name": "#%%\n"
    }
   }
  },
  {
   "cell_type": "markdown",
   "source": [
    "Tanto as anotações como as *features*, identificadas, nestes ficheiros. Aquelas relativamente aos dominios e *motifs* podem ser úteis para uma melhor compreensão das anotações dos dados a ser analisados, e em especifico a interação entre os diferentes genes."
   ],
   "metadata": {
    "collapsed": false,
    "pycharm": {
     "name": "#%% md\n"
    }
   }
  }
 ],
 "metadata": {
  "kernelspec": {
   "display_name": "Python 3",
   "language": "python",
   "name": "python3"
  },
  "language_info": {
   "codemirror_mode": {
    "name": "ipython",
    "version": 2
   },
   "file_extension": ".py",
   "mimetype": "text/x-python",
   "name": "python",
   "nbconvert_exporter": "python",
   "pygments_lexer": "ipython2",
   "version": "2.7.6"
  }
 },
 "nbformat": 4,
 "nbformat_minor": 0
}