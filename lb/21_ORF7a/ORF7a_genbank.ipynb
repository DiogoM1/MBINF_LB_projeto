{
 "cells": [
  {
   "cell_type": "markdown",
   "metadata": {
    "collapsed": true,
    "pycharm": {
     "name": "#%% md\n"
    }
   },
   "source": [
    "# Recolha da sequência de referência.\n",
    "\n",
    "A sequência foi recolhida da base de dados *Nucleotide* e foi guardada num ficheiro de formato GeneBank. Porem nesta base de dados não foi possivél encontrar um sequência referente ao gene de interesse, sendo como tal necessário recolher desta a partir da sequência inteira do virus, sendo a sequência escolhida a \"MN908947.3\"."
   ]
  },
  {
   "cell_type": "code",
   "execution_count": 3,
   "outputs": [],
   "source": [
    "import os\n",
    "from Bio import SeqIO, Entrez\n",
    "\n",
    "a = %pwd\n",
    "wd = (a.rsplit('/',2))[0]\n",
    "\n",
    "seq_id = \"MN908947.3\""
   ],
   "metadata": {
    "collapsed": false,
    "pycharm": {
     "name": "#%%\n"
    }
   }
  },
  {
   "cell_type": "code",
   "execution_count": 4,
   "outputs": [],
   "source": [
    "handle = Entrez.efetch(db=\"nucleotide\",\n",
    "                       id=seq_id,\n",
    "                       rettype=\"gb\",\n",
    "                       retmode=\"text\")\n",
    "\n",
    "file_path = os.path.join(wd,\"data/reference/ORF7a\", f\"{seq_id}.gb\")\n",
    "with open(file_path, 'w') as file:\n",
    "    file.write(handle.read())"
   ],
   "metadata": {
    "collapsed": false,
    "pycharm": {
     "name": "#%%\n"
    }
   }
  },
  {
   "cell_type": "code",
   "execution_count": 4,
   "outputs": [
    {
     "name": "stdout",
     "output_type": "stream",
     "text": [
      "molecule_type :  ss-RNA\n",
      "topology :  linear\n",
      "data_file_division :  VRL\n",
      "date :  18-MAR-2020\n",
      "accessions :  ['MN908947']\n",
      "sequence_version :  3\n",
      "keywords :  ['']\n",
      "source :  Severe acute respiratory syndrome coronavirus 2 (SARS-CoV-2)\n",
      "organism :  Severe acute respiratory syndrome coronavirus 2\n",
      "taxonomy :  ['Viruses', 'Riboviria', 'Orthornavirae', 'Pisuviricota', 'Pisoniviricetes', 'Nidovirales', 'Cornidovirineae', 'Coronaviridae', 'Orthocoronavirinae', 'Betacoronavirus', 'Sarbecovirus']\n",
      "references :  [Reference(title='A new coronavirus associated with human respiratory disease in China', ...), Reference(title='Direct Submission', ...)]\n",
      "comment :  On Jan 17, 2020 this sequence version replaced MN908947.2.\n",
      "structured_comment :  OrderedDict([('Assembly-Data', OrderedDict([('Assembly Method', 'Megahit v. V1.1.3'), ('Sequencing Technology', 'Illumina')]))])\n"
     ]
    }
   ],
   "source": [
    "path = os.path.join(wd, \"data/reference/ORF7a\",f\"{seq_id}.gb\")\n",
    "seq_r = SeqIO.read(path, format=\"genbank\")\n",
    "for Key, Value in seq_r.annotations.items():\n",
    "    print(Key,\": \", Value)\n"
   ],
   "metadata": {
    "collapsed": false,
    "pycharm": {
     "name": "#%%\n"
    }
   }
  },
  {
   "cell_type": "markdown",
   "source": [
    "O ficheiro .gb contêm varias, entre as quais podemos confirmar o organismo, a taxonomia do mesmo e referências bibliográficas associadas a esta sequência. Porém a existência de *features* vai permitir conhecer melhor a sequência e determinar a localização do nosso gene de interesse.\n",
    "\n",
    "## Features"
   ],
   "metadata": {
    "collapsed": false
   }
  },
  {
   "cell_type": "code",
   "execution_count": 7,
   "outputs": [
    {
     "name": "stdout",
     "output_type": "stream",
     "text": [
      "gene\n",
      "[27393:27759](+)\n",
      "None\n",
      "gene :  ['ORF7a']\n",
      " \n",
      "CDS\n",
      "[27393:27759](+)\n",
      "None\n",
      "gene :  ['ORF7a']\n",
      "codon_start :  ['1']\n",
      "product :  ['ORF7a protein']\n",
      "protein_id :  ['QHD43421.1']\n",
      "translation :  ['MKIILFLALITLATCELYHYQECVRGTTVLLKEPCSSGTYEGNSPFHPLADNKFALTCFSTQFAFACPDGVKHVYQLRARSVSPKLFIRQEEVQELYSPIFLIVAAIVFITLCFTLKRKTE']\n",
      " \n"
     ]
    }
   ],
   "source": [
    "interest_features = []\n",
    "\n",
    "for feature in seq_r.features:\n",
    "    if feature.type in [\"gene\", \"CDS\"]:\n",
    "        if feature.qualifiers[\"gene\"][0] == \"ORF7a\":\n",
    "            interest_features.append(feature)\n",
    "            print(feature.type)\n",
    "            print(feature.location)\n",
    "            print(feature.ref_db)\n",
    "            for Key,Value in feature.qualifiers.items():\n",
    "                print(Key,\": \", Value)\n",
    "            print(\" \")"
   ],
   "metadata": {
    "collapsed": false,
    "pycharm": {
     "name": "#%%\n"
    }
   }
  },
  {
   "cell_type": "markdown",
   "source": [
    "Realizando a filtração destes features foi possivel encontrar tanto uma anotação para o gene como a CDS que este representa, ambas indicam um localização coincidente, que poderá ser usada para *slicing* deste gene.\n",
    "\n",
    "\n",
    "## Slicing do gene de interesse."
   ],
   "metadata": {
    "collapsed": false,
    "pycharm": {
     "name": "#%% md\n"
    }
   }
  },
  {
   "cell_type": "code",
   "execution_count": 29,
   "outputs": [
    {
     "data": {
      "text/plain": "1"
     },
     "execution_count": 29,
     "metadata": {},
     "output_type": "execute_result"
    }
   ],
   "source": [
    "from Bio.SeqRecord import SeqRecord\n",
    "\n",
    "\n",
    "ORF7a_seq = seq_r.seq[interest_features[0].location.nofuzzy_start:interest_features[0].location.nofuzzy_end]\n",
    "ORF7a = SeqRecord(ORF7a_seq, f\"{seq_id} | Reference sequence ORF7a gene\", \"\", \"\")\n",
    "SeqIO.write(ORF7a, os.path.join(wd,\"data/reference/ORF7a\", f\"{seq_id}_ORF7a.fasta\"), \"fasta\")"
   ],
   "metadata": {
    "collapsed": false,
    "pycharm": {
     "name": "#%%\n"
    }
   }
  },
  {
   "cell_type": "markdown",
   "source": [
    "### Extração de informação relativa à proteina\n",
    "\n",
    "Podemos ficar a conhecer melhor a proteina, seja a identificação da ORF que permite obter a sua tradução, como a sequência desta e mais importante um ID, que poderá ser usado para pesquisar noutras base de dados como o Uniprot."
   ],
   "metadata": {
    "collapsed": false,
    "pycharm": {
     "name": "#%% md\n"
    }
   }
  },
  {
   "cell_type": "code",
   "execution_count": 37,
   "outputs": [
    {
     "data": {
      "text/plain": "1"
     },
     "execution_count": 37,
     "metadata": {},
     "output_type": "execute_result"
    }
   ],
   "source": [
    "from Bio.Seq import Seq\n",
    "\n",
    "ORF7a_prot_seq = Seq(interest_features[1].qualifiers['translation'][0])\n",
    "ORF7a_prot = SeqRecord(ORF7a_prot_seq, interest_features[1].qualifiers['protein_id'][0] ,interest_features[1].qualifiers['product'][0], interest_features[1].qualifiers['product'][0])\n",
    "SeqIO.write(ORF7a_prot, os.path.join(wd,\"data/reference/ORF7a\", f\"{seq_id}_ORF7a_prot.fasta\"), \"fasta\")"
   ],
   "metadata": {
    "collapsed": false,
    "pycharm": {
     "name": "#%%\n"
    }
   }
  },
  {
   "cell_type": "markdown",
   "source": [
    "## Extração de conhecimento do Uniprot\n",
    "\n",
    "Como referido anterirormente, com base no identificador para a proteina, foi possivel encontrar na *Uniprot* o id neste base de dados a qual esta proteina corresponde, nomeadamente P0DTC7.\n",
    "\n",
    "Descarregando o ficheiro XML e abrindo com o SeqIO podemos então analisar a função desta proteina e algumas das suas anotações e features."
   ],
   "metadata": {
    "collapsed": false,
    "pycharm": {
     "name": "#%% md\n"
    }
   }
  },
  {
   "cell_type": "code",
   "execution_count": 39,
   "outputs": [],
   "source": [
    "from wget import download\n",
    "\n",
    "url = \"https://www.ebi.ac.uk/uniprot/api/covid-19/uniprotkb/accession/P0DTC7.xml\"\n",
    "path = os.path.join(wd, \"data/reference/ORF7a\",\"P0DTC7_uniprot.xml\")\n",
    "\n",
    "download(url, path)\n",
    "prot_ref = SeqIO.read(path, format=\"uniprot-xml\")"
   ],
   "metadata": {
    "collapsed": false,
    "pycharm": {
     "name": "#%%\n"
    }
   }
  }
 ],
 "metadata": {
  "kernelspec": {
   "display_name": "Python 3",
   "language": "python",
   "name": "python3"
  },
  "language_info": {
   "codemirror_mode": {
    "name": "ipython",
    "version": 2
   },
   "file_extension": ".py",
   "mimetype": "text/x-python",
   "name": "python",
   "nbconvert_exporter": "python",
   "pygments_lexer": "ipython2",
   "version": "2.7.6"
  }
 },
 "nbformat": 4,
 "nbformat_minor": 0
}