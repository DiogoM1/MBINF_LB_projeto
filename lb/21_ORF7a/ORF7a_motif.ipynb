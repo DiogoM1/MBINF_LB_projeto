{
 "cells": [
  {
   "cell_type": "code",
   "execution_count": 5,
   "metadata": {
    "collapsed": true
   },
   "outputs": [],
   "source": [
    "import docker, os\n",
    "\n",
    "a = %pwd\n",
    "wd = (a.rsplit('/',2))[0]\n",
    "\n",
    "GENE = \"ORF7a\"\n",
    "BLAST_Results_ncbi=os.path.join(\"homologue\", GENE, \"MN908947.3_ORF7a.fasta\")\n",
    "BLAST_Results_uniprot=os.path.join(\"homologue\", GENE, \"B20210130A94466D2655679D1FD8953E075198DA8030B5FR.fasta\")\n",
    "REF=os.path.join(\"reference\", GENE, \"P0DTC7.fasta\")\n",
    "D_MEME='quay.io/biocontainers/meme:5.3.0--py37pl526h072abfd_0'\n",
    "\n",
    "WORK_HOST_DIRECTORY=wd\n",
    "WORK_CONT_DIRECTORY='/opt/project'"
   ]
  },
  {
   "cell_type": "code",
   "execution_count": 6,
   "metadata": {
    "pycharm": {
     "name": "#%%\n"
    }
   },
   "outputs": [],
   "source": [
    "client = docker.from_env()\n",
    "bwa_docker_cont = client.containers.run(\n",
    "    image=D_MEME,\n",
    "    volumes={WORK_HOST_DIRECTORY: {'bind': WORK_CONT_DIRECTORY,'mode': 'rw'}},\n",
    "    working_dir= WORK_CONT_DIRECTORY+'/data/motif/',\n",
    "    entrypoint=\"bash\",\n",
    "    command='{0}/scripts_bash/meme.sh {1} {2} {3} {4}'.format(WORK_CONT_DIRECTORY, BLAST_Results_ncbi, BLAST_Results_uniprot, REF, GENE))"
   ]
  },
  {
   "cell_type": "code",
   "execution_count": 7,
   "metadata": {
    "pycharm": {
     "name": "#%%\n"
    }
   },
   "outputs": [],
   "source": [
    "from Bio import motifs\n",
    "\n",
    "with open(os.path.join(wd, \"data/motif\", GENE, \"meme/meme.xml\")) as file:\n",
    "    meme_record = motifs.parse(file, \"MEME\")"
   ]
  },
  {
   "cell_type": "code",
   "execution_count": 8,
   "metadata": {
    "pycharm": {
     "name": "#%%\n"
    }
   },
   "outputs": [
    {
     "name": "stdout",
     "output_type": "stream",
     "text": [
      "type: sequence_motif\n",
      "location: [17:67](+)\n",
      "id: YHYQECVRGTTVLLKEPCPSGTYEGNSPFHPLADNKFALTCTSTHFAFAC-MEME-1-1-sp|P0DTC7|NS7A_SARS2\n",
      "qualifiers:\n",
      "    Key: Alias, Value: ['MEME-1']\n",
      "    Key: ID, Value: ['YHYQECVRGTTVLLKEPCPSGTYEGNSPFHPLADNKFALTCTSTHFAFAC-MEME-1-1-sp|P0DTC7|NS7A_SARS2']\n",
      "    Key: Name, Value: ['YHYQECVRGTTVLLKEPCPSGTYEGNSPFHPLADNKFALTCTSTHFAFAC_sp|P0DTC7|NS7A_SARS2+']\n",
      "    Key: pvalue, Value: ['3.64e-62']\n",
      "    Key: qvalue, Value: ['2.62e-60']\n",
      "    Key: score, Value: ['614']\n",
      "    Key: sequence, Value: ['YHYQECVRGTTVLLKEPCSSGTYEGNSPFHPLADNKFALTCFSTQFAFAC']\n",
      "    Key: source, Value: ['fimo']\n",
      "\n",
      "type: sequence_motif\n",
      "location: [67:96](+)\n",
      "id: ADGTRHTYQLRARSVSPKLFIRQEEVHQE-MEME-2-1-sp|P0DTC7|NS7A_SARS2\n",
      "qualifiers:\n",
      "    Key: Alias, Value: ['MEME-2']\n",
      "    Key: ID, Value: ['ADGTRHTYQLRARSVSPKLFIRQEEVHQE-MEME-2-1-sp|P0DTC7|NS7A_SARS2']\n",
      "    Key: Name, Value: ['ADGTRHTYQLRARSVSPKLFIRQEEVHQE_sp|P0DTC7|NS7A_SARS2+']\n",
      "    Key: pvalue, Value: ['9.33e-34']\n",
      "    Key: qvalue, Value: ['8.68e-32']\n",
      "    Key: score, Value: ['330']\n",
      "    Key: sequence, Value: ['PDGVKHVYQLRARSVSPKLFIRQEEVQEL']\n",
      "    Key: source, Value: ['fimo']\n",
      "\n",
      "type: sequence_motif\n",
      "location: [100:121](+)\n",
      "id: FLIVAALVFIILCFTIKRKTE-MEME-3-1-sp|P0DTC7|NS7A_SARS2\n",
      "qualifiers:\n",
      "    Key: Alias, Value: ['MEME-3']\n",
      "    Key: ID, Value: ['FLIVAALVFIILCFTIKRKTE-MEME-3-1-sp|P0DTC7|NS7A_SARS2']\n",
      "    Key: Name, Value: ['FLIVAALVFIILCFTIKRKTE_sp|P0DTC7|NS7A_SARS2+']\n",
      "    Key: pvalue, Value: ['1.35e-23']\n",
      "    Key: qvalue, Value: ['1.34e-21']\n",
      "    Key: score, Value: ['229']\n",
      "    Key: sequence, Value: ['FLIVAAIVFITLCFTLKRKTE']\n",
      "    Key: source, Value: ['fimo']\n",
      "\n",
      "type: sequence_motif\n",
      "location: [0:15](+)\n",
      "id: MKIILFLTLIALASC-MEME-4-1-sp|P0DTC7|NS7A_SARS2\n",
      "qualifiers:\n",
      "    Key: Alias, Value: ['MEME-4']\n",
      "    Key: ID, Value: ['MKIILFLTLIALASC-MEME-4-1-sp|P0DTC7|NS7A_SARS2']\n",
      "    Key: Name, Value: ['MKIILFLTLIALASC_sp|P0DTC7|NS7A_SARS2+']\n",
      "    Key: pvalue, Value: ['1.4e-16']\n",
      "    Key: qvalue, Value: ['1.47e-14']\n",
      "    Key: score, Value: ['158']\n",
      "    Key: sequence, Value: ['MKIILFLALITLATC']\n",
      "    Key: source, Value: ['fimo']\n",
      "\n"
     ]
    }
   ],
   "source": [
    "from scripts_python.vcf_gff import gff2rec\n",
    "\n",
    "motif_in_ref = gff2rec(os.path.join(wd,\"data/motif\", GENE, \"fimo/fimo.gff\"))\n",
    "for seq in motif_in_ref:\n",
    "    for feature in seq.features:\n",
    "        print(feature)"
   ]
  },
  {
   "cell_type": "code",
   "execution_count": 9,
   "metadata": {
    "pycharm": {
     "name": "#%%\n"
    }
   },
   "outputs": [
    {
     "name": "stdout",
     "output_type": "stream",
     "text": [
      "0\n",
      "0\n",
      "0\n",
      "0\n"
     ]
    }
   ],
   "source": [
    "from Bio import motifs\n",
    "\n",
    "with open(os.path.join(wd, \"data/motif\", GENE, \"mast/mast.xml\")) as f:\n",
    "    mast_records = motifs.parse(f, \"MAST\")\n",
    "\n",
    "for motif in mast_records:\n",
    "    print(motif.num_occurrences)"
   ]
  }
 ],
 "metadata": {
  "kernelspec": {
   "display_name": "Python 3",
   "language": "python",
   "name": "python3"
  },
  "language_info": {
   "codemirror_mode": {
    "name": "ipython",
    "version": 3
   },
   "file_extension": ".py",
   "mimetype": "text/x-python",
   "name": "python",
   "nbconvert_exporter": "python",
   "pygments_lexer": "ipython3",
   "version": "3.8.5"
  }
 },
 "nbformat": 4,
 "nbformat_minor": 1
}