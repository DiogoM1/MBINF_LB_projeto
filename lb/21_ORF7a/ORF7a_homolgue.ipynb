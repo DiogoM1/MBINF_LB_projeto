{
 "cells": [
  {
   "cell_type": "markdown",
   "source": [
    "# Identificação de Homólogos"
   ],
   "metadata": {
    "collapsed": false
   }
  },
  {
   "cell_type": "code",
   "execution_count": 12,
   "outputs": [],
   "source": [
    "import os\n",
    "from Bio.Blast import NCBIXML\n",
    "from scripts_python import BLASTer\n",
    "\n",
    "a = %pwd\n",
    "wd = (a.rsplit('/',2))[0]\n",
    "seq_id = \"MN908947.3\"\n"
   ],
   "metadata": {
    "collapsed": false,
    "pycharm": {
     "name": "#%%\n"
    }
   }
  },
  {
   "cell_type": "code",
   "execution_count": 13,
   "outputs": [
    {
     "data": {
      "text/plain": "'record = SeqIO.read(os.path.join( wd,\"data/homologue\", f\"{seq_id}_ORF7a.fasta\"), \"fasta\")\\n\\nresult_handle = NCBIWWW.qblast(\"blastn\", \"nr\", record.format(\"fasta\"), short_query=True, expect=0.10, word_size=7, entrez_query=\\'all[filter] NOT \"Severe acute respiratory syndrome coronavirus 2\"[Organism]\\', )\\n\\nsave_file = open(os.path.join( wd,\"data/reference\", f\"{seq_id}_ORF7a_blast.xml\", \"w\"))\\nsave_file.write(result_handle.read())\\nsave_file.close()\\nresult_handle.close()'"
     },
     "execution_count": 13,
     "metadata": {},
     "output_type": "execute_result"
    }
   ],
   "source": [
    "\n",
    "\"\"\"record = SeqIO.read(os.path.join( wd,\"data/homologue\", f\"{seq_id}_ORF7a.fasta\"), \"fasta\")\n",
    "\n",
    "result_handle = NCBIWWW.qblast(\"blastn\", \"nr\", record.format(\"fasta\"), short_query=True, expect=0.10, word_size=7, entrez_query='all[filter] NOT \"Severe acute respiratory syndrome coronavirus 2\"[Organism]', )\n",
    "\n",
    "save_file = open(os.path.join( wd,\"data/reference\", f\"{seq_id}_ORF7a_blast.xml\", \"w\"))\n",
    "save_file.write(result_handle.read())\n",
    "save_file.close()\n",
    "result_handle.close()\"\"\""
   ],
   "metadata": {
    "collapsed": false,
    "pycharm": {
     "name": "#%%\n"
    }
   }
  },
  {
   "cell_type": "markdown",
   "source": [
    "## Carregar ficheiro XML da pesquisa"
   ],
   "metadata": {
    "collapsed": false,
    "pycharm": {
     "name": "#%% md\n"
    }
   }
  },
  {
   "cell_type": "code",
   "execution_count": 14,
   "outputs": [
    {
     "name": "stdout",
     "output_type": "stream",
     "text": [
      "Foram carregadas 100 seq: 44\n"
     ]
    }
   ],
   "source": [
    "result_handle= open(os.path.join( wd,\"data/homologue/ORF7a\", \"008SHWMV01R-Alignment.xml\"))\n",
    "blast_record_p = NCBIXML.read(result_handle)\n",
    "result_handle.close()\n",
    "\n",
    "print('Foram carregadas 100 seq:', len(blast_record_p.alignments))"
   ],
   "metadata": {
    "collapsed": false,
    "pycharm": {
     "name": "#%%\n"
    }
   }
  },
  {
   "cell_type": "markdown",
   "source": [
    "## Identificar Homologos"
   ],
   "metadata": {
    "collapsed": false,
    "pycharm": {
     "name": "#%% md\n"
    }
   }
  },
  {
   "cell_type": "code",
   "execution_count": 1,
   "outputs": [
    {
     "ename": "NameError",
     "evalue": "name 'blast_record_p' is not defined",
     "output_type": "error",
     "traceback": [
      "\u001B[0;31m---------------------------------------------------------------------------\u001B[0m",
      "\u001B[0;31mNameError\u001B[0m                                 Traceback (most recent call last)",
      "\u001B[0;32m<ipython-input-1-d07bff81cf16>\u001B[0m in \u001B[0;36m<module>\u001B[0;34m\u001B[0m\n\u001B[1;32m      3\u001B[0m \u001B[0;32mfrom\u001B[0m \u001B[0mBio\u001B[0m \u001B[0;32mimport\u001B[0m \u001B[0mSeqIO\u001B[0m\u001B[0;34m\u001B[0m\u001B[0;34m\u001B[0m\u001B[0m\n\u001B[1;32m      4\u001B[0m \u001B[0;34m\u001B[0m\u001B[0m\n\u001B[0;32m----> 5\u001B[0;31m \u001B[0mquery_len\u001B[0m \u001B[0;34m=\u001B[0m \u001B[0mblast_record_p\u001B[0m\u001B[0;34m.\u001B[0m\u001B[0mquery_length\u001B[0m\u001B[0;34m\u001B[0m\u001B[0;34m\u001B[0m\u001B[0m\n\u001B[0m\u001B[1;32m      6\u001B[0m \u001B[0;34m\u001B[0m\u001B[0m\n\u001B[1;32m      7\u001B[0m \u001B[0mhomologue\u001B[0m \u001B[0;34m=\u001B[0m \u001B[0;34m[\u001B[0m\u001B[0;34m]\u001B[0m\u001B[0;34m\u001B[0m\u001B[0;34m\u001B[0m\u001B[0m\n",
      "\u001B[0;31mNameError\u001B[0m: name 'blast_record_p' is not defined"
     ]
    }
   ],
   "source": [
    "from Bio.Seq import Seq\n",
    "from Bio.SeqRecord import SeqRecord\n",
    "from Bio import SeqIO\n",
    "\n",
    "query_len = blast_record_p.query_length\n",
    "\n",
    "homologue = []\n",
    "\n",
    "print(\"Accession\", \"Identity%\")\n",
    "for aln in blast_record_p.alignments:\n",
    "    for HSP in aln.hsps:\n",
    "        if HSP.score > 80 and HSP.expect < 1.0e-10 and HSP.identities/HSP.align_length > 0.80:\n",
    "            print(aln.accession,HSP.identities/HSP.align_length)\n",
    "            homologue.append(SeqRecord(Seq(HSP.sbjct), aln.hit_id, \"\", \"\"))\n",
    "\n",
    "\n",
    "print(\"Total:\",len(homologue))\n",
    "\n",
    "SeqIO.write(homologue, os.path.join(wd,\"data/homologue/ORF7a\", f\"{seq_id}_ORF7a.fasta\"), \"fasta\")"
   ],
   "metadata": {
    "collapsed": false,
    "pycharm": {
     "name": "#%%\n"
    }
   }
  }
 ],
 "metadata": {
  "kernelspec": {
   "display_name": "Python 3",
   "language": "python",
   "name": "python3"
  },
  "language_info": {
   "codemirror_mode": {
    "name": "ipython",
    "version": 2
   },
   "file_extension": ".py",
   "mimetype": "text/x-python",
   "name": "python",
   "nbconvert_exporter": "python",
   "pygments_lexer": "ipython2",
   "version": "2.7.6"
  }
 },
 "nbformat": 4,
 "nbformat_minor": 0
}