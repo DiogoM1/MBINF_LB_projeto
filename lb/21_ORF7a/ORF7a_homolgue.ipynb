{
 "cells": [
  {
   "cell_type": "markdown",
   "source": [
    "# Identificação de Homólogos\n",
    "\n",
    "A identificação de sequências homologas, é particularmente útil para a identificação de informações funcionais, filogenia, entre outras. A ferramenta por excelência para este procedimento é o BLAST.\n",
    "Existem disponiveis diversas métodos para aplicar esta ferramenta, entre os quais dois servidores (NCBI, Uniprot) e ferramentas locais de linhas de comando e programáticas (biopython)\n",
    "Sendo as versões Web as mais completas em termos de funcionalidade, iremos explorar ambos os servidores, para perceber também as diferenças nos seus resultados, devido às bases de dados que os alimentam.\n",
    "Outra decisão que foi tomada, foi a utilização de sequências proteicas, ??? explicar melhor???"
   ],
   "metadata": {
    "collapsed": false
   }
  },
  {
   "cell_type": "code",
   "execution_count": 9,
   "outputs": [],
   "source": [
    "import os\n",
    "from Bio.Blast import NCBIXML\n",
    "\n",
    "a = %pwd\n",
    "wd = (a.rsplit('/',2))[0]\n",
    "seq_id = \"MN908947.3\"\n",
    "prot_seq_id = \"P0DTC7\"\n",
    "gene = \"ORF7a\"\n",
    "file_blast_ncbi = \"008SHWMV01R-Alignment.xml\"\n",
    "file_blast_uniprot = \"B20210130A94466D2655679D1FD8953E075198DA8030B5FR.fasta\""
   ],
   "metadata": {
    "collapsed": false,
    "pycharm": {
     "name": "#%%\n"
    }
   }
  },
  {
   "cell_type": "markdown",
   "source": [
    "## Resultados NCBI\n",
    "\n",
    "A utilização da ferramenta do NCBI permite devolver resultados que excluem sequências armazenadas do mesmo organismo, o que quando são usadas bases de dados como a nr/nt é particularmente útil, devido aos elevados números de sequências redundantes."
   ],
   "metadata": {
    "collapsed": false,
    "pycharm": {
     "name": "#%% md\n"
    }
   }
  },
  {
   "cell_type": "code",
   "execution_count": 10,
   "outputs": [
    {
     "name": "stdout",
     "output_type": "stream",
     "text": [
      "Foram carregadas 44 seq.\n"
     ]
    }
   ],
   "source": [
    "result_handle= open(os.path.join( wd,\"data/homologue\", gene, file_blast_ncbi))\n",
    "blast_ncbi = NCBIXML.read(result_handle)\n",
    "result_handle.close()\n",
    "\n",
    "print('Foram carregadas {0} seq.'.format(len(blast_ncbi.alignments)))"
   ],
   "metadata": {
    "collapsed": false,
    "pycharm": {
     "name": "#%%\n"
    }
   }
  },
  {
   "cell_type": "markdown",
   "source": [
    "### Resumo"
   ],
   "metadata": {
    "collapsed": false,
    "pycharm": {
     "name": "#%% md\n"
    }
   }
  },
  {
   "cell_type": "code",
   "execution_count": 11,
   "outputs": [
    {
     "name": "stdout",
     "output_type": "stream",
     "text": [
      "Accession Identity%\n",
      "QJS57332 1.0\n",
      "QHR63305 0.9752066115702479\n",
      "QIG55950 0.9752066115702479\n",
      "QIA48619 0.8842975206611571\n",
      "QIQ54053 0.8842975206611571\n",
      "AVP78047 0.8842975206611571\n",
      "AVP78036 0.8760330578512396\n",
      "Q3I5J0 0.8852459016393442\n",
      "AIA62335 0.8852459016393442\n",
      "Q3LZX7 0.8852459016393442\n",
      "ARO76387 0.8770491803278688\n",
      "ATO98225 0.8770491803278688\n",
      "ACU31037 0.8770491803278688\n",
      "AGZ48838 0.8770491803278688\n",
      "AAZ41334 0.8770491803278688\n",
      "AKZ19081 0.8688524590163934\n",
      "ATO98237 0.8688524590163934\n",
      "AIA62325 0.860655737704918\n",
      "ATO98187 0.8688524590163934\n",
      "AIA62315 0.8688524590163934\n",
      "ADE34760 0.860655737704918\n",
      "ABD75319 0.860655737704918\n",
      "Q0Q470 0.860655737704918\n",
      "ACZ72114 0.8524590163934426\n",
      "YP_009825057 0.8524590163934426\n",
      "AAT52336 0.8524590163934426\n",
      "AIA62295 0.860655737704918\n",
      "ANA96033 0.8524590163934426\n",
      "AHX37563 0.8442622950819673\n",
      "ABI96964 0.8442622950819673\n",
      "ACZ72157 0.8442622950819673\n",
      "AFR58734 0.8442622950819673\n",
      "AFR58706 0.8442622950819673\n",
      "AFR58678 0.8360655737704918\n",
      "ASO66814 0.8360655737704918\n",
      "ADE34817 0.8852459016393442\n",
      "AIA62283 0.8442622950819673\n",
      "AAP82970 0.8461538461538461\n",
      "1XAK_A 0.8780487804878049\n",
      "1YO4_A 0.9047619047619048\n",
      "Total: 40\n"
     ]
    }
   ],
   "source": [
    "from Bio.Seq import Seq\n",
    "from Bio.SeqRecord import SeqRecord\n",
    "from Bio import SeqIO\n",
    "import re\n",
    "\n",
    "query_len = blast_ncbi.query_length\n",
    "homologue = []\n",
    "sources = {}\n",
    "\n",
    "print(\"Accession\", \"Identity%\")\n",
    "for aln in blast_ncbi.alignments:\n",
    "    for HSP in aln.hsps:\n",
    "        if HSP.score > 80 and HSP.expect < 1.0e-10 and HSP.identities/HSP.align_length > 0.80:\n",
    "            print(aln.accession,HSP.identities/HSP.align_length)\n",
    "            species = re.findall('\\[[^\\]]*\\]', aln.hit_def)[0].replace(\"[\",\"\").replace(\"]\",\"\")\n",
    "            if species not in sources:\n",
    "                sources[species] = 1\n",
    "            else:\n",
    "                sources[species] +=1\n",
    "            homologue.append(SeqRecord(Seq(HSP.sbjct), aln.title.split( \">\", 1)[0], \"\", \"\"))\n",
    "\n",
    "\n",
    "print(\"Total:\",len(homologue))"
   ],
   "metadata": {
    "collapsed": false,
    "pycharm": {
     "name": "#%%\n"
    }
   }
  },
  {
   "cell_type": "code",
   "execution_count": 12,
   "outputs": [
    {
     "name": "stdout",
     "output_type": "stream",
     "text": [
      "Severe acute respiratory syndrome coronavirus 2 : 1\n",
      "Bat coronavirus RaTG13 : 1\n",
      "Pangolin coronavirus : 3\n",
      "Bat SARS-like coronavirus : 5\n",
      "Bat SARS CoV Rp3/2004 : 1\n",
      "BtRs-BetaCoV/YN2013 : 1\n",
      "Bat SARS coronavirus HKU3 : 1\n",
      "Severe acute respiratory syndrome-related coronavirus : 4\n",
      "SARS coronavirus Rs_672/2006 : 1\n",
      "Bat SARS-like coronavirus WIV1 : 1\n",
      "Bat SARS coronavirus HKU3-2 : 1\n",
      "Bat SARS-like coronavirus YNLF_31C : 1\n",
      "BtRs-BetaCoV/GX2013 : 1\n",
      "BtRs-BetaCoV/HuB2013 : 1\n",
      "Bat SARS coronavirus HKU3-7 : 1\n",
      "Bat SARS CoV Rf1/2004 : 1\n",
      "Bat CoV 279/2005 : 1\n",
      "SARS coronavirus ExoN1 : 1\n",
      "SARS coronavirus Tor2 : 4\n",
      "SARS coronavirus LLJ-2004 : 1\n",
      "BtRf-BetaCoV/HeB2013 : 1\n",
      "Bat coronavirus : 2\n",
      "Rhinolophus affinis coronavirus : 1\n",
      "SARS coronavirus MA15 ExoN1 : 1\n",
      "Bat SARS coronavirus HKU3-12 : 1\n",
      "BtRf-BetaCoV/JL2012 : 1\n",
      "SARS coronavirus Shanhgai LY : 1\n"
     ]
    },
    {
     "data": {
      "text/plain": "40"
     },
     "execution_count": 12,
     "metadata": {},
     "output_type": "execute_result"
    }
   ],
   "source": [
    "for source in sources.keys():\n",
    "    print(source, \":\", sources[source])\n",
    "\n",
    "SeqIO.write(homologue, os.path.join(wd,\"data/homologue\", gene, f\"{seq_id}_{gene}.fasta\"), \"fasta\")"
   ],
   "metadata": {
    "collapsed": false,
    "pycharm": {
     "name": "#%%\n"
    }
   }
  },
  {
   "cell_type": "markdown",
   "source": [
    "### Resultados UNIPROT\n",
    "\n",
    "#### Comentários"
   ],
   "metadata": {
    "collapsed": false,
    "pycharm": {
     "name": "#%% md\n"
    }
   }
  },
  {
   "cell_type": "code",
   "execution_count": 13,
   "outputs": [],
   "source": [
    "path = os.path.join(wd, \"data/homologue\", gene, file_blast_uniprot)\n",
    "blast_uniprot_raw = SeqIO.parse(path, format=\"fasta\")\n",
    "blast_uniprot = []\n",
    "blast_uniprot_id = []\n",
    "\n",
    "for protein in blast_uniprot_raw:\n",
    "    blast_uniprot.append(protein)\n",
    "    seq_id = re.findall('\\|[^|]*\\|', protein.id)[0].replace(\"|\",\"\")\n",
    "    blast_uniprot_id.append(seq_id)"
   ],
   "metadata": {
    "collapsed": false,
    "pycharm": {
     "name": "#%%\n"
    }
   }
  },
  {
   "cell_type": "code",
   "execution_count": 14,
   "outputs": [],
   "source": [
    "from wget import download\n",
    "\n",
    "for accession in blast_uniprot_id:\n",
    "    url = \"https://www.uniprot.org/uniprot/{0}.xml\".format(accession)\n",
    "    path = os.path.join(wd, \"data/homologue\", gene, \"uniprot\",\"{0}.xml\".format(accession))\n",
    "    download(url, path)"
   ],
   "metadata": {
    "collapsed": false,
    "pycharm": {
     "name": "#%%\n"
    }
   }
  },
  {
   "cell_type": "code",
   "execution_count": 15,
   "outputs": [
    {
     "name": "stdout",
     "output_type": "stream",
     "text": [
      "function\n",
      "Plays a role as antagonist of host tetherin (BST2), disrupting its antiviral effect. Acts by binding to BST2 thereby interfering with its glycosylation. May suppress small interfering RNA (siRNA). May bind to host ITGAL, thereby playing a role in attachment or modulation of leukocytes. : P0DTC7, P59635\n",
      "Non-structural protein which is dispensable for virus replication in cell culture. : Q3I5J0, Q3LZX7, Q0Q470\n",
      "\n",
      "\n",
      "subunit\n",
      "Interacts with the spike glycoprotein. Interacts with M protein. Interacts with E protein. Interacts with the ORF3a protein. Interacts with human SGT. Interacts with host ITGAL. Interacts with host BST2. : P0DTC7\n",
      "Interacts with the spike glycoprotein, M protein, E protein and the accessory protein 3. : Q3I5J0, Q3LZX7, Q0Q470\n",
      "Interacts with the spike glycoprotein (PubMed:16840309). Interacts with M protein (PubMed:16580632). Interacts with E protein (PubMed:16580632). Interacts with the ORF3a protein (PubMed:15194747). Interacts with human SGT (PubMed:16580632). Interacts with host ITGAL (PubMed:18020948). Interacts with host BST2 (PubMed:26378163). : P59635\n",
      "\n",
      "\n",
      "subcellularlocation_location\n",
      "Virion : P0DTC7, Q3I5J0, Q3LZX7, P59635, Q0Q470\n",
      "\n",
      "\n",
      "subcellularlocation_topology\n",
      "Single-pass membrane protein : P0DTC7, Q3I5J0, Q3LZX7, P59635, Q0Q470\n",
      "\n",
      "\n",
      "domain\n",
      "The di-lysine motif confers endoplasmic reticulum localization for type I membrane proteins. : P0DTC7, Q3I5J0, Q3LZX7, P59635, Q0Q470\n",
      "\n",
      "\n",
      "miscellaneous\n",
      "Bat coronavirus rp3 is highly similar to SARS-CoV (SARS-like). : Q3I5J0\n",
      "Bat coronavirus HKU3 is highly similar to SARS-CoV (SARS-like). : Q3LZX7\n",
      "Bat coronavirus 279/2005 is highly similar to SARS-CoV (SARS-like). : Q0Q470\n",
      "\n",
      "\n",
      "interaction_intactId\n",
      "EBI-25492879 : P59635\n",
      "\n",
      "\n",
      "Keywords\n",
      "3D-structure : P0DTC7, P59635\n",
      "Disulfide bond : P0DTC7, Q3I5J0, Q3LZX7, P59635, Q0Q470\n",
      "G0/G1 host cell cycle checkpoint dysregulation by virus : P0DTC7, Q3I5J0, Q3LZX7, P59635, Q0Q470\n",
      "Host endoplasmic reticulum : P0DTC7, Q3I5J0, Q3LZX7, P59635, Q0Q470\n",
      "Host Golgi apparatus : P0DTC7, Q3I5J0, Q3LZX7, P59635, Q0Q470\n",
      "Host membrane : P0DTC7, Q3I5J0, Q3LZX7, P59635, Q0Q470\n",
      "Host-virus interaction : P0DTC7, Q3I5J0, Q3LZX7, P59635, Q0Q470\n",
      "Inhibition of host innate immune response by virus : P0DTC7, P59635\n",
      "Inhibition of host interferon signaling pathway by virus : P0DTC7, P59635\n",
      "Inhibition of host tetherin by virus : P0DTC7, P59635\n",
      "Membrane : P0DTC7, Q3I5J0, Q3LZX7, P59635, Q0Q470\n",
      "Modulation of host cell cycle by virus : P0DTC7, Q3I5J0, Q3LZX7, P59635, Q0Q470\n",
      "Reference proteome : P0DTC7, P59635, Q0Q470\n",
      "Signal : P0DTC7, Q3I5J0, Q3LZX7, P59635, Q0Q470\n",
      "Transmembrane : P0DTC7, Q3I5J0, Q3LZX7, P59635, Q0Q470\n",
      "Transmembrane helix : P0DTC7, Q3I5J0, Q3LZX7, P59635, Q0Q470\n",
      "Viral immunoevasion : P0DTC7, P59635\n",
      "Virion : P0DTC7, Q3I5J0, Q3LZX7, P59635, Q0Q470\n",
      "\n",
      "\n"
     ]
    }
   ],
   "source": [
    "import re\n",
    "\n",
    "blast_matches = []\n",
    "\n",
    "for accession in blast_uniprot_id:\n",
    "    path = os.path.join(wd, \"data/homologue\", gene,\"uniprot\",\"{0}.xml\".format(accession))\n",
    "    blast_matches.append(SeqIO.read(path, format=\"uniprot-xml\"))\n",
    "\n",
    "comments = {}\n",
    "an_domains = {}\n",
    "keywords = {}\n",
    "for match in blast_matches:\n",
    "    if \"keywords\" in match.annotations.keys():\n",
    "        for keyword in match.annotations[\"keywords\"]:\n",
    "            if keyword in keywords:\n",
    "                keywords[keyword] = \", \".join([keywords[keyword],match.id])\n",
    "            else:\n",
    "                keywords[keyword] = match.id\n",
    "    for annotation in match.annotations.keys():\n",
    "        if re.match(\"(comment_)[a-z]*\", annotation):\n",
    "            comment_type = annotation.split(\"_\",1)[1]\n",
    "            if comment_type not in comments.keys():\n",
    "                comments[comment_type] = {}\n",
    "            comment = match.annotations[annotation][0]\n",
    "            if comment in comments[comment_type].keys():\n",
    "                comments[comment_type][comment] = \", \".join([comments[comment_type][comment], match.id])\n",
    "            else:\n",
    "                 comments[comment_type][comment] = match.id\n",
    "\n",
    "for comment_type in comments.keys():\n",
    "    print(comment_type)\n",
    "    for comment in comments[comment_type].keys():\n",
    "        print(comment, \":\", comments[comment_type][comment])\n",
    "    print(\"\\n\")\n",
    "\n",
    "print(\"Keywords\")\n",
    "for keyword in keywords.keys():\n",
    "    print(keyword, \":\", keywords[keyword])\n",
    "print(\"\\n\")"
   ],
   "metadata": {
    "collapsed": false,
    "pycharm": {
     "name": "#%%\n"
    }
   }
  },
  {
   "cell_type": "markdown",
   "source": [
    "### Features"
   ],
   "metadata": {
    "collapsed": false,
    "pycharm": {
     "name": "#%% md\n"
    }
   }
  },
  {
   "cell_type": "code",
   "execution_count": 16,
   "outputs": [
    {
     "name": "stdout",
     "output_type": "stream",
     "text": [
      "transmembrane region\n",
      "[95:116] Helical : P0DTC7\n",
      "[96:117] Helical : Q3I5J0, Q3LZX7, P59635, Q0Q470\n",
      "\n",
      "\n",
      "domain\n",
      "[15:81] X4e : P0DTC7, Q3I5J0, Q3LZX7, P59635, Q0Q470\n",
      "\n",
      "\n",
      "short sequence motif\n",
      "[116:121] Di-lysine motif : P0DTC7\n",
      "[117:122] Di-lysine motif : Q3I5J0, Q3LZX7, P59635, Q0Q470\n",
      "\n",
      "\n",
      "disulfide bond\n",
      "[22:58] : P0DTC7, Q3I5J0, Q3LZX7, P59635, Q0Q470\n",
      "[34:67] : P0DTC7, Q3I5J0, Q3LZX7, P59635, Q0Q470\n",
      "\n",
      "\n",
      "topological domain\n",
      "[15:96] Virion surface : Q3I5J0, Q3LZX7, P59635, Q0Q470\n",
      "[117:122] Intravirion : Q3I5J0, Q3LZX7, P59635, Q0Q470\n",
      "\n",
      "\n"
     ]
    }
   ],
   "source": [
    "features = {}\n",
    "for match in blast_matches:\n",
    "    for feature in match.features:\n",
    "        if re.search(\"(domain|motif|bond|region)\", feature.type):\n",
    "            feature_type = feature.type\n",
    "            if feature_type not in features.keys():\n",
    "                features[feature_type] = {}\n",
    "\n",
    "            feature_desc = str(feature.location)\n",
    "            if \"description\" in feature.qualifiers.keys():\n",
    "                feature_desc = \" \".join([feature_desc,feature.qualifiers[\"description\"]])\n",
    "\n",
    "            if feature_desc in features[feature_type].keys():\n",
    "                features[feature_type][feature_desc] = \", \".join([features[feature_type][feature_desc], match.id])\n",
    "            else:\n",
    "                 features[feature_type][feature_desc] = match.id\n",
    "\n",
    "for feature_type in features.keys():\n",
    "    print(feature_type)\n",
    "    for feature in features[feature_type].keys():\n",
    "        print(feature, \":\", features[feature_type][feature])\n",
    "    print(\"\\n\")"
   ],
   "metadata": {
    "collapsed": false,
    "pycharm": {
     "name": "#%%\n"
    }
   }
  }
 ],
 "metadata": {
  "kernelspec": {
   "display_name": "Python 3",
   "language": "python",
   "name": "python3"
  },
  "language_info": {
   "codemirror_mode": {
    "name": "ipython",
    "version": 2
   },
   "file_extension": ".py",
   "mimetype": "text/x-python",
   "name": "python",
   "nbconvert_exporter": "python",
   "pygments_lexer": "ipython2",
   "version": "2.7.6"
  }
 },
 "nbformat": 4,
 "nbformat_minor": 0
}