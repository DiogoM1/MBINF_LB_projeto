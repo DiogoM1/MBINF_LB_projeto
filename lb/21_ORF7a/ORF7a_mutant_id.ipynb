{
 "cells": [
  {
   "cell_type": "markdown",
   "source": [
    "# Identificação de Mutantes\n",
    "\n",
    "## Processamento de sequências"
   ],
   "metadata": {
    "collapsed": false
   }
  },
  {
   "cell_type": "code",
   "execution_count": 1,
   "outputs": [],
   "source": [
    "import docker\n",
    "\n",
    "a = %pwd\n",
    "wd = (a.rsplit('/',1))[0]\n",
    "\n",
    "REF_SEQ='Sars_cov_2.ASM985889v3.dna.toplevel.fa'\n",
    "SEQ_IDS={'ERR4157959': 'portuguese', 'ERR4395294': 'spanish'}\n",
    "SEQ = \" \".join(SEQ_IDS.keys())\n",
    "\n",
    "D_BWA='biocontainers/bwa:v0.7.17-3-deb_cv1'\n",
    "D_SAMTOOLS='biocontainers/samtools:v1.7.0_cv4'\n",
    "D_BCFTOOLS='quay.io/biocontainers/bcftools:1.9--h68d8f2e_7'\n",
    "\n",
    "WORK_HOST_DIRECTORY=wd\n",
    "WORK_CONT_DIRECTORY='/opt/project'"
   ],
   "metadata": {
    "collapsed": false,
    "pycharm": {
     "name": "#%%\n"
    }
   }
  },
  {
   "cell_type": "code",
   "execution_count": 2,
   "outputs": [
    {
     "ename": "APIError",
     "evalue": "400 Client Error for http+docker://localhost/v1.41/containers/fb840bffe26f0a8bcad96baef4d3cac1b8971196b7e0e7c1a1e2146ffd38490b/start: Bad Request (\"OCI runtime create failed: container_linux.go:370: starting container process caused: exec: \"/opt/project/scripts_bash/bwa.sh\": stat /opt/project/scripts_bash/bwa.sh: no such file or directory: unknown\")",
     "output_type": "error",
     "traceback": [
      "\u001B[0;31m---------------------------------------------------------------------------\u001B[0m",
      "\u001B[0;31mHTTPError\u001B[0m                                 Traceback (most recent call last)",
      "\u001B[0;32m~/anaconda3/envs/lb_project/lib/python3.8/site-packages/docker/api/client.py\u001B[0m in \u001B[0;36m_raise_for_status\u001B[0;34m(self, response)\u001B[0m\n\u001B[1;32m    267\u001B[0m         \u001B[0;32mtry\u001B[0m\u001B[0;34m:\u001B[0m\u001B[0;34m\u001B[0m\u001B[0;34m\u001B[0m\u001B[0m\n\u001B[0;32m--> 268\u001B[0;31m             \u001B[0mresponse\u001B[0m\u001B[0;34m.\u001B[0m\u001B[0mraise_for_status\u001B[0m\u001B[0;34m(\u001B[0m\u001B[0;34m)\u001B[0m\u001B[0;34m\u001B[0m\u001B[0;34m\u001B[0m\u001B[0m\n\u001B[0m\u001B[1;32m    269\u001B[0m         \u001B[0;32mexcept\u001B[0m \u001B[0mrequests\u001B[0m\u001B[0;34m.\u001B[0m\u001B[0mexceptions\u001B[0m\u001B[0;34m.\u001B[0m\u001B[0mHTTPError\u001B[0m \u001B[0;32mas\u001B[0m \u001B[0me\u001B[0m\u001B[0;34m:\u001B[0m\u001B[0;34m\u001B[0m\u001B[0;34m\u001B[0m\u001B[0m\n",
      "\u001B[0;32m~/anaconda3/envs/lb_project/lib/python3.8/site-packages/requests/models.py\u001B[0m in \u001B[0;36mraise_for_status\u001B[0;34m(self)\u001B[0m\n\u001B[1;32m    942\u001B[0m         \u001B[0;32mif\u001B[0m \u001B[0mhttp_error_msg\u001B[0m\u001B[0;34m:\u001B[0m\u001B[0;34m\u001B[0m\u001B[0;34m\u001B[0m\u001B[0m\n\u001B[0;32m--> 943\u001B[0;31m             \u001B[0;32mraise\u001B[0m \u001B[0mHTTPError\u001B[0m\u001B[0;34m(\u001B[0m\u001B[0mhttp_error_msg\u001B[0m\u001B[0;34m,\u001B[0m \u001B[0mresponse\u001B[0m\u001B[0;34m=\u001B[0m\u001B[0mself\u001B[0m\u001B[0;34m)\u001B[0m\u001B[0;34m\u001B[0m\u001B[0;34m\u001B[0m\u001B[0m\n\u001B[0m\u001B[1;32m    944\u001B[0m \u001B[0;34m\u001B[0m\u001B[0m\n",
      "\u001B[0;31mHTTPError\u001B[0m: 400 Client Error: Bad Request for url: http+docker://localhost/v1.41/containers/fb840bffe26f0a8bcad96baef4d3cac1b8971196b7e0e7c1a1e2146ffd38490b/start",
      "\nDuring handling of the above exception, another exception occurred:\n",
      "\u001B[0;31mAPIError\u001B[0m                                  Traceback (most recent call last)",
      "\u001B[0;32m<ipython-input-2-05ecd4f4e373>\u001B[0m in \u001B[0;36m<module>\u001B[0;34m\u001B[0m\n\u001B[1;32m      1\u001B[0m \u001B[0mclient\u001B[0m \u001B[0;34m=\u001B[0m \u001B[0mdocker\u001B[0m\u001B[0;34m.\u001B[0m\u001B[0mfrom_env\u001B[0m\u001B[0;34m(\u001B[0m\u001B[0;34m)\u001B[0m\u001B[0;34m\u001B[0m\u001B[0;34m\u001B[0m\u001B[0m\n\u001B[0;32m----> 2\u001B[0;31m bwa_docker_cont = client.containers.run(\n\u001B[0m\u001B[1;32m      3\u001B[0m     \u001B[0mimage\u001B[0m\u001B[0;34m=\u001B[0m\u001B[0mD_BWA\u001B[0m\u001B[0;34m,\u001B[0m\u001B[0;34m\u001B[0m\u001B[0;34m\u001B[0m\u001B[0m\n\u001B[1;32m      4\u001B[0m     \u001B[0mvolumes\u001B[0m\u001B[0;34m=\u001B[0m\u001B[0;34m{\u001B[0m\u001B[0mWORK_HOST_DIRECTORY\u001B[0m\u001B[0;34m:\u001B[0m \u001B[0;34m{\u001B[0m\u001B[0;34m'bind'\u001B[0m\u001B[0;34m:\u001B[0m \u001B[0mWORK_CONT_DIRECTORY\u001B[0m\u001B[0;34m,\u001B[0m\u001B[0;34m'mode'\u001B[0m\u001B[0;34m:\u001B[0m \u001B[0;34m'rw'\u001B[0m\u001B[0;34m}\u001B[0m\u001B[0;34m}\u001B[0m\u001B[0;34m,\u001B[0m\u001B[0;34m\u001B[0m\u001B[0;34m\u001B[0m\u001B[0m\n\u001B[1;32m      5\u001B[0m     \u001B[0mworking_dir\u001B[0m\u001B[0;34m=\u001B[0m \u001B[0mWORK_CONT_DIRECTORY\u001B[0m\u001B[0;34m+\u001B[0m\u001B[0;34m'/data/mutants'\u001B[0m\u001B[0;34m,\u001B[0m\u001B[0;34m\u001B[0m\u001B[0;34m\u001B[0m\u001B[0m\n",
      "\u001B[0;32m~/anaconda3/envs/lb_project/lib/python3.8/site-packages/docker/models/containers.py\u001B[0m in \u001B[0;36mrun\u001B[0;34m(self, image, command, stdout, stderr, remove, **kwargs)\u001B[0m\n\u001B[1;32m    816\u001B[0m                                     detach=detach, **kwargs)\n\u001B[1;32m    817\u001B[0m \u001B[0;34m\u001B[0m\u001B[0m\n\u001B[0;32m--> 818\u001B[0;31m         \u001B[0mcontainer\u001B[0m\u001B[0;34m.\u001B[0m\u001B[0mstart\u001B[0m\u001B[0;34m(\u001B[0m\u001B[0;34m)\u001B[0m\u001B[0;34m\u001B[0m\u001B[0;34m\u001B[0m\u001B[0m\n\u001B[0m\u001B[1;32m    819\u001B[0m \u001B[0;34m\u001B[0m\u001B[0m\n\u001B[1;32m    820\u001B[0m         \u001B[0;32mif\u001B[0m \u001B[0mdetach\u001B[0m\u001B[0;34m:\u001B[0m\u001B[0;34m\u001B[0m\u001B[0;34m\u001B[0m\u001B[0m\n",
      "\u001B[0;32m~/anaconda3/envs/lb_project/lib/python3.8/site-packages/docker/models/containers.py\u001B[0m in \u001B[0;36mstart\u001B[0;34m(self, **kwargs)\u001B[0m\n\u001B[1;32m    402\u001B[0m                 \u001B[0mIf\u001B[0m \u001B[0mthe\u001B[0m \u001B[0mserver\u001B[0m \u001B[0mreturns\u001B[0m \u001B[0man\u001B[0m \u001B[0merror\u001B[0m\u001B[0;34m.\u001B[0m\u001B[0;34m\u001B[0m\u001B[0;34m\u001B[0m\u001B[0m\n\u001B[1;32m    403\u001B[0m         \"\"\"\n\u001B[0;32m--> 404\u001B[0;31m         \u001B[0;32mreturn\u001B[0m \u001B[0mself\u001B[0m\u001B[0;34m.\u001B[0m\u001B[0mclient\u001B[0m\u001B[0;34m.\u001B[0m\u001B[0mapi\u001B[0m\u001B[0;34m.\u001B[0m\u001B[0mstart\u001B[0m\u001B[0;34m(\u001B[0m\u001B[0mself\u001B[0m\u001B[0;34m.\u001B[0m\u001B[0mid\u001B[0m\u001B[0;34m,\u001B[0m \u001B[0;34m**\u001B[0m\u001B[0mkwargs\u001B[0m\u001B[0;34m)\u001B[0m\u001B[0;34m\u001B[0m\u001B[0;34m\u001B[0m\u001B[0m\n\u001B[0m\u001B[1;32m    405\u001B[0m \u001B[0;34m\u001B[0m\u001B[0m\n\u001B[1;32m    406\u001B[0m     \u001B[0;32mdef\u001B[0m \u001B[0mstats\u001B[0m\u001B[0;34m(\u001B[0m\u001B[0mself\u001B[0m\u001B[0;34m,\u001B[0m \u001B[0;34m**\u001B[0m\u001B[0mkwargs\u001B[0m\u001B[0;34m)\u001B[0m\u001B[0;34m:\u001B[0m\u001B[0;34m\u001B[0m\u001B[0;34m\u001B[0m\u001B[0m\n",
      "\u001B[0;32m~/anaconda3/envs/lb_project/lib/python3.8/site-packages/docker/utils/decorators.py\u001B[0m in \u001B[0;36mwrapped\u001B[0;34m(self, resource_id, *args, **kwargs)\u001B[0m\n\u001B[1;32m     17\u001B[0m                     \u001B[0;34m'Resource ID was not provided'\u001B[0m\u001B[0;34m\u001B[0m\u001B[0;34m\u001B[0m\u001B[0m\n\u001B[1;32m     18\u001B[0m                 )\n\u001B[0;32m---> 19\u001B[0;31m             \u001B[0;32mreturn\u001B[0m \u001B[0mf\u001B[0m\u001B[0;34m(\u001B[0m\u001B[0mself\u001B[0m\u001B[0;34m,\u001B[0m \u001B[0mresource_id\u001B[0m\u001B[0;34m,\u001B[0m \u001B[0;34m*\u001B[0m\u001B[0margs\u001B[0m\u001B[0;34m,\u001B[0m \u001B[0;34m**\u001B[0m\u001B[0mkwargs\u001B[0m\u001B[0;34m)\u001B[0m\u001B[0;34m\u001B[0m\u001B[0;34m\u001B[0m\u001B[0m\n\u001B[0m\u001B[1;32m     20\u001B[0m         \u001B[0;32mreturn\u001B[0m \u001B[0mwrapped\u001B[0m\u001B[0;34m\u001B[0m\u001B[0;34m\u001B[0m\u001B[0m\n\u001B[1;32m     21\u001B[0m     \u001B[0;32mreturn\u001B[0m \u001B[0mdecorator\u001B[0m\u001B[0;34m\u001B[0m\u001B[0;34m\u001B[0m\u001B[0m\n",
      "\u001B[0;32m~/anaconda3/envs/lb_project/lib/python3.8/site-packages/docker/api/container.py\u001B[0m in \u001B[0;36mstart\u001B[0;34m(self, container, *args, **kwargs)\u001B[0m\n\u001B[1;32m   1109\u001B[0m         \u001B[0murl\u001B[0m \u001B[0;34m=\u001B[0m \u001B[0mself\u001B[0m\u001B[0;34m.\u001B[0m\u001B[0m_url\u001B[0m\u001B[0;34m(\u001B[0m\u001B[0;34m\"/containers/{0}/start\"\u001B[0m\u001B[0;34m,\u001B[0m \u001B[0mcontainer\u001B[0m\u001B[0;34m)\u001B[0m\u001B[0;34m\u001B[0m\u001B[0;34m\u001B[0m\u001B[0m\n\u001B[1;32m   1110\u001B[0m         \u001B[0mres\u001B[0m \u001B[0;34m=\u001B[0m \u001B[0mself\u001B[0m\u001B[0;34m.\u001B[0m\u001B[0m_post\u001B[0m\u001B[0;34m(\u001B[0m\u001B[0murl\u001B[0m\u001B[0;34m)\u001B[0m\u001B[0;34m\u001B[0m\u001B[0;34m\u001B[0m\u001B[0m\n\u001B[0;32m-> 1111\u001B[0;31m         \u001B[0mself\u001B[0m\u001B[0;34m.\u001B[0m\u001B[0m_raise_for_status\u001B[0m\u001B[0;34m(\u001B[0m\u001B[0mres\u001B[0m\u001B[0;34m)\u001B[0m\u001B[0;34m\u001B[0m\u001B[0;34m\u001B[0m\u001B[0m\n\u001B[0m\u001B[1;32m   1112\u001B[0m \u001B[0;34m\u001B[0m\u001B[0m\n\u001B[1;32m   1113\u001B[0m     \u001B[0;34m@\u001B[0m\u001B[0mutils\u001B[0m\u001B[0;34m.\u001B[0m\u001B[0mcheck_resource\u001B[0m\u001B[0;34m(\u001B[0m\u001B[0;34m'container'\u001B[0m\u001B[0;34m)\u001B[0m\u001B[0;34m\u001B[0m\u001B[0;34m\u001B[0m\u001B[0m\n",
      "\u001B[0;32m~/anaconda3/envs/lb_project/lib/python3.8/site-packages/docker/api/client.py\u001B[0m in \u001B[0;36m_raise_for_status\u001B[0;34m(self, response)\u001B[0m\n\u001B[1;32m    268\u001B[0m             \u001B[0mresponse\u001B[0m\u001B[0;34m.\u001B[0m\u001B[0mraise_for_status\u001B[0m\u001B[0;34m(\u001B[0m\u001B[0;34m)\u001B[0m\u001B[0;34m\u001B[0m\u001B[0;34m\u001B[0m\u001B[0m\n\u001B[1;32m    269\u001B[0m         \u001B[0;32mexcept\u001B[0m \u001B[0mrequests\u001B[0m\u001B[0;34m.\u001B[0m\u001B[0mexceptions\u001B[0m\u001B[0;34m.\u001B[0m\u001B[0mHTTPError\u001B[0m \u001B[0;32mas\u001B[0m \u001B[0me\u001B[0m\u001B[0;34m:\u001B[0m\u001B[0;34m\u001B[0m\u001B[0;34m\u001B[0m\u001B[0m\n\u001B[0;32m--> 270\u001B[0;31m             \u001B[0;32mraise\u001B[0m \u001B[0mcreate_api_error_from_http_exception\u001B[0m\u001B[0;34m(\u001B[0m\u001B[0me\u001B[0m\u001B[0;34m)\u001B[0m\u001B[0;34m\u001B[0m\u001B[0;34m\u001B[0m\u001B[0m\n\u001B[0m\u001B[1;32m    271\u001B[0m \u001B[0;34m\u001B[0m\u001B[0m\n\u001B[1;32m    272\u001B[0m     \u001B[0;32mdef\u001B[0m \u001B[0m_result\u001B[0m\u001B[0;34m(\u001B[0m\u001B[0mself\u001B[0m\u001B[0;34m,\u001B[0m \u001B[0mresponse\u001B[0m\u001B[0;34m,\u001B[0m \u001B[0mjson\u001B[0m\u001B[0;34m=\u001B[0m\u001B[0;32mFalse\u001B[0m\u001B[0;34m,\u001B[0m \u001B[0mbinary\u001B[0m\u001B[0;34m=\u001B[0m\u001B[0;32mFalse\u001B[0m\u001B[0;34m)\u001B[0m\u001B[0;34m:\u001B[0m\u001B[0;34m\u001B[0m\u001B[0;34m\u001B[0m\u001B[0m\n",
      "\u001B[0;32m~/anaconda3/envs/lb_project/lib/python3.8/site-packages/docker/errors.py\u001B[0m in \u001B[0;36mcreate_api_error_from_http_exception\u001B[0;34m(e)\u001B[0m\n\u001B[1;32m     29\u001B[0m         \u001B[0;32melse\u001B[0m\u001B[0;34m:\u001B[0m\u001B[0;34m\u001B[0m\u001B[0;34m\u001B[0m\u001B[0m\n\u001B[1;32m     30\u001B[0m             \u001B[0mcls\u001B[0m \u001B[0;34m=\u001B[0m \u001B[0mNotFound\u001B[0m\u001B[0;34m\u001B[0m\u001B[0;34m\u001B[0m\u001B[0m\n\u001B[0;32m---> 31\u001B[0;31m     \u001B[0;32mraise\u001B[0m \u001B[0mcls\u001B[0m\u001B[0;34m(\u001B[0m\u001B[0me\u001B[0m\u001B[0;34m,\u001B[0m \u001B[0mresponse\u001B[0m\u001B[0;34m=\u001B[0m\u001B[0mresponse\u001B[0m\u001B[0;34m,\u001B[0m \u001B[0mexplanation\u001B[0m\u001B[0;34m=\u001B[0m\u001B[0mexplanation\u001B[0m\u001B[0;34m)\u001B[0m\u001B[0;34m\u001B[0m\u001B[0;34m\u001B[0m\u001B[0m\n\u001B[0m\u001B[1;32m     32\u001B[0m \u001B[0;34m\u001B[0m\u001B[0m\n\u001B[1;32m     33\u001B[0m \u001B[0;34m\u001B[0m\u001B[0m\n",
      "\u001B[0;31mAPIError\u001B[0m: 400 Client Error for http+docker://localhost/v1.41/containers/fb840bffe26f0a8bcad96baef4d3cac1b8971196b7e0e7c1a1e2146ffd38490b/start: Bad Request (\"OCI runtime create failed: container_linux.go:370: starting container process caused: exec: \"/opt/project/scripts_bash/bwa.sh\": stat /opt/project/scripts_bash/bwa.sh: no such file or directory: unknown\")"
     ]
    }
   ],
   "source": [
    "client = docker.from_env()\n",
    "bwa_docker_cont = client.containers.run(\n",
    "    image=D_BWA,\n",
    "    volumes={WORK_HOST_DIRECTORY: {'bind': WORK_CONT_DIRECTORY,'mode': 'rw'}},\n",
    "    working_dir= WORK_CONT_DIRECTORY+'/data/mutants',\n",
    "    command='{0}/scripts_bash/bwa.sh {1} \"{2}\"'.format(WORK_CONT_DIRECTORY, REF_SEQ, SEQ))\n"
   ],
   "metadata": {
    "collapsed": false,
    "pycharm": {
     "name": "#%%\n"
    }
   }
  },
  {
   "cell_type": "code",
   "execution_count": null,
   "outputs": [],
   "source": [
    "sam_docker_cont =client.containers.run(\n",
    "    image=D_SAMTOOLS,\n",
    "    volumes={WORK_HOST_DIRECTORY: {'bind': WORK_CONT_DIRECTORY,'mode': 'rw'}},\n",
    "    working_dir= WORK_CONT_DIRECTORY+'/data/mutants',\n",
    "    command='{0}/scripts_bash/sam.sh {1} \"{2}\"'.format(WORK_CONT_DIRECTORY, REF_SEQ, SEQ))"
   ],
   "metadata": {
    "collapsed": false,
    "pycharm": {
     "name": "#%%\n"
    }
   }
  },
  {
   "cell_type": "code",
   "execution_count": null,
   "outputs": [],
   "source": [
    "sam_docker_cont =client.containers.run(\n",
    "    image=D_BCFTOOLS,\n",
    "    volumes={WORK_HOST_DIRECTORY: {'bind': WORK_CONT_DIRECTORY,'mode': 'rw'}},\n",
    "    working_dir= WORK_CONT_DIRECTORY+'/data/mutants',\n",
    "    command='{0}/scripts_bash/bcf.sh {1} \"{2}\"'.format(WORK_CONT_DIRECTORY, REF_SEQ, SEQ))"
   ],
   "metadata": {
    "collapsed": false,
    "pycharm": {
     "name": "#%%\n"
    }
   }
  },
  {
   "cell_type": "markdown",
   "source": [
    "## Identificar a localização do gene na sequência de referência"
   ],
   "metadata": {
    "collapsed": false,
    "pycharm": {
     "name": "#%% md\n"
    }
   }
  },
  {
   "cell_type": "code",
   "execution_count": null,
   "outputs": [],
   "source": [
    "import pprint\n",
    "from BCBio import GFF\n",
    "\n",
    "in_file = \"../data/mutants/Sars_cov_2.ASM985889v3.101.gtf\"\n",
    "\n",
    "examiner = GFF.GFFExaminer()\n",
    "in_handle = open(in_file)\n",
    "pprint.pprint(examiner.available_limits(in_handle))\n",
    "in_handle.close()"
   ],
   "metadata": {
    "collapsed": false,
    "pycharm": {
     "name": "#%%\n"
    }
   }
  },
  {
   "cell_type": "code",
   "execution_count": null,
   "outputs": [],
   "source": [
    "in_handle = open(in_file)\n",
    "limit_info = dict(gff_id=[\"MN908947.3\"], gff_type=[\"gene\"])\n",
    "for rec in GFF.parse(in_handle, limit_info=limit_info):\n",
    "    for gene in rec.features:\n",
    "        if 'ENSSASG00005000009' in gene.qualifiers['gene_id']:\n",
    "            ORF7a_ref = gene\n",
    "in_handle.close()"
   ],
   "metadata": {
    "collapsed": false,
    "pycharm": {
     "name": "#%%\n"
    }
   }
  },
  {
   "cell_type": "markdown",
   "source": [
    "## Identificar mutações no gene nas amostraras"
   ],
   "metadata": {
    "collapsed": false,
    "pycharm": {
     "name": "#%% md\n"
    }
   }
  },
  {
   "cell_type": "code",
   "execution_count": null,
   "outputs": [],
   "source": [
    "from scripts_python.vcf_gff import vcf2dict, lookup_var2genes\n",
    "\n",
    "samples_vars = {}\n",
    "samples_vars_ORF7a = {}\n",
    "\n",
    "for sample in SEQ_IDS.keys():\n",
    "    sample_variations = vcf2dict(\"{0}/data/mutants/{1}/{1}.sars_cov.raw.vcf\".format(wd,sample))\n",
    "    samples_vars[sample] = sample_variations\n",
    "    # filter to var in location\n",
    "    for var in sample_variations.keys():\n",
    "        samples_vars_ORF7a[sample] = lookup_var2genes(sample_variations, ORF7a_ref)\n",
    "\n",
    "if samples_vars:\n",
    "    print(\"Não foram identificadas mutações\")\n",
    "else:\n",
    "    for key, value in samples_vars.items():\n",
    "        print(f\"Na amostra {key} foram identificadas alterações em {value}\")\n"
   ],
   "metadata": {
    "collapsed": false,
    "pycharm": {
     "name": "#%%\n"
    }
   }
  },
  {
   "cell_type": "markdown",
   "source": [
    "## Ideas\n",
    "https://covid-19.ensembl.org/info/docs/tools/vep/index.html\n"
   ],
   "metadata": {
    "collapsed": false,
    "pycharm": {
     "name": "#%% md\n"
    }
   }
  }
 ],
 "metadata": {
  "kernelspec": {
   "display_name": "Python 3",
   "language": "python",
   "name": "python3"
  },
  "language_info": {
   "codemirror_mode": {
    "name": "ipython",
    "version": 2
   },
   "file_extension": ".py",
   "mimetype": "text/x-python",
   "name": "python",
   "nbconvert_exporter": "python",
   "pygments_lexer": "ipython2",
   "version": "2.7.6"
  }
 },
 "nbformat": 4,
 "nbformat_minor": 0
}