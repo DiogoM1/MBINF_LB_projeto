{
 "cells": [
  {
   "cell_type": "markdown",
   "source": [
    "# Identificação de Mutantes\n",
    "\n",
    "## Processamento de sequências"
   ],
   "metadata": {
    "collapsed": false
   }
  },
  {
   "cell_type": "code",
   "execution_count": 1,
   "outputs": [],
   "source": [
    "import docker\n",
    "\n",
    "a = %pwd\n",
    "wd = (a.rsplit('/',1))[0]\n",
    "\n",
    "REF_SEQ='Sars_cov_2.ASM985889v3.dna.toplevel.fa'\n",
    "SEQ_IDS={'ERR4157959': 'portuguese', 'ERR4395294': 'spanish'}\n",
    "SEQ = \" \".join(SEQ_IDS.keys())\n",
    "\n",
    "D_BWA='biocontainers/bwa:v0.7.17-3-deb_cv1'\n",
    "D_SAMTOOLS='biocontainers/samtools:v1.7.0_cv4'\n",
    "D_BCFTOOLS='quay.io/biocontainers/bcftools:1.9--h68d8f2e_7'\n",
    "\n",
    "WORK_HOST_DIRECTORY=wd\n",
    "WORK_CONT_DIRECTORY='/opt/project'"
   ],
   "metadata": {
    "collapsed": false,
    "pycharm": {
     "name": "#%%\n"
    }
   }
  },
  {
   "cell_type": "code",
   "execution_count": 2,
   "outputs": [],
   "source": [
    "client = docker.from_env()\n",
    "bwa_docker_cont = client.containers.run(\n",
    "    image=D_BWA,\n",
    "    volumes={WORK_HOST_DIRECTORY: {'bind': WORK_CONT_DIRECTORY,'mode': 'rw'}},\n",
    "    working_dir= WORK_CONT_DIRECTORY+'/data/mutants',\n",
    "    command='{0}/scripts_bash/bwa.sh {1} \"{2}\"'.format(WORK_CONT_DIRECTORY, REF_SEQ, SEQ))\n"
   ],
   "metadata": {
    "collapsed": false,
    "pycharm": {
     "name": "#%%\n"
    }
   }
  },
  {
   "cell_type": "code",
   "execution_count": 3,
   "outputs": [],
   "source": [
    "sam_docker_cont =client.containers.run(\n",
    "    image=D_SAMTOOLS,\n",
    "    volumes={WORK_HOST_DIRECTORY: {'bind': WORK_CONT_DIRECTORY,'mode': 'rw'}},\n",
    "    working_dir= WORK_CONT_DIRECTORY+'/data/mutants',\n",
    "    command='{0}/scripts_bash/sam.sh {1} \"{2}\"'.format(WORK_CONT_DIRECTORY, REF_SEQ, SEQ))"
   ],
   "metadata": {
    "collapsed": false,
    "pycharm": {
     "name": "#%%\n"
    }
   }
  },
  {
   "cell_type": "code",
   "execution_count": 4,
   "outputs": [],
   "source": [
    "sam_docker_cont =client.containers.run(\n",
    "    image=D_BCFTOOLS,\n",
    "    volumes={WORK_HOST_DIRECTORY: {'bind': WORK_CONT_DIRECTORY,'mode': 'rw'}},\n",
    "    working_dir= WORK_CONT_DIRECTORY+'/data/mutants',\n",
    "    command='{0}/scripts_bash/bcf.sh {1} \"{2}\"'.format(WORK_CONT_DIRECTORY, REF_SEQ, SEQ))"
   ],
   "metadata": {
    "collapsed": false,
    "pycharm": {
     "name": "#%%\n"
    }
   }
  },
  {
   "cell_type": "markdown",
   "source": [
    "## Identificar a localização do gene na sequência de referência"
   ],
   "metadata": {
    "collapsed": false,
    "pycharm": {
     "name": "#%% md\n"
    }
   }
  },
  {
   "cell_type": "code",
   "execution_count": 5,
   "outputs": [
    {
     "name": "stdout",
     "output_type": "stream",
     "text": [
      "{'gff_id': {('MN908947.3',): 72},\n",
      " 'gff_source': {('ensembl',): 72},\n",
      " 'gff_source_type': {('ensembl', 'CDS'): 12,\n",
      "                     ('ensembl', 'exon'): 12,\n",
      "                     ('ensembl', 'gene'): 12,\n",
      "                     ('ensembl', 'start_codon'): 12,\n",
      "                     ('ensembl', 'stop_codon'): 12,\n",
      "                     ('ensembl', 'transcript'): 12},\n",
      " 'gff_type': {('CDS',): 12,\n",
      "              ('exon',): 12,\n",
      "              ('gene',): 12,\n",
      "              ('start_codon',): 12,\n",
      "              ('stop_codon',): 12,\n",
      "              ('transcript',): 12}}\n"
     ]
    }
   ],
   "source": [
    "import pprint\n",
    "from BCBio import GFF\n",
    "\n",
    "in_file = \"../data/mutants/Sars_cov_2.ASM985889v3.101.gtf\"\n",
    "\n",
    "examiner = GFF.GFFExaminer()\n",
    "in_handle = open(in_file)\n",
    "pprint.pprint(examiner.available_limits(in_handle))\n",
    "in_handle.close()"
   ],
   "metadata": {
    "collapsed": false,
    "pycharm": {
     "name": "#%%\n"
    }
   }
  },
  {
   "cell_type": "code",
   "execution_count": 6,
   "outputs": [],
   "source": [
    "in_handle = open(in_file)\n",
    "limit_info = dict(gff_id=[\"MN908947.3\"], gff_type=[\"gene\"])\n",
    "for rec in GFF.parse(in_handle, limit_info=limit_info):\n",
    "    for gene in rec.features:\n",
    "        if 'ENSSASG00005000009' in gene.qualifiers['gene_id']:\n",
    "            ORF7a_ref = gene\n",
    "in_handle.close()"
   ],
   "metadata": {
    "collapsed": false,
    "pycharm": {
     "name": "#%%\n"
    }
   }
  },
  {
   "cell_type": "markdown",
   "source": [
    "## Identificar mutações no gene nas amostraras"
   ],
   "metadata": {
    "collapsed": false,
    "pycharm": {
     "name": "#%% md\n"
    }
   }
  },
  {
   "cell_type": "code",
   "execution_count": 7,
   "outputs": [
    {
     "name": "stdout",
     "output_type": "stream",
     "text": [
      "Não foram identificadas mutações\n"
     ]
    }
   ],
   "source": [
    "from scripts_python.vcf_gff import vcf2dict, lookup_var2genes\n",
    "\n",
    "samples_vars = {}\n",
    "samples_vars_ORF7a = {}\n",
    "\n",
    "for sample in SEQ_IDS.keys():\n",
    "    sample_variations = vcf2dict(\"{0}/data/mutants/{1}/{1}.sars_cov.raw.vcf\".format(wd,sample))\n",
    "    samples_vars[sample] = sample_variations\n",
    "    # filter to var in location\n",
    "    for var in sample_variations.keys():\n",
    "        samples_vars_ORF7a[sample] = lookup_var2genes(sample_variations, ORF7a_ref)\n",
    "\n",
    "if samples_vars:\n",
    "    print(\"Não foram identificadas mutações\")\n",
    "else:\n",
    "    for key, value in samples_vars.items():\n",
    "        print(f\"Na amostra {key} foram identificadas alterações em {value}\")\n"
   ],
   "metadata": {
    "collapsed": false,
    "pycharm": {
     "name": "#%%\n"
    }
   }
  },
  {
   "cell_type": "markdown",
   "source": [
    "## Ideas\n",
    "https://covid-19.ensembl.org/info/docs/tools/vep/index.html\n"
   ],
   "metadata": {
    "collapsed": false,
    "pycharm": {
     "name": "#%% md\n"
    }
   }
  }
 ],
 "metadata": {
  "kernelspec": {
   "display_name": "Python 3",
   "language": "python",
   "name": "python3"
  },
  "language_info": {
   "codemirror_mode": {
    "name": "ipython",
    "version": 2
   },
   "file_extension": ".py",
   "mimetype": "text/x-python",
   "name": "python",
   "nbconvert_exporter": "python",
   "pygments_lexer": "ipython2",
   "version": "2.7.6"
  }
 },
 "nbformat": 4,
 "nbformat_minor": 0
}