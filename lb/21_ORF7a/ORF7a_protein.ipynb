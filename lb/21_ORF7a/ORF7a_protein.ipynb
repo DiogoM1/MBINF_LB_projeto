{
 "cells": [
  {
   "cell_type": "markdown",
   "metadata": {
    "collapsed": true,
    "pycharm": {
     "name": "#%% md\n"
    }
   },
   "source": [
    "# Propriedades da Proteína\n",
    "\n",
    "## Estruturas Secundárias\n",
    "Foi selecionado o organismo *Severe acute respiratory syndrome coronavirus 2 (SARS-CoV-2)* e como foram obtidos bastantes resultados possíveis, escolhemos a proteína com o identificador [6W37](http://www.rcsb.org/structure/6W37), pois era a única que cumpria com os requisitos de pertencer ao organismo pretendido.\n",
    "Ao observar a representação 3D da proteína concluímos que a estrutura secundária desta é composta por folhas-beta."
   ]
  },
  {
   "cell_type": "code",
   "execution_count": 1,
   "metadata": {
    "pycharm": {
     "name": "#%%\n"
    }
   },
   "outputs": [
    {
     "data": {
      "application/vnd.jupyter.widget-view+json": {
       "model_id": "af4225ce97f947b4b3c28238a1106bac",
       "version_major": 2,
       "version_minor": 0
      },
      "text/plain": []
     },
     "metadata": {},
     "output_type": "display_data"
    }
   ],
   "source": [
    "from Bio.PDB import PDBList, PDBParser, MMCIFParser\n",
    "import os\n",
    "import nglview as nv\n",
    "\n",
    "# reference vars\n",
    "a = %pwd\n",
    "wd = (a.rsplit('/',2))[0]\n",
    "gene = \"ORF7a\"\n",
    "seq_id = \"MN908947.3\"\n",
    "prot_seq_id = \"P0DTC7\"\n",
    "prot_pdb_id = \"6W37\"\n",
    "prot_strucuture_file = os.path.join(wd,\"data/structures/ORF7a\",prot_pdb_id.lower()+\".cif\")"
   ]
  },
  {
   "cell_type": "code",
   "execution_count": 2,
   "metadata": {
    "pycharm": {
     "name": "#%%\n"
    }
   },
   "outputs": [
    {
     "name": "stderr",
     "output_type": "stream",
     "text": [
      "WARNING: The default download format has changed from PDB to PDBx/mmCif\n"
     ]
    },
    {
     "name": "stdout",
     "output_type": "stream",
     "text": [
      "Downloading PDB structure '6W37'...\n"
     ]
    },
    {
     "data": {
      "text/plain": [
       "'/home/dm/PycharmProjects/MBINF_LB_projeto/data/structures/ORF7a/6w37.cif'"
      ]
     },
     "execution_count": 2,
     "metadata": {},
     "output_type": "execute_result"
    }
   ],
   "source": [
    "# retrive PDB file\n",
    "pdbl = PDBList()\n",
    "pdbl.retrieve_pdb_file(prot_pdb_id, pdir= prot_strucuture_file.rsplit(\"/\",1)[0], overwrite=True)"
   ]
  },
  {
   "cell_type": "code",
   "execution_count": 3,
   "metadata": {
    "pycharm": {
     "name": "#%%\n"
    }
   },
   "outputs": [
    {
     "data": {
      "application/vnd.jupyter.widget-view+json": {
       "model_id": "f74f4102c2714c91866bc4d9d3529e44",
       "version_major": 2,
       "version_minor": 0
      },
      "text/plain": [
       "NGLWidget()"
      ]
     },
     "metadata": {},
     "output_type": "display_data"
    }
   ],
   "source": [
    "# Parse File\n",
    "parser = MMCIFParser()\n",
    "structure = parser.get_structure(prot_pdb_id, prot_strucuture_file)\n",
    "\n",
    "# 3d view the protein structure\n",
    "view = nv.show_biopython(structure)\n",
    "view"
   ]
  },
  {
   "cell_type": "code",
   "execution_count": 4,
   "metadata": {
    "pycharm": {
     "name": "#%%\n"
    }
   },
   "outputs": [
    {
     "name": "stdout",
     "output_type": "stream",
     "text": [
      "_struct_ref\n",
      "id : ['1']\n",
      "db_name : ['UNP']\n",
      "db_code : ['NS7A_SARS2']\n",
      "pdbx_db_accession : ['P0DTC7']\n",
      "pdbx_db_isoform : ['?']\n",
      "entity_id : ['1']\n",
      "pdbx_seq_one_letter_code : ['ELYHYQECVRGTTVLLKEPCSSGTYEGNSPFHPLADNKFALTCFSTQFAFACPDGVKHVYQLRARSV']\n",
      "pdbx_align_begin : ['16']\n",
      "\n",
      "\n",
      "_struct_ref_seq\n",
      "align_id : ['1']\n",
      "ref_id : ['1']\n",
      "pdbx_PDB_id_code : ['6W37']\n",
      "pdbx_strand_id : ['A']\n",
      "seq_align_beg : ['1']\n",
      "pdbx_seq_align_beg_ins_code : ['?']\n",
      "seq_align_end : ['67']\n",
      "pdbx_seq_align_end_ins_code : ['?']\n",
      "pdbx_db_accession : ['P0DTC7']\n",
      "db_align_beg : ['16']\n",
      "pdbx_db_align_beg_ins_code : ['?']\n",
      "db_align_end : ['82']\n",
      "pdbx_db_align_end_ins_code : ['?']\n",
      "pdbx_auth_seq_align_beg : ['1']\n",
      "pdbx_auth_seq_align_end : ['67']\n",
      "\n",
      "\n"
     ]
    }
   ],
   "source": [
    "from Bio.PDB.MMCIF2Dict import MMCIF2Dict\n",
    "import re\n",
    "\n",
    "mmcif_dict = MMCIF2Dict(prot_strucuture_file)\n",
    "\n",
    "structures = {}\n",
    "for value in mmcif_dict.keys():\n",
    "  if re.match('_struct_ref', value):\n",
    "    value_type = value.split(\".\",1)[0]\n",
    "    if value_type not in structures.keys():\n",
    "        structures[value_type] = {}\n",
    "    information = value.split(\".\",1)[1]\n",
    "    if information in structures[value_type].keys():\n",
    "        structures[value_type][information] = \", \".join([value[value_type][information], mmcif_dict[value]])\n",
    "    else:\n",
    "        structures[value_type][information] = mmcif_dict[value]\n",
    "\n",
    "for value_type in structures.keys():\n",
    "    print(value_type)\n",
    "    for information in structures[value_type].keys():\n",
    "        print(information, \":\", structures[value_type][information])\n",
    "    print(\"\\n\")"
   ]
  },
  {
   "cell_type": "markdown",
   "metadata": {},
   "source": [
    "Porém, depois de estudado o ficheiro PDB,quanto as seus aspetos estruturais, podemos observar uma anotação para a referência Uniprot já estudada. Esta coincide com a anotação da mesma para o dominio nas coordenadas [16:81]. Podemos então perceber a importância deste dominio que deverá ser aprufundada."
   ]
  },
  {
   "cell_type": "markdown",
   "metadata": {
    "pycharm": {
     "name": "#%% md\n"
    }
   },
   "source": [
    "## Domínios da Proteína\n",
    "Foi utilizada a ferramenta Phobius para prever os domínios que esta proteína possui. Verificámos, na previsão, a existência de um domínio peptídeo sinal, um domínio não citoplasmático, um domínio transmembranar e um domínio citoplasmático.\n",
    "\n",
    ":::{figure,myclass}\n",
    "![Figura 1 - Previsão dos diferentes domínios da proteína ORF7a](img/phobius_ORF7a.png)\n",
    "\n",
    "Previsão dos diferentes domínios da proteína ORF7a.\n",
    ":::\n",
    "\n",
    "~~~\n",
    "ID   sp|P0DTC7|NS7A_SARS2\n",
    "FT   SIGNAL        1     15\n",
    "FT   DOMAIN        1      2       N-REGION.\n",
    "FT   DOMAIN        3     10       H-REGION.\n",
    "FT   DOMAIN       11     15       C-REGION.\n",
    "FT   DOMAIN       16     95       NON CYTOPLASMIC.\n",
    "FT   TRANSMEM     96    116\n",
    "FT   DOMAIN      117    121       CYTOPLASMIC.\n",
    "~~~\n",
    "\n",
    "O domínio [16:81], que começa a mostrar o seu potencial, apresenta-se segundo esta previsão como sendo extramembranar, sendo assim um potencial local de ligação, para a atuação da proteína.\n",
    "\n",
    "Existe também concoordância da região transmembranar anotada e a prevista. Além disso ficamos a saber que as duas disulfide bond anotadas são extra celulares."
   ]
  },
  {
   "cell_type": "markdown",
   "metadata": {
    "pycharm": {
     "name": "#%% md\n"
    }
   },
   "source": [
    "## Localização da Proteína\n",
    "Utilizando a ferramenta Virus-mPLoc foi previsto que a localização desta proteína seja no retículo endoplasmático do hospedeiro.\n",
    "\n",
    "## Locais de Glicosilação\n",
    "Não encontrámos ferramentas que fizessem a previsão dos locais de glicosilação de uma forma fiável. A única ferramenta encontrada foi [HCV sequence database](https://hcv.lanl.gov/content/sequence/GLYCOSITE/glycosite.html) e visto que a ferramenta NetNGlyc 1.0 Server só pode ser utilizada em proteínas humanas, não é possível aplicar no gene ORF7a.\n",
    "\n",
    "## Locais de Fosforilação\n",
    "Não encontrámos ferramentas que fizessem a previsão dos locais de fosforilação e visto que a ferramenta NetPhos só dá para utilizar em organismos eucariontes ou em bactérias, não é possível aplicar no gene ORF7a.\n",
    "\n",
    "## Locais Conservados"
   ]
  },
  {
   "cell_type": "code",
   "execution_count": null,
   "metadata": {},
   "outputs": [],
   "source": []
  }
 ],
 "metadata": {
  "kernelspec": {
   "display_name": "Python 3",
   "language": "python",
   "name": "python3"
  },
  "language_info": {
   "codemirror_mode": {
    "name": "ipython",
    "version": 3
   },
   "file_extension": ".py",
   "mimetype": "text/x-python",
   "name": "python",
   "nbconvert_exporter": "python",
   "pygments_lexer": "ipython3",
   "version": "3.8.5"
  },
  "widgets": {
   "application/vnd.jupyter.widget-state+json": {
    "state": {
     "03757c1e3f684e168ed11c2efdb71998": {
      "model_module": "@jupyter-widgets/controls",
      "model_module_version": "1.5.0",
      "model_name": "DescriptionStyleModel",
      "state": {
       "description_width": ""
      }
     },
     "03f70a489dac4354a64d93984332263b": {
      "model_module": "@jupyter-widgets/controls",
      "model_module_version": "1.5.0",
      "model_name": "LinkModel",
      "state": {
       "source": [
        "IPY_MODEL_0ea6a1732bc74bc09b1f380004ef25c0",
        "max"
       ],
       "target": [
        "IPY_MODEL_5120af09dcf445f3bf24d910d782d6e9",
        "max_frame"
       ]
      }
     },
     "049434eccf5f48d89aff65f0f85b025b": {
      "model_module": "nglview-js-widgets",
      "model_module_version": "2.7.7",
      "model_name": "ColormakerRegistryModel",
      "state": {
       "_msg_ar": [],
       "_msg_q": [],
       "_ready": false,
       "layout": "IPY_MODEL_dd332ce5dbdb40bfbd3dd6efb7d180a8"
      }
     },
     "054a2bdb63334dfcbb466c9d64f43933": {
      "model_module": "@jupyter-widgets/controls",
      "model_module_version": "1.5.0",
      "model_name": "SliderStyleModel",
      "state": {
       "description_width": ""
      }
     },
     "05535ef479884bc1bb4ce8fdc6d9146c": {
      "model_module": "@jupyter-widgets/base",
      "model_module_version": "1.2.0",
      "model_name": "LayoutModel",
      "state": {}
     },
     "0bb5461a0e2a4ee0895df625192cd617": {
      "model_module": "@jupyter-widgets/controls",
      "model_module_version": "1.5.0",
      "model_name": "LinkModel",
      "state": {
       "source": [
        "IPY_MODEL_a2e2ea980661403ea7193041a0198b85",
        "max"
       ],
       "target": [
        "IPY_MODEL_5120af09dcf445f3bf24d910d782d6e9",
        "max_frame"
       ]
      }
     },
     "0ea6a1732bc74bc09b1f380004ef25c0": {
      "model_module": "@jupyter-widgets/controls",
      "model_module_version": "1.5.0",
      "model_name": "IntSliderModel",
      "state": {
       "layout": "IPY_MODEL_aa6550d097ba4ccb8344b18ae4e96c20",
       "max": 0,
       "style": "IPY_MODEL_054a2bdb63334dfcbb466c9d64f43933"
      }
     },
     "0f1f0aaf44f640ef81cd80cd3afdb2e3": {
      "model_module": "@jupyter-widgets/controls",
      "model_module_version": "1.5.0",
      "model_name": "ButtonModel",
      "state": {
       "icon": "compress",
       "layout": "IPY_MODEL_68ff4b1947f344909fbc750bf02642a6",
       "style": "IPY_MODEL_8535022eb5bd4f62aa3c6794e67d3079"
      }
     },
     "0f356177abb74788bb69e768be1f6ef4": {
      "model_module": "@jupyter-widgets/base",
      "model_module_version": "1.2.0",
      "model_name": "LayoutModel",
      "state": {}
     },
     "159fe0f6352349408abdb15aff4e3c1b": {
      "model_module": "@jupyter-widgets/base",
      "model_module_version": "1.2.0",
      "model_name": "LayoutModel",
      "state": {}
     },
     "1641cf85d27a47ccbfcd155d117c5da4": {
      "model_module": "@jupyter-widgets/controls",
      "model_module_version": "1.5.0",
      "model_name": "LinkModel",
      "state": {
       "source": [
        "IPY_MODEL_c44cdd1a78c549c0916fc00ef989b339",
        "max"
       ],
       "target": [
        "IPY_MODEL_9f13d97275a54be3a47c1d5a25570a86",
        "max_frame"
       ]
      }
     },
     "1c4f5b24718d44d3bbb87b2b529d45da": {
      "model_module": "@jupyter-widgets/controls",
      "model_module_version": "1.5.0",
      "model_name": "LinkModel",
      "state": {
       "source": [
        "IPY_MODEL_c44cdd1a78c549c0916fc00ef989b339",
        "value"
       ],
       "target": [
        "IPY_MODEL_9f13d97275a54be3a47c1d5a25570a86",
        "frame"
       ]
      }
     },
     "1dcd62b7a38545bb9608796395044aea": {
      "model_module": "@jupyter-widgets/controls",
      "model_module_version": "1.5.0",
      "model_name": "ImageModel",
      "state": {
       "layout": "IPY_MODEL_54ebb7f7c1ab447d9d83a3483b9ee067",
       "width": "900.0"
      }
     },
     "217b943eb3544b329d4fee52d624a421": {
      "model_module": "@jupyter-widgets/controls",
      "model_module_version": "1.5.0",
      "model_name": "HBoxModel",
      "state": {
       "children": [
        "IPY_MODEL_b0eb721f968f487789fe6327e8033ed1",
        "IPY_MODEL_613c15f5739c4f3e8ad5085021a17559"
       ],
       "layout": "IPY_MODEL_53a0bd4172834d8eb3d6ae5357a9d10b"
      }
     },
     "2368528772624c42985b3f920f681f7f": {
      "model_module": "@jupyter-widgets/base",
      "model_module_version": "1.2.0",
      "model_name": "LayoutModel",
      "state": {}
     },
     "244416c92e5140168be69bd003001c4e": {
      "model_module": "@jupyter-widgets/base",
      "model_module_version": "1.2.0",
      "model_name": "LayoutModel",
      "state": {}
     },
     "2731805cf0384ae88e1f0254a06d2830": {
      "model_module": "@jupyter-widgets/controls",
      "model_module_version": "1.5.0",
      "model_name": "LinkModel",
      "state": {
       "source": [
        "IPY_MODEL_a2e2ea980661403ea7193041a0198b85",
        "value"
       ],
       "target": [
        "IPY_MODEL_5120af09dcf445f3bf24d910d782d6e9",
        "frame"
       ]
      }
     },
     "2f1690d42093493ab87ec093f133b5b2": {
      "model_module": "@jupyter-widgets/base",
      "model_module_version": "1.2.0",
      "model_name": "LayoutModel",
      "state": {}
     },
     "303fafa569744f8b98b0ffe139cc2b6e": {
      "model_module": "@jupyter-widgets/controls",
      "model_module_version": "1.5.0",
      "model_name": "ButtonModel",
      "state": {
       "icon": "compress",
       "layout": "IPY_MODEL_f34fef7f57494f70b54ebf4068040b12",
       "style": "IPY_MODEL_7fe3d116a89540f1929c9920b035bcdb"
      }
     },
     "309303dc16fd4e8b92c29871501b3a64": {
      "model_module": "@jupyter-widgets/base",
      "model_module_version": "1.2.0",
      "model_name": "LayoutModel",
      "state": {}
     },
     "3246143702434346a244d3a68346562c": {
      "model_module": "@jupyter-widgets/controls",
      "model_module_version": "1.5.0",
      "model_name": "LinkModel",
      "state": {
       "source": [
        "IPY_MODEL_b0eb721f968f487789fe6327e8033ed1",
        "value"
       ],
       "target": [
        "IPY_MODEL_613c15f5739c4f3e8ad5085021a17559",
        "value"
       ]
      }
     },
     "3b178d95cb0244dcb88040badafcd82b": {
      "model_module": "@jupyter-widgets/controls",
      "model_module_version": "1.5.0",
      "model_name": "SliderStyleModel",
      "state": {
       "description_width": ""
      }
     },
     "3e65709c2cb7403ab0a4072df082da2e": {
      "model_module": "@jupyter-widgets/controls",
      "model_module_version": "1.5.0",
      "model_name": "PlayModel",
      "state": {
       "layout": "IPY_MODEL_dd077bc6efd7467f9d7e6273484bb839",
       "max": 0,
       "style": "IPY_MODEL_b1c7051f038249128ee83b0b6e9661f3"
      }
     },
     "40453fe29af0466ebd4149b346454972": {
      "model_module": "@jupyter-widgets/controls",
      "model_module_version": "1.5.0",
      "model_name": "HBoxModel",
      "state": {
       "children": [
        "IPY_MODEL_3e65709c2cb7403ab0a4072df082da2e",
        "IPY_MODEL_48286a4ed7774a3c8193b55f11a8b6a0"
       ],
       "layout": "IPY_MODEL_309303dc16fd4e8b92c29871501b3a64"
      }
     },
     "40fc663ccac6423ca4cbf6db590c8265": {
      "model_module": "@jupyter-widgets/controls",
      "model_module_version": "1.5.0",
      "model_name": "LinkModel",
      "state": {
       "source": [
        "IPY_MODEL_8af069f7f2824aa7a710af056358dfaf",
        "value"
       ],
       "target": [
        "IPY_MODEL_7225a2885d6c4d3a94df85c990bb001c",
        "frame"
       ]
      }
     },
     "4611e693d4044bd6bb869fdbecbf5ed1": {
      "model_module": "@jupyter-widgets/controls",
      "model_module_version": "1.5.0",
      "model_name": "LinkModel",
      "state": {
       "source": [
        "IPY_MODEL_8af069f7f2824aa7a710af056358dfaf",
        "value"
       ],
       "target": [
        "IPY_MODEL_b105ff5f185e4762b2cd0c6a224c421c",
        "value"
       ]
      }
     },
     "48286a4ed7774a3c8193b55f11a8b6a0": {
      "model_module": "@jupyter-widgets/controls",
      "model_module_version": "1.5.0",
      "model_name": "IntSliderModel",
      "state": {
       "layout": "IPY_MODEL_244416c92e5140168be69bd003001c4e",
       "max": 0,
       "style": "IPY_MODEL_b71f9d16bd3848e0ab01314b15e43d3b"
      }
     },
     "4856e8994e7647c9b479eec966619c8d": {
      "model_module": "@jupyter-widgets/base",
      "model_module_version": "1.2.0",
      "model_name": "LayoutModel",
      "state": {
       "width": "34px"
      }
     },
     "4d9caf5da48746488f44e6e61d8a9b1b": {
      "model_module": "@jupyter-widgets/controls",
      "model_module_version": "1.5.0",
      "model_name": "ButtonModel",
      "state": {
       "icon": "compress",
       "layout": "IPY_MODEL_bf7c7b93fe3f4b708572f1b73a54b36f",
       "style": "IPY_MODEL_6333940a842d43539a9d7010d07bf48f"
      }
     },
     "5120af09dcf445f3bf24d910d782d6e9": {
      "model_module": "nglview-js-widgets",
      "model_module_version": "2.7.7",
      "model_name": "NGLModel",
      "state": {
       "_camera_orientation": [],
       "_camera_str": "orthographic",
       "_gui_theme": null,
       "_ibtn_fullscreen": "IPY_MODEL_4d9caf5da48746488f44e6e61d8a9b1b",
       "_igui": null,
       "_iplayer": "IPY_MODEL_e7ec45fbea90465e9abecf9dd232b769",
       "_ngl_color_dict": {},
       "_ngl_coordinate_resource": {},
       "_ngl_full_stage_parameters": {},
       "_ngl_msg_archive": [
        {
         "args": [
          {
           "binary": false,
           "data": "ATOM      1  N   GLU A   1     -35.002  23.721  10.106  1.00 31.16           N  \nATOM      2  CA  GLU A   1     -34.808  22.363  10.600  1.00 38.49           C  \nATOM      3  C   GLU A   1     -34.161  21.487   9.532  1.00 33.79           C  \nATOM      4  O   GLU A   1     -34.848  20.775   8.799  1.00 30.23           O  \nATOM      5  CB  GLU A   1     -36.142  21.759  11.042  1.00 35.36           C  \nATOM      6  CG  GLU A   1     -36.798  22.497  12.198  1.00 51.28           C  \nATOM      7  CD  GLU A   1     -38.121  21.881  12.609  1.00 45.59           C  \nATOM      8  OE1 GLU A   1     -38.662  21.061  11.838  1.00 45.91           O  \nATOM      9  OE2 GLU A   1     -38.618  22.216  13.705  1.00 66.17           O  \nATOM     10  N   LEU A   2     -32.834  21.542   9.452  1.00 25.08           N  \nATOM     11  CA  LEU A   2     -32.081  20.794   8.453  1.00 28.95           C  \nATOM     12  C   LEU A   2     -31.782  19.399   8.990  1.00 29.65           C  \nATOM     13  O   LEU A   2     -31.148  19.255  10.040  1.00 39.99           O  \nATOM     14  CB  LEU A   2     -30.788  21.526   8.099  1.00 30.68           C  \nATOM     15  CG  LEU A   2     -30.950  23.002   7.727  1.00 38.41           C  \nATOM     16  CD1 LEU A   2     -29.599  23.636   7.434  1.00 29.08           C  \nATOM     17  CD2 LEU A   2     -31.890  23.165   6.542  1.00 53.76           C  \nATOM     18  N   TYR A   3     -32.234  18.379   8.268  1.00 28.35           N  \nATOM     19  CA  TYR A   3     -32.049  16.997   8.681  1.00 28.12           C  \nATOM     20  C   TYR A   3     -30.782  16.417   8.064  1.00 32.27           C  \nATOM     21  O   TYR A   3     -30.323  16.858   7.007  1.00 28.31           O  \nATOM     22  CB  TYR A   3     -33.256  16.149   8.277  1.00 31.24           C  \nATOM     23  CG  TYR A   3     -34.566  16.633   8.857  1.00 36.67           C  \nATOM     24  CD1 TYR A   3     -35.121  16.025   9.974  1.00 27.41           C  \nATOM     25  CD2 TYR A   3     -35.246  17.701   8.287  1.00 49.25           C  \nATOM     26  CE1 TYR A   3     -36.318  16.464  10.506  1.00 36.03           C  \nATOM     27  CE2 TYR A   3     -36.443  18.148   8.813  1.00 47.08           C  \nATOM     28  CZ  TYR A   3     -36.974  17.527   9.922  1.00 34.98           C  \nATOM     29  OH  TYR A   3     -38.166  17.970  10.447  1.00 35.89           O  \nATOM     30  N   HIS A   4     -30.219  15.420   8.743  1.00 27.80           N  \nATOM     31  CA  HIS A   4     -29.024  14.732   8.281  1.00 19.35           C  \nATOM     32  C   HIS A   4     -29.259  13.228   8.327  1.00 26.14           C  \nATOM     33  O   HIS A   4     -30.118  12.733   9.061  1.00 27.94           O  \nATOM     34  CB  HIS A   4     -27.794  15.090   9.130  1.00 15.38           C  \nATOM     35  CG  HIS A   4     -27.427  16.541   9.088  1.00 20.19           C  \nATOM     36  ND1 HIS A   4     -26.191  16.983   8.669  1.00 18.69           N  \nATOM     37  CD2 HIS A   4     -28.132  17.650   9.415  1.00 23.59           C  \nATOM     38  CE1 HIS A   4     -26.150  18.301   8.738  1.00 19.88           C  \nATOM     39  NE2 HIS A   4     -27.315  18.731   9.188  1.00 24.85           N  \nATOM     40  N   TYR A   5     -28.477  12.504   7.529  1.00 38.79           N  \nATOM     41  CA  TYR A   5     -28.554  11.052   7.486  1.00 27.99           C  \nATOM     42  C   TYR A   5     -27.200  10.510   7.057  1.00 25.23           C  \nATOM     43  O   TYR A   5     -26.478  11.146   6.284  1.00 22.78           O  \nATOM     44  CB  TYR A   5     -29.652  10.570   6.529  1.00 24.87           C  \nATOM     45  CG  TYR A   5     -29.814   9.065   6.476  1.00 30.43           C  \nATOM     46  CD1 TYR A   5     -29.040   8.292   5.619  1.00 28.55           C  \nATOM     47  CD2 TYR A   5     -30.744   8.419   7.279  1.00 32.46           C  \nATOM     48  CE1 TYR A   5     -29.185   6.919   5.568  1.00 36.68           C  \nATOM     49  CE2 TYR A   5     -30.896   7.046   7.234  1.00 31.65           C  \nATOM     50  CZ  TYR A   5     -30.115   6.301   6.377  1.00 34.48           C  \nATOM     51  OH  TYR A   5     -30.263   4.934   6.328  1.00 44.33           O  \nATOM     52  N   GLN A   6     -26.861   9.328   7.567  1.00 34.47           N  \nATOM     53  CA  GLN A   6     -25.574   8.717   7.271  1.00 33.16           C  \nATOM     54  C   GLN A   6     -25.574   7.287   7.787  1.00 34.04           C  \nATOM     55  O   GLN A   6     -26.147   7.003   8.843  1.00 33.71           O  \nATOM     56  CB  GLN A   6     -24.427   9.516   7.907  1.00 34.50           C  \nATOM     57  CG  GLN A   6     -23.051   8.884   7.750  1.00 52.88           C  \nATOM     58  CD  GLN A   6     -21.949   9.748   8.334  1.00 54.62           C  \nATOM     59  OE1 GLN A   6     -22.196  10.869   8.779  1.00 32.80           O  \nATOM     60  NE2 GLN A   6     -20.726   9.230   8.336  1.00 45.23           N  \nATOM     61  N   GLU A   7     -24.930   6.398   7.036  1.00 34.16           N  \nATOM     62  CA  GLU A   7     -24.786   5.000   7.412  1.00 35.09           C  \nATOM     63  C   GLU A   7     -23.351   4.723   7.838  1.00 45.21           C  \nATOM     64  O   GLU A   7     -22.400   5.145   7.170  1.00 41.88           O  \nATOM     65  CB  GLU A   7     -25.170   4.072   6.259  1.00 36.68           C  \nATOM     66  CG  GLU A   7     -26.594   4.253   5.768  1.00 51.43           C  \nATOM     67  CD  GLU A   7     -27.027   3.157   4.813  1.00 55.52           C  \nATOM     68  OE1 GLU A   7     -26.202   2.269   4.512  1.00 39.63           O  \nATOM     69  OE2 GLU A   7     -28.193   3.183   4.367  1.00 65.11           O  \nATOM     70  N   CYS A   8     -23.203   4.007   8.949  1.00 44.23           N  \nATOM     71  CA  CYS A   8     -21.892   3.692   9.496  1.00 33.22           C  \nATOM     72  C   CYS A   8     -21.856   2.230   9.914  1.00 36.82           C  \nATOM     73  O   CYS A   8     -22.893   1.593  10.116  1.00 32.94           O  \nATOM     74  CB  CYS A   8     -21.549   4.593  10.692  1.00 49.21           C  \nATOM     75  SG  CYS A   8     -22.763   4.563  12.032  1.00 44.42           S  \nATOM     76  N   VAL A   9     -20.639   1.709  10.052  1.00 26.95           N  \nATOM     77  CA  VAL A   9     -20.433   0.324  10.458  1.00 32.79           C  \nATOM     78  C   VAL A   9     -20.492   0.232  11.976  1.00 39.33           C  \nATOM     79  O   VAL A   9     -19.955   1.090  12.688  1.00 35.69           O  \nATOM     80  CB  VAL A   9     -19.091  -0.203   9.918  1.00 29.77           C  \nATOM     81  CG1 VAL A   9     -18.950  -1.691  10.204  1.00 29.92           C  \nATOM     82  CG2 VAL A   9     -18.969   0.076   8.428  1.00 31.87           C  \nATOM     83  N   ARG A  10     -21.145  -0.815  12.477  1.00 35.01           N  \nATOM     84  CA  ARG A  10     -21.294  -0.987  13.917  1.00 33.43           C  \nATOM     85  C   ARG A  10     -19.932  -1.016  14.598  1.00 35.84           C  \nATOM     86  O   ARG A  10     -19.007  -1.694  14.141  1.00 33.69           O  \nATOM     87  CB  ARG A  10     -22.060  -2.276  14.218  1.00 37.86           C  \nATOM     88  CG  ARG A  10     -23.500  -2.273  13.733  1.00 48.77           C  \nATOM     89  CD  ARG A  10     -24.249  -3.514  14.190  1.00 33.84           C  \nATOM     90  NE  ARG A  10     -25.575  -3.610  13.583  1.00 24.35           N  \nATOM     91  CZ  ARG A  10     -26.639  -2.918  13.982  1.00 18.91           C  \nATOM     92  NH1 ARG A  10     -26.551  -2.064  14.994  1.00 43.51           N  \nATOM     93  NH2 ARG A  10     -27.800  -3.080  13.362  1.00 23.67           N  \nATOM     94  N   GLY A  11     -19.813  -0.275  15.694  1.00 55.52           N  \nATOM     95  CA  GLY A  11     -18.600  -0.239  16.495  1.00 59.77           C  \nATOM     96  C   GLY A  11     -17.596   0.817  16.085  1.00 54.98           C  \nATOM     97  O   GLY A  11     -17.025   1.496  16.941  1.00 71.18           O  \nATOM     98  N   THR A  12     -17.368   0.968  14.783  1.00 48.29           N  \nATOM     99  CA  THR A  12     -16.383   1.928  14.305  1.00 48.71           C  \nATOM    100  C   THR A  12     -16.783   3.345  14.696  1.00 40.84           C  \nATOM    101  O   THR A  12     -17.967   3.690  14.723  1.00 39.83           O  \nATOM    102  CB  THR A  12     -16.235   1.826  12.787  1.00 63.95           C  \nATOM    103  OG1 THR A  12     -17.498   2.082  12.161  1.00 42.24           O  \nATOM    104  CG2 THR A  12     -15.744   0.439  12.388  1.00 50.24           C  \nATOM    105  N   THR A  13     -15.782   4.164  15.005  1.00 40.95           N  \nATOM    106  CA  THR A  13     -16.028   5.549  15.373  1.00 41.94           C  \nATOM    107  C   THR A  13     -16.453   6.355  14.148  1.00 47.33           C  \nATOM    108  O   THR A  13     -16.211   5.969  13.001  1.00 63.22           O  \nATOM    109  CB  THR A  13     -14.775   6.165  15.999  1.00 51.58           C  \nATOM    110  OG1 THR A  13     -14.245   5.273  16.989  1.00 58.38           O  \nATOM    111  CG2 THR A  13     -15.095   7.502  16.653  1.00 39.75           C  \nATOM    112  N   VAL A  14     -17.099   7.492  14.404  1.00 52.39           N  \nATOM    113  CA  VAL A  14     -17.555   8.388  13.349  1.00 52.73           C  \nATOM    114  C   VAL A  14     -17.292   9.815  13.808  1.00 40.07           C  \nATOM    115  O   VAL A  14     -17.784  10.230  14.864  1.00 42.11           O  \nATOM    116  CB  VAL A  14     -19.048   8.197  13.027  1.00 36.55           C  \nATOM    117  CG1 VAL A  14     -19.470   9.114  11.886  1.00 43.43           C  \nATOM    118  CG2 VAL A  14     -19.339   6.743  12.687  1.00 35.73           C  \nATOM    119  N   LEU A  15     -16.508  10.554  13.028  1.00 34.43           N  \nATOM    120  CA  LEU A  15     -16.244  11.964  13.275  1.00 41.42           C  \nATOM    121  C   LEU A  15     -17.067  12.804  12.307  1.00 39.05           C  \nATOM    122  O   LEU A  15     -17.227  12.441  11.138  1.00 71.88           O  \nATOM    123  CB  LEU A  15     -14.757  12.286  13.106  1.00 36.97           C  \nATOM    124  CG  LEU A  15     -13.792  11.752  14.169  1.00 53.94           C  \nATOM    125  CD1 LEU A  15     -13.766  10.231  14.189  1.00 46.05           C  \nATOM    126  CD2 LEU A  15     -12.393  12.307  13.942  1.00 45.03           C  \nATOM    127  N   LEU A  16     -17.585  13.929  12.797  1.00 31.17           N  \nATOM    128  CA  LEU A  16     -18.436  14.792  11.993  1.00 36.73           C  \nATOM    129  C   LEU A  16     -18.136  16.247  12.320  1.00 33.43           C  \nATOM    130  O   LEU A  16     -17.582  16.572  13.375  1.00 47.28           O  \nATOM    131  CB  LEU A  16     -19.922  14.492  12.229  1.00 43.84           C  \nATOM    132  CG  LEU A  16     -20.378  13.063  11.922  1.00 36.74           C  \nATOM    133  CD1 LEU A  16     -21.799  12.843  12.413  1.00 32.05           C  \nATOM    134  CD2 LEU A  16     -20.276  12.765  10.433  1.00 44.63           C  \nATOM    135  N   LYS A  17     -18.512  17.122  11.392  1.00 39.80           N  \nATOM    136  CA  LYS A  17     -18.315  18.555  11.546  1.00 48.68           C  \nATOM    137  C   LYS A  17     -19.476  19.159  12.324  1.00 42.24           C  \nATOM    138  O   LYS A  17     -20.625  18.728  12.185  1.00 50.57           O  \nATOM    139  CB  LYS A  17     -18.195  19.228  10.176  1.00 47.99           C  \nATOM    140  CG  LYS A  17     -17.874  20.716  10.224  1.00 41.86           C  \nATOM    141  CD  LYS A  17     -16.445  20.968  10.677  1.00 48.56           C  \nATOM    142  CE  LYS A  17     -16.157  22.456  10.801  1.00 61.08           C  \nATOM    143  NZ  LYS A  17     -14.740  22.723  11.174  1.00 47.97           N  \nATOM    144  N   GLU A  18     -19.171  20.157  13.140  1.00 60.85           N  \nATOM    145  CA  GLU A  18     -20.207  20.827  13.914  1.00 61.04           C  \nATOM    146  C   GLU A  18     -21.027  21.730  12.998  1.00 32.95           C  \nATOM    147  O   GLU A  18     -20.452  22.492  12.214  1.00 35.94           O  \nATOM    148  CB  GLU A  18     -19.587  21.647  15.043  1.00 52.92           C  \nATOM    149  CG  GLU A  18     -18.830  20.822  16.069  1.00 42.02           C  \nATOM    150  CD  GLU A  18     -18.228  21.674  17.170  1.00 53.13           C  \nATOM    151  OE1 GLU A  18     -18.404  22.910  17.130  1.00 55.47           O  \nATOM    152  OE2 GLU A  18     -17.579  21.108  18.074  1.00 47.76           O  \nATOM    153  N   PRO A  19     -22.362  21.680  13.061  1.00 29.71           N  \nATOM    154  CA  PRO A  19     -23.160  22.587  12.222  1.00 29.52           C  \nATOM    155  C   PRO A  19     -23.037  24.044  12.629  1.00 29.46           C  \nATOM    156  O   PRO A  19     -23.361  24.924  11.822  1.00 30.45           O  \nATOM    157  CB  PRO A  19     -24.593  22.071  12.405  1.00 27.55           C  \nATOM    158  CG  PRO A  19     -24.585  21.405  13.734  1.00 41.38           C  \nATOM    159  CD  PRO A  19     -23.210  20.822  13.909  1.00 42.01           C  \nATOM    160  N   CYS A  20     -22.584  24.325  13.848  1.00 45.28           N  \nATOM    161  CA  CYS A  20     -22.340  25.691  14.287  1.00 56.04           C  \nATOM    162  C   CYS A  20     -21.210  25.679  15.306  1.00 41.46           C  \nATOM    163  O   CYS A  20     -20.757  24.622  15.753  1.00 35.57           O  \nATOM    164  CB  CYS A  20     -23.601  26.330  14.877  1.00 45.60           C  \nATOM    165  SG  CYS A  20     -24.547  25.260  15.981  1.00 44.35           S  \nATOM    166  N   SER A  21     -20.755  26.877  15.670  1.00 35.19           N  \nATOM    167  CA  SER A  21     -19.642  27.024  16.598  1.00 46.54           C  \nATOM    168  C   SER A  21     -19.962  26.386  17.945  1.00 44.57           C  \nATOM    169  O   SER A  21     -19.336  25.393  18.329  1.00 35.44           O  \nATOM    170  CB  SER A  21     -19.295  28.503  16.779  1.00 50.71           C  \nATOM    171  OG  SER A  21     -20.425  29.245  17.204  1.00 60.93           O  \nATOM    172  N   SER A  22     -20.932  26.947  18.666  1.00 35.35           N  \nATOM    173  CA  SER A  22     -21.295  26.437  19.983  1.00 32.62           C  \nATOM    174  C   SER A  22     -22.584  25.627  19.912  1.00 38.68           C  \nATOM    175  O   SER A  22     -22.544  24.403  19.750  1.00 33.37           O  \nATOM    176  CB  SER A  22     -21.441  27.590  20.979  1.00 40.07           C  \nATOM    177  OG  SER A  22     -22.455  28.492  20.570  1.00 41.24           O  \nATOM    178  N   GLY A  23     -23.729  26.296  20.028  1.00 26.21           N  \nATOM    179  CA  GLY A  23     -25.009  25.614  20.000  1.00 29.82           C  \nATOM    180  C   GLY A  23     -25.199  24.672  21.171  1.00 35.18           C  \nATOM    181  O   GLY A  23     -24.302  24.524  22.006  1.00 42.12           O  \nATOM    182  N   THR A  24     -26.362  24.028  21.242  1.00 31.94           N  \nATOM    183  CA  THR A  24     -26.686  23.097  22.315  1.00 26.87           C  \nATOM    184  C   THR A  24     -26.986  21.730  21.715  1.00 28.36           C  \nATOM    185  O   THR A  24     -27.813  21.617  20.806  1.00 30.58           O  \nATOM    186  CB  THR A  24     -27.882  23.592  23.135  1.00 26.11           C  \nATOM    187  OG1 THR A  24     -29.081  23.479  22.359  1.00 22.52           O  \nATOM    188  CG2 THR A  24     -27.686  25.046  23.543  1.00 28.41           C  \nATOM    189  N   TYR A  25     -26.315  20.702  22.224  1.00 30.69           N  \nATOM    190  CA  TYR A  25     -26.441  19.346  21.711  1.00 26.05           C  \nATOM    191  C   TYR A  25     -27.405  18.534  22.568  1.00 27.33           C  \nATOM    192  O   TYR A  25     -27.547  18.772  23.770  1.00 26.84           O  \nATOM    193  CB  TYR A  25     -25.068  18.668  21.671  1.00 23.29           C  \nATOM    194  CG  TYR A  25     -25.107  17.158  21.612  1.00 38.86           C  \nATOM    195  CD1 TYR A  25     -25.002  16.396  22.768  1.00 33.96           C  \nATOM    196  CD2 TYR A  25     -25.240  16.495  20.401  1.00 40.83           C  \nATOM    197  CE1 TYR A  25     -25.032  15.016  22.719  1.00 28.14           C  \nATOM    198  CE2 TYR A  25     -25.272  15.115  20.342  1.00 37.59           C  \nATOM    199  CZ  TYR A  25     -25.167  14.381  21.504  1.00 38.55           C  \nATOM    200  OH  TYR A  25     -25.197  13.007  21.451  1.00 54.40           O  \nATOM    201  N   GLU A  26     -28.073  17.570  21.933  1.00 32.20           N  \nATOM    202  CA  GLU A  26     -29.014  16.699  22.635  1.00 26.99           C  \nATOM    203  C   GLU A  26     -29.027  15.352  21.929  1.00 28.80           C  \nATOM    204  O   GLU A  26     -29.515  15.250  20.800  1.00 31.32           O  \nATOM    205  CB  GLU A  26     -30.410  17.315  22.666  1.00 25.49           C  \nATOM    206  CG  GLU A  26     -31.497  16.393  23.201  1.00 27.99           C  \nATOM    207  CD  GLU A  26     -32.857  17.061  23.234  1.00 37.69           C  \nATOM    208  OE1 GLU A  26     -32.911  18.307  23.171  1.00 50.05           O  \nATOM    209  OE2 GLU A  26     -33.873  16.339  23.317  1.00 27.69           O  \nATOM    210  N   GLY A  27     -28.505  14.322  22.591  1.00 32.78           N  \nATOM    211  CA  GLY A  27     -28.444  12.999  22.010  1.00 40.43           C  \nATOM    212  C   GLY A  27     -28.528  11.928  23.075  1.00 30.90           C  \nATOM    213  O   GLY A  27     -28.692  12.212  24.263  1.00 38.01           O  \nATOM    214  N   ASN A  28     -28.410  10.678  22.629  1.00 33.08           N  \nATOM    215  CA  ASN A  28     -28.477   9.515  23.502  1.00 38.88           C  \nATOM    216  C   ASN A  28     -27.095   9.012  23.906  1.00 32.36           C  \nATOM    217  O   ASN A  28     -26.955   7.848  24.296  1.00 24.04           O  \nATOM    218  CB  ASN A  28     -29.258   8.392  22.818  1.00 35.03           C  \nATOM    219  CG  ASN A  28     -30.632   8.833  22.353  1.00 41.95           C  \nATOM    220  OD1 ASN A  28     -31.601   8.783  23.111  1.00 30.37           O  \nATOM    221  ND2 ASN A  28     -30.724   9.261  21.099  1.00 50.84           N  \nATOM    222  N   SER A  29     -26.072   9.860  23.813  1.00 33.25           N  \nATOM    223  CA  SER A  29     -24.715   9.477  24.174  1.00 33.06           C  \nATOM    224  C   SER A  29     -23.922  10.744  24.440  1.00 38.34           C  \nATOM    225  O   SER A  29     -24.263  11.804  23.903  1.00 36.06           O  \nATOM    226  CB  SER A  29     -24.055   8.650  23.061  1.00 37.05           C  \nATOM    227  OG  SER A  29     -24.002   9.379  21.847  1.00 65.69           O  \nATOM    228  N   PRO A  30     -22.869  10.677  25.255  1.00 50.75           N  \nATOM    229  CA  PRO A  30     -22.118  11.895  25.576  1.00 38.97           C  \nATOM    230  C   PRO A  30     -21.505  12.524  24.334  1.00 44.89           C  \nATOM    231  O   PRO A  30     -21.214  11.851  23.343  1.00 35.92           O  \nATOM    232  CB  PRO A  30     -21.039  11.406  26.552  1.00 39.26           C  \nATOM    233  CG  PRO A  30     -20.938   9.937  26.317  1.00 51.70           C  \nATOM    234  CD  PRO A  30     -22.309   9.489  25.922  1.00 56.22           C  \nATOM    235  N   PHE A  31     -21.314  13.839  24.403  1.00 42.79           N  \nATOM    236  CA  PHE A  31     -20.755  14.610  23.300  1.00 35.82           C  \nATOM    237  C   PHE A  31     -19.236  14.621  23.419  1.00 40.43           C  \nATOM    238  O   PHE A  31     -18.692  15.091  24.425  1.00 45.48           O  \nATOM    239  CB  PHE A  31     -21.319  16.030  23.315  1.00 34.16           C  \nATOM    240  CG  PHE A  31     -20.827  16.897  22.192  1.00 43.94           C  \nATOM    241  CD1 PHE A  31     -21.327  16.745  20.910  1.00 40.02           C  \nATOM    242  CD2 PHE A  31     -19.876  17.876  22.423  1.00 53.31           C  \nATOM    243  CE1 PHE A  31     -20.879  17.546  19.877  1.00 37.41           C  \nATOM    244  CE2 PHE A  31     -19.425  18.680  21.395  1.00 36.24           C  \nATOM    245  CZ  PHE A  31     -19.927  18.515  20.121  1.00 32.72           C  \nATOM    246  N   HIS A  32     -18.553  14.101  22.396  1.00 42.35           N  \nATOM    247  CA  HIS A  32     -17.097  13.981  22.391  1.00 40.74           C  \nATOM    248  C   HIS A  32     -16.508  14.996  21.419  1.00 36.19           C  \nATOM    249  O   HIS A  32     -16.304  14.684  20.236  1.00 45.98           O  \nATOM    250  CB  HIS A  32     -16.671  12.561  22.009  1.00 37.84           C  \nATOM    251  CG  HIS A  32     -17.386  11.488  22.769  1.00 43.87           C  \nATOM    252  ND1 HIS A  32     -18.498  10.842  22.274  1.00 46.90           N  \nATOM    253  CD2 HIS A  32     -17.147  10.947  23.986  1.00 59.04           C  \nATOM    254  CE1 HIS A  32     -18.913   9.948  23.154  1.00 43.84           C  \nATOM    255  NE2 HIS A  32     -18.111   9.992  24.202  1.00 56.63           N  \nATOM    256  N   PRO A  33     -16.214  16.217  21.858  1.00 32.12           N  \nATOM    257  CA  PRO A  33     -15.606  17.197  20.955  1.00 38.26           C  \nATOM    258  C   PRO A  33     -14.118  16.956  20.761  1.00 51.25           C  \nATOM    259  O   PRO A  33     -13.417  16.459  21.646  1.00 36.09           O  \nATOM    260  CB  PRO A  33     -15.858  18.532  21.665  1.00 33.62           C  \nATOM    261  CG  PRO A  33     -15.908  18.175  23.107  1.00 39.48           C  \nATOM    262  CD  PRO A  33     -16.506  16.794  23.183  1.00 48.05           C  \nATOM    263  N   LEU A  34     -13.643  17.320  19.572  1.00 41.31           N  \nATOM    264  CA  LEU A  34     -12.234  17.250  19.217  1.00 40.73           C  \nATOM    265  C   LEU A  34     -11.808  18.603  18.660  1.00 35.77           C  \nATOM    266  O   LEU A  34     -12.606  19.540  18.566  1.00 37.53           O  \nATOM    267  CB  LEU A  34     -11.972  16.130  18.201  1.00 39.90           C  \nATOM    268  CG  LEU A  34     -12.307  14.707  18.654  1.00 43.19           C  \nATOM    269  CD1 LEU A  34     -12.115  13.724  17.509  1.00 55.78           C  \nATOM    270  CD2 LEU A  34     -11.458  14.306  19.851  1.00 62.47           C  \nATOM    271  N   ALA A  35     -10.537  18.704  18.285  1.00 42.24           N  \nATOM    272  CA  ALA A  35     -10.017  19.947  17.740  1.00 61.41           C  \nATOM    273  C   ALA A  35     -10.598  20.206  16.351  1.00 55.31           C  \nATOM    274  O   ALA A  35     -11.198  19.331  15.719  1.00 51.89           O  \nATOM    275  CB  ALA A  35      -8.491  19.906  17.679  1.00 63.48           C  \nATOM    276  N   ASP A  36     -10.416  21.439  15.879  1.00 58.01           N  \nATOM    277  CA  ASP A  36     -10.860  21.850  14.547  1.00 59.85           C  \nATOM    278  C   ASP A  36     -12.380  21.797  14.412  1.00 57.48           C  \nATOM    279  O   ASP A  36     -12.909  21.572  13.320  1.00 61.22           O  \nATOM    280  CB  ASP A  36     -10.200  20.996  13.460  1.00 71.53           C  \nATOM    281  CG  ASP A  36      -8.686  21.061  13.506  1.00 76.55           C  \nATOM    282  OD1 ASP A  36      -8.147  22.101  13.941  1.00 84.11           O  \nATOM    283  OD2 ASP A  36      -8.034  20.073  13.108  1.00 63.26           O  \nATOM    284  N   ASN A  37     -13.093  22.007  15.518  1.00 58.24           N  \nATOM    285  CA  ASN A  37     -14.554  22.062  15.520  1.00 51.74           C  \nATOM    286  C   ASN A  37     -15.154  20.793  14.907  1.00 49.02           C  \nATOM    287  O   ASN A  37     -15.832  20.822  13.878  1.00 48.92           O  \nATOM    288  CB  ASN A  37     -15.050  23.314  14.788  1.00 51.02           C  \nATOM    289  CG  ASN A  37     -14.663  24.596  15.499  1.00 54.84           C  \nATOM    290  OD1 ASN A  37     -14.507  24.619  16.720  1.00 77.82           O  \nATOM    291  ND2 ASN A  37     -14.509  25.672  14.737  1.00 57.57           N  \nATOM    292  N   LYS A  38     -14.891  19.670  15.569  1.00 45.61           N  \nATOM    293  CA  LYS A  38     -15.433  18.379  15.173  1.00 46.30           C  \nATOM    294  C   LYS A  38     -15.951  17.658  16.409  1.00 57.91           C  \nATOM    295  O   LYS A  38     -15.578  17.978  17.540  1.00 48.38           O  \nATOM    296  CB  LYS A  38     -14.379  17.508  14.473  1.00 45.22           C  \nATOM    297  CG  LYS A  38     -13.686  18.170  13.293  1.00 55.24           C  \nATOM    298  CD  LYS A  38     -12.523  17.319  12.802  1.00 58.20           C  \nATOM    299  CE  LYS A  38     -11.753  18.001  11.682  1.00 73.16           C  \nATOM    300  NZ  LYS A  38     -12.548  18.109  10.430  1.00 94.39           N  \nATOM    301  N   PHE A  39     -16.811  16.667  16.186  1.00 36.80           N  \nATOM    302  CA  PHE A  39     -17.291  15.825  17.272  1.00 27.99           C  \nATOM    303  C   PHE A  39     -17.355  14.380  16.803  1.00 33.66           C  \nATOM    304  O   PHE A  39     -17.784  14.099  15.681  1.00 38.38           O  \nATOM    305  CB  PHE A  39     -18.664  16.285  17.787  1.00 36.79           C  \nATOM    306  CG  PHE A  39     -19.786  16.088  16.808  1.00 35.06           C  \nATOM    307  CD1 PHE A  39     -20.111  17.079  15.897  1.00 41.85           C  \nATOM    308  CD2 PHE A  39     -20.530  14.920  16.815  1.00 29.29           C  \nATOM    309  CE1 PHE A  39     -21.149  16.902  15.002  1.00 42.37           C  \nATOM    310  CE2 PHE A  39     -21.568  14.738  15.922  1.00 27.09           C  \nATOM    311  CZ  PHE A  39     -21.879  15.730  15.016  1.00 35.46           C  \nATOM    312  N   ALA A  40     -16.919  13.472  17.669  1.00 50.33           N  \nATOM    313  CA  ALA A  40     -16.868  12.051  17.367  1.00 33.66           C  \nATOM    314  C   ALA A  40     -17.877  11.294  18.219  1.00 36.99           C  \nATOM    315  O   ALA A  40     -18.326  11.772  19.265  1.00 55.62           O  \nATOM    316  CB  ALA A  40     -15.462  11.491  17.608  1.00 28.91           C  \nATOM    317  N   LEU A  41     -18.235  10.100  17.755  1.00 35.16           N  \nATOM    318  CA  LEU A  41     -19.150   9.251  18.508  1.00 33.24           C  \nATOM    319  C   LEU A  41     -19.140   7.850  17.914  1.00 33.54           C  \nATOM    320  O   LEU A  41     -18.771   7.648  16.754  1.00 31.71           O  \nATOM    321  CB  LEU A  41     -20.571   9.829  18.515  1.00 43.80           C  \nATOM    322  CG  LEU A  41     -21.241  10.060  17.158  1.00 42.59           C  \nATOM    323  CD1 LEU A  41     -21.891   8.787  16.638  1.00 31.19           C  \nATOM    324  CD2 LEU A  41     -22.263  11.184  17.252  1.00 32.29           C  \nATOM    325  N   THR A  42     -19.555   6.885  18.729  1.00 32.37           N  \nATOM    326  CA  THR A  42     -19.615   5.498  18.296  1.00 32.79           C  \nATOM    327  C   THR A  42     -20.818   5.275  17.387  1.00 36.50           C  \nATOM    328  O   THR A  42     -21.850   5.939  17.509  1.00 31.63           O  \nATOM    329  CB  THR A  42     -19.690   4.562  19.503  1.00 32.19           C  \nATOM    330  OG1 THR A  42     -18.504   4.704  20.296  1.00 39.02           O  \nATOM    331  CG2 THR A  42     -19.827   3.112  19.058  1.00 33.48           C  \nATOM    332  N   CYS A  43     -20.673   4.323  16.468  1.00 38.81           N  \nATOM    333  CA  CYS A  43     -21.717   4.039  15.495  1.00 38.24           C  \nATOM    334  C   CYS A  43     -22.807   3.174  16.115  1.00 31.99           C  \nATOM    335  O   CYS A  43     -22.523   2.127  16.706  1.00 32.40           O  \nATOM    336  CB  CYS A  43     -21.127   3.338  14.273  1.00 41.94           C  \nATOM    337  SG  CYS A  43     -22.354   2.849  13.040  1.00 49.63           S  \nATOM    338  N   PHE A  44     -24.055   3.615  15.974  1.00 30.51           N  \nATOM    339  CA  PHE A  44     -25.212   2.848  16.413  1.00 32.05           C  \nATOM    340  C   PHE A  44     -26.466   3.582  15.964  1.00 27.36           C  \nATOM    341  O   PHE A  44     -26.553   4.804  16.104  1.00 26.07           O  \nATOM    342  CB  PHE A  44     -25.218   2.651  17.936  1.00 28.28           C  \nATOM    343  CG  PHE A  44     -25.347   3.927  18.718  1.00 26.99           C  \nATOM    344  CD1 PHE A  44     -26.549   4.270  19.313  1.00 22.49           C  \nATOM    345  CD2 PHE A  44     -24.266   4.781  18.861  1.00 25.16           C  \nATOM    346  CE1 PHE A  44     -26.670   5.442  20.036  1.00 22.71           C  \nATOM    347  CE2 PHE A  44     -24.383   5.955  19.581  1.00 27.31           C  \nATOM    348  CZ  PHE A  44     -25.587   6.285  20.169  1.00 22.55           C  \nATOM    349  N   SER A  45     -27.423   2.832  15.414  1.00 30.47           N  \nATOM    350  CA  SER A  45     -28.655   3.415  14.894  1.00 29.79           C  \nATOM    351  C   SER A  45     -29.285   4.339  15.929  1.00 22.07           C  \nATOM    352  O   SER A  45     -29.721   3.878  16.988  1.00 28.10           O  \nATOM    353  CB  SER A  45     -29.641   2.314  14.496  1.00 37.06           C  \nATOM    354  OG  SER A  45     -29.076   1.445  13.529  1.00 47.07           O  \nATOM    355  N   THR A  46     -29.341   5.638  15.643  1.00 23.15           N  \nATOM    356  CA  THR A  46     -29.802   6.596  16.644  1.00 30.50           C  \nATOM    357  C   THR A  46     -30.117   7.923  15.967  1.00 26.04           C  \nATOM    358  O   THR A  46     -29.871   8.111  14.773  1.00 37.32           O  \nATOM    359  CB  THR A  46     -28.756   6.789  17.747  1.00 39.11           C  \nATOM    360  OG1 THR A  46     -29.304   7.583  18.807  1.00 31.07           O  \nATOM    361  CG2 THR A  46     -27.514   7.478  17.192  1.00 28.60           C  \nATOM    362  N   GLN A  47     -30.673   8.843  16.757  1.00 31.42           N  \nATOM    363  CA  GLN A  47     -30.968  10.196  16.308  1.00 35.74           C  \nATOM    364  C   GLN A  47     -30.636  11.178  17.422  1.00 30.32           C  \nATOM    365  O   GLN A  47     -30.887  10.901  18.599  1.00 48.75           O  \nATOM    366  CB  GLN A  47     -32.442  10.351  15.908  1.00 44.50           C  \nATOM    367  CG  GLN A  47     -32.886   9.441  14.776  1.00 52.04           C  \nATOM    368  CD  GLN A  47     -34.303   9.733  14.320  1.00 42.39           C  \nATOM    369  OE1 GLN A  47     -34.894  10.742  14.704  1.00 26.94           O  \nATOM    370  NE2 GLN A  47     -34.856   8.849  13.497  1.00 41.98           N  \nATOM    371  N   PHE A  48     -30.073  12.324  17.044  1.00 19.32           N  \nATOM    372  CA  PHE A  48     -29.777  13.399  17.985  1.00 27.85           C  \nATOM    373  C   PHE A  48     -30.012  14.735  17.287  1.00 26.24           C  \nATOM    374  O   PHE A  48     -30.456  14.787  16.136  1.00 25.19           O  \nATOM    375  CB  PHE A  48     -28.350  13.279  18.539  1.00 32.96           C  \nATOM    376  CG  PHE A  48     -27.286  13.177  17.483  1.00 39.99           C  \nATOM    377  CD1 PHE A  48     -26.995  11.961  16.888  1.00 34.88           C  \nATOM    378  CD2 PHE A  48     -26.562  14.294  17.100  1.00 36.72           C  \nATOM    379  CE1 PHE A  48     -26.011  11.863  15.922  1.00 22.04           C  \nATOM    380  CE2 PHE A  48     -25.575  14.201  16.136  1.00 22.66           C  \nATOM    381  CZ  PHE A  48     -25.300  12.984  15.547  1.00 20.92           C  \nATOM    382  N   ALA A  49     -29.718  15.829  17.988  1.00 22.98           N  \nATOM    383  CA  ALA A  49     -30.066  17.149  17.487  1.00 26.96           C  \nATOM    384  C   ALA A  49     -29.102  18.203  18.012  1.00 26.00           C  \nATOM    385  O   ALA A  49     -28.494  18.048  19.076  1.00 21.35           O  \nATOM    386  CB  ALA A  49     -31.502  17.525  17.874  1.00 19.88           C  \nATOM    387  N   PHE A  50     -28.975  19.280  17.235  1.00 30.89           N  \nATOM    388  CA  PHE A  50     -28.226  20.470  17.607  1.00 27.06           C  \nATOM    389  C   PHE A  50     -29.121  21.687  17.430  1.00 35.99           C  \nATOM    390  O   PHE A  50     -29.812  21.815  16.414  1.00 32.48           O  \nATOM    391  CB  PHE A  50     -26.968  20.645  16.743  1.00 24.04           C  \nATOM    392  CG  PHE A  50     -25.851  19.705  17.087  1.00 22.13           C  \nATOM    393  CD1 PHE A  50     -25.955  18.352  16.820  1.00 24.35           C  \nATOM    394  CD2 PHE A  50     -24.683  20.183  17.658  1.00 24.70           C  \nATOM    395  CE1 PHE A  50     -24.922  17.490  17.130  1.00 34.17           C  \nATOM    396  CE2 PHE A  50     -23.647  19.326  17.970  1.00 25.87           C  \nATOM    397  CZ  PHE A  50     -23.766  17.978  17.705  1.00 29.92           C  \nATOM    398  N   ALA A  51     -29.106  22.579  18.416  1.00 25.96           N  \nATOM    399  CA  ALA A  51     -29.809  23.856  18.342  1.00 23.09           C  \nATOM    400  C   ALA A  51     -28.759  24.950  18.206  1.00 28.71           C  \nATOM    401  O   ALA A  51     -27.994  25.204  19.143  1.00 29.32           O  \nATOM    402  CB  ALA A  51     -30.687  24.077  19.571  1.00 19.12           C  \nATOM    403  N   CYS A  52     -28.720  25.589  17.043  1.00 25.73           N  \nATOM    404  CA  CYS A  52     -27.695  26.570  16.730  1.00 31.49           C  \nATOM    405  C   CYS A  52     -28.203  27.985  16.964  1.00 22.30           C  \nATOM    406  O   CYS A  52     -29.413  28.227  16.999  1.00 15.04           O  \nATOM    407  CB  CYS A  52     -27.243  26.416  15.275  1.00 25.46           C  \nATOM    408  SG  CYS A  52     -26.272  24.923  14.965  1.00 17.61           S  \nATOM    409  N   PRO A  53     -27.297  28.953  17.128  1.00 21.95           N  \nATOM    410  CA  PRO A  53     -27.745  30.331  17.389  1.00 18.46           C  \nATOM    411  C   PRO A  53     -28.555  30.930  16.254  1.00 29.70           C  \nATOM    412  O   PRO A  53     -29.439  31.758  16.506  1.00 22.06           O  \nATOM    413  CB  PRO A  53     -26.429  31.096  17.602  1.00 15.91           C  \nATOM    414  CG  PRO A  53     -25.403  30.051  17.893  1.00 33.37           C  \nATOM    415  CD  PRO A  53     -25.828  28.839  17.134  1.00 23.50           C  \nATOM    416  N   ASP A  54     -28.282  30.536  15.009  1.00 32.94           N  \nATOM    417  CA  ASP A  54     -28.977  31.108  13.862  1.00 40.93           C  \nATOM    418  C   ASP A  54     -30.453  30.733  13.811  1.00 30.91           C  \nATOM    419  O   ASP A  54     -31.177  31.265  12.962  1.00 38.70           O  \nATOM    420  CB  ASP A  54     -28.293  30.665  12.566  1.00 38.48           C  \nATOM    421  CG  ASP A  54     -28.260  29.156  12.410  1.00 38.21           C  \nATOM    422  OD1 ASP A  54     -28.769  28.451  13.306  1.00 32.10           O  \nATOM    423  OD2 ASP A  54     -27.723  28.675  11.390  1.00 31.51           O  \nATOM    424  N   GLY A  55     -30.916  29.845  14.686  1.00 26.13           N  \nATOM    425  CA  GLY A  55     -32.294  29.404  14.659  1.00 26.47           C  \nATOM    426  C   GLY A  55     -32.548  28.186  13.805  1.00 43.38           C  \nATOM    427  O   GLY A  55     -33.707  27.910  13.475  1.00 28.01           O  \nATOM    428  N   VAL A  56     -31.505  27.448  13.437  1.00 31.08           N  \nATOM    429  CA  VAL A  56     -31.621  26.267  12.590  1.00 25.63           C  \nATOM    430  C   VAL A  56     -31.373  25.042  13.458  1.00 30.39           C  \nATOM    431  O   VAL A  56     -30.302  24.908  14.064  1.00 46.09           O  \nATOM    432  CB  VAL A  56     -30.635  26.318  11.413  1.00 38.53           C  \nATOM    433  CG1 VAL A  56     -30.755  25.064  10.562  1.00 31.02           C  \nATOM    434  CG2 VAL A  56     -30.874  27.565  10.573  1.00 45.26           C  \nATOM    435  N   LYS A  57     -32.359  24.151  13.518  1.00 24.56           N  \nATOM    436  CA  LYS A  57     -32.252  22.919  14.292  1.00 24.98           C  \nATOM    437  C   LYS A  57     -31.708  21.821  13.384  1.00 24.88           C  \nATOM    438  O   LYS A  57     -32.413  21.336  12.493  1.00 23.33           O  \nATOM    439  CB  LYS A  57     -33.607  22.530  14.877  1.00 39.64           C  \nATOM    440  CG  LYS A  57     -33.580  21.258  15.711  1.00 29.95           C  \nATOM    441  CD  LYS A  57     -34.950  20.941  16.287  1.00 41.06           C  \nATOM    442  CE  LYS A  57     -34.920  19.670  17.119  1.00 52.94           C  \nATOM    443  NZ  LYS A  57     -36.253  19.353  17.703  1.00 46.57           N  \nATOM    444  N   HIS A  58     -30.459  21.427  13.614  1.00 25.71           N  \nATOM    445  CA  HIS A  58     -29.806  20.404  12.803  1.00 25.74           C  \nATOM    446  C   HIS A  58     -30.079  19.040  13.427  1.00 22.53           C  \nATOM    447  O   HIS A  58     -29.502  18.696  14.462  1.00 20.48           O  \nATOM    448  CB  HIS A  58     -28.307  20.675  12.703  1.00 22.28           C  \nATOM    449  CG  HIS A  58     -27.970  21.980  12.052  1.00 24.88           C  \nATOM    450  ND1 HIS A  58     -27.494  22.067  10.762  1.00 26.71           N  \nATOM    451  CD2 HIS A  58     -28.042  23.251  12.513  1.00 35.40           C  \nATOM    452  CE1 HIS A  58     -27.286  23.336  10.456  1.00 38.03           C  \nATOM    453  NE2 HIS A  58     -27.610  24.075  11.502  1.00 43.78           N  \nATOM    454  N   VAL A  59     -30.964  18.271  12.807  1.00 24.11           N  \nATOM    455  CA  VAL A  59     -31.284  16.926  13.269  1.00 20.29           C  \nATOM    456  C   VAL A  59     -30.369  15.937  12.564  1.00 19.22           C  \nATOM    457  O   VAL A  59     -30.138  16.037  11.353  1.00 28.12           O  \nATOM    458  CB  VAL A  59     -32.767  16.596  13.013  1.00 24.26           C  \nATOM    459  CG1 VAL A  59     -33.108  15.216  13.560  1.00 26.13           C  \nATOM    460  CG2 VAL A  59     -33.661  17.659  13.633  1.00 24.42           C  \nATOM    461  N   TYR A  60     -29.843  14.977  13.321  1.00 20.87           N  \nATOM    462  CA  TYR A  60     -28.923  13.974  12.810  1.00 15.93           C  \nATOM    463  C   TYR A  60     -29.487  12.587  13.073  1.00 21.80           C  \nATOM    464  O   TYR A  60     -30.055  12.332  14.139  1.00 34.83           O  \nATOM    465  CB  TYR A  60     -27.548  14.097  13.470  1.00 22.29           C  \nATOM    466  CG  TYR A  60     -26.773  15.335  13.084  1.00 20.75           C  \nATOM    467  CD1 TYR A  60     -27.207  16.598  13.461  1.00 19.06           C  \nATOM    468  CD2 TYR A  60     -25.595  15.238  12.356  1.00 19.61           C  \nATOM    469  CE1 TYR A  60     -26.497  17.730  13.113  1.00 21.78           C  \nATOM    470  CE2 TYR A  60     -24.878  16.363  12.004  1.00 22.57           C  \nATOM    471  CZ  TYR A  60     -25.332  17.607  12.386  1.00 23.37           C  \nATOM    472  OH  TYR A  60     -24.620  18.730  12.037  1.00 44.82           O  \nATOM    473  N   GLN A  61     -29.317  11.693  12.101  1.00 36.00           N  \nATOM    474  CA  GLN A  61     -29.764  10.310  12.224  1.00 38.18           C  \nATOM    475  C   GLN A  61     -28.699   9.404  11.630  1.00 35.30           C  \nATOM    476  O   GLN A  61     -28.335   9.556  10.460  1.00 30.67           O  \nATOM    477  CB  GLN A  61     -31.106  10.095  11.518  1.00 31.35           C  \nATOM    478  CG  GLN A  61     -31.554   8.641  11.466  1.00 34.25           C  \nATOM    479  CD  GLN A  61     -32.958   8.481  10.918  1.00 48.20           C  \nATOM    480  OE1 GLN A  61     -33.623   9.463  10.587  1.00 47.12           O  \nATOM    481  NE2 GLN A  61     -33.417   7.239  10.820  1.00 35.96           N  \nATOM    482  N   LEU A  62     -28.201   8.468  12.433  1.00 29.28           N  \nATOM    483  CA  LEU A  62     -27.227   7.486  11.983  1.00 28.26           C  \nATOM    484  C   LEU A  62     -27.878   6.113  11.898  1.00 35.30           C  \nATOM    485  O   LEU A  62     -28.658   5.728  12.778  1.00 54.41           O  \nATOM    486  CB  LEU A  62     -26.020   7.421  12.923  1.00 31.11           C  \nATOM    487  CG  LEU A  62     -25.030   8.587  12.881  1.00 35.47           C  \nATOM    488  CD1 LEU A  62     -23.842   8.283  13.773  1.00 35.48           C  \nATOM    489  CD2 LEU A  62     -24.568   8.871  11.462  1.00 53.74           C  \nATOM    490  N   ARG A  63     -27.553   5.388  10.830  1.00 34.53           N  \nATOM    491  CA  ARG A  63     -28.006   4.018  10.625  1.00 32.18           C  \nATOM    492  C   ARG A  63     -26.801   3.089  10.699  1.00 37.92           C  \nATOM    493  O   ARG A  63     -25.828   3.266   9.957  1.00 40.28           O  \nATOM    494  CB  ARG A  63     -28.712   3.869   9.275  1.00 38.26           C  \nATOM    495  CG  ARG A  63     -29.179   2.452   8.958  1.00 61.06           C  \nATOM    496  CD  ARG A  63     -30.417   2.070   9.752  1.00 58.78           C  \nATOM    497  NE  ARG A  63     -31.646   2.414   9.041  1.00 73.90           N  \nATOM    498  CZ  ARG A  63     -32.176   1.686   8.060  1.00 75.16           C  \nATOM    499  NH1 ARG A  63     -31.590   0.565   7.659  1.00 67.62           N  \nATOM    500  NH2 ARG A  63     -33.298   2.083   7.475  1.00 66.76           N  \nATOM    501  N   ALA A  64     -26.875   2.096  11.578  1.00 39.03           N  \nATOM    502  CA  ALA A  64     -25.768   1.184  11.818  1.00 41.62           C  \nATOM    503  C   ALA A  64     -25.941  -0.090  11.002  1.00 31.95           C  \nATOM    504  O   ALA A  64     -27.035  -0.658  10.939  1.00 32.08           O  \nATOM    505  CB  ALA A  64     -25.662   0.841  13.304  1.00 39.73           C  \nATOM    506  N   ARG A  65     -24.851  -0.531  10.376  1.00 31.04           N  \nATOM    507  CA  ARG A  65     -24.833  -1.761   9.599  1.00 31.83           C  \nATOM    508  C   ARG A  65     -23.609  -2.581   9.981  1.00 31.27           C  \nATOM    509  O   ARG A  65     -22.592  -2.040  10.422  1.00 25.89           O  \nATOM    510  CB  ARG A  65     -24.825  -1.476   8.089  1.00 39.41           C  \nATOM    511  CG  ARG A  65     -23.741  -0.506   7.640  1.00 43.27           C  \nATOM    512  CD  ARG A  65     -23.806  -0.261   6.139  1.00 33.57           C  \nATOM    513  NE  ARG A  65     -22.884   0.788   5.709  1.00 35.96           N  \nATOM    514  CZ  ARG A  65     -21.601   0.595   5.410  1.00 45.38           C  \nATOM    515  NH1 ARG A  65     -21.060  -0.615   5.491  1.00 33.30           N  \nATOM    516  NH2 ARG A  65     -20.854   1.621   5.029  1.00 35.71           N  \nATOM    517  N   SER A  66     -23.720  -3.894   9.811  1.00 31.50           N  \nATOM    518  CA  SER A  66     -22.636  -4.806  10.158  1.00 43.18           C  \nATOM    519  C   SER A  66     -21.925  -5.309   8.907  1.00 43.29           C  \nATOM    520  O   SER A  66     -21.017  -6.136   8.988  1.00 57.40           O  \nATOM    521  CB  SER A  66     -23.170  -5.987  10.969  1.00 52.52           C  \nATOM    522  OG  SER A  66     -24.139  -6.712  10.233  1.00 32.86           O  \nHETATM  523  O   HOH A 101     -15.156   1.771  18.304  1.00 28.67           O  \nHETATM  524  O   HOH A 102     -34.358  25.671  13.835  1.00 28.71           O  \nHETATM  525  O   HOH A 103     -21.221  22.900   8.980  1.00 22.51           O  \nTER     526      HOH A 103                                                       \nEND   \n",
           "type": "blob"
          }
         ],
         "kwargs": {
          "defaultRepresentation": true,
          "ext": "pdb"
         },
         "methodName": "loadFile",
         "reconstruc_color_scheme": false,
         "target": "Stage",
         "type": "call_method"
        }
       ],
       "_ngl_original_stage_parameters": {},
       "_ngl_repr_dict": {},
       "_ngl_serialize": false,
       "_ngl_version": "",
       "_ngl_view_id": [],
       "_player_dict": {},
       "_scene_position": {},
       "_scene_rotation": {},
       "_synced_model_ids": [],
       "_synced_repr_model_ids": [],
       "_view_height": "",
       "_view_width": "",
       "background": "white",
       "frame": 0,
       "gui_style": null,
       "layout": "IPY_MODEL_d0d1bc8da7c049bb89d333a33091f32e",
       "max_frame": 0,
       "n_components": 0,
       "picked": {}
      }
     },
     "53a0bd4172834d8eb3d6ae5357a9d10b": {
      "model_module": "@jupyter-widgets/base",
      "model_module_version": "1.2.0",
      "model_name": "LayoutModel",
      "state": {}
     },
     "54ebb7f7c1ab447d9d83a3483b9ee067": {
      "model_module": "@jupyter-widgets/base",
      "model_module_version": "1.2.0",
      "model_name": "LayoutModel",
      "state": {}
     },
     "5dbd99aedf0d4871970a99faa95ab4e4": {
      "model_module": "@jupyter-widgets/controls",
      "model_module_version": "1.5.0",
      "model_name": "LinkModel",
      "state": {
       "source": [
        "IPY_MODEL_8af069f7f2824aa7a710af056358dfaf",
        "max"
       ],
       "target": [
        "IPY_MODEL_7225a2885d6c4d3a94df85c990bb001c",
        "max_frame"
       ]
      }
     },
     "613c15f5739c4f3e8ad5085021a17559": {
      "model_module": "@jupyter-widgets/controls",
      "model_module_version": "1.5.0",
      "model_name": "IntSliderModel",
      "state": {
       "layout": "IPY_MODEL_a38475218eb54accb8517141165dfdde",
       "max": 0,
       "style": "IPY_MODEL_ccbd78a7947d4a80aa067741bbdbd282"
      }
     },
     "6333940a842d43539a9d7010d07bf48f": {
      "model_module": "@jupyter-widgets/controls",
      "model_module_version": "1.5.0",
      "model_name": "ButtonStyleModel",
      "state": {}
     },
     "679e18d1cba44ef9b4097e4a60faaf21": {
      "model_module": "@jupyter-widgets/controls",
      "model_module_version": "1.5.0",
      "model_name": "HBoxModel",
      "state": {
       "children": [
        "IPY_MODEL_c44cdd1a78c549c0916fc00ef989b339",
        "IPY_MODEL_e7a63a28b6df4884bc0702ba0909546c"
       ],
       "layout": "IPY_MODEL_aeb556ff703d4702971bb8fc3b7266fe"
      }
     },
     "68ff4b1947f344909fbc750bf02642a6": {
      "model_module": "@jupyter-widgets/base",
      "model_module_version": "1.2.0",
      "model_name": "LayoutModel",
      "state": {
       "width": "34px"
      }
     },
     "6ad0decca9ee410094046af9a0cdf74c": {
      "model_module": "@jupyter-widgets/controls",
      "model_module_version": "1.5.0",
      "model_name": "DescriptionStyleModel",
      "state": {
       "description_width": ""
      }
     },
     "6da77bc172af428ea725bf3db04e5427": {
      "model_module": "@jupyter-widgets/controls",
      "model_module_version": "1.5.0",
      "model_name": "HBoxModel",
      "state": {
       "children": [
        "IPY_MODEL_8af069f7f2824aa7a710af056358dfaf",
        "IPY_MODEL_b105ff5f185e4762b2cd0c6a224c421c"
       ],
       "layout": "IPY_MODEL_9cb01a594cf74e81af06356d75b2990a"
      }
     },
     "6fc105fa3a794aaca026375a08b51d17": {
      "model_module": "@jupyter-widgets/base",
      "model_module_version": "1.2.0",
      "model_name": "LayoutModel",
      "state": {}
     },
     "71473cf8788e4ddf99cfb8281d9a9cd0": {
      "model_module": "@jupyter-widgets/controls",
      "model_module_version": "1.5.0",
      "model_name": "ImageModel",
      "state": {
       "layout": "IPY_MODEL_8e8e7122485647a18e5c9d659b0c9170",
       "width": "900.0"
      }
     },
     "7225a2885d6c4d3a94df85c990bb001c": {
      "model_module": "nglview-js-widgets",
      "model_module_version": "2.7.7",
      "model_name": "NGLModel",
      "state": {
       "_camera_orientation": [
        7.374655865375953,
        -0.11730202790558848,
        -70.15792281726536,
        0,
        33.27735952284224,
        -62.09813182683613,
        3.6017786906257077,
        0,
        -61.763785805167885,
        -33.471505893565634,
        -6.436342063799109,
        0,
        22.470288276672363,
        -13.10406231880188,
        -16.124666929244995,
        1
       ],
       "_camera_str": "orthographic",
       "_gui_theme": null,
       "_ibtn_fullscreen": "IPY_MODEL_303fafa569744f8b98b0ffe139cc2b6e",
       "_igui": null,
       "_iplayer": "IPY_MODEL_6da77bc172af428ea725bf3db04e5427",
       "_ngl_color_dict": {},
       "_ngl_coordinate_resource": {},
       "_ngl_full_stage_parameters": {
        "ambientColor": 14540253,
        "ambientIntensity": 0.2,
        "backgroundColor": "white",
        "cameraEyeSep": 0.3,
        "cameraFov": 40,
        "cameraType": "perspective",
        "clipDist": 10,
        "clipFar": 100,
        "clipNear": 0,
        "fogFar": 100,
        "fogNear": 50,
        "hoverTimeout": 0,
        "impostor": true,
        "lightColor": 14540253,
        "lightIntensity": 1,
        "mousePreset": "default",
        "panSpeed": 1,
        "quality": "medium",
        "rotateSpeed": 2,
        "sampleLevel": 0,
        "tooltip": true,
        "workerDefault": true,
        "zoomSpeed": 1.2
       },
       "_ngl_msg_archive": [
        {
         "args": [
          {
           "binary": false,
           "data": "ATOM      1  N   GLU A   1     -35.002  23.721  10.106  1.00 31.16           N  \nATOM      2  CA  GLU A   1     -34.808  22.363  10.600  1.00 38.49           C  \nATOM      3  C   GLU A   1     -34.161  21.487   9.532  1.00 33.79           C  \nATOM      4  O   GLU A   1     -34.848  20.775   8.799  1.00 30.23           O  \nATOM      5  CB  GLU A   1     -36.142  21.759  11.042  1.00 35.36           C  \nATOM      6  CG  GLU A   1     -36.798  22.497  12.198  1.00 51.28           C  \nATOM      7  CD  GLU A   1     -38.121  21.881  12.609  1.00 45.59           C  \nATOM      8  OE1 GLU A   1     -38.662  21.061  11.838  1.00 45.91           O  \nATOM      9  OE2 GLU A   1     -38.618  22.216  13.705  1.00 66.17           O  \nATOM     10  N   LEU A   2     -32.834  21.542   9.452  1.00 25.08           N  \nATOM     11  CA  LEU A   2     -32.081  20.794   8.453  1.00 28.95           C  \nATOM     12  C   LEU A   2     -31.782  19.399   8.990  1.00 29.65           C  \nATOM     13  O   LEU A   2     -31.148  19.255  10.040  1.00 39.99           O  \nATOM     14  CB  LEU A   2     -30.788  21.526   8.099  1.00 30.68           C  \nATOM     15  CG  LEU A   2     -30.950  23.002   7.727  1.00 38.41           C  \nATOM     16  CD1 LEU A   2     -29.599  23.636   7.434  1.00 29.08           C  \nATOM     17  CD2 LEU A   2     -31.890  23.165   6.542  1.00 53.76           C  \nATOM     18  N   TYR A   3     -32.234  18.379   8.268  1.00 28.35           N  \nATOM     19  CA  TYR A   3     -32.049  16.997   8.681  1.00 28.12           C  \nATOM     20  C   TYR A   3     -30.782  16.417   8.064  1.00 32.27           C  \nATOM     21  O   TYR A   3     -30.323  16.858   7.007  1.00 28.31           O  \nATOM     22  CB  TYR A   3     -33.256  16.149   8.277  1.00 31.24           C  \nATOM     23  CG  TYR A   3     -34.566  16.633   8.857  1.00 36.67           C  \nATOM     24  CD1 TYR A   3     -35.121  16.025   9.974  1.00 27.41           C  \nATOM     25  CD2 TYR A   3     -35.246  17.701   8.287  1.00 49.25           C  \nATOM     26  CE1 TYR A   3     -36.318  16.464  10.506  1.00 36.03           C  \nATOM     27  CE2 TYR A   3     -36.443  18.148   8.813  1.00 47.08           C  \nATOM     28  CZ  TYR A   3     -36.974  17.527   9.922  1.00 34.98           C  \nATOM     29  OH  TYR A   3     -38.166  17.970  10.447  1.00 35.89           O  \nATOM     30  N   HIS A   4     -30.219  15.420   8.743  1.00 27.80           N  \nATOM     31  CA  HIS A   4     -29.024  14.732   8.281  1.00 19.35           C  \nATOM     32  C   HIS A   4     -29.259  13.228   8.327  1.00 26.14           C  \nATOM     33  O   HIS A   4     -30.118  12.733   9.061  1.00 27.94           O  \nATOM     34  CB  HIS A   4     -27.794  15.090   9.130  1.00 15.38           C  \nATOM     35  CG  HIS A   4     -27.427  16.541   9.088  1.00 20.19           C  \nATOM     36  ND1 HIS A   4     -26.191  16.983   8.669  1.00 18.69           N  \nATOM     37  CD2 HIS A   4     -28.132  17.650   9.415  1.00 23.59           C  \nATOM     38  CE1 HIS A   4     -26.150  18.301   8.738  1.00 19.88           C  \nATOM     39  NE2 HIS A   4     -27.315  18.731   9.188  1.00 24.85           N  \nATOM     40  N   TYR A   5     -28.477  12.504   7.529  1.00 38.79           N  \nATOM     41  CA  TYR A   5     -28.554  11.052   7.486  1.00 27.99           C  \nATOM     42  C   TYR A   5     -27.200  10.510   7.057  1.00 25.23           C  \nATOM     43  O   TYR A   5     -26.478  11.146   6.284  1.00 22.78           O  \nATOM     44  CB  TYR A   5     -29.652  10.570   6.529  1.00 24.87           C  \nATOM     45  CG  TYR A   5     -29.814   9.065   6.476  1.00 30.43           C  \nATOM     46  CD1 TYR A   5     -29.040   8.292   5.619  1.00 28.55           C  \nATOM     47  CD2 TYR A   5     -30.744   8.419   7.279  1.00 32.46           C  \nATOM     48  CE1 TYR A   5     -29.185   6.919   5.568  1.00 36.68           C  \nATOM     49  CE2 TYR A   5     -30.896   7.046   7.234  1.00 31.65           C  \nATOM     50  CZ  TYR A   5     -30.115   6.301   6.377  1.00 34.48           C  \nATOM     51  OH  TYR A   5     -30.263   4.934   6.328  1.00 44.33           O  \nATOM     52  N   GLN A   6     -26.861   9.328   7.567  1.00 34.47           N  \nATOM     53  CA  GLN A   6     -25.574   8.717   7.271  1.00 33.16           C  \nATOM     54  C   GLN A   6     -25.574   7.287   7.787  1.00 34.04           C  \nATOM     55  O   GLN A   6     -26.147   7.003   8.843  1.00 33.71           O  \nATOM     56  CB  GLN A   6     -24.427   9.516   7.907  1.00 34.50           C  \nATOM     57  CG  GLN A   6     -23.051   8.884   7.750  1.00 52.88           C  \nATOM     58  CD  GLN A   6     -21.949   9.748   8.334  1.00 54.62           C  \nATOM     59  OE1 GLN A   6     -22.196  10.869   8.779  1.00 32.80           O  \nATOM     60  NE2 GLN A   6     -20.726   9.230   8.336  1.00 45.23           N  \nATOM     61  N   GLU A   7     -24.930   6.398   7.036  1.00 34.16           N  \nATOM     62  CA  GLU A   7     -24.786   5.000   7.412  1.00 35.09           C  \nATOM     63  C   GLU A   7     -23.351   4.723   7.838  1.00 45.21           C  \nATOM     64  O   GLU A   7     -22.400   5.145   7.170  1.00 41.88           O  \nATOM     65  CB  GLU A   7     -25.170   4.072   6.259  1.00 36.68           C  \nATOM     66  CG  GLU A   7     -26.594   4.253   5.768  1.00 51.43           C  \nATOM     67  CD  GLU A   7     -27.027   3.157   4.813  1.00 55.52           C  \nATOM     68  OE1 GLU A   7     -26.202   2.269   4.512  1.00 39.63           O  \nATOM     69  OE2 GLU A   7     -28.193   3.183   4.367  1.00 65.11           O  \nATOM     70  N   CYS A   8     -23.203   4.007   8.949  1.00 44.23           N  \nATOM     71  CA  CYS A   8     -21.892   3.692   9.496  1.00 33.22           C  \nATOM     72  C   CYS A   8     -21.856   2.230   9.914  1.00 36.82           C  \nATOM     73  O   CYS A   8     -22.893   1.593  10.116  1.00 32.94           O  \nATOM     74  CB  CYS A   8     -21.549   4.593  10.692  1.00 49.21           C  \nATOM     75  SG  CYS A   8     -22.763   4.563  12.032  1.00 44.42           S  \nATOM     76  N   VAL A   9     -20.639   1.709  10.052  1.00 26.95           N  \nATOM     77  CA  VAL A   9     -20.433   0.324  10.458  1.00 32.79           C  \nATOM     78  C   VAL A   9     -20.492   0.232  11.976  1.00 39.33           C  \nATOM     79  O   VAL A   9     -19.955   1.090  12.688  1.00 35.69           O  \nATOM     80  CB  VAL A   9     -19.091  -0.203   9.918  1.00 29.77           C  \nATOM     81  CG1 VAL A   9     -18.950  -1.691  10.204  1.00 29.92           C  \nATOM     82  CG2 VAL A   9     -18.969   0.076   8.428  1.00 31.87           C  \nATOM     83  N   ARG A  10     -21.145  -0.815  12.477  1.00 35.01           N  \nATOM     84  CA  ARG A  10     -21.294  -0.987  13.917  1.00 33.43           C  \nATOM     85  C   ARG A  10     -19.932  -1.016  14.598  1.00 35.84           C  \nATOM     86  O   ARG A  10     -19.007  -1.694  14.141  1.00 33.69           O  \nATOM     87  CB  ARG A  10     -22.060  -2.276  14.218  1.00 37.86           C  \nATOM     88  CG  ARG A  10     -23.500  -2.273  13.733  1.00 48.77           C  \nATOM     89  CD  ARG A  10     -24.249  -3.514  14.190  1.00 33.84           C  \nATOM     90  NE  ARG A  10     -25.575  -3.610  13.583  1.00 24.35           N  \nATOM     91  CZ  ARG A  10     -26.639  -2.918  13.982  1.00 18.91           C  \nATOM     92  NH1 ARG A  10     -26.551  -2.064  14.994  1.00 43.51           N  \nATOM     93  NH2 ARG A  10     -27.800  -3.080  13.362  1.00 23.67           N  \nATOM     94  N   GLY A  11     -19.813  -0.275  15.694  1.00 55.52           N  \nATOM     95  CA  GLY A  11     -18.600  -0.239  16.495  1.00 59.77           C  \nATOM     96  C   GLY A  11     -17.596   0.817  16.085  1.00 54.98           C  \nATOM     97  O   GLY A  11     -17.025   1.496  16.941  1.00 71.18           O  \nATOM     98  N   THR A  12     -17.368   0.968  14.783  1.00 48.29           N  \nATOM     99  CA  THR A  12     -16.383   1.928  14.305  1.00 48.71           C  \nATOM    100  C   THR A  12     -16.783   3.345  14.696  1.00 40.84           C  \nATOM    101  O   THR A  12     -17.967   3.690  14.723  1.00 39.83           O  \nATOM    102  CB  THR A  12     -16.235   1.826  12.787  1.00 63.95           C  \nATOM    103  OG1 THR A  12     -17.498   2.082  12.161  1.00 42.24           O  \nATOM    104  CG2 THR A  12     -15.744   0.439  12.388  1.00 50.24           C  \nATOM    105  N   THR A  13     -15.782   4.164  15.005  1.00 40.95           N  \nATOM    106  CA  THR A  13     -16.028   5.549  15.373  1.00 41.94           C  \nATOM    107  C   THR A  13     -16.453   6.355  14.148  1.00 47.33           C  \nATOM    108  O   THR A  13     -16.211   5.969  13.001  1.00 63.22           O  \nATOM    109  CB  THR A  13     -14.775   6.165  15.999  1.00 51.58           C  \nATOM    110  OG1 THR A  13     -14.245   5.273  16.989  1.00 58.38           O  \nATOM    111  CG2 THR A  13     -15.095   7.502  16.653  1.00 39.75           C  \nATOM    112  N   VAL A  14     -17.099   7.492  14.404  1.00 52.39           N  \nATOM    113  CA  VAL A  14     -17.555   8.388  13.349  1.00 52.73           C  \nATOM    114  C   VAL A  14     -17.292   9.815  13.808  1.00 40.07           C  \nATOM    115  O   VAL A  14     -17.784  10.230  14.864  1.00 42.11           O  \nATOM    116  CB  VAL A  14     -19.048   8.197  13.027  1.00 36.55           C  \nATOM    117  CG1 VAL A  14     -19.470   9.114  11.886  1.00 43.43           C  \nATOM    118  CG2 VAL A  14     -19.339   6.743  12.687  1.00 35.73           C  \nATOM    119  N   LEU A  15     -16.508  10.554  13.028  1.00 34.43           N  \nATOM    120  CA  LEU A  15     -16.244  11.964  13.275  1.00 41.42           C  \nATOM    121  C   LEU A  15     -17.067  12.804  12.307  1.00 39.05           C  \nATOM    122  O   LEU A  15     -17.227  12.441  11.138  1.00 71.88           O  \nATOM    123  CB  LEU A  15     -14.757  12.286  13.106  1.00 36.97           C  \nATOM    124  CG  LEU A  15     -13.792  11.752  14.169  1.00 53.94           C  \nATOM    125  CD1 LEU A  15     -13.766  10.231  14.189  1.00 46.05           C  \nATOM    126  CD2 LEU A  15     -12.393  12.307  13.942  1.00 45.03           C  \nATOM    127  N   LEU A  16     -17.585  13.929  12.797  1.00 31.17           N  \nATOM    128  CA  LEU A  16     -18.436  14.792  11.993  1.00 36.73           C  \nATOM    129  C   LEU A  16     -18.136  16.247  12.320  1.00 33.43           C  \nATOM    130  O   LEU A  16     -17.582  16.572  13.375  1.00 47.28           O  \nATOM    131  CB  LEU A  16     -19.922  14.492  12.229  1.00 43.84           C  \nATOM    132  CG  LEU A  16     -20.378  13.063  11.922  1.00 36.74           C  \nATOM    133  CD1 LEU A  16     -21.799  12.843  12.413  1.00 32.05           C  \nATOM    134  CD2 LEU A  16     -20.276  12.765  10.433  1.00 44.63           C  \nATOM    135  N   LYS A  17     -18.512  17.122  11.392  1.00 39.80           N  \nATOM    136  CA  LYS A  17     -18.315  18.555  11.546  1.00 48.68           C  \nATOM    137  C   LYS A  17     -19.476  19.159  12.324  1.00 42.24           C  \nATOM    138  O   LYS A  17     -20.625  18.728  12.185  1.00 50.57           O  \nATOM    139  CB  LYS A  17     -18.195  19.228  10.176  1.00 47.99           C  \nATOM    140  CG  LYS A  17     -17.874  20.716  10.224  1.00 41.86           C  \nATOM    141  CD  LYS A  17     -16.445  20.968  10.677  1.00 48.56           C  \nATOM    142  CE  LYS A  17     -16.157  22.456  10.801  1.00 61.08           C  \nATOM    143  NZ  LYS A  17     -14.740  22.723  11.174  1.00 47.97           N  \nATOM    144  N   GLU A  18     -19.171  20.157  13.140  1.00 60.85           N  \nATOM    145  CA  GLU A  18     -20.207  20.827  13.914  1.00 61.04           C  \nATOM    146  C   GLU A  18     -21.027  21.730  12.998  1.00 32.95           C  \nATOM    147  O   GLU A  18     -20.452  22.492  12.214  1.00 35.94           O  \nATOM    148  CB  GLU A  18     -19.587  21.647  15.043  1.00 52.92           C  \nATOM    149  CG  GLU A  18     -18.830  20.822  16.069  1.00 42.02           C  \nATOM    150  CD  GLU A  18     -18.228  21.674  17.170  1.00 53.13           C  \nATOM    151  OE1 GLU A  18     -18.404  22.910  17.130  1.00 55.47           O  \nATOM    152  OE2 GLU A  18     -17.579  21.108  18.074  1.00 47.76           O  \nATOM    153  N   PRO A  19     -22.362  21.680  13.061  1.00 29.71           N  \nATOM    154  CA  PRO A  19     -23.160  22.587  12.222  1.00 29.52           C  \nATOM    155  C   PRO A  19     -23.037  24.044  12.629  1.00 29.46           C  \nATOM    156  O   PRO A  19     -23.361  24.924  11.822  1.00 30.45           O  \nATOM    157  CB  PRO A  19     -24.593  22.071  12.405  1.00 27.55           C  \nATOM    158  CG  PRO A  19     -24.585  21.405  13.734  1.00 41.38           C  \nATOM    159  CD  PRO A  19     -23.210  20.822  13.909  1.00 42.01           C  \nATOM    160  N   CYS A  20     -22.584  24.325  13.848  1.00 45.28           N  \nATOM    161  CA  CYS A  20     -22.340  25.691  14.287  1.00 56.04           C  \nATOM    162  C   CYS A  20     -21.210  25.679  15.306  1.00 41.46           C  \nATOM    163  O   CYS A  20     -20.757  24.622  15.753  1.00 35.57           O  \nATOM    164  CB  CYS A  20     -23.601  26.330  14.877  1.00 45.60           C  \nATOM    165  SG  CYS A  20     -24.547  25.260  15.981  1.00 44.35           S  \nATOM    166  N   SER A  21     -20.755  26.877  15.670  1.00 35.19           N  \nATOM    167  CA  SER A  21     -19.642  27.024  16.598  1.00 46.54           C  \nATOM    168  C   SER A  21     -19.962  26.386  17.945  1.00 44.57           C  \nATOM    169  O   SER A  21     -19.336  25.393  18.329  1.00 35.44           O  \nATOM    170  CB  SER A  21     -19.295  28.503  16.779  1.00 50.71           C  \nATOM    171  OG  SER A  21     -20.425  29.245  17.204  1.00 60.93           O  \nATOM    172  N   SER A  22     -20.932  26.947  18.666  1.00 35.35           N  \nATOM    173  CA  SER A  22     -21.295  26.437  19.983  1.00 32.62           C  \nATOM    174  C   SER A  22     -22.584  25.627  19.912  1.00 38.68           C  \nATOM    175  O   SER A  22     -22.544  24.403  19.750  1.00 33.37           O  \nATOM    176  CB  SER A  22     -21.441  27.590  20.979  1.00 40.07           C  \nATOM    177  OG  SER A  22     -22.455  28.492  20.570  1.00 41.24           O  \nATOM    178  N   GLY A  23     -23.729  26.296  20.028  1.00 26.21           N  \nATOM    179  CA  GLY A  23     -25.009  25.614  20.000  1.00 29.82           C  \nATOM    180  C   GLY A  23     -25.199  24.672  21.171  1.00 35.18           C  \nATOM    181  O   GLY A  23     -24.302  24.524  22.006  1.00 42.12           O  \nATOM    182  N   THR A  24     -26.362  24.028  21.242  1.00 31.94           N  \nATOM    183  CA  THR A  24     -26.686  23.097  22.315  1.00 26.87           C  \nATOM    184  C   THR A  24     -26.986  21.730  21.715  1.00 28.36           C  \nATOM    185  O   THR A  24     -27.813  21.617  20.806  1.00 30.58           O  \nATOM    186  CB  THR A  24     -27.882  23.592  23.135  1.00 26.11           C  \nATOM    187  OG1 THR A  24     -29.081  23.479  22.359  1.00 22.52           O  \nATOM    188  CG2 THR A  24     -27.686  25.046  23.543  1.00 28.41           C  \nATOM    189  N   TYR A  25     -26.315  20.702  22.224  1.00 30.69           N  \nATOM    190  CA  TYR A  25     -26.441  19.346  21.711  1.00 26.05           C  \nATOM    191  C   TYR A  25     -27.405  18.534  22.568  1.00 27.33           C  \nATOM    192  O   TYR A  25     -27.547  18.772  23.770  1.00 26.84           O  \nATOM    193  CB  TYR A  25     -25.068  18.668  21.671  1.00 23.29           C  \nATOM    194  CG  TYR A  25     -25.107  17.158  21.612  1.00 38.86           C  \nATOM    195  CD1 TYR A  25     -25.002  16.396  22.768  1.00 33.96           C  \nATOM    196  CD2 TYR A  25     -25.240  16.495  20.401  1.00 40.83           C  \nATOM    197  CE1 TYR A  25     -25.032  15.016  22.719  1.00 28.14           C  \nATOM    198  CE2 TYR A  25     -25.272  15.115  20.342  1.00 37.59           C  \nATOM    199  CZ  TYR A  25     -25.167  14.381  21.504  1.00 38.55           C  \nATOM    200  OH  TYR A  25     -25.197  13.007  21.451  1.00 54.40           O  \nATOM    201  N   GLU A  26     -28.073  17.570  21.933  1.00 32.20           N  \nATOM    202  CA  GLU A  26     -29.014  16.699  22.635  1.00 26.99           C  \nATOM    203  C   GLU A  26     -29.027  15.352  21.929  1.00 28.80           C  \nATOM    204  O   GLU A  26     -29.515  15.250  20.800  1.00 31.32           O  \nATOM    205  CB  GLU A  26     -30.410  17.315  22.666  1.00 25.49           C  \nATOM    206  CG  GLU A  26     -31.497  16.393  23.201  1.00 27.99           C  \nATOM    207  CD  GLU A  26     -32.857  17.061  23.234  1.00 37.69           C  \nATOM    208  OE1 GLU A  26     -32.911  18.307  23.171  1.00 50.05           O  \nATOM    209  OE2 GLU A  26     -33.873  16.339  23.317  1.00 27.69           O  \nATOM    210  N   GLY A  27     -28.505  14.322  22.591  1.00 32.78           N  \nATOM    211  CA  GLY A  27     -28.444  12.999  22.010  1.00 40.43           C  \nATOM    212  C   GLY A  27     -28.528  11.928  23.075  1.00 30.90           C  \nATOM    213  O   GLY A  27     -28.692  12.212  24.263  1.00 38.01           O  \nATOM    214  N   ASN A  28     -28.410  10.678  22.629  1.00 33.08           N  \nATOM    215  CA  ASN A  28     -28.477   9.515  23.502  1.00 38.88           C  \nATOM    216  C   ASN A  28     -27.095   9.012  23.906  1.00 32.36           C  \nATOM    217  O   ASN A  28     -26.955   7.848  24.296  1.00 24.04           O  \nATOM    218  CB  ASN A  28     -29.258   8.392  22.818  1.00 35.03           C  \nATOM    219  CG  ASN A  28     -30.632   8.833  22.353  1.00 41.95           C  \nATOM    220  OD1 ASN A  28     -31.601   8.783  23.111  1.00 30.37           O  \nATOM    221  ND2 ASN A  28     -30.724   9.261  21.099  1.00 50.84           N  \nATOM    222  N   SER A  29     -26.072   9.860  23.813  1.00 33.25           N  \nATOM    223  CA  SER A  29     -24.715   9.477  24.174  1.00 33.06           C  \nATOM    224  C   SER A  29     -23.922  10.744  24.440  1.00 38.34           C  \nATOM    225  O   SER A  29     -24.263  11.804  23.903  1.00 36.06           O  \nATOM    226  CB  SER A  29     -24.055   8.650  23.061  1.00 37.05           C  \nATOM    227  OG  SER A  29     -24.002   9.379  21.847  1.00 65.69           O  \nATOM    228  N   PRO A  30     -22.869  10.677  25.255  1.00 50.75           N  \nATOM    229  CA  PRO A  30     -22.118  11.895  25.576  1.00 38.97           C  \nATOM    230  C   PRO A  30     -21.505  12.524  24.334  1.00 44.89           C  \nATOM    231  O   PRO A  30     -21.214  11.851  23.343  1.00 35.92           O  \nATOM    232  CB  PRO A  30     -21.039  11.406  26.552  1.00 39.26           C  \nATOM    233  CG  PRO A  30     -20.938   9.937  26.317  1.00 51.70           C  \nATOM    234  CD  PRO A  30     -22.309   9.489  25.922  1.00 56.22           C  \nATOM    235  N   PHE A  31     -21.314  13.839  24.403  1.00 42.79           N  \nATOM    236  CA  PHE A  31     -20.755  14.610  23.300  1.00 35.82           C  \nATOM    237  C   PHE A  31     -19.236  14.621  23.419  1.00 40.43           C  \nATOM    238  O   PHE A  31     -18.692  15.091  24.425  1.00 45.48           O  \nATOM    239  CB  PHE A  31     -21.319  16.030  23.315  1.00 34.16           C  \nATOM    240  CG  PHE A  31     -20.827  16.897  22.192  1.00 43.94           C  \nATOM    241  CD1 PHE A  31     -21.327  16.745  20.910  1.00 40.02           C  \nATOM    242  CD2 PHE A  31     -19.876  17.876  22.423  1.00 53.31           C  \nATOM    243  CE1 PHE A  31     -20.879  17.546  19.877  1.00 37.41           C  \nATOM    244  CE2 PHE A  31     -19.425  18.680  21.395  1.00 36.24           C  \nATOM    245  CZ  PHE A  31     -19.927  18.515  20.121  1.00 32.72           C  \nATOM    246  N   HIS A  32     -18.553  14.101  22.396  1.00 42.35           N  \nATOM    247  CA  HIS A  32     -17.097  13.981  22.391  1.00 40.74           C  \nATOM    248  C   HIS A  32     -16.508  14.996  21.419  1.00 36.19           C  \nATOM    249  O   HIS A  32     -16.304  14.684  20.236  1.00 45.98           O  \nATOM    250  CB  HIS A  32     -16.671  12.561  22.009  1.00 37.84           C  \nATOM    251  CG  HIS A  32     -17.386  11.488  22.769  1.00 43.87           C  \nATOM    252  ND1 HIS A  32     -18.498  10.842  22.274  1.00 46.90           N  \nATOM    253  CD2 HIS A  32     -17.147  10.947  23.986  1.00 59.04           C  \nATOM    254  CE1 HIS A  32     -18.913   9.948  23.154  1.00 43.84           C  \nATOM    255  NE2 HIS A  32     -18.111   9.992  24.202  1.00 56.63           N  \nATOM    256  N   PRO A  33     -16.214  16.217  21.858  1.00 32.12           N  \nATOM    257  CA  PRO A  33     -15.606  17.197  20.955  1.00 38.26           C  \nATOM    258  C   PRO A  33     -14.118  16.956  20.761  1.00 51.25           C  \nATOM    259  O   PRO A  33     -13.417  16.459  21.646  1.00 36.09           O  \nATOM    260  CB  PRO A  33     -15.858  18.532  21.665  1.00 33.62           C  \nATOM    261  CG  PRO A  33     -15.908  18.175  23.107  1.00 39.48           C  \nATOM    262  CD  PRO A  33     -16.506  16.794  23.183  1.00 48.05           C  \nATOM    263  N   LEU A  34     -13.643  17.320  19.572  1.00 41.31           N  \nATOM    264  CA  LEU A  34     -12.234  17.250  19.217  1.00 40.73           C  \nATOM    265  C   LEU A  34     -11.808  18.603  18.660  1.00 35.77           C  \nATOM    266  O   LEU A  34     -12.606  19.540  18.566  1.00 37.53           O  \nATOM    267  CB  LEU A  34     -11.972  16.130  18.201  1.00 39.90           C  \nATOM    268  CG  LEU A  34     -12.307  14.707  18.654  1.00 43.19           C  \nATOM    269  CD1 LEU A  34     -12.115  13.724  17.509  1.00 55.78           C  \nATOM    270  CD2 LEU A  34     -11.458  14.306  19.851  1.00 62.47           C  \nATOM    271  N   ALA A  35     -10.537  18.704  18.285  1.00 42.24           N  \nATOM    272  CA  ALA A  35     -10.017  19.947  17.740  1.00 61.41           C  \nATOM    273  C   ALA A  35     -10.598  20.206  16.351  1.00 55.31           C  \nATOM    274  O   ALA A  35     -11.198  19.331  15.719  1.00 51.89           O  \nATOM    275  CB  ALA A  35      -8.491  19.906  17.679  1.00 63.48           C  \nATOM    276  N   ASP A  36     -10.416  21.439  15.879  1.00 58.01           N  \nATOM    277  CA  ASP A  36     -10.860  21.850  14.547  1.00 59.85           C  \nATOM    278  C   ASP A  36     -12.380  21.797  14.412  1.00 57.48           C  \nATOM    279  O   ASP A  36     -12.909  21.572  13.320  1.00 61.22           O  \nATOM    280  CB  ASP A  36     -10.200  20.996  13.460  1.00 71.53           C  \nATOM    281  CG  ASP A  36      -8.686  21.061  13.506  1.00 76.55           C  \nATOM    282  OD1 ASP A  36      -8.147  22.101  13.941  1.00 84.11           O  \nATOM    283  OD2 ASP A  36      -8.034  20.073  13.108  1.00 63.26           O  \nATOM    284  N   ASN A  37     -13.093  22.007  15.518  1.00 58.24           N  \nATOM    285  CA  ASN A  37     -14.554  22.062  15.520  1.00 51.74           C  \nATOM    286  C   ASN A  37     -15.154  20.793  14.907  1.00 49.02           C  \nATOM    287  O   ASN A  37     -15.832  20.822  13.878  1.00 48.92           O  \nATOM    288  CB  ASN A  37     -15.050  23.314  14.788  1.00 51.02           C  \nATOM    289  CG  ASN A  37     -14.663  24.596  15.499  1.00 54.84           C  \nATOM    290  OD1 ASN A  37     -14.507  24.619  16.720  1.00 77.82           O  \nATOM    291  ND2 ASN A  37     -14.509  25.672  14.737  1.00 57.57           N  \nATOM    292  N   LYS A  38     -14.891  19.670  15.569  1.00 45.61           N  \nATOM    293  CA  LYS A  38     -15.433  18.379  15.173  1.00 46.30           C  \nATOM    294  C   LYS A  38     -15.951  17.658  16.409  1.00 57.91           C  \nATOM    295  O   LYS A  38     -15.578  17.978  17.540  1.00 48.38           O  \nATOM    296  CB  LYS A  38     -14.379  17.508  14.473  1.00 45.22           C  \nATOM    297  CG  LYS A  38     -13.686  18.170  13.293  1.00 55.24           C  \nATOM    298  CD  LYS A  38     -12.523  17.319  12.802  1.00 58.20           C  \nATOM    299  CE  LYS A  38     -11.753  18.001  11.682  1.00 73.16           C  \nATOM    300  NZ  LYS A  38     -12.548  18.109  10.430  1.00 94.39           N  \nATOM    301  N   PHE A  39     -16.811  16.667  16.186  1.00 36.80           N  \nATOM    302  CA  PHE A  39     -17.291  15.825  17.272  1.00 27.99           C  \nATOM    303  C   PHE A  39     -17.355  14.380  16.803  1.00 33.66           C  \nATOM    304  O   PHE A  39     -17.784  14.099  15.681  1.00 38.38           O  \nATOM    305  CB  PHE A  39     -18.664  16.285  17.787  1.00 36.79           C  \nATOM    306  CG  PHE A  39     -19.786  16.088  16.808  1.00 35.06           C  \nATOM    307  CD1 PHE A  39     -20.111  17.079  15.897  1.00 41.85           C  \nATOM    308  CD2 PHE A  39     -20.530  14.920  16.815  1.00 29.29           C  \nATOM    309  CE1 PHE A  39     -21.149  16.902  15.002  1.00 42.37           C  \nATOM    310  CE2 PHE A  39     -21.568  14.738  15.922  1.00 27.09           C  \nATOM    311  CZ  PHE A  39     -21.879  15.730  15.016  1.00 35.46           C  \nATOM    312  N   ALA A  40     -16.919  13.472  17.669  1.00 50.33           N  \nATOM    313  CA  ALA A  40     -16.868  12.051  17.367  1.00 33.66           C  \nATOM    314  C   ALA A  40     -17.877  11.294  18.219  1.00 36.99           C  \nATOM    315  O   ALA A  40     -18.326  11.772  19.265  1.00 55.62           O  \nATOM    316  CB  ALA A  40     -15.462  11.491  17.608  1.00 28.91           C  \nATOM    317  N   LEU A  41     -18.235  10.100  17.755  1.00 35.16           N  \nATOM    318  CA  LEU A  41     -19.150   9.251  18.508  1.00 33.24           C  \nATOM    319  C   LEU A  41     -19.140   7.850  17.914  1.00 33.54           C  \nATOM    320  O   LEU A  41     -18.771   7.648  16.754  1.00 31.71           O  \nATOM    321  CB  LEU A  41     -20.571   9.829  18.515  1.00 43.80           C  \nATOM    322  CG  LEU A  41     -21.241  10.060  17.158  1.00 42.59           C  \nATOM    323  CD1 LEU A  41     -21.891   8.787  16.638  1.00 31.19           C  \nATOM    324  CD2 LEU A  41     -22.263  11.184  17.252  1.00 32.29           C  \nATOM    325  N   THR A  42     -19.555   6.885  18.729  1.00 32.37           N  \nATOM    326  CA  THR A  42     -19.615   5.498  18.296  1.00 32.79           C  \nATOM    327  C   THR A  42     -20.818   5.275  17.387  1.00 36.50           C  \nATOM    328  O   THR A  42     -21.850   5.939  17.509  1.00 31.63           O  \nATOM    329  CB  THR A  42     -19.690   4.562  19.503  1.00 32.19           C  \nATOM    330  OG1 THR A  42     -18.504   4.704  20.296  1.00 39.02           O  \nATOM    331  CG2 THR A  42     -19.827   3.112  19.058  1.00 33.48           C  \nATOM    332  N   CYS A  43     -20.673   4.323  16.468  1.00 38.81           N  \nATOM    333  CA  CYS A  43     -21.717   4.039  15.495  1.00 38.24           C  \nATOM    334  C   CYS A  43     -22.807   3.174  16.115  1.00 31.99           C  \nATOM    335  O   CYS A  43     -22.523   2.127  16.706  1.00 32.40           O  \nATOM    336  CB  CYS A  43     -21.127   3.338  14.273  1.00 41.94           C  \nATOM    337  SG  CYS A  43     -22.354   2.849  13.040  1.00 49.63           S  \nATOM    338  N   PHE A  44     -24.055   3.615  15.974  1.00 30.51           N  \nATOM    339  CA  PHE A  44     -25.212   2.848  16.413  1.00 32.05           C  \nATOM    340  C   PHE A  44     -26.466   3.582  15.964  1.00 27.36           C  \nATOM    341  O   PHE A  44     -26.553   4.804  16.104  1.00 26.07           O  \nATOM    342  CB  PHE A  44     -25.218   2.651  17.936  1.00 28.28           C  \nATOM    343  CG  PHE A  44     -25.347   3.927  18.718  1.00 26.99           C  \nATOM    344  CD1 PHE A  44     -26.549   4.270  19.313  1.00 22.49           C  \nATOM    345  CD2 PHE A  44     -24.266   4.781  18.861  1.00 25.16           C  \nATOM    346  CE1 PHE A  44     -26.670   5.442  20.036  1.00 22.71           C  \nATOM    347  CE2 PHE A  44     -24.383   5.955  19.581  1.00 27.31           C  \nATOM    348  CZ  PHE A  44     -25.587   6.285  20.169  1.00 22.55           C  \nATOM    349  N   SER A  45     -27.423   2.832  15.414  1.00 30.47           N  \nATOM    350  CA  SER A  45     -28.655   3.415  14.894  1.00 29.79           C  \nATOM    351  C   SER A  45     -29.285   4.339  15.929  1.00 22.07           C  \nATOM    352  O   SER A  45     -29.721   3.878  16.988  1.00 28.10           O  \nATOM    353  CB  SER A  45     -29.641   2.314  14.496  1.00 37.06           C  \nATOM    354  OG  SER A  45     -29.076   1.445  13.529  1.00 47.07           O  \nATOM    355  N   THR A  46     -29.341   5.638  15.643  1.00 23.15           N  \nATOM    356  CA  THR A  46     -29.802   6.596  16.644  1.00 30.50           C  \nATOM    357  C   THR A  46     -30.117   7.923  15.967  1.00 26.04           C  \nATOM    358  O   THR A  46     -29.871   8.111  14.773  1.00 37.32           O  \nATOM    359  CB  THR A  46     -28.756   6.789  17.747  1.00 39.11           C  \nATOM    360  OG1 THR A  46     -29.304   7.583  18.807  1.00 31.07           O  \nATOM    361  CG2 THR A  46     -27.514   7.478  17.192  1.00 28.60           C  \nATOM    362  N   GLN A  47     -30.673   8.843  16.757  1.00 31.42           N  \nATOM    363  CA  GLN A  47     -30.968  10.196  16.308  1.00 35.74           C  \nATOM    364  C   GLN A  47     -30.636  11.178  17.422  1.00 30.32           C  \nATOM    365  O   GLN A  47     -30.887  10.901  18.599  1.00 48.75           O  \nATOM    366  CB  GLN A  47     -32.442  10.351  15.908  1.00 44.50           C  \nATOM    367  CG  GLN A  47     -32.886   9.441  14.776  1.00 52.04           C  \nATOM    368  CD  GLN A  47     -34.303   9.733  14.320  1.00 42.39           C  \nATOM    369  OE1 GLN A  47     -34.894  10.742  14.704  1.00 26.94           O  \nATOM    370  NE2 GLN A  47     -34.856   8.849  13.497  1.00 41.98           N  \nATOM    371  N   PHE A  48     -30.073  12.324  17.044  1.00 19.32           N  \nATOM    372  CA  PHE A  48     -29.777  13.399  17.985  1.00 27.85           C  \nATOM    373  C   PHE A  48     -30.012  14.735  17.287  1.00 26.24           C  \nATOM    374  O   PHE A  48     -30.456  14.787  16.136  1.00 25.19           O  \nATOM    375  CB  PHE A  48     -28.350  13.279  18.539  1.00 32.96           C  \nATOM    376  CG  PHE A  48     -27.286  13.177  17.483  1.00 39.99           C  \nATOM    377  CD1 PHE A  48     -26.995  11.961  16.888  1.00 34.88           C  \nATOM    378  CD2 PHE A  48     -26.562  14.294  17.100  1.00 36.72           C  \nATOM    379  CE1 PHE A  48     -26.011  11.863  15.922  1.00 22.04           C  \nATOM    380  CE2 PHE A  48     -25.575  14.201  16.136  1.00 22.66           C  \nATOM    381  CZ  PHE A  48     -25.300  12.984  15.547  1.00 20.92           C  \nATOM    382  N   ALA A  49     -29.718  15.829  17.988  1.00 22.98           N  \nATOM    383  CA  ALA A  49     -30.066  17.149  17.487  1.00 26.96           C  \nATOM    384  C   ALA A  49     -29.102  18.203  18.012  1.00 26.00           C  \nATOM    385  O   ALA A  49     -28.494  18.048  19.076  1.00 21.35           O  \nATOM    386  CB  ALA A  49     -31.502  17.525  17.874  1.00 19.88           C  \nATOM    387  N   PHE A  50     -28.975  19.280  17.235  1.00 30.89           N  \nATOM    388  CA  PHE A  50     -28.226  20.470  17.607  1.00 27.06           C  \nATOM    389  C   PHE A  50     -29.121  21.687  17.430  1.00 35.99           C  \nATOM    390  O   PHE A  50     -29.812  21.815  16.414  1.00 32.48           O  \nATOM    391  CB  PHE A  50     -26.968  20.645  16.743  1.00 24.04           C  \nATOM    392  CG  PHE A  50     -25.851  19.705  17.087  1.00 22.13           C  \nATOM    393  CD1 PHE A  50     -25.955  18.352  16.820  1.00 24.35           C  \nATOM    394  CD2 PHE A  50     -24.683  20.183  17.658  1.00 24.70           C  \nATOM    395  CE1 PHE A  50     -24.922  17.490  17.130  1.00 34.17           C  \nATOM    396  CE2 PHE A  50     -23.647  19.326  17.970  1.00 25.87           C  \nATOM    397  CZ  PHE A  50     -23.766  17.978  17.705  1.00 29.92           C  \nATOM    398  N   ALA A  51     -29.106  22.579  18.416  1.00 25.96           N  \nATOM    399  CA  ALA A  51     -29.809  23.856  18.342  1.00 23.09           C  \nATOM    400  C   ALA A  51     -28.759  24.950  18.206  1.00 28.71           C  \nATOM    401  O   ALA A  51     -27.994  25.204  19.143  1.00 29.32           O  \nATOM    402  CB  ALA A  51     -30.687  24.077  19.571  1.00 19.12           C  \nATOM    403  N   CYS A  52     -28.720  25.589  17.043  1.00 25.73           N  \nATOM    404  CA  CYS A  52     -27.695  26.570  16.730  1.00 31.49           C  \nATOM    405  C   CYS A  52     -28.203  27.985  16.964  1.00 22.30           C  \nATOM    406  O   CYS A  52     -29.413  28.227  16.999  1.00 15.04           O  \nATOM    407  CB  CYS A  52     -27.243  26.416  15.275  1.00 25.46           C  \nATOM    408  SG  CYS A  52     -26.272  24.923  14.965  1.00 17.61           S  \nATOM    409  N   PRO A  53     -27.297  28.953  17.128  1.00 21.95           N  \nATOM    410  CA  PRO A  53     -27.745  30.331  17.389  1.00 18.46           C  \nATOM    411  C   PRO A  53     -28.555  30.930  16.254  1.00 29.70           C  \nATOM    412  O   PRO A  53     -29.439  31.758  16.506  1.00 22.06           O  \nATOM    413  CB  PRO A  53     -26.429  31.096  17.602  1.00 15.91           C  \nATOM    414  CG  PRO A  53     -25.403  30.051  17.893  1.00 33.37           C  \nATOM    415  CD  PRO A  53     -25.828  28.839  17.134  1.00 23.50           C  \nATOM    416  N   ASP A  54     -28.282  30.536  15.009  1.00 32.94           N  \nATOM    417  CA  ASP A  54     -28.977  31.108  13.862  1.00 40.93           C  \nATOM    418  C   ASP A  54     -30.453  30.733  13.811  1.00 30.91           C  \nATOM    419  O   ASP A  54     -31.177  31.265  12.962  1.00 38.70           O  \nATOM    420  CB  ASP A  54     -28.293  30.665  12.566  1.00 38.48           C  \nATOM    421  CG  ASP A  54     -28.260  29.156  12.410  1.00 38.21           C  \nATOM    422  OD1 ASP A  54     -28.769  28.451  13.306  1.00 32.10           O  \nATOM    423  OD2 ASP A  54     -27.723  28.675  11.390  1.00 31.51           O  \nATOM    424  N   GLY A  55     -30.916  29.845  14.686  1.00 26.13           N  \nATOM    425  CA  GLY A  55     -32.294  29.404  14.659  1.00 26.47           C  \nATOM    426  C   GLY A  55     -32.548  28.186  13.805  1.00 43.38           C  \nATOM    427  O   GLY A  55     -33.707  27.910  13.475  1.00 28.01           O  \nATOM    428  N   VAL A  56     -31.505  27.448  13.437  1.00 31.08           N  \nATOM    429  CA  VAL A  56     -31.621  26.267  12.590  1.00 25.63           C  \nATOM    430  C   VAL A  56     -31.373  25.042  13.458  1.00 30.39           C  \nATOM    431  O   VAL A  56     -30.302  24.908  14.064  1.00 46.09           O  \nATOM    432  CB  VAL A  56     -30.635  26.318  11.413  1.00 38.53           C  \nATOM    433  CG1 VAL A  56     -30.755  25.064  10.562  1.00 31.02           C  \nATOM    434  CG2 VAL A  56     -30.874  27.565  10.573  1.00 45.26           C  \nATOM    435  N   LYS A  57     -32.359  24.151  13.518  1.00 24.56           N  \nATOM    436  CA  LYS A  57     -32.252  22.919  14.292  1.00 24.98           C  \nATOM    437  C   LYS A  57     -31.708  21.821  13.384  1.00 24.88           C  \nATOM    438  O   LYS A  57     -32.413  21.336  12.493  1.00 23.33           O  \nATOM    439  CB  LYS A  57     -33.607  22.530  14.877  1.00 39.64           C  \nATOM    440  CG  LYS A  57     -33.580  21.258  15.711  1.00 29.95           C  \nATOM    441  CD  LYS A  57     -34.950  20.941  16.287  1.00 41.06           C  \nATOM    442  CE  LYS A  57     -34.920  19.670  17.119  1.00 52.94           C  \nATOM    443  NZ  LYS A  57     -36.253  19.353  17.703  1.00 46.57           N  \nATOM    444  N   HIS A  58     -30.459  21.427  13.614  1.00 25.71           N  \nATOM    445  CA  HIS A  58     -29.806  20.404  12.803  1.00 25.74           C  \nATOM    446  C   HIS A  58     -30.079  19.040  13.427  1.00 22.53           C  \nATOM    447  O   HIS A  58     -29.502  18.696  14.462  1.00 20.48           O  \nATOM    448  CB  HIS A  58     -28.307  20.675  12.703  1.00 22.28           C  \nATOM    449  CG  HIS A  58     -27.970  21.980  12.052  1.00 24.88           C  \nATOM    450  ND1 HIS A  58     -27.494  22.067  10.762  1.00 26.71           N  \nATOM    451  CD2 HIS A  58     -28.042  23.251  12.513  1.00 35.40           C  \nATOM    452  CE1 HIS A  58     -27.286  23.336  10.456  1.00 38.03           C  \nATOM    453  NE2 HIS A  58     -27.610  24.075  11.502  1.00 43.78           N  \nATOM    454  N   VAL A  59     -30.964  18.271  12.807  1.00 24.11           N  \nATOM    455  CA  VAL A  59     -31.284  16.926  13.269  1.00 20.29           C  \nATOM    456  C   VAL A  59     -30.369  15.937  12.564  1.00 19.22           C  \nATOM    457  O   VAL A  59     -30.138  16.037  11.353  1.00 28.12           O  \nATOM    458  CB  VAL A  59     -32.767  16.596  13.013  1.00 24.26           C  \nATOM    459  CG1 VAL A  59     -33.108  15.216  13.560  1.00 26.13           C  \nATOM    460  CG2 VAL A  59     -33.661  17.659  13.633  1.00 24.42           C  \nATOM    461  N   TYR A  60     -29.843  14.977  13.321  1.00 20.87           N  \nATOM    462  CA  TYR A  60     -28.923  13.974  12.810  1.00 15.93           C  \nATOM    463  C   TYR A  60     -29.487  12.587  13.073  1.00 21.80           C  \nATOM    464  O   TYR A  60     -30.055  12.332  14.139  1.00 34.83           O  \nATOM    465  CB  TYR A  60     -27.548  14.097  13.470  1.00 22.29           C  \nATOM    466  CG  TYR A  60     -26.773  15.335  13.084  1.00 20.75           C  \nATOM    467  CD1 TYR A  60     -27.207  16.598  13.461  1.00 19.06           C  \nATOM    468  CD2 TYR A  60     -25.595  15.238  12.356  1.00 19.61           C  \nATOM    469  CE1 TYR A  60     -26.497  17.730  13.113  1.00 21.78           C  \nATOM    470  CE2 TYR A  60     -24.878  16.363  12.004  1.00 22.57           C  \nATOM    471  CZ  TYR A  60     -25.332  17.607  12.386  1.00 23.37           C  \nATOM    472  OH  TYR A  60     -24.620  18.730  12.037  1.00 44.82           O  \nATOM    473  N   GLN A  61     -29.317  11.693  12.101  1.00 36.00           N  \nATOM    474  CA  GLN A  61     -29.764  10.310  12.224  1.00 38.18           C  \nATOM    475  C   GLN A  61     -28.699   9.404  11.630  1.00 35.30           C  \nATOM    476  O   GLN A  61     -28.335   9.556  10.460  1.00 30.67           O  \nATOM    477  CB  GLN A  61     -31.106  10.095  11.518  1.00 31.35           C  \nATOM    478  CG  GLN A  61     -31.554   8.641  11.466  1.00 34.25           C  \nATOM    479  CD  GLN A  61     -32.958   8.481  10.918  1.00 48.20           C  \nATOM    480  OE1 GLN A  61     -33.623   9.463  10.587  1.00 47.12           O  \nATOM    481  NE2 GLN A  61     -33.417   7.239  10.820  1.00 35.96           N  \nATOM    482  N   LEU A  62     -28.201   8.468  12.433  1.00 29.28           N  \nATOM    483  CA  LEU A  62     -27.227   7.486  11.983  1.00 28.26           C  \nATOM    484  C   LEU A  62     -27.878   6.113  11.898  1.00 35.30           C  \nATOM    485  O   LEU A  62     -28.658   5.728  12.778  1.00 54.41           O  \nATOM    486  CB  LEU A  62     -26.020   7.421  12.923  1.00 31.11           C  \nATOM    487  CG  LEU A  62     -25.030   8.587  12.881  1.00 35.47           C  \nATOM    488  CD1 LEU A  62     -23.842   8.283  13.773  1.00 35.48           C  \nATOM    489  CD2 LEU A  62     -24.568   8.871  11.462  1.00 53.74           C  \nATOM    490  N   ARG A  63     -27.553   5.388  10.830  1.00 34.53           N  \nATOM    491  CA  ARG A  63     -28.006   4.018  10.625  1.00 32.18           C  \nATOM    492  C   ARG A  63     -26.801   3.089  10.699  1.00 37.92           C  \nATOM    493  O   ARG A  63     -25.828   3.266   9.957  1.00 40.28           O  \nATOM    494  CB  ARG A  63     -28.712   3.869   9.275  1.00 38.26           C  \nATOM    495  CG  ARG A  63     -29.179   2.452   8.958  1.00 61.06           C  \nATOM    496  CD  ARG A  63     -30.417   2.070   9.752  1.00 58.78           C  \nATOM    497  NE  ARG A  63     -31.646   2.414   9.041  1.00 73.90           N  \nATOM    498  CZ  ARG A  63     -32.176   1.686   8.060  1.00 75.16           C  \nATOM    499  NH1 ARG A  63     -31.590   0.565   7.659  1.00 67.62           N  \nATOM    500  NH2 ARG A  63     -33.298   2.083   7.475  1.00 66.76           N  \nATOM    501  N   ALA A  64     -26.875   2.096  11.578  1.00 39.03           N  \nATOM    502  CA  ALA A  64     -25.768   1.184  11.818  1.00 41.62           C  \nATOM    503  C   ALA A  64     -25.941  -0.090  11.002  1.00 31.95           C  \nATOM    504  O   ALA A  64     -27.035  -0.658  10.939  1.00 32.08           O  \nATOM    505  CB  ALA A  64     -25.662   0.841  13.304  1.00 39.73           C  \nATOM    506  N   ARG A  65     -24.851  -0.531  10.376  1.00 31.04           N  \nATOM    507  CA  ARG A  65     -24.833  -1.761   9.599  1.00 31.83           C  \nATOM    508  C   ARG A  65     -23.609  -2.581   9.981  1.00 31.27           C  \nATOM    509  O   ARG A  65     -22.592  -2.040  10.422  1.00 25.89           O  \nATOM    510  CB  ARG A  65     -24.825  -1.476   8.089  1.00 39.41           C  \nATOM    511  CG  ARG A  65     -23.741  -0.506   7.640  1.00 43.27           C  \nATOM    512  CD  ARG A  65     -23.806  -0.261   6.139  1.00 33.57           C  \nATOM    513  NE  ARG A  65     -22.884   0.788   5.709  1.00 35.96           N  \nATOM    514  CZ  ARG A  65     -21.601   0.595   5.410  1.00 45.38           C  \nATOM    515  NH1 ARG A  65     -21.060  -0.615   5.491  1.00 33.30           N  \nATOM    516  NH2 ARG A  65     -20.854   1.621   5.029  1.00 35.71           N  \nATOM    517  N   SER A  66     -23.720  -3.894   9.811  1.00 31.50           N  \nATOM    518  CA  SER A  66     -22.636  -4.806  10.158  1.00 43.18           C  \nATOM    519  C   SER A  66     -21.925  -5.309   8.907  1.00 43.29           C  \nATOM    520  O   SER A  66     -21.017  -6.136   8.988  1.00 57.40           O  \nATOM    521  CB  SER A  66     -23.170  -5.987  10.969  1.00 52.52           C  \nATOM    522  OG  SER A  66     -24.139  -6.712  10.233  1.00 32.86           O  \nHETATM  523  O   HOH A 101     -15.156   1.771  18.304  1.00 28.67           O  \nHETATM  524  O   HOH A 102     -34.358  25.671  13.835  1.00 28.71           O  \nHETATM  525  O   HOH A 103     -21.221  22.900   8.980  1.00 22.51           O  \nTER     526      HOH A 103                                                       \nEND   \n",
           "type": "blob"
          }
         ],
         "kwargs": {
          "defaultRepresentation": true,
          "ext": "pdb"
         },
         "methodName": "loadFile",
         "reconstruc_color_scheme": false,
         "target": "Stage",
         "type": "call_method"
        }
       ],
       "_ngl_original_stage_parameters": {
        "ambientColor": 14540253,
        "ambientIntensity": 0.2,
        "backgroundColor": "white",
        "cameraEyeSep": 0.3,
        "cameraFov": 40,
        "cameraType": "perspective",
        "clipDist": 10,
        "clipFar": 100,
        "clipNear": 0,
        "fogFar": 100,
        "fogNear": 50,
        "hoverTimeout": 0,
        "impostor": true,
        "lightColor": 14540253,
        "lightIntensity": 1,
        "mousePreset": "default",
        "panSpeed": 1,
        "quality": "medium",
        "rotateSpeed": 2,
        "sampleLevel": 0,
        "tooltip": true,
        "workerDefault": true,
        "zoomSpeed": 1.2
       },
       "_ngl_repr_dict": {
        "0": {
         "0": {
          "params": {
           "aspectRatio": 5,
           "assembly": "default",
           "capped": true,
           "clipCenter": {
            "x": 0,
            "y": 0,
            "z": 0
           },
           "clipNear": 0,
           "clipRadius": 0,
           "colorMode": "hcl",
           "colorReverse": true,
           "colorScale": "spectral",
           "colorScheme": "residueindex",
           "colorValue": 9474192,
           "defaultAssembly": "",
           "depthWrite": true,
           "diffuse": 16777215,
           "diffuseInterior": false,
           "disablePicking": false,
           "flatShaded": false,
           "interiorColor": 2236962,
           "interiorDarkening": 0,
           "lazy": false,
           "matrix": {
            "elements": [
             1,
             0,
             0,
             0,
             0,
             1,
             0,
             0,
             0,
             0,
             1,
             0,
             0,
             0,
             0,
             1
            ]
           },
           "metalness": 0,
           "opacity": 1,
           "quality": "high",
           "radialSegments": 20,
           "radiusData": {},
           "radiusScale": 0.7,
           "radiusSize": 1,
           "radiusType": "sstruc",
           "roughness": 0.4,
           "sele": "",
           "side": "double",
           "smoothSheet": false,
           "subdiv": 6,
           "tension": null,
           "useInteriorColor": true,
           "visible": true,
           "wireframe": false
          },
          "type": "cartoon"
         },
         "1": {
          "params": {
           "aspectRatio": 1,
           "assembly": "default",
           "bondScale": 0.4,
           "clipCenter": {
            "x": 0,
            "y": 0,
            "z": 0
           },
           "clipNear": 0,
           "clipRadius": 0,
           "colorMode": "hcl",
           "colorReverse": true,
           "colorScale": "spectral",
           "colorScheme": "residueindex",
           "colorValue": 9474192,
           "cylinderOnly": false,
           "defaultAssembly": "",
           "depthWrite": true,
           "diffuse": 16777215,
           "diffuseInterior": false,
           "disableImpostor": false,
           "disablePicking": false,
           "flatShaded": false,
           "interiorColor": 2236962,
           "interiorDarkening": 0,
           "lazy": false,
           "lineOnly": false,
           "linewidth": 2,
           "matrix": {
            "elements": [
             1,
             0,
             0,
             0,
             0,
             1,
             0,
             0,
             0,
             0,
             1,
             0,
             0,
             0,
             0,
             1
            ]
           },
           "metalness": 0,
           "opacity": 1,
           "openEnded": true,
           "quality": "high",
           "radialSegments": 20,
           "radiusData": {},
           "radiusScale": 1,
           "radiusSize": 0.3,
           "radiusType": "size",
           "roughness": 0.4,
           "sele": "",
           "side": "double",
           "sphereDetail": 2,
           "useInteriorColor": true,
           "visible": true,
           "wireframe": false
          },
          "type": "base"
         },
         "2": {
          "params": {
           "aspectRatio": 1.5,
           "assembly": "default",
           "bondScale": 0.3,
           "bondSpacing": 0.75,
           "clipCenter": {
            "x": 0,
            "y": 0,
            "z": 0
           },
           "clipNear": 0,
           "clipRadius": 0,
           "colorMode": "hcl",
           "colorReverse": false,
           "colorScale": "",
           "colorScheme": "element",
           "colorValue": 9474192,
           "cylinderOnly": false,
           "defaultAssembly": "",
           "depthWrite": true,
           "diffuse": 16777215,
           "diffuseInterior": false,
           "disableImpostor": false,
           "disablePicking": false,
           "flatShaded": false,
           "interiorColor": 2236962,
           "interiorDarkening": 0,
           "lazy": false,
           "lineOnly": false,
           "linewidth": 2,
           "matrix": {
            "elements": [
             1,
             0,
             0,
             0,
             0,
             1,
             0,
             0,
             0,
             0,
             1,
             0,
             0,
             0,
             0,
             1
            ]
           },
           "metalness": 0,
           "multipleBond": "off",
           "opacity": 1,
           "openEnded": true,
           "quality": "high",
           "radialSegments": 20,
           "radiusData": {},
           "radiusScale": 2,
           "radiusSize": 0.15,
           "radiusType": "size",
           "roughness": 0.4,
           "sele": "ligand",
           "side": "double",
           "sphereDetail": 2,
           "useInteriorColor": true,
           "visible": true,
           "wireframe": false
          },
          "type": "ball+stick"
         }
        }
       },
       "_ngl_serialize": false,
       "_ngl_version": "2.0.0-dev.36",
       "_ngl_view_id": [
        "BDBD76B7-F0E6-41CE-BF35-AEBE8884FC66"
       ],
       "_player_dict": {},
       "_scene_position": {},
       "_scene_rotation": {},
       "_synced_model_ids": [],
       "_synced_repr_model_ids": [],
       "_view_height": "",
       "_view_width": "",
       "background": "white",
       "frame": 0,
       "gui_style": null,
       "layout": "IPY_MODEL_7ac4a9e6191a423f982ff96619a8ca95",
       "max_frame": 0,
       "n_components": 1,
       "picked": {}
      }
     },
     "722fa1aee99745a090224f812766f997": {
      "model_module": "@jupyter-widgets/controls",
      "model_module_version": "1.5.0",
      "model_name": "LinkModel",
      "state": {
       "source": [
        "IPY_MODEL_a2e2ea980661403ea7193041a0198b85",
        "value"
       ],
       "target": [
        "IPY_MODEL_0ea6a1732bc74bc09b1f380004ef25c0",
        "value"
       ]
      }
     },
     "7ac4a9e6191a423f982ff96619a8ca95": {
      "model_module": "@jupyter-widgets/base",
      "model_module_version": "1.2.0",
      "model_name": "LayoutModel",
      "state": {}
     },
     "7e1913711e2d4a158a9257e1559e5ce9": {
      "model_module": "@jupyter-widgets/controls",
      "model_module_version": "1.5.0",
      "model_name": "LinkModel",
      "state": {
       "source": [
        "IPY_MODEL_b0eb721f968f487789fe6327e8033ed1",
        "value"
       ],
       "target": [
        "IPY_MODEL_a2e7265769264e5c8eb454abc22bf5f1",
        "frame"
       ]
      }
     },
     "7f8174329f404f16b4b61396f97cd482": {
      "model_module": "@jupyter-widgets/controls",
      "model_module_version": "1.5.0",
      "model_name": "ImageModel",
      "state": {
       "layout": "IPY_MODEL_159fe0f6352349408abdb15aff4e3c1b",
       "width": "900.0"
      }
     },
     "7fe3d116a89540f1929c9920b035bcdb": {
      "model_module": "@jupyter-widgets/controls",
      "model_module_version": "1.5.0",
      "model_name": "ButtonStyleModel",
      "state": {}
     },
     "80054de992194ce985985d5bdf340ae6": {
      "model_module": "@jupyter-widgets/controls",
      "model_module_version": "1.5.0",
      "model_name": "LinkModel",
      "state": {
       "source": [
        "IPY_MODEL_c44cdd1a78c549c0916fc00ef989b339",
        "value"
       ],
       "target": [
        "IPY_MODEL_e7a63a28b6df4884bc0702ba0909546c",
        "value"
       ]
      }
     },
     "82e581c552f14cceb43702471e18cce0": {
      "model_module": "nglview-js-widgets",
      "model_module_version": "2.7.7",
      "model_name": "NGLModel",
      "state": {
       "_camera_orientation": [
        -65.40538843495827,
        -1.8183498871662134,
        26.36972146784911,
        0,
        -1.3696311183913914,
        70.51602815501344,
        1.4653759834056674,
        0,
        -26.396831575089323,
        0.8466521487900525,
        -65.41424849271894,
        0,
        22.470288276672363,
        -13.10406231880188,
        -16.124666929244995,
        1
       ],
       "_camera_str": "orthographic",
       "_gui_theme": null,
       "_ibtn_fullscreen": "IPY_MODEL_0f1f0aaf44f640ef81cd80cd3afdb2e3",
       "_igui": null,
       "_iplayer": "IPY_MODEL_40453fe29af0466ebd4149b346454972",
       "_ngl_color_dict": {},
       "_ngl_coordinate_resource": {},
       "_ngl_full_stage_parameters": {
        "ambientColor": 14540253,
        "ambientIntensity": 0.2,
        "backgroundColor": "white",
        "cameraEyeSep": 0.3,
        "cameraFov": 40,
        "cameraType": "perspective",
        "clipDist": 10,
        "clipFar": 100,
        "clipNear": 0,
        "fogFar": 100,
        "fogNear": 50,
        "hoverTimeout": 0,
        "impostor": true,
        "lightColor": 14540253,
        "lightIntensity": 1,
        "mousePreset": "default",
        "panSpeed": 1,
        "quality": "medium",
        "rotateSpeed": 2,
        "sampleLevel": 0,
        "tooltip": true,
        "workerDefault": true,
        "zoomSpeed": 1.2
       },
       "_ngl_msg_archive": [
        {
         "args": [
          {
           "binary": false,
           "data": "ATOM      1  N   GLU A   1     -35.002  23.721  10.106  1.00 31.16           N  \nATOM      2  CA  GLU A   1     -34.808  22.363  10.600  1.00 38.49           C  \nATOM      3  C   GLU A   1     -34.161  21.487   9.532  1.00 33.79           C  \nATOM      4  O   GLU A   1     -34.848  20.775   8.799  1.00 30.23           O  \nATOM      5  CB  GLU A   1     -36.142  21.759  11.042  1.00 35.36           C  \nATOM      6  CG  GLU A   1     -36.798  22.497  12.198  1.00 51.28           C  \nATOM      7  CD  GLU A   1     -38.121  21.881  12.609  1.00 45.59           C  \nATOM      8  OE1 GLU A   1     -38.662  21.061  11.838  1.00 45.91           O  \nATOM      9  OE2 GLU A   1     -38.618  22.216  13.705  1.00 66.17           O  \nATOM     10  N   LEU A   2     -32.834  21.542   9.452  1.00 25.08           N  \nATOM     11  CA  LEU A   2     -32.081  20.794   8.453  1.00 28.95           C  \nATOM     12  C   LEU A   2     -31.782  19.399   8.990  1.00 29.65           C  \nATOM     13  O   LEU A   2     -31.148  19.255  10.040  1.00 39.99           O  \nATOM     14  CB  LEU A   2     -30.788  21.526   8.099  1.00 30.68           C  \nATOM     15  CG  LEU A   2     -30.950  23.002   7.727  1.00 38.41           C  \nATOM     16  CD1 LEU A   2     -29.599  23.636   7.434  1.00 29.08           C  \nATOM     17  CD2 LEU A   2     -31.890  23.165   6.542  1.00 53.76           C  \nATOM     18  N   TYR A   3     -32.234  18.379   8.268  1.00 28.35           N  \nATOM     19  CA  TYR A   3     -32.049  16.997   8.681  1.00 28.12           C  \nATOM     20  C   TYR A   3     -30.782  16.417   8.064  1.00 32.27           C  \nATOM     21  O   TYR A   3     -30.323  16.858   7.007  1.00 28.31           O  \nATOM     22  CB  TYR A   3     -33.256  16.149   8.277  1.00 31.24           C  \nATOM     23  CG  TYR A   3     -34.566  16.633   8.857  1.00 36.67           C  \nATOM     24  CD1 TYR A   3     -35.121  16.025   9.974  1.00 27.41           C  \nATOM     25  CD2 TYR A   3     -35.246  17.701   8.287  1.00 49.25           C  \nATOM     26  CE1 TYR A   3     -36.318  16.464  10.506  1.00 36.03           C  \nATOM     27  CE2 TYR A   3     -36.443  18.148   8.813  1.00 47.08           C  \nATOM     28  CZ  TYR A   3     -36.974  17.527   9.922  1.00 34.98           C  \nATOM     29  OH  TYR A   3     -38.166  17.970  10.447  1.00 35.89           O  \nATOM     30  N   HIS A   4     -30.219  15.420   8.743  1.00 27.80           N  \nATOM     31  CA  HIS A   4     -29.024  14.732   8.281  1.00 19.35           C  \nATOM     32  C   HIS A   4     -29.259  13.228   8.327  1.00 26.14           C  \nATOM     33  O   HIS A   4     -30.118  12.733   9.061  1.00 27.94           O  \nATOM     34  CB  HIS A   4     -27.794  15.090   9.130  1.00 15.38           C  \nATOM     35  CG  HIS A   4     -27.427  16.541   9.088  1.00 20.19           C  \nATOM     36  ND1 HIS A   4     -26.191  16.983   8.669  1.00 18.69           N  \nATOM     37  CD2 HIS A   4     -28.132  17.650   9.415  1.00 23.59           C  \nATOM     38  CE1 HIS A   4     -26.150  18.301   8.738  1.00 19.88           C  \nATOM     39  NE2 HIS A   4     -27.315  18.731   9.188  1.00 24.85           N  \nATOM     40  N   TYR A   5     -28.477  12.504   7.529  1.00 38.79           N  \nATOM     41  CA  TYR A   5     -28.554  11.052   7.486  1.00 27.99           C  \nATOM     42  C   TYR A   5     -27.200  10.510   7.057  1.00 25.23           C  \nATOM     43  O   TYR A   5     -26.478  11.146   6.284  1.00 22.78           O  \nATOM     44  CB  TYR A   5     -29.652  10.570   6.529  1.00 24.87           C  \nATOM     45  CG  TYR A   5     -29.814   9.065   6.476  1.00 30.43           C  \nATOM     46  CD1 TYR A   5     -29.040   8.292   5.619  1.00 28.55           C  \nATOM     47  CD2 TYR A   5     -30.744   8.419   7.279  1.00 32.46           C  \nATOM     48  CE1 TYR A   5     -29.185   6.919   5.568  1.00 36.68           C  \nATOM     49  CE2 TYR A   5     -30.896   7.046   7.234  1.00 31.65           C  \nATOM     50  CZ  TYR A   5     -30.115   6.301   6.377  1.00 34.48           C  \nATOM     51  OH  TYR A   5     -30.263   4.934   6.328  1.00 44.33           O  \nATOM     52  N   GLN A   6     -26.861   9.328   7.567  1.00 34.47           N  \nATOM     53  CA  GLN A   6     -25.574   8.717   7.271  1.00 33.16           C  \nATOM     54  C   GLN A   6     -25.574   7.287   7.787  1.00 34.04           C  \nATOM     55  O   GLN A   6     -26.147   7.003   8.843  1.00 33.71           O  \nATOM     56  CB  GLN A   6     -24.427   9.516   7.907  1.00 34.50           C  \nATOM     57  CG  GLN A   6     -23.051   8.884   7.750  1.00 52.88           C  \nATOM     58  CD  GLN A   6     -21.949   9.748   8.334  1.00 54.62           C  \nATOM     59  OE1 GLN A   6     -22.196  10.869   8.779  1.00 32.80           O  \nATOM     60  NE2 GLN A   6     -20.726   9.230   8.336  1.00 45.23           N  \nATOM     61  N   GLU A   7     -24.930   6.398   7.036  1.00 34.16           N  \nATOM     62  CA  GLU A   7     -24.786   5.000   7.412  1.00 35.09           C  \nATOM     63  C   GLU A   7     -23.351   4.723   7.838  1.00 45.21           C  \nATOM     64  O   GLU A   7     -22.400   5.145   7.170  1.00 41.88           O  \nATOM     65  CB  GLU A   7     -25.170   4.072   6.259  1.00 36.68           C  \nATOM     66  CG  GLU A   7     -26.594   4.253   5.768  1.00 51.43           C  \nATOM     67  CD  GLU A   7     -27.027   3.157   4.813  1.00 55.52           C  \nATOM     68  OE1 GLU A   7     -26.202   2.269   4.512  1.00 39.63           O  \nATOM     69  OE2 GLU A   7     -28.193   3.183   4.367  1.00 65.11           O  \nATOM     70  N   CYS A   8     -23.203   4.007   8.949  1.00 44.23           N  \nATOM     71  CA  CYS A   8     -21.892   3.692   9.496  1.00 33.22           C  \nATOM     72  C   CYS A   8     -21.856   2.230   9.914  1.00 36.82           C  \nATOM     73  O   CYS A   8     -22.893   1.593  10.116  1.00 32.94           O  \nATOM     74  CB  CYS A   8     -21.549   4.593  10.692  1.00 49.21           C  \nATOM     75  SG  CYS A   8     -22.763   4.563  12.032  1.00 44.42           S  \nATOM     76  N   VAL A   9     -20.639   1.709  10.052  1.00 26.95           N  \nATOM     77  CA  VAL A   9     -20.433   0.324  10.458  1.00 32.79           C  \nATOM     78  C   VAL A   9     -20.492   0.232  11.976  1.00 39.33           C  \nATOM     79  O   VAL A   9     -19.955   1.090  12.688  1.00 35.69           O  \nATOM     80  CB  VAL A   9     -19.091  -0.203   9.918  1.00 29.77           C  \nATOM     81  CG1 VAL A   9     -18.950  -1.691  10.204  1.00 29.92           C  \nATOM     82  CG2 VAL A   9     -18.969   0.076   8.428  1.00 31.87           C  \nATOM     83  N   ARG A  10     -21.145  -0.815  12.477  1.00 35.01           N  \nATOM     84  CA  ARG A  10     -21.294  -0.987  13.917  1.00 33.43           C  \nATOM     85  C   ARG A  10     -19.932  -1.016  14.598  1.00 35.84           C  \nATOM     86  O   ARG A  10     -19.007  -1.694  14.141  1.00 33.69           O  \nATOM     87  CB  ARG A  10     -22.060  -2.276  14.218  1.00 37.86           C  \nATOM     88  CG  ARG A  10     -23.500  -2.273  13.733  1.00 48.77           C  \nATOM     89  CD  ARG A  10     -24.249  -3.514  14.190  1.00 33.84           C  \nATOM     90  NE  ARG A  10     -25.575  -3.610  13.583  1.00 24.35           N  \nATOM     91  CZ  ARG A  10     -26.639  -2.918  13.982  1.00 18.91           C  \nATOM     92  NH1 ARG A  10     -26.551  -2.064  14.994  1.00 43.51           N  \nATOM     93  NH2 ARG A  10     -27.800  -3.080  13.362  1.00 23.67           N  \nATOM     94  N   GLY A  11     -19.813  -0.275  15.694  1.00 55.52           N  \nATOM     95  CA  GLY A  11     -18.600  -0.239  16.495  1.00 59.77           C  \nATOM     96  C   GLY A  11     -17.596   0.817  16.085  1.00 54.98           C  \nATOM     97  O   GLY A  11     -17.025   1.496  16.941  1.00 71.18           O  \nATOM     98  N   THR A  12     -17.368   0.968  14.783  1.00 48.29           N  \nATOM     99  CA  THR A  12     -16.383   1.928  14.305  1.00 48.71           C  \nATOM    100  C   THR A  12     -16.783   3.345  14.696  1.00 40.84           C  \nATOM    101  O   THR A  12     -17.967   3.690  14.723  1.00 39.83           O  \nATOM    102  CB  THR A  12     -16.235   1.826  12.787  1.00 63.95           C  \nATOM    103  OG1 THR A  12     -17.498   2.082  12.161  1.00 42.24           O  \nATOM    104  CG2 THR A  12     -15.744   0.439  12.388  1.00 50.24           C  \nATOM    105  N   THR A  13     -15.782   4.164  15.005  1.00 40.95           N  \nATOM    106  CA  THR A  13     -16.028   5.549  15.373  1.00 41.94           C  \nATOM    107  C   THR A  13     -16.453   6.355  14.148  1.00 47.33           C  \nATOM    108  O   THR A  13     -16.211   5.969  13.001  1.00 63.22           O  \nATOM    109  CB  THR A  13     -14.775   6.165  15.999  1.00 51.58           C  \nATOM    110  OG1 THR A  13     -14.245   5.273  16.989  1.00 58.38           O  \nATOM    111  CG2 THR A  13     -15.095   7.502  16.653  1.00 39.75           C  \nATOM    112  N   VAL A  14     -17.099   7.492  14.404  1.00 52.39           N  \nATOM    113  CA  VAL A  14     -17.555   8.388  13.349  1.00 52.73           C  \nATOM    114  C   VAL A  14     -17.292   9.815  13.808  1.00 40.07           C  \nATOM    115  O   VAL A  14     -17.784  10.230  14.864  1.00 42.11           O  \nATOM    116  CB  VAL A  14     -19.048   8.197  13.027  1.00 36.55           C  \nATOM    117  CG1 VAL A  14     -19.470   9.114  11.886  1.00 43.43           C  \nATOM    118  CG2 VAL A  14     -19.339   6.743  12.687  1.00 35.73           C  \nATOM    119  N   LEU A  15     -16.508  10.554  13.028  1.00 34.43           N  \nATOM    120  CA  LEU A  15     -16.244  11.964  13.275  1.00 41.42           C  \nATOM    121  C   LEU A  15     -17.067  12.804  12.307  1.00 39.05           C  \nATOM    122  O   LEU A  15     -17.227  12.441  11.138  1.00 71.88           O  \nATOM    123  CB  LEU A  15     -14.757  12.286  13.106  1.00 36.97           C  \nATOM    124  CG  LEU A  15     -13.792  11.752  14.169  1.00 53.94           C  \nATOM    125  CD1 LEU A  15     -13.766  10.231  14.189  1.00 46.05           C  \nATOM    126  CD2 LEU A  15     -12.393  12.307  13.942  1.00 45.03           C  \nATOM    127  N   LEU A  16     -17.585  13.929  12.797  1.00 31.17           N  \nATOM    128  CA  LEU A  16     -18.436  14.792  11.993  1.00 36.73           C  \nATOM    129  C   LEU A  16     -18.136  16.247  12.320  1.00 33.43           C  \nATOM    130  O   LEU A  16     -17.582  16.572  13.375  1.00 47.28           O  \nATOM    131  CB  LEU A  16     -19.922  14.492  12.229  1.00 43.84           C  \nATOM    132  CG  LEU A  16     -20.378  13.063  11.922  1.00 36.74           C  \nATOM    133  CD1 LEU A  16     -21.799  12.843  12.413  1.00 32.05           C  \nATOM    134  CD2 LEU A  16     -20.276  12.765  10.433  1.00 44.63           C  \nATOM    135  N   LYS A  17     -18.512  17.122  11.392  1.00 39.80           N  \nATOM    136  CA  LYS A  17     -18.315  18.555  11.546  1.00 48.68           C  \nATOM    137  C   LYS A  17     -19.476  19.159  12.324  1.00 42.24           C  \nATOM    138  O   LYS A  17     -20.625  18.728  12.185  1.00 50.57           O  \nATOM    139  CB  LYS A  17     -18.195  19.228  10.176  1.00 47.99           C  \nATOM    140  CG  LYS A  17     -17.874  20.716  10.224  1.00 41.86           C  \nATOM    141  CD  LYS A  17     -16.445  20.968  10.677  1.00 48.56           C  \nATOM    142  CE  LYS A  17     -16.157  22.456  10.801  1.00 61.08           C  \nATOM    143  NZ  LYS A  17     -14.740  22.723  11.174  1.00 47.97           N  \nATOM    144  N   GLU A  18     -19.171  20.157  13.140  1.00 60.85           N  \nATOM    145  CA  GLU A  18     -20.207  20.827  13.914  1.00 61.04           C  \nATOM    146  C   GLU A  18     -21.027  21.730  12.998  1.00 32.95           C  \nATOM    147  O   GLU A  18     -20.452  22.492  12.214  1.00 35.94           O  \nATOM    148  CB  GLU A  18     -19.587  21.647  15.043  1.00 52.92           C  \nATOM    149  CG  GLU A  18     -18.830  20.822  16.069  1.00 42.02           C  \nATOM    150  CD  GLU A  18     -18.228  21.674  17.170  1.00 53.13           C  \nATOM    151  OE1 GLU A  18     -18.404  22.910  17.130  1.00 55.47           O  \nATOM    152  OE2 GLU A  18     -17.579  21.108  18.074  1.00 47.76           O  \nATOM    153  N   PRO A  19     -22.362  21.680  13.061  1.00 29.71           N  \nATOM    154  CA  PRO A  19     -23.160  22.587  12.222  1.00 29.52           C  \nATOM    155  C   PRO A  19     -23.037  24.044  12.629  1.00 29.46           C  \nATOM    156  O   PRO A  19     -23.361  24.924  11.822  1.00 30.45           O  \nATOM    157  CB  PRO A  19     -24.593  22.071  12.405  1.00 27.55           C  \nATOM    158  CG  PRO A  19     -24.585  21.405  13.734  1.00 41.38           C  \nATOM    159  CD  PRO A  19     -23.210  20.822  13.909  1.00 42.01           C  \nATOM    160  N   CYS A  20     -22.584  24.325  13.848  1.00 45.28           N  \nATOM    161  CA  CYS A  20     -22.340  25.691  14.287  1.00 56.04           C  \nATOM    162  C   CYS A  20     -21.210  25.679  15.306  1.00 41.46           C  \nATOM    163  O   CYS A  20     -20.757  24.622  15.753  1.00 35.57           O  \nATOM    164  CB  CYS A  20     -23.601  26.330  14.877  1.00 45.60           C  \nATOM    165  SG  CYS A  20     -24.547  25.260  15.981  1.00 44.35           S  \nATOM    166  N   SER A  21     -20.755  26.877  15.670  1.00 35.19           N  \nATOM    167  CA  SER A  21     -19.642  27.024  16.598  1.00 46.54           C  \nATOM    168  C   SER A  21     -19.962  26.386  17.945  1.00 44.57           C  \nATOM    169  O   SER A  21     -19.336  25.393  18.329  1.00 35.44           O  \nATOM    170  CB  SER A  21     -19.295  28.503  16.779  1.00 50.71           C  \nATOM    171  OG  SER A  21     -20.425  29.245  17.204  1.00 60.93           O  \nATOM    172  N   SER A  22     -20.932  26.947  18.666  1.00 35.35           N  \nATOM    173  CA  SER A  22     -21.295  26.437  19.983  1.00 32.62           C  \nATOM    174  C   SER A  22     -22.584  25.627  19.912  1.00 38.68           C  \nATOM    175  O   SER A  22     -22.544  24.403  19.750  1.00 33.37           O  \nATOM    176  CB  SER A  22     -21.441  27.590  20.979  1.00 40.07           C  \nATOM    177  OG  SER A  22     -22.455  28.492  20.570  1.00 41.24           O  \nATOM    178  N   GLY A  23     -23.729  26.296  20.028  1.00 26.21           N  \nATOM    179  CA  GLY A  23     -25.009  25.614  20.000  1.00 29.82           C  \nATOM    180  C   GLY A  23     -25.199  24.672  21.171  1.00 35.18           C  \nATOM    181  O   GLY A  23     -24.302  24.524  22.006  1.00 42.12           O  \nATOM    182  N   THR A  24     -26.362  24.028  21.242  1.00 31.94           N  \nATOM    183  CA  THR A  24     -26.686  23.097  22.315  1.00 26.87           C  \nATOM    184  C   THR A  24     -26.986  21.730  21.715  1.00 28.36           C  \nATOM    185  O   THR A  24     -27.813  21.617  20.806  1.00 30.58           O  \nATOM    186  CB  THR A  24     -27.882  23.592  23.135  1.00 26.11           C  \nATOM    187  OG1 THR A  24     -29.081  23.479  22.359  1.00 22.52           O  \nATOM    188  CG2 THR A  24     -27.686  25.046  23.543  1.00 28.41           C  \nATOM    189  N   TYR A  25     -26.315  20.702  22.224  1.00 30.69           N  \nATOM    190  CA  TYR A  25     -26.441  19.346  21.711  1.00 26.05           C  \nATOM    191  C   TYR A  25     -27.405  18.534  22.568  1.00 27.33           C  \nATOM    192  O   TYR A  25     -27.547  18.772  23.770  1.00 26.84           O  \nATOM    193  CB  TYR A  25     -25.068  18.668  21.671  1.00 23.29           C  \nATOM    194  CG  TYR A  25     -25.107  17.158  21.612  1.00 38.86           C  \nATOM    195  CD1 TYR A  25     -25.002  16.396  22.768  1.00 33.96           C  \nATOM    196  CD2 TYR A  25     -25.240  16.495  20.401  1.00 40.83           C  \nATOM    197  CE1 TYR A  25     -25.032  15.016  22.719  1.00 28.14           C  \nATOM    198  CE2 TYR A  25     -25.272  15.115  20.342  1.00 37.59           C  \nATOM    199  CZ  TYR A  25     -25.167  14.381  21.504  1.00 38.55           C  \nATOM    200  OH  TYR A  25     -25.197  13.007  21.451  1.00 54.40           O  \nATOM    201  N   GLU A  26     -28.073  17.570  21.933  1.00 32.20           N  \nATOM    202  CA  GLU A  26     -29.014  16.699  22.635  1.00 26.99           C  \nATOM    203  C   GLU A  26     -29.027  15.352  21.929  1.00 28.80           C  \nATOM    204  O   GLU A  26     -29.515  15.250  20.800  1.00 31.32           O  \nATOM    205  CB  GLU A  26     -30.410  17.315  22.666  1.00 25.49           C  \nATOM    206  CG  GLU A  26     -31.497  16.393  23.201  1.00 27.99           C  \nATOM    207  CD  GLU A  26     -32.857  17.061  23.234  1.00 37.69           C  \nATOM    208  OE1 GLU A  26     -32.911  18.307  23.171  1.00 50.05           O  \nATOM    209  OE2 GLU A  26     -33.873  16.339  23.317  1.00 27.69           O  \nATOM    210  N   GLY A  27     -28.505  14.322  22.591  1.00 32.78           N  \nATOM    211  CA  GLY A  27     -28.444  12.999  22.010  1.00 40.43           C  \nATOM    212  C   GLY A  27     -28.528  11.928  23.075  1.00 30.90           C  \nATOM    213  O   GLY A  27     -28.692  12.212  24.263  1.00 38.01           O  \nATOM    214  N   ASN A  28     -28.410  10.678  22.629  1.00 33.08           N  \nATOM    215  CA  ASN A  28     -28.477   9.515  23.502  1.00 38.88           C  \nATOM    216  C   ASN A  28     -27.095   9.012  23.906  1.00 32.36           C  \nATOM    217  O   ASN A  28     -26.955   7.848  24.296  1.00 24.04           O  \nATOM    218  CB  ASN A  28     -29.258   8.392  22.818  1.00 35.03           C  \nATOM    219  CG  ASN A  28     -30.632   8.833  22.353  1.00 41.95           C  \nATOM    220  OD1 ASN A  28     -31.601   8.783  23.111  1.00 30.37           O  \nATOM    221  ND2 ASN A  28     -30.724   9.261  21.099  1.00 50.84           N  \nATOM    222  N   SER A  29     -26.072   9.860  23.813  1.00 33.25           N  \nATOM    223  CA  SER A  29     -24.715   9.477  24.174  1.00 33.06           C  \nATOM    224  C   SER A  29     -23.922  10.744  24.440  1.00 38.34           C  \nATOM    225  O   SER A  29     -24.263  11.804  23.903  1.00 36.06           O  \nATOM    226  CB  SER A  29     -24.055   8.650  23.061  1.00 37.05           C  \nATOM    227  OG  SER A  29     -24.002   9.379  21.847  1.00 65.69           O  \nATOM    228  N   PRO A  30     -22.869  10.677  25.255  1.00 50.75           N  \nATOM    229  CA  PRO A  30     -22.118  11.895  25.576  1.00 38.97           C  \nATOM    230  C   PRO A  30     -21.505  12.524  24.334  1.00 44.89           C  \nATOM    231  O   PRO A  30     -21.214  11.851  23.343  1.00 35.92           O  \nATOM    232  CB  PRO A  30     -21.039  11.406  26.552  1.00 39.26           C  \nATOM    233  CG  PRO A  30     -20.938   9.937  26.317  1.00 51.70           C  \nATOM    234  CD  PRO A  30     -22.309   9.489  25.922  1.00 56.22           C  \nATOM    235  N   PHE A  31     -21.314  13.839  24.403  1.00 42.79           N  \nATOM    236  CA  PHE A  31     -20.755  14.610  23.300  1.00 35.82           C  \nATOM    237  C   PHE A  31     -19.236  14.621  23.419  1.00 40.43           C  \nATOM    238  O   PHE A  31     -18.692  15.091  24.425  1.00 45.48           O  \nATOM    239  CB  PHE A  31     -21.319  16.030  23.315  1.00 34.16           C  \nATOM    240  CG  PHE A  31     -20.827  16.897  22.192  1.00 43.94           C  \nATOM    241  CD1 PHE A  31     -21.327  16.745  20.910  1.00 40.02           C  \nATOM    242  CD2 PHE A  31     -19.876  17.876  22.423  1.00 53.31           C  \nATOM    243  CE1 PHE A  31     -20.879  17.546  19.877  1.00 37.41           C  \nATOM    244  CE2 PHE A  31     -19.425  18.680  21.395  1.00 36.24           C  \nATOM    245  CZ  PHE A  31     -19.927  18.515  20.121  1.00 32.72           C  \nATOM    246  N   HIS A  32     -18.553  14.101  22.396  1.00 42.35           N  \nATOM    247  CA  HIS A  32     -17.097  13.981  22.391  1.00 40.74           C  \nATOM    248  C   HIS A  32     -16.508  14.996  21.419  1.00 36.19           C  \nATOM    249  O   HIS A  32     -16.304  14.684  20.236  1.00 45.98           O  \nATOM    250  CB  HIS A  32     -16.671  12.561  22.009  1.00 37.84           C  \nATOM    251  CG  HIS A  32     -17.386  11.488  22.769  1.00 43.87           C  \nATOM    252  ND1 HIS A  32     -18.498  10.842  22.274  1.00 46.90           N  \nATOM    253  CD2 HIS A  32     -17.147  10.947  23.986  1.00 59.04           C  \nATOM    254  CE1 HIS A  32     -18.913   9.948  23.154  1.00 43.84           C  \nATOM    255  NE2 HIS A  32     -18.111   9.992  24.202  1.00 56.63           N  \nATOM    256  N   PRO A  33     -16.214  16.217  21.858  1.00 32.12           N  \nATOM    257  CA  PRO A  33     -15.606  17.197  20.955  1.00 38.26           C  \nATOM    258  C   PRO A  33     -14.118  16.956  20.761  1.00 51.25           C  \nATOM    259  O   PRO A  33     -13.417  16.459  21.646  1.00 36.09           O  \nATOM    260  CB  PRO A  33     -15.858  18.532  21.665  1.00 33.62           C  \nATOM    261  CG  PRO A  33     -15.908  18.175  23.107  1.00 39.48           C  \nATOM    262  CD  PRO A  33     -16.506  16.794  23.183  1.00 48.05           C  \nATOM    263  N   LEU A  34     -13.643  17.320  19.572  1.00 41.31           N  \nATOM    264  CA  LEU A  34     -12.234  17.250  19.217  1.00 40.73           C  \nATOM    265  C   LEU A  34     -11.808  18.603  18.660  1.00 35.77           C  \nATOM    266  O   LEU A  34     -12.606  19.540  18.566  1.00 37.53           O  \nATOM    267  CB  LEU A  34     -11.972  16.130  18.201  1.00 39.90           C  \nATOM    268  CG  LEU A  34     -12.307  14.707  18.654  1.00 43.19           C  \nATOM    269  CD1 LEU A  34     -12.115  13.724  17.509  1.00 55.78           C  \nATOM    270  CD2 LEU A  34     -11.458  14.306  19.851  1.00 62.47           C  \nATOM    271  N   ALA A  35     -10.537  18.704  18.285  1.00 42.24           N  \nATOM    272  CA  ALA A  35     -10.017  19.947  17.740  1.00 61.41           C  \nATOM    273  C   ALA A  35     -10.598  20.206  16.351  1.00 55.31           C  \nATOM    274  O   ALA A  35     -11.198  19.331  15.719  1.00 51.89           O  \nATOM    275  CB  ALA A  35      -8.491  19.906  17.679  1.00 63.48           C  \nATOM    276  N   ASP A  36     -10.416  21.439  15.879  1.00 58.01           N  \nATOM    277  CA  ASP A  36     -10.860  21.850  14.547  1.00 59.85           C  \nATOM    278  C   ASP A  36     -12.380  21.797  14.412  1.00 57.48           C  \nATOM    279  O   ASP A  36     -12.909  21.572  13.320  1.00 61.22           O  \nATOM    280  CB  ASP A  36     -10.200  20.996  13.460  1.00 71.53           C  \nATOM    281  CG  ASP A  36      -8.686  21.061  13.506  1.00 76.55           C  \nATOM    282  OD1 ASP A  36      -8.147  22.101  13.941  1.00 84.11           O  \nATOM    283  OD2 ASP A  36      -8.034  20.073  13.108  1.00 63.26           O  \nATOM    284  N   ASN A  37     -13.093  22.007  15.518  1.00 58.24           N  \nATOM    285  CA  ASN A  37     -14.554  22.062  15.520  1.00 51.74           C  \nATOM    286  C   ASN A  37     -15.154  20.793  14.907  1.00 49.02           C  \nATOM    287  O   ASN A  37     -15.832  20.822  13.878  1.00 48.92           O  \nATOM    288  CB  ASN A  37     -15.050  23.314  14.788  1.00 51.02           C  \nATOM    289  CG  ASN A  37     -14.663  24.596  15.499  1.00 54.84           C  \nATOM    290  OD1 ASN A  37     -14.507  24.619  16.720  1.00 77.82           O  \nATOM    291  ND2 ASN A  37     -14.509  25.672  14.737  1.00 57.57           N  \nATOM    292  N   LYS A  38     -14.891  19.670  15.569  1.00 45.61           N  \nATOM    293  CA  LYS A  38     -15.433  18.379  15.173  1.00 46.30           C  \nATOM    294  C   LYS A  38     -15.951  17.658  16.409  1.00 57.91           C  \nATOM    295  O   LYS A  38     -15.578  17.978  17.540  1.00 48.38           O  \nATOM    296  CB  LYS A  38     -14.379  17.508  14.473  1.00 45.22           C  \nATOM    297  CG  LYS A  38     -13.686  18.170  13.293  1.00 55.24           C  \nATOM    298  CD  LYS A  38     -12.523  17.319  12.802  1.00 58.20           C  \nATOM    299  CE  LYS A  38     -11.753  18.001  11.682  1.00 73.16           C  \nATOM    300  NZ  LYS A  38     -12.548  18.109  10.430  1.00 94.39           N  \nATOM    301  N   PHE A  39     -16.811  16.667  16.186  1.00 36.80           N  \nATOM    302  CA  PHE A  39     -17.291  15.825  17.272  1.00 27.99           C  \nATOM    303  C   PHE A  39     -17.355  14.380  16.803  1.00 33.66           C  \nATOM    304  O   PHE A  39     -17.784  14.099  15.681  1.00 38.38           O  \nATOM    305  CB  PHE A  39     -18.664  16.285  17.787  1.00 36.79           C  \nATOM    306  CG  PHE A  39     -19.786  16.088  16.808  1.00 35.06           C  \nATOM    307  CD1 PHE A  39     -20.111  17.079  15.897  1.00 41.85           C  \nATOM    308  CD2 PHE A  39     -20.530  14.920  16.815  1.00 29.29           C  \nATOM    309  CE1 PHE A  39     -21.149  16.902  15.002  1.00 42.37           C  \nATOM    310  CE2 PHE A  39     -21.568  14.738  15.922  1.00 27.09           C  \nATOM    311  CZ  PHE A  39     -21.879  15.730  15.016  1.00 35.46           C  \nATOM    312  N   ALA A  40     -16.919  13.472  17.669  1.00 50.33           N  \nATOM    313  CA  ALA A  40     -16.868  12.051  17.367  1.00 33.66           C  \nATOM    314  C   ALA A  40     -17.877  11.294  18.219  1.00 36.99           C  \nATOM    315  O   ALA A  40     -18.326  11.772  19.265  1.00 55.62           O  \nATOM    316  CB  ALA A  40     -15.462  11.491  17.608  1.00 28.91           C  \nATOM    317  N   LEU A  41     -18.235  10.100  17.755  1.00 35.16           N  \nATOM    318  CA  LEU A  41     -19.150   9.251  18.508  1.00 33.24           C  \nATOM    319  C   LEU A  41     -19.140   7.850  17.914  1.00 33.54           C  \nATOM    320  O   LEU A  41     -18.771   7.648  16.754  1.00 31.71           O  \nATOM    321  CB  LEU A  41     -20.571   9.829  18.515  1.00 43.80           C  \nATOM    322  CG  LEU A  41     -21.241  10.060  17.158  1.00 42.59           C  \nATOM    323  CD1 LEU A  41     -21.891   8.787  16.638  1.00 31.19           C  \nATOM    324  CD2 LEU A  41     -22.263  11.184  17.252  1.00 32.29           C  \nATOM    325  N   THR A  42     -19.555   6.885  18.729  1.00 32.37           N  \nATOM    326  CA  THR A  42     -19.615   5.498  18.296  1.00 32.79           C  \nATOM    327  C   THR A  42     -20.818   5.275  17.387  1.00 36.50           C  \nATOM    328  O   THR A  42     -21.850   5.939  17.509  1.00 31.63           O  \nATOM    329  CB  THR A  42     -19.690   4.562  19.503  1.00 32.19           C  \nATOM    330  OG1 THR A  42     -18.504   4.704  20.296  1.00 39.02           O  \nATOM    331  CG2 THR A  42     -19.827   3.112  19.058  1.00 33.48           C  \nATOM    332  N   CYS A  43     -20.673   4.323  16.468  1.00 38.81           N  \nATOM    333  CA  CYS A  43     -21.717   4.039  15.495  1.00 38.24           C  \nATOM    334  C   CYS A  43     -22.807   3.174  16.115  1.00 31.99           C  \nATOM    335  O   CYS A  43     -22.523   2.127  16.706  1.00 32.40           O  \nATOM    336  CB  CYS A  43     -21.127   3.338  14.273  1.00 41.94           C  \nATOM    337  SG  CYS A  43     -22.354   2.849  13.040  1.00 49.63           S  \nATOM    338  N   PHE A  44     -24.055   3.615  15.974  1.00 30.51           N  \nATOM    339  CA  PHE A  44     -25.212   2.848  16.413  1.00 32.05           C  \nATOM    340  C   PHE A  44     -26.466   3.582  15.964  1.00 27.36           C  \nATOM    341  O   PHE A  44     -26.553   4.804  16.104  1.00 26.07           O  \nATOM    342  CB  PHE A  44     -25.218   2.651  17.936  1.00 28.28           C  \nATOM    343  CG  PHE A  44     -25.347   3.927  18.718  1.00 26.99           C  \nATOM    344  CD1 PHE A  44     -26.549   4.270  19.313  1.00 22.49           C  \nATOM    345  CD2 PHE A  44     -24.266   4.781  18.861  1.00 25.16           C  \nATOM    346  CE1 PHE A  44     -26.670   5.442  20.036  1.00 22.71           C  \nATOM    347  CE2 PHE A  44     -24.383   5.955  19.581  1.00 27.31           C  \nATOM    348  CZ  PHE A  44     -25.587   6.285  20.169  1.00 22.55           C  \nATOM    349  N   SER A  45     -27.423   2.832  15.414  1.00 30.47           N  \nATOM    350  CA  SER A  45     -28.655   3.415  14.894  1.00 29.79           C  \nATOM    351  C   SER A  45     -29.285   4.339  15.929  1.00 22.07           C  \nATOM    352  O   SER A  45     -29.721   3.878  16.988  1.00 28.10           O  \nATOM    353  CB  SER A  45     -29.641   2.314  14.496  1.00 37.06           C  \nATOM    354  OG  SER A  45     -29.076   1.445  13.529  1.00 47.07           O  \nATOM    355  N   THR A  46     -29.341   5.638  15.643  1.00 23.15           N  \nATOM    356  CA  THR A  46     -29.802   6.596  16.644  1.00 30.50           C  \nATOM    357  C   THR A  46     -30.117   7.923  15.967  1.00 26.04           C  \nATOM    358  O   THR A  46     -29.871   8.111  14.773  1.00 37.32           O  \nATOM    359  CB  THR A  46     -28.756   6.789  17.747  1.00 39.11           C  \nATOM    360  OG1 THR A  46     -29.304   7.583  18.807  1.00 31.07           O  \nATOM    361  CG2 THR A  46     -27.514   7.478  17.192  1.00 28.60           C  \nATOM    362  N   GLN A  47     -30.673   8.843  16.757  1.00 31.42           N  \nATOM    363  CA  GLN A  47     -30.968  10.196  16.308  1.00 35.74           C  \nATOM    364  C   GLN A  47     -30.636  11.178  17.422  1.00 30.32           C  \nATOM    365  O   GLN A  47     -30.887  10.901  18.599  1.00 48.75           O  \nATOM    366  CB  GLN A  47     -32.442  10.351  15.908  1.00 44.50           C  \nATOM    367  CG  GLN A  47     -32.886   9.441  14.776  1.00 52.04           C  \nATOM    368  CD  GLN A  47     -34.303   9.733  14.320  1.00 42.39           C  \nATOM    369  OE1 GLN A  47     -34.894  10.742  14.704  1.00 26.94           O  \nATOM    370  NE2 GLN A  47     -34.856   8.849  13.497  1.00 41.98           N  \nATOM    371  N   PHE A  48     -30.073  12.324  17.044  1.00 19.32           N  \nATOM    372  CA  PHE A  48     -29.777  13.399  17.985  1.00 27.85           C  \nATOM    373  C   PHE A  48     -30.012  14.735  17.287  1.00 26.24           C  \nATOM    374  O   PHE A  48     -30.456  14.787  16.136  1.00 25.19           O  \nATOM    375  CB  PHE A  48     -28.350  13.279  18.539  1.00 32.96           C  \nATOM    376  CG  PHE A  48     -27.286  13.177  17.483  1.00 39.99           C  \nATOM    377  CD1 PHE A  48     -26.995  11.961  16.888  1.00 34.88           C  \nATOM    378  CD2 PHE A  48     -26.562  14.294  17.100  1.00 36.72           C  \nATOM    379  CE1 PHE A  48     -26.011  11.863  15.922  1.00 22.04           C  \nATOM    380  CE2 PHE A  48     -25.575  14.201  16.136  1.00 22.66           C  \nATOM    381  CZ  PHE A  48     -25.300  12.984  15.547  1.00 20.92           C  \nATOM    382  N   ALA A  49     -29.718  15.829  17.988  1.00 22.98           N  \nATOM    383  CA  ALA A  49     -30.066  17.149  17.487  1.00 26.96           C  \nATOM    384  C   ALA A  49     -29.102  18.203  18.012  1.00 26.00           C  \nATOM    385  O   ALA A  49     -28.494  18.048  19.076  1.00 21.35           O  \nATOM    386  CB  ALA A  49     -31.502  17.525  17.874  1.00 19.88           C  \nATOM    387  N   PHE A  50     -28.975  19.280  17.235  1.00 30.89           N  \nATOM    388  CA  PHE A  50     -28.226  20.470  17.607  1.00 27.06           C  \nATOM    389  C   PHE A  50     -29.121  21.687  17.430  1.00 35.99           C  \nATOM    390  O   PHE A  50     -29.812  21.815  16.414  1.00 32.48           O  \nATOM    391  CB  PHE A  50     -26.968  20.645  16.743  1.00 24.04           C  \nATOM    392  CG  PHE A  50     -25.851  19.705  17.087  1.00 22.13           C  \nATOM    393  CD1 PHE A  50     -25.955  18.352  16.820  1.00 24.35           C  \nATOM    394  CD2 PHE A  50     -24.683  20.183  17.658  1.00 24.70           C  \nATOM    395  CE1 PHE A  50     -24.922  17.490  17.130  1.00 34.17           C  \nATOM    396  CE2 PHE A  50     -23.647  19.326  17.970  1.00 25.87           C  \nATOM    397  CZ  PHE A  50     -23.766  17.978  17.705  1.00 29.92           C  \nATOM    398  N   ALA A  51     -29.106  22.579  18.416  1.00 25.96           N  \nATOM    399  CA  ALA A  51     -29.809  23.856  18.342  1.00 23.09           C  \nATOM    400  C   ALA A  51     -28.759  24.950  18.206  1.00 28.71           C  \nATOM    401  O   ALA A  51     -27.994  25.204  19.143  1.00 29.32           O  \nATOM    402  CB  ALA A  51     -30.687  24.077  19.571  1.00 19.12           C  \nATOM    403  N   CYS A  52     -28.720  25.589  17.043  1.00 25.73           N  \nATOM    404  CA  CYS A  52     -27.695  26.570  16.730  1.00 31.49           C  \nATOM    405  C   CYS A  52     -28.203  27.985  16.964  1.00 22.30           C  \nATOM    406  O   CYS A  52     -29.413  28.227  16.999  1.00 15.04           O  \nATOM    407  CB  CYS A  52     -27.243  26.416  15.275  1.00 25.46           C  \nATOM    408  SG  CYS A  52     -26.272  24.923  14.965  1.00 17.61           S  \nATOM    409  N   PRO A  53     -27.297  28.953  17.128  1.00 21.95           N  \nATOM    410  CA  PRO A  53     -27.745  30.331  17.389  1.00 18.46           C  \nATOM    411  C   PRO A  53     -28.555  30.930  16.254  1.00 29.70           C  \nATOM    412  O   PRO A  53     -29.439  31.758  16.506  1.00 22.06           O  \nATOM    413  CB  PRO A  53     -26.429  31.096  17.602  1.00 15.91           C  \nATOM    414  CG  PRO A  53     -25.403  30.051  17.893  1.00 33.37           C  \nATOM    415  CD  PRO A  53     -25.828  28.839  17.134  1.00 23.50           C  \nATOM    416  N   ASP A  54     -28.282  30.536  15.009  1.00 32.94           N  \nATOM    417  CA  ASP A  54     -28.977  31.108  13.862  1.00 40.93           C  \nATOM    418  C   ASP A  54     -30.453  30.733  13.811  1.00 30.91           C  \nATOM    419  O   ASP A  54     -31.177  31.265  12.962  1.00 38.70           O  \nATOM    420  CB  ASP A  54     -28.293  30.665  12.566  1.00 38.48           C  \nATOM    421  CG  ASP A  54     -28.260  29.156  12.410  1.00 38.21           C  \nATOM    422  OD1 ASP A  54     -28.769  28.451  13.306  1.00 32.10           O  \nATOM    423  OD2 ASP A  54     -27.723  28.675  11.390  1.00 31.51           O  \nATOM    424  N   GLY A  55     -30.916  29.845  14.686  1.00 26.13           N  \nATOM    425  CA  GLY A  55     -32.294  29.404  14.659  1.00 26.47           C  \nATOM    426  C   GLY A  55     -32.548  28.186  13.805  1.00 43.38           C  \nATOM    427  O   GLY A  55     -33.707  27.910  13.475  1.00 28.01           O  \nATOM    428  N   VAL A  56     -31.505  27.448  13.437  1.00 31.08           N  \nATOM    429  CA  VAL A  56     -31.621  26.267  12.590  1.00 25.63           C  \nATOM    430  C   VAL A  56     -31.373  25.042  13.458  1.00 30.39           C  \nATOM    431  O   VAL A  56     -30.302  24.908  14.064  1.00 46.09           O  \nATOM    432  CB  VAL A  56     -30.635  26.318  11.413  1.00 38.53           C  \nATOM    433  CG1 VAL A  56     -30.755  25.064  10.562  1.00 31.02           C  \nATOM    434  CG2 VAL A  56     -30.874  27.565  10.573  1.00 45.26           C  \nATOM    435  N   LYS A  57     -32.359  24.151  13.518  1.00 24.56           N  \nATOM    436  CA  LYS A  57     -32.252  22.919  14.292  1.00 24.98           C  \nATOM    437  C   LYS A  57     -31.708  21.821  13.384  1.00 24.88           C  \nATOM    438  O   LYS A  57     -32.413  21.336  12.493  1.00 23.33           O  \nATOM    439  CB  LYS A  57     -33.607  22.530  14.877  1.00 39.64           C  \nATOM    440  CG  LYS A  57     -33.580  21.258  15.711  1.00 29.95           C  \nATOM    441  CD  LYS A  57     -34.950  20.941  16.287  1.00 41.06           C  \nATOM    442  CE  LYS A  57     -34.920  19.670  17.119  1.00 52.94           C  \nATOM    443  NZ  LYS A  57     -36.253  19.353  17.703  1.00 46.57           N  \nATOM    444  N   HIS A  58     -30.459  21.427  13.614  1.00 25.71           N  \nATOM    445  CA  HIS A  58     -29.806  20.404  12.803  1.00 25.74           C  \nATOM    446  C   HIS A  58     -30.079  19.040  13.427  1.00 22.53           C  \nATOM    447  O   HIS A  58     -29.502  18.696  14.462  1.00 20.48           O  \nATOM    448  CB  HIS A  58     -28.307  20.675  12.703  1.00 22.28           C  \nATOM    449  CG  HIS A  58     -27.970  21.980  12.052  1.00 24.88           C  \nATOM    450  ND1 HIS A  58     -27.494  22.067  10.762  1.00 26.71           N  \nATOM    451  CD2 HIS A  58     -28.042  23.251  12.513  1.00 35.40           C  \nATOM    452  CE1 HIS A  58     -27.286  23.336  10.456  1.00 38.03           C  \nATOM    453  NE2 HIS A  58     -27.610  24.075  11.502  1.00 43.78           N  \nATOM    454  N   VAL A  59     -30.964  18.271  12.807  1.00 24.11           N  \nATOM    455  CA  VAL A  59     -31.284  16.926  13.269  1.00 20.29           C  \nATOM    456  C   VAL A  59     -30.369  15.937  12.564  1.00 19.22           C  \nATOM    457  O   VAL A  59     -30.138  16.037  11.353  1.00 28.12           O  \nATOM    458  CB  VAL A  59     -32.767  16.596  13.013  1.00 24.26           C  \nATOM    459  CG1 VAL A  59     -33.108  15.216  13.560  1.00 26.13           C  \nATOM    460  CG2 VAL A  59     -33.661  17.659  13.633  1.00 24.42           C  \nATOM    461  N   TYR A  60     -29.843  14.977  13.321  1.00 20.87           N  \nATOM    462  CA  TYR A  60     -28.923  13.974  12.810  1.00 15.93           C  \nATOM    463  C   TYR A  60     -29.487  12.587  13.073  1.00 21.80           C  \nATOM    464  O   TYR A  60     -30.055  12.332  14.139  1.00 34.83           O  \nATOM    465  CB  TYR A  60     -27.548  14.097  13.470  1.00 22.29           C  \nATOM    466  CG  TYR A  60     -26.773  15.335  13.084  1.00 20.75           C  \nATOM    467  CD1 TYR A  60     -27.207  16.598  13.461  1.00 19.06           C  \nATOM    468  CD2 TYR A  60     -25.595  15.238  12.356  1.00 19.61           C  \nATOM    469  CE1 TYR A  60     -26.497  17.730  13.113  1.00 21.78           C  \nATOM    470  CE2 TYR A  60     -24.878  16.363  12.004  1.00 22.57           C  \nATOM    471  CZ  TYR A  60     -25.332  17.607  12.386  1.00 23.37           C  \nATOM    472  OH  TYR A  60     -24.620  18.730  12.037  1.00 44.82           O  \nATOM    473  N   GLN A  61     -29.317  11.693  12.101  1.00 36.00           N  \nATOM    474  CA  GLN A  61     -29.764  10.310  12.224  1.00 38.18           C  \nATOM    475  C   GLN A  61     -28.699   9.404  11.630  1.00 35.30           C  \nATOM    476  O   GLN A  61     -28.335   9.556  10.460  1.00 30.67           O  \nATOM    477  CB  GLN A  61     -31.106  10.095  11.518  1.00 31.35           C  \nATOM    478  CG  GLN A  61     -31.554   8.641  11.466  1.00 34.25           C  \nATOM    479  CD  GLN A  61     -32.958   8.481  10.918  1.00 48.20           C  \nATOM    480  OE1 GLN A  61     -33.623   9.463  10.587  1.00 47.12           O  \nATOM    481  NE2 GLN A  61     -33.417   7.239  10.820  1.00 35.96           N  \nATOM    482  N   LEU A  62     -28.201   8.468  12.433  1.00 29.28           N  \nATOM    483  CA  LEU A  62     -27.227   7.486  11.983  1.00 28.26           C  \nATOM    484  C   LEU A  62     -27.878   6.113  11.898  1.00 35.30           C  \nATOM    485  O   LEU A  62     -28.658   5.728  12.778  1.00 54.41           O  \nATOM    486  CB  LEU A  62     -26.020   7.421  12.923  1.00 31.11           C  \nATOM    487  CG  LEU A  62     -25.030   8.587  12.881  1.00 35.47           C  \nATOM    488  CD1 LEU A  62     -23.842   8.283  13.773  1.00 35.48           C  \nATOM    489  CD2 LEU A  62     -24.568   8.871  11.462  1.00 53.74           C  \nATOM    490  N   ARG A  63     -27.553   5.388  10.830  1.00 34.53           N  \nATOM    491  CA  ARG A  63     -28.006   4.018  10.625  1.00 32.18           C  \nATOM    492  C   ARG A  63     -26.801   3.089  10.699  1.00 37.92           C  \nATOM    493  O   ARG A  63     -25.828   3.266   9.957  1.00 40.28           O  \nATOM    494  CB  ARG A  63     -28.712   3.869   9.275  1.00 38.26           C  \nATOM    495  CG  ARG A  63     -29.179   2.452   8.958  1.00 61.06           C  \nATOM    496  CD  ARG A  63     -30.417   2.070   9.752  1.00 58.78           C  \nATOM    497  NE  ARG A  63     -31.646   2.414   9.041  1.00 73.90           N  \nATOM    498  CZ  ARG A  63     -32.176   1.686   8.060  1.00 75.16           C  \nATOM    499  NH1 ARG A  63     -31.590   0.565   7.659  1.00 67.62           N  \nATOM    500  NH2 ARG A  63     -33.298   2.083   7.475  1.00 66.76           N  \nATOM    501  N   ALA A  64     -26.875   2.096  11.578  1.00 39.03           N  \nATOM    502  CA  ALA A  64     -25.768   1.184  11.818  1.00 41.62           C  \nATOM    503  C   ALA A  64     -25.941  -0.090  11.002  1.00 31.95           C  \nATOM    504  O   ALA A  64     -27.035  -0.658  10.939  1.00 32.08           O  \nATOM    505  CB  ALA A  64     -25.662   0.841  13.304  1.00 39.73           C  \nATOM    506  N   ARG A  65     -24.851  -0.531  10.376  1.00 31.04           N  \nATOM    507  CA  ARG A  65     -24.833  -1.761   9.599  1.00 31.83           C  \nATOM    508  C   ARG A  65     -23.609  -2.581   9.981  1.00 31.27           C  \nATOM    509  O   ARG A  65     -22.592  -2.040  10.422  1.00 25.89           O  \nATOM    510  CB  ARG A  65     -24.825  -1.476   8.089  1.00 39.41           C  \nATOM    511  CG  ARG A  65     -23.741  -0.506   7.640  1.00 43.27           C  \nATOM    512  CD  ARG A  65     -23.806  -0.261   6.139  1.00 33.57           C  \nATOM    513  NE  ARG A  65     -22.884   0.788   5.709  1.00 35.96           N  \nATOM    514  CZ  ARG A  65     -21.601   0.595   5.410  1.00 45.38           C  \nATOM    515  NH1 ARG A  65     -21.060  -0.615   5.491  1.00 33.30           N  \nATOM    516  NH2 ARG A  65     -20.854   1.621   5.029  1.00 35.71           N  \nATOM    517  N   SER A  66     -23.720  -3.894   9.811  1.00 31.50           N  \nATOM    518  CA  SER A  66     -22.636  -4.806  10.158  1.00 43.18           C  \nATOM    519  C   SER A  66     -21.925  -5.309   8.907  1.00 43.29           C  \nATOM    520  O   SER A  66     -21.017  -6.136   8.988  1.00 57.40           O  \nATOM    521  CB  SER A  66     -23.170  -5.987  10.969  1.00 52.52           C  \nATOM    522  OG  SER A  66     -24.139  -6.712  10.233  1.00 32.86           O  \nHETATM  523  O   HOH A 101     -15.156   1.771  18.304  1.00 28.67           O  \nHETATM  524  O   HOH A 102     -34.358  25.671  13.835  1.00 28.71           O  \nHETATM  525  O   HOH A 103     -21.221  22.900   8.980  1.00 22.51           O  \nTER     526      HOH A 103                                                       \nEND   \n",
           "type": "blob"
          }
         ],
         "kwargs": {
          "defaultRepresentation": true,
          "ext": "pdb"
         },
         "methodName": "loadFile",
         "reconstruc_color_scheme": false,
         "target": "Stage",
         "type": "call_method"
        }
       ],
       "_ngl_original_stage_parameters": {
        "ambientColor": 14540253,
        "ambientIntensity": 0.2,
        "backgroundColor": "white",
        "cameraEyeSep": 0.3,
        "cameraFov": 40,
        "cameraType": "perspective",
        "clipDist": 10,
        "clipFar": 100,
        "clipNear": 0,
        "fogFar": 100,
        "fogNear": 50,
        "hoverTimeout": 0,
        "impostor": true,
        "lightColor": 14540253,
        "lightIntensity": 1,
        "mousePreset": "default",
        "panSpeed": 1,
        "quality": "medium",
        "rotateSpeed": 2,
        "sampleLevel": 0,
        "tooltip": true,
        "workerDefault": true,
        "zoomSpeed": 1.2
       },
       "_ngl_repr_dict": {
        "0": {
         "0": {
          "params": {
           "aspectRatio": 5,
           "assembly": "default",
           "capped": true,
           "clipCenter": {
            "x": 0,
            "y": 0,
            "z": 0
           },
           "clipNear": 0,
           "clipRadius": 0,
           "colorMode": "hcl",
           "colorReverse": true,
           "colorScale": "spectral",
           "colorScheme": "residueindex",
           "colorValue": 9474192,
           "defaultAssembly": "",
           "depthWrite": true,
           "diffuse": 16777215,
           "diffuseInterior": false,
           "disablePicking": false,
           "flatShaded": false,
           "interiorColor": 2236962,
           "interiorDarkening": 0,
           "lazy": false,
           "matrix": {
            "elements": [
             1,
             0,
             0,
             0,
             0,
             1,
             0,
             0,
             0,
             0,
             1,
             0,
             0,
             0,
             0,
             1
            ]
           },
           "metalness": 0,
           "opacity": 1,
           "quality": "high",
           "radialSegments": 20,
           "radiusData": {},
           "radiusScale": 0.7,
           "radiusSize": 1,
           "radiusType": "sstruc",
           "roughness": 0.4,
           "sele": "",
           "side": "double",
           "smoothSheet": false,
           "subdiv": 6,
           "tension": null,
           "useInteriorColor": true,
           "visible": true,
           "wireframe": false
          },
          "type": "cartoon"
         },
         "1": {
          "params": {
           "aspectRatio": 1,
           "assembly": "default",
           "bondScale": 0.4,
           "clipCenter": {
            "x": 0,
            "y": 0,
            "z": 0
           },
           "clipNear": 0,
           "clipRadius": 0,
           "colorMode": "hcl",
           "colorReverse": true,
           "colorScale": "spectral",
           "colorScheme": "residueindex",
           "colorValue": 9474192,
           "cylinderOnly": false,
           "defaultAssembly": "",
           "depthWrite": true,
           "diffuse": 16777215,
           "diffuseInterior": false,
           "disableImpostor": false,
           "disablePicking": false,
           "flatShaded": false,
           "interiorColor": 2236962,
           "interiorDarkening": 0,
           "lazy": false,
           "lineOnly": false,
           "linewidth": 2,
           "matrix": {
            "elements": [
             1,
             0,
             0,
             0,
             0,
             1,
             0,
             0,
             0,
             0,
             1,
             0,
             0,
             0,
             0,
             1
            ]
           },
           "metalness": 0,
           "opacity": 1,
           "openEnded": true,
           "quality": "high",
           "radialSegments": 20,
           "radiusData": {},
           "radiusScale": 1,
           "radiusSize": 0.3,
           "radiusType": "size",
           "roughness": 0.4,
           "sele": "",
           "side": "double",
           "sphereDetail": 2,
           "useInteriorColor": true,
           "visible": true,
           "wireframe": false
          },
          "type": "base"
         },
         "2": {
          "params": {
           "aspectRatio": 1.5,
           "assembly": "default",
           "bondScale": 0.3,
           "bondSpacing": 0.75,
           "clipCenter": {
            "x": 0,
            "y": 0,
            "z": 0
           },
           "clipNear": 0,
           "clipRadius": 0,
           "colorMode": "hcl",
           "colorReverse": false,
           "colorScale": "",
           "colorScheme": "element",
           "colorValue": 9474192,
           "cylinderOnly": false,
           "defaultAssembly": "",
           "depthWrite": true,
           "diffuse": 16777215,
           "diffuseInterior": false,
           "disableImpostor": false,
           "disablePicking": false,
           "flatShaded": false,
           "interiorColor": 2236962,
           "interiorDarkening": 0,
           "lazy": false,
           "lineOnly": false,
           "linewidth": 2,
           "matrix": {
            "elements": [
             1,
             0,
             0,
             0,
             0,
             1,
             0,
             0,
             0,
             0,
             1,
             0,
             0,
             0,
             0,
             1
            ]
           },
           "metalness": 0,
           "multipleBond": "off",
           "opacity": 1,
           "openEnded": true,
           "quality": "high",
           "radialSegments": 20,
           "radiusData": {},
           "radiusScale": 2,
           "radiusSize": 0.15,
           "radiusType": "size",
           "roughness": 0.4,
           "sele": "ligand",
           "side": "double",
           "sphereDetail": 2,
           "useInteriorColor": true,
           "visible": true,
           "wireframe": false
          },
          "type": "ball+stick"
         }
        }
       },
       "_ngl_serialize": false,
       "_ngl_version": "2.0.0-dev.36",
       "_ngl_view_id": [
        "9B7DC9D5-DDB9-4AF9-A60C-6595C2A27BBE"
       ],
       "_player_dict": {},
       "_scene_position": {},
       "_scene_rotation": {},
       "_synced_model_ids": [],
       "_synced_repr_model_ids": [],
       "_view_height": "",
       "_view_width": "",
       "background": "white",
       "frame": 0,
       "gui_style": null,
       "layout": "IPY_MODEL_988aa1e08c334f13aa846e9c503a69e6",
       "max_frame": 0,
       "n_components": 1,
       "picked": {}
      }
     },
     "82e622e4dedc4fa3bc925768edabef44": {
      "model_module": "@jupyter-widgets/base",
      "model_module_version": "1.2.0",
      "model_name": "LayoutModel",
      "state": {}
     },
     "8535022eb5bd4f62aa3c6794e67d3079": {
      "model_module": "@jupyter-widgets/controls",
      "model_module_version": "1.5.0",
      "model_name": "ButtonStyleModel",
      "state": {}
     },
     "860a72a56b20403890ccc0fcba6af809": {
      "model_module": "@jupyter-widgets/controls",
      "model_module_version": "1.5.0",
      "model_name": "ButtonModel",
      "state": {
       "icon": "compress",
       "layout": "IPY_MODEL_4856e8994e7647c9b479eec966619c8d",
       "style": "IPY_MODEL_bbe5b0f885814e9a9059bfebe7ae885b"
      }
     },
     "8af069f7f2824aa7a710af056358dfaf": {
      "model_module": "@jupyter-widgets/controls",
      "model_module_version": "1.5.0",
      "model_name": "PlayModel",
      "state": {
       "layout": "IPY_MODEL_2f1690d42093493ab87ec093f133b5b2",
       "max": 0,
       "style": "IPY_MODEL_ac98c5a34be641bfa03a88316c6feb03"
      }
     },
     "8e8e7122485647a18e5c9d659b0c9170": {
      "model_module": "@jupyter-widgets/base",
      "model_module_version": "1.2.0",
      "model_name": "LayoutModel",
      "state": {}
     },
     "97039ccf6d014056a4c927a93070511c": {
      "model_module": "@jupyter-widgets/controls",
      "model_module_version": "1.5.0",
      "model_name": "LinkModel",
      "state": {
       "source": [
        "IPY_MODEL_b0eb721f968f487789fe6327e8033ed1",
        "max"
       ],
       "target": [
        "IPY_MODEL_a2e7265769264e5c8eb454abc22bf5f1",
        "max_frame"
       ]
      }
     },
     "988aa1e08c334f13aa846e9c503a69e6": {
      "model_module": "@jupyter-widgets/base",
      "model_module_version": "1.2.0",
      "model_name": "LayoutModel",
      "state": {}
     },
     "9cb01a594cf74e81af06356d75b2990a": {
      "model_module": "@jupyter-widgets/base",
      "model_module_version": "1.2.0",
      "model_name": "LayoutModel",
      "state": {}
     },
     "9dc1e754a21b429696b0917724a11b2b": {
      "model_module": "@jupyter-widgets/base",
      "model_module_version": "1.2.0",
      "model_name": "LayoutModel",
      "state": {
       "width": "34px"
      }
     },
     "9f13d97275a54be3a47c1d5a25570a86": {
      "model_module": "nglview-js-widgets",
      "model_module_version": "2.7.7",
      "model_name": "NGLModel",
      "state": {
       "_camera_orientation": [
        8.570105470569871,
        -37.829857650571675,
        -23.54940312285187,
        0,
        11.732680240405612,
        25.05043697744088,
        -35.97136425960816,
        0,
        42.98856512703681,
        0.7047712100592319,
        14.512263467211751,
        0,
        22.470288276672363,
        -13.10406231880188,
        -16.124666929244995,
        1
       ],
       "_camera_str": "orthographic",
       "_gui_theme": null,
       "_ibtn_fullscreen": "IPY_MODEL_860a72a56b20403890ccc0fcba6af809",
       "_igui": null,
       "_iplayer": "IPY_MODEL_679e18d1cba44ef9b4097e4a60faaf21",
       "_ngl_color_dict": {},
       "_ngl_coordinate_resource": {},
       "_ngl_full_stage_parameters": {
        "ambientColor": 14540253,
        "ambientIntensity": 0.2,
        "backgroundColor": "white",
        "cameraEyeSep": 0.3,
        "cameraFov": 40,
        "cameraType": "perspective",
        "clipDist": 10,
        "clipFar": 100,
        "clipNear": 0,
        "fogFar": 100,
        "fogNear": 50,
        "hoverTimeout": 0,
        "impostor": true,
        "lightColor": 14540253,
        "lightIntensity": 1,
        "mousePreset": "default",
        "panSpeed": 1,
        "quality": "medium",
        "rotateSpeed": 2,
        "sampleLevel": 0,
        "tooltip": true,
        "workerDefault": true,
        "zoomSpeed": 1.2
       },
       "_ngl_msg_archive": [
        {
         "args": [
          {
           "binary": false,
           "data": "ATOM      1  N   GLU A   1     -35.002  23.721  10.106  1.00 31.16           N  \nATOM      2  CA  GLU A   1     -34.808  22.363  10.600  1.00 38.49           C  \nATOM      3  C   GLU A   1     -34.161  21.487   9.532  1.00 33.79           C  \nATOM      4  O   GLU A   1     -34.848  20.775   8.799  1.00 30.23           O  \nATOM      5  CB  GLU A   1     -36.142  21.759  11.042  1.00 35.36           C  \nATOM      6  CG  GLU A   1     -36.798  22.497  12.198  1.00 51.28           C  \nATOM      7  CD  GLU A   1     -38.121  21.881  12.609  1.00 45.59           C  \nATOM      8  OE1 GLU A   1     -38.662  21.061  11.838  1.00 45.91           O  \nATOM      9  OE2 GLU A   1     -38.618  22.216  13.705  1.00 66.17           O  \nATOM     10  N   LEU A   2     -32.834  21.542   9.452  1.00 25.08           N  \nATOM     11  CA  LEU A   2     -32.081  20.794   8.453  1.00 28.95           C  \nATOM     12  C   LEU A   2     -31.782  19.399   8.990  1.00 29.65           C  \nATOM     13  O   LEU A   2     -31.148  19.255  10.040  1.00 39.99           O  \nATOM     14  CB  LEU A   2     -30.788  21.526   8.099  1.00 30.68           C  \nATOM     15  CG  LEU A   2     -30.950  23.002   7.727  1.00 38.41           C  \nATOM     16  CD1 LEU A   2     -29.599  23.636   7.434  1.00 29.08           C  \nATOM     17  CD2 LEU A   2     -31.890  23.165   6.542  1.00 53.76           C  \nATOM     18  N   TYR A   3     -32.234  18.379   8.268  1.00 28.35           N  \nATOM     19  CA  TYR A   3     -32.049  16.997   8.681  1.00 28.12           C  \nATOM     20  C   TYR A   3     -30.782  16.417   8.064  1.00 32.27           C  \nATOM     21  O   TYR A   3     -30.323  16.858   7.007  1.00 28.31           O  \nATOM     22  CB  TYR A   3     -33.256  16.149   8.277  1.00 31.24           C  \nATOM     23  CG  TYR A   3     -34.566  16.633   8.857  1.00 36.67           C  \nATOM     24  CD1 TYR A   3     -35.121  16.025   9.974  1.00 27.41           C  \nATOM     25  CD2 TYR A   3     -35.246  17.701   8.287  1.00 49.25           C  \nATOM     26  CE1 TYR A   3     -36.318  16.464  10.506  1.00 36.03           C  \nATOM     27  CE2 TYR A   3     -36.443  18.148   8.813  1.00 47.08           C  \nATOM     28  CZ  TYR A   3     -36.974  17.527   9.922  1.00 34.98           C  \nATOM     29  OH  TYR A   3     -38.166  17.970  10.447  1.00 35.89           O  \nATOM     30  N   HIS A   4     -30.219  15.420   8.743  1.00 27.80           N  \nATOM     31  CA  HIS A   4     -29.024  14.732   8.281  1.00 19.35           C  \nATOM     32  C   HIS A   4     -29.259  13.228   8.327  1.00 26.14           C  \nATOM     33  O   HIS A   4     -30.118  12.733   9.061  1.00 27.94           O  \nATOM     34  CB  HIS A   4     -27.794  15.090   9.130  1.00 15.38           C  \nATOM     35  CG  HIS A   4     -27.427  16.541   9.088  1.00 20.19           C  \nATOM     36  ND1 HIS A   4     -26.191  16.983   8.669  1.00 18.69           N  \nATOM     37  CD2 HIS A   4     -28.132  17.650   9.415  1.00 23.59           C  \nATOM     38  CE1 HIS A   4     -26.150  18.301   8.738  1.00 19.88           C  \nATOM     39  NE2 HIS A   4     -27.315  18.731   9.188  1.00 24.85           N  \nATOM     40  N   TYR A   5     -28.477  12.504   7.529  1.00 38.79           N  \nATOM     41  CA  TYR A   5     -28.554  11.052   7.486  1.00 27.99           C  \nATOM     42  C   TYR A   5     -27.200  10.510   7.057  1.00 25.23           C  \nATOM     43  O   TYR A   5     -26.478  11.146   6.284  1.00 22.78           O  \nATOM     44  CB  TYR A   5     -29.652  10.570   6.529  1.00 24.87           C  \nATOM     45  CG  TYR A   5     -29.814   9.065   6.476  1.00 30.43           C  \nATOM     46  CD1 TYR A   5     -29.040   8.292   5.619  1.00 28.55           C  \nATOM     47  CD2 TYR A   5     -30.744   8.419   7.279  1.00 32.46           C  \nATOM     48  CE1 TYR A   5     -29.185   6.919   5.568  1.00 36.68           C  \nATOM     49  CE2 TYR A   5     -30.896   7.046   7.234  1.00 31.65           C  \nATOM     50  CZ  TYR A   5     -30.115   6.301   6.377  1.00 34.48           C  \nATOM     51  OH  TYR A   5     -30.263   4.934   6.328  1.00 44.33           O  \nATOM     52  N   GLN A   6     -26.861   9.328   7.567  1.00 34.47           N  \nATOM     53  CA  GLN A   6     -25.574   8.717   7.271  1.00 33.16           C  \nATOM     54  C   GLN A   6     -25.574   7.287   7.787  1.00 34.04           C  \nATOM     55  O   GLN A   6     -26.147   7.003   8.843  1.00 33.71           O  \nATOM     56  CB  GLN A   6     -24.427   9.516   7.907  1.00 34.50           C  \nATOM     57  CG  GLN A   6     -23.051   8.884   7.750  1.00 52.88           C  \nATOM     58  CD  GLN A   6     -21.949   9.748   8.334  1.00 54.62           C  \nATOM     59  OE1 GLN A   6     -22.196  10.869   8.779  1.00 32.80           O  \nATOM     60  NE2 GLN A   6     -20.726   9.230   8.336  1.00 45.23           N  \nATOM     61  N   GLU A   7     -24.930   6.398   7.036  1.00 34.16           N  \nATOM     62  CA  GLU A   7     -24.786   5.000   7.412  1.00 35.09           C  \nATOM     63  C   GLU A   7     -23.351   4.723   7.838  1.00 45.21           C  \nATOM     64  O   GLU A   7     -22.400   5.145   7.170  1.00 41.88           O  \nATOM     65  CB  GLU A   7     -25.170   4.072   6.259  1.00 36.68           C  \nATOM     66  CG  GLU A   7     -26.594   4.253   5.768  1.00 51.43           C  \nATOM     67  CD  GLU A   7     -27.027   3.157   4.813  1.00 55.52           C  \nATOM     68  OE1 GLU A   7     -26.202   2.269   4.512  1.00 39.63           O  \nATOM     69  OE2 GLU A   7     -28.193   3.183   4.367  1.00 65.11           O  \nATOM     70  N   CYS A   8     -23.203   4.007   8.949  1.00 44.23           N  \nATOM     71  CA  CYS A   8     -21.892   3.692   9.496  1.00 33.22           C  \nATOM     72  C   CYS A   8     -21.856   2.230   9.914  1.00 36.82           C  \nATOM     73  O   CYS A   8     -22.893   1.593  10.116  1.00 32.94           O  \nATOM     74  CB  CYS A   8     -21.549   4.593  10.692  1.00 49.21           C  \nATOM     75  SG  CYS A   8     -22.763   4.563  12.032  1.00 44.42           S  \nATOM     76  N   VAL A   9     -20.639   1.709  10.052  1.00 26.95           N  \nATOM     77  CA  VAL A   9     -20.433   0.324  10.458  1.00 32.79           C  \nATOM     78  C   VAL A   9     -20.492   0.232  11.976  1.00 39.33           C  \nATOM     79  O   VAL A   9     -19.955   1.090  12.688  1.00 35.69           O  \nATOM     80  CB  VAL A   9     -19.091  -0.203   9.918  1.00 29.77           C  \nATOM     81  CG1 VAL A   9     -18.950  -1.691  10.204  1.00 29.92           C  \nATOM     82  CG2 VAL A   9     -18.969   0.076   8.428  1.00 31.87           C  \nATOM     83  N   ARG A  10     -21.145  -0.815  12.477  1.00 35.01           N  \nATOM     84  CA  ARG A  10     -21.294  -0.987  13.917  1.00 33.43           C  \nATOM     85  C   ARG A  10     -19.932  -1.016  14.598  1.00 35.84           C  \nATOM     86  O   ARG A  10     -19.007  -1.694  14.141  1.00 33.69           O  \nATOM     87  CB  ARG A  10     -22.060  -2.276  14.218  1.00 37.86           C  \nATOM     88  CG  ARG A  10     -23.500  -2.273  13.733  1.00 48.77           C  \nATOM     89  CD  ARG A  10     -24.249  -3.514  14.190  1.00 33.84           C  \nATOM     90  NE  ARG A  10     -25.575  -3.610  13.583  1.00 24.35           N  \nATOM     91  CZ  ARG A  10     -26.639  -2.918  13.982  1.00 18.91           C  \nATOM     92  NH1 ARG A  10     -26.551  -2.064  14.994  1.00 43.51           N  \nATOM     93  NH2 ARG A  10     -27.800  -3.080  13.362  1.00 23.67           N  \nATOM     94  N   GLY A  11     -19.813  -0.275  15.694  1.00 55.52           N  \nATOM     95  CA  GLY A  11     -18.600  -0.239  16.495  1.00 59.77           C  \nATOM     96  C   GLY A  11     -17.596   0.817  16.085  1.00 54.98           C  \nATOM     97  O   GLY A  11     -17.025   1.496  16.941  1.00 71.18           O  \nATOM     98  N   THR A  12     -17.368   0.968  14.783  1.00 48.29           N  \nATOM     99  CA  THR A  12     -16.383   1.928  14.305  1.00 48.71           C  \nATOM    100  C   THR A  12     -16.783   3.345  14.696  1.00 40.84           C  \nATOM    101  O   THR A  12     -17.967   3.690  14.723  1.00 39.83           O  \nATOM    102  CB  THR A  12     -16.235   1.826  12.787  1.00 63.95           C  \nATOM    103  OG1 THR A  12     -17.498   2.082  12.161  1.00 42.24           O  \nATOM    104  CG2 THR A  12     -15.744   0.439  12.388  1.00 50.24           C  \nATOM    105  N   THR A  13     -15.782   4.164  15.005  1.00 40.95           N  \nATOM    106  CA  THR A  13     -16.028   5.549  15.373  1.00 41.94           C  \nATOM    107  C   THR A  13     -16.453   6.355  14.148  1.00 47.33           C  \nATOM    108  O   THR A  13     -16.211   5.969  13.001  1.00 63.22           O  \nATOM    109  CB  THR A  13     -14.775   6.165  15.999  1.00 51.58           C  \nATOM    110  OG1 THR A  13     -14.245   5.273  16.989  1.00 58.38           O  \nATOM    111  CG2 THR A  13     -15.095   7.502  16.653  1.00 39.75           C  \nATOM    112  N   VAL A  14     -17.099   7.492  14.404  1.00 52.39           N  \nATOM    113  CA  VAL A  14     -17.555   8.388  13.349  1.00 52.73           C  \nATOM    114  C   VAL A  14     -17.292   9.815  13.808  1.00 40.07           C  \nATOM    115  O   VAL A  14     -17.784  10.230  14.864  1.00 42.11           O  \nATOM    116  CB  VAL A  14     -19.048   8.197  13.027  1.00 36.55           C  \nATOM    117  CG1 VAL A  14     -19.470   9.114  11.886  1.00 43.43           C  \nATOM    118  CG2 VAL A  14     -19.339   6.743  12.687  1.00 35.73           C  \nATOM    119  N   LEU A  15     -16.508  10.554  13.028  1.00 34.43           N  \nATOM    120  CA  LEU A  15     -16.244  11.964  13.275  1.00 41.42           C  \nATOM    121  C   LEU A  15     -17.067  12.804  12.307  1.00 39.05           C  \nATOM    122  O   LEU A  15     -17.227  12.441  11.138  1.00 71.88           O  \nATOM    123  CB  LEU A  15     -14.757  12.286  13.106  1.00 36.97           C  \nATOM    124  CG  LEU A  15     -13.792  11.752  14.169  1.00 53.94           C  \nATOM    125  CD1 LEU A  15     -13.766  10.231  14.189  1.00 46.05           C  \nATOM    126  CD2 LEU A  15     -12.393  12.307  13.942  1.00 45.03           C  \nATOM    127  N   LEU A  16     -17.585  13.929  12.797  1.00 31.17           N  \nATOM    128  CA  LEU A  16     -18.436  14.792  11.993  1.00 36.73           C  \nATOM    129  C   LEU A  16     -18.136  16.247  12.320  1.00 33.43           C  \nATOM    130  O   LEU A  16     -17.582  16.572  13.375  1.00 47.28           O  \nATOM    131  CB  LEU A  16     -19.922  14.492  12.229  1.00 43.84           C  \nATOM    132  CG  LEU A  16     -20.378  13.063  11.922  1.00 36.74           C  \nATOM    133  CD1 LEU A  16     -21.799  12.843  12.413  1.00 32.05           C  \nATOM    134  CD2 LEU A  16     -20.276  12.765  10.433  1.00 44.63           C  \nATOM    135  N   LYS A  17     -18.512  17.122  11.392  1.00 39.80           N  \nATOM    136  CA  LYS A  17     -18.315  18.555  11.546  1.00 48.68           C  \nATOM    137  C   LYS A  17     -19.476  19.159  12.324  1.00 42.24           C  \nATOM    138  O   LYS A  17     -20.625  18.728  12.185  1.00 50.57           O  \nATOM    139  CB  LYS A  17     -18.195  19.228  10.176  1.00 47.99           C  \nATOM    140  CG  LYS A  17     -17.874  20.716  10.224  1.00 41.86           C  \nATOM    141  CD  LYS A  17     -16.445  20.968  10.677  1.00 48.56           C  \nATOM    142  CE  LYS A  17     -16.157  22.456  10.801  1.00 61.08           C  \nATOM    143  NZ  LYS A  17     -14.740  22.723  11.174  1.00 47.97           N  \nATOM    144  N   GLU A  18     -19.171  20.157  13.140  1.00 60.85           N  \nATOM    145  CA  GLU A  18     -20.207  20.827  13.914  1.00 61.04           C  \nATOM    146  C   GLU A  18     -21.027  21.730  12.998  1.00 32.95           C  \nATOM    147  O   GLU A  18     -20.452  22.492  12.214  1.00 35.94           O  \nATOM    148  CB  GLU A  18     -19.587  21.647  15.043  1.00 52.92           C  \nATOM    149  CG  GLU A  18     -18.830  20.822  16.069  1.00 42.02           C  \nATOM    150  CD  GLU A  18     -18.228  21.674  17.170  1.00 53.13           C  \nATOM    151  OE1 GLU A  18     -18.404  22.910  17.130  1.00 55.47           O  \nATOM    152  OE2 GLU A  18     -17.579  21.108  18.074  1.00 47.76           O  \nATOM    153  N   PRO A  19     -22.362  21.680  13.061  1.00 29.71           N  \nATOM    154  CA  PRO A  19     -23.160  22.587  12.222  1.00 29.52           C  \nATOM    155  C   PRO A  19     -23.037  24.044  12.629  1.00 29.46           C  \nATOM    156  O   PRO A  19     -23.361  24.924  11.822  1.00 30.45           O  \nATOM    157  CB  PRO A  19     -24.593  22.071  12.405  1.00 27.55           C  \nATOM    158  CG  PRO A  19     -24.585  21.405  13.734  1.00 41.38           C  \nATOM    159  CD  PRO A  19     -23.210  20.822  13.909  1.00 42.01           C  \nATOM    160  N   CYS A  20     -22.584  24.325  13.848  1.00 45.28           N  \nATOM    161  CA  CYS A  20     -22.340  25.691  14.287  1.00 56.04           C  \nATOM    162  C   CYS A  20     -21.210  25.679  15.306  1.00 41.46           C  \nATOM    163  O   CYS A  20     -20.757  24.622  15.753  1.00 35.57           O  \nATOM    164  CB  CYS A  20     -23.601  26.330  14.877  1.00 45.60           C  \nATOM    165  SG  CYS A  20     -24.547  25.260  15.981  1.00 44.35           S  \nATOM    166  N   SER A  21     -20.755  26.877  15.670  1.00 35.19           N  \nATOM    167  CA  SER A  21     -19.642  27.024  16.598  1.00 46.54           C  \nATOM    168  C   SER A  21     -19.962  26.386  17.945  1.00 44.57           C  \nATOM    169  O   SER A  21     -19.336  25.393  18.329  1.00 35.44           O  \nATOM    170  CB  SER A  21     -19.295  28.503  16.779  1.00 50.71           C  \nATOM    171  OG  SER A  21     -20.425  29.245  17.204  1.00 60.93           O  \nATOM    172  N   SER A  22     -20.932  26.947  18.666  1.00 35.35           N  \nATOM    173  CA  SER A  22     -21.295  26.437  19.983  1.00 32.62           C  \nATOM    174  C   SER A  22     -22.584  25.627  19.912  1.00 38.68           C  \nATOM    175  O   SER A  22     -22.544  24.403  19.750  1.00 33.37           O  \nATOM    176  CB  SER A  22     -21.441  27.590  20.979  1.00 40.07           C  \nATOM    177  OG  SER A  22     -22.455  28.492  20.570  1.00 41.24           O  \nATOM    178  N   GLY A  23     -23.729  26.296  20.028  1.00 26.21           N  \nATOM    179  CA  GLY A  23     -25.009  25.614  20.000  1.00 29.82           C  \nATOM    180  C   GLY A  23     -25.199  24.672  21.171  1.00 35.18           C  \nATOM    181  O   GLY A  23     -24.302  24.524  22.006  1.00 42.12           O  \nATOM    182  N   THR A  24     -26.362  24.028  21.242  1.00 31.94           N  \nATOM    183  CA  THR A  24     -26.686  23.097  22.315  1.00 26.87           C  \nATOM    184  C   THR A  24     -26.986  21.730  21.715  1.00 28.36           C  \nATOM    185  O   THR A  24     -27.813  21.617  20.806  1.00 30.58           O  \nATOM    186  CB  THR A  24     -27.882  23.592  23.135  1.00 26.11           C  \nATOM    187  OG1 THR A  24     -29.081  23.479  22.359  1.00 22.52           O  \nATOM    188  CG2 THR A  24     -27.686  25.046  23.543  1.00 28.41           C  \nATOM    189  N   TYR A  25     -26.315  20.702  22.224  1.00 30.69           N  \nATOM    190  CA  TYR A  25     -26.441  19.346  21.711  1.00 26.05           C  \nATOM    191  C   TYR A  25     -27.405  18.534  22.568  1.00 27.33           C  \nATOM    192  O   TYR A  25     -27.547  18.772  23.770  1.00 26.84           O  \nATOM    193  CB  TYR A  25     -25.068  18.668  21.671  1.00 23.29           C  \nATOM    194  CG  TYR A  25     -25.107  17.158  21.612  1.00 38.86           C  \nATOM    195  CD1 TYR A  25     -25.002  16.396  22.768  1.00 33.96           C  \nATOM    196  CD2 TYR A  25     -25.240  16.495  20.401  1.00 40.83           C  \nATOM    197  CE1 TYR A  25     -25.032  15.016  22.719  1.00 28.14           C  \nATOM    198  CE2 TYR A  25     -25.272  15.115  20.342  1.00 37.59           C  \nATOM    199  CZ  TYR A  25     -25.167  14.381  21.504  1.00 38.55           C  \nATOM    200  OH  TYR A  25     -25.197  13.007  21.451  1.00 54.40           O  \nATOM    201  N   GLU A  26     -28.073  17.570  21.933  1.00 32.20           N  \nATOM    202  CA  GLU A  26     -29.014  16.699  22.635  1.00 26.99           C  \nATOM    203  C   GLU A  26     -29.027  15.352  21.929  1.00 28.80           C  \nATOM    204  O   GLU A  26     -29.515  15.250  20.800  1.00 31.32           O  \nATOM    205  CB  GLU A  26     -30.410  17.315  22.666  1.00 25.49           C  \nATOM    206  CG  GLU A  26     -31.497  16.393  23.201  1.00 27.99           C  \nATOM    207  CD  GLU A  26     -32.857  17.061  23.234  1.00 37.69           C  \nATOM    208  OE1 GLU A  26     -32.911  18.307  23.171  1.00 50.05           O  \nATOM    209  OE2 GLU A  26     -33.873  16.339  23.317  1.00 27.69           O  \nATOM    210  N   GLY A  27     -28.505  14.322  22.591  1.00 32.78           N  \nATOM    211  CA  GLY A  27     -28.444  12.999  22.010  1.00 40.43           C  \nATOM    212  C   GLY A  27     -28.528  11.928  23.075  1.00 30.90           C  \nATOM    213  O   GLY A  27     -28.692  12.212  24.263  1.00 38.01           O  \nATOM    214  N   ASN A  28     -28.410  10.678  22.629  1.00 33.08           N  \nATOM    215  CA  ASN A  28     -28.477   9.515  23.502  1.00 38.88           C  \nATOM    216  C   ASN A  28     -27.095   9.012  23.906  1.00 32.36           C  \nATOM    217  O   ASN A  28     -26.955   7.848  24.296  1.00 24.04           O  \nATOM    218  CB  ASN A  28     -29.258   8.392  22.818  1.00 35.03           C  \nATOM    219  CG  ASN A  28     -30.632   8.833  22.353  1.00 41.95           C  \nATOM    220  OD1 ASN A  28     -31.601   8.783  23.111  1.00 30.37           O  \nATOM    221  ND2 ASN A  28     -30.724   9.261  21.099  1.00 50.84           N  \nATOM    222  N   SER A  29     -26.072   9.860  23.813  1.00 33.25           N  \nATOM    223  CA  SER A  29     -24.715   9.477  24.174  1.00 33.06           C  \nATOM    224  C   SER A  29     -23.922  10.744  24.440  1.00 38.34           C  \nATOM    225  O   SER A  29     -24.263  11.804  23.903  1.00 36.06           O  \nATOM    226  CB  SER A  29     -24.055   8.650  23.061  1.00 37.05           C  \nATOM    227  OG  SER A  29     -24.002   9.379  21.847  1.00 65.69           O  \nATOM    228  N   PRO A  30     -22.869  10.677  25.255  1.00 50.75           N  \nATOM    229  CA  PRO A  30     -22.118  11.895  25.576  1.00 38.97           C  \nATOM    230  C   PRO A  30     -21.505  12.524  24.334  1.00 44.89           C  \nATOM    231  O   PRO A  30     -21.214  11.851  23.343  1.00 35.92           O  \nATOM    232  CB  PRO A  30     -21.039  11.406  26.552  1.00 39.26           C  \nATOM    233  CG  PRO A  30     -20.938   9.937  26.317  1.00 51.70           C  \nATOM    234  CD  PRO A  30     -22.309   9.489  25.922  1.00 56.22           C  \nATOM    235  N   PHE A  31     -21.314  13.839  24.403  1.00 42.79           N  \nATOM    236  CA  PHE A  31     -20.755  14.610  23.300  1.00 35.82           C  \nATOM    237  C   PHE A  31     -19.236  14.621  23.419  1.00 40.43           C  \nATOM    238  O   PHE A  31     -18.692  15.091  24.425  1.00 45.48           O  \nATOM    239  CB  PHE A  31     -21.319  16.030  23.315  1.00 34.16           C  \nATOM    240  CG  PHE A  31     -20.827  16.897  22.192  1.00 43.94           C  \nATOM    241  CD1 PHE A  31     -21.327  16.745  20.910  1.00 40.02           C  \nATOM    242  CD2 PHE A  31     -19.876  17.876  22.423  1.00 53.31           C  \nATOM    243  CE1 PHE A  31     -20.879  17.546  19.877  1.00 37.41           C  \nATOM    244  CE2 PHE A  31     -19.425  18.680  21.395  1.00 36.24           C  \nATOM    245  CZ  PHE A  31     -19.927  18.515  20.121  1.00 32.72           C  \nATOM    246  N   HIS A  32     -18.553  14.101  22.396  1.00 42.35           N  \nATOM    247  CA  HIS A  32     -17.097  13.981  22.391  1.00 40.74           C  \nATOM    248  C   HIS A  32     -16.508  14.996  21.419  1.00 36.19           C  \nATOM    249  O   HIS A  32     -16.304  14.684  20.236  1.00 45.98           O  \nATOM    250  CB  HIS A  32     -16.671  12.561  22.009  1.00 37.84           C  \nATOM    251  CG  HIS A  32     -17.386  11.488  22.769  1.00 43.87           C  \nATOM    252  ND1 HIS A  32     -18.498  10.842  22.274  1.00 46.90           N  \nATOM    253  CD2 HIS A  32     -17.147  10.947  23.986  1.00 59.04           C  \nATOM    254  CE1 HIS A  32     -18.913   9.948  23.154  1.00 43.84           C  \nATOM    255  NE2 HIS A  32     -18.111   9.992  24.202  1.00 56.63           N  \nATOM    256  N   PRO A  33     -16.214  16.217  21.858  1.00 32.12           N  \nATOM    257  CA  PRO A  33     -15.606  17.197  20.955  1.00 38.26           C  \nATOM    258  C   PRO A  33     -14.118  16.956  20.761  1.00 51.25           C  \nATOM    259  O   PRO A  33     -13.417  16.459  21.646  1.00 36.09           O  \nATOM    260  CB  PRO A  33     -15.858  18.532  21.665  1.00 33.62           C  \nATOM    261  CG  PRO A  33     -15.908  18.175  23.107  1.00 39.48           C  \nATOM    262  CD  PRO A  33     -16.506  16.794  23.183  1.00 48.05           C  \nATOM    263  N   LEU A  34     -13.643  17.320  19.572  1.00 41.31           N  \nATOM    264  CA  LEU A  34     -12.234  17.250  19.217  1.00 40.73           C  \nATOM    265  C   LEU A  34     -11.808  18.603  18.660  1.00 35.77           C  \nATOM    266  O   LEU A  34     -12.606  19.540  18.566  1.00 37.53           O  \nATOM    267  CB  LEU A  34     -11.972  16.130  18.201  1.00 39.90           C  \nATOM    268  CG  LEU A  34     -12.307  14.707  18.654  1.00 43.19           C  \nATOM    269  CD1 LEU A  34     -12.115  13.724  17.509  1.00 55.78           C  \nATOM    270  CD2 LEU A  34     -11.458  14.306  19.851  1.00 62.47           C  \nATOM    271  N   ALA A  35     -10.537  18.704  18.285  1.00 42.24           N  \nATOM    272  CA  ALA A  35     -10.017  19.947  17.740  1.00 61.41           C  \nATOM    273  C   ALA A  35     -10.598  20.206  16.351  1.00 55.31           C  \nATOM    274  O   ALA A  35     -11.198  19.331  15.719  1.00 51.89           O  \nATOM    275  CB  ALA A  35      -8.491  19.906  17.679  1.00 63.48           C  \nATOM    276  N   ASP A  36     -10.416  21.439  15.879  1.00 58.01           N  \nATOM    277  CA  ASP A  36     -10.860  21.850  14.547  1.00 59.85           C  \nATOM    278  C   ASP A  36     -12.380  21.797  14.412  1.00 57.48           C  \nATOM    279  O   ASP A  36     -12.909  21.572  13.320  1.00 61.22           O  \nATOM    280  CB  ASP A  36     -10.200  20.996  13.460  1.00 71.53           C  \nATOM    281  CG  ASP A  36      -8.686  21.061  13.506  1.00 76.55           C  \nATOM    282  OD1 ASP A  36      -8.147  22.101  13.941  1.00 84.11           O  \nATOM    283  OD2 ASP A  36      -8.034  20.073  13.108  1.00 63.26           O  \nATOM    284  N   ASN A  37     -13.093  22.007  15.518  1.00 58.24           N  \nATOM    285  CA  ASN A  37     -14.554  22.062  15.520  1.00 51.74           C  \nATOM    286  C   ASN A  37     -15.154  20.793  14.907  1.00 49.02           C  \nATOM    287  O   ASN A  37     -15.832  20.822  13.878  1.00 48.92           O  \nATOM    288  CB  ASN A  37     -15.050  23.314  14.788  1.00 51.02           C  \nATOM    289  CG  ASN A  37     -14.663  24.596  15.499  1.00 54.84           C  \nATOM    290  OD1 ASN A  37     -14.507  24.619  16.720  1.00 77.82           O  \nATOM    291  ND2 ASN A  37     -14.509  25.672  14.737  1.00 57.57           N  \nATOM    292  N   LYS A  38     -14.891  19.670  15.569  1.00 45.61           N  \nATOM    293  CA  LYS A  38     -15.433  18.379  15.173  1.00 46.30           C  \nATOM    294  C   LYS A  38     -15.951  17.658  16.409  1.00 57.91           C  \nATOM    295  O   LYS A  38     -15.578  17.978  17.540  1.00 48.38           O  \nATOM    296  CB  LYS A  38     -14.379  17.508  14.473  1.00 45.22           C  \nATOM    297  CG  LYS A  38     -13.686  18.170  13.293  1.00 55.24           C  \nATOM    298  CD  LYS A  38     -12.523  17.319  12.802  1.00 58.20           C  \nATOM    299  CE  LYS A  38     -11.753  18.001  11.682  1.00 73.16           C  \nATOM    300  NZ  LYS A  38     -12.548  18.109  10.430  1.00 94.39           N  \nATOM    301  N   PHE A  39     -16.811  16.667  16.186  1.00 36.80           N  \nATOM    302  CA  PHE A  39     -17.291  15.825  17.272  1.00 27.99           C  \nATOM    303  C   PHE A  39     -17.355  14.380  16.803  1.00 33.66           C  \nATOM    304  O   PHE A  39     -17.784  14.099  15.681  1.00 38.38           O  \nATOM    305  CB  PHE A  39     -18.664  16.285  17.787  1.00 36.79           C  \nATOM    306  CG  PHE A  39     -19.786  16.088  16.808  1.00 35.06           C  \nATOM    307  CD1 PHE A  39     -20.111  17.079  15.897  1.00 41.85           C  \nATOM    308  CD2 PHE A  39     -20.530  14.920  16.815  1.00 29.29           C  \nATOM    309  CE1 PHE A  39     -21.149  16.902  15.002  1.00 42.37           C  \nATOM    310  CE2 PHE A  39     -21.568  14.738  15.922  1.00 27.09           C  \nATOM    311  CZ  PHE A  39     -21.879  15.730  15.016  1.00 35.46           C  \nATOM    312  N   ALA A  40     -16.919  13.472  17.669  1.00 50.33           N  \nATOM    313  CA  ALA A  40     -16.868  12.051  17.367  1.00 33.66           C  \nATOM    314  C   ALA A  40     -17.877  11.294  18.219  1.00 36.99           C  \nATOM    315  O   ALA A  40     -18.326  11.772  19.265  1.00 55.62           O  \nATOM    316  CB  ALA A  40     -15.462  11.491  17.608  1.00 28.91           C  \nATOM    317  N   LEU A  41     -18.235  10.100  17.755  1.00 35.16           N  \nATOM    318  CA  LEU A  41     -19.150   9.251  18.508  1.00 33.24           C  \nATOM    319  C   LEU A  41     -19.140   7.850  17.914  1.00 33.54           C  \nATOM    320  O   LEU A  41     -18.771   7.648  16.754  1.00 31.71           O  \nATOM    321  CB  LEU A  41     -20.571   9.829  18.515  1.00 43.80           C  \nATOM    322  CG  LEU A  41     -21.241  10.060  17.158  1.00 42.59           C  \nATOM    323  CD1 LEU A  41     -21.891   8.787  16.638  1.00 31.19           C  \nATOM    324  CD2 LEU A  41     -22.263  11.184  17.252  1.00 32.29           C  \nATOM    325  N   THR A  42     -19.555   6.885  18.729  1.00 32.37           N  \nATOM    326  CA  THR A  42     -19.615   5.498  18.296  1.00 32.79           C  \nATOM    327  C   THR A  42     -20.818   5.275  17.387  1.00 36.50           C  \nATOM    328  O   THR A  42     -21.850   5.939  17.509  1.00 31.63           O  \nATOM    329  CB  THR A  42     -19.690   4.562  19.503  1.00 32.19           C  \nATOM    330  OG1 THR A  42     -18.504   4.704  20.296  1.00 39.02           O  \nATOM    331  CG2 THR A  42     -19.827   3.112  19.058  1.00 33.48           C  \nATOM    332  N   CYS A  43     -20.673   4.323  16.468  1.00 38.81           N  \nATOM    333  CA  CYS A  43     -21.717   4.039  15.495  1.00 38.24           C  \nATOM    334  C   CYS A  43     -22.807   3.174  16.115  1.00 31.99           C  \nATOM    335  O   CYS A  43     -22.523   2.127  16.706  1.00 32.40           O  \nATOM    336  CB  CYS A  43     -21.127   3.338  14.273  1.00 41.94           C  \nATOM    337  SG  CYS A  43     -22.354   2.849  13.040  1.00 49.63           S  \nATOM    338  N   PHE A  44     -24.055   3.615  15.974  1.00 30.51           N  \nATOM    339  CA  PHE A  44     -25.212   2.848  16.413  1.00 32.05           C  \nATOM    340  C   PHE A  44     -26.466   3.582  15.964  1.00 27.36           C  \nATOM    341  O   PHE A  44     -26.553   4.804  16.104  1.00 26.07           O  \nATOM    342  CB  PHE A  44     -25.218   2.651  17.936  1.00 28.28           C  \nATOM    343  CG  PHE A  44     -25.347   3.927  18.718  1.00 26.99           C  \nATOM    344  CD1 PHE A  44     -26.549   4.270  19.313  1.00 22.49           C  \nATOM    345  CD2 PHE A  44     -24.266   4.781  18.861  1.00 25.16           C  \nATOM    346  CE1 PHE A  44     -26.670   5.442  20.036  1.00 22.71           C  \nATOM    347  CE2 PHE A  44     -24.383   5.955  19.581  1.00 27.31           C  \nATOM    348  CZ  PHE A  44     -25.587   6.285  20.169  1.00 22.55           C  \nATOM    349  N   SER A  45     -27.423   2.832  15.414  1.00 30.47           N  \nATOM    350  CA  SER A  45     -28.655   3.415  14.894  1.00 29.79           C  \nATOM    351  C   SER A  45     -29.285   4.339  15.929  1.00 22.07           C  \nATOM    352  O   SER A  45     -29.721   3.878  16.988  1.00 28.10           O  \nATOM    353  CB  SER A  45     -29.641   2.314  14.496  1.00 37.06           C  \nATOM    354  OG  SER A  45     -29.076   1.445  13.529  1.00 47.07           O  \nATOM    355  N   THR A  46     -29.341   5.638  15.643  1.00 23.15           N  \nATOM    356  CA  THR A  46     -29.802   6.596  16.644  1.00 30.50           C  \nATOM    357  C   THR A  46     -30.117   7.923  15.967  1.00 26.04           C  \nATOM    358  O   THR A  46     -29.871   8.111  14.773  1.00 37.32           O  \nATOM    359  CB  THR A  46     -28.756   6.789  17.747  1.00 39.11           C  \nATOM    360  OG1 THR A  46     -29.304   7.583  18.807  1.00 31.07           O  \nATOM    361  CG2 THR A  46     -27.514   7.478  17.192  1.00 28.60           C  \nATOM    362  N   GLN A  47     -30.673   8.843  16.757  1.00 31.42           N  \nATOM    363  CA  GLN A  47     -30.968  10.196  16.308  1.00 35.74           C  \nATOM    364  C   GLN A  47     -30.636  11.178  17.422  1.00 30.32           C  \nATOM    365  O   GLN A  47     -30.887  10.901  18.599  1.00 48.75           O  \nATOM    366  CB  GLN A  47     -32.442  10.351  15.908  1.00 44.50           C  \nATOM    367  CG  GLN A  47     -32.886   9.441  14.776  1.00 52.04           C  \nATOM    368  CD  GLN A  47     -34.303   9.733  14.320  1.00 42.39           C  \nATOM    369  OE1 GLN A  47     -34.894  10.742  14.704  1.00 26.94           O  \nATOM    370  NE2 GLN A  47     -34.856   8.849  13.497  1.00 41.98           N  \nATOM    371  N   PHE A  48     -30.073  12.324  17.044  1.00 19.32           N  \nATOM    372  CA  PHE A  48     -29.777  13.399  17.985  1.00 27.85           C  \nATOM    373  C   PHE A  48     -30.012  14.735  17.287  1.00 26.24           C  \nATOM    374  O   PHE A  48     -30.456  14.787  16.136  1.00 25.19           O  \nATOM    375  CB  PHE A  48     -28.350  13.279  18.539  1.00 32.96           C  \nATOM    376  CG  PHE A  48     -27.286  13.177  17.483  1.00 39.99           C  \nATOM    377  CD1 PHE A  48     -26.995  11.961  16.888  1.00 34.88           C  \nATOM    378  CD2 PHE A  48     -26.562  14.294  17.100  1.00 36.72           C  \nATOM    379  CE1 PHE A  48     -26.011  11.863  15.922  1.00 22.04           C  \nATOM    380  CE2 PHE A  48     -25.575  14.201  16.136  1.00 22.66           C  \nATOM    381  CZ  PHE A  48     -25.300  12.984  15.547  1.00 20.92           C  \nATOM    382  N   ALA A  49     -29.718  15.829  17.988  1.00 22.98           N  \nATOM    383  CA  ALA A  49     -30.066  17.149  17.487  1.00 26.96           C  \nATOM    384  C   ALA A  49     -29.102  18.203  18.012  1.00 26.00           C  \nATOM    385  O   ALA A  49     -28.494  18.048  19.076  1.00 21.35           O  \nATOM    386  CB  ALA A  49     -31.502  17.525  17.874  1.00 19.88           C  \nATOM    387  N   PHE A  50     -28.975  19.280  17.235  1.00 30.89           N  \nATOM    388  CA  PHE A  50     -28.226  20.470  17.607  1.00 27.06           C  \nATOM    389  C   PHE A  50     -29.121  21.687  17.430  1.00 35.99           C  \nATOM    390  O   PHE A  50     -29.812  21.815  16.414  1.00 32.48           O  \nATOM    391  CB  PHE A  50     -26.968  20.645  16.743  1.00 24.04           C  \nATOM    392  CG  PHE A  50     -25.851  19.705  17.087  1.00 22.13           C  \nATOM    393  CD1 PHE A  50     -25.955  18.352  16.820  1.00 24.35           C  \nATOM    394  CD2 PHE A  50     -24.683  20.183  17.658  1.00 24.70           C  \nATOM    395  CE1 PHE A  50     -24.922  17.490  17.130  1.00 34.17           C  \nATOM    396  CE2 PHE A  50     -23.647  19.326  17.970  1.00 25.87           C  \nATOM    397  CZ  PHE A  50     -23.766  17.978  17.705  1.00 29.92           C  \nATOM    398  N   ALA A  51     -29.106  22.579  18.416  1.00 25.96           N  \nATOM    399  CA  ALA A  51     -29.809  23.856  18.342  1.00 23.09           C  \nATOM    400  C   ALA A  51     -28.759  24.950  18.206  1.00 28.71           C  \nATOM    401  O   ALA A  51     -27.994  25.204  19.143  1.00 29.32           O  \nATOM    402  CB  ALA A  51     -30.687  24.077  19.571  1.00 19.12           C  \nATOM    403  N   CYS A  52     -28.720  25.589  17.043  1.00 25.73           N  \nATOM    404  CA  CYS A  52     -27.695  26.570  16.730  1.00 31.49           C  \nATOM    405  C   CYS A  52     -28.203  27.985  16.964  1.00 22.30           C  \nATOM    406  O   CYS A  52     -29.413  28.227  16.999  1.00 15.04           O  \nATOM    407  CB  CYS A  52     -27.243  26.416  15.275  1.00 25.46           C  \nATOM    408  SG  CYS A  52     -26.272  24.923  14.965  1.00 17.61           S  \nATOM    409  N   PRO A  53     -27.297  28.953  17.128  1.00 21.95           N  \nATOM    410  CA  PRO A  53     -27.745  30.331  17.389  1.00 18.46           C  \nATOM    411  C   PRO A  53     -28.555  30.930  16.254  1.00 29.70           C  \nATOM    412  O   PRO A  53     -29.439  31.758  16.506  1.00 22.06           O  \nATOM    413  CB  PRO A  53     -26.429  31.096  17.602  1.00 15.91           C  \nATOM    414  CG  PRO A  53     -25.403  30.051  17.893  1.00 33.37           C  \nATOM    415  CD  PRO A  53     -25.828  28.839  17.134  1.00 23.50           C  \nATOM    416  N   ASP A  54     -28.282  30.536  15.009  1.00 32.94           N  \nATOM    417  CA  ASP A  54     -28.977  31.108  13.862  1.00 40.93           C  \nATOM    418  C   ASP A  54     -30.453  30.733  13.811  1.00 30.91           C  \nATOM    419  O   ASP A  54     -31.177  31.265  12.962  1.00 38.70           O  \nATOM    420  CB  ASP A  54     -28.293  30.665  12.566  1.00 38.48           C  \nATOM    421  CG  ASP A  54     -28.260  29.156  12.410  1.00 38.21           C  \nATOM    422  OD1 ASP A  54     -28.769  28.451  13.306  1.00 32.10           O  \nATOM    423  OD2 ASP A  54     -27.723  28.675  11.390  1.00 31.51           O  \nATOM    424  N   GLY A  55     -30.916  29.845  14.686  1.00 26.13           N  \nATOM    425  CA  GLY A  55     -32.294  29.404  14.659  1.00 26.47           C  \nATOM    426  C   GLY A  55     -32.548  28.186  13.805  1.00 43.38           C  \nATOM    427  O   GLY A  55     -33.707  27.910  13.475  1.00 28.01           O  \nATOM    428  N   VAL A  56     -31.505  27.448  13.437  1.00 31.08           N  \nATOM    429  CA  VAL A  56     -31.621  26.267  12.590  1.00 25.63           C  \nATOM    430  C   VAL A  56     -31.373  25.042  13.458  1.00 30.39           C  \nATOM    431  O   VAL A  56     -30.302  24.908  14.064  1.00 46.09           O  \nATOM    432  CB  VAL A  56     -30.635  26.318  11.413  1.00 38.53           C  \nATOM    433  CG1 VAL A  56     -30.755  25.064  10.562  1.00 31.02           C  \nATOM    434  CG2 VAL A  56     -30.874  27.565  10.573  1.00 45.26           C  \nATOM    435  N   LYS A  57     -32.359  24.151  13.518  1.00 24.56           N  \nATOM    436  CA  LYS A  57     -32.252  22.919  14.292  1.00 24.98           C  \nATOM    437  C   LYS A  57     -31.708  21.821  13.384  1.00 24.88           C  \nATOM    438  O   LYS A  57     -32.413  21.336  12.493  1.00 23.33           O  \nATOM    439  CB  LYS A  57     -33.607  22.530  14.877  1.00 39.64           C  \nATOM    440  CG  LYS A  57     -33.580  21.258  15.711  1.00 29.95           C  \nATOM    441  CD  LYS A  57     -34.950  20.941  16.287  1.00 41.06           C  \nATOM    442  CE  LYS A  57     -34.920  19.670  17.119  1.00 52.94           C  \nATOM    443  NZ  LYS A  57     -36.253  19.353  17.703  1.00 46.57           N  \nATOM    444  N   HIS A  58     -30.459  21.427  13.614  1.00 25.71           N  \nATOM    445  CA  HIS A  58     -29.806  20.404  12.803  1.00 25.74           C  \nATOM    446  C   HIS A  58     -30.079  19.040  13.427  1.00 22.53           C  \nATOM    447  O   HIS A  58     -29.502  18.696  14.462  1.00 20.48           O  \nATOM    448  CB  HIS A  58     -28.307  20.675  12.703  1.00 22.28           C  \nATOM    449  CG  HIS A  58     -27.970  21.980  12.052  1.00 24.88           C  \nATOM    450  ND1 HIS A  58     -27.494  22.067  10.762  1.00 26.71           N  \nATOM    451  CD2 HIS A  58     -28.042  23.251  12.513  1.00 35.40           C  \nATOM    452  CE1 HIS A  58     -27.286  23.336  10.456  1.00 38.03           C  \nATOM    453  NE2 HIS A  58     -27.610  24.075  11.502  1.00 43.78           N  \nATOM    454  N   VAL A  59     -30.964  18.271  12.807  1.00 24.11           N  \nATOM    455  CA  VAL A  59     -31.284  16.926  13.269  1.00 20.29           C  \nATOM    456  C   VAL A  59     -30.369  15.937  12.564  1.00 19.22           C  \nATOM    457  O   VAL A  59     -30.138  16.037  11.353  1.00 28.12           O  \nATOM    458  CB  VAL A  59     -32.767  16.596  13.013  1.00 24.26           C  \nATOM    459  CG1 VAL A  59     -33.108  15.216  13.560  1.00 26.13           C  \nATOM    460  CG2 VAL A  59     -33.661  17.659  13.633  1.00 24.42           C  \nATOM    461  N   TYR A  60     -29.843  14.977  13.321  1.00 20.87           N  \nATOM    462  CA  TYR A  60     -28.923  13.974  12.810  1.00 15.93           C  \nATOM    463  C   TYR A  60     -29.487  12.587  13.073  1.00 21.80           C  \nATOM    464  O   TYR A  60     -30.055  12.332  14.139  1.00 34.83           O  \nATOM    465  CB  TYR A  60     -27.548  14.097  13.470  1.00 22.29           C  \nATOM    466  CG  TYR A  60     -26.773  15.335  13.084  1.00 20.75           C  \nATOM    467  CD1 TYR A  60     -27.207  16.598  13.461  1.00 19.06           C  \nATOM    468  CD2 TYR A  60     -25.595  15.238  12.356  1.00 19.61           C  \nATOM    469  CE1 TYR A  60     -26.497  17.730  13.113  1.00 21.78           C  \nATOM    470  CE2 TYR A  60     -24.878  16.363  12.004  1.00 22.57           C  \nATOM    471  CZ  TYR A  60     -25.332  17.607  12.386  1.00 23.37           C  \nATOM    472  OH  TYR A  60     -24.620  18.730  12.037  1.00 44.82           O  \nATOM    473  N   GLN A  61     -29.317  11.693  12.101  1.00 36.00           N  \nATOM    474  CA  GLN A  61     -29.764  10.310  12.224  1.00 38.18           C  \nATOM    475  C   GLN A  61     -28.699   9.404  11.630  1.00 35.30           C  \nATOM    476  O   GLN A  61     -28.335   9.556  10.460  1.00 30.67           O  \nATOM    477  CB  GLN A  61     -31.106  10.095  11.518  1.00 31.35           C  \nATOM    478  CG  GLN A  61     -31.554   8.641  11.466  1.00 34.25           C  \nATOM    479  CD  GLN A  61     -32.958   8.481  10.918  1.00 48.20           C  \nATOM    480  OE1 GLN A  61     -33.623   9.463  10.587  1.00 47.12           O  \nATOM    481  NE2 GLN A  61     -33.417   7.239  10.820  1.00 35.96           N  \nATOM    482  N   LEU A  62     -28.201   8.468  12.433  1.00 29.28           N  \nATOM    483  CA  LEU A  62     -27.227   7.486  11.983  1.00 28.26           C  \nATOM    484  C   LEU A  62     -27.878   6.113  11.898  1.00 35.30           C  \nATOM    485  O   LEU A  62     -28.658   5.728  12.778  1.00 54.41           O  \nATOM    486  CB  LEU A  62     -26.020   7.421  12.923  1.00 31.11           C  \nATOM    487  CG  LEU A  62     -25.030   8.587  12.881  1.00 35.47           C  \nATOM    488  CD1 LEU A  62     -23.842   8.283  13.773  1.00 35.48           C  \nATOM    489  CD2 LEU A  62     -24.568   8.871  11.462  1.00 53.74           C  \nATOM    490  N   ARG A  63     -27.553   5.388  10.830  1.00 34.53           N  \nATOM    491  CA  ARG A  63     -28.006   4.018  10.625  1.00 32.18           C  \nATOM    492  C   ARG A  63     -26.801   3.089  10.699  1.00 37.92           C  \nATOM    493  O   ARG A  63     -25.828   3.266   9.957  1.00 40.28           O  \nATOM    494  CB  ARG A  63     -28.712   3.869   9.275  1.00 38.26           C  \nATOM    495  CG  ARG A  63     -29.179   2.452   8.958  1.00 61.06           C  \nATOM    496  CD  ARG A  63     -30.417   2.070   9.752  1.00 58.78           C  \nATOM    497  NE  ARG A  63     -31.646   2.414   9.041  1.00 73.90           N  \nATOM    498  CZ  ARG A  63     -32.176   1.686   8.060  1.00 75.16           C  \nATOM    499  NH1 ARG A  63     -31.590   0.565   7.659  1.00 67.62           N  \nATOM    500  NH2 ARG A  63     -33.298   2.083   7.475  1.00 66.76           N  \nATOM    501  N   ALA A  64     -26.875   2.096  11.578  1.00 39.03           N  \nATOM    502  CA  ALA A  64     -25.768   1.184  11.818  1.00 41.62           C  \nATOM    503  C   ALA A  64     -25.941  -0.090  11.002  1.00 31.95           C  \nATOM    504  O   ALA A  64     -27.035  -0.658  10.939  1.00 32.08           O  \nATOM    505  CB  ALA A  64     -25.662   0.841  13.304  1.00 39.73           C  \nATOM    506  N   ARG A  65     -24.851  -0.531  10.376  1.00 31.04           N  \nATOM    507  CA  ARG A  65     -24.833  -1.761   9.599  1.00 31.83           C  \nATOM    508  C   ARG A  65     -23.609  -2.581   9.981  1.00 31.27           C  \nATOM    509  O   ARG A  65     -22.592  -2.040  10.422  1.00 25.89           O  \nATOM    510  CB  ARG A  65     -24.825  -1.476   8.089  1.00 39.41           C  \nATOM    511  CG  ARG A  65     -23.741  -0.506   7.640  1.00 43.27           C  \nATOM    512  CD  ARG A  65     -23.806  -0.261   6.139  1.00 33.57           C  \nATOM    513  NE  ARG A  65     -22.884   0.788   5.709  1.00 35.96           N  \nATOM    514  CZ  ARG A  65     -21.601   0.595   5.410  1.00 45.38           C  \nATOM    515  NH1 ARG A  65     -21.060  -0.615   5.491  1.00 33.30           N  \nATOM    516  NH2 ARG A  65     -20.854   1.621   5.029  1.00 35.71           N  \nATOM    517  N   SER A  66     -23.720  -3.894   9.811  1.00 31.50           N  \nATOM    518  CA  SER A  66     -22.636  -4.806  10.158  1.00 43.18           C  \nATOM    519  C   SER A  66     -21.925  -5.309   8.907  1.00 43.29           C  \nATOM    520  O   SER A  66     -21.017  -6.136   8.988  1.00 57.40           O  \nATOM    521  CB  SER A  66     -23.170  -5.987  10.969  1.00 52.52           C  \nATOM    522  OG  SER A  66     -24.139  -6.712  10.233  1.00 32.86           O  \nHETATM  523  O   HOH A 101     -15.156   1.771  18.304  1.00 28.67           O  \nHETATM  524  O   HOH A 102     -34.358  25.671  13.835  1.00 28.71           O  \nHETATM  525  O   HOH A 103     -21.221  22.900   8.980  1.00 22.51           O  \nTER     526      HOH A 103                                                       \nEND   \n",
           "type": "blob"
          }
         ],
         "kwargs": {
          "defaultRepresentation": true,
          "ext": "pdb"
         },
         "methodName": "loadFile",
         "reconstruc_color_scheme": false,
         "target": "Stage",
         "type": "call_method"
        }
       ],
       "_ngl_original_stage_parameters": {
        "ambientColor": 14540253,
        "ambientIntensity": 0.2,
        "backgroundColor": "white",
        "cameraEyeSep": 0.3,
        "cameraFov": 40,
        "cameraType": "perspective",
        "clipDist": 10,
        "clipFar": 100,
        "clipNear": 0,
        "fogFar": 100,
        "fogNear": 50,
        "hoverTimeout": 0,
        "impostor": true,
        "lightColor": 14540253,
        "lightIntensity": 1,
        "mousePreset": "default",
        "panSpeed": 1,
        "quality": "medium",
        "rotateSpeed": 2,
        "sampleLevel": 0,
        "tooltip": true,
        "workerDefault": true,
        "zoomSpeed": 1.2
       },
       "_ngl_repr_dict": {
        "0": {
         "0": {
          "params": {
           "aspectRatio": 5,
           "assembly": "default",
           "capped": true,
           "clipCenter": {
            "x": 0,
            "y": 0,
            "z": 0
           },
           "clipNear": 0,
           "clipRadius": 0,
           "colorMode": "hcl",
           "colorReverse": true,
           "colorScale": "spectral",
           "colorScheme": "residueindex",
           "colorValue": 9474192,
           "defaultAssembly": "",
           "depthWrite": true,
           "diffuse": 16777215,
           "diffuseInterior": false,
           "disablePicking": false,
           "flatShaded": false,
           "interiorColor": 2236962,
           "interiorDarkening": 0,
           "lazy": false,
           "matrix": {
            "elements": [
             1,
             0,
             0,
             0,
             0,
             1,
             0,
             0,
             0,
             0,
             1,
             0,
             0,
             0,
             0,
             1
            ]
           },
           "metalness": 0,
           "opacity": 1,
           "quality": "high",
           "radialSegments": 20,
           "radiusData": {},
           "radiusScale": 0.7,
           "radiusSize": 1,
           "radiusType": "sstruc",
           "roughness": 0.4,
           "sele": "",
           "side": "double",
           "smoothSheet": false,
           "subdiv": 6,
           "tension": null,
           "useInteriorColor": true,
           "visible": true,
           "wireframe": false
          },
          "type": "cartoon"
         },
         "1": {
          "params": {
           "aspectRatio": 1,
           "assembly": "default",
           "bondScale": 0.4,
           "clipCenter": {
            "x": 0,
            "y": 0,
            "z": 0
           },
           "clipNear": 0,
           "clipRadius": 0,
           "colorMode": "hcl",
           "colorReverse": true,
           "colorScale": "spectral",
           "colorScheme": "residueindex",
           "colorValue": 9474192,
           "cylinderOnly": false,
           "defaultAssembly": "",
           "depthWrite": true,
           "diffuse": 16777215,
           "diffuseInterior": false,
           "disableImpostor": false,
           "disablePicking": false,
           "flatShaded": false,
           "interiorColor": 2236962,
           "interiorDarkening": 0,
           "lazy": false,
           "lineOnly": false,
           "linewidth": 2,
           "matrix": {
            "elements": [
             1,
             0,
             0,
             0,
             0,
             1,
             0,
             0,
             0,
             0,
             1,
             0,
             0,
             0,
             0,
             1
            ]
           },
           "metalness": 0,
           "opacity": 1,
           "openEnded": true,
           "quality": "high",
           "radialSegments": 20,
           "radiusData": {},
           "radiusScale": 1,
           "radiusSize": 0.3,
           "radiusType": "size",
           "roughness": 0.4,
           "sele": "",
           "side": "double",
           "sphereDetail": 2,
           "useInteriorColor": true,
           "visible": true,
           "wireframe": false
          },
          "type": "base"
         },
         "2": {
          "params": {
           "aspectRatio": 1.5,
           "assembly": "default",
           "bondScale": 0.3,
           "bondSpacing": 0.75,
           "clipCenter": {
            "x": 0,
            "y": 0,
            "z": 0
           },
           "clipNear": 0,
           "clipRadius": 0,
           "colorMode": "hcl",
           "colorReverse": false,
           "colorScale": "",
           "colorScheme": "element",
           "colorValue": 9474192,
           "cylinderOnly": false,
           "defaultAssembly": "",
           "depthWrite": true,
           "diffuse": 16777215,
           "diffuseInterior": false,
           "disableImpostor": false,
           "disablePicking": false,
           "flatShaded": false,
           "interiorColor": 2236962,
           "interiorDarkening": 0,
           "lazy": false,
           "lineOnly": false,
           "linewidth": 2,
           "matrix": {
            "elements": [
             1,
             0,
             0,
             0,
             0,
             1,
             0,
             0,
             0,
             0,
             1,
             0,
             0,
             0,
             0,
             1
            ]
           },
           "metalness": 0,
           "multipleBond": "off",
           "opacity": 1,
           "openEnded": true,
           "quality": "high",
           "radialSegments": 20,
           "radiusData": {},
           "radiusScale": 2,
           "radiusSize": 0.15,
           "radiusType": "size",
           "roughness": 0.4,
           "sele": "ligand",
           "side": "double",
           "sphereDetail": 2,
           "useInteriorColor": true,
           "visible": true,
           "wireframe": false
          },
          "type": "ball+stick"
         }
        }
       },
       "_ngl_serialize": false,
       "_ngl_version": "2.0.0-dev.36",
       "_ngl_view_id": [
        "771C0252-9334-44BF-8FD6-014604ADD2EB"
       ],
       "_player_dict": {},
       "_scene_position": {},
       "_scene_rotation": {},
       "_synced_model_ids": [],
       "_synced_repr_model_ids": [],
       "_view_height": "",
       "_view_width": "",
       "background": "white",
       "frame": 0,
       "gui_style": null,
       "layout": "IPY_MODEL_2368528772624c42985b3f920f681f7f",
       "max_frame": 0,
       "n_components": 1,
       "picked": {}
      }
     },
     "a2e2ea980661403ea7193041a0198b85": {
      "model_module": "@jupyter-widgets/controls",
      "model_module_version": "1.5.0",
      "model_name": "PlayModel",
      "state": {
       "layout": "IPY_MODEL_a2ff9fd6cbc04ba29833b733c4c02d65",
       "max": 0,
       "style": "IPY_MODEL_6ad0decca9ee410094046af9a0cdf74c"
      }
     },
     "a2e7265769264e5c8eb454abc22bf5f1": {
      "model_module": "nglview-js-widgets",
      "model_module_version": "2.7.7",
      "model_name": "NGLModel",
      "state": {
       "_camera_orientation": [
        70.54454934955544,
        0,
        0,
        0,
        0,
        70.54454934955544,
        0,
        0,
        0,
        0,
        70.54454934955544,
        0,
        22.470288276672363,
        -13.10406231880188,
        -16.124666929244995,
        1
       ],
       "_camera_str": "orthographic",
       "_gui_theme": null,
       "_ibtn_fullscreen": "IPY_MODEL_a6d1ff10c64341feafc01c52edb30587",
       "_igui": null,
       "_iplayer": "IPY_MODEL_217b943eb3544b329d4fee52d624a421",
       "_ngl_color_dict": {},
       "_ngl_coordinate_resource": {},
       "_ngl_full_stage_parameters": {
        "ambientColor": 14540253,
        "ambientIntensity": 0.2,
        "backgroundColor": "white",
        "cameraEyeSep": 0.3,
        "cameraFov": 40,
        "cameraType": "perspective",
        "clipDist": 10,
        "clipFar": 100,
        "clipNear": 0,
        "fogFar": 100,
        "fogNear": 50,
        "hoverTimeout": 0,
        "impostor": true,
        "lightColor": 14540253,
        "lightIntensity": 1,
        "mousePreset": "default",
        "panSpeed": 1,
        "quality": "medium",
        "rotateSpeed": 2,
        "sampleLevel": 0,
        "tooltip": true,
        "workerDefault": true,
        "zoomSpeed": 1.2
       },
       "_ngl_msg_archive": [
        {
         "args": [
          {
           "binary": false,
           "data": "ATOM      1  N   GLU A   1     -35.002  23.721  10.106  1.00 31.16           N  \nATOM      2  CA  GLU A   1     -34.808  22.363  10.600  1.00 38.49           C  \nATOM      3  C   GLU A   1     -34.161  21.487   9.532  1.00 33.79           C  \nATOM      4  O   GLU A   1     -34.848  20.775   8.799  1.00 30.23           O  \nATOM      5  CB  GLU A   1     -36.142  21.759  11.042  1.00 35.36           C  \nATOM      6  CG  GLU A   1     -36.798  22.497  12.198  1.00 51.28           C  \nATOM      7  CD  GLU A   1     -38.121  21.881  12.609  1.00 45.59           C  \nATOM      8  OE1 GLU A   1     -38.662  21.061  11.838  1.00 45.91           O  \nATOM      9  OE2 GLU A   1     -38.618  22.216  13.705  1.00 66.17           O  \nATOM     10  N   LEU A   2     -32.834  21.542   9.452  1.00 25.08           N  \nATOM     11  CA  LEU A   2     -32.081  20.794   8.453  1.00 28.95           C  \nATOM     12  C   LEU A   2     -31.782  19.399   8.990  1.00 29.65           C  \nATOM     13  O   LEU A   2     -31.148  19.255  10.040  1.00 39.99           O  \nATOM     14  CB  LEU A   2     -30.788  21.526   8.099  1.00 30.68           C  \nATOM     15  CG  LEU A   2     -30.950  23.002   7.727  1.00 38.41           C  \nATOM     16  CD1 LEU A   2     -29.599  23.636   7.434  1.00 29.08           C  \nATOM     17  CD2 LEU A   2     -31.890  23.165   6.542  1.00 53.76           C  \nATOM     18  N   TYR A   3     -32.234  18.379   8.268  1.00 28.35           N  \nATOM     19  CA  TYR A   3     -32.049  16.997   8.681  1.00 28.12           C  \nATOM     20  C   TYR A   3     -30.782  16.417   8.064  1.00 32.27           C  \nATOM     21  O   TYR A   3     -30.323  16.858   7.007  1.00 28.31           O  \nATOM     22  CB  TYR A   3     -33.256  16.149   8.277  1.00 31.24           C  \nATOM     23  CG  TYR A   3     -34.566  16.633   8.857  1.00 36.67           C  \nATOM     24  CD1 TYR A   3     -35.121  16.025   9.974  1.00 27.41           C  \nATOM     25  CD2 TYR A   3     -35.246  17.701   8.287  1.00 49.25           C  \nATOM     26  CE1 TYR A   3     -36.318  16.464  10.506  1.00 36.03           C  \nATOM     27  CE2 TYR A   3     -36.443  18.148   8.813  1.00 47.08           C  \nATOM     28  CZ  TYR A   3     -36.974  17.527   9.922  1.00 34.98           C  \nATOM     29  OH  TYR A   3     -38.166  17.970  10.447  1.00 35.89           O  \nATOM     30  N   HIS A   4     -30.219  15.420   8.743  1.00 27.80           N  \nATOM     31  CA  HIS A   4     -29.024  14.732   8.281  1.00 19.35           C  \nATOM     32  C   HIS A   4     -29.259  13.228   8.327  1.00 26.14           C  \nATOM     33  O   HIS A   4     -30.118  12.733   9.061  1.00 27.94           O  \nATOM     34  CB  HIS A   4     -27.794  15.090   9.130  1.00 15.38           C  \nATOM     35  CG  HIS A   4     -27.427  16.541   9.088  1.00 20.19           C  \nATOM     36  ND1 HIS A   4     -26.191  16.983   8.669  1.00 18.69           N  \nATOM     37  CD2 HIS A   4     -28.132  17.650   9.415  1.00 23.59           C  \nATOM     38  CE1 HIS A   4     -26.150  18.301   8.738  1.00 19.88           C  \nATOM     39  NE2 HIS A   4     -27.315  18.731   9.188  1.00 24.85           N  \nATOM     40  N   TYR A   5     -28.477  12.504   7.529  1.00 38.79           N  \nATOM     41  CA  TYR A   5     -28.554  11.052   7.486  1.00 27.99           C  \nATOM     42  C   TYR A   5     -27.200  10.510   7.057  1.00 25.23           C  \nATOM     43  O   TYR A   5     -26.478  11.146   6.284  1.00 22.78           O  \nATOM     44  CB  TYR A   5     -29.652  10.570   6.529  1.00 24.87           C  \nATOM     45  CG  TYR A   5     -29.814   9.065   6.476  1.00 30.43           C  \nATOM     46  CD1 TYR A   5     -29.040   8.292   5.619  1.00 28.55           C  \nATOM     47  CD2 TYR A   5     -30.744   8.419   7.279  1.00 32.46           C  \nATOM     48  CE1 TYR A   5     -29.185   6.919   5.568  1.00 36.68           C  \nATOM     49  CE2 TYR A   5     -30.896   7.046   7.234  1.00 31.65           C  \nATOM     50  CZ  TYR A   5     -30.115   6.301   6.377  1.00 34.48           C  \nATOM     51  OH  TYR A   5     -30.263   4.934   6.328  1.00 44.33           O  \nATOM     52  N   GLN A   6     -26.861   9.328   7.567  1.00 34.47           N  \nATOM     53  CA  GLN A   6     -25.574   8.717   7.271  1.00 33.16           C  \nATOM     54  C   GLN A   6     -25.574   7.287   7.787  1.00 34.04           C  \nATOM     55  O   GLN A   6     -26.147   7.003   8.843  1.00 33.71           O  \nATOM     56  CB  GLN A   6     -24.427   9.516   7.907  1.00 34.50           C  \nATOM     57  CG  GLN A   6     -23.051   8.884   7.750  1.00 52.88           C  \nATOM     58  CD  GLN A   6     -21.949   9.748   8.334  1.00 54.62           C  \nATOM     59  OE1 GLN A   6     -22.196  10.869   8.779  1.00 32.80           O  \nATOM     60  NE2 GLN A   6     -20.726   9.230   8.336  1.00 45.23           N  \nATOM     61  N   GLU A   7     -24.930   6.398   7.036  1.00 34.16           N  \nATOM     62  CA  GLU A   7     -24.786   5.000   7.412  1.00 35.09           C  \nATOM     63  C   GLU A   7     -23.351   4.723   7.838  1.00 45.21           C  \nATOM     64  O   GLU A   7     -22.400   5.145   7.170  1.00 41.88           O  \nATOM     65  CB  GLU A   7     -25.170   4.072   6.259  1.00 36.68           C  \nATOM     66  CG  GLU A   7     -26.594   4.253   5.768  1.00 51.43           C  \nATOM     67  CD  GLU A   7     -27.027   3.157   4.813  1.00 55.52           C  \nATOM     68  OE1 GLU A   7     -26.202   2.269   4.512  1.00 39.63           O  \nATOM     69  OE2 GLU A   7     -28.193   3.183   4.367  1.00 65.11           O  \nATOM     70  N   CYS A   8     -23.203   4.007   8.949  1.00 44.23           N  \nATOM     71  CA  CYS A   8     -21.892   3.692   9.496  1.00 33.22           C  \nATOM     72  C   CYS A   8     -21.856   2.230   9.914  1.00 36.82           C  \nATOM     73  O   CYS A   8     -22.893   1.593  10.116  1.00 32.94           O  \nATOM     74  CB  CYS A   8     -21.549   4.593  10.692  1.00 49.21           C  \nATOM     75  SG  CYS A   8     -22.763   4.563  12.032  1.00 44.42           S  \nATOM     76  N   VAL A   9     -20.639   1.709  10.052  1.00 26.95           N  \nATOM     77  CA  VAL A   9     -20.433   0.324  10.458  1.00 32.79           C  \nATOM     78  C   VAL A   9     -20.492   0.232  11.976  1.00 39.33           C  \nATOM     79  O   VAL A   9     -19.955   1.090  12.688  1.00 35.69           O  \nATOM     80  CB  VAL A   9     -19.091  -0.203   9.918  1.00 29.77           C  \nATOM     81  CG1 VAL A   9     -18.950  -1.691  10.204  1.00 29.92           C  \nATOM     82  CG2 VAL A   9     -18.969   0.076   8.428  1.00 31.87           C  \nATOM     83  N   ARG A  10     -21.145  -0.815  12.477  1.00 35.01           N  \nATOM     84  CA  ARG A  10     -21.294  -0.987  13.917  1.00 33.43           C  \nATOM     85  C   ARG A  10     -19.932  -1.016  14.598  1.00 35.84           C  \nATOM     86  O   ARG A  10     -19.007  -1.694  14.141  1.00 33.69           O  \nATOM     87  CB  ARG A  10     -22.060  -2.276  14.218  1.00 37.86           C  \nATOM     88  CG  ARG A  10     -23.500  -2.273  13.733  1.00 48.77           C  \nATOM     89  CD  ARG A  10     -24.249  -3.514  14.190  1.00 33.84           C  \nATOM     90  NE  ARG A  10     -25.575  -3.610  13.583  1.00 24.35           N  \nATOM     91  CZ  ARG A  10     -26.639  -2.918  13.982  1.00 18.91           C  \nATOM     92  NH1 ARG A  10     -26.551  -2.064  14.994  1.00 43.51           N  \nATOM     93  NH2 ARG A  10     -27.800  -3.080  13.362  1.00 23.67           N  \nATOM     94  N   GLY A  11     -19.813  -0.275  15.694  1.00 55.52           N  \nATOM     95  CA  GLY A  11     -18.600  -0.239  16.495  1.00 59.77           C  \nATOM     96  C   GLY A  11     -17.596   0.817  16.085  1.00 54.98           C  \nATOM     97  O   GLY A  11     -17.025   1.496  16.941  1.00 71.18           O  \nATOM     98  N   THR A  12     -17.368   0.968  14.783  1.00 48.29           N  \nATOM     99  CA  THR A  12     -16.383   1.928  14.305  1.00 48.71           C  \nATOM    100  C   THR A  12     -16.783   3.345  14.696  1.00 40.84           C  \nATOM    101  O   THR A  12     -17.967   3.690  14.723  1.00 39.83           O  \nATOM    102  CB  THR A  12     -16.235   1.826  12.787  1.00 63.95           C  \nATOM    103  OG1 THR A  12     -17.498   2.082  12.161  1.00 42.24           O  \nATOM    104  CG2 THR A  12     -15.744   0.439  12.388  1.00 50.24           C  \nATOM    105  N   THR A  13     -15.782   4.164  15.005  1.00 40.95           N  \nATOM    106  CA  THR A  13     -16.028   5.549  15.373  1.00 41.94           C  \nATOM    107  C   THR A  13     -16.453   6.355  14.148  1.00 47.33           C  \nATOM    108  O   THR A  13     -16.211   5.969  13.001  1.00 63.22           O  \nATOM    109  CB  THR A  13     -14.775   6.165  15.999  1.00 51.58           C  \nATOM    110  OG1 THR A  13     -14.245   5.273  16.989  1.00 58.38           O  \nATOM    111  CG2 THR A  13     -15.095   7.502  16.653  1.00 39.75           C  \nATOM    112  N   VAL A  14     -17.099   7.492  14.404  1.00 52.39           N  \nATOM    113  CA  VAL A  14     -17.555   8.388  13.349  1.00 52.73           C  \nATOM    114  C   VAL A  14     -17.292   9.815  13.808  1.00 40.07           C  \nATOM    115  O   VAL A  14     -17.784  10.230  14.864  1.00 42.11           O  \nATOM    116  CB  VAL A  14     -19.048   8.197  13.027  1.00 36.55           C  \nATOM    117  CG1 VAL A  14     -19.470   9.114  11.886  1.00 43.43           C  \nATOM    118  CG2 VAL A  14     -19.339   6.743  12.687  1.00 35.73           C  \nATOM    119  N   LEU A  15     -16.508  10.554  13.028  1.00 34.43           N  \nATOM    120  CA  LEU A  15     -16.244  11.964  13.275  1.00 41.42           C  \nATOM    121  C   LEU A  15     -17.067  12.804  12.307  1.00 39.05           C  \nATOM    122  O   LEU A  15     -17.227  12.441  11.138  1.00 71.88           O  \nATOM    123  CB  LEU A  15     -14.757  12.286  13.106  1.00 36.97           C  \nATOM    124  CG  LEU A  15     -13.792  11.752  14.169  1.00 53.94           C  \nATOM    125  CD1 LEU A  15     -13.766  10.231  14.189  1.00 46.05           C  \nATOM    126  CD2 LEU A  15     -12.393  12.307  13.942  1.00 45.03           C  \nATOM    127  N   LEU A  16     -17.585  13.929  12.797  1.00 31.17           N  \nATOM    128  CA  LEU A  16     -18.436  14.792  11.993  1.00 36.73           C  \nATOM    129  C   LEU A  16     -18.136  16.247  12.320  1.00 33.43           C  \nATOM    130  O   LEU A  16     -17.582  16.572  13.375  1.00 47.28           O  \nATOM    131  CB  LEU A  16     -19.922  14.492  12.229  1.00 43.84           C  \nATOM    132  CG  LEU A  16     -20.378  13.063  11.922  1.00 36.74           C  \nATOM    133  CD1 LEU A  16     -21.799  12.843  12.413  1.00 32.05           C  \nATOM    134  CD2 LEU A  16     -20.276  12.765  10.433  1.00 44.63           C  \nATOM    135  N   LYS A  17     -18.512  17.122  11.392  1.00 39.80           N  \nATOM    136  CA  LYS A  17     -18.315  18.555  11.546  1.00 48.68           C  \nATOM    137  C   LYS A  17     -19.476  19.159  12.324  1.00 42.24           C  \nATOM    138  O   LYS A  17     -20.625  18.728  12.185  1.00 50.57           O  \nATOM    139  CB  LYS A  17     -18.195  19.228  10.176  1.00 47.99           C  \nATOM    140  CG  LYS A  17     -17.874  20.716  10.224  1.00 41.86           C  \nATOM    141  CD  LYS A  17     -16.445  20.968  10.677  1.00 48.56           C  \nATOM    142  CE  LYS A  17     -16.157  22.456  10.801  1.00 61.08           C  \nATOM    143  NZ  LYS A  17     -14.740  22.723  11.174  1.00 47.97           N  \nATOM    144  N   GLU A  18     -19.171  20.157  13.140  1.00 60.85           N  \nATOM    145  CA  GLU A  18     -20.207  20.827  13.914  1.00 61.04           C  \nATOM    146  C   GLU A  18     -21.027  21.730  12.998  1.00 32.95           C  \nATOM    147  O   GLU A  18     -20.452  22.492  12.214  1.00 35.94           O  \nATOM    148  CB  GLU A  18     -19.587  21.647  15.043  1.00 52.92           C  \nATOM    149  CG  GLU A  18     -18.830  20.822  16.069  1.00 42.02           C  \nATOM    150  CD  GLU A  18     -18.228  21.674  17.170  1.00 53.13           C  \nATOM    151  OE1 GLU A  18     -18.404  22.910  17.130  1.00 55.47           O  \nATOM    152  OE2 GLU A  18     -17.579  21.108  18.074  1.00 47.76           O  \nATOM    153  N   PRO A  19     -22.362  21.680  13.061  1.00 29.71           N  \nATOM    154  CA  PRO A  19     -23.160  22.587  12.222  1.00 29.52           C  \nATOM    155  C   PRO A  19     -23.037  24.044  12.629  1.00 29.46           C  \nATOM    156  O   PRO A  19     -23.361  24.924  11.822  1.00 30.45           O  \nATOM    157  CB  PRO A  19     -24.593  22.071  12.405  1.00 27.55           C  \nATOM    158  CG  PRO A  19     -24.585  21.405  13.734  1.00 41.38           C  \nATOM    159  CD  PRO A  19     -23.210  20.822  13.909  1.00 42.01           C  \nATOM    160  N   CYS A  20     -22.584  24.325  13.848  1.00 45.28           N  \nATOM    161  CA  CYS A  20     -22.340  25.691  14.287  1.00 56.04           C  \nATOM    162  C   CYS A  20     -21.210  25.679  15.306  1.00 41.46           C  \nATOM    163  O   CYS A  20     -20.757  24.622  15.753  1.00 35.57           O  \nATOM    164  CB  CYS A  20     -23.601  26.330  14.877  1.00 45.60           C  \nATOM    165  SG  CYS A  20     -24.547  25.260  15.981  1.00 44.35           S  \nATOM    166  N   SER A  21     -20.755  26.877  15.670  1.00 35.19           N  \nATOM    167  CA  SER A  21     -19.642  27.024  16.598  1.00 46.54           C  \nATOM    168  C   SER A  21     -19.962  26.386  17.945  1.00 44.57           C  \nATOM    169  O   SER A  21     -19.336  25.393  18.329  1.00 35.44           O  \nATOM    170  CB  SER A  21     -19.295  28.503  16.779  1.00 50.71           C  \nATOM    171  OG  SER A  21     -20.425  29.245  17.204  1.00 60.93           O  \nATOM    172  N   SER A  22     -20.932  26.947  18.666  1.00 35.35           N  \nATOM    173  CA  SER A  22     -21.295  26.437  19.983  1.00 32.62           C  \nATOM    174  C   SER A  22     -22.584  25.627  19.912  1.00 38.68           C  \nATOM    175  O   SER A  22     -22.544  24.403  19.750  1.00 33.37           O  \nATOM    176  CB  SER A  22     -21.441  27.590  20.979  1.00 40.07           C  \nATOM    177  OG  SER A  22     -22.455  28.492  20.570  1.00 41.24           O  \nATOM    178  N   GLY A  23     -23.729  26.296  20.028  1.00 26.21           N  \nATOM    179  CA  GLY A  23     -25.009  25.614  20.000  1.00 29.82           C  \nATOM    180  C   GLY A  23     -25.199  24.672  21.171  1.00 35.18           C  \nATOM    181  O   GLY A  23     -24.302  24.524  22.006  1.00 42.12           O  \nATOM    182  N   THR A  24     -26.362  24.028  21.242  1.00 31.94           N  \nATOM    183  CA  THR A  24     -26.686  23.097  22.315  1.00 26.87           C  \nATOM    184  C   THR A  24     -26.986  21.730  21.715  1.00 28.36           C  \nATOM    185  O   THR A  24     -27.813  21.617  20.806  1.00 30.58           O  \nATOM    186  CB  THR A  24     -27.882  23.592  23.135  1.00 26.11           C  \nATOM    187  OG1 THR A  24     -29.081  23.479  22.359  1.00 22.52           O  \nATOM    188  CG2 THR A  24     -27.686  25.046  23.543  1.00 28.41           C  \nATOM    189  N   TYR A  25     -26.315  20.702  22.224  1.00 30.69           N  \nATOM    190  CA  TYR A  25     -26.441  19.346  21.711  1.00 26.05           C  \nATOM    191  C   TYR A  25     -27.405  18.534  22.568  1.00 27.33           C  \nATOM    192  O   TYR A  25     -27.547  18.772  23.770  1.00 26.84           O  \nATOM    193  CB  TYR A  25     -25.068  18.668  21.671  1.00 23.29           C  \nATOM    194  CG  TYR A  25     -25.107  17.158  21.612  1.00 38.86           C  \nATOM    195  CD1 TYR A  25     -25.002  16.396  22.768  1.00 33.96           C  \nATOM    196  CD2 TYR A  25     -25.240  16.495  20.401  1.00 40.83           C  \nATOM    197  CE1 TYR A  25     -25.032  15.016  22.719  1.00 28.14           C  \nATOM    198  CE2 TYR A  25     -25.272  15.115  20.342  1.00 37.59           C  \nATOM    199  CZ  TYR A  25     -25.167  14.381  21.504  1.00 38.55           C  \nATOM    200  OH  TYR A  25     -25.197  13.007  21.451  1.00 54.40           O  \nATOM    201  N   GLU A  26     -28.073  17.570  21.933  1.00 32.20           N  \nATOM    202  CA  GLU A  26     -29.014  16.699  22.635  1.00 26.99           C  \nATOM    203  C   GLU A  26     -29.027  15.352  21.929  1.00 28.80           C  \nATOM    204  O   GLU A  26     -29.515  15.250  20.800  1.00 31.32           O  \nATOM    205  CB  GLU A  26     -30.410  17.315  22.666  1.00 25.49           C  \nATOM    206  CG  GLU A  26     -31.497  16.393  23.201  1.00 27.99           C  \nATOM    207  CD  GLU A  26     -32.857  17.061  23.234  1.00 37.69           C  \nATOM    208  OE1 GLU A  26     -32.911  18.307  23.171  1.00 50.05           O  \nATOM    209  OE2 GLU A  26     -33.873  16.339  23.317  1.00 27.69           O  \nATOM    210  N   GLY A  27     -28.505  14.322  22.591  1.00 32.78           N  \nATOM    211  CA  GLY A  27     -28.444  12.999  22.010  1.00 40.43           C  \nATOM    212  C   GLY A  27     -28.528  11.928  23.075  1.00 30.90           C  \nATOM    213  O   GLY A  27     -28.692  12.212  24.263  1.00 38.01           O  \nATOM    214  N   ASN A  28     -28.410  10.678  22.629  1.00 33.08           N  \nATOM    215  CA  ASN A  28     -28.477   9.515  23.502  1.00 38.88           C  \nATOM    216  C   ASN A  28     -27.095   9.012  23.906  1.00 32.36           C  \nATOM    217  O   ASN A  28     -26.955   7.848  24.296  1.00 24.04           O  \nATOM    218  CB  ASN A  28     -29.258   8.392  22.818  1.00 35.03           C  \nATOM    219  CG  ASN A  28     -30.632   8.833  22.353  1.00 41.95           C  \nATOM    220  OD1 ASN A  28     -31.601   8.783  23.111  1.00 30.37           O  \nATOM    221  ND2 ASN A  28     -30.724   9.261  21.099  1.00 50.84           N  \nATOM    222  N   SER A  29     -26.072   9.860  23.813  1.00 33.25           N  \nATOM    223  CA  SER A  29     -24.715   9.477  24.174  1.00 33.06           C  \nATOM    224  C   SER A  29     -23.922  10.744  24.440  1.00 38.34           C  \nATOM    225  O   SER A  29     -24.263  11.804  23.903  1.00 36.06           O  \nATOM    226  CB  SER A  29     -24.055   8.650  23.061  1.00 37.05           C  \nATOM    227  OG  SER A  29     -24.002   9.379  21.847  1.00 65.69           O  \nATOM    228  N   PRO A  30     -22.869  10.677  25.255  1.00 50.75           N  \nATOM    229  CA  PRO A  30     -22.118  11.895  25.576  1.00 38.97           C  \nATOM    230  C   PRO A  30     -21.505  12.524  24.334  1.00 44.89           C  \nATOM    231  O   PRO A  30     -21.214  11.851  23.343  1.00 35.92           O  \nATOM    232  CB  PRO A  30     -21.039  11.406  26.552  1.00 39.26           C  \nATOM    233  CG  PRO A  30     -20.938   9.937  26.317  1.00 51.70           C  \nATOM    234  CD  PRO A  30     -22.309   9.489  25.922  1.00 56.22           C  \nATOM    235  N   PHE A  31     -21.314  13.839  24.403  1.00 42.79           N  \nATOM    236  CA  PHE A  31     -20.755  14.610  23.300  1.00 35.82           C  \nATOM    237  C   PHE A  31     -19.236  14.621  23.419  1.00 40.43           C  \nATOM    238  O   PHE A  31     -18.692  15.091  24.425  1.00 45.48           O  \nATOM    239  CB  PHE A  31     -21.319  16.030  23.315  1.00 34.16           C  \nATOM    240  CG  PHE A  31     -20.827  16.897  22.192  1.00 43.94           C  \nATOM    241  CD1 PHE A  31     -21.327  16.745  20.910  1.00 40.02           C  \nATOM    242  CD2 PHE A  31     -19.876  17.876  22.423  1.00 53.31           C  \nATOM    243  CE1 PHE A  31     -20.879  17.546  19.877  1.00 37.41           C  \nATOM    244  CE2 PHE A  31     -19.425  18.680  21.395  1.00 36.24           C  \nATOM    245  CZ  PHE A  31     -19.927  18.515  20.121  1.00 32.72           C  \nATOM    246  N   HIS A  32     -18.553  14.101  22.396  1.00 42.35           N  \nATOM    247  CA  HIS A  32     -17.097  13.981  22.391  1.00 40.74           C  \nATOM    248  C   HIS A  32     -16.508  14.996  21.419  1.00 36.19           C  \nATOM    249  O   HIS A  32     -16.304  14.684  20.236  1.00 45.98           O  \nATOM    250  CB  HIS A  32     -16.671  12.561  22.009  1.00 37.84           C  \nATOM    251  CG  HIS A  32     -17.386  11.488  22.769  1.00 43.87           C  \nATOM    252  ND1 HIS A  32     -18.498  10.842  22.274  1.00 46.90           N  \nATOM    253  CD2 HIS A  32     -17.147  10.947  23.986  1.00 59.04           C  \nATOM    254  CE1 HIS A  32     -18.913   9.948  23.154  1.00 43.84           C  \nATOM    255  NE2 HIS A  32     -18.111   9.992  24.202  1.00 56.63           N  \nATOM    256  N   PRO A  33     -16.214  16.217  21.858  1.00 32.12           N  \nATOM    257  CA  PRO A  33     -15.606  17.197  20.955  1.00 38.26           C  \nATOM    258  C   PRO A  33     -14.118  16.956  20.761  1.00 51.25           C  \nATOM    259  O   PRO A  33     -13.417  16.459  21.646  1.00 36.09           O  \nATOM    260  CB  PRO A  33     -15.858  18.532  21.665  1.00 33.62           C  \nATOM    261  CG  PRO A  33     -15.908  18.175  23.107  1.00 39.48           C  \nATOM    262  CD  PRO A  33     -16.506  16.794  23.183  1.00 48.05           C  \nATOM    263  N   LEU A  34     -13.643  17.320  19.572  1.00 41.31           N  \nATOM    264  CA  LEU A  34     -12.234  17.250  19.217  1.00 40.73           C  \nATOM    265  C   LEU A  34     -11.808  18.603  18.660  1.00 35.77           C  \nATOM    266  O   LEU A  34     -12.606  19.540  18.566  1.00 37.53           O  \nATOM    267  CB  LEU A  34     -11.972  16.130  18.201  1.00 39.90           C  \nATOM    268  CG  LEU A  34     -12.307  14.707  18.654  1.00 43.19           C  \nATOM    269  CD1 LEU A  34     -12.115  13.724  17.509  1.00 55.78           C  \nATOM    270  CD2 LEU A  34     -11.458  14.306  19.851  1.00 62.47           C  \nATOM    271  N   ALA A  35     -10.537  18.704  18.285  1.00 42.24           N  \nATOM    272  CA  ALA A  35     -10.017  19.947  17.740  1.00 61.41           C  \nATOM    273  C   ALA A  35     -10.598  20.206  16.351  1.00 55.31           C  \nATOM    274  O   ALA A  35     -11.198  19.331  15.719  1.00 51.89           O  \nATOM    275  CB  ALA A  35      -8.491  19.906  17.679  1.00 63.48           C  \nATOM    276  N   ASP A  36     -10.416  21.439  15.879  1.00 58.01           N  \nATOM    277  CA  ASP A  36     -10.860  21.850  14.547  1.00 59.85           C  \nATOM    278  C   ASP A  36     -12.380  21.797  14.412  1.00 57.48           C  \nATOM    279  O   ASP A  36     -12.909  21.572  13.320  1.00 61.22           O  \nATOM    280  CB  ASP A  36     -10.200  20.996  13.460  1.00 71.53           C  \nATOM    281  CG  ASP A  36      -8.686  21.061  13.506  1.00 76.55           C  \nATOM    282  OD1 ASP A  36      -8.147  22.101  13.941  1.00 84.11           O  \nATOM    283  OD2 ASP A  36      -8.034  20.073  13.108  1.00 63.26           O  \nATOM    284  N   ASN A  37     -13.093  22.007  15.518  1.00 58.24           N  \nATOM    285  CA  ASN A  37     -14.554  22.062  15.520  1.00 51.74           C  \nATOM    286  C   ASN A  37     -15.154  20.793  14.907  1.00 49.02           C  \nATOM    287  O   ASN A  37     -15.832  20.822  13.878  1.00 48.92           O  \nATOM    288  CB  ASN A  37     -15.050  23.314  14.788  1.00 51.02           C  \nATOM    289  CG  ASN A  37     -14.663  24.596  15.499  1.00 54.84           C  \nATOM    290  OD1 ASN A  37     -14.507  24.619  16.720  1.00 77.82           O  \nATOM    291  ND2 ASN A  37     -14.509  25.672  14.737  1.00 57.57           N  \nATOM    292  N   LYS A  38     -14.891  19.670  15.569  1.00 45.61           N  \nATOM    293  CA  LYS A  38     -15.433  18.379  15.173  1.00 46.30           C  \nATOM    294  C   LYS A  38     -15.951  17.658  16.409  1.00 57.91           C  \nATOM    295  O   LYS A  38     -15.578  17.978  17.540  1.00 48.38           O  \nATOM    296  CB  LYS A  38     -14.379  17.508  14.473  1.00 45.22           C  \nATOM    297  CG  LYS A  38     -13.686  18.170  13.293  1.00 55.24           C  \nATOM    298  CD  LYS A  38     -12.523  17.319  12.802  1.00 58.20           C  \nATOM    299  CE  LYS A  38     -11.753  18.001  11.682  1.00 73.16           C  \nATOM    300  NZ  LYS A  38     -12.548  18.109  10.430  1.00 94.39           N  \nATOM    301  N   PHE A  39     -16.811  16.667  16.186  1.00 36.80           N  \nATOM    302  CA  PHE A  39     -17.291  15.825  17.272  1.00 27.99           C  \nATOM    303  C   PHE A  39     -17.355  14.380  16.803  1.00 33.66           C  \nATOM    304  O   PHE A  39     -17.784  14.099  15.681  1.00 38.38           O  \nATOM    305  CB  PHE A  39     -18.664  16.285  17.787  1.00 36.79           C  \nATOM    306  CG  PHE A  39     -19.786  16.088  16.808  1.00 35.06           C  \nATOM    307  CD1 PHE A  39     -20.111  17.079  15.897  1.00 41.85           C  \nATOM    308  CD2 PHE A  39     -20.530  14.920  16.815  1.00 29.29           C  \nATOM    309  CE1 PHE A  39     -21.149  16.902  15.002  1.00 42.37           C  \nATOM    310  CE2 PHE A  39     -21.568  14.738  15.922  1.00 27.09           C  \nATOM    311  CZ  PHE A  39     -21.879  15.730  15.016  1.00 35.46           C  \nATOM    312  N   ALA A  40     -16.919  13.472  17.669  1.00 50.33           N  \nATOM    313  CA  ALA A  40     -16.868  12.051  17.367  1.00 33.66           C  \nATOM    314  C   ALA A  40     -17.877  11.294  18.219  1.00 36.99           C  \nATOM    315  O   ALA A  40     -18.326  11.772  19.265  1.00 55.62           O  \nATOM    316  CB  ALA A  40     -15.462  11.491  17.608  1.00 28.91           C  \nATOM    317  N   LEU A  41     -18.235  10.100  17.755  1.00 35.16           N  \nATOM    318  CA  LEU A  41     -19.150   9.251  18.508  1.00 33.24           C  \nATOM    319  C   LEU A  41     -19.140   7.850  17.914  1.00 33.54           C  \nATOM    320  O   LEU A  41     -18.771   7.648  16.754  1.00 31.71           O  \nATOM    321  CB  LEU A  41     -20.571   9.829  18.515  1.00 43.80           C  \nATOM    322  CG  LEU A  41     -21.241  10.060  17.158  1.00 42.59           C  \nATOM    323  CD1 LEU A  41     -21.891   8.787  16.638  1.00 31.19           C  \nATOM    324  CD2 LEU A  41     -22.263  11.184  17.252  1.00 32.29           C  \nATOM    325  N   THR A  42     -19.555   6.885  18.729  1.00 32.37           N  \nATOM    326  CA  THR A  42     -19.615   5.498  18.296  1.00 32.79           C  \nATOM    327  C   THR A  42     -20.818   5.275  17.387  1.00 36.50           C  \nATOM    328  O   THR A  42     -21.850   5.939  17.509  1.00 31.63           O  \nATOM    329  CB  THR A  42     -19.690   4.562  19.503  1.00 32.19           C  \nATOM    330  OG1 THR A  42     -18.504   4.704  20.296  1.00 39.02           O  \nATOM    331  CG2 THR A  42     -19.827   3.112  19.058  1.00 33.48           C  \nATOM    332  N   CYS A  43     -20.673   4.323  16.468  1.00 38.81           N  \nATOM    333  CA  CYS A  43     -21.717   4.039  15.495  1.00 38.24           C  \nATOM    334  C   CYS A  43     -22.807   3.174  16.115  1.00 31.99           C  \nATOM    335  O   CYS A  43     -22.523   2.127  16.706  1.00 32.40           O  \nATOM    336  CB  CYS A  43     -21.127   3.338  14.273  1.00 41.94           C  \nATOM    337  SG  CYS A  43     -22.354   2.849  13.040  1.00 49.63           S  \nATOM    338  N   PHE A  44     -24.055   3.615  15.974  1.00 30.51           N  \nATOM    339  CA  PHE A  44     -25.212   2.848  16.413  1.00 32.05           C  \nATOM    340  C   PHE A  44     -26.466   3.582  15.964  1.00 27.36           C  \nATOM    341  O   PHE A  44     -26.553   4.804  16.104  1.00 26.07           O  \nATOM    342  CB  PHE A  44     -25.218   2.651  17.936  1.00 28.28           C  \nATOM    343  CG  PHE A  44     -25.347   3.927  18.718  1.00 26.99           C  \nATOM    344  CD1 PHE A  44     -26.549   4.270  19.313  1.00 22.49           C  \nATOM    345  CD2 PHE A  44     -24.266   4.781  18.861  1.00 25.16           C  \nATOM    346  CE1 PHE A  44     -26.670   5.442  20.036  1.00 22.71           C  \nATOM    347  CE2 PHE A  44     -24.383   5.955  19.581  1.00 27.31           C  \nATOM    348  CZ  PHE A  44     -25.587   6.285  20.169  1.00 22.55           C  \nATOM    349  N   SER A  45     -27.423   2.832  15.414  1.00 30.47           N  \nATOM    350  CA  SER A  45     -28.655   3.415  14.894  1.00 29.79           C  \nATOM    351  C   SER A  45     -29.285   4.339  15.929  1.00 22.07           C  \nATOM    352  O   SER A  45     -29.721   3.878  16.988  1.00 28.10           O  \nATOM    353  CB  SER A  45     -29.641   2.314  14.496  1.00 37.06           C  \nATOM    354  OG  SER A  45     -29.076   1.445  13.529  1.00 47.07           O  \nATOM    355  N   THR A  46     -29.341   5.638  15.643  1.00 23.15           N  \nATOM    356  CA  THR A  46     -29.802   6.596  16.644  1.00 30.50           C  \nATOM    357  C   THR A  46     -30.117   7.923  15.967  1.00 26.04           C  \nATOM    358  O   THR A  46     -29.871   8.111  14.773  1.00 37.32           O  \nATOM    359  CB  THR A  46     -28.756   6.789  17.747  1.00 39.11           C  \nATOM    360  OG1 THR A  46     -29.304   7.583  18.807  1.00 31.07           O  \nATOM    361  CG2 THR A  46     -27.514   7.478  17.192  1.00 28.60           C  \nATOM    362  N   GLN A  47     -30.673   8.843  16.757  1.00 31.42           N  \nATOM    363  CA  GLN A  47     -30.968  10.196  16.308  1.00 35.74           C  \nATOM    364  C   GLN A  47     -30.636  11.178  17.422  1.00 30.32           C  \nATOM    365  O   GLN A  47     -30.887  10.901  18.599  1.00 48.75           O  \nATOM    366  CB  GLN A  47     -32.442  10.351  15.908  1.00 44.50           C  \nATOM    367  CG  GLN A  47     -32.886   9.441  14.776  1.00 52.04           C  \nATOM    368  CD  GLN A  47     -34.303   9.733  14.320  1.00 42.39           C  \nATOM    369  OE1 GLN A  47     -34.894  10.742  14.704  1.00 26.94           O  \nATOM    370  NE2 GLN A  47     -34.856   8.849  13.497  1.00 41.98           N  \nATOM    371  N   PHE A  48     -30.073  12.324  17.044  1.00 19.32           N  \nATOM    372  CA  PHE A  48     -29.777  13.399  17.985  1.00 27.85           C  \nATOM    373  C   PHE A  48     -30.012  14.735  17.287  1.00 26.24           C  \nATOM    374  O   PHE A  48     -30.456  14.787  16.136  1.00 25.19           O  \nATOM    375  CB  PHE A  48     -28.350  13.279  18.539  1.00 32.96           C  \nATOM    376  CG  PHE A  48     -27.286  13.177  17.483  1.00 39.99           C  \nATOM    377  CD1 PHE A  48     -26.995  11.961  16.888  1.00 34.88           C  \nATOM    378  CD2 PHE A  48     -26.562  14.294  17.100  1.00 36.72           C  \nATOM    379  CE1 PHE A  48     -26.011  11.863  15.922  1.00 22.04           C  \nATOM    380  CE2 PHE A  48     -25.575  14.201  16.136  1.00 22.66           C  \nATOM    381  CZ  PHE A  48     -25.300  12.984  15.547  1.00 20.92           C  \nATOM    382  N   ALA A  49     -29.718  15.829  17.988  1.00 22.98           N  \nATOM    383  CA  ALA A  49     -30.066  17.149  17.487  1.00 26.96           C  \nATOM    384  C   ALA A  49     -29.102  18.203  18.012  1.00 26.00           C  \nATOM    385  O   ALA A  49     -28.494  18.048  19.076  1.00 21.35           O  \nATOM    386  CB  ALA A  49     -31.502  17.525  17.874  1.00 19.88           C  \nATOM    387  N   PHE A  50     -28.975  19.280  17.235  1.00 30.89           N  \nATOM    388  CA  PHE A  50     -28.226  20.470  17.607  1.00 27.06           C  \nATOM    389  C   PHE A  50     -29.121  21.687  17.430  1.00 35.99           C  \nATOM    390  O   PHE A  50     -29.812  21.815  16.414  1.00 32.48           O  \nATOM    391  CB  PHE A  50     -26.968  20.645  16.743  1.00 24.04           C  \nATOM    392  CG  PHE A  50     -25.851  19.705  17.087  1.00 22.13           C  \nATOM    393  CD1 PHE A  50     -25.955  18.352  16.820  1.00 24.35           C  \nATOM    394  CD2 PHE A  50     -24.683  20.183  17.658  1.00 24.70           C  \nATOM    395  CE1 PHE A  50     -24.922  17.490  17.130  1.00 34.17           C  \nATOM    396  CE2 PHE A  50     -23.647  19.326  17.970  1.00 25.87           C  \nATOM    397  CZ  PHE A  50     -23.766  17.978  17.705  1.00 29.92           C  \nATOM    398  N   ALA A  51     -29.106  22.579  18.416  1.00 25.96           N  \nATOM    399  CA  ALA A  51     -29.809  23.856  18.342  1.00 23.09           C  \nATOM    400  C   ALA A  51     -28.759  24.950  18.206  1.00 28.71           C  \nATOM    401  O   ALA A  51     -27.994  25.204  19.143  1.00 29.32           O  \nATOM    402  CB  ALA A  51     -30.687  24.077  19.571  1.00 19.12           C  \nATOM    403  N   CYS A  52     -28.720  25.589  17.043  1.00 25.73           N  \nATOM    404  CA  CYS A  52     -27.695  26.570  16.730  1.00 31.49           C  \nATOM    405  C   CYS A  52     -28.203  27.985  16.964  1.00 22.30           C  \nATOM    406  O   CYS A  52     -29.413  28.227  16.999  1.00 15.04           O  \nATOM    407  CB  CYS A  52     -27.243  26.416  15.275  1.00 25.46           C  \nATOM    408  SG  CYS A  52     -26.272  24.923  14.965  1.00 17.61           S  \nATOM    409  N   PRO A  53     -27.297  28.953  17.128  1.00 21.95           N  \nATOM    410  CA  PRO A  53     -27.745  30.331  17.389  1.00 18.46           C  \nATOM    411  C   PRO A  53     -28.555  30.930  16.254  1.00 29.70           C  \nATOM    412  O   PRO A  53     -29.439  31.758  16.506  1.00 22.06           O  \nATOM    413  CB  PRO A  53     -26.429  31.096  17.602  1.00 15.91           C  \nATOM    414  CG  PRO A  53     -25.403  30.051  17.893  1.00 33.37           C  \nATOM    415  CD  PRO A  53     -25.828  28.839  17.134  1.00 23.50           C  \nATOM    416  N   ASP A  54     -28.282  30.536  15.009  1.00 32.94           N  \nATOM    417  CA  ASP A  54     -28.977  31.108  13.862  1.00 40.93           C  \nATOM    418  C   ASP A  54     -30.453  30.733  13.811  1.00 30.91           C  \nATOM    419  O   ASP A  54     -31.177  31.265  12.962  1.00 38.70           O  \nATOM    420  CB  ASP A  54     -28.293  30.665  12.566  1.00 38.48           C  \nATOM    421  CG  ASP A  54     -28.260  29.156  12.410  1.00 38.21           C  \nATOM    422  OD1 ASP A  54     -28.769  28.451  13.306  1.00 32.10           O  \nATOM    423  OD2 ASP A  54     -27.723  28.675  11.390  1.00 31.51           O  \nATOM    424  N   GLY A  55     -30.916  29.845  14.686  1.00 26.13           N  \nATOM    425  CA  GLY A  55     -32.294  29.404  14.659  1.00 26.47           C  \nATOM    426  C   GLY A  55     -32.548  28.186  13.805  1.00 43.38           C  \nATOM    427  O   GLY A  55     -33.707  27.910  13.475  1.00 28.01           O  \nATOM    428  N   VAL A  56     -31.505  27.448  13.437  1.00 31.08           N  \nATOM    429  CA  VAL A  56     -31.621  26.267  12.590  1.00 25.63           C  \nATOM    430  C   VAL A  56     -31.373  25.042  13.458  1.00 30.39           C  \nATOM    431  O   VAL A  56     -30.302  24.908  14.064  1.00 46.09           O  \nATOM    432  CB  VAL A  56     -30.635  26.318  11.413  1.00 38.53           C  \nATOM    433  CG1 VAL A  56     -30.755  25.064  10.562  1.00 31.02           C  \nATOM    434  CG2 VAL A  56     -30.874  27.565  10.573  1.00 45.26           C  \nATOM    435  N   LYS A  57     -32.359  24.151  13.518  1.00 24.56           N  \nATOM    436  CA  LYS A  57     -32.252  22.919  14.292  1.00 24.98           C  \nATOM    437  C   LYS A  57     -31.708  21.821  13.384  1.00 24.88           C  \nATOM    438  O   LYS A  57     -32.413  21.336  12.493  1.00 23.33           O  \nATOM    439  CB  LYS A  57     -33.607  22.530  14.877  1.00 39.64           C  \nATOM    440  CG  LYS A  57     -33.580  21.258  15.711  1.00 29.95           C  \nATOM    441  CD  LYS A  57     -34.950  20.941  16.287  1.00 41.06           C  \nATOM    442  CE  LYS A  57     -34.920  19.670  17.119  1.00 52.94           C  \nATOM    443  NZ  LYS A  57     -36.253  19.353  17.703  1.00 46.57           N  \nATOM    444  N   HIS A  58     -30.459  21.427  13.614  1.00 25.71           N  \nATOM    445  CA  HIS A  58     -29.806  20.404  12.803  1.00 25.74           C  \nATOM    446  C   HIS A  58     -30.079  19.040  13.427  1.00 22.53           C  \nATOM    447  O   HIS A  58     -29.502  18.696  14.462  1.00 20.48           O  \nATOM    448  CB  HIS A  58     -28.307  20.675  12.703  1.00 22.28           C  \nATOM    449  CG  HIS A  58     -27.970  21.980  12.052  1.00 24.88           C  \nATOM    450  ND1 HIS A  58     -27.494  22.067  10.762  1.00 26.71           N  \nATOM    451  CD2 HIS A  58     -28.042  23.251  12.513  1.00 35.40           C  \nATOM    452  CE1 HIS A  58     -27.286  23.336  10.456  1.00 38.03           C  \nATOM    453  NE2 HIS A  58     -27.610  24.075  11.502  1.00 43.78           N  \nATOM    454  N   VAL A  59     -30.964  18.271  12.807  1.00 24.11           N  \nATOM    455  CA  VAL A  59     -31.284  16.926  13.269  1.00 20.29           C  \nATOM    456  C   VAL A  59     -30.369  15.937  12.564  1.00 19.22           C  \nATOM    457  O   VAL A  59     -30.138  16.037  11.353  1.00 28.12           O  \nATOM    458  CB  VAL A  59     -32.767  16.596  13.013  1.00 24.26           C  \nATOM    459  CG1 VAL A  59     -33.108  15.216  13.560  1.00 26.13           C  \nATOM    460  CG2 VAL A  59     -33.661  17.659  13.633  1.00 24.42           C  \nATOM    461  N   TYR A  60     -29.843  14.977  13.321  1.00 20.87           N  \nATOM    462  CA  TYR A  60     -28.923  13.974  12.810  1.00 15.93           C  \nATOM    463  C   TYR A  60     -29.487  12.587  13.073  1.00 21.80           C  \nATOM    464  O   TYR A  60     -30.055  12.332  14.139  1.00 34.83           O  \nATOM    465  CB  TYR A  60     -27.548  14.097  13.470  1.00 22.29           C  \nATOM    466  CG  TYR A  60     -26.773  15.335  13.084  1.00 20.75           C  \nATOM    467  CD1 TYR A  60     -27.207  16.598  13.461  1.00 19.06           C  \nATOM    468  CD2 TYR A  60     -25.595  15.238  12.356  1.00 19.61           C  \nATOM    469  CE1 TYR A  60     -26.497  17.730  13.113  1.00 21.78           C  \nATOM    470  CE2 TYR A  60     -24.878  16.363  12.004  1.00 22.57           C  \nATOM    471  CZ  TYR A  60     -25.332  17.607  12.386  1.00 23.37           C  \nATOM    472  OH  TYR A  60     -24.620  18.730  12.037  1.00 44.82           O  \nATOM    473  N   GLN A  61     -29.317  11.693  12.101  1.00 36.00           N  \nATOM    474  CA  GLN A  61     -29.764  10.310  12.224  1.00 38.18           C  \nATOM    475  C   GLN A  61     -28.699   9.404  11.630  1.00 35.30           C  \nATOM    476  O   GLN A  61     -28.335   9.556  10.460  1.00 30.67           O  \nATOM    477  CB  GLN A  61     -31.106  10.095  11.518  1.00 31.35           C  \nATOM    478  CG  GLN A  61     -31.554   8.641  11.466  1.00 34.25           C  \nATOM    479  CD  GLN A  61     -32.958   8.481  10.918  1.00 48.20           C  \nATOM    480  OE1 GLN A  61     -33.623   9.463  10.587  1.00 47.12           O  \nATOM    481  NE2 GLN A  61     -33.417   7.239  10.820  1.00 35.96           N  \nATOM    482  N   LEU A  62     -28.201   8.468  12.433  1.00 29.28           N  \nATOM    483  CA  LEU A  62     -27.227   7.486  11.983  1.00 28.26           C  \nATOM    484  C   LEU A  62     -27.878   6.113  11.898  1.00 35.30           C  \nATOM    485  O   LEU A  62     -28.658   5.728  12.778  1.00 54.41           O  \nATOM    486  CB  LEU A  62     -26.020   7.421  12.923  1.00 31.11           C  \nATOM    487  CG  LEU A  62     -25.030   8.587  12.881  1.00 35.47           C  \nATOM    488  CD1 LEU A  62     -23.842   8.283  13.773  1.00 35.48           C  \nATOM    489  CD2 LEU A  62     -24.568   8.871  11.462  1.00 53.74           C  \nATOM    490  N   ARG A  63     -27.553   5.388  10.830  1.00 34.53           N  \nATOM    491  CA  ARG A  63     -28.006   4.018  10.625  1.00 32.18           C  \nATOM    492  C   ARG A  63     -26.801   3.089  10.699  1.00 37.92           C  \nATOM    493  O   ARG A  63     -25.828   3.266   9.957  1.00 40.28           O  \nATOM    494  CB  ARG A  63     -28.712   3.869   9.275  1.00 38.26           C  \nATOM    495  CG  ARG A  63     -29.179   2.452   8.958  1.00 61.06           C  \nATOM    496  CD  ARG A  63     -30.417   2.070   9.752  1.00 58.78           C  \nATOM    497  NE  ARG A  63     -31.646   2.414   9.041  1.00 73.90           N  \nATOM    498  CZ  ARG A  63     -32.176   1.686   8.060  1.00 75.16           C  \nATOM    499  NH1 ARG A  63     -31.590   0.565   7.659  1.00 67.62           N  \nATOM    500  NH2 ARG A  63     -33.298   2.083   7.475  1.00 66.76           N  \nATOM    501  N   ALA A  64     -26.875   2.096  11.578  1.00 39.03           N  \nATOM    502  CA  ALA A  64     -25.768   1.184  11.818  1.00 41.62           C  \nATOM    503  C   ALA A  64     -25.941  -0.090  11.002  1.00 31.95           C  \nATOM    504  O   ALA A  64     -27.035  -0.658  10.939  1.00 32.08           O  \nATOM    505  CB  ALA A  64     -25.662   0.841  13.304  1.00 39.73           C  \nATOM    506  N   ARG A  65     -24.851  -0.531  10.376  1.00 31.04           N  \nATOM    507  CA  ARG A  65     -24.833  -1.761   9.599  1.00 31.83           C  \nATOM    508  C   ARG A  65     -23.609  -2.581   9.981  1.00 31.27           C  \nATOM    509  O   ARG A  65     -22.592  -2.040  10.422  1.00 25.89           O  \nATOM    510  CB  ARG A  65     -24.825  -1.476   8.089  1.00 39.41           C  \nATOM    511  CG  ARG A  65     -23.741  -0.506   7.640  1.00 43.27           C  \nATOM    512  CD  ARG A  65     -23.806  -0.261   6.139  1.00 33.57           C  \nATOM    513  NE  ARG A  65     -22.884   0.788   5.709  1.00 35.96           N  \nATOM    514  CZ  ARG A  65     -21.601   0.595   5.410  1.00 45.38           C  \nATOM    515  NH1 ARG A  65     -21.060  -0.615   5.491  1.00 33.30           N  \nATOM    516  NH2 ARG A  65     -20.854   1.621   5.029  1.00 35.71           N  \nATOM    517  N   SER A  66     -23.720  -3.894   9.811  1.00 31.50           N  \nATOM    518  CA  SER A  66     -22.636  -4.806  10.158  1.00 43.18           C  \nATOM    519  C   SER A  66     -21.925  -5.309   8.907  1.00 43.29           C  \nATOM    520  O   SER A  66     -21.017  -6.136   8.988  1.00 57.40           O  \nATOM    521  CB  SER A  66     -23.170  -5.987  10.969  1.00 52.52           C  \nATOM    522  OG  SER A  66     -24.139  -6.712  10.233  1.00 32.86           O  \nHETATM  523  O   HOH A 101     -15.156   1.771  18.304  1.00 28.67           O  \nHETATM  524  O   HOH A 102     -34.358  25.671  13.835  1.00 28.71           O  \nHETATM  525  O   HOH A 103     -21.221  22.900   8.980  1.00 22.51           O  \nTER     526      HOH A 103                                                       \nEND   \n",
           "type": "blob"
          }
         ],
         "kwargs": {
          "defaultRepresentation": true,
          "ext": "pdb"
         },
         "methodName": "loadFile",
         "reconstruc_color_scheme": false,
         "target": "Stage",
         "type": "call_method"
        }
       ],
       "_ngl_original_stage_parameters": {
        "ambientColor": 14540253,
        "ambientIntensity": 0.2,
        "backgroundColor": "white",
        "cameraEyeSep": 0.3,
        "cameraFov": 40,
        "cameraType": "perspective",
        "clipDist": 10,
        "clipFar": 100,
        "clipNear": 0,
        "fogFar": 100,
        "fogNear": 50,
        "hoverTimeout": 0,
        "impostor": true,
        "lightColor": 14540253,
        "lightIntensity": 1,
        "mousePreset": "default",
        "panSpeed": 1,
        "quality": "medium",
        "rotateSpeed": 2,
        "sampleLevel": 0,
        "tooltip": true,
        "workerDefault": true,
        "zoomSpeed": 1.2
       },
       "_ngl_repr_dict": {
        "0": {
         "0": {
          "params": {
           "aspectRatio": 5,
           "assembly": "default",
           "capped": true,
           "clipCenter": {
            "x": 0,
            "y": 0,
            "z": 0
           },
           "clipNear": 0,
           "clipRadius": 0,
           "colorMode": "hcl",
           "colorReverse": true,
           "colorScale": "spectral",
           "colorScheme": "residueindex",
           "colorValue": 9474192,
           "defaultAssembly": "",
           "depthWrite": true,
           "diffuse": 16777215,
           "diffuseInterior": false,
           "disablePicking": false,
           "flatShaded": false,
           "interiorColor": 2236962,
           "interiorDarkening": 0,
           "lazy": false,
           "matrix": {
            "elements": [
             1,
             0,
             0,
             0,
             0,
             1,
             0,
             0,
             0,
             0,
             1,
             0,
             0,
             0,
             0,
             1
            ]
           },
           "metalness": 0,
           "opacity": 1,
           "quality": "high",
           "radialSegments": 20,
           "radiusData": {},
           "radiusScale": 0.7,
           "radiusSize": 1,
           "radiusType": "sstruc",
           "roughness": 0.4,
           "sele": "",
           "side": "double",
           "smoothSheet": false,
           "subdiv": 6,
           "tension": null,
           "useInteriorColor": true,
           "visible": true,
           "wireframe": false
          },
          "type": "cartoon"
         },
         "1": {
          "params": {
           "aspectRatio": 1,
           "assembly": "default",
           "bondScale": 0.4,
           "clipCenter": {
            "x": 0,
            "y": 0,
            "z": 0
           },
           "clipNear": 0,
           "clipRadius": 0,
           "colorMode": "hcl",
           "colorReverse": true,
           "colorScale": "spectral",
           "colorScheme": "residueindex",
           "colorValue": 9474192,
           "cylinderOnly": false,
           "defaultAssembly": "",
           "depthWrite": true,
           "diffuse": 16777215,
           "diffuseInterior": false,
           "disableImpostor": false,
           "disablePicking": false,
           "flatShaded": false,
           "interiorColor": 2236962,
           "interiorDarkening": 0,
           "lazy": false,
           "lineOnly": false,
           "linewidth": 2,
           "matrix": {
            "elements": [
             1,
             0,
             0,
             0,
             0,
             1,
             0,
             0,
             0,
             0,
             1,
             0,
             0,
             0,
             0,
             1
            ]
           },
           "metalness": 0,
           "opacity": 1,
           "openEnded": true,
           "quality": "high",
           "radialSegments": 20,
           "radiusData": {},
           "radiusScale": 1,
           "radiusSize": 0.3,
           "radiusType": "size",
           "roughness": 0.4,
           "sele": "",
           "side": "double",
           "sphereDetail": 2,
           "useInteriorColor": true,
           "visible": true,
           "wireframe": false
          },
          "type": "base"
         },
         "2": {
          "params": {
           "aspectRatio": 1.5,
           "assembly": "default",
           "bondScale": 0.3,
           "bondSpacing": 0.75,
           "clipCenter": {
            "x": 0,
            "y": 0,
            "z": 0
           },
           "clipNear": 0,
           "clipRadius": 0,
           "colorMode": "hcl",
           "colorReverse": false,
           "colorScale": "",
           "colorScheme": "element",
           "colorValue": 9474192,
           "cylinderOnly": false,
           "defaultAssembly": "",
           "depthWrite": true,
           "diffuse": 16777215,
           "diffuseInterior": false,
           "disableImpostor": false,
           "disablePicking": false,
           "flatShaded": false,
           "interiorColor": 2236962,
           "interiorDarkening": 0,
           "lazy": false,
           "lineOnly": false,
           "linewidth": 2,
           "matrix": {
            "elements": [
             1,
             0,
             0,
             0,
             0,
             1,
             0,
             0,
             0,
             0,
             1,
             0,
             0,
             0,
             0,
             1
            ]
           },
           "metalness": 0,
           "multipleBond": "off",
           "opacity": 1,
           "openEnded": true,
           "quality": "high",
           "radialSegments": 20,
           "radiusData": {},
           "radiusScale": 2,
           "radiusSize": 0.15,
           "radiusType": "size",
           "roughness": 0.4,
           "sele": "ligand",
           "side": "double",
           "sphereDetail": 2,
           "useInteriorColor": true,
           "visible": true,
           "wireframe": false
          },
          "type": "ball+stick"
         }
        }
       },
       "_ngl_serialize": false,
       "_ngl_version": "2.0.0-dev.36",
       "_ngl_view_id": [
        "25BC44CD-284A-4204-9205-74B226732E42"
       ],
       "_player_dict": {},
       "_scene_position": {},
       "_scene_rotation": {},
       "_synced_model_ids": [],
       "_synced_repr_model_ids": [],
       "_view_height": "",
       "_view_width": "",
       "background": "white",
       "frame": 0,
       "gui_style": null,
       "layout": "IPY_MODEL_05535ef479884bc1bb4ce8fdc6d9146c",
       "max_frame": 0,
       "n_components": 1,
       "picked": {}
      }
     },
     "a2ff9fd6cbc04ba29833b733c4c02d65": {
      "model_module": "@jupyter-widgets/base",
      "model_module_version": "1.2.0",
      "model_name": "LayoutModel",
      "state": {}
     },
     "a38475218eb54accb8517141165dfdde": {
      "model_module": "@jupyter-widgets/base",
      "model_module_version": "1.2.0",
      "model_name": "LayoutModel",
      "state": {}
     },
     "a657bd2ba9c74356bb643229965a16d6": {
      "model_module": "@jupyter-widgets/base",
      "model_module_version": "1.2.0",
      "model_name": "LayoutModel",
      "state": {}
     },
     "a6d1ff10c64341feafc01c52edb30587": {
      "model_module": "@jupyter-widgets/controls",
      "model_module_version": "1.5.0",
      "model_name": "ButtonModel",
      "state": {
       "icon": "compress",
       "layout": "IPY_MODEL_9dc1e754a21b429696b0917724a11b2b",
       "style": "IPY_MODEL_c377e22479c04fd9934dc3d5646608f2"
      }
     },
     "aa6550d097ba4ccb8344b18ae4e96c20": {
      "model_module": "@jupyter-widgets/base",
      "model_module_version": "1.2.0",
      "model_name": "LayoutModel",
      "state": {}
     },
     "ac98c5a34be641bfa03a88316c6feb03": {
      "model_module": "@jupyter-widgets/controls",
      "model_module_version": "1.5.0",
      "model_name": "DescriptionStyleModel",
      "state": {
       "description_width": ""
      }
     },
     "ae2e595af7694e3ca731174232301de1": {
      "model_module": "@jupyter-widgets/controls",
      "model_module_version": "1.5.0",
      "model_name": "LinkModel",
      "state": {
       "source": [
        "IPY_MODEL_b105ff5f185e4762b2cd0c6a224c421c",
        "max"
       ],
       "target": [
        "IPY_MODEL_7225a2885d6c4d3a94df85c990bb001c",
        "max_frame"
       ]
      }
     },
     "aeb556ff703d4702971bb8fc3b7266fe": {
      "model_module": "@jupyter-widgets/base",
      "model_module_version": "1.2.0",
      "model_name": "LayoutModel",
      "state": {}
     },
     "b0eb721f968f487789fe6327e8033ed1": {
      "model_module": "@jupyter-widgets/controls",
      "model_module_version": "1.5.0",
      "model_name": "PlayModel",
      "state": {
       "layout": "IPY_MODEL_a657bd2ba9c74356bb643229965a16d6",
       "max": 0,
       "style": "IPY_MODEL_ffa156aed0c84abbba616d7a9c59527e"
      }
     },
     "b105ff5f185e4762b2cd0c6a224c421c": {
      "model_module": "@jupyter-widgets/controls",
      "model_module_version": "1.5.0",
      "model_name": "IntSliderModel",
      "state": {
       "layout": "IPY_MODEL_6fc105fa3a794aaca026375a08b51d17",
       "max": 0,
       "style": "IPY_MODEL_e19bca4dac00440ebe7f6d1ffd4f2a71"
      }
     },
     "b1c7051f038249128ee83b0b6e9661f3": {
      "model_module": "@jupyter-widgets/controls",
      "model_module_version": "1.5.0",
      "model_name": "DescriptionStyleModel",
      "state": {
       "description_width": ""
      }
     },
     "b32f678043f34b96baac8a1eea2abcb6": {
      "model_module": "@jupyter-widgets/base",
      "model_module_version": "1.2.0",
      "model_name": "LayoutModel",
      "state": {}
     },
     "b71f9d16bd3848e0ab01314b15e43d3b": {
      "model_module": "@jupyter-widgets/controls",
      "model_module_version": "1.5.0",
      "model_name": "SliderStyleModel",
      "state": {
       "description_width": ""
      }
     },
     "b7a3522a660d45f7aae4565b22f5d9f1": {
      "model_module": "@jupyter-widgets/controls",
      "model_module_version": "1.5.0",
      "model_name": "LinkModel",
      "state": {
       "source": [
        "IPY_MODEL_e7a63a28b6df4884bc0702ba0909546c",
        "max"
       ],
       "target": [
        "IPY_MODEL_9f13d97275a54be3a47c1d5a25570a86",
        "max_frame"
       ]
      }
     },
     "baa15ef7aa15480e8680c24826ceb74e": {
      "model_module": "@jupyter-widgets/base",
      "model_module_version": "1.2.0",
      "model_name": "LayoutModel",
      "state": {}
     },
     "bbe5b0f885814e9a9059bfebe7ae885b": {
      "model_module": "@jupyter-widgets/controls",
      "model_module_version": "1.5.0",
      "model_name": "ButtonStyleModel",
      "state": {}
     },
     "bf0d275ca53c4ac58d6c5750a4a831e6": {
      "model_module": "@jupyter-widgets/controls",
      "model_module_version": "1.5.0",
      "model_name": "LinkModel",
      "state": {
       "source": [
        "IPY_MODEL_3e65709c2cb7403ab0a4072df082da2e",
        "value"
       ],
       "target": [
        "IPY_MODEL_48286a4ed7774a3c8193b55f11a8b6a0",
        "value"
       ]
      }
     },
     "bf7c7b93fe3f4b708572f1b73a54b36f": {
      "model_module": "@jupyter-widgets/base",
      "model_module_version": "1.2.0",
      "model_name": "LayoutModel",
      "state": {
       "width": "34px"
      }
     },
     "c377e22479c04fd9934dc3d5646608f2": {
      "model_module": "@jupyter-widgets/controls",
      "model_module_version": "1.5.0",
      "model_name": "ButtonStyleModel",
      "state": {}
     },
     "c44cdd1a78c549c0916fc00ef989b339": {
      "model_module": "@jupyter-widgets/controls",
      "model_module_version": "1.5.0",
      "model_name": "PlayModel",
      "state": {
       "layout": "IPY_MODEL_b32f678043f34b96baac8a1eea2abcb6",
       "max": 0,
       "style": "IPY_MODEL_03757c1e3f684e168ed11c2efdb71998"
      }
     },
     "ccbd78a7947d4a80aa067741bbdbd282": {
      "model_module": "@jupyter-widgets/controls",
      "model_module_version": "1.5.0",
      "model_name": "SliderStyleModel",
      "state": {
       "description_width": ""
      }
     },
     "d0d1bc8da7c049bb89d333a33091f32e": {
      "model_module": "@jupyter-widgets/base",
      "model_module_version": "1.2.0",
      "model_name": "LayoutModel",
      "state": {}
     },
     "d56c5f25fe324046b1e5b50bd6aaeca6": {
      "model_module": "@jupyter-widgets/controls",
      "model_module_version": "1.5.0",
      "model_name": "LinkModel",
      "state": {
       "source": [
        "IPY_MODEL_3e65709c2cb7403ab0a4072df082da2e",
        "max"
       ],
       "target": [
        "IPY_MODEL_82e581c552f14cceb43702471e18cce0",
        "max_frame"
       ]
      }
     },
     "dd077bc6efd7467f9d7e6273484bb839": {
      "model_module": "@jupyter-widgets/base",
      "model_module_version": "1.2.0",
      "model_name": "LayoutModel",
      "state": {}
     },
     "dd332ce5dbdb40bfbd3dd6efb7d180a8": {
      "model_module": "@jupyter-widgets/base",
      "model_module_version": "1.2.0",
      "model_name": "LayoutModel",
      "state": {}
     },
     "e19bca4dac00440ebe7f6d1ffd4f2a71": {
      "model_module": "@jupyter-widgets/controls",
      "model_module_version": "1.5.0",
      "model_name": "SliderStyleModel",
      "state": {
       "description_width": ""
      }
     },
     "e69e204c586f49ec881e5b6d6e88702c": {
      "model_module": "@jupyter-widgets/controls",
      "model_module_version": "1.5.0",
      "model_name": "ImageModel",
      "state": {
       "layout": "IPY_MODEL_f05d64070887425c8637ae8a9579de7b",
       "width": "900.0"
      }
     },
     "e7a63a28b6df4884bc0702ba0909546c": {
      "model_module": "@jupyter-widgets/controls",
      "model_module_version": "1.5.0",
      "model_name": "IntSliderModel",
      "state": {
       "layout": "IPY_MODEL_baa15ef7aa15480e8680c24826ceb74e",
       "max": 0,
       "style": "IPY_MODEL_3b178d95cb0244dcb88040badafcd82b"
      }
     },
     "e7ec45fbea90465e9abecf9dd232b769": {
      "model_module": "@jupyter-widgets/controls",
      "model_module_version": "1.5.0",
      "model_name": "HBoxModel",
      "state": {
       "children": [
        "IPY_MODEL_a2e2ea980661403ea7193041a0198b85",
        "IPY_MODEL_0ea6a1732bc74bc09b1f380004ef25c0"
       ],
       "layout": "IPY_MODEL_0f356177abb74788bb69e768be1f6ef4"
      }
     },
     "ebb0c10da04242608bf29fcccb91c789": {
      "model_module": "@jupyter-widgets/controls",
      "model_module_version": "1.5.0",
      "model_name": "LinkModel",
      "state": {
       "source": [
        "IPY_MODEL_48286a4ed7774a3c8193b55f11a8b6a0",
        "max"
       ],
       "target": [
        "IPY_MODEL_82e581c552f14cceb43702471e18cce0",
        "max_frame"
       ]
      }
     },
     "ece5f48901d54c9391683452d9f88e60": {
      "model_module": "@jupyter-widgets/controls",
      "model_module_version": "1.5.0",
      "model_name": "ImageModel",
      "state": {
       "layout": "IPY_MODEL_82e622e4dedc4fa3bc925768edabef44",
       "width": "900.0"
      }
     },
     "eeb4ec6fd87341129b49ad212860505d": {
      "model_module": "@jupyter-widgets/controls",
      "model_module_version": "1.5.0",
      "model_name": "LinkModel",
      "state": {
       "source": [
        "IPY_MODEL_3e65709c2cb7403ab0a4072df082da2e",
        "value"
       ],
       "target": [
        "IPY_MODEL_82e581c552f14cceb43702471e18cce0",
        "frame"
       ]
      }
     },
     "f05d64070887425c8637ae8a9579de7b": {
      "model_module": "@jupyter-widgets/base",
      "model_module_version": "1.2.0",
      "model_name": "LayoutModel",
      "state": {}
     },
     "f34fef7f57494f70b54ebf4068040b12": {
      "model_module": "@jupyter-widgets/base",
      "model_module_version": "1.2.0",
      "model_name": "LayoutModel",
      "state": {
       "width": "34px"
      }
     },
     "fc7570abecaa4910bb6377cd2825acfc": {
      "model_module": "@jupyter-widgets/controls",
      "model_module_version": "1.5.0",
      "model_name": "LinkModel",
      "state": {
       "source": [
        "IPY_MODEL_613c15f5739c4f3e8ad5085021a17559",
        "max"
       ],
       "target": [
        "IPY_MODEL_a2e7265769264e5c8eb454abc22bf5f1",
        "max_frame"
       ]
      }
     },
     "ffa156aed0c84abbba616d7a9c59527e": {
      "model_module": "@jupyter-widgets/controls",
      "model_module_version": "1.5.0",
      "model_name": "DescriptionStyleModel",
      "state": {
       "description_width": ""
      }
     }
    },
    "version_major": 2,
    "version_minor": 0
   }
  }
 },
 "nbformat": 4,
 "nbformat_minor": 1
}