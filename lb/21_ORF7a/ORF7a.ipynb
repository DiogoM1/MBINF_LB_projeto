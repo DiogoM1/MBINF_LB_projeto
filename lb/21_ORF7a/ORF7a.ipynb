{
 "cells": [
  {
   "cell_type": "markdown",
   "metadata": {
    "collapsed": true,
    "pycharm": {
     "name": "#%% md\n"
    }
   },
   "source": [
    "# ORF7a\n",
    "\n",
    "## Resumo\n",
    "\n",
    "- Proteína Viral;\n",
    "- A proteína ORF7a localiza-se principalmente no RE de células infetadas;\n",
    "- Tem com função facilitar o processo de libertação dos viriões ao antagonizar a proteína BST-2;\n",
    "- Bloqueia a ação da proteína BST-2, ao impedir que ocorra a glicosilação em dois sítios-chave.\n",
    "\n",
    "\n",
    "## Relação entre ORF7a com BST2 e ITGAL\n",
    "A ORF7a é uma proteína acessória codificada pelo genoma da SARS-CoV, sendo composta por uma proteína transmembranar tipo I que se localiza principalmente no complexo de Golgi e no ER (Nelson et al., 2005; Schaecher et al., 2007; Taylor et al. 2015), mas também pode ser relocada na superfície celular, quando o BST-2 é expresso, colocalizando-o (Taylor et al. 2015).\n",
    "\n",
    "Esta proteína previne o “tethering” do vírus na membrana plasmática pelo BST-2. BST-2 tem a sua atividade de restrição reduzida quando ORF7a evita a sua glicosilação em dois sítios-chave na proteína que são essenciais para a sua função antiviral (Taylor et al. 2015).\n",
    "\n",
    "Também possui uma estrutura homóloga a ICAM-1, que se liga ao receptor de integrinas de linfócitos T LFA-1 (Nizamudeen et al 2021).\n",
    "\n",
    "Analisando estruturalmente e comparando-se as estruturas proteicas da SARS-CoV-1 ORF7a e a SARS-CoV-2 ORF7a, SARS-CoV-2 ORF7a tem um “signal peptide” N-terminal de 15 aminoácidos (a.a.), um domínio luminal de 80-a.a., um domínio transmembranar de 21-a.a. e um domínio cauda citoplasmática de 5-a.a. (Nelson et al. 2005). Os resíduos Lys117, Asn118, Lys119 e Lys120 estão implicados no transporte de proteínas do retículo endoplasmático (RE) para o Complexo de Golgi e são necessários para sair do RE (Schaecher et al., 2007).\n",
    "\n",
    "A estrutura do ORF7a é composta por sete folhas β antiparalelas que, juntas, formam um \"β-sandwich\". A ORF7a é muito conservada entre o SARS-CoV-1 e o SARS-CoV-2 com 85% de identidade de sequência. Verifica-se um total de 18 variações, com 11 substituições não conservativas e uma deleção. As substituições no domínio luminal estão localizadas na superfície da proteína. Portanto, a dobra do ORF7a é conservada, mas essas substituições podem afetar a interação do ORF7a com outras proteínas virais ou do hospedeiro. A maioria das mutações conservadoras são verificadas no terminal C de ORF7a (83 - 121), exceto pela Ile111Thr.\n",
    "\n",
    "Quando a proteína ORF7a é sobreexpressa pode induzir apoptose, sendo a expressão de 7a durante a infeção um dos mecanismos subjacentes para a patogénese da SARS-CoV (Tan et al., 2004).\n",
    "\n",
    "\n",
    "### Bibliografia por ordem de aparência\n",
    "- Nelson CA, Pekosz A, Lee CA, Diamond MS, Fremont DH. Structure and intracellular targeting of the SARS-coronavirus Orf7a accessory protein. Structure. 2005 Jan; 13(1):75-85.\n",
    "- Schaecher SR, Touchette E, Schriewer J, Buller RM, Pekosz A. Severe acute respiratory syndrome coronavirus gene 7 products contribute to virus-induced apoptosis. J Virol. 2007 Oct; 81(20):11054-68.\n",
    "- Taylor KJ, Coleman CM, Postel S, Sisk MJ, Bernbaum JG, Venkataraman T, Sundberg JE, Frieman MB. Severe Acute Respiratory Syndrome Coronavirus ORF7a Inhibits Bone Marrow Stromal Antigen 2 Virion Tethering through a Novel Mechanism of Glycosylation Interference. 2015 Sep 16. doi: 10.1128/JVI.02274-15.\n",
    "- Nizamudeen ZA, Xu ER, Karthik V, Halawa M, Arkill KP, Jackson AM, Bates DO, Emsley J. Structural assessment of SARS-CoV2 accessory protein ORF7a predicts LFA-1 and Mac-1 binding potential. Bioscience Reports. 2021 Jan;41(1). DOI: 10.1042/bsr20203837.\n",
    "- Tan Y-J, Fielding BC, Goh P-Y, Shen S, Tan THP, Lim SG, Hong W. Overexpression of 7a, a Protein Specifically Encoded by the Severe Acute Respiratory Syndrome Coronavirus, Induces Apoptosis via a Caspase-Dependent Pathway. Journal of Virology. 2004 Nov, 78 (24) 14043-14047; DOI: 10.1128/JVI.78.24.14043-14047.2004"
   ]
  }
 ],
 "metadata": {
  "kernelspec": {
   "display_name": "Python 3",
   "language": "python",
   "name": "python3"
  },
  "language_info": {
   "codemirror_mode": {
    "name": "ipython",
    "version": 2
   },
   "file_extension": ".py",
   "mimetype": "text/x-python",
   "name": "python",
   "nbconvert_exporter": "python",
   "pygments_lexer": "ipython2",
   "version": "2.7.6"
  }
 },
 "nbformat": 4,
 "nbformat_minor": 0
}