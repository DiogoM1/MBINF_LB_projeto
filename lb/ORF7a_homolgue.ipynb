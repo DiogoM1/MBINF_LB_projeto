{
 "cells": [
  {
   "cell_type": "markdown",
   "source": [
    "# Identificação de Homólogos"
   ],
   "metadata": {
    "collapsed": false
   }
  },
  {
   "cell_type": "code",
   "execution_count": 1,
   "outputs": [],
   "source": [
    "import os\n",
    "from Bio import SeqIO\n",
    "from Bio.Blast import NCBIWWW, NCBIXML\n",
    "from scripts_python import BLASTer\n",
    "\n",
    "a = %pwd\n",
    "wd = (a.rsplit('/',1))[0]\n",
    "seq_id = \"MN908947.3\"\n"
   ],
   "metadata": {
    "collapsed": false,
    "pycharm": {
     "name": "#%%\n"
    }
   }
  },
  {
   "cell_type": "code",
   "execution_count": 4,
   "outputs": [
    {
     "data": {
      "text/plain": "'record = SeqIO.read(os.path.join( wd,\"data/homologue\", f\"{seq_id}_ORF7a.fasta\"), \"fasta\")\\n\\nresult_handle = NCBIWWW.qblast(\"blastn\", \"nr\", record.format(\"fasta\"), short_query=True, expect=0.10, word_size=7, entrez_query=\\'all[filter] NOT \"Severe acute respiratory syndrome coronavirus 2\"[Organism]\\', )\\n\\nsave_file = open(os.path.join( wd,\"data/reference\", f\"{seq_id}_ORF7a_blast.xml\", \"w\"))\\nsave_file.write(result_handle.read())\\nsave_file.close()\\nresult_handle.close()'"
     },
     "execution_count": 4,
     "metadata": {},
     "output_type": "execute_result"
    }
   ],
   "source": [
    "\n",
    "\"\"\"record = SeqIO.read(os.path.join( wd,\"data/homologue\", f\"{seq_id}_ORF7a.fasta\"), \"fasta\")\n",
    "\n",
    "result_handle = NCBIWWW.qblast(\"blastn\", \"nr\", record.format(\"fasta\"), short_query=True, expect=0.10, word_size=7, entrez_query='all[filter] NOT \"Severe acute respiratory syndrome coronavirus 2\"[Organism]', )\n",
    "\n",
    "save_file = open(os.path.join( wd,\"data/reference\", f\"{seq_id}_ORF7a_blast.xml\", \"w\"))\n",
    "save_file.write(result_handle.read())\n",
    "save_file.close()\n",
    "result_handle.close()\"\"\""
   ],
   "metadata": {
    "collapsed": false,
    "pycharm": {
     "name": "#%%\n"
    }
   }
  },
  {
   "cell_type": "markdown",
   "source": [
    "## Carregar ficheiro XML da pesquisa"
   ],
   "metadata": {
    "collapsed": false,
    "pycharm": {
     "name": "#%% md\n"
    }
   }
  },
  {
   "cell_type": "code",
   "execution_count": 12,
   "outputs": [
    {
     "name": "stdout",
     "output_type": "stream",
     "text": [
      "Foram carregadas 100 seq: 100\n",
      "Foram carregadas 100 seq: 100\n"
     ]
    }
   ],
   "source": [
    "result_handle= open(os.path.join( wd,\"data/homologue/ORF7a\", \"0069KN2K01R-Alignment.xml\"))\n",
    "blast_record_n = NCBIXML.read(result_handle)\n",
    "result_handle.close()\n",
    "\n",
    "print('Foram carregadas 100 seq:', len(blast_record_n.alignments))\n",
    "\n",
    "result_handle= open(os.path.join( wd,\"data/homologue/ORF7a\", \"008SHWMV01R-Alignment.xml\"))\n",
    "blast_record_p = NCBIXML.read(result_handle)\n",
    "result_handle.close()\n",
    "\n",
    "print('Foram carregadas 100 seq:', len(blast_record_n.alignments))"
   ],
   "metadata": {
    "collapsed": false,
    "pycharm": {
     "name": "#%%\n"
    }
   }
  },
  {
   "cell_type": "markdown",
   "source": [
    "## Identificar Homologos"
   ],
   "metadata": {
    "collapsed": false,
    "pycharm": {
     "name": "#%% md\n"
    }
   }
  },
  {
   "cell_type": "code",
   "execution_count": 20,
   "outputs": [
    {
     "name": "stdout",
     "output_type": "stream",
     "text": [
      "Accession Identity%\n",
      "QJS57332 1.0\n",
      "QHR63305 0.9752066115702479\n",
      "QIG55950 0.9752066115702479\n",
      "QIA48619 0.8842975206611571\n",
      "QIQ54053 0.8842975206611571\n",
      "AVP78047 0.8842975206611571\n",
      "AVP78036 0.8760330578512396\n",
      "Q3I5J0 0.8852459016393442\n",
      "AIA62335 0.8852459016393442\n",
      "Q3LZX7 0.8852459016393442\n",
      "ARO76387 0.8770491803278688\n",
      "ATO98225 0.8770491803278688\n",
      "ACU31037 0.8770491803278688\n",
      "AGZ48838 0.8770491803278688\n",
      "AAZ41334 0.8770491803278688\n",
      "AKZ19081 0.8688524590163934\n",
      "ATO98237 0.8688524590163934\n",
      "AIA62325 0.860655737704918\n",
      "ATO98187 0.8688524590163934\n",
      "AIA62315 0.8688524590163934\n",
      "ADE34760 0.860655737704918\n",
      "ABD75319 0.860655737704918\n",
      "Q0Q470 0.860655737704918\n",
      "ACZ72114 0.8524590163934426\n",
      "YP_009825057 0.8524590163934426\n",
      "AAT52336 0.8524590163934426\n",
      "AIA62295 0.860655737704918\n",
      "ANA96033 0.8524590163934426\n",
      "AHX37563 0.8442622950819673\n",
      "ABI96964 0.8442622950819673\n",
      "ACZ72157 0.8442622950819673\n",
      "AFR58734 0.8442622950819673\n",
      "AFR58706 0.8442622950819673\n",
      "AFR58678 0.8360655737704918\n",
      "ASO66814 0.8360655737704918\n",
      "ADE34817 0.8852459016393442\n",
      "AIA62283 0.8442622950819673\n",
      "AAP82970 0.8461538461538461\n",
      "1XAK_A 0.8780487804878049\n",
      "1YO4_A 0.9047619047619048\n",
      "Total: 40\n"
     ]
    }
   ],
   "source": [
    "query_len = blast_record_p.query_length\n",
    "\n",
    "homologue = {}\n",
    "\n",
    "print(\"Accession\", \"Identity%\")\n",
    "for aln in blast_record_p.alignments:\n",
    "    for HSP in aln.hsps:\n",
    "        if HSP.score > 80 and HSP.expect < 1.0e-10 and HSP.identities/HSP.align_length > 0.80:\n",
    "            print(aln.accession,HSP.identities/HSP.align_length)\n",
    "            homologue[aln.accession] = aln\n",
    "\n",
    "print(\"Total:\",len(homologue))"
   ],
   "metadata": {
    "collapsed": false,
    "pycharm": {
     "name": "#%%\n"
    }
   }
  }
 ],
 "metadata": {
  "kernelspec": {
   "display_name": "Python 3",
   "language": "python",
   "name": "python3"
  },
  "language_info": {
   "codemirror_mode": {
    "name": "ipython",
    "version": 2
   },
   "file_extension": ".py",
   "mimetype": "text/x-python",
   "name": "python",
   "nbconvert_exporter": "python",
   "pygments_lexer": "ipython2",
   "version": "2.7.6"
  }
 },
 "nbformat": 4,
 "nbformat_minor": 0
}