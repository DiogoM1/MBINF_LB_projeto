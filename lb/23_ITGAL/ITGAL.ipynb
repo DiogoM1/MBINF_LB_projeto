{
 "cells": [
  {
   "cell_type": "markdown",
   "metadata": {
    "collapsed": true,
    "pycharm": {
     "name": "#%% md\n"
    }
   },
   "source": [
    "# ITGAL\n",
    "\n",
    "## Resumo\n",
    "\n",
    "- Proteina Humana;\n",
    "- ITGAL em conjunto com ITGB2 forma o antigénio-1 associado à função de linfócitos de integrina (LFA-1), que é expresso em todos os leucócitos. A LFA-1 desempenha um papel central na adesão intercelular de leucócitos por meio de interações com os seus ligandos;\n",
    "- LFA-1 é um ligante de ORF7a, sugerindo que pode ser um recetor de SARS-CoV em células T;\n",
    "- O facto de atuar como um fator de ligação pode contribuir para o aumento da ligação do SARS-CoV às células T."
   ]
  }
 ],
 "metadata": {
  "kernelspec": {
   "display_name": "Python 3",
   "language": "python",
   "name": "python3"
  },
  "language_info": {
   "codemirror_mode": {
    "name": "ipython",
    "version": 2
   },
   "file_extension": ".py",
   "mimetype": "text/x-python",
   "name": "python",
   "nbconvert_exporter": "python",
   "pygments_lexer": "ipython2",
   "version": "2.7.6"
  }
 },
 "nbformat": 4,
 "nbformat_minor": 0
}