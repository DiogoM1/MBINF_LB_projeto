{
 "cells": [
  {
   "cell_type": "markdown",
   "source": [
    "# Identificação de *Motifs*"
   ],
   "metadata": {
    "collapsed": false,
    "pycharm": {
     "name": "#%% md\n"
    }
   }
  },
  {
   "cell_type": "code",
   "execution_count": null,
   "outputs": [],
   "source": [
    "import docker, os\n",
    "\n",
    "a = %pwd\n",
    "wd = (a.rsplit('/',2))[0]\n",
    "\n",
    "GENE = \"ITGAL\"\n",
    "BLAST_Results_ncbi=os.path.join(\"homologue\", GENE, \"NM_001114380_ITGAL.fasta\")\n",
    "BLAST_Results_uniprot=os.path.join(\"homologue\", GENE, \"B20210131A94466D2655679D1FD8953E075198DA8030E49B.fasta\")\n",
    "REF=os.path.join(\"reference\", GENE, \"ITGAL_prot.fasta\")\n",
    "D_MEME='quay.io/biocontainers/meme:5.3.0--py37pl526h072abfd_0'\n",
    "\n",
    "WORK_HOST_DIRECTORY=wd\n",
    "WORK_CONT_DIRECTORY='/opt/project'"
   ],
   "metadata": {
    "collapsed": false,
    "pycharm": {
     "name": "#%%\n"
    }
   }
  },
  {
   "cell_type": "code",
   "execution_count": 2,
   "metadata": {
    "pycharm": {
     "name": "#%%\n"
    }
   },
   "outputs": [],
   "source": [
    "client = docker.from_env()\n",
    "bwa_docker_cont = client.containers.run(\n",
    "    image=D_MEME,\n",
    "    volumes={WORK_HOST_DIRECTORY: {'bind': WORK_CONT_DIRECTORY,'mode': 'rw'}},\n",
    "    working_dir= WORK_CONT_DIRECTORY+'/data/motif/',\n",
    "    entrypoint=\"bash\",\n",
    "    command='{0}/scripts_bash/meme.sh {1} {2} {3} {4}'.format(WORK_CONT_DIRECTORY, BLAST_Results_ncbi, BLAST_Results_uniprot, REF, GENE))"
   ]
  },
  {
   "cell_type": "code",
   "execution_count": 3,
   "metadata": {
    "pycharm": {
     "name": "#%%\n"
    }
   },
   "outputs": [],
   "source": [
    "from Bio import motifs\n",
    "\n",
    "with open(os.path.join(wd, \"data/motif\", GENE, \"meme/meme.xml\")) as file:\n",
    "    meme_record = motifs.parse(file, \"MEME\")\n",
    "\n",
    "for motif in meme_record:\n",
    "    print(motif.id, \":\" ,motif.name, motif.num_occurrences)"
   ]
  },
  {
   "cell_type": "markdown",
   "metadata": {
    "pycharm": {
     "name": "#%% md\n"
    }
   },
   "source": [
    "A utilização do MEME para anotação de novo resultou em 5 potências motif, apesar disto elas não são partilhadas por todas as sequências homólogas. Algumas destas como a MWGPQGWGTRRQW (roxo) só estão presentes nas especie de rato, enquanto outras são mais raras como a KFYYFS (bege) Apesar disto dois motifs estão presentes em todas excepto um\n",
    "\n",
    ":::{figure,myclass}\n",
    "![Figura 1 - NJ ITGAL](img/weblogo_ITGAL.png)\n",
    "\n",
    "Weblogos dos motifs anotados *de novo*\n",
    ":::\n",
    "\n",
    ":::{figure,myclass}\n",
    "![Figura 1 - NJ ITGAL](img/meme_loc_ITGAL.png)\n",
    "\n",
    "Localização dos motifs anotados *de novo*\n",
    ":::"
   ]
  },
  {
   "cell_type": "code",
   "execution_count": 5,
   "metadata": {
    "pycharm": {
     "name": "#%%\n"
    }
   },
   "outputs": [
    {
     "name": "stdout",
     "output_type": "stream",
     "text": [
      "0\n",
      "0\n",
      "0\n",
      "0\n",
      "0\n"
     ]
    }
   ],
   "source": [
    "from scripts_python.vcf_gff import gff2rec\n",
    "\n",
    "motif_in_ref = gff2rec(os.path.join(wd,\"data/motif\", GENE, \"fimo/fimo.gff\"))\n",
    "for seq in motif_in_ref:\n",
    "    for feature in seq.features:\n",
    "        print(feature)"
   ]
  },
  {
   "cell_type": "markdown",
   "source": [
    ":::{figure,myclass}\n",
    "![Figura 1 - NJ ITGAL](img/mast_loc_ITGAL.png)\n",
    "\n",
    "Exemplo das localização dos motifs anotados num segundo subset de sequências homólogas.\n",
    ":::\n",
    "\n",
    "A mesma variabilidade de motfis nas sequências homólogas de referência também é observável no subset maior de sequências, seguindo comportamentos semelhantes. Podemos assim esperar distinções na análise feilogenética da sequência."
   ],
   "metadata": {
    "collapsed": false
   }
  }
 ],
 "metadata": {
  "kernelspec": {
   "display_name": "Python 3",
   "language": "python",
   "name": "python3"
  },
  "language_info": {
   "codemirror_mode": {
    "name": "ipython",
    "version": 3
   },
   "file_extension": ".py",
   "mimetype": "text/x-python",
   "name": "python",
   "nbconvert_exporter": "python",
   "pygments_lexer": "ipython3",
   "version": "3.8.5"
  }
 },
 "nbformat": 4,
 "nbformat_minor": 1
}