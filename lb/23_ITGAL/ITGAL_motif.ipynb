{
 "cells": [
  {
   "cell_type": "markdown",
   "source": [
    "# Identificação de *Motifs*"
   ],
   "metadata": {
    "collapsed": false,
    "pycharm": {
     "name": "#%% md\n"
    }
   }
  },
  {
   "cell_type": "code",
   "execution_count": 1,
   "outputs": [],
   "source": [
    "import docker, os\n",
    "\n",
    "a = %pwd\n",
    "wd = (a.rsplit('/',2))[0]\n",
    "\n",
    "GENE = \"ITGAL\"\n",
    "BLAST_Results_ncbi=os.path.join(\"homologue\", GENE, \"NM_001114380_ITGAL.fasta\")\n",
    "BLAST_Results_uniprot=os.path.join(\"homologue\", GENE, \"B20210131A94466D2655679D1FD8953E075198DA8030E49B.fasta\")\n",
    "REF=os.path.join(\"reference\", GENE, \"ITGAL_prot.fasta\")\n",
    "D_MEME='quay.io/biocontainers/meme:5.3.0--py37pl526h072abfd_0'\n",
    "\n",
    "WORK_HOST_DIRECTORY=wd\n",
    "WORK_CONT_DIRECTORY='/opt/project'"
   ],
   "metadata": {
    "collapsed": false,
    "pycharm": {
     "name": "#%%\n"
    }
   }
  },
  {
   "cell_type": "code",
   "execution_count": 2,
   "metadata": {
    "pycharm": {
     "name": "#%%\n"
    }
   },
   "outputs": [],
   "source": [
    "client = docker.from_env()\n",
    "bwa_docker_cont = client.containers.run(\n",
    "    image=D_MEME,\n",
    "    volumes={WORK_HOST_DIRECTORY: {'bind': WORK_CONT_DIRECTORY,'mode': 'rw'}},\n",
    "    working_dir= WORK_CONT_DIRECTORY+'/data/motif/',\n",
    "    entrypoint=\"bash\",\n",
    "    command='{0}/scripts_bash/meme.sh {1} {2} {3} {4}'.format(WORK_CONT_DIRECTORY, BLAST_Results_ncbi, BLAST_Results_uniprot, REF, GENE))"
   ]
  },
  {
   "cell_type": "code",
   "execution_count": 2,
   "metadata": {
    "pycharm": {
     "name": "#%%\n"
    }
   },
   "outputs": [
    {
     "name": "stdout",
     "output_type": "stream",
     "text": [
      "motif_1 : WRPKQEVRGTQIGSYFGASLCSVDVDRDGSTDLLLIGAPHYYEZTRGGQV 13\n",
      "motif_2 : GRFGAAJTVLGDVNGDKLTDVAIGAPGEEENRGAV 13\n",
      "motif_3 : PSQRITGSQLSPGLQYFGQSJSGGQDLTQDGLVDLAVGAZGHVLLLRSRP 13\n",
      "motif_4 : VKNPLPLIVGSSIGGLLLLALITAALYKLGFFKRQYKEMME 13\n",
      "motif_5 : EAVNMSLGLSLATDTNDSQLLACGPTLSRTCGENTYLTGLC 13\n"
     ]
    }
   ],
   "source": [
    "from Bio import motifs\n",
    "\n",
    "with open(os.path.join(wd, \"data/motif\", GENE, \"meme/meme.xml\")) as file:\n",
    "    meme_record = motifs.parse(file, \"MEME\")\n",
    "\n",
    "for motif in meme_record:\n",
    "    print(motif.id, \":\" ,motif.name, motif.num_occurrences)"
   ]
  },
  {
   "cell_type": "markdown",
   "metadata": {
    "pycharm": {
     "name": "#%% md\n"
    }
   },
   "source": [
    "A utilização do MEME para anotação de novo resultou em 5 potências motif, os motifs apresentam-se conservadados em todas as sequências homólogas. Estes não coincidem com nenhuma das anotações, dominios ou features dos ficheiros Uniprot, apesar disto alguns encontram-se próximos ou contém multiplaas anotações de estruturas secundárias, ou pontos de glicolisação.\n",
    "\n",
    ":::{figure,myclass}\n",
    "![Figura 1 - NJ ITGAL](img/weblogo_ITGAL.png)\n",
    "\n",
    "Weblogos dos motifs anotados *de novo*\n",
    ":::\n",
    "\n",
    ":::{figure,myclass}\n",
    "![Figura 1 - NJ ITGAL](img/meme_loc_ITGAL.png)\n",
    "\n",
    "Localização dos motifs anotados *de novo*\n",
    ":::"
   ]
  },
  {
   "cell_type": "code",
   "execution_count": 3,
   "metadata": {
    "pycharm": {
     "name": "#%%\n"
    }
   },
   "outputs": [
    {
     "name": "stdout",
     "output_type": "stream",
     "text": [
      "type: sequence_motif\n",
      "location: [361:411](+)\n",
      "id: WRPKQEVRGTQIGSYFGASLCSVDVDRDGSTDLLLIGAPHYYEZTRGGQV-MEME-1-1-NP_001107852.1\n",
      "qualifiers:\n",
      "    Key: Alias, Value: ['MEME-1']\n",
      "    Key: ID, Value: ['WRPKQEVRGTQIGSYFGASLCSVDVDRDGSTDLLLIGAPHYYEZTRGGQV-MEME-1-1-NP_001107852.1']\n",
      "    Key: Name, Value: ['WRPKQEVRGTQIGSYFGASLCSVDVDRDGSTDLLLIGAPHYYEZTRGGQV_NP_001107852.1+']\n",
      "    Key: pvalue, Value: ['1.87e-48']\n",
      "    Key: qvalue, Value: ['1.92e-45']\n",
      "    Key: score, Value: ['477']\n",
      "    Key: sequence, Value: ['WSQVQTIHGTQIGSYFGGELCGVDVDQDGETELLLIGAPLFYGEQRGGRV']\n",
      "    Key: source, Value: ['fimo']\n",
      "\n",
      "type: sequence_motif\n",
      "location: [435:470](+)\n",
      "id: GRFGAAJTVLGDVNGDKLTDVAIGAPGEEENRGAV-MEME-2-1-NP_001107852.1\n",
      "qualifiers:\n",
      "    Key: Alias, Value: ['MEME-2']\n",
      "    Key: ID, Value: ['GRFGAAJTVLGDVNGDKLTDVAIGAPGEEENRGAV-MEME-2-1-NP_001107852.1']\n",
      "    Key: Name, Value: ['GRFGAAJTVLGDVNGDKLTDVAIGAPGEEENRGAV_NP_001107852.1+']\n",
      "    Key: pvalue, Value: ['1.38e-33']\n",
      "    Key: qvalue, Value: ['1.44e-30']\n",
      "    Key: score, Value: ['329']\n",
      "    Key: sequence, Value: ['GRFGEAITALTDINGDGLVDVAVGAPLEEQGAVYI']\n",
      "    Key: source, Value: ['fimo']\n",
      "\n",
      "type: sequence_motif\n",
      "location: [495:530](+)\n",
      "id: GRFGAAJTVLGDVNGDKLTDVAIGAPGEEENRGAV-MEME-2-2-NP_001107852.1\n",
      "qualifiers:\n",
      "    Key: Alias, Value: ['MEME-2']\n",
      "    Key: ID, Value: ['GRFGAAJTVLGDVNGDKLTDVAIGAPGEEENRGAV-MEME-2-2-NP_001107852.1']\n",
      "    Key: Name, Value: ['GRFGAAJTVLGDVNGDKLTDVAIGAPGEEENRGAV_NP_001107852.1+']\n",
      "    Key: pvalue, Value: ['2.39e-08']\n",
      "    Key: qvalue, Value: ['1.25e-05']\n",
      "    Key: score, Value: ['76.2']\n",
      "    Key: sequence, Value: ['QWFGRSIHGVKDLEGDGLADVAVGAESQMIVLSSR']\n",
      "    Key: source, Value: ['fimo']\n",
      "\n",
      "type: sequence_motif\n",
      "location: [35:70](+)\n",
      "id: GRFGAAJTVLGDVNGDKLTDVAIGAPGEEENRGAV-MEME-2-3-NP_001107852.1\n",
      "qualifiers:\n",
      "    Key: Alias, Value: ['MEME-2']\n",
      "    Key: ID, Value: ['GRFGAAJTVLGDVNGDKLTDVAIGAPGEEENRGAV-MEME-2-3-NP_001107852.1']\n",
      "    Key: Name, Value: ['GRFGAAJTVLGDVNGDKLTDVAIGAPGEEENRGAV_NP_001107852.1+']\n",
      "    Key: pvalue, Value: ['7.27e-05']\n",
      "    Key: qvalue, Value: ['0.0253']\n",
      "    Key: score, Value: ['41.4']\n",
      "    Key: sequence, Value: ['FSPPRAGRHFGYRVLQVGNGVIVGAPGEGNSTGSL']\n",
      "    Key: source, Value: ['fimo']\n",
      "\n",
      "type: sequence_motif\n",
      "location: [481:531](+)\n",
      "id: PSQRITGSQLSPGLQYFGQSJSGGQDLTQDGLVDLAVGAZGHVLLLRSRP-MEME-3-1-NP_001107852.1\n",
      "qualifiers:\n",
      "    Key: Alias, Value: ['MEME-3']\n",
      "    Key: ID, Value: ['PSQRITGSQLSPGLQYFGQSJSGGQDLTQDGLVDLAVGAZGHVLLLRSRP-MEME-3-1-NP_001107852.1']\n",
      "    Key: Name, Value: ['PSQRITGSQLSPGLQYFGQSJSGGQDLTQDGLVDLAVGAZGHVLLLRSRP_NP_001107852.1+']\n",
      "    Key: pvalue, Value: ['1.49e-45']\n",
      "    Key: qvalue, Value: ['1.54e-42']\n",
      "    Key: score, Value: ['448']\n",
      "    Key: sequence, Value: ['PSQRIEGTQVLSGIQWFGRSIHGVKDLEGDGLADVAVGAESQMIVLSSRP']\n",
      "    Key: source, Value: ['fimo']\n",
      "\n",
      "type: sequence_motif\n",
      "location: [421:471](+)\n",
      "id: PSQRITGSQLSPGLQYFGQSJSGGQDLTQDGLVDLAVGAZGHVLLLRSRP-MEME-3-2-NP_001107852.1\n",
      "qualifiers:\n",
      "    Key: Alias, Value: ['MEME-3']\n",
      "    Key: ID, Value: ['PSQRITGSQLSPGLQYFGQSJSGGQDLTQDGLVDLAVGAZGHVLLLRSRP-MEME-3-2-NP_001107852.1']\n",
      "    Key: Name, Value: ['PSQRITGSQLSPGLQYFGQSJSGGQDLTQDGLVDLAVGAZGHVLLLRSRP_NP_001107852.1+']\n",
      "    Key: pvalue, Value: ['3.57e-05']\n",
      "    Key: qvalue, Value: ['0.0185']\n",
      "    Key: score, Value: ['44.5']\n",
      "    Key: sequence, Value: ['EEVSELQGDPGYPLGRFGEAITALTDINGDGLVDVAVGAPLEEQGAVYIF']\n",
      "    Key: source, Value: ['fimo']\n",
      "\n",
      "type: sequence_motif\n",
      "location: [1001:1042](+)\n",
      "id: VKNPLPLIVGSSIGGLLLLALITAALYKLGFFKRQYKEMME-MEME-4-1-NP_001107852.1\n",
      "qualifiers:\n",
      "    Key: Alias, Value: ['MEME-4']\n",
      "    Key: ID, Value: ['VKNPLPLIVGSSIGGLLLLALITAALYKLGFFKRQYKEMME-MEME-4-1-NP_001107852.1']\n",
      "    Key: Name, Value: ['VKNPLPLIVGSSIGGLLLLALITAALYKLGFFKRQYKEMME_NP_001107852.1+']\n",
      "    Key: pvalue, Value: ['3.78e-38']\n",
      "    Key: qvalue, Value: ['3.85e-35']\n",
      "    Key: score, Value: ['374']\n",
      "    Key: sequence, Value: ['EKQMLYLYVLSGIGGLLLLLLIFIVLYKVGFFKRNLKEKME']\n",
      "    Key: source, Value: ['fimo']\n",
      "\n",
      "type: sequence_motif\n",
      "location: [88:129](+)\n",
      "id: EAVNMSLGLSLATDTNDSQLLACGPTLSRTCGENTYLTGLC-MEME-5-1-NP_001107852.1\n",
      "qualifiers:\n",
      "    Key: Alias, Value: ['MEME-5']\n",
      "    Key: ID, Value: ['EAVNMSLGLSLATDTNDSQLLACGPTLSRTCGENTYLTGLC-MEME-5-1-NP_001107852.1']\n",
      "    Key: Name, Value: ['EAVNMSLGLSLATDTNDSQLLACGPTLSRTCGENTYLTGLC_NP_001107852.1+']\n",
      "    Key: pvalue, Value: ['1.31e-10']\n",
      "    Key: qvalue, Value: ['1.37e-07']\n",
      "    Key: score, Value: ['98.8']\n",
      "    Key: sequence, Value: ['NYTSKYLGMTLATDPTDGSILFAAVQFSTSYKTEFDFSDYV']\n",
      "    Key: source, Value: ['fimo']\n",
      "\n"
     ]
    }
   ],
   "source": [
    "from scripts_python.vcf_gff import gff2rec\n",
    "\n",
    "motif_in_ref = gff2rec(os.path.join(wd,\"data/motif\", GENE, \"fimo/fimo.gff\"))\n",
    "for seq in motif_in_ref:\n",
    "    for feature in seq.features:\n",
    "        print(feature)"
   ]
  },
  {
   "cell_type": "markdown",
   "source": [
    "Tanto o motif \"PSQRITGSQLSPGLQYFGQSJSGGQDLTQDGLVDLAVGAZGHVLLLRSRP\" como o motif \"GRFGAAJTVLGDVNGDKLTDVAIGAPGEEENRGAV\", se encontram repetidos várias vezes.\n",
    "\n",
    ":::{figure,myclass}\n",
    "![Figura 1 - NJ ITGAL](img/mast_loc_ITGAL.png)\n",
    "\n",
    "Exemplo das localização dos motifs anotados num segundo subset de sequências homólogas.\n",
    ":::\n",
    "\n",
    "Neste caso só foram reconhecidas 2 sequências no MAST devido ao threshold que este têm de valor 10 para o E-value das sequências.\n",
    "Isto pode indicar que esta sequência não é especifica e como tal pode não ser de interesse alinhar/analizar as mesmas para motifs."
   ],
   "metadata": {
    "collapsed": false
   }
  }
 ],
 "metadata": {
  "kernelspec": {
   "display_name": "Python 3",
   "language": "python",
   "name": "python3"
  },
  "language_info": {
   "codemirror_mode": {
    "name": "ipython",
    "version": 3
   },
   "file_extension": ".py",
   "mimetype": "text/x-python",
   "name": "python",
   "nbconvert_exporter": "python",
   "pygments_lexer": "ipython3",
   "version": "3.8.5"
  }
 },
 "nbformat": 4,
 "nbformat_minor": 1
}