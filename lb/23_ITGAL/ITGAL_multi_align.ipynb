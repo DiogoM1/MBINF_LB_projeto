{
 "cells": [
  {
   "cell_type": "markdown",
   "metadata": {
    "collapsed": true,
    "pycharm": {
     "name": "#%% md\n"
    }
   },
   "source": [
    "# Filogenia"
   ]
  },
  {
   "cell_type": "code",
   "execution_count": null,
   "outputs": [],
   "source": [
    "import docker, os\n",
    "\n",
    "a = %pwd\n",
    "wd = (a.rsplit('/',2))[0]\n",
    "\n",
    "GENE = \"ITGAL\"\n",
    "BLAST_Results=os.path.join(\"homologue\", GENE, \"B20210131A94466D2655679D1FD8953E075198DA8030E49B.fasta\")\n",
    "\n",
    "\n",
    "D_CLUSTAL_O='quay.io/biocontainers/clustalo:1.2.4--1'\n",
    "\n",
    "WORK_HOST_DIRECTORY=wd\n",
    "WORK_CONT_DIRECTORY='/opt/project'\n"
   ],
   "metadata": {
    "collapsed": false,
    "pycharm": {
     "name": "#%%\n"
    }
   }
  },
  {
   "cell_type": "code",
   "execution_count": 2,
   "outputs": [],
   "source": [
    "client = docker.from_env()\n",
    "bwa_docker_cont = client.containers.run(\n",
    "    image=D_CLUSTAL_O,\n",
    "    volumes={WORK_HOST_DIRECTORY: {'bind': WORK_CONT_DIRECTORY,'mode': 'rw'}},\n",
    "    working_dir= WORK_CONT_DIRECTORY+'/data/multi_align/',\n",
    "    entrypoint=\"bash\",\n",
    "    command='{0}/scripts_bash/clustalo.sh {1} {2}'.format(WORK_CONT_DIRECTORY, BLAST_Results, GENE))\n"
   ],
   "metadata": {
    "collapsed": false,
    "pycharm": {
     "name": "#%%\n"
    }
   }
  },
  {
   "cell_type": "code",
   "execution_count": 3,
   "outputs": [
    {
     "name": "stdout",
     "output_type": "stream",
     "text": [
      "Alignment with 13 rows and 1297 columns\n",
      "MK-DSCITVMAM---ALLSGFFFFAPASSYNLDVRGARSFSPPR...GKD sp|P20701|ITAL_HUMAN\n",
      "-M-NSCIIVLR----LLLSGPFVFAPAWSYNLDVRHVQNFSFPL...GD- sp|P61625|ITAL_BOVIN\n",
      "---MSFRIAGPR---LLLLGLQLFAKAWSYNLDTRPTQSFL-AQ...--- sp|P24063|ITAL_MOUSE\n",
      "----------MA---LRVLLLTALTLCHGFNLDTENAMTFQ--E...--- sp|P11215|ITAM_HUMAN\n",
      "----------MT---LKALLVTALALCHGFNLDTEHPMTFQ--E...--- sp|P05555|ITAM_MOUSE\n",
      "-------MSCTW---IAFLLLLGFVSCLGFNLDAEKLTHFH--M...--- sp|Q9QXH4|ITAX_MOUSE\n",
      "-------MTRTR---AALLLFTALATSLGFNLDTEELTAFR--V...--- sp|P20702|ITAX_HUMAN\n",
      "-------MAGGV---VILLCGWVLASCHGSNLDVEEPIVFR--E...--- sp|Q9QYE7|ITAD_RAT\n",
      "MVFKTIWIERYR---KLINLFRALASCHGSNLDVEKPVVFK--E...--- sp|Q3V0T4|ITAD_MOUSE\n",
      "MTF------------GTVLLLSVLASYHGFNLDVEEPTIFQ--E...--- sp|Q13349|ITAD_HUMAN\n",
      "-------MDLPRGLVVAWALSLWPGFTDTFNMDTRKPRVIP-GS...--- sp|Q9UKX5|ITA11_HUMAN\n",
      "-------MELPFVTHLFLPLVFLTGLCSPFNLDEHHPRLFP-GP...--- sp|O75578|ITA10_HUMAN\n",
      "-------MDFPRGLLVAWTLSLWPGFTDTFNMDTRNPRVIA-GP...--- sp|P61622|ITA11_MOUSE\n"
     ]
    }
   ],
   "source": [
    "from Bio import SeqIO, AlignIO, Phylo\n",
    "\n",
    "alin_fa = AlignIO.read(os.path.join(wd,\"data/multi_align\", GENE, f\"{GENE}_clustalo.fasta\"), \"fasta\")\n",
    "\n",
    "print(alin_fa)"
   ],
   "metadata": {
    "collapsed": false,
    "pycharm": {
     "name": "#%%\n"
    }
   }
  },
  {
   "cell_type": "markdown",
   "source": [
    ":::{figure,myclass}\n",
    "![Figura 1 - NJ ORF7a](img/ITGAL_NJ.png)\n",
    "\n",
    "Árvore filogenética para o alinhamento múltiplo de P0DTC7 (ORF7a)\n",
    ":::\n",
    "\n",
    "Observa-se num ramo superior da árvore a proteína ITAL humana próxima dos roedores assim como de outras integrinas, nomeadamente das alfa-D, X e M, estando particularmente próxima da espécie *Bos taurus* sendo que a árvore começa a ramificar-se ao descer por outros grupos de integrinas, mais especificamente das alfa-10 e 11."
   ],
   "metadata": {
    "collapsed": false,
    "pycharm": {
     "name": "#%% md\n"
    }
   }
  }
 ],
 "metadata": {
  "kernelspec": {
   "display_name": "Python 3",
   "language": "python",
   "name": "python3"
  },
  "language_info": {
   "codemirror_mode": {
    "name": "ipython",
    "version": 2
   },
   "file_extension": ".py",
   "mimetype": "text/x-python",
   "name": "python",
   "nbconvert_exporter": "python",
   "pygments_lexer": "ipython2",
   "version": "2.7.6"
  }
 },
 "nbformat": 4,
 "nbformat_minor": 0
}