{
 "cells": [
  {
   "cell_type": "markdown",
   "source": [
    "# Identificação de Homólogos"
   ],
   "metadata": {
    "collapsed": false
   }
  },
  {
   "cell_type": "code",
   "execution_count": 4,
   "outputs": [],
   "source": [
    "import os\n",
    "from Bio import SeqIO\n",
    "from Bio.Blast import NCBIWWW, NCBIXML\n",
    "from scripts_python import BLASTer\n",
    "\n",
    "a = %pwd\n",
    "wd = (a.rsplit('/',2))[0]\n",
    "seq_id = \"NM_001114380\"\n"
   ],
   "metadata": {
    "collapsed": false,
    "pycharm": {
     "name": "#%%\n"
    }
   }
  },
  {
   "cell_type": "code",
   "execution_count": 5,
   "outputs": [
    {
     "data": {
      "text/plain": "'record = SeqIO.read(os.path.join( wd,\"data/homologue\", f\"{seq_id}_ORF7a.fasta\"), \"fasta\")\\n\\nresult_handle = NCBIWWW.qblast(\"blastn\", \"nr\", record.format(\"fasta\"), short_query=True, expect=0.10, word_size=7, entrez_query=\\'all[filter] NOT \"Severe acute respiratory syndrome coronavirus 2\"[Organism]\\', )\\n\\nsave_file = open(os.path.join( wd,\"data/reference\", f\"{seq_id}_ORF7a_blast.xml\", \"w\"))\\nsave_file.write(result_handle.read())\\nsave_file.close()\\nresult_handle.close()'"
     },
     "execution_count": 5,
     "metadata": {},
     "output_type": "execute_result"
    }
   ],
   "source": [
    "\n",
    "\"\"\"record = SeqIO.read(os.path.join( wd,\"data/homologue\", f\"{seq_id}_ORF7a.fasta\"), \"fasta\")\n",
    "\n",
    "result_handle = NCBIWWW.qblast(\"blastn\", \"nr\", record.format(\"fasta\"), short_query=True, expect=0.10, word_size=7, entrez_query='all[filter] NOT \"Severe acute respiratory syndrome coronavirus 2\"[Organism]', )\n",
    "\n",
    "save_file = open(os.path.join( wd,\"data/reference\", f\"{seq_id}_ORF7a_blast.xml\", \"w\"))\n",
    "save_file.write(result_handle.read())\n",
    "save_file.close()\n",
    "result_handle.close()\"\"\""
   ],
   "metadata": {
    "collapsed": false,
    "pycharm": {
     "name": "#%%\n"
    }
   }
  },
  {
   "cell_type": "markdown",
   "source": [
    "## Carregar ficheiro XML da pesquisa"
   ],
   "metadata": {
    "collapsed": false,
    "pycharm": {
     "name": "#%% md\n"
    }
   }
  },
  {
   "cell_type": "code",
   "execution_count": 6,
   "outputs": [
    {
     "name": "stdout",
     "output_type": "stream",
     "text": [
      "Foram carregadas 100 seq: 100\n"
     ]
    }
   ],
   "source": [
    "\"\"\"result_handle= open(os.path.join( wd,\"data/homologue/BST2\", \"0069KN2K01R-Alignment.xml\"))\n",
    "blast_record_n = NCBIXML.read(result_handle)\n",
    "result_handle.close()\n",
    "\n",
    "print('Foram carregadas 100 seq:', len(blast_record_n.alignments))\"\"\"\n",
    "\n",
    "result_handle= open(os.path.join( wd,\"data/homologue/ITGAL/00D8F7PY016-Alignment.xml\"))\n",
    "blast_record_p = NCBIXML.read(result_handle)\n",
    "result_handle.close()\n",
    "\n",
    "print('Foram carregadas 100 seq:', len(blast_record_p.alignments))"
   ],
   "metadata": {
    "collapsed": false,
    "pycharm": {
     "name": "#%%\n"
    }
   }
  },
  {
   "cell_type": "markdown",
   "source": [
    "## Identificar Homologos"
   ],
   "metadata": {
    "collapsed": false,
    "pycharm": {
     "name": "#%% md\n"
    }
   }
  },
  {
   "cell_type": "code",
   "execution_count": 8,
   "outputs": [
    {
     "name": "stdout",
     "output_type": "stream",
     "text": [
      "Accession Identity%\n",
      "NP_002200 1.0\n",
      "BAG36913 0.9991452991452991\n",
      "XP_005255370 0.9991452991452991\n",
      "CAA68747 0.9982905982905983\n",
      "NP_001029341 0.9923076923076923\n",
      "XP_034795955 0.9923076923076923\n",
      "PNI12205 0.9923076923076923\n",
      "XP_034795956 0.9914529914529915\n",
      "XP_024209187 0.9914529914529915\n",
      "EAW52244 0.9566639411283728\n",
      "AAC31672 0.955846279640229\n",
      "XP_024089734 0.9777777777777777\n",
      "XP_032011574 0.9709401709401709\n",
      "XP_024209188 0.976068376068376\n",
      "XP_030653892 0.9675213675213675\n",
      "XP_024209189 0.9675213675213675\n",
      "XP_023046865 0.958974358974359\n",
      "XP_023046867 0.958904109589041\n",
      "XP_023046866 0.9581196581196582\n",
      "XP_010386254 0.9555555555555556\n",
      "EHH31590 0.9538461538461539\n",
      "XP_025225979 0.9555555555555556\n",
      "XP_037845568 0.9573742540494459\n",
      "XP_009197106 0.9564102564102565\n",
      "XP_033074013 0.9512820512820512\n",
      "XP_014981430 0.9529914529914529\n",
      "EHH60316 0.9511986301369864\n",
      "XP_033074015 0.9511986301369864\n",
      "XP_033074014 0.9504273504273504\n",
      "XP_017736913 0.9512820512820512\n",
      "XP_028697390 0.9253112033195021\n",
      "XP_011544151 1.0\n",
      "XP_034795957 0.9916201117318436\n",
      "XP_024209192 0.9916201117318436\n",
      "XP_021788969 0.9307692307692308\n",
      "XP_011837937 0.9122807017543859\n",
      "XP_032099091 0.9094017094017094\n",
      "XP_035123298 0.9025641025641026\n",
      "XP_012319913 0.9\n",
      "XP_003930122 0.9008547008547009\n",
      "XP_024209194 0.991270611057226\n",
      "XP_023046868 0.957169459962756\n",
      "XP_024648899 0.8936535162950258\n",
      "XP_009197108 0.9543761638733705\n",
      "XP_006721107 0.9949186991869918\n",
      "XP_006721107 1.0\n",
      "NP_001107852 0.9939024390243902\n",
      "NP_001107852 1.0\n",
      "AAP88867 0.9939024390243902\n",
      "AAP88867 1.0\n",
      "XP_024209190 0.9857723577235772\n",
      "XP_024209190 1.0\n",
      "XP_024209191 0.9847560975609756\n",
      "XP_024209191 1.0\n",
      "XP_021788970 0.9553831231813773\n",
      "XP_024089735 0.9705284552845529\n",
      "XP_024089735 0.9724770642201835\n",
      "XP_032099093 0.909683426443203\n",
      "XP_008592140 0.8222222222222222\n",
      "XP_014697888 0.82066609735269\n",
      "XP_014585502 0.8189581554227157\n",
      "XP_008512525 0.8198121263877028\n",
      "XP_030653900 0.9603658536585366\n",
      "XP_030653900 0.963302752293578\n",
      "XP_008055949 0.8469565217391304\n",
      "XP_012515779 0.8304794520547946\n",
      "XP_014697889 0.8198121263877028\n",
      "XP_005598832 0.8181041844577285\n",
      "XP_020136933 0.8277634961439588\n",
      "XP_012619680 0.8269065981148244\n",
      "XP_027468348 0.8065068493150684\n",
      "XP_025709990 0.8056506849315068\n",
      "XP_004397279 0.8047945205479452\n",
      "XP_012619677 0.8138163437236732\n",
      "XP_025709743 0.8047945205479452\n",
      "XP_027966076 0.8039383561643836\n",
      "XP_033074018 0.9502982107355865\n",
      "XP_036683247 0.8193493150684932\n",
      "XP_027468350 0.8056506849315068\n",
      "XP_025709991 0.8047945205479452\n",
      "XP_012619678 0.8129738837405224\n",
      "XP_025709744 0.8039383561643836\n",
      "XP_027966077 0.803082191780822\n",
      "XP_036683248 0.8184931506849316\n",
      "XP_006914189 0.8096054888507719\n",
      "TEA38802 0.8176369863013698\n",
      "XP_026982189 0.8159246575342466\n",
      "XP_033695841 0.8176369863013698\n",
      "XP_011376968 0.8087478559176673\n",
      "XP_030727609 0.8167808219178082\n",
      "XP_032286925 0.8107876712328768\n",
      "XP_024600432 0.8159246575342466\n",
      "XP_032460125 0.8159246575342466\n",
      "XP_012388162 0.815068493150685\n",
      "XP_006914188 0.8089117395029991\n",
      "XP_007186469 0.8159246575342466\n",
      "XP_026982190 0.815068493150685\n",
      "XP_033695842 0.8167808219178082\n",
      "XP_011376967 0.8080548414738646\n",
      "XP_034844757 0.8082191780821918\n",
      "XP_029075724 0.8125\n",
      "XP_030727610 0.8159246575342466\n",
      "XP_032286926 0.809931506849315\n",
      "XP_012388163 0.8142123287671232\n",
      "XP_034844758 0.8073630136986302\n",
      "Total: 105\n"
     ]
    },
    {
     "data": {
      "text/plain": "105"
     },
     "execution_count": 8,
     "metadata": {},
     "output_type": "execute_result"
    }
   ],
   "source": [
    "from Bio.Seq import Seq\n",
    "from Bio.SeqRecord import SeqRecord\n",
    "from Bio import SeqIO\n",
    "\n",
    "query_len = blast_record_p.query_length\n",
    "\n",
    "homologue = []\n",
    "\n",
    "print(\"Accession\", \"Identity%\")\n",
    "for aln in blast_record_p.alignments:\n",
    "    for HSP in aln.hsps:\n",
    "        if HSP.score > 80 and HSP.expect < 1.0e-10 and HSP.identities/HSP.align_length > 0.80:\n",
    "            print(aln.accession,HSP.identities/HSP.align_length)\n",
    "            homologue.append(SeqRecord(Seq(HSP.sbjct), aln.hit_id, \"\", \"\"))\n",
    "\n",
    "\n",
    "print(\"Total:\",len(homologue))\n",
    "\n",
    "\n",
    "SeqIO.write(homologue, os.path.join(wd,\"data/homologue/ITGAL\", f\"{seq_id}_ITGAL.fasta\"), \"fasta\")"
   ],
   "metadata": {
    "collapsed": false,
    "pycharm": {
     "name": "#%%\n"
    }
   }
  }
 ],
 "metadata": {
  "kernelspec": {
   "display_name": "Python 3",
   "language": "python",
   "name": "python3"
  },
  "language_info": {
   "codemirror_mode": {
    "name": "ipython",
    "version": 2
   },
   "file_extension": ".py",
   "mimetype": "text/x-python",
   "name": "python",
   "nbconvert_exporter": "python",
   "pygments_lexer": "ipython2",
   "version": "2.7.6"
  }
 },
 "nbformat": 4,
 "nbformat_minor": 0
}