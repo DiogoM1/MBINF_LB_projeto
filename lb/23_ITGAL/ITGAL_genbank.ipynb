{
 "cells": [
  {
   "cell_type": "markdown",
   "metadata": {
    "collapsed": true,
    "pycharm": {
     "name": "#%% md\n"
    }
   },
   "source": [
    "# Registo no GenBank\n",
    "\n",
    "## Verificar as anotações correspondentes aos genes de interesse;"
   ]
  },
  {
   "cell_type": "code",
   "execution_count": 35,
   "outputs": [],
   "source": [
    "from scripts_python import gbSearch\n",
    "import os\n",
    "from Bio import SeqIO, Entrez\n",
    "\n",
    "a = %pwd\n",
    "wd = (a.rsplit('/',2))[0]\n",
    "\n",
    "seq_id = \"NM_001114380\"\n",
    "protein = \"P20701\"\n",
    "gene = \"ITGAL\""
   ],
   "metadata": {
    "collapsed": false,
    "pycharm": {
     "name": "#%%\n"
    }
   }
  },
  {
   "cell_type": "code",
   "execution_count": 36,
   "outputs": [],
   "source": [
    "handle = Entrez.efetch(db=\"nucleotide\",\n",
    "                       id=seq_id,\n",
    "                       rettype=\"gb\",\n",
    "                       retmode=\"text\")\n",
    "\n",
    "file_path = os.path.join(wd,\"data/reference/\", gene, f\"{gene}.gb\")\n",
    "with open(file_path, 'w') as file:\n",
    "    file.write(handle.read())"
   ],
   "metadata": {
    "collapsed": false,
    "pycharm": {
     "name": "#%%\n"
    }
   }
  },
  {
   "cell_type": "code",
   "execution_count": 37,
   "outputs": [
    {
     "name": "stdout",
     "output_type": "stream",
     "text": [
      "molecule_type :  mRNA\n",
      "topology :  linear\n",
      "data_file_division :  PRI\n",
      "date :  12-DEC-2020\n",
      "accessions :  ['NM_001114380']\n",
      "sequence_version :  2\n",
      "keywords :  ['RefSeq']\n",
      "source :  Homo sapiens (human)\n",
      "organism :  Homo sapiens\n",
      "taxonomy :  ['Eukaryota', 'Metazoa', 'Chordata', 'Craniata', 'Vertebrata', 'Euteleostomi', 'Mammalia', 'Eutheria', 'Euarchontoglires', 'Primates', 'Haplorrhini', 'Catarrhini', 'Hominidae', 'Homo']\n",
      "references :  [Reference(title='Perlecan regulates pericyte dynamics in the maintenance and repair of the blood-brain barrier', ...), Reference(title='Aggregatibacter actinomycetemcomitans leukotoxin causes activation of lymphocyte function-associated antigen 1', ...), Reference(title='The down-regulation of hsa_circ_0012919, the sponge for miR-125a-3p, contributes to DNA methylation of CD11a and CD70 in CD4(+) T cells of systemic lupus erythematous', ...), Reference(title='Direction of actin flow dictates integrin LFA-1 orientation during leukocyte migration', ...), Reference(title='Extracellular ISG15 Signals Cytokine Secretion through the LFA-1 Integrin Receptor', ...), Reference(title='Molecular cloning of ICAM-3, a third ligand for LFA-1, constitutively expressed on resting leukocytes', ...), Reference(title='Differentially regulated cell surface expression of leukocyte adhesion receptors on neutrophils', ...), Reference(title='CD27 expression by a distinct subpopulation of human B lymphocytes', ...), Reference(title='T-cell receptor cross-linking transiently stimulates adhesiveness through LFA-1', ...), Reference(title='Primary structure of the leukocyte function-associated molecule-1 alpha subunit: an integrin with an embedded domain defining a protein superfamily', ...)]\n",
      "comment :  REVIEWED REFSEQ: This record has been curated by NCBI staff. The\n",
      "reference sequence was derived from BC008777.2 and CA430398.1.\n",
      "On May 31, 2019 this sequence version replaced NM_001114380.1.\n",
      "Summary: ITGAL encodes the integrin alpha L chain. Integrins are\n",
      "heterodimeric integral membrane proteins composed of an alpha chain\n",
      "and a beta chain. This I-domain containing alpha integrin combines\n",
      "with the beta 2 chain (ITGB2) to form the integrin lymphocyte\n",
      "function-associated antigen-1 (LFA-1), which is expressed on all\n",
      "leukocytes. LFA-1 plays a central role in leukocyte intercellular\n",
      "adhesion through interactions with its ligands, ICAMs 1-3\n",
      "(intercellular adhesion molecules 1 through 3), and also functions\n",
      "in lymphocyte costimulatory signaling. Two transcript variants\n",
      "encoding different isoforms have been found for this gene.\n",
      "[provided by RefSeq, Jul 2008].\n",
      "Transcript Variant: This variant (2) lacks an alternate in-frame\n",
      "segment and uses an alternate in-frame splice junction compared to\n",
      "variant 1. The resulting isoform (b) has the same N- and C-termini\n",
      "but is shorter compared to isoform a.\n",
      "Publication Note:  This RefSeq record includes a subset of the\n",
      "publications that are available for this gene. Please see the Gene\n",
      "record to access additional publications.\n",
      "COMPLETENESS: complete on the 3' end.\n",
      "structured_comment :  OrderedDict([('Evidence-Data', OrderedDict([('Transcript exon combination', 'BC008777.2 [ECO:0000332]'), ('RNAseq introns', 'single sample supports all introns SAMEA1965299, SAMEA1968540 [ECO:0000348]')]))])\n"
     ]
    }
   ],
   "source": [
    "path = os.path.join(wd, \"data/reference\",gene,f\"{gene}.gb\")\n",
    "seq_r = SeqIO.read(path, format=\"genbank\")\n",
    "for Key, Value in seq_r.annotations.items():\n",
    "    print(Key,\": \", Value)\n"
   ],
   "metadata": {
    "collapsed": false,
    "pycharm": {
     "name": "#%%\n"
    }
   }
  },
  {
   "cell_type": "markdown",
   "source": [
    "O ficheiro .gb contêm varias, entre as quais podemos confirmar o organismo, a taxonomia do mesmo e referências bibliográficas associadas a esta sequência. Porém a existência de *features* vai permitir conhecer melhor a sequência e determinar a localização do nosso gene de interesse.\n",
    "\n",
    "## Features"
   ],
   "metadata": {
    "collapsed": false
   }
  },
  {
   "cell_type": "code",
   "execution_count": 38,
   "outputs": [
    {
     "name": "stdout",
     "output_type": "stream",
     "text": [
      "gene\n",
      "[0:4877](+)\n",
      "None\n",
      "gene :  ['ITGAL']\n",
      "gene_synonym :  ['CD11A; LFA-1; LFA1A']\n",
      "note :  ['integrin subunit alpha L']\n",
      "db_xref :  ['GeneID:3683', 'HGNC:HGNC:6148', 'MIM:153370']\n",
      " \n",
      "CDS\n",
      "[96:3357](+)\n",
      "None\n",
      "gene :  ['ITGAL']\n",
      "gene_synonym :  ['CD11A; LFA-1; LFA1A']\n",
      "note :  ['isoform b precursor is encoded by transcript variant 2; LFA-1A; antigen CD11A (p180), lymphocyte function-associated antigen 1, alpha polypeptide; integrin, alpha L (antigen CD11A (p180), lymphocyte function-associated antigen 1; alpha polypeptide); LFA-1 alpha; integrin gene promoter; CD11 antigen-like family member A; leukocyte adhesion glycoprotein LFA-1 alpha chain; leukocyte function-associated molecule 1 alpha chain; integrin alpha-L']\n",
      "codon_start :  ['1']\n",
      "product :  ['integrin alpha-L isoform b precursor']\n",
      "protein_id :  ['NP_001107852.1']\n",
      "db_xref :  ['CCDS:CCDS45461.1', 'GeneID:3683', 'HGNC:HGNC:6148', 'MIM:153370']\n",
      "translation :  ['MKDSCITVMAMALLSGFFFFAPASSYNLDVRGARSFSPPRAGRHFGYRVLQVGNGVIVGAPGEGNSTGSLYQCQSGTGHCLPVTLRGSNYTSKYLGMTLATDPTDGSILFAAVQFSTSYKTEFDFSDYVKRKDPDALLKHVKHMLLLTNTFGAINYVATEVFREELGARPDATKVLIIITDGEATDSGNIDAAKDIIRYIIGIGKHFQTKESQETLHKFASKPASEFVKILDTFEKLKDLFTELQKKIYVIEGTSKQDLTSFNMELSSSGISADLSRGHAVVGAVGAKDWAGGFLDLKADLQDDTFIGNEPLTPEVRAGYLGYTVTWLPSRQKTSLLASGAPRYQHMGRVLLFQEPQGGGHWSQVQTIHGTQIGSYFGGELCGVDVDQDGETELLLIGAPLFYGEQRGGRVFIYQRRQLGFEEVSELQGDPGYPLGRFGEAITALTDINGDGLVDVAVGAPLEEQGAVYIFNGRHGGLSPQPSQRIEGTQVLSGIQWFGRSIHGVKDLEGDGLADVAVGAESQMIVLSSRPVVDMVTLMSFSPAEIPVHEVECSYSTSNKMKEGVNITICFQIKSLIPQFQGRLVANLTYTLQLDGHRTRRRGLFPGGRHELRRNIAVTTSMSCTDFSFHFPVCVQDLISPINVSLNFSLWEEEGTPRDQRAGKDIPPILRPSLHSETWEIPFEKNCGEDKKCEANLRVSFSPARSRALRLTAFASLSVELSLSNLEEDAYWVQLDLHFPPGLSFRKVEMLKPHSQIPVSCEELPEESRLLSRALSCNVSSPIFKAGHSVALQMMFNTLVNSSWGDSVELHANVTCNNEDSDLLEDNSATTIIPILYPINILIQDQEDSTLYVSFTPKGPKIHQVKHMYQVRIQPSIHDHNIPTLEAVVGVPQPPSEGPITHQWSVQMEPPVPCHYEDLERLPDAAEPCLPGALFRCPVVFRQEILVQVIGTLELVGEIEASSMFSLCSSLSISFNSSKHFHLYGSNASLAQVVMKVDVVYEKQMLYLYVLSGIGGLLLLLLIFIVLYKVGFFKRNLKEKMEAGRGVPNGIPAEDSEQLASGQEAGDPGCLKPLHEKDSESGGGKD']\n",
      " \n"
     ]
    }
   ],
   "source": [
    "interest_features = []\n",
    "\n",
    "for feature in seq_r.features:\n",
    "    if feature.type in [\"gene\", \"CDS\"]:\n",
    "        if feature.qualifiers[\"gene\"][0] == gene:\n",
    "            interest_features.append(feature)\n",
    "            print(feature.type)\n",
    "            print(feature.location)\n",
    "            print(feature.ref_db)\n",
    "            for Key,Value in feature.qualifiers.items():\n",
    "                print(Key,\": \", Value)\n",
    "            print(\" \")"
   ],
   "metadata": {
    "collapsed": false,
    "pycharm": {
     "name": "#%%\n"
    }
   }
  },
  {
   "cell_type": "markdown",
   "source": [
    "Realizando a filtração destes features foi possivel encontrar tanto uma anotação para o gene como a CDS que este representa, ambas indicam um localização coincidente, que poderá ser usada para *slicing* deste gene.\n",
    "\n",
    "\n",
    "## Slicing do gene de interesse."
   ],
   "metadata": {
    "collapsed": false,
    "pycharm": {
     "name": "#%% md\n"
    }
   }
  },
  {
   "cell_type": "code",
   "execution_count": 39,
   "outputs": [
    {
     "data": {
      "text/plain": "1"
     },
     "execution_count": 39,
     "metadata": {},
     "output_type": "execute_result"
    }
   ],
   "source": [
    "from Bio.SeqRecord import SeqRecord\n",
    "\n",
    "\n",
    "gene_seq = seq_r.seq[interest_features[0].location.nofuzzy_start:interest_features[0].location.nofuzzy_end]\n",
    "gene_OBJ = SeqRecord(gene_seq, f\"{seq_id} | Reference sequence {gene} gene\", \"\", \"\")\n",
    "SeqIO.write(gene_OBJ, os.path.join(wd,\"data/reference\", gene, f\"{gene}_nu.fasta\"), \"fasta\")"
   ],
   "metadata": {
    "collapsed": false,
    "pycharm": {
     "name": "#%%\n"
    }
   }
  },
  {
   "cell_type": "markdown",
   "source": [
    "### Extração de informação relativa à proteina\n",
    "\n",
    "Podemos ficar a conhecer melhor a proteina, seja a identificação da ORF que permite obter a sua tradução, como a sequência desta e mais importante um ID, que poderá ser usado para pesquisar noutras base de dados como o Uniprot."
   ],
   "metadata": {
    "collapsed": false
   }
  },
  {
   "cell_type": "code",
   "execution_count": 40,
   "outputs": [
    {
     "data": {
      "text/plain": "1"
     },
     "execution_count": 40,
     "metadata": {},
     "output_type": "execute_result"
    }
   ],
   "source": [
    "from Bio.Seq import Seq\n",
    "\n",
    "prot_seq = Seq(interest_features[1].qualifiers['translation'][0])\n",
    "prot_OBJ = SeqRecord(prot_seq, interest_features[1].qualifiers['protein_id'][0] ,interest_features[1].qualifiers['product'][0], interest_features[1].qualifiers['product'][0])\n",
    "SeqIO.write(prot_OBJ, os.path.join(wd,\"data/reference\", gene, f\"{gene}_prot.fasta\"), \"fasta\")"
   ],
   "metadata": {
    "collapsed": false,
    "pycharm": {
     "name": "#%%\n"
    }
   }
  },
  {
   "cell_type": "markdown",
   "source": [
    "## Extração de conhecimento do Uniprot\n",
    "\n",
    "Como referido anterirormente, com base no identificador para a proteina, foi possivel encontrar na *Uniprot* o id neste base de dados a qual esta proteina corresponde, nomeadamente P0DTC7.\n",
    "\n",
    "Descarregando o ficheiro XML e abrindo com o SeqIO podemos então analisar a função desta proteina e algumas das suas anotações e features."
   ],
   "metadata": {
    "collapsed": false
   }
  },
  {
   "cell_type": "code",
   "execution_count": 41,
   "outputs": [],
   "source": [
    "from wget import download\n",
    "\n",
    "url = \"https://www.uniprot.org/uniprot/{0}.xml\".format(protein)\n",
    "path = os.path.join(wd, \"data/reference\", gene,f\"{protein}.xml\")\n",
    "\n",
    "download(url, path)\n",
    "prot_ref = SeqIO.read(path, format=\"uniprot-xml\")"
   ],
   "metadata": {
    "collapsed": false,
    "pycharm": {
     "name": "#%%\n"
    }
   }
  },
  {
   "cell_type": "markdown",
   "source": [
    "Alguns dos elementos mais importantes nestas bases de dados são os comentários, estes incluem informações como função, interações, localização subcelular e dominios que estejam presente"
   ],
   "metadata": {
    "collapsed": false
   }
  },
  {
   "cell_type": "code",
   "execution_count": 42,
   "outputs": [
    {
     "name": "stdout",
     "output_type": "stream",
     "text": [
      "function :\n",
      "Integrin ITGAL/ITGB2 is a receptor for ICAM1, ICAM2, ICAM3 and ICAM4. Integrin ITGAL/ITGB2 is a receptor for F11R (PubMed:11812992, PubMed:15528364). Integin ITGAL/ITGB2 is a receptor for the secreted form of ubiquitin-like protein ISG15; the interaction is mediated by ITGAL (PubMed:29100055). Involved in a variety of immune phenomena including leukocyte-endothelial cell interaction, cytotoxic T-cell mediated killing, and antibody dependent killing by granulocytes and monocytes. Contributes to natural killer cell cytotoxicity (PubMed:15356110). Involved in leukocyte adhesion and transmigration of leukocytes including T-cells and neutrophils (PubMed:11812992). Required for generation of common lymphoid progenitor cells in bone marrow, indicating a role in lymphopoiesis (By similarity). Integrin ITGAL/ITGB2 in association with ICAM3, contributes to apoptotic neutrophil phagocytosis by macrophages (PubMed:23775590). \n",
      "\n",
      "subunit :\n",
      "Heterodimer of an alpha and a beta subunit (PubMed:12526797). The ITGAL alpha subunit associates with the ITGB2 beta subunit (PubMed:12526797). Interacts with THBD (PubMed:27055590). \n",
      "\n",
      "interaction_intactId :\n",
      "EBI-961214 \n",
      "\n",
      "subcellularlocation_location :\n",
      "Cell membrane \n",
      "\n",
      "subcellularlocation_topology :\n",
      "Single-pass type I membrane protein \n",
      "\n",
      "alternativeproducts_isoform :\n",
      "P20701-1 \n",
      "\n",
      "tissuespecificity :\n",
      "Leukocytes. \n",
      "\n",
      "domain :\n",
      "The integrin I-domain (insert) is a VWFA domain (PubMed:2537322). Integrins with I-domains do not undergo protease cleavage. The I-domain is necessary and sufficient for interaction with ICAM1 and F11R (PubMed:15528364). \n",
      "\n",
      "PTM :\n",
      "In resting T-cells, up to 40% of surface ITGAL is constitutively phosphorylated. Phosphorylation causes conformational changes needed for ligand binding and is necessary for activation by some physiological agents. \n",
      "\n",
      "similarity :\n",
      "Belongs to the integrin alpha chain family. \n",
      "\n",
      "onlineinformation :\n",
      "NIEHS-SNPs@http://egp.gs.washington.edu/data/itgal/ \n",
      "\n"
     ]
    }
   ],
   "source": [
    "import re\n",
    "\n",
    "for annotation in prot_ref.annotations.keys():\n",
    "    if re.match(\"(comment_)[a-z]*\", annotation):\n",
    "        print(annotation.split(\"_\",1)[1],\":\")\n",
    "        print(prot_ref.annotations[annotation][0], \"\\n\")"
   ],
   "metadata": {
    "collapsed": false,
    "pycharm": {
     "name": "#%%\n"
    }
   }
  },
  {
   "cell_type": "markdown",
   "source": [
    "Muitas vezes estas informações alertam-nos para a presença de features no sequencia, como é o caso da informação relativa ao domain, encontrado no passo anterior.\n",
    "Estas features têm diferentes niveis de evidencia, que podem ser filtrados, neste caso nos escolhemos o nivel 2.\n",
    "\n",
    "Nota: Todas as localizações têm um inicio adiantado uma posição."
   ],
   "metadata": {
    "collapsed": false
   }
  },
  {
   "cell_type": "code",
   "execution_count": 43,
   "outputs": [
    {
     "name": "stdout",
     "output_type": "stream",
     "text": [
      "feature:  signal peptide\n",
      "location:  [0:25]\n",
      "seq:  MKDSCITVMAMALLSGFFFFAPASS\n",
      "evidence :  10\n",
      "\n",
      "\n",
      "feature:  topological domain\n",
      "location:  [25:1090]\n",
      "seq:  YNLDVRGARSFSPPRAGRHFGYRVLQVGNGVIVGAPGEGNSTGSLYQCQSGTGHCLPVTLRGSNYTSKYLGMTLATDPTDGSILACDPGLSRTCDQNTYLSGLCYLFRQNLQGPMLQGRPGFQECIKGNVDLVFLFDGSMSLQPDEFQKILDFMKDVMKKLSNTSYQFAAVQFSTSYKTEFDFSDYVKRKDPDALLKHVKHMLLLTNTFGAINYVATEVFREELGARPDATKVLIIITDGEATDSGNIDAAKDIIRYIIGIGKHFQTKESQETLHKFASKPASEFVKILDTFEKLKDLFTELQKKIYVIEGTSKQDLTSFNMELSSSGISADLSRGHAVVGAVGAKDWAGGFLDLKADLQDDTFIGNEPLTPEVRAGYLGYTVTWLPSRQKTSLLASGAPRYQHMGRVLLFQEPQGGGHWSQVQTIHGTQIGSYFGGELCGVDVDQDGETELLLIGAPLFYGEQRGGRVFIYQRRQLGFEEVSELQGDPGYPLGRFGEAITALTDINGDGLVDVAVGAPLEEQGAVYIFNGRHGGLSPQPSQRIEGTQVLSGIQWFGRSIHGVKDLEGDGLADVAVGAESQMIVLSSRPVVDMVTLMSFSPAEIPVHEVECSYSTSNKMKEGVNITICFQIKSLIPQFQGRLVANLTYTLQLDGHRTRRRGLFPGGRHELRRNIAVTTSMSCTDFSFHFPVCVQDLISPINVSLNFSLWEEEGTPRDQRAQGKDIPPILRPSLHSETWEIPFEKNCGEDKKCEANLRVSFSPARSRALRLTAFASLSVELSLSNLEEDAYWVQLDLHFPPGLSFRKVEMLKPHSQIPVSCEELPEESRLLSRALSCNVSSPIFKAGHSVALQMMFNTLVNSSWGDSVELHANVTCNNEDSDLLEDNSATTIIPILYPINILIQDQEDSTLYVSFTPKGPKIHQVKHMYQVRIQPSIHDHNIPTLEAVVGVPQPPSEGPITHQWSVQMEPPVPCHYEDLERLPDAAEPCLPGALFRCPVVFRQEILVQVIGTLELVGEIEASSMFSLCSSLSISFNSSKHFHLYGSNASLAQVVMKVDVVYEKQML\n",
      "description :  Extracellular\n",
      "evidence :  10\n",
      "\n",
      "\n",
      "feature:  transmembrane region\n",
      "location:  [1090:1111]\n",
      "seq:  YLYVLSGIGGLLLLLLIFIVL\n",
      "description :  Helical\n",
      "evidence :  10\n",
      "\n",
      "\n",
      "feature:  topological domain\n",
      "location:  [1111:1170]\n",
      "seq:  YKVGFFKRNLKEKMEAGRGVPNGIPAEDSEQLASGQEAGDPGCLKPLHEKDSESGGGKD\n",
      "description :  Cytoplasmic\n",
      "evidence :  10\n",
      "\n",
      "\n",
      "feature:  repeat\n",
      "location:  [30:82]\n",
      "seq:  RGARSFSPPRAGRHFGYRVLQVGNGVIVGAPGEGNSTGSLYQCQSGTGHCLP\n",
      "description :  FG-GAP 1\n",
      "evidence :  12\n",
      "\n",
      "\n",
      "feature:  repeat\n",
      "location:  [82:141]\n",
      "seq:  VTLRGSNYTSKYLGMTLATDPTDGSILACDPGLSRTCDQNTYLSGLCYLFRQNLQGPML\n",
      "description :  FG-GAP 2\n",
      "evidence :  12\n",
      "\n",
      "\n",
      "feature:  domain\n",
      "location:  [155:327]\n",
      "seq:  DLVFLFDGSMSLQPDEFQKILDFMKDVMKKLSNTSYQFAAVQFSTSYKTEFDFSDYVKRKDPDALLKHVKHMLLLTNTFGAINYVATEVFREELGARPDATKVLIIITDGEATDSGNIDAAKDIIRYIIGIGKHFQTKESQETLHKFASKPASEFVKILDTFEKLKDLFTEL\n",
      "description :  VWFA\n",
      "evidence :  11\n",
      "\n",
      "\n",
      "feature:  repeat\n",
      "location:  [337:389]\n",
      "seq:  SKQDLTSFNMELSSSGISADLSRGHAVVGAVGAKDWAGGFLDLKADLQDDTF\n",
      "description :  FG-GAP 3\n",
      "evidence :  12\n",
      "\n",
      "\n",
      "feature:  repeat\n",
      "location:  [389:445]\n",
      "seq:  IGNEPLTPEVRAGYLGYTVTWLPSRQKTSLLASGAPRYQHMGRVLLFQEPQGGGHW\n",
      "description :  FG-GAP 4\n",
      "evidence :  12\n",
      "\n",
      "\n",
      "feature:  repeat\n",
      "location:  [445:506]\n",
      "seq:  SQVQTIHGTQIGSYFGGELCGVDVDQDGETELLLIGAPLFYGEQRGGRVFIYQRRQLGFEE\n",
      "description :  FG-GAP 5\n",
      "evidence :  12\n",
      "\n",
      "\n",
      "feature:  repeat\n",
      "location:  [506:563]\n",
      "seq:  VSELQGDPGYPLGRFGEAITALTDINGDGLVDVAVGAPLEEQGAVYIFNGRHGGLSP\n",
      "description :  FG-GAP 6\n",
      "evidence :  12\n",
      "\n",
      "\n",
      "feature:  repeat\n",
      "location:  [566:627]\n",
      "seq:  QRIEGTQVLSGIQWFGRSIHGVKDLEGDGLADVAVGAESQMIVLSSRPVVDMVTLMSFSPA\n",
      "description :  FG-GAP 7\n",
      "evidence :  12\n",
      "\n",
      "\n",
      "feature:  calcium-binding region\n",
      "location:  [467:476]\n",
      "seq:  DVDQDGETE\n",
      "evidence :  10\n",
      "\n",
      "\n",
      "feature:  calcium-binding region\n",
      "location:  [529:538]\n",
      "seq:  DINGDGLVD\n",
      "evidence :  10\n",
      "\n",
      "\n",
      "feature:  calcium-binding region\n",
      "location:  [589:598]\n",
      "seq:  DLEGDGLAD\n",
      "evidence :  10\n",
      "\n",
      "\n",
      "feature:  modified residue\n",
      "location:  [1164:1165]\n",
      "seq:  S\n",
      "description :  Phosphoserine\n",
      "evidence :  18\n",
      "\n",
      "\n",
      "feature:  glycosylation site\n",
      "location:  [64:65]\n",
      "seq:  N\n",
      "description :  N-linked (GlcNAc...) asparagine\n",
      "evidence :  10\n",
      "\n",
      "\n",
      "feature:  glycosylation site\n",
      "location:  [88:89]\n",
      "seq:  N\n",
      "description :  N-linked (GlcNAc...) asparagine\n",
      "evidence :  10\n",
      "\n",
      "\n",
      "feature:  glycosylation site\n",
      "location:  [187:188]\n",
      "seq:  N\n",
      "description :  N-linked (GlcNAc...) asparagine\n",
      "evidence :  20\n",
      "\n",
      "\n",
      "feature:  glycosylation site\n",
      "location:  [648:649]\n",
      "seq:  N\n",
      "description :  N-linked (GlcNAc...) asparagine\n",
      "evidence :  10\n",
      "\n",
      "\n",
      "feature:  glycosylation site\n",
      "location:  [669:670]\n",
      "seq:  N\n",
      "description :  N-linked (GlcNAc...) asparagine\n",
      "evidence :  10\n",
      "\n",
      "\n",
      "feature:  glycosylation site\n",
      "location:  [725:726]\n",
      "seq:  N\n",
      "description :  N-linked (GlcNAc...) asparagine\n",
      "evidence :  10\n",
      "\n",
      "\n",
      "feature:  glycosylation site\n",
      "location:  [729:730]\n",
      "seq:  N\n",
      "description :  N-linked (GlcNAc...) asparagine\n",
      "evidence :  10\n",
      "\n",
      "\n",
      "feature:  glycosylation site\n",
      "location:  [861:862]\n",
      "seq:  N\n",
      "description :  N-linked (GlcNAc...) asparagine\n",
      "evidence :  10\n",
      "\n",
      "\n",
      "feature:  glycosylation site\n",
      "location:  [884:885]\n",
      "seq:  N\n",
      "description :  N-linked (GlcNAc...) asparagine\n",
      "evidence :  10\n",
      "\n",
      "\n",
      "feature:  glycosylation site\n",
      "location:  [896:897]\n",
      "seq:  N\n",
      "description :  N-linked (GlcNAc...) asparagine\n",
      "evidence :  10\n",
      "\n",
      "\n",
      "feature:  glycosylation site\n",
      "location:  [1059:1060]\n",
      "seq:  N\n",
      "description :  N-linked (GlcNAc...) asparagine\n",
      "evidence :  10\n",
      "\n",
      "\n",
      "feature:  glycosylation site\n",
      "location:  [1070:1071]\n",
      "seq:  N\n",
      "description :  N-linked (GlcNAc...) asparagine\n",
      "evidence :  10\n",
      "\n",
      "\n",
      "feature:  disulfide bond\n",
      "location:  [72:80]\n",
      "seq:  CQSGTGHC\n",
      "evidence :  8\n",
      "\n",
      "\n",
      "feature:  disulfide bond\n",
      "location:  [110:129]\n",
      "seq:  CDPGLSRTCDQNTYLSGLC\n",
      "evidence :  8\n",
      "\n",
      "\n",
      "feature:  disulfide bond\n",
      "location:  [652:707]\n",
      "seq:  CFQIKSLIPQFQGRLVANLTYTLQLDGHRTRRRGLFPGGRHELRRNIAVTTSMSC\n",
      "evidence :  8\n",
      "\n",
      "\n",
      "feature:  disulfide bond\n",
      "location:  [770:777]\n",
      "seq:  CGEDKKC\n",
      "evidence :  8\n",
      "\n",
      "\n",
      "feature:  disulfide bond\n",
      "location:  [844:861]\n",
      "seq:  CEELPEESRLLSRALSC\n",
      "evidence :  8\n",
      "\n",
      "\n",
      "feature:  disulfide bond\n",
      "location:  [997:1013]\n",
      "seq:  CHYEDLERLPDAAEPC\n",
      "evidence :  8\n",
      "\n",
      "\n",
      "feature:  disulfide bond\n",
      "location:  [1020:1052]\n",
      "seq:  CPVVFRQEILVQVIGTLELVGEIEASSMFSLC\n",
      "evidence :  8\n",
      "\n",
      "\n",
      "feature:  splice variant\n",
      "location:  [109:192]\n",
      "seq:  ACDPGLSRTCDQNTYLSGLCYLFRQNLQGPMLQGRPGFQECIKGNVDLVFLFDGSMSLQPDEFQKILDFMKDVMKKLSNTSYQ\n",
      "description :  In isoform 3.\n",
      "id :  VSP_042842\n",
      "evidence :  26\n",
      "\n",
      "\n",
      "feature:  splice variant\n",
      "location:  [745:746]\n",
      "seq:  Q\n",
      "description :  In isoform 3.\n",
      "id :  VSP_042843\n",
      "evidence :  26\n",
      "\n",
      "\n",
      "feature:  splice variant\n",
      "location:  [953:954]\n",
      "seq:  Q\n",
      "description :  In isoform 2.\n",
      "id :  VSP_002738\n",
      "evidence :  27\n",
      "original :  Q\n",
      "variation :  QGVHGLVEMQTSKQILCRPAGDAEHTVGAQEGELPCPWGVSEAFRDNIRAGPCR\n",
      "\n",
      "\n",
      "feature:  sequence variant\n",
      "location:  [143:144]\n",
      "seq:  R\n",
      "description :  In dbSNP:rs34166708.\n",
      "id :  VAR_025235\n",
      "evidence :  25\n",
      "original :  R\n",
      "variation :  H\n",
      "\n",
      "\n"
     ]
    },
    {
     "ename": "ValueError",
     "evalue": "invalid literal for int() with base 10: '13 22 25'",
     "output_type": "error",
     "traceback": [
      "\u001B[0;31m---------------------------------------------------------------------------\u001B[0m",
      "\u001B[0;31mValueError\u001B[0m                                Traceback (most recent call last)",
      "\u001B[0;32m<ipython-input-43-11a99dc489b5>\u001B[0m in \u001B[0;36m<module>\u001B[0;34m\u001B[0m\n\u001B[1;32m      1\u001B[0m \u001B[0;32mfor\u001B[0m \u001B[0mfeature\u001B[0m \u001B[0;32min\u001B[0m \u001B[0mprot_ref\u001B[0m\u001B[0;34m.\u001B[0m\u001B[0mfeatures\u001B[0m\u001B[0;34m:\u001B[0m\u001B[0;34m\u001B[0m\u001B[0;34m\u001B[0m\u001B[0m\n\u001B[1;32m      2\u001B[0m     \u001B[0;32mif\u001B[0m \u001B[0;34m\"evidence\"\u001B[0m \u001B[0;32min\u001B[0m \u001B[0mfeature\u001B[0m\u001B[0;34m.\u001B[0m\u001B[0mqualifiers\u001B[0m\u001B[0;34m:\u001B[0m\u001B[0;34m\u001B[0m\u001B[0;34m\u001B[0m\u001B[0m\n\u001B[0;32m----> 3\u001B[0;31m         \u001B[0;32mif\u001B[0m \u001B[0mint\u001B[0m\u001B[0;34m(\u001B[0m\u001B[0mfeature\u001B[0m\u001B[0;34m.\u001B[0m\u001B[0mqualifiers\u001B[0m\u001B[0;34m[\u001B[0m\u001B[0;34m\"evidence\"\u001B[0m\u001B[0;34m]\u001B[0m\u001B[0;34m)\u001B[0m \u001B[0;34m>=\u001B[0m \u001B[0;36m2\u001B[0m\u001B[0;34m:\u001B[0m\u001B[0;34m\u001B[0m\u001B[0;34m\u001B[0m\u001B[0m\n\u001B[0m\u001B[1;32m      4\u001B[0m             \u001B[0mprint\u001B[0m\u001B[0;34m(\u001B[0m\u001B[0;34m\"feature: \"\u001B[0m\u001B[0;34m,\u001B[0m \u001B[0mfeature\u001B[0m\u001B[0;34m.\u001B[0m\u001B[0mtype\u001B[0m\u001B[0;34m)\u001B[0m\u001B[0;34m\u001B[0m\u001B[0;34m\u001B[0m\u001B[0m\n\u001B[1;32m      5\u001B[0m             \u001B[0mprint\u001B[0m\u001B[0;34m(\u001B[0m\u001B[0;34m\"location: \"\u001B[0m\u001B[0;34m,\u001B[0m \u001B[0mfeature\u001B[0m\u001B[0;34m.\u001B[0m\u001B[0mlocation\u001B[0m\u001B[0;34m)\u001B[0m\u001B[0;34m\u001B[0m\u001B[0;34m\u001B[0m\u001B[0m\n",
      "\u001B[0;31mValueError\u001B[0m: invalid literal for int() with base 10: '13 22 25'"
     ]
    }
   ],
   "source": [
    "for feature in prot_ref.features:\n",
    "    if \"evidence\" in feature.qualifiers:\n",
    "        if int(feature.qualifiers[\"evidence\"]) >= 2:\n",
    "            print(\"feature: \", feature.type)\n",
    "            print(\"location: \", feature.location)\n",
    "            print(\"seq: \", prot_ref.seq[feature.location.nofuzzy_start:feature.location.nofuzzy_end])\n",
    "            for qual in feature.qualifiers.keys():\n",
    "                if qual != \"type\":\n",
    "                    print(qual,\": \", feature.qualifiers[qual])\n",
    "            print(\"\\n\")"
   ],
   "metadata": {
    "collapsed": false,
    "pycharm": {
     "name": "#%%\n"
    }
   }
  }
 ],
 "metadata": {
  "kernelspec": {
   "display_name": "Python 3",
   "language": "python",
   "name": "python3"
  },
  "language_info": {
   "codemirror_mode": {
    "name": "ipython",
    "version": 2
   },
   "file_extension": ".py",
   "mimetype": "text/x-python",
   "name": "python",
   "nbconvert_exporter": "python",
   "pygments_lexer": "ipython2",
   "version": "2.7.6"
  }
 },
 "nbformat": 4,
 "nbformat_minor": 0
}