{
 "cells": [
  {
   "cell_type": "markdown",
   "metadata": {
    "collapsed": true,
    "pycharm": {
     "name": "#%% md\n"
    }
   },
   "source": [
    "# Registo no GenBank\n",
    "\n",
    "## Verificar as anotações correspondentes aos genes de interesse;"
   ]
  },
  {
   "cell_type": "code",
   "execution_count": 6,
   "outputs": [],
   "source": [
    "from scripts_python import gbSearch\n",
    "import os\n",
    "from Bio import SeqIO, Entrez\n",
    "\n",
    "a = %pwd\n",
    "wd = (a.rsplit('/',1))[0]\n",
    "\n",
    "seq_id = \"NM_001114380\""
   ],
   "metadata": {
    "collapsed": false,
    "pycharm": {
     "name": "#%%\n"
    }
   }
  },
  {
   "cell_type": "code",
   "execution_count": 7,
   "outputs": [],
   "source": [
    "handle = Entrez.efetch(db=\"nucleotide\",\n",
    "                       id=seq_id,\n",
    "                       rettype=\"gb\",\n",
    "                       retmode=\"text\")\n",
    "\n",
    "file_path = os.path.join(wd,\"data/reference/ITGAL\", \"ITGAL_gb.gb\")\n",
    "with open(file_path, 'w') as file:\n",
    "    file.write(handle.read())"
   ],
   "metadata": {
    "collapsed": false,
    "pycharm": {
     "name": "#%%\n"
    }
   }
  },
  {
   "cell_type": "code",
   "execution_count": 8,
   "outputs": [
    {
     "name": "stdout",
     "output_type": "stream",
     "text": [
      "molecule_type :  mRNA\n",
      "topology :  linear\n",
      "data_file_division :  PRI\n",
      "date :  12-DEC-2020\n",
      "accessions :  ['NM_001114380']\n",
      "sequence_version :  2\n",
      "keywords :  ['RefSeq']\n",
      "source :  Homo sapiens (human)\n",
      "organism :  Homo sapiens\n",
      "taxonomy :  ['Eukaryota', 'Metazoa', 'Chordata', 'Craniata', 'Vertebrata', 'Euteleostomi', 'Mammalia', 'Eutheria', 'Euarchontoglires', 'Primates', 'Haplorrhini', 'Catarrhini', 'Hominidae', 'Homo']\n",
      "references :  [Reference(title='Perlecan regulates pericyte dynamics in the maintenance and repair of the blood-brain barrier', ...), Reference(title='Aggregatibacter actinomycetemcomitans leukotoxin causes activation of lymphocyte function-associated antigen 1', ...), Reference(title='The down-regulation of hsa_circ_0012919, the sponge for miR-125a-3p, contributes to DNA methylation of CD11a and CD70 in CD4(+) T cells of systemic lupus erythematous', ...), Reference(title='Direction of actin flow dictates integrin LFA-1 orientation during leukocyte migration', ...), Reference(title='Extracellular ISG15 Signals Cytokine Secretion through the LFA-1 Integrin Receptor', ...), Reference(title='Molecular cloning of ICAM-3, a third ligand for LFA-1, constitutively expressed on resting leukocytes', ...), Reference(title='Differentially regulated cell surface expression of leukocyte adhesion receptors on neutrophils', ...), Reference(title='CD27 expression by a distinct subpopulation of human B lymphocytes', ...), Reference(title='T-cell receptor cross-linking transiently stimulates adhesiveness through LFA-1', ...), Reference(title='Primary structure of the leukocyte function-associated molecule-1 alpha subunit: an integrin with an embedded domain defining a protein superfamily', ...)]\n",
      "comment :  REVIEWED REFSEQ: This record has been curated by NCBI staff. The\n",
      "reference sequence was derived from BC008777.2 and CA430398.1.\n",
      "On May 31, 2019 this sequence version replaced NM_001114380.1.\n",
      "Summary: ITGAL encodes the integrin alpha L chain. Integrins are\n",
      "heterodimeric integral membrane proteins composed of an alpha chain\n",
      "and a beta chain. This I-domain containing alpha integrin combines\n",
      "with the beta 2 chain (ITGB2) to form the integrin lymphocyte\n",
      "function-associated antigen-1 (LFA-1), which is expressed on all\n",
      "leukocytes. LFA-1 plays a central role in leukocyte intercellular\n",
      "adhesion through interactions with its ligands, ICAMs 1-3\n",
      "(intercellular adhesion molecules 1 through 3), and also functions\n",
      "in lymphocyte costimulatory signaling. Two transcript variants\n",
      "encoding different isoforms have been found for this gene.\n",
      "[provided by RefSeq, Jul 2008].\n",
      "Transcript Variant: This variant (2) lacks an alternate in-frame\n",
      "segment and uses an alternate in-frame splice junction compared to\n",
      "variant 1. The resulting isoform (b) has the same N- and C-termini\n",
      "but is shorter compared to isoform a.\n",
      "Publication Note:  This RefSeq record includes a subset of the\n",
      "publications that are available for this gene. Please see the Gene\n",
      "record to access additional publications.\n",
      "COMPLETENESS: complete on the 3' end.\n",
      "structured_comment :  OrderedDict([('Evidence-Data', OrderedDict([('Transcript exon combination', 'BC008777.2 [ECO:0000332]'), ('RNAseq introns', 'single sample supports all introns SAMEA1965299, SAMEA1968540 [ECO:0000348]')]))])\n"
     ]
    }
   ],
   "source": [
    "path = os.path.join(wd, \"data/reference/ITGAL\", \"ITGAL_gb.gb\")\n",
    "seq_r = SeqIO.read(path, format=\"genbank\")\n",
    "for Key, Value in seq_r.annotations.items():\n",
    "    print(Key,\": \", Value)\n"
   ],
   "metadata": {
    "collapsed": false,
    "pycharm": {
     "name": "#%%\n"
    }
   }
  },
  {
   "cell_type": "markdown",
   "source": [
    "## Verificar e analisar a informação complementar fornecida pela lista de features e seus qualifiers"
   ],
   "metadata": {
    "collapsed": false
   }
  },
  {
   "cell_type": "code",
   "execution_count": 10,
   "outputs": [
    {
     "name": "stdout",
     "output_type": "stream",
     "text": [
      "gene\n",
      "[0:4877](+)\n",
      "None\n",
      "gene :  ['ITGAL']\n",
      "gene_synonym :  ['CD11A; LFA-1; LFA1A']\n",
      "note :  ['integrin subunit alpha L']\n",
      "db_xref :  ['GeneID:3683', 'HGNC:HGNC:6148', 'MIM:153370']\n",
      " \n",
      "CDS\n",
      "[96:3357](+)\n",
      "None\n",
      "gene :  ['ITGAL']\n",
      "gene_synonym :  ['CD11A; LFA-1; LFA1A']\n",
      "note :  ['isoform b precursor is encoded by transcript variant 2; LFA-1A; antigen CD11A (p180), lymphocyte function-associated antigen 1, alpha polypeptide; integrin, alpha L (antigen CD11A (p180), lymphocyte function-associated antigen 1; alpha polypeptide); LFA-1 alpha; integrin gene promoter; CD11 antigen-like family member A; leukocyte adhesion glycoprotein LFA-1 alpha chain; leukocyte function-associated molecule 1 alpha chain; integrin alpha-L']\n",
      "codon_start :  ['1']\n",
      "product :  ['integrin alpha-L isoform b precursor']\n",
      "protein_id :  ['NP_001107852.1']\n",
      "db_xref :  ['CCDS:CCDS45461.1', 'GeneID:3683', 'HGNC:HGNC:6148', 'MIM:153370']\n",
      "translation :  ['MKDSCITVMAMALLSGFFFFAPASSYNLDVRGARSFSPPRAGRHFGYRVLQVGNGVIVGAPGEGNSTGSLYQCQSGTGHCLPVTLRGSNYTSKYLGMTLATDPTDGSILFAAVQFSTSYKTEFDFSDYVKRKDPDALLKHVKHMLLLTNTFGAINYVATEVFREELGARPDATKVLIIITDGEATDSGNIDAAKDIIRYIIGIGKHFQTKESQETLHKFASKPASEFVKILDTFEKLKDLFTELQKKIYVIEGTSKQDLTSFNMELSSSGISADLSRGHAVVGAVGAKDWAGGFLDLKADLQDDTFIGNEPLTPEVRAGYLGYTVTWLPSRQKTSLLASGAPRYQHMGRVLLFQEPQGGGHWSQVQTIHGTQIGSYFGGELCGVDVDQDGETELLLIGAPLFYGEQRGGRVFIYQRRQLGFEEVSELQGDPGYPLGRFGEAITALTDINGDGLVDVAVGAPLEEQGAVYIFNGRHGGLSPQPSQRIEGTQVLSGIQWFGRSIHGVKDLEGDGLADVAVGAESQMIVLSSRPVVDMVTLMSFSPAEIPVHEVECSYSTSNKMKEGVNITICFQIKSLIPQFQGRLVANLTYTLQLDGHRTRRRGLFPGGRHELRRNIAVTTSMSCTDFSFHFPVCVQDLISPINVSLNFSLWEEEGTPRDQRAGKDIPPILRPSLHSETWEIPFEKNCGEDKKCEANLRVSFSPARSRALRLTAFASLSVELSLSNLEEDAYWVQLDLHFPPGLSFRKVEMLKPHSQIPVSCEELPEESRLLSRALSCNVSSPIFKAGHSVALQMMFNTLVNSSWGDSVELHANVTCNNEDSDLLEDNSATTIIPILYPINILIQDQEDSTLYVSFTPKGPKIHQVKHMYQVRIQPSIHDHNIPTLEAVVGVPQPPSEGPITHQWSVQMEPPVPCHYEDLERLPDAAEPCLPGALFRCPVVFRQEILVQVIGTLELVGEIEASSMFSLCSSLSISFNSSKHFHLYGSNASLAQVVMKVDVVYEKQMLYLYVLSGIGGLLLLLLIFIVLYKVGFFKRNLKEKMEAGRGVPNGIPAEDSEQLASGQEAGDPGCLKPLHEKDSESGGGKD']\n",
      " \n"
     ]
    }
   ],
   "source": [
    "for feature in seq_r.features:\n",
    "    if feature.type in [\"gene\", \"CDS\"]:\n",
    "        if feature.qualifiers[\"gene\"][0] == \"ITGAL\":\n",
    "            interest_gene = feature\n",
    "            print(feature.type)\n",
    "            print(feature.location)\n",
    "            print(feature.ref_db)\n",
    "            for Key,Value in feature.qualifiers.items():\n",
    "                print(Key,\": \", Value)\n",
    "            print(\" \")"
   ],
   "metadata": {
    "collapsed": false,
    "pycharm": {
     "name": "#%%\n"
    }
   }
  },
  {
   "cell_type": "markdown",
   "source": [
    "## Referências em outras bases de dados"
   ],
   "metadata": {
    "collapsed": false,
    "pycharm": {
     "name": "#%% md\n"
    }
   }
  },
  {
   "cell_type": "code",
   "execution_count": 11,
   "outputs": [
    {
     "name": "stdout",
     "output_type": "stream",
     "text": [
      "taxon:9606\n",
      "GeneID:3683\n",
      "HGNC:HGNC:6148\n",
      "MIM:153370\n",
      "CCDS:CCDS45461.1\n",
      "GeneID:3683\n",
      "HGNC:HGNC:6148\n",
      "MIM:153370\n"
     ]
    }
   ],
   "source": [
    "refs = []\n",
    "\n",
    "for feature in seq_r.features:\n",
    "    if \"db_xref\" in feature.qualifiers:\n",
    "        refs.extend(feature.qualifiers[\"db_xref\"])\n",
    "\n",
    "for ref in refs:\n",
    "    print(ref)"
   ],
   "metadata": {
    "collapsed": false,
    "pycharm": {
     "name": "#%%\n"
    }
   }
  }
 ],
 "metadata": {
  "kernelspec": {
   "display_name": "Python 3",
   "language": "python",
   "name": "python3"
  },
  "language_info": {
   "codemirror_mode": {
    "name": "ipython",
    "version": 2
   },
   "file_extension": ".py",
   "mimetype": "text/x-python",
   "name": "python",
   "nbconvert_exporter": "python",
   "pygments_lexer": "ipython2",
   "version": "2.7.6"
  }
 },
 "nbformat": 4,
 "nbformat_minor": 0
}