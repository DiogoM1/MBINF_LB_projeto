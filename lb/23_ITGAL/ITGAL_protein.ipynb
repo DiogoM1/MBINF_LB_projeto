{
 "cells": [
  {
   "cell_type": "markdown",
   "metadata": {
    "collapsed": true,
    "pycharm": {
     "name": "#%% md\n"
    }
   },
   "source": [
    "# Propriedades da Proteína\n",
    "\n",
    "## Obtenção da Sequência\n",
    "Foi utilizado o *site* do [Ensembl](https://www.ensembl.org/Homo_sapiens/Gene/Summary?db=core;g=ENSG00000005844;r=16:30472658-30523185), para obter a hiperligação para o UniProt, [P20701-1](https://www.uniprot.org/uniprot/P20701-1).\n",
    "Foi feito o download em formato FASTA da isoforma P20701-1, que é considerada a sequência canónica.\n",
    "\n",
    "## Estruturas Secundárias\n",
    "Foi selecionado o organismo *Homo sapiens* e como foram obtidos bastantes resultados possíveis, escolhemos a proteína com o identificador [5E6U](http://www.rcsb.org/structure/5E6U), pois cumpria os requisitos de pertencer ao organismo pretendido, uma das macromoléculas corresponde à integrina alfa-L (ITAL) e porque apresenta o maior número de ligandos o que se traduz numa maior informação sobre a proteína. Ao observar a representação 3D da proteína concluímos que a estrutura secundária desta é composta por folhas-beta e alfa-hélices."
   ]
  },
  {
   "cell_type": "code",
   "execution_count": 1,
   "metadata": {
    "pycharm": {
     "name": "#%%\n"
    }
   },
   "outputs": [
    {
     "data": {
      "application/vnd.jupyter.widget-view+json": {
       "model_id": "e47a6dac31f34d008c7fcebf2206789b",
       "version_major": 2,
       "version_minor": 0
      },
      "text/plain": []
     },
     "metadata": {},
     "output_type": "display_data"
    }
   ],
   "source": [
    "from Bio.PDB import PDBList, PDBParser, MMCIFParser\n",
    "import os\n",
    "import nglview as nv\n",
    "\n",
    "# reference vars\n",
    "a = %pwd\n",
    "wd = (a.rsplit('/',2))[0]\n",
    "gene = \"ITGAL\"\n",
    "seq_id = \"NM_001114380\"\n",
    "prot_seq_id = \"P20701\"\n",
    "prot_pdb_id = \"1RD4\"\n",
    "prot_strucuture_file = os.path.join(wd,\"data/structures\", gene,prot_pdb_id.lower()+\".cif\")"
   ]
  },
  {
   "cell_type": "code",
   "execution_count": 2,
   "metadata": {
    "pycharm": {
     "name": "#%%\n"
    }
   },
   "outputs": [
    {
     "name": "stderr",
     "output_type": "stream",
     "text": [
      "WARNING: The default download format has changed from PDB to PDBx/mmCif\n"
     ]
    },
    {
     "name": "stdout",
     "output_type": "stream",
     "text": [
      "Downloading PDB structure '1RD4'...\n"
     ]
    },
    {
     "data": {
      "text/plain": [
       "'/home/dm/PycharmProjects/MBINF_LB_projeto/data/structures/ITGAL/1rd4.cif'"
      ]
     },
     "execution_count": 2,
     "metadata": {},
     "output_type": "execute_result"
    }
   ],
   "source": [
    "# retrive PDB file\n",
    "pdbl = PDBList()\n",
    "pdbl.retrieve_pdb_file(prot_pdb_id, pdir= prot_strucuture_file.rsplit(\"/\",1)[0], overwrite=True)"
   ]
  },
  {
   "cell_type": "code",
   "execution_count": 3,
   "metadata": {
    "pycharm": {
     "name": "#%%\n"
    }
   },
   "outputs": [
    {
     "name": "stderr",
     "output_type": "stream",
     "text": [
      "/home/dm/anaconda3/envs/lb_project/lib/python3.8/site-packages/Bio/PDB/StructureBuilder.py:89: PDBConstructionWarning: WARNING: Chain A is discontinuous at line 5916.\n",
      "  warnings.warn(\n",
      "/home/dm/anaconda3/envs/lb_project/lib/python3.8/site-packages/Bio/PDB/StructureBuilder.py:89: PDBConstructionWarning: WARNING: Chain B is discontinuous at line 5950.\n",
      "  warnings.warn(\n",
      "/home/dm/anaconda3/envs/lb_project/lib/python3.8/site-packages/Bio/PDB/StructureBuilder.py:89: PDBConstructionWarning: WARNING: Chain C is discontinuous at line 5984.\n",
      "  warnings.warn(\n",
      "/home/dm/anaconda3/envs/lb_project/lib/python3.8/site-packages/Bio/PDB/StructureBuilder.py:89: PDBConstructionWarning: WARNING: Chain D is discontinuous at line 6018.\n",
      "  warnings.warn(\n"
     ]
    },
    {
     "data": {
      "application/vnd.jupyter.widget-view+json": {
       "model_id": "4f7627df320044f0b3f5105419c81b24",
       "version_major": 2,
       "version_minor": 0
      },
      "text/plain": [
       "NGLWidget()"
      ]
     },
     "metadata": {},
     "output_type": "display_data"
    }
   ],
   "source": [
    "# Parse File\n",
    "parser = MMCIFParser()\n",
    "structure = parser.get_structure(prot_pdb_id, prot_strucuture_file)\n",
    "\n",
    "# 3d view the protein structure\n",
    "view = nv.show_biopython(structure)\n",
    "view"
   ]
  },
  {
   "cell_type": "markdown",
   "source": [
    ":::{figure, myclass}\n",
    "![Figura 1 - Conformação tridimensional da proteína ITAL.](img/ITGAL_3D.jpeg)\n",
    "\n",
    "Conformação tridimensional da proteína ITAL.\n",
    ":::"
   ],
   "metadata": {
    "collapsed": false,
    "pycharm": {
     "name": "#%% md\n"
    }
   }
  },
  {
   "cell_type": "code",
   "execution_count": 4,
   "metadata": {
    "pycharm": {
     "name": "#%%\n"
    }
   },
   "outputs": [
    {
     "name": "stdout",
     "output_type": "stream",
     "text": [
      "_struct_ref\n",
      "id : ['1']\n",
      "db_name : ['UNP']\n",
      "db_code : ['ITAL_HUMAN']\n",
      "pdbx_db_accession : ['P20701']\n",
      "entity_id : ['1']\n",
      "pdbx_seq_one_letter_code : ['CIKGNVDLVFLFDGSMSLQPDEFQKILDFMKDVMKKLSNTSYQFAAVQFSTSYKTEFDFSDYVKRKDPDALLKHVKHMLL\\nLTNTFGAINYVATEVFREELGARPDATKVLIIITDGEATDSGNIDAAKDIIRYIIGIGKHFQTKESQETLHKFASKPASE\\nFVKILDTFEKLKDLFTELQKKIYVIEG']\n",
      "pdbx_align_begin : ['150']\n",
      "pdbx_db_isoform : ['?']\n",
      "\n",
      "\n",
      "_struct_ref_seq\n",
      "align_id : ['1', '2', '3', '4']\n",
      "ref_id : ['1', '1', '1', '1']\n",
      "pdbx_PDB_id_code : ['1RD4', '1RD4', '1RD4', '1RD4']\n",
      "pdbx_strand_id : ['A', 'B', 'C', 'D']\n",
      "seq_align_beg : ['5', '5', '5', '5']\n",
      "pdbx_seq_align_beg_ins_code : ['?', '?', '?', '?']\n",
      "seq_align_end : ['191', '191', '191', '191']\n",
      "pdbx_seq_align_end_ins_code : ['?', '?', '?', '?']\n",
      "pdbx_db_accession : ['P20701', 'P20701', 'P20701', 'P20701']\n",
      "db_align_beg : ['150', '150', '150', '150']\n",
      "pdbx_db_align_beg_ins_code : ['?', '?', '?', '?']\n",
      "db_align_end : ['336', '336', '336', '336']\n",
      "pdbx_db_align_end_ins_code : ['?', '?', '?', '?']\n",
      "pdbx_auth_seq_align_beg : ['125', '125', '125', '125']\n",
      "pdbx_auth_seq_align_end : ['311', '311', '311', '311']\n",
      "\n",
      "\n",
      "_struct_ref_seq_dif\n",
      "align_id : ['1', '1', '1', '1', '2', '2', '2', '2', '3', '3', '3', '3', '4', '4', '4', '4']\n",
      "pdbx_pdb_id_code : ['1RD4', '1RD4', '1RD4', '1RD4', '1RD4', '1RD4', '1RD4', '1RD4', '1RD4', '1RD4', '1RD4', '1RD4', '1RD4', '1RD4', '1RD4', '1RD4']\n",
      "mon_id : ['GLY', 'ALA', 'MET', 'SER', 'GLY', 'ALA', 'MET', 'SER', 'GLY', 'ALA', 'MET', 'SER', 'GLY', 'ALA', 'MET', 'SER']\n",
      "pdbx_pdb_strand_id : ['A', 'A', 'A', 'A', 'B', 'B', 'B', 'B', 'C', 'C', 'C', 'C', 'D', 'D', 'D', 'D']\n",
      "seq_num : ['1', '2', '3', '4', '1', '2', '3', '4', '1', '2', '3', '4', '1', '2', '3', '4']\n",
      "pdbx_pdb_ins_code : ['?', '?', '?', '?', '?', '?', '?', '?', '?', '?', '?', '?', '?', '?', '?', '?']\n",
      "pdbx_seq_db_name : ['UNP', 'UNP', 'UNP', 'UNP', 'UNP', 'UNP', 'UNP', 'UNP', 'UNP', 'UNP', 'UNP', 'UNP', 'UNP', 'UNP', 'UNP', 'UNP']\n",
      "pdbx_seq_db_accession_code : ['P20701', 'P20701', 'P20701', 'P20701', 'P20701', 'P20701', 'P20701', 'P20701', 'P20701', 'P20701', 'P20701', 'P20701', 'P20701', 'P20701', 'P20701', 'P20701']\n",
      "db_mon_id : ['?', '?', '?', '?', '?', '?', '?', '?', '?', '?', '?', '?', '?', '?', '?', '?']\n",
      "pdbx_seq_db_seq_num : ['?', '?', '?', '?', '?', '?', '?', '?', '?', '?', '?', '?', '?', '?', '?', '?']\n",
      "details : ['CLONING ARTIFACT', 'CLONING ARTIFACT', 'CLONING ARTIFACT', 'CLONING ARTIFACT', 'CLONING ARTIFACT', 'CLONING ARTIFACT', 'CLONING ARTIFACT', 'CLONING ARTIFACT', 'CLONING ARTIFACT', 'CLONING ARTIFACT', 'CLONING ARTIFACT', 'CLONING ARTIFACT', 'CLONING ARTIFACT', 'CLONING ARTIFACT', 'CLONING ARTIFACT', 'CLONING ARTIFACT']\n",
      "pdbx_auth_seq_num : ['121', '122', '123', '124', '121', '122', '123', '124', '121', '122', '123', '124', '121', '122', '123', '124']\n",
      "pdbx_ordinal : ['1', '2', '3', '4', '5', '6', '7', '8', '9', '10', '11', '12', '13', '14', '15', '16']\n",
      "\n",
      "\n"
     ]
    }
   ],
   "source": [
    "from Bio.PDB.MMCIF2Dict import MMCIF2Dict\n",
    "import re\n",
    "\n",
    "mmcif_dict = MMCIF2Dict(prot_strucuture_file)\n",
    "\n",
    "structures = {}\n",
    "for value in mmcif_dict.keys():\n",
    "  if re.match('_struct_ref', value):\n",
    "    value_type = value.split(\".\",1)[0]\n",
    "    if value_type not in structures.keys():\n",
    "        structures[value_type] = {}\n",
    "    information = value.split(\".\",1)[1]\n",
    "    if information in structures[value_type].keys():\n",
    "        structures[value_type][information] = \", \".join([value[value_type][information], mmcif_dict[value]])\n",
    "    else:\n",
    "        structures[value_type][information] = mmcif_dict[value]\n",
    "\n",
    "for value_type in structures.keys():\n",
    "    print(value_type)\n",
    "    for information in structures[value_type].keys():\n",
    "        print(information, \":\", structures[value_type][information])\n",
    "    print(\"\\n\")"
   ]
  },
  {
   "cell_type": "markdown",
   "metadata": {
    "pycharm": {
     "name": "#%% md\n"
    }
   },
   "source": [
    "## Domínios da Proteína\n",
    "Foi utilizada a ferramenta Phobius para prever os domínios que esta proteína possui. Verificámos, na previsão, a existência de um domínio péptido sinal, um domínio não citoplasmático, um domínio transmembranar e um domínio citoplasmático.\n",
    "\n",
    ":::{figure,myclass}\n",
    "![Figura 1 - Previsão dos diferentes domínios da proteína ITAL.](img/phobius_ITGAL.png)\n",
    "\n",
    "Previsão dos diferentes domínios da proteína ITAL.\n",
    ":::\n",
    "\n",
    "~~~\n",
    "ID   sp|P20701|ITAL_HUMAN\n",
    "FT   SIGNAL        1     25\n",
    "FT   DOMAIN        1      9       N-REGION.\n",
    "FT   DOMAIN       10     20       H-REGION.\n",
    "FT   DOMAIN       21     25       C-REGION.\n",
    "FT   DOMAIN       26   1089       NON CYTOPLASMIC.\n",
    "FT   TRANSMEM   1090   1112\n",
    "FT   DOMAIN     1113   1170       CYTOPLASMIC.\n",
    "//\n",
    "~~~"
   ]
  },
  {
   "cell_type": "markdown",
   "metadata": {
    "pycharm": {
     "name": "#%% md\n"
    }
   },
   "source": [
    "## Localização da Proteína\n",
    "Utilizando a ferramenta Hum-mPLoc 2.0 foi previsto que a localização desta proteína é extracelular.\n",
    "\n",
    "## Locais de Glicosilação\n",
    "Os locais de glicosilação foram previstos usando a ferramenta NetNGlyc 1.0 Server.\n",
    "\n",
    "~~~\n",
    "Name:  sp_P20701_ITAL_HUMAN \tLength:  1170\n",
    "MKDSCITVMAMALLSGFFFFAPASSYNLDVRGARSFSPPRAGRHFGYRVLQVGNGVIVGAPGEGNSTGSLYQCQSGTGHC      80\n",
    "LPVTLRGSNYTSKYLGMTLATDPTDGSILACDPGLSRTCDQNTYLSGLCYLFRQNLQGPMLQGRPGFQECIKGNVDLVFL     160\n",
    "FDGSMSLQPDEFQKILDFMKDVMKKLSNTSYQFAAVQFSTSYKTEFDFSDYVKRKDPDALLKHVKHMLLLTNTFGAINYV     240\n",
    "ATEVFREELGARPDATKVLIIITDGEATDSGNIDAAKDIIRYIIGIGKHFQTKESQETLHKFASKPASEFVKILDTFEKL     320\n",
    "KDLFTELQKKIYVIEGTSKQDLTSFNMELSSSGISADLSRGHAVVGAVGAKDWAGGFLDLKADLQDDTFIGNEPLTPEVR     400\n",
    "AGYLGYTVTWLPSRQKTSLLASGAPRYQHMGRVLLFQEPQGGGHWSQVQTIHGTQIGSYFGGELCGVDVDQDGETELLLI     480\n",
    "GAPLFYGEQRGGRVFIYQRRQLGFEEVSELQGDPGYPLGRFGEAITALTDINGDGLVDVAVGAPLEEQGAVYIFNGRHGG     560\n",
    "LSPQPSQRIEGTQVLSGIQWFGRSIHGVKDLEGDGLADVAVGAESQMIVLSSRPVVDMVTLMSFSPAEIPVHEVECSYST     640\n",
    "SNKMKEGVNITICFQIKSLIPQFQGRLVANLTYTLQLDGHRTRRRGLFPGGRHELRRNIAVTTSMSCTDFSFHFPVCVQD     720\n",
    "LISPINVSLNFSLWEEEGTPRDQRAQGKDIPPILRPSLHSETWEIPFEKNCGEDKKCEANLRVSFSPARSRALRLTAFAS     800\n",
    "LSVELSLSNLEEDAYWVQLDLHFPPGLSFRKVEMLKPHSQIPVSCEELPEESRLLSRALSCNVSSPIFKAGHSVALQMMF     880\n",
    "NTLVNSSWGDSVELHANVTCNNEDSDLLEDNSATTIIPILYPINILIQDQEDSTLYVSFTPKGPKIHQVKHMYQVRIQPS     960\n",
    "IHDHNIPTLEAVVGVPQPPSEGPITHQWSVQMEPPVPCHYEDLERLPDAAEPCLPGALFRCPVVFRQEILVQVIGTLELV    1040\n",
    "GEIEASSMFSLCSSLSISFNSSKHFHLYGSNASLAQVVMKVDVVYEKQMLYLYVLSGIGGLLLLLLIFIVLYKVGFFKRN    1120\n",
    "LKEKMEAGRGVPNGIPAEDSEQLASGQEAGDPGCLKPLHEKDSESGGGKD\n",
    "................................................................N...............      80\n",
    "........N.......................................................................     160\n",
    "...........................N....................................................     240\n",
    "................................................................................     320\n",
    "................................................................................     400\n",
    "................................................................................     480\n",
    "................................................................................     560\n",
    "................................................................................     640\n",
    "........N....................N..................................................     720\n",
    ".....N...N......................................................................     800\n",
    ".............................................................N..................     880\n",
    "................N...............................................................     960\n",
    "................................................................................    1040\n",
    "................................................................................    1120\n",
    "..................................................                                  1200\n",
    "\n",
    "(Threshold=0.5)\n",
    "----------------------------------------------------------------------\n",
    "SeqName      Position  Potential   Jury    N-Glyc\n",
    "\t\t\t\t agreement result\n",
    "----------------------------------------------------------------------\n",
    "sp_P20701_ITAL_HUMAN   65 NSTG   0.7303     (9/9)   ++\n",
    "sp_P20701_ITAL_HUMAN   89 NYTS   0.7199     (9/9)   ++\n",
    "sp_P20701_ITAL_HUMAN  188 NTSY   0.7023     (9/9)   ++\n",
    "sp_P20701_ITAL_HUMAN  649 NITI   0.6562     (8/9)   +\n",
    "sp_P20701_ITAL_HUMAN  670 NLTY   0.6267     (8/9)   +\n",
    "sp_P20701_ITAL_HUMAN  726 NVSL   0.6187     (8/9)   +\n",
    "sp_P20701_ITAL_HUMAN  730 NFSL   0.5626     (7/9)   +\n",
    "sp_P20701_ITAL_HUMAN  862 NVSS   0.6993     (9/9)   ++\n",
    "sp_P20701_ITAL_HUMAN  885 NSSW   0.4548     (6/9)   -\n",
    "sp_P20701_ITAL_HUMAN  897 NVTC   0.7060     (9/9)   ++\n",
    "sp_P20701_ITAL_HUMAN 1060 NSSK   0.4373     (7/9)   -\n",
    "sp_P20701_ITAL_HUMAN 1071 NASL   0.4373     (6/9)   -\n",
    "----------------------------------------------------------------------\n",
    "~~~\n",
    "\n",
    ":::{figure,myclass}\n",
    "![Figura 2 - Previsão dos locais de glicosilação da proteína ITAL.](img/NetNGlyc_ITGAL.gif)\n",
    "\n",
    "Previsão dos locais de glicosilação da proteína ITAL.\n",
    ":::\n",
    "\n",
    "## Locais de Fosforilação\n",
    "Utilizamos a ferramenta NetPhos 3.1 para prever o local fosforilação da serina, treonina ou tirosina em proteínas de organismos eucariotas.\n",
    "\n",
    "~~~\n",
    "    SPPITALHXMANINTEGRINALPHALXSHXMXSAPIENSXXGNITGALPE   #     50\n",
    "    SVMKDSCITVMAMALLSGFFFFAPASSYNLDVRGARSFSPPRAGRHFGYR   #    100\n",
    "    VLQVGNGVIVGAPGEGNSTGSLYQCQSGTGHCLPVTLRGSNYTSKYLGMT   #    150\n",
    "    LATDPTDGSILACDPGLSRTCDQNTYLSGLCYLFRQNLQGPMLQGRPGFQ   #    200\n",
    "    ECIKGNVDLVFLFDGSMSLQPDEFQKILDFMKDVMKKLSNTSYQFAAVQF   #    250\n",
    "    STSYKTEFDFSDYVKRKDPDALLKHVKHMLLLTNTFGAINYVATEVFREE   #    300\n",
    "    LGARPDATKVLIIITDGEATDSGNIDAAKDIIRYIIGIGKHFQTKESQET   #    350\n",
    "    LHKFASKPASEFVKILDTFEKLKDLFTELQKKIYVIEGTSKQDLTSFNME   #    400\n",
    "    LSSSGISADLSRGHAVVGAVGAKDWAGGFLDLKADLQDDTFIGNEPLTPE   #    450\n",
    "    VRAGYLGYTVTWLPSRQKTSLLASGAPRYQHMGRVLLFQEPQGGGHWSQV   #    500\n",
    "    QTIHGTQIGSYFGGELCGVDVDQDGETELLLIGAPLFYGEQRGGRVFIYQ   #    550\n",
    "    RRQLGFEEVSELQGDPGYPLGRFGEAITALTDINGDGLVDVAVGAPLEEQ   #    600\n",
    "    GAVYIFNGRHGGLSPQPSQRIEGTQVLSGIQWFGRSIHGVKDLEGDGLAD   #    650\n",
    "    VAVGAESQMIVLSSRPVVDMVTLMSFSPAEIPVHEVECSYSTSNKMKEGV   #    700\n",
    "    NITICFQIKSLIPQFQGRLVANLTYTLQLDGHRTRRRGLFPGGRHELRRN   #    750\n",
    "    IAVTTSMSCTDFSFHFPVCVQDLISPINVSLNFSLWEEEGTPRDQRAQGK   #    800\n",
    "    DIPPILRPSLHSETWEIPFEKNCGEDKKCEANLRVSFSPARSRALRLTAF   #    850\n",
    "    ASLSVELSLSNLEEDAYWVQLDLHFPPGLSFRKVEMLKPHSQIPVSCEEL   #    900\n",
    "    PEESRLLSRALSCNVSSPIFKAGHSVALQMMFNTLVNSSWGDSVELHANV   #    950\n",
    "    TCNNEDSDLLEDNSATTIIPILYPINILIQDQEDSTLYVSFTPKGPKIHQ   #   1000\n",
    "    VKHMYQVRIQPSIHDHNIPTLEAVVGVPQPPSEGPITHQWSVQMEPPVPC   #   1050\n",
    "    HYEDLERLPDAAEPCLPGALFRCPVVFRQEILVQVIGTLELVGEIEASSM   #   1100\n",
    "    FSLCSSLSISFNSSKHFHLYGSNASLAQVVMKVDVVYEKQMLYLYVLSGI   #   1150\n",
    "    GGLLLLLLIFIVLYKVGFFKRNLKEKMEAGRGVPNGIPAEDSEQLASGQE   #   1200\n",
    "    AGDPGCLKPLHEKDSESGGGKD                               #   1250\n",
    "%1  ...........................S..........S...........   #     50\n",
    "%1  S....S..........S........S..........S.S.........Y.   #    100\n",
    "%1  .................S..S.....S........T...S.YT..Y....   #    150\n",
    "%1  ........................TY........................   #    200\n",
    "%1  ...............S.S....................S..SY.......   #    250\n",
    "%1  STS.......S.Y..............................T......   #    300\n",
    "%1  ..............T....T.S...........Y............S..T   #    350\n",
    "%1  .....S...........T........T......Y....TS.....S....   #    400\n",
    "%1  .SSS..S...S....................................T..   #    450\n",
    "%1  ..................TS........Y..................S..   #    500\n",
    "%1  .T........................T.......................   #    550\n",
    "%1  .........S........................................   #    600\n",
    "%1  ...Y.........S...S.....T...S......................   #    650\n",
    "%1  ......S.....SS.......T..S.S............Y.TS.......   #    700\n",
    "%1  .........S.......................T................   #    750\n",
    "%1  ...TTS.S.T.......................S......T.........   #    800\n",
    "%1  ........S..S.......................S.S...S........   #    850\n",
    "%1  ...S...S.S......Y............S..........S....S....   #    900\n",
    "%1  .......S...S............S.............S...S.......   #    950\n",
    "%1  ......S............................T.Y...T........   #   1000\n",
    "%1  ...........S......................................   #   1050\n",
    "%1  .....................................T.........SS.   #   1100\n",
    "%1  .S..SS...S..SS.....Y....S.........................   #   1150\n",
    "%1  ..............................................S...   #   1200\n",
    "%1  ..............S.S.....\n",
    "\n",
    "~~~\n",
    "\n",
    ":::{figure,myclass}\n",
    "![Figura 3 - Previsão dos locais de fosforilação da proteína ITAL.](img/netphos_ITGAL.gif)\n",
    "\n",
    "Previsão dos locais de fosforilação da proteína ITAL.\n",
    ":::"
   ]
  },
  {
   "cell_type": "markdown",
   "metadata": {
    "pycharm": {
     "name": "#%% md\n"
    }
   },
   "source": [
    "## Locais Conservados\n",
    "\n",
    "CDC - source: cd01450\n",
    "\n",
    "As integrinas são uma classe de recetores de adesão que ligam a matriz extracelular ao citoesqueleto e cooperam com recetores de fatores de crescimento para promover a sobrevivência celular, a progressão do ciclo celular e a migração celular. As integrinas consistem em dois subunidade, uma alfa e uam beta. Cada subunidade possui uma grande porção extracelular, um único segmento transmembranar e um curto domínio citoplasmático. Os domínios N-terminais das subunidades alfa e beta associam-se para formar o headpiece da integrina, que contém o local de ligação do ligante, enquanto os segmentos C-terminais atravessam a membrana plasmática e medeiam a interação com o citoesqueleto e com proteínas de sinalização. Os domínios VWA presentes nas subunidades alfa das integrinas parecem ser uma radiação da família do gene específica para cordados, encontrada apenas em vertebrados. Medeiam as interações proteína-proteína.\n"
   ]
  }
 ],
 "metadata": {
  "kernelspec": {
   "display_name": "Python 3",
   "language": "python",
   "name": "python3"
  },
  "language_info": {
   "codemirror_mode": {
    "name": "ipython",
    "version": 3
   },
   "file_extension": ".py",
   "mimetype": "text/x-python",
   "name": "python",
   "nbconvert_exporter": "python",
   "pygments_lexer": "ipython3",
   "version": "3.8.5"
  }
 },
 "nbformat": 4,
 "nbformat_minor": 1
}