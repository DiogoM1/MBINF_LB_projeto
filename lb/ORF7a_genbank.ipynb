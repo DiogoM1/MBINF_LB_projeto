{
 "cells": [
  {
   "cell_type": "markdown",
   "metadata": {
    "collapsed": true,
    "pycharm": {
     "name": "#%% md\n"
    }
   },
   "source": [
    "# Registo no GenBank\n",
    "\n",
    "## Verificar as anotações correspondentes aos genes de interesse;"
   ]
  },
  {
   "cell_type": "code",
   "execution_count": null,
   "outputs": [],
   "source": [
    "from Bio import SeqIO\n",
    "\n",
    "path = \"/home/dm/PycharmProjects/MBINF_LB_projeto/data/GeneBank/Homo Sapiens-BST2_2021-01-13/BST2_1519313265.gb\"\n",
    "seq_r = SeqIO.read(path, format=\"genbank\")\n",
    "for Key, Value in seq_r.annotations.items():\n",
    "    print(Key,\": \", Value)\n"
   ],
   "metadata": {
    "collapsed": false,
    "pycharm": {
     "name": "#%%\n"
    }
   }
  },
  {
   "cell_type": "markdown",
   "source": [
    "## Verificar e analisar a informação complementar fornecida pela lista de features e seus qualifiers"
   ],
   "metadata": {
    "collapsed": false
   }
  },
  {
   "cell_type": "code",
   "execution_count": null,
   "outputs": [],
   "source": [
    "print(seq_r.name)\n",
    "for feature in seq_r.features:\n",
    "    print('feature:', feature.type)\n",
    "    for Key,Value in feature.qualifiers.items():\n",
    "        print(Key,\": \", Value)\n",
    "    print(\"\")"
   ],
   "metadata": {
    "collapsed": false,
    "pycharm": {
     "name": "#%%\n"
    }
   }
  },
  {
   "cell_type": "markdown",
   "source": [
    "## Pode usar os campos de referências externas para identificar identificadores de outras bases de dados que permitam solidificar o conhecimento em relação a cada gene."
   ],
   "metadata": {
    "collapsed": false
   }
  },
  {
   "cell_type": "code",
   "execution_count": null,
   "outputs": [],
   "source": [
    "codes = seq_r.features[1].qualifiers['db_xref']\n",
    "codes.append(seq_r.id)\n",
    "print(codes)\n"
   ],
   "metadata": {
    "collapsed": false,
    "pycharm": {
     "name": "#%%\n"
    }
   }
  }
 ],
 "metadata": {
  "kernelspec": {
   "display_name": "Python 3",
   "language": "python",
   "name": "python3"
  },
  "language_info": {
   "codemirror_mode": {
    "name": "ipython",
    "version": 2
   },
   "file_extension": ".py",
   "mimetype": "text/x-python",
   "name": "python",
   "nbconvert_exporter": "python",
   "pygments_lexer": "ipython2",
   "version": "2.7.6"
  }
 },
 "nbformat": 4,
 "nbformat_minor": 0
}