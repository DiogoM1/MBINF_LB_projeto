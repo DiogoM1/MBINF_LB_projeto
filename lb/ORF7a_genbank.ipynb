{
 "cells": [
  {
   "cell_type": "markdown",
   "metadata": {
    "collapsed": true,
    "pycharm": {
     "name": "#%% md\n"
    }
   },
   "source": [
    "# Registo no GenBank\n",
    "\n",
    "## Verificar as anotações correspondentes aos genes de interesse;"
   ]
  },
  {
   "cell_type": "code",
   "execution_count": 34,
   "outputs": [],
   "source": [
    "from scripts_python import gbSearch\n",
    "import os\n",
    "from Bio import SeqIO, Entrez\n",
    "\n",
    "a = %pwd\n",
    "wd = (a.rsplit('/',1))[0]\n",
    "\n",
    "seq_id = \"MN908947.3\""
   ],
   "metadata": {
    "collapsed": false,
    "pycharm": {
     "name": "#%%\n"
    }
   }
  },
  {
   "cell_type": "code",
   "execution_count": 23,
   "outputs": [],
   "source": [
    "handle = Entrez.efetch(db=\"nucleotide\",\n",
    "                       id=seq_id,\n",
    "                       rettype=\"gb\",\n",
    "                       retmode=\"text\")\n",
    "\n",
    "file_path = os.path.join(wd,\"data/reference/ORF7a\", f\"{seq_id}.gb\")\n",
    "with open(file_path, 'w') as file:\n",
    "    file.write(handle.read())"
   ],
   "metadata": {
    "collapsed": false,
    "pycharm": {
     "name": "#%%\n"
    }
   }
  },
  {
   "cell_type": "code",
   "execution_count": 24,
   "outputs": [
    {
     "name": "stdout",
     "output_type": "stream",
     "text": [
      "molecule_type :  ss-RNA\n",
      "topology :  linear\n",
      "data_file_division :  VRL\n",
      "date :  18-MAR-2020\n",
      "accessions :  ['MN908947']\n",
      "sequence_version :  3\n",
      "keywords :  ['']\n",
      "source :  Severe acute respiratory syndrome coronavirus 2 (SARS-CoV-2)\n",
      "organism :  Severe acute respiratory syndrome coronavirus 2\n",
      "taxonomy :  ['Viruses', 'Riboviria', 'Orthornavirae', 'Pisuviricota', 'Pisoniviricetes', 'Nidovirales', 'Cornidovirineae', 'Coronaviridae', 'Orthocoronavirinae', 'Betacoronavirus', 'Sarbecovirus']\n",
      "references :  [Reference(title='A new coronavirus associated with human respiratory disease in China', ...), Reference(title='Direct Submission', ...)]\n",
      "comment :  On Jan 17, 2020 this sequence version replaced MN908947.2.\n",
      "structured_comment :  OrderedDict([('Assembly-Data', OrderedDict([('Assembly Method', 'Megahit v. V1.1.3'), ('Sequencing Technology', 'Illumina')]))])\n"
     ]
    }
   ],
   "source": [
    "path = os.path.join(wd, \"data/reference/ORF7a\",f\"{seq_id}.gb\")\n",
    "seq_r = SeqIO.read(path, format=\"genbank\")\n",
    "for Key, Value in seq_r.annotations.items():\n",
    "    print(Key,\": \", Value)\n"
   ],
   "metadata": {
    "collapsed": false,
    "pycharm": {
     "name": "#%%\n"
    }
   }
  },
  {
   "cell_type": "markdown",
   "source": [
    "## Verificar e analisar a informação complementar fornecida pela lista de features e seus qualifiers"
   ],
   "metadata": {
    "collapsed": false
   }
  },
  {
   "cell_type": "code",
   "execution_count": 30,
   "outputs": [
    {
     "name": "stdout",
     "output_type": "stream",
     "text": [
      "gene\n",
      "[27393:27759](+)\n",
      "None\n",
      "gene :  ['ORF7a']\n",
      " \n",
      "CDS\n",
      "[27393:27759](+)\n",
      "None\n",
      "gene :  ['ORF7a']\n",
      "codon_start :  ['1']\n",
      "product :  ['ORF7a protein']\n",
      "protein_id :  ['QHD43421.1']\n",
      "translation :  ['MKIILFLALITLATCELYHYQECVRGTTVLLKEPCSSGTYEGNSPFHPLADNKFALTCFSTQFAFACPDGVKHVYQLRARSVSPKLFIRQEEVQELYSPIFLIVAAIVFITLCFTLKRKTE']\n",
      " \n"
     ]
    }
   ],
   "source": [
    "for feature in seq_r.features:\n",
    "    if feature.type in [\"gene\", \"CDS\"]:\n",
    "        if feature.qualifiers[\"gene\"][0] == \"ORF7a\":\n",
    "            interest_gene = feature\n",
    "            print(feature.type)\n",
    "            print(feature.location)\n",
    "            print(feature.ref_db)\n",
    "            for Key,Value in feature.qualifiers.items():\n",
    "                print(Key,\": \", Value)\n",
    "            print(\" \")"
   ],
   "metadata": {
    "collapsed": false,
    "pycharm": {
     "name": "#%%\n"
    }
   }
  },
  {
   "cell_type": "markdown",
   "source": [
    "Não existe a marcaçao de outros IDs de outras Bases de Dados\n",
    "\n",
    "## Produzir um ficheiro FASTA para utiização futura"
   ],
   "metadata": {
    "collapsed": false,
    "pycharm": {
     "name": "#%% md\n"
    }
   }
  },
  {
   "cell_type": "code",
   "execution_count": 33,
   "outputs": [
    {
     "data": {
      "text/plain": "1"
     },
     "execution_count": 33,
     "metadata": {},
     "output_type": "execute_result"
    }
   ],
   "source": [
    "from Bio.SeqRecord import SeqRecord\n",
    "\n",
    "ORF7a_seq = seq_r.seq[interest_gene.location.nofuzzy_start:interest_gene.location.nofuzzy_end]\n",
    "ORF7a = SeqRecord(ORF7a_seq, f\"{seq_id} reference sequence ORF7a gene\", \"\", \"\")\n",
    "SeqIO.write(ORF7a, os.path.join(wd,\"data/reference/ORF7a\", f\"{seq_id}_ORF7a.fasta\"), \"fasta\")\n"
   ],
   "metadata": {
    "collapsed": false,
    "pycharm": {
     "name": "#%%\n"
    }
   }
  }
 ],
 "metadata": {
  "kernelspec": {
   "display_name": "Python 3",
   "language": "python",
   "name": "python3"
  },
  "language_info": {
   "codemirror_mode": {
    "name": "ipython",
    "version": 2
   },
   "file_extension": ".py",
   "mimetype": "text/x-python",
   "name": "python",
   "nbconvert_exporter": "python",
   "pygments_lexer": "ipython2",
   "version": "2.7.6"
  }
 },
 "nbformat": 4,
 "nbformat_minor": 0
}